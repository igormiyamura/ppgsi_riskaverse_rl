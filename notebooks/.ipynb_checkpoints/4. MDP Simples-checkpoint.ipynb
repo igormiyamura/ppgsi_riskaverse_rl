{
 "cells": [
  {
   "cell_type": "code",
   "execution_count": 1,
   "metadata": {
    "ExecuteTime": {
     "end_time": "2023-08-24T16:01:11.817760Z",
     "start_time": "2023-08-24T16:01:07.804162Z"
    },
    "code_folding": []
   },
   "outputs": [],
   "source": [
    "# Bibliotecas\n",
    "import sys, os, pandas as pd, numpy as np\n",
    "from os.path import exists\n",
    "import plotly.graph_objects as go\n",
    "sys.path.append('../')\n",
    "import plotly.express as px\n",
    "from plotly.colors import n_colors\n",
    "from scipy.interpolate import CubicSpline\n",
    "\n",
    "# Ambiente\n",
    "from env.SimpleMDP import SimpleMDP\n",
    "\n",
    "# Modelos\n",
    "from models.Neutral_VI import Neutral_VI\n",
    "from models.Neutral_PI import Neutral_PI\n",
    "\n",
    "from models.ExponentialUtility_RSPI import ExponentialUtility_RSPI\n",
    "from models.ExponentialUtility_RSVI import ExponentialUtility_RSVI\n",
    "\n",
    "from models.PieceLinear_RSPI import PieceLinear_RSPI\n",
    "from models.PieceLinear_RSVI import PieceLinear_RSVI\n",
    "\n",
    "# Utils\n",
    "import rl_utils.NBPlotting as nbp\n",
    "import rl_utils.NBManipulation as nbm\n",
    "import rl_utils.NBEvaluations as nbe\n",
    "\n",
    "import matplotlib.pyplot as plt\n",
    "\n",
    "%load_ext autoreload\n",
    "%autoreload 2"
   ]
  },
  {
   "cell_type": "markdown",
   "metadata": {},
   "source": [
    "# MDP Simples\n",
    "\n",
    "Apenas um estado $S$ com uma ação com uma probabilidade de chegar na meta $S_G$ ou voltar para a ação atual $S$."
   ]
  },
  {
   "cell_type": "code",
   "execution_count": 2,
   "metadata": {
    "ExecuteTime": {
     "end_time": "2023-08-24T16:01:11.926028Z",
     "start_time": "2023-08-24T16:01:11.819260Z"
    },
    "code_folding": [
     0,
     3
    ]
   },
   "outputs": [],
   "source": [
    "def NormalizeData(data):\n",
    "    return (data - np.min(data)) / (np.max(data) - np.min(data))\n",
    "\n",
    "def drange(start, stop, step):\n",
    "    r = start\n",
    "    while r < stop:\n",
    "        yield r\n",
    "        r += step"
   ]
  },
  {
   "cell_type": "markdown",
   "metadata": {},
   "source": [
    "# Teste de Sanidade"
   ]
  },
  {
   "cell_type": "code",
   "execution_count": 3,
   "metadata": {
    "ExecuteTime": {
     "end_time": "2023-08-24T16:01:12.050054Z",
     "start_time": "2023-08-24T16:01:11.928529Z"
    },
    "code_folding": []
   },
   "outputs": [],
   "source": [
    "# Configurações do ambiente\n",
    "states, actions = 1, 1\n",
    "epsilon = 0.000001\n",
    "\n",
    "s_mdp = SimpleMDP(num_states = states, \n",
    "                  num_actions = actions, \n",
    "                  _fixed_probability = 0.5, \n",
    "                  _float_probability = 0.1)\n",
    "\n",
    "T = s_mdp.build_transition_probabilities()\n",
    "C = {}\n",
    "for a in range(0, actions):\n",
    "    C[a] = a + 1\n",
    "    \n",
    "config_reduzida = False\n",
    "\n",
    "# Configurações de processamento\n",
    "run_neutral_vi = True\n",
    "run_neutral_pi = True\n",
    "run_EUF_RSVI = True\n",
    "run_EUF_RSPI = True\n",
    "run_PWL_RSVI = True\n",
    "\n",
    "# Configurações dos modelos\n",
    "discount_factor = 0.999\n",
    "\n",
    "rini_p = 0.05\n",
    "rend_p = 1\n",
    "step_p = 0.05\n",
    "range_x = [np.round(v, 2) for v in drange(rini_p, rend_p, step_p)]"
   ]
  },
  {
   "cell_type": "markdown",
   "metadata": {
    "heading_collapsed": true
   },
   "source": [
    "## Exponential\n",
    "\n",
    "$$\n",
    "V(s) = \\frac{-e^{\\lambda c} \\times p}{(1 - e^{\\lambda c} \\times (1-p))}\n",
    "$$"
   ]
  },
  {
   "cell_type": "code",
   "execution_count": 4,
   "metadata": {
    "ExecuteTime": {
     "end_time": "2023-08-24T16:01:12.173957Z",
     "start_time": "2023-08-24T16:01:12.051055Z"
    },
    "hidden": true
   },
   "outputs": [
    {
     "name": "stdout",
     "output_type": "stream",
     "text": [
      "Processando: Lambda [0.1]\r",
      "Número de Iterações: 21......\n"
     ]
    },
    {
     "data": {
      "text/plain": [
       "dict_keys([0.1])"
      ]
     },
     "metadata": {},
     "output_type": "display_data"
    },
    {
     "data": {
      "text/html": [
       "<div>\n",
       "<style scoped>\n",
       "    .dataframe tbody tr th:only-of-type {\n",
       "        vertical-align: middle;\n",
       "    }\n",
       "\n",
       "    .dataframe tbody tr th {\n",
       "        vertical-align: top;\n",
       "    }\n",
       "\n",
       "    .dataframe thead th {\n",
       "        text-align: right;\n",
       "    }\n",
       "</style>\n",
       "<table border=\"1\" class=\"dataframe\">\n",
       "  <thead>\n",
       "    <tr style=\"text-align: right;\">\n",
       "      <th></th>\n",
       "      <th>0</th>\n",
       "      <th>sG</th>\n",
       "    </tr>\n",
       "  </thead>\n",
       "  <tbody>\n",
       "    <tr>\n",
       "      <th>Policy 0.1</th>\n",
       "      <td>0</td>\n",
       "      <td>0</td>\n",
       "    </tr>\n",
       "  </tbody>\n",
       "</table>\n",
       "</div>"
      ],
      "text/plain": [
       "            0  sG\n",
       "Policy 0.1  0   0"
      ]
     },
     "metadata": {},
     "output_type": "display_data"
    }
   ],
   "source": [
    "EUF_RSVI = {}\n",
    "    \n",
    "# range_lambda = [np.round(-0.5 + 0.5*i/10, 2) for i in range(0, 20)] \n",
    "range_lambda = [0.1]\n",
    "\n",
    "for vl_lambda in range_lambda:\n",
    "    print(f'Processando: Lambda [{vl_lambda}]', end='\\r')\n",
    "    EUF_RSVI[vl_lambda] = \\\n",
    "        nbe.run_driving_license(s_mdp, T, C, actions, model=ExponentialUtility_RSVI, model_name='EUF_RSVI',\n",
    "        vl_lambda=vl_lambda, epsilon=epsilon, _log=True)\n",
    "\n",
    "display(EUF_RSVI.keys())\n",
    "\n",
    "df_EUF_RSVI = nbm.build_dataframe_driver_license(EUF_RSVI)\n",
    "display(df_EUF_RSVI)"
   ]
  },
  {
   "cell_type": "code",
   "execution_count": 5,
   "metadata": {
    "ExecuteTime": {
     "end_time": "2023-08-24T16:01:12.297988Z",
     "start_time": "2023-08-24T16:01:12.175459Z"
    },
    "hidden": true
   },
   "outputs": [
    {
     "data": {
      "text/plain": [
       "[1.1051709180756477,\n",
       " 1.163286838117909,\n",
       " 1.1954008504718672,\n",
       " 1.2131465867300257,\n",
       " 1.2229526225462042,\n",
       " 1.2283712953490287,\n",
       " 1.2313655751471533,\n",
       " 1.2330201706238875,\n",
       " 1.2339344760249205,\n",
       " 1.2344397078946512,\n",
       " 1.234718891679307,\n",
       " 1.234873164579107,\n",
       " 1.23495841354026,\n",
       " 1.235005520876591,\n",
       " 1.2350315517056616,\n",
       " 1.2350459359632928,\n",
       " 1.235053884494899,\n",
       " 1.2350582767378853,\n",
       " 1.235060703827492,\n",
       " 1.2350620450019163,\n",
       " 1.235062786115401]"
      ]
     },
     "execution_count": 5,
     "metadata": {},
     "output_type": "execute_result"
    }
   ],
   "source": [
    "EUF_RSVI[0.1]._policy_value[0][0]"
   ]
  },
  {
   "cell_type": "markdown",
   "metadata": {
    "heading_collapsed": true
   },
   "source": [
    "## Piecewise Linear\n",
    "\n",
    "$$\n",
    "V(s) = \\frac{c \\times (2kp - k + 1)}{(\\gamma - 1) \\times (k + p - 1) + p - \\gamma kp}\n",
    "$$"
   ]
  },
  {
   "cell_type": "code",
   "execution_count": 6,
   "metadata": {
    "ExecuteTime": {
     "end_time": "2023-08-24T16:01:12.422016Z",
     "start_time": "2023-08-24T16:01:12.300488Z"
    },
    "hidden": true
   },
   "outputs": [
    {
     "name": "stdout",
     "output_type": "stream",
     "text": [
      "Processando: K [-0.1] Alpha [0.91]\r"
     ]
    },
    {
     "data": {
      "text/plain": [
       "dict_keys([(-0.1, 1, 0.91)])"
      ]
     },
     "metadata": {},
     "output_type": "display_data"
    },
    {
     "data": {
      "text/html": [
       "<div>\n",
       "<style scoped>\n",
       "    .dataframe tbody tr th:only-of-type {\n",
       "        vertical-align: middle;\n",
       "    }\n",
       "\n",
       "    .dataframe tbody tr th {\n",
       "        vertical-align: top;\n",
       "    }\n",
       "\n",
       "    .dataframe thead th {\n",
       "        text-align: right;\n",
       "    }\n",
       "</style>\n",
       "<table border=\"1\" class=\"dataframe\">\n",
       "  <thead>\n",
       "    <tr style=\"text-align: right;\">\n",
       "      <th></th>\n",
       "      <th>0</th>\n",
       "      <th>sG</th>\n",
       "    </tr>\n",
       "  </thead>\n",
       "  <tbody>\n",
       "    <tr>\n",
       "      <th>Policy (-0.1, 1, 0.91)</th>\n",
       "      <td>0</td>\n",
       "      <td>0</td>\n",
       "    </tr>\n",
       "  </tbody>\n",
       "</table>\n",
       "</div>"
      ],
      "text/plain": [
       "                        0  sG\n",
       "Policy (-0.1, 1, 0.91)  0   0"
      ]
     },
     "metadata": {},
     "output_type": "display_data"
    }
   ],
   "source": [
    "PWL_RSVI = {}\n",
    "df_PWL_RSVI = pd.DataFrame()\n",
    "\n",
    "# range_k     = [np.round(-0.95 + i/10, 2) for i in range(0, 20)]\n",
    "range_k = [-0.1]\n",
    "gamma       = 1\n",
    "# range_alpha = [np.round(1/(1+abs(k)), 2) for k in range_k]\n",
    "range_alpha = [np.round(1/(1+abs(k)), 2) for k in range_k]\n",
    "\n",
    "for i in range(0, len(range_k)):\n",
    "    print(f'Processando: K [{range_k[i]}] Alpha [{range_alpha[i]}]', end='\\r')\n",
    "    PWL_RSVI[(range_k[i], gamma, range_alpha[i])] = \\\n",
    "        nbe.run_driving_license(s_mdp, T, C, actions, model=PieceLinear_RSVI, model_name='PL_RSVI',\n",
    "        gamma=gamma, k=range_k[i], alpha=range_alpha[i], epsilon=epsilon, _log=False)\n",
    "\n",
    "display(PWL_RSVI.keys())\n",
    "\n",
    "df_PWL_RSVI = nbm.build_dataframe_driver_license(PWL_RSVI)\n",
    "display(df_PWL_RSVI)"
   ]
  },
  {
   "cell_type": "code",
   "execution_count": 7,
   "metadata": {
    "ExecuteTime": {
     "end_time": "2023-08-24T16:01:12.546045Z",
     "start_time": "2023-08-24T16:01:12.424017Z"
    },
    "hidden": true
   },
   "outputs": [
    {
     "data": {
      "text/plain": [
       "{0: {0: [0.8190000000000001,\n",
       "   1.3026195,\n",
       "   1.5606584402500001,\n",
       "   1.689548890904875,\n",
       "   1.7539296710069852,\n",
       "   1.7860878706679892,\n",
       "   1.8021508913986608,\n",
       "   1.810174370253631,\n",
       "   1.8141820979416887,\n",
       "   1.8161839579218735,\n",
       "   1.8171838869819759,\n",
       "   1.8176833515474968,\n",
       "   1.8179328340979746,\n",
       "   1.8180574506319382,\n",
       "   1.8181196965906532,\n",
       "   1.8181507884470312,\n",
       "   1.8181663188292922,\n",
       "   1.8181740762552316,\n",
       "   1.818177951089488,\n",
       "   1.8181798865691992,\n",
       "   1.8181808533413149]},\n",
       " 'sG': {0: [0.0,\n",
       "   0.0,\n",
       "   0.0,\n",
       "   0.0,\n",
       "   0.0,\n",
       "   0.0,\n",
       "   0.0,\n",
       "   0.0,\n",
       "   0.0,\n",
       "   0.0,\n",
       "   0.0,\n",
       "   0.0,\n",
       "   0.0,\n",
       "   0.0,\n",
       "   0.0,\n",
       "   0.0,\n",
       "   0.0,\n",
       "   0.0,\n",
       "   0.0,\n",
       "   0.0,\n",
       "   0.0]}}"
      ]
     },
     "execution_count": 7,
     "metadata": {},
     "output_type": "execute_result"
    }
   ],
   "source": [
    "PWL_RSVI[(-0.1, 1, 0.91)]._policy_value"
   ]
  },
  {
   "cell_type": "code",
   "execution_count": 8,
   "metadata": {
    "ExecuteTime": {
     "end_time": "2023-08-24T16:01:12.654214Z",
     "start_time": "2023-08-24T16:01:12.547044Z"
    },
    "hidden": true
   },
   "outputs": [],
   "source": [
    "k = range_k[0]\n",
    "p = 0.5\n",
    "c = 1"
   ]
  },
  {
   "cell_type": "code",
   "execution_count": 9,
   "metadata": {
    "ExecuteTime": {
     "end_time": "2023-08-24T16:01:12.762734Z",
     "start_time": "2023-08-24T16:01:12.655716Z"
    },
    "hidden": true
   },
   "outputs": [
    {
     "data": {
      "text/plain": [
       "-0.45454545454545453"
      ]
     },
     "execution_count": 9,
     "metadata": {},
     "output_type": "execute_result"
    }
   ],
   "source": [
    "((1 - (2 * p - 1) * k) * c) / (k - 1) * p"
   ]
  },
  {
   "cell_type": "markdown",
   "metadata": {},
   "source": [
    "# Região de Otimilidade\n",
    "\n",
    "Foi avaliado a região ótima obtida através de um determinado valor de $p'$ e $\\lambda$ com relação ao seu custo $c'$. "
   ]
  },
  {
   "cell_type": "markdown",
   "metadata": {},
   "source": [
    "##  Buscando c'\n",
    "\n",
    "Foi isolado o $c'$ a fim de obter a relação entre $p'$ e $\\lambda$ que satisfizesse a seguinte relação:\n",
    "\n",
    "$$\n",
    "V(p, c, \\lambda)=V(p', c', \\lambda)\n",
    "$$\n",
    "\n",
    "Então, considerando que:\n",
    "\n",
    "$$\n",
    "V(p, c, \\lambda) = \\frac{-e^{\\lambda c} \\times p}{(1 - e^{\\lambda c} \\times (1-p))}\n",
    "$$\n",
    "\n",
    "Teremos que:\n",
    "\n",
    "$$\n",
    "c' = ln \\left[ \n",
    "\\frac{-e^{\\lambda c} p}{(e^{\\lambda c} p' - p' - e^{\\lambda c}p)}\n",
    "\\right] \\times \\frac{1}{\\lambda}\n",
    "$$\n",
    "\n",
    "Ao utilizar a função de utilidade exponencial para obtenção da política ótima, levamos em consideração que, caso $\\lambda < 0$ o agente está considerando uma atitude propensa ao risco, caso $\\lambda > 0$ o agente está considerando uma atitude aversa ao risco e caso $\\lambda \\rightarrow 0$ o agente é considerando neutro ao risco."
   ]
  },
  {
   "cell_type": "code",
   "execution_count": 25,
   "metadata": {
    "ExecuteTime": {
     "end_time": "2023-08-24T16:04:14.936890Z",
     "start_time": "2023-08-24T16:04:14.793015Z"
    },
    "code_folding": [
     0,
     16,
     59,
     87,
     128,
     133,
     160
    ]
   },
   "outputs": [],
   "source": [
    "def viz_hist_values(d, range_x, norm=False):\n",
    "    fig1 = go.Figure()\n",
    "    for l in d.keys():\n",
    "        arr_values = d[l]\n",
    "        fig1.add_trace(go.Scatter(x=range_x, \n",
    "                                 y=NormalizeData(arr_values) if norm else arr_values,\n",
    "                                 mode='lines',\n",
    "                                 name=f'{np.round(l, 2)}'))\n",
    "\n",
    "    fig1.update_layout(\n",
    "        title=f'Valores de custo para cada mudança na probabilidade de atingir a meta',\n",
    "        xaxis_title='Probabilidade (p\\')',\n",
    "        yaxis_title=f'Custo (c\\')')\n",
    "    fig1.show()\n",
    "    return fig1\n",
    "\n",
    "def viz_expressividade(d, range_x, c_max, c_min, c1, c2, norm=False):\n",
    "    fig1 = go.Figure()\n",
    "    greys_light = \\\n",
    "        n_colors('rgb(200, 200, 200)', \n",
    "                 'rgb(255, 255, 255)', \n",
    "                 len(d.keys())+1, \n",
    "                 colortype='rgb')\n",
    "        \n",
    "    count = 0\n",
    "    for l in d.keys():\n",
    "        arr_values = d[l]\n",
    "        fig1.add_trace(go.Scatter(x=range_x, \n",
    "                                 y=NormalizeData(arr_values) if norm else arr_values,\n",
    "                                 mode='lines',\n",
    "                                 name=f'{np.round(l, 2)}',\n",
    "                                 line_color = greys_light[count]))\n",
    "        count += 1\n",
    "        \n",
    "    \n",
    "    # Adicionando MAX\n",
    "    fig1.add_trace(go.Scatter(x=range_x, \n",
    "                             y=NormalizeData(c_max) if norm else c_max,\n",
    "                             mode='lines',\n",
    "                             name=f'MAX',\n",
    "                             line_color = c1))\n",
    "\n",
    "    # Adicionando MIN\n",
    "    fig1.add_trace(go.Scatter(x=range_x, \n",
    "                             y=NormalizeData(c_min) if norm else c_min,\n",
    "                             mode='lines',\n",
    "                             name=f'MIN',\n",
    "                             line_color = c2))\n",
    "    \n",
    "    # Atualizando Layout\n",
    "    fig1.update_layout(\n",
    "        title=f'Valores de custo para cada mudança na probabilidade de atingir a meta',\n",
    "        xaxis_title='Probabilidade (p\\')',\n",
    "        yaxis_title=f'Custo (c\\')'\n",
    "        )\n",
    "    \n",
    "    fig1.show()\n",
    "    return fig1\n",
    "\n",
    "def viz_expressividade_fill(range_x, c_max, c_min, c1, c2, norm=False):\n",
    "    fig1 = go.Figure()\n",
    "\n",
    "    # Adicionando MIN\n",
    "    fig1.add_trace(go.Scatter(x=range_x, \n",
    "                             y=NormalizeData(c_min) if norm else c_min,\n",
    "                             mode='lines',\n",
    "                             name=f'MIN',\n",
    "                             line_color = c2))\n",
    "    \n",
    "    # Adicionando MAX\n",
    "    fig1.add_trace(go.Scatter(x=range_x, \n",
    "                             y=NormalizeData(c_max) if norm else c_max,\n",
    "                             mode='lines',\n",
    "                             name=f'MAX',\n",
    "                             line_color = c1,\n",
    "                             fill='tonexty'))\n",
    "    \n",
    "    # Atualizando Layout\n",
    "    fig1.update_layout(\n",
    "        title=f'Valores de custo para cada mudança na probabilidade de atingir a meta',\n",
    "        xaxis_title='Probabilidade (p\\')',\n",
    "        yaxis_title=f'Custo (c\\')'\n",
    "        )\n",
    "    \n",
    "    fig1.show()\n",
    "    return fig1\n",
    "\n",
    "def viz_expressividade_compare(c_max_1, c_max_2, c_min_1, c_min_2, m1, m2, rini_p=0.05, rend_p=1, step_p=0.05,\n",
    "                              c1='green', c2='blue', c3='red', c4='orange'):\n",
    "    fig = go.Figure()\n",
    "    range_x = [v for v in drange(rini_p, rend_p, step_p)]\n",
    "    \n",
    "    # Adicionando MAX\n",
    "    fig.add_trace(go.Scatter(x=range_x, \n",
    "                             y=c_max_1,\n",
    "                             mode='lines',\n",
    "                             name=f'MAX_{m1}',\n",
    "                             line_color = 'green'))\n",
    "    \n",
    "    fig.add_trace(go.Scatter(x=range_x, \n",
    "                             y=c_max_2,\n",
    "                             mode='lines',\n",
    "                             name=f'MAX_{m2}',\n",
    "                             line_color = 'blue'))\n",
    "    \n",
    "    # Adicionando MAX\n",
    "    fig.add_trace(go.Scatter(x=range_x, \n",
    "                             y=c_min_1,\n",
    "                             mode='lines',\n",
    "                             name=f'MIN_{m1}',\n",
    "                             line_color = 'red'))\n",
    "    \n",
    "    fig.add_trace(go.Scatter(x=range_x, \n",
    "                             y=c_min_2,\n",
    "                             mode='lines',\n",
    "                             name=f'MIN_{m2}',\n",
    "                             line_color = 'orange'))\n",
    "    \n",
    "    # Atualizando Layout\n",
    "    fig.update_layout(\n",
    "        title=f'Valores de custo para cada mudança na probabilidade de atingir a meta',\n",
    "        xaxis_title='Probabilidade (p\\')',\n",
    "        yaxis_title=f'Custo (c\\')'\n",
    "        )\n",
    "    \n",
    "    fig.show()\n",
    "    return fig\n",
    "    \n",
    "def c_line_exp(p, c, l, p_line):\n",
    "    v1 = -np.exp(l*c)*p\n",
    "    v2 = (np.exp(l*c)*p_line - p_line - np.exp(l*c)*p)\n",
    "    return np.log(v1/v2) * 1/l\n",
    "\n",
    "def build_dataframe_c_line(new_c, metrica='lambda'):\n",
    "    res = pd.DataFrame()\n",
    "    for k in new_c.keys():\n",
    "        d = pd.DataFrame(new_c[k], columns=['C_line'])\n",
    "        d[metrica] = np.round(k, 2)\n",
    "        d['P_line'] = [v for v in drange(0.05, 1, 0.05)]\n",
    "        res = res.append(d)\n",
    "\n",
    "    res['C_line_norm'] = NormalizeData(res['C_line'])\n",
    "    return res\n",
    "\n",
    "def get_values_c_line_exponential(p, c, l, p_line, rini_k=-0.95, rend_k=1, step_k=0.05, \n",
    "                                rini_p=0.05, rend_p=1, step_p=0.05):\n",
    "    new_c = {}\n",
    "    \n",
    "    range_lambda = drange(rini_k, rend_k, step_k)\n",
    "    range_x = drange(rini_p, rend_p, step_p)\n",
    "    \n",
    "    for l in [v for v in range_lambda]:\n",
    "        if l > -0.04 and l < 0.04: continue\n",
    "        new_c[l] = []\n",
    "        for p_line in [v for v in range_x]:\n",
    "            c_line = c_line_exp(p, c, l, p_line)\n",
    "            if not np.isnan(c_line):\n",
    "                new_c[l].append(c_line)\n",
    "#             else:\n",
    "#                 new_c[l].append(0)\n",
    "                \n",
    "    return new_c\n",
    "\n",
    "def get_min_max_c_lines(d, rini_p=0.05, rend_p=1, step_p=0.05):\n",
    "    range_p = [v for v in drange(rini_p, rend_p, step_p)]\n",
    "    dp = {}\n",
    "    \n",
    "    for key, arr in d.items():\n",
    "        i = 0\n",
    "        for p in range_p:\n",
    "            if p not in dp.keys():\n",
    "                dp[p] = []\n",
    "            \n",
    "            if i >= len(arr):\n",
    "                continue\n",
    "            \n",
    "            dp[p].append(arr[i])\n",
    "            i += 1\n",
    "        \n",
    "    res_max = []\n",
    "    res_min = []\n",
    "    for key, arr_p in dp.items():\n",
    "        res_max.append(max(arr_p))\n",
    "        res_min.append(min(arr_p))\n",
    "    \n",
    "    return res_max, res_min"
   ]
  },
  {
   "cell_type": "code",
   "execution_count": 26,
   "metadata": {
    "ExecuteTime": {
     "end_time": "2023-08-24T16:04:15.384792Z",
     "start_time": "2023-08-24T16:04:15.175257Z"
    }
   },
   "outputs": [
    {
     "data": {
      "application/vnd.plotly.v1+json": {
       "config": {
        "plotlyServerURL": "https://plot.ly"
       },
       "data": [
        {
         "mode": "lines",
         "name": "-0.95",
         "type": "scatter",
         "x": [
          0.05,
          0.1,
          0.15000000000000002,
          0.2,
          0.25,
          0.3,
          0.35,
          0.39999999999999997,
          0.44999999999999996,
          0.49999999999999994,
          0.5499999999999999,
          0.6,
          0.65,
          0.7000000000000001,
          0.7500000000000001,
          0.8000000000000002,
          0.8500000000000002,
          0.9000000000000002,
          0.9500000000000003
         ],
         "y": [
          0.15493402079232038,
          0.2899623010767797,
          0.40962230901984037,
          0.5170575837478053,
          0.6145360276747438,
          0.7037476659170588,
          0.7859856975396531,
          0.8622617634598161,
          0.933382180135901,
          1,
          1.0626515508534018,
          1.1217826959637844,
          1.1777681009284298,
          1.230925629554433,
          1.281527275659983,
          1.3298075853076972,
          1.375970230560889,
          1.4201932011953577,
          1.4626329490105987
         ]
        },
        {
         "mode": "lines",
         "name": "-0.9",
         "type": "scatter",
         "x": [
          0.05,
          0.1,
          0.15000000000000002,
          0.2,
          0.25,
          0.3,
          0.35,
          0.39999999999999997,
          0.44999999999999996,
          0.49999999999999994,
          0.5499999999999999,
          0.6,
          0.65,
          0.7000000000000001,
          0.7500000000000001,
          0.8000000000000002,
          0.8500000000000002,
          0.9000000000000002,
          0.9500000000000003
         ],
         "y": [
          0.15138109462058905,
          0.2845888506351376,
          0.4035227285498348,
          0.5109478487934579,
          0.608896326857936,
          0.6989054508852194,
          0.7821663460663233,
          0.8596206882271403,
          0.932025835708296,
          1,
          1.064054374178476,
          1.1246164923318065,
          1.1820475439714913,
          1.2366554286242013,
          1.2887047494803778,
          1.3384245689062604,
          1.3860145016131777,
          1.431649555540086,
          1.4754840171424064
         ]
        },
        {
         "mode": "lines",
         "name": "-0.85",
         "type": "scatter",
         "x": [
          0.05,
          0.1,
          0.15000000000000002,
          0.2,
          0.25,
          0.3,
          0.35,
          0.39999999999999997,
          0.44999999999999996,
          0.49999999999999994,
          0.5499999999999999,
          0.6,
          0.65,
          0.7000000000000001,
          0.7500000000000001,
          0.8000000000000002,
          0.8500000000000002,
          0.9000000000000002,
          0.9500000000000003
         ],
         "y": [
          0.14790595648844249,
          0.27927665044080313,
          0.39744025779075814,
          0.5048113704142448,
          0.6031975151555888,
          0.6939870114453214,
          0.7782693520808521,
          0.8569152523446142,
          0.9306315690837155,
          0.9999999999999999,
          1.0655049923534405,
          1.1275542816660533,
          1.186494279209179,
          1.2426217848437984,
          1.2961930304245717,
          1.3474307521104834,
          1.3965297856605075,
          1.44366154008058,
          1.4889776090717617
         ]
        },
        {
         "mode": "lines",
         "name": "-0.8",
         "type": "scatter",
         "x": [
          0.05,
          0.1,
          0.15000000000000002,
          0.2,
          0.25,
          0.3,
          0.35,
          0.39999999999999997,
          0.44999999999999996,
          0.49999999999999994,
          0.5499999999999999,
          0.6,
          0.65,
          0.7000000000000001,
          0.7500000000000001,
          0.8000000000000002,
          0.8500000000000002,
          0.9000000000000002,
          0.9500000000000003
         ],
         "y": [
          0.14450816136737457,
          0.274028027855985,
          0.391378645394659,
          0.49865165639658027,
          0.5974418567347904,
          0.688993075640958,
          0.774294157581684,
          0.8541442222412537,
          0.9291982961277704,
          0.9999999999999999,
          1.0670054627528056,
          1.1306011442272534,
          1.1911173387867726,
          1.2488385578887145,
          1.3040116191484152,
          1.3568520242211888,
          1.4075490423125858,
          1.4562698022859528,
          1.503162616699345
         ]
        },
        {
         "mode": "lines",
         "name": "-0.75",
         "type": "scatter",
         "x": [
          0.05,
          0.1,
          0.15000000000000002,
          0.2,
          0.25,
          0.3,
          0.35,
          0.39999999999999997,
          0.44999999999999996,
          0.49999999999999994,
          0.5499999999999999,
          0.6,
          0.65,
          0.7000000000000001,
          0.7500000000000001,
          0.8000000000000002,
          0.8500000000000002,
          0.9000000000000002,
          0.9500000000000003
         ],
         "y": [
          0.1411871690023745,
          0.26884516072286396,
          0.3853415988624241,
          0.4924723009183318,
          0.5916317674066062,
          0.6839245142732038,
          0.7702402897031202,
          0.8513063816481182,
          0.9277249106090615,
          1,
          1.0685579520574748,
          1.1337624845997443,
          1.1959264121119426,
          1.2553207226233174,
          1.3121817174439998,
          1.3667166896167993,
          1.419108485911194,
          1.469519205835702,
          1.5180932264459674
         ]
        },
        {
         "mode": "lines",
         "name": "-0.7",
         "type": "scatter",
         "x": [
          0.05,
          0.1,
          0.15000000000000002,
          0.2,
          0.25,
          0.3,
          0.35,
          0.39999999999999997,
          0.44999999999999996,
          0.49999999999999994,
          0.5499999999999999,
          0.6,
          0.65,
          0.7000000000000001,
          0.7500000000000001,
          0.8000000000000002,
          0.8500000000000002,
          0.9000000000000002,
          0.9500000000000003
         ],
         "y": [
          0.1379423500444618,
          0.26373007401523607,
          0.37933277232915913,
          0.4862769741429151,
          0.5857698118935893,
          0.6787823448594263,
          0.7661073668333105,
          0.8484005355883074,
          0.9262102847023259,
          1,
          1.070164743518739,
          1.1370440585863015,
          1.2009319088174417,
          1.2620844879549964,
          1.3207264254773805,
          1.3770557678514865,
          1.4312480143356066,
          1.4834594148176297,
          1.5338296859199447
         ]
        },
        {
         "mode": "lines",
         "name": "-0.65",
         "type": "scatter",
         "x": [
          0.05,
          0.1,
          0.15000000000000002,
          0.2,
          0.25,
          0.3,
          0.35,
          0.39999999999999997,
          0.44999999999999996,
          0.49999999999999994,
          0.5499999999999999,
          0.6,
          0.65,
          0.7000000000000001,
          0.7500000000000001,
          0.8000000000000002,
          0.8500000000000002,
          0.9000000000000002,
          0.9500000000000003
         ],
         "y": [
          0.13477299220639738,
          0.2586846373738948,
          0.37335575467734733,
          0.4800694112020247,
          0.5798587002196463,
          0.6735677351008339,
          0.7618951047547544,
          0.8454255146048862,
          0.9246532696000802,
          1.0000000000000002,
          1.0718282448263732,
          1.1404520029207996,
          1.206145029355259,
          1.2691474317288876,
          1.3296709680110732,
          1.387903341062582,
          1.4440117095524339,
          1.4981455808240207,
          1.5504392118419015
         ]
        },
        {
         "mode": "lines",
         "name": "-0.6",
         "type": "scatter",
         "x": [
          0.05,
          0.1,
          0.15000000000000002,
          0.2,
          0.25,
          0.3,
          0.35,
          0.39999999999999997,
          0.44999999999999996,
          0.49999999999999994,
          0.5499999999999999,
          0.6,
          0.65,
          0.7000000000000001,
          0.7500000000000001,
          0.8000000000000002,
          0.8500000000000002,
          0.9000000000000002,
          0.9500000000000003
         ],
         "y": [
          0.13167830640078806,
          0.2537105635120017,
          0.36741405807011196,
          0.4738534006407831,
          0.5739012832099003,
          0.6682820058014826,
          0.7576033227688513,
          0.8423801792253021,
          0.9230526962411559,
          1,
          1.0735509966421992,
          1.1439928681584408,
          1.2115778443498213,
          1.2765286543060212,
          1.3390429548198333,
          1.399296957822086,
          1.4574484246350339,
          1.5136391552112258,
          1.5679970712429332
         ]
        },
        {
         "mode": "lines",
         "name": "-0.55",
         "type": "scatter",
         "x": [
          0.05,
          0.1,
          0.15000000000000002,
          0.2,
          0.25,
          0.3,
          0.35,
          0.39999999999999997,
          0.44999999999999996,
          0.49999999999999994,
          0.5499999999999999,
          0.6,
          0.65,
          0.7000000000000001,
          0.7500000000000001,
          0.8000000000000002,
          0.8500000000000002,
          0.9000000000000002,
          0.9500000000000003
         ],
         "y": [
          0.12865743282331862,
          0.2488094074683208,
          0.3615111069916334,
          0.4676327724067861,
          0.5679005470970772,
          0.6629266331826852,
          0.7532319497625496,
          0.8392634246588302,
          0.9214073761647924,
          1.0000000000000002,
          1.075335681867876,
          1.147673655157689,
          1.2172433840357009,
          1.284248953986164,
          1.3488726816250987,
          1.4112781046762584,
          1.4716124755982793,
          1.53000885456921,
          1.58658787667349
         ]
        },
        {
         "mode": "lines",
         "name": "-0.5",
         "type": "scatter",
         "x": [
          0.05,
          0.1,
          0.15000000000000002,
          0.2,
          0.25,
          0.3,
          0.35,
          0.39999999999999997,
          0.44999999999999996,
          0.49999999999999994,
          0.5499999999999999,
          0.6,
          0.65,
          0.7000000000000001,
          0.7500000000000001,
          0.8000000000000002,
          0.8500000000000002,
          0.9000000000000002,
          0.9500000000000003
         ],
         "y": [
          0.1257094469474609,
          0.24398256667854187,
          0.3556502278752713,
          0.4614113854711953,
          0.5618596072403228,
          0.6575032505388149,
          0.7487810301717367,
          0.8360741857213118,
          0.9197161024991896,
          1,
          1.0771851357240745,
          1.1515018556319863,
          1.2231557393435961,
          1.2923310280739242,
          1.3591934792711626,
          1.4238927592986212,
          1.4865644610633622,
          1.5473318149999526,
          1.6063071476891624
         ]
        },
        {
         "mode": "lines",
         "name": "-0.45",
         "type": "scatter",
         "x": [
          0.05,
          0.1,
          0.15000000000000002,
          0.2,
          0.25,
          0.3,
          0.35,
          0.39999999999999997,
          0.44999999999999996,
          0.49999999999999994,
          0.5499999999999999,
          0.6,
          0.65,
          0.7000000000000001,
          0.7500000000000001,
          0.8000000000000002,
          0.8500000000000002,
          0.9000000000000002,
          0.9500000000000003
         ],
         "y": [
          0.12283336540064799,
          0.2392312818280988,
          0.34983463939239695,
          0.45519311517559935,
          0.5557817009722436,
          0.6520136491834534,
          0.7442507297928708,
          0.8328114419789701,
          0.9179776510936309,
          0.9999999999999999,
          1.0791023567278168,
          1.1554854973247857,
          1.2293301764867208,
          1.3007997041745012,
          1.370042120626321,
          1.437192042615381,
          1.5023722388372132,
          1.5656949807586609,
          1.6272632062703787
         ]
        },
        {
         "mode": "lines",
         "name": "-0.4",
         "type": "scatter",
         "x": [
          0.05,
          0.1,
          0.15000000000000002,
          0.2,
          0.25,
          0.3,
          0.35,
          0.39999999999999997,
          0.44999999999999996,
          0.49999999999999994,
          0.5499999999999999,
          0.6,
          0.65,
          0.7000000000000001,
          0.7500000000000001,
          0.8000000000000002,
          0.8500000000000002,
          0.9000000000000002,
          0.9500000000000003
         ],
         "y": [
          0.12002815169552584,
          0.23455663844390998,
          0.34406744346647056,
          0.44898184040263894,
          0.5496701796000181,
          0.6464597786387359,
          0.7396413413914346,
          0.8294742231003763,
          0.916190781803412,
          1,
          1.0810905186657274,
          1.159633194450693,
          1.2357832672501503,
          1.3096822072845602,
          1.3814592969237476,
          1.4512329916932898,
          1.519112096451234,
          1.5851967860610243,
          1.6495794945976412
         ]
        },
        {
         "mode": "lines",
         "name": "-0.35",
         "type": "scatter",
         "x": [
          0.05,
          0.1,
          0.15000000000000002,
          0.2,
          0.25,
          0.3,
          0.35,
          0.39999999999999997,
          0.44999999999999996,
          0.49999999999999994,
          0.5499999999999999,
          0.6,
          0.65,
          0.7000000000000001,
          0.7500000000000001,
          0.8000000000000002,
          0.8500000000000002,
          0.9000000000000002,
          0.9500000000000003
         ],
         "y": [
          0.11729272179342294,
          0.2299595691774662,
          0.338351617067715,
          0.44278143067130893,
          0.5435284995966623,
          0.6408437460255513,
          0.7349532900532857,
          0.8260616144027461,
          0.9143542399369038,
          1.0000000000000002,
          1.0831529836735512,
          1.1639542041515698,
          1.2425330376136279,
          1.319008469468048,
          1.3934901781060591,
          1.4660794809451316,
          1.5368701632405481,
          1.6059492066769718,
          1.6733974319396476
         ]
        },
        {
         "mode": "lines",
         "name": "-0.3",
         "type": "scatter",
         "x": [
          0.05,
          0.1,
          0.15000000000000002,
          0.2,
          0.25,
          0.3,
          0.35,
          0.39999999999999997,
          0.44999999999999996,
          0.49999999999999994,
          0.5499999999999999,
          0.6,
          0.65,
          0.7000000000000001,
          0.7500000000000001,
          0.8000000000000002,
          0.8500000000000002,
          0.9000000000000002,
          0.9500000000000003
         ],
         "y": [
          0.11462594948062037,
          0.22544085672758113,
          0.33269000483400224,
          0.4365957332593192,
          0.5373602130286061,
          0.6351678146180375,
          0.7301871382228617,
          0.8225727625756175,
          0.9124667578740937,
          1.0000000000000002,
          1.0852933165467766,
          1.168458489842865,
          1.2495991378634888,
          1.3288114904472352,
          1.4061850754028862,
          1.481803326775024,
          1.5557441256313365,
          1.6280802821598812,
          1.6988799665575591
         ]
        },
        {
         "mode": "lines",
         "name": "-0.25",
         "type": "scatter",
         "x": [
          0.05,
          0.1,
          0.15000000000000002,
          0.2,
          0.25,
          0.3,
          0.35,
          0.39999999999999997,
          0.44999999999999996,
          0.49999999999999994,
          0.5499999999999999,
          0.6,
          0.65,
          0.7000000000000001,
          0.7500000000000001,
          0.8000000000000002,
          0.8500000000000002,
          0.9000000000000002,
          0.9500000000000003
         ],
         "y": [
          0.11202667154128051,
          0.2210011373479814,
          0.3270853125534799,
          0.4304285604548898,
          0.5311689572755929,
          0.6294344015324782,
          0.725343590370664,
          0.8190068815616992,
          0.9105270568658596,
          1.0000000000000002,
          1.0875153004238653,
          1.17315679247674,
          1.2570030379973187,
          1.3391277593905175,
          1.4196002291240204,
          1.498485620811211,
          1.575845326338897,
          1.6517372429059627,
          1.7262160333350602
         ]
        },
        {
         "mode": "lines",
         "name": "-0.2",
         "type": "scatter",
         "x": [
          0.05,
          0.1,
          0.15000000000000002,
          0.2,
          0.25,
          0.3,
          0.35,
          0.39999999999999997,
          0.44999999999999996,
          0.49999999999999994,
          0.5499999999999999,
          0.6,
          0.65,
          0.7000000000000001,
          0.7500000000000001,
          0.8000000000000002,
          0.8500000000000002,
          0.9000000000000002,
          0.9500000000000003
         ],
         "y": [
          0.1094936927140039,
          0.2166409048826954,
          0.32154010153421714,
          0.4242836770388403,
          0.5249584441082327,
          0.6236460745282117,
          0.7204234972314502,
          0.8153632585712202,
          0.9085338490230802,
          0.9999999999999999,
          1.0898229540028823,
          1.1780607109303436,
          1.2647682530287483,
          1.3499977506674248,
          1.4337987508675798,
          1.5162183502908837,
          1.59730135420001,
          1.677090422734444,
          1.7556262056971628
         ]
        },
        {
         "mode": "lines",
         "name": "-0.15",
         "type": "scatter",
         "x": [
          0.05,
          0.1,
          0.15000000000000002,
          0.2,
          0.25,
          0.3,
          0.35,
          0.39999999999999997,
          0.44999999999999996,
          0.49999999999999994,
          0.5499999999999999,
          0.6,
          0.65,
          0.7000000000000001,
          0.7500000000000001,
          0.8000000000000002,
          0.8500000000000002,
          0.9000000000000002,
          0.9500000000000003
         ],
         "y": [
          0.10702579042189454,
          0.21236051527083835,
          0.3160567838759391,
          0.4181647880949125,
          0.5187324481972454,
          0.6178055479065016,
          0.7154278595543357,
          0.811641260202575,
          0.9064858395044048,
          1.0000000000000004,
          1.0922205504745899,
          1.1831827929469587,
          1.272920603802875,
          1.3614665095400755,
          1.448851757548639,
          1.5351063823121753,
          1.620259267380797,
          1.7043382034358596,
          1.7873699427385399
         ]
        },
        {
         "mode": "lines",
         "name": "-0.1",
         "type": "scatter",
         "x": [
          0.05,
          0.1,
          0.15000000000000002,
          0.2,
          0.25,
          0.3,
          0.35,
          0.39999999999999997,
          0.44999999999999996,
          0.49999999999999994,
          0.5499999999999999,
          0.6,
          0.65,
          0.7000000000000001,
          0.7500000000000001,
          0.8000000000000002,
          0.8500000000000002,
          0.9000000000000002,
          0.9500000000000003
         ],
         "y": [
          0.10462171926871862,
          0.2081601914619122,
          0.3106376186489104,
          0.412075527241861,
          0.5124947951362556,
          0.6119156775022537,
          0.7103578313064534,
          0.8078403386384084,
          0.9043817289111004,
          1.0000000000000002,
          1.0947126383809997,
          1.1885366383236267,
          1.2814885201921635,
          1.373584347904059,
          1.4648397455916748,
          1.5552699135106836,
          1.6448896432355418,
          1.733713332180143,
          1.8217549974791922
         ]
        },
        {
         "mode": "lines",
         "name": "-0.05",
         "type": "scatter",
         "x": [
          0.05,
          0.1,
          0.15000000000000002,
          0.2,
          0.25,
          0.3,
          0.35,
          0.39999999999999997,
          0.44999999999999996,
          0.49999999999999994,
          0.5499999999999999,
          0.6,
          0.65,
          0.7000000000000001,
          0.7500000000000001,
          0.8000000000000002,
          0.8500000000000002,
          0.9000000000000002,
          0.9500000000000003
         ],
         "y": [
          0.1022802152962298,
          0.20404002868297083,
          0.30528470897539234,
          0.4060194453752468,
          0.5062493490668178,
          0.6059794547730637,
          0.7052147222731646,
          0.8039600378826045,
          0.9022202158968904,
          0.9999999999999991,
          1.0973040646385166,
          1.1941370163625793,
          1.2905033951344218,
          1.3864076756056605,
          1.4818542683639706,
          1.5768475211502906,
          1.6713917200471502,
          1.7654910906390704,
          1.8591497991458492
         ]
        },
        {
         "mode": "lines",
         "name": "0.05",
         "type": "scatter",
         "x": [
          0.05,
          0.1,
          0.15000000000000002,
          0.2,
          0.25,
          0.3,
          0.35,
          0.39999999999999997,
          0.44999999999999996,
          0.49999999999999994,
          0.5499999999999999,
          0.6,
          0.65,
          0.7000000000000001,
          0.7500000000000001,
          0.8000000000000002,
          0.8500000000000002,
          0.9000000000000002,
          0.9500000000000003
         ],
         "y": [
          0.09777978410310892,
          0.19603996211739547,
          0.29478527772683244,
          0.39402054522693314,
          0.493750650933181,
          0.5939805546247501,
          0.694715291024608,
          0.7959599713170262,
          0.8977197847037705,
          0.9999999999999993,
          1.102805967271268,
          1.206143119512751,
          1.3100169743721128,
          1.4144331359173354,
          1.5193972964509532,
          1.6249152383721264,
          1.7309928360881004,
          1.8376360579766455,
          1.9448509684010762
         ]
        },
        {
         "mode": "lines",
         "name": "0.1",
         "type": "scatter",
         "x": [
          0.05,
          0.1,
          0.15000000000000002,
          0.2,
          0.25,
          0.3,
          0.35,
          0.39999999999999997,
          0.44999999999999996,
          0.49999999999999994,
          0.5499999999999999,
          0.6,
          0.65,
          0.7000000000000001,
          0.7500000000000001,
          0.8000000000000002,
          0.8500000000000002,
          0.9000000000000002,
          0.9500000000000003
         ],
         "y": [
          0.09561827108889831,
          0.1921596613615915,
          0.2896421686935451,
          0.3880843224977467,
          0.48750520486374516,
          0.5879244727581395,
          0.6893623813510895,
          0.7918398085380874,
          0.8953782807312824,
          0.9999999999999996,
          1.1057278726461144,
          1.2125855393062126,
          1.3205974066795463,
          1.4297886809882652,
          1.5401854032847062,
          1.6518144867294107,
          1.7647037559734406,
          1.8788819887890713,
          1.9943789601047472
         ]
        },
        {
         "mode": "lines",
         "name": "0.15",
         "type": "scatter",
         "x": [
          0.05,
          0.1,
          0.15000000000000002,
          0.2,
          0.25,
          0.3,
          0.35,
          0.39999999999999997,
          0.44999999999999996,
          0.49999999999999994,
          0.5499999999999999,
          0.6,
          0.65,
          0.7000000000000001,
          0.7500000000000001,
          0.8000000000000002,
          0.8500000000000002,
          0.9000000000000002,
          0.9500000000000003
         ],
         "y": [
          0.09351416049559547,
          0.18835873979742593,
          0.2845721404456645,
          0.3821944520934991,
          0.4812675518027545,
          0.5818352119050878,
          0.6839432161240612,
          0.7876394847291602,
          0.8929742095781061,
          1,
          1.1087720405807768,
          1.2193482620355478,
          1.3317895264923967,
          1.446159828671281,
          1.5625265146229026,
          1.680960519899637,
          1.8015366292675044,
          1.9243337603402952,
          2.0494352738296633
         ]
        },
        {
         "mode": "lines",
         "name": "0.2",
         "type": "scatter",
         "x": [
          0.05,
          0.1,
          0.15000000000000002,
          0.2,
          0.25,
          0.3,
          0.35,
          0.39999999999999997,
          0.44999999999999996,
          0.49999999999999994,
          0.5499999999999999,
          0.6,
          0.65,
          0.7000000000000001,
          0.7500000000000001,
          0.8000000000000002,
          0.8500000000000002,
          0.9000000000000002,
          0.9500000000000003
         ],
         "y": [
          0.09146615097691906,
          0.18463674142878045,
          0.2795765027685498,
          0.3763539254717874,
          0.47504155589176694,
          0.5757163229611594,
          0.6784598984657826,
          0.783359095117305,
          0.8905063072859961,
          1.0000000000000002,
          1.1119452526964688,
          1.2264543652499065,
          1.3436475350380908,
          1.4636536152782431,
          1.5866109666280999,
          1.712668416164099,
          1.8419863404047627,
          1.9747378921462517,
          2.1111103946525693
         ]
        },
        {
         "mode": "lines",
         "name": "0.25",
         "type": "scatter",
         "x": [
          0.05,
          0.1,
          0.15000000000000002,
          0.2,
          0.25,
          0.3,
          0.35,
          0.39999999999999997,
          0.44999999999999996,
          0.49999999999999994,
          0.5499999999999999,
          0.6,
          0.65,
          0.7000000000000001,
          0.7500000000000001,
          0.8000000000000002,
          0.8500000000000002,
          0.9000000000000002,
          0.9500000000000003
         ],
         "y": [
          0.08947294313413995,
          0.18099311843830113,
          0.274656409629336,
          0.37056559846752224,
          0.4688310427244069,
          0.56957143954511,
          0.6729146874465193,
          0.7789988626520188,
          0.8879733284587187,
          0.9999999999999998,
          1.1152547912785555,
          1.233929276929231,
          1.35623260812154,
          1.4823937307173056,
          1.6126639647738414,
          1.7473200184158428,
          1.8866675269174902,
          2.031045230803721,
          2.180829936632863
         ]
        },
        {
         "mode": "lines",
         "name": "0.3",
         "type": "scatter",
         "x": [
          0.05,
          0.1,
          0.15000000000000002,
          0.2,
          0.25,
          0.3,
          0.35,
          0.39999999999999997,
          0.44999999999999996,
          0.49999999999999994,
          0.5499999999999999,
          0.6,
          0.65,
          0.7000000000000001,
          0.7500000000000001,
          0.8000000000000002,
          0.8500000000000002,
          0.9000000000000002,
          0.9500000000000003
         ],
         "y": [
          0.08753324212590659,
          0.17742723742438216,
          0.26981286177713826,
          0.3648321853819619,
          0.46263978697139374,
          0.5634042667406809,
          0.6673099951659979,
          0.7745591432724188,
          0.8853740505193795,
          1.0000000000000002,
          1.1187084880363791,
          1.2418010977788712,
          1.3696141158589201,
          1.5025240699864684,
          1.6409544171413373,
          1.7853836817263427,
          1.9363554380583168,
          2.09449066268461,
          2.260503165433819
         ]
        },
        {
         "mode": "lines",
         "name": "0.35",
         "type": "scatter",
         "x": [
          0.05,
          0.1,
          0.15000000000000002,
          0.2,
          0.25,
          0.3,
          0.35,
          0.39999999999999997,
          0.44999999999999996,
          0.49999999999999994,
          0.5499999999999999,
          0.6,
          0.65,
          0.7000000000000001,
          0.7500000000000001,
          0.8000000000000002,
          0.8500000000000002,
          0.9000000000000002,
          0.9500000000000003
         ],
         "y": [
          0.08564576006309581,
          0.1739383855972541,
          0.26504670994671475,
          0.359156253974449,
          0.45647150040333784,
          0.5572185693286916,
          0.6616483829322853,
          0.770040430822534,
          0.882707278206577,
          1.0000000000000002,
          1.1223147789017447,
          1.2501009800566911,
          1.3838711174972673,
          1.5242132704831124,
          1.6718067099379608,
          1.8274417854664209,
          1.9920455477431778,
          2.1667152133064054,
          2.3527625411093394
         ]
        },
        {
         "mode": "lines",
         "name": "0.4",
         "type": "scatter",
         "x": [
          0.05,
          0.1,
          0.15000000000000002,
          0.2,
          0.25,
          0.3,
          0.35,
          0.39999999999999997,
          0.44999999999999996,
          0.49999999999999994,
          0.5499999999999999,
          0.6,
          0.65,
          0.7000000000000001,
          0.7500000000000001,
          0.8000000000000002,
          0.8500000000000002,
          0.9000000000000002,
          0.9500000000000003
         ],
         "y": [
          0.08380921819658775,
          0.17052577689962378,
          0.2603586586085651,
          0.353540221361264,
          0.4503298203999819,
          0.551018159597361,
          0.6559325565335293,
          0.7654433615560902,
          0.8799718483044737,
          1,
          1.126082765780976,
          1.2588635751632038,
          1.3990942086101206,
          1.5476605797094714,
          1.7056166737049767,
          1.8742299491538228,
          2.055043187632084,
          2.249960504475306,
          2.461369813660571
         ]
        },
        {
         "mode": "lines",
         "name": "0.45",
         "type": "scatter",
         "x": [
          0.05,
          0.1,
          0.15000000000000002,
          0.2,
          0.25,
          0.3,
          0.35,
          0.39999999999999997,
          0.44999999999999996,
          0.49999999999999994,
          0.5499999999999999,
          0.6,
          0.65,
          0.7000000000000001,
          0.7500000000000001,
          0.8000000000000002,
          0.8500000000000002,
          0.9000000000000002,
          0.9500000000000003
         ],
         "y": [
          0.082022348906369,
          0.1671885580210298,
          0.25574927020712923,
          0.34798635081654683,
          0.44421829902775645,
          0.5448068848244002,
          0.6501653606076023,
          0.7607687181719007,
          0.8771666345993521,
          0.9999999999999999,
          1.1300222863404448,
          1.2681275654098803,
          1.4153878243881752,
          1.5731035462955532,
          1.7428736498124517,
          1.9266944226212543,
          2.1271031859011997,
          2.347393393862171,
          2.5919485466863907
         ]
        },
        {
         "mode": "lines",
         "name": "0.5",
         "type": "scatter",
         "x": [
          0.05,
          0.1,
          0.15000000000000002,
          0.2,
          0.25,
          0.3,
          0.35,
          0.39999999999999997,
          0.44999999999999996,
          0.49999999999999994,
          0.5499999999999999,
          0.6,
          0.65,
          0.7000000000000001,
          0.7500000000000001,
          0.8000000000000002,
          0.8500000000000002,
          0.9000000000000002,
          0.9500000000000003
         ],
         "y": [
          0.08028389750081044,
          0.1639258142786882,
          0.25121896982826303,
          0.34249674946118536,
          0.4381403927596771,
          0.5385886145288045,
          0.6443497721247285,
          0.756017433321458,
          0.8742905530525389,
          1,
          1.1341439931052442,
          1.2779362995458294,
          1.4328731399888452,
          1.6008282530582754,
          1.7841916590763625,
          1.9860786912320079,
          2.2106568539700455,
          2.463680454797201,
          2.7534148979054156
         ]
        },
        {
         "mode": "lines",
         "name": "0.55",
         "type": "scatter",
         "x": [
          0.05,
          0.1,
          0.15000000000000002,
          0.2,
          0.25,
          0.3,
          0.35,
          0.39999999999999997,
          0.44999999999999996,
          0.49999999999999994,
          0.5499999999999999,
          0.6,
          0.65,
          0.7000000000000001,
          0.7500000000000001,
          0.8000000000000002,
          0.8500000000000002,
          0.9000000000000002,
          0.9500000000000003
         ],
         "y": [
          0.07859262383520779,
          0.16073657534116984,
          0.24676805023745044,
          0.33707336681731453,
          0.43209945290292295,
          0.532367227593214,
          0.6384888930083665,
          0.7511905925316791,
          0.8713425671766809,
          1,
          1.138459443393657,
          1.2883385571208679,
          1.4516917622032384,
          1.6311831626055313,
          1.8303545410164686,
          2.054058993945991,
          2.309200613408217,
          2.6060826760786227,
          2.9610856076459684
         ]
        },
        {
         "mode": "lines",
         "name": "0.6",
         "type": "scatter",
         "x": [
          0.05,
          0.1,
          0.15000000000000002,
          0.2,
          0.25,
          0.3,
          0.35,
          0.39999999999999997,
          0.44999999999999996,
          0.49999999999999994,
          0.5499999999999999,
          0.6,
          0.65,
          0.7000000000000001,
          0.7500000000000001,
          0.8000000000000002,
          0.8500000000000002,
          0.9000000000000002,
          0.9500000000000003
         ],
         "y": [
          0.07694730375884373,
          0.1576198207746979,
          0.24239667723114863,
          0.33171799419851733,
          0.4260987167900993,
          0.5261465993592168,
          0.6325859419298877,
          0.7462894364879982,
          0.8683216935992117,
          1,
          1.1429812019070675,
          1.299389474092001,
          1.4720104842447115,
          1.6645982085632385,
          1.8823832494068542,
          2.1329658134789873,
          2.4280060074354424,
          2.786755407083961,
          3.2445261889743358
         ]
        },
        {
         "mode": "lines",
         "name": "0.65",
         "type": "scatter",
         "x": [
          0.05,
          0.1,
          0.15000000000000002,
          0.2,
          0.25,
          0.3,
          0.35,
          0.39999999999999997,
          0.44999999999999996,
          0.49999999999999994,
          0.5499999999999999,
          0.6,
          0.65,
          0.7000000000000001,
          0.7500000000000001,
          0.8000000000000002,
          0.8500000000000002,
          0.9000000000000002,
          0.9500000000000003
         ],
         "y": [
          0.07534673039991982,
          0.15457448539511373,
          0.23810489524524572,
          0.3264322648991664,
          0.420141299780354,
          0.5199305887979755,
          0.6266442453226527,
          0.7413153626261053,
          0.8652270077936026,
          1,
          1.147722958159753,
          1.3111516719545055,
          1.4940274903877222,
          1.7016116920248614,
          1.9416396580932453,
          2.2261656998416837,
          2.5755303557979863,
          3.0282831046311522,
          3.672609200923722
         ]
        },
        {
         "mode": "lines",
         "name": "0.7",
         "type": "scatter",
         "x": [
          0.05,
          0.1,
          0.15000000000000002,
          0.2,
          0.25,
          0.3,
          0.35,
          0.39999999999999997,
          0.44999999999999996,
          0.49999999999999994,
          0.5499999999999999,
          0.6,
          0.65,
          0.7000000000000001,
          0.7500000000000001,
          0.8000000000000002,
          0.8500000000000002,
          0.9000000000000002,
          0.9500000000000003
         ],
         "y": [
          0.07378971529767404,
          0.15159946441169267,
          0.23389263316668918,
          0.32121765514057365,
          0.41423018810641066,
          0.5137230258570845,
          0.620667227670841,
          0.7362699259847636,
          0.862057649955538,
          0.9999999999999993,
          1.1526996613835778,
          1.3236966461351116,
          1.5179805710027339,
          1.742909120760004,
          2.009993332289973,
          2.338765063552385,
          2.7665551639236554,
          3.380028177400945,
          4.478166775079047
         ]
        },
        {
         "mode": "lines",
         "name": "0.75",
         "type": "scatter",
         "x": [
          0.05,
          0.1,
          0.15000000000000002,
          0.2,
          0.25,
          0.3,
          0.35,
          0.39999999999999997,
          0.44999999999999996,
          0.49999999999999994,
          0.5499999999999999,
          0.6,
          0.65,
          0.7000000000000001,
          0.7500000000000001,
          0.8000000000000002,
          0.8500000000000002,
          0.9000000000000002,
          0.9500000000000003
         ],
         "y": [
          0.07227508939093825,
          0.14869361835188188,
          0.22975971029687975,
          0.31607548572679606,
          0.4083682325933937,
          0.5075276990816681,
          0.614658401137576,
          0.7311548392771354,
          0.8588128309976251,
          0.9999999999999992,
          1.157927676102195,
          1.3371064879505057,
          1.544158177425726,
          1.789380921604789,
          2.0901030370026996,
          2.479025198773094,
          3.0304022121247356,
          3.987399769309249
         ]
        },
        {
         "mode": "lines",
         "name": "0.8",
         "type": "scatter",
         "x": [
          0.05,
          0.1,
          0.15000000000000002,
          0.2,
          0.25,
          0.3,
          0.35,
          0.39999999999999997,
          0.44999999999999996,
          0.49999999999999994,
          0.5499999999999999,
          0.6,
          0.65,
          0.7000000000000001,
          0.7500000000000001,
          0.8000000000000002,
          0.8500000000000002,
          0.9000000000000002,
          0.9500000000000003
         ],
         "y": [
          0.07080170387222967,
          0.14585577775874622,
          0.22570584241831576,
          0.3110069243590419,
          0.4025581432652093,
          0.5013483436034197,
          0.6086213546053407,
          0.7259719721440144,
          0.8554918386326252,
          0.9999999999999994,
          1.1634249622685602,
          1.3514760403954034,
          1.5729145727165887,
          1.8422111261595666,
          2.1859220576663927,
          2.661563684205022,
          3.43884251058826,
          5.917372075480651
         ]
        },
        {
         "mode": "lines",
         "name": "0.85",
         "type": "scatter",
         "x": [
          0.05,
          0.1,
          0.15000000000000002,
          0.2,
          0.25,
          0.3,
          0.35,
          0.39999999999999997,
          0.44999999999999996,
          0.49999999999999994,
          0.5499999999999999,
          0.6,
          0.65,
          0.7000000000000001,
          0.7500000000000001,
          0.8000000000000002,
          0.8500000000000002,
          0.9000000000000002,
          0.9500000000000003
         ],
         "y": [
          0.06936843091628442,
          0.14308474765538592,
          0.2217306479191478,
          0.3060129885546787,
          0.39680248484441116,
          0.49518862958575505,
          0.6025597422092417,
          0.7207233495591967,
          0.8520940435115575,
          0.9999999999999996,
          1.1692112847386178,
          1.3669156248596877,
          1.604691030750205,
          1.9030192177563428,
          2.303679640920747,
          2.9159531037052733,
          4.266637254002895
         ]
        },
        {
         "mode": "lines",
         "name": "0.9",
         "type": "scatter",
         "x": [
          0.05,
          0.1,
          0.15000000000000002,
          0.2,
          0.25,
          0.3,
          0.35,
          0.39999999999999997,
          0.44999999999999996,
          0.49999999999999994,
          0.5499999999999999,
          0.6,
          0.65,
          0.7000000000000001,
          0.7500000000000001,
          0.8000000000000002,
          0.8500000000000002,
          0.9000000000000002,
          0.9500000000000003
         ],
         "y": [
          0.06797416429170382,
          0.14037931177285956,
          0.2178336539336766,
          0.30109454911478034,
          0.39110367314206385,
          0.4890521512065422,
          0.5964772714501649,
          0.7154111493648623,
          0.8486189053794108,
          0.9999999999999996,
          1.1753084579667255,
          1.3835545289783362,
          1.6400462101737492,
          1.9740982973702241,
          2.453998456233142,
          3.3172834723992968
         ]
        },
        {
         "mode": "lines",
         "name": "0.95",
         "type": "scatter",
         "x": [
          0.05,
          0.1,
          0.15000000000000002,
          0.2,
          0.25,
          0.3,
          0.35,
          0.39999999999999997,
          0.44999999999999996,
          0.49999999999999994,
          0.5499999999999999,
          0.6,
          0.65,
          0.7000000000000001,
          0.7500000000000001,
          0.8000000000000002,
          0.8500000000000002,
          0.9000000000000002,
          0.9500000000000003
         ],
         "y": [
          0.06661781986409915,
          0.13773823654018388,
          0.21401430246034692,
          0.29625233408294127,
          0.3854639723252561,
          0.48294241625219464,
          0.5903776909801596,
          0.7100376989232202,
          0.8450659792076795,
          0.9999999999999996,
          1.181740633226663,
          1.4015455237271277,
          1.679700883930922,
          2.0588398215298462,
          2.657195184754253,
          4.183855434139432
         ]
        }
       ],
       "layout": {
        "template": {
         "data": {
          "bar": [
           {
            "error_x": {
             "color": "#2a3f5f"
            },
            "error_y": {
             "color": "#2a3f5f"
            },
            "marker": {
             "line": {
              "color": "#E5ECF6",
              "width": 0.5
             }
            },
            "type": "bar"
           }
          ],
          "barpolar": [
           {
            "marker": {
             "line": {
              "color": "#E5ECF6",
              "width": 0.5
             }
            },
            "type": "barpolar"
           }
          ],
          "carpet": [
           {
            "aaxis": {
             "endlinecolor": "#2a3f5f",
             "gridcolor": "white",
             "linecolor": "white",
             "minorgridcolor": "white",
             "startlinecolor": "#2a3f5f"
            },
            "baxis": {
             "endlinecolor": "#2a3f5f",
             "gridcolor": "white",
             "linecolor": "white",
             "minorgridcolor": "white",
             "startlinecolor": "#2a3f5f"
            },
            "type": "carpet"
           }
          ],
          "choropleth": [
           {
            "colorbar": {
             "outlinewidth": 0,
             "ticks": ""
            },
            "type": "choropleth"
           }
          ],
          "contour": [
           {
            "colorbar": {
             "outlinewidth": 0,
             "ticks": ""
            },
            "colorscale": [
             [
              0,
              "#0d0887"
             ],
             [
              0.1111111111111111,
              "#46039f"
             ],
             [
              0.2222222222222222,
              "#7201a8"
             ],
             [
              0.3333333333333333,
              "#9c179e"
             ],
             [
              0.4444444444444444,
              "#bd3786"
             ],
             [
              0.5555555555555556,
              "#d8576b"
             ],
             [
              0.6666666666666666,
              "#ed7953"
             ],
             [
              0.7777777777777778,
              "#fb9f3a"
             ],
             [
              0.8888888888888888,
              "#fdca26"
             ],
             [
              1,
              "#f0f921"
             ]
            ],
            "type": "contour"
           }
          ],
          "contourcarpet": [
           {
            "colorbar": {
             "outlinewidth": 0,
             "ticks": ""
            },
            "type": "contourcarpet"
           }
          ],
          "heatmap": [
           {
            "colorbar": {
             "outlinewidth": 0,
             "ticks": ""
            },
            "colorscale": [
             [
              0,
              "#0d0887"
             ],
             [
              0.1111111111111111,
              "#46039f"
             ],
             [
              0.2222222222222222,
              "#7201a8"
             ],
             [
              0.3333333333333333,
              "#9c179e"
             ],
             [
              0.4444444444444444,
              "#bd3786"
             ],
             [
              0.5555555555555556,
              "#d8576b"
             ],
             [
              0.6666666666666666,
              "#ed7953"
             ],
             [
              0.7777777777777778,
              "#fb9f3a"
             ],
             [
              0.8888888888888888,
              "#fdca26"
             ],
             [
              1,
              "#f0f921"
             ]
            ],
            "type": "heatmap"
           }
          ],
          "heatmapgl": [
           {
            "colorbar": {
             "outlinewidth": 0,
             "ticks": ""
            },
            "colorscale": [
             [
              0,
              "#0d0887"
             ],
             [
              0.1111111111111111,
              "#46039f"
             ],
             [
              0.2222222222222222,
              "#7201a8"
             ],
             [
              0.3333333333333333,
              "#9c179e"
             ],
             [
              0.4444444444444444,
              "#bd3786"
             ],
             [
              0.5555555555555556,
              "#d8576b"
             ],
             [
              0.6666666666666666,
              "#ed7953"
             ],
             [
              0.7777777777777778,
              "#fb9f3a"
             ],
             [
              0.8888888888888888,
              "#fdca26"
             ],
             [
              1,
              "#f0f921"
             ]
            ],
            "type": "heatmapgl"
           }
          ],
          "histogram": [
           {
            "marker": {
             "colorbar": {
              "outlinewidth": 0,
              "ticks": ""
             }
            },
            "type": "histogram"
           }
          ],
          "histogram2d": [
           {
            "colorbar": {
             "outlinewidth": 0,
             "ticks": ""
            },
            "colorscale": [
             [
              0,
              "#0d0887"
             ],
             [
              0.1111111111111111,
              "#46039f"
             ],
             [
              0.2222222222222222,
              "#7201a8"
             ],
             [
              0.3333333333333333,
              "#9c179e"
             ],
             [
              0.4444444444444444,
              "#bd3786"
             ],
             [
              0.5555555555555556,
              "#d8576b"
             ],
             [
              0.6666666666666666,
              "#ed7953"
             ],
             [
              0.7777777777777778,
              "#fb9f3a"
             ],
             [
              0.8888888888888888,
              "#fdca26"
             ],
             [
              1,
              "#f0f921"
             ]
            ],
            "type": "histogram2d"
           }
          ],
          "histogram2dcontour": [
           {
            "colorbar": {
             "outlinewidth": 0,
             "ticks": ""
            },
            "colorscale": [
             [
              0,
              "#0d0887"
             ],
             [
              0.1111111111111111,
              "#46039f"
             ],
             [
              0.2222222222222222,
              "#7201a8"
             ],
             [
              0.3333333333333333,
              "#9c179e"
             ],
             [
              0.4444444444444444,
              "#bd3786"
             ],
             [
              0.5555555555555556,
              "#d8576b"
             ],
             [
              0.6666666666666666,
              "#ed7953"
             ],
             [
              0.7777777777777778,
              "#fb9f3a"
             ],
             [
              0.8888888888888888,
              "#fdca26"
             ],
             [
              1,
              "#f0f921"
             ]
            ],
            "type": "histogram2dcontour"
           }
          ],
          "mesh3d": [
           {
            "colorbar": {
             "outlinewidth": 0,
             "ticks": ""
            },
            "type": "mesh3d"
           }
          ],
          "parcoords": [
           {
            "line": {
             "colorbar": {
              "outlinewidth": 0,
              "ticks": ""
             }
            },
            "type": "parcoords"
           }
          ],
          "pie": [
           {
            "automargin": true,
            "type": "pie"
           }
          ],
          "scatter": [
           {
            "marker": {
             "colorbar": {
              "outlinewidth": 0,
              "ticks": ""
             }
            },
            "type": "scatter"
           }
          ],
          "scatter3d": [
           {
            "line": {
             "colorbar": {
              "outlinewidth": 0,
              "ticks": ""
             }
            },
            "marker": {
             "colorbar": {
              "outlinewidth": 0,
              "ticks": ""
             }
            },
            "type": "scatter3d"
           }
          ],
          "scattercarpet": [
           {
            "marker": {
             "colorbar": {
              "outlinewidth": 0,
              "ticks": ""
             }
            },
            "type": "scattercarpet"
           }
          ],
          "scattergeo": [
           {
            "marker": {
             "colorbar": {
              "outlinewidth": 0,
              "ticks": ""
             }
            },
            "type": "scattergeo"
           }
          ],
          "scattergl": [
           {
            "marker": {
             "colorbar": {
              "outlinewidth": 0,
              "ticks": ""
             }
            },
            "type": "scattergl"
           }
          ],
          "scattermapbox": [
           {
            "marker": {
             "colorbar": {
              "outlinewidth": 0,
              "ticks": ""
             }
            },
            "type": "scattermapbox"
           }
          ],
          "scatterpolar": [
           {
            "marker": {
             "colorbar": {
              "outlinewidth": 0,
              "ticks": ""
             }
            },
            "type": "scatterpolar"
           }
          ],
          "scatterpolargl": [
           {
            "marker": {
             "colorbar": {
              "outlinewidth": 0,
              "ticks": ""
             }
            },
            "type": "scatterpolargl"
           }
          ],
          "scatterternary": [
           {
            "marker": {
             "colorbar": {
              "outlinewidth": 0,
              "ticks": ""
             }
            },
            "type": "scatterternary"
           }
          ],
          "surface": [
           {
            "colorbar": {
             "outlinewidth": 0,
             "ticks": ""
            },
            "colorscale": [
             [
              0,
              "#0d0887"
             ],
             [
              0.1111111111111111,
              "#46039f"
             ],
             [
              0.2222222222222222,
              "#7201a8"
             ],
             [
              0.3333333333333333,
              "#9c179e"
             ],
             [
              0.4444444444444444,
              "#bd3786"
             ],
             [
              0.5555555555555556,
              "#d8576b"
             ],
             [
              0.6666666666666666,
              "#ed7953"
             ],
             [
              0.7777777777777778,
              "#fb9f3a"
             ],
             [
              0.8888888888888888,
              "#fdca26"
             ],
             [
              1,
              "#f0f921"
             ]
            ],
            "type": "surface"
           }
          ],
          "table": [
           {
            "cells": {
             "fill": {
              "color": "#EBF0F8"
             },
             "line": {
              "color": "white"
             }
            },
            "header": {
             "fill": {
              "color": "#C8D4E3"
             },
             "line": {
              "color": "white"
             }
            },
            "type": "table"
           }
          ]
         },
         "layout": {
          "annotationdefaults": {
           "arrowcolor": "#2a3f5f",
           "arrowhead": 0,
           "arrowwidth": 1
          },
          "autotypenumbers": "strict",
          "coloraxis": {
           "colorbar": {
            "outlinewidth": 0,
            "ticks": ""
           }
          },
          "colorscale": {
           "diverging": [
            [
             0,
             "#8e0152"
            ],
            [
             0.1,
             "#c51b7d"
            ],
            [
             0.2,
             "#de77ae"
            ],
            [
             0.3,
             "#f1b6da"
            ],
            [
             0.4,
             "#fde0ef"
            ],
            [
             0.5,
             "#f7f7f7"
            ],
            [
             0.6,
             "#e6f5d0"
            ],
            [
             0.7,
             "#b8e186"
            ],
            [
             0.8,
             "#7fbc41"
            ],
            [
             0.9,
             "#4d9221"
            ],
            [
             1,
             "#276419"
            ]
           ],
           "sequential": [
            [
             0,
             "#0d0887"
            ],
            [
             0.1111111111111111,
             "#46039f"
            ],
            [
             0.2222222222222222,
             "#7201a8"
            ],
            [
             0.3333333333333333,
             "#9c179e"
            ],
            [
             0.4444444444444444,
             "#bd3786"
            ],
            [
             0.5555555555555556,
             "#d8576b"
            ],
            [
             0.6666666666666666,
             "#ed7953"
            ],
            [
             0.7777777777777778,
             "#fb9f3a"
            ],
            [
             0.8888888888888888,
             "#fdca26"
            ],
            [
             1,
             "#f0f921"
            ]
           ],
           "sequentialminus": [
            [
             0,
             "#0d0887"
            ],
            [
             0.1111111111111111,
             "#46039f"
            ],
            [
             0.2222222222222222,
             "#7201a8"
            ],
            [
             0.3333333333333333,
             "#9c179e"
            ],
            [
             0.4444444444444444,
             "#bd3786"
            ],
            [
             0.5555555555555556,
             "#d8576b"
            ],
            [
             0.6666666666666666,
             "#ed7953"
            ],
            [
             0.7777777777777778,
             "#fb9f3a"
            ],
            [
             0.8888888888888888,
             "#fdca26"
            ],
            [
             1,
             "#f0f921"
            ]
           ]
          },
          "colorway": [
           "#636efa",
           "#EF553B",
           "#00cc96",
           "#ab63fa",
           "#FFA15A",
           "#19d3f3",
           "#FF6692",
           "#B6E880",
           "#FF97FF",
           "#FECB52"
          ],
          "font": {
           "color": "#2a3f5f"
          },
          "geo": {
           "bgcolor": "white",
           "lakecolor": "white",
           "landcolor": "#E5ECF6",
           "showlakes": true,
           "showland": true,
           "subunitcolor": "white"
          },
          "hoverlabel": {
           "align": "left"
          },
          "hovermode": "closest",
          "mapbox": {
           "style": "light"
          },
          "paper_bgcolor": "white",
          "plot_bgcolor": "#E5ECF6",
          "polar": {
           "angularaxis": {
            "gridcolor": "white",
            "linecolor": "white",
            "ticks": ""
           },
           "bgcolor": "#E5ECF6",
           "radialaxis": {
            "gridcolor": "white",
            "linecolor": "white",
            "ticks": ""
           }
          },
          "scene": {
           "xaxis": {
            "backgroundcolor": "#E5ECF6",
            "gridcolor": "white",
            "gridwidth": 2,
            "linecolor": "white",
            "showbackground": true,
            "ticks": "",
            "zerolinecolor": "white"
           },
           "yaxis": {
            "backgroundcolor": "#E5ECF6",
            "gridcolor": "white",
            "gridwidth": 2,
            "linecolor": "white",
            "showbackground": true,
            "ticks": "",
            "zerolinecolor": "white"
           },
           "zaxis": {
            "backgroundcolor": "#E5ECF6",
            "gridcolor": "white",
            "gridwidth": 2,
            "linecolor": "white",
            "showbackground": true,
            "ticks": "",
            "zerolinecolor": "white"
           }
          },
          "shapedefaults": {
           "line": {
            "color": "#2a3f5f"
           }
          },
          "ternary": {
           "aaxis": {
            "gridcolor": "white",
            "linecolor": "white",
            "ticks": ""
           },
           "baxis": {
            "gridcolor": "white",
            "linecolor": "white",
            "ticks": ""
           },
           "bgcolor": "#E5ECF6",
           "caxis": {
            "gridcolor": "white",
            "linecolor": "white",
            "ticks": ""
           }
          },
          "title": {
           "x": 0.05
          },
          "xaxis": {
           "automargin": true,
           "gridcolor": "white",
           "linecolor": "white",
           "ticks": "",
           "title": {
            "standoff": 15
           },
           "zerolinecolor": "white",
           "zerolinewidth": 2
          },
          "yaxis": {
           "automargin": true,
           "gridcolor": "white",
           "linecolor": "white",
           "ticks": "",
           "title": {
            "standoff": 15
           },
           "zerolinecolor": "white",
           "zerolinewidth": 2
          }
         }
        },
        "title": {
         "text": "Valores de custo para cada mudança na probabilidade de atingir a meta"
        },
        "xaxis": {
         "title": {
          "text": "Probabilidade (p')"
         }
        },
        "yaxis": {
         "title": {
          "text": "Custo (c')"
         }
        }
       }
      },
      "text/html": [
       "<div>                            <div id=\"973fbdbf-0db9-47cd-b8c1-df5f909461bc\" class=\"plotly-graph-div\" style=\"height:525px; width:100%;\"></div>            <script type=\"text/javascript\">                require([\"plotly\"], function(Plotly) {                    window.PLOTLYENV=window.PLOTLYENV || {};                                    if (document.getElementById(\"973fbdbf-0db9-47cd-b8c1-df5f909461bc\")) {                    Plotly.newPlot(                        \"973fbdbf-0db9-47cd-b8c1-df5f909461bc\",                        [{\"mode\": \"lines\", \"name\": \"-0.95\", \"type\": \"scatter\", \"x\": [0.05, 0.1, 0.15000000000000002, 0.2, 0.25, 0.3, 0.35, 0.39999999999999997, 0.44999999999999996, 0.49999999999999994, 0.5499999999999999, 0.6, 0.65, 0.7000000000000001, 0.7500000000000001, 0.8000000000000002, 0.8500000000000002, 0.9000000000000002, 0.9500000000000003], \"y\": [0.15493402079232038, 0.2899623010767797, 0.40962230901984037, 0.5170575837478053, 0.6145360276747438, 0.7037476659170588, 0.7859856975396531, 0.8622617634598161, 0.933382180135901, 1.0, 1.0626515508534018, 1.1217826959637844, 1.1777681009284298, 1.230925629554433, 1.281527275659983, 1.3298075853076972, 1.375970230560889, 1.4201932011953577, 1.4626329490105987]}, {\"mode\": \"lines\", \"name\": \"-0.9\", \"type\": \"scatter\", \"x\": [0.05, 0.1, 0.15000000000000002, 0.2, 0.25, 0.3, 0.35, 0.39999999999999997, 0.44999999999999996, 0.49999999999999994, 0.5499999999999999, 0.6, 0.65, 0.7000000000000001, 0.7500000000000001, 0.8000000000000002, 0.8500000000000002, 0.9000000000000002, 0.9500000000000003], \"y\": [0.15138109462058905, 0.2845888506351376, 0.4035227285498348, 0.5109478487934579, 0.608896326857936, 0.6989054508852194, 0.7821663460663233, 0.8596206882271403, 0.932025835708296, 1.0, 1.064054374178476, 1.1246164923318065, 1.1820475439714913, 1.2366554286242013, 1.2887047494803778, 1.3384245689062604, 1.3860145016131777, 1.431649555540086, 1.4754840171424064]}, {\"mode\": \"lines\", \"name\": \"-0.85\", \"type\": \"scatter\", \"x\": [0.05, 0.1, 0.15000000000000002, 0.2, 0.25, 0.3, 0.35, 0.39999999999999997, 0.44999999999999996, 0.49999999999999994, 0.5499999999999999, 0.6, 0.65, 0.7000000000000001, 0.7500000000000001, 0.8000000000000002, 0.8500000000000002, 0.9000000000000002, 0.9500000000000003], \"y\": [0.14790595648844249, 0.27927665044080313, 0.39744025779075814, 0.5048113704142448, 0.6031975151555888, 0.6939870114453214, 0.7782693520808521, 0.8569152523446142, 0.9306315690837155, 0.9999999999999999, 1.0655049923534405, 1.1275542816660533, 1.186494279209179, 1.2426217848437984, 1.2961930304245717, 1.3474307521104834, 1.3965297856605075, 1.44366154008058, 1.4889776090717617]}, {\"mode\": \"lines\", \"name\": \"-0.8\", \"type\": \"scatter\", \"x\": [0.05, 0.1, 0.15000000000000002, 0.2, 0.25, 0.3, 0.35, 0.39999999999999997, 0.44999999999999996, 0.49999999999999994, 0.5499999999999999, 0.6, 0.65, 0.7000000000000001, 0.7500000000000001, 0.8000000000000002, 0.8500000000000002, 0.9000000000000002, 0.9500000000000003], \"y\": [0.14450816136737457, 0.274028027855985, 0.391378645394659, 0.49865165639658027, 0.5974418567347904, 0.688993075640958, 0.774294157581684, 0.8541442222412537, 0.9291982961277704, 0.9999999999999999, 1.0670054627528056, 1.1306011442272534, 1.1911173387867726, 1.2488385578887145, 1.3040116191484152, 1.3568520242211888, 1.4075490423125858, 1.4562698022859528, 1.503162616699345]}, {\"mode\": \"lines\", \"name\": \"-0.75\", \"type\": \"scatter\", \"x\": [0.05, 0.1, 0.15000000000000002, 0.2, 0.25, 0.3, 0.35, 0.39999999999999997, 0.44999999999999996, 0.49999999999999994, 0.5499999999999999, 0.6, 0.65, 0.7000000000000001, 0.7500000000000001, 0.8000000000000002, 0.8500000000000002, 0.9000000000000002, 0.9500000000000003], \"y\": [0.1411871690023745, 0.26884516072286396, 0.3853415988624241, 0.4924723009183318, 0.5916317674066062, 0.6839245142732038, 0.7702402897031202, 0.8513063816481182, 0.9277249106090615, 1.0, 1.0685579520574748, 1.1337624845997443, 1.1959264121119426, 1.2553207226233174, 1.3121817174439998, 1.3667166896167993, 1.419108485911194, 1.469519205835702, 1.5180932264459674]}, {\"mode\": \"lines\", \"name\": \"-0.7\", \"type\": \"scatter\", \"x\": [0.05, 0.1, 0.15000000000000002, 0.2, 0.25, 0.3, 0.35, 0.39999999999999997, 0.44999999999999996, 0.49999999999999994, 0.5499999999999999, 0.6, 0.65, 0.7000000000000001, 0.7500000000000001, 0.8000000000000002, 0.8500000000000002, 0.9000000000000002, 0.9500000000000003], \"y\": [0.1379423500444618, 0.26373007401523607, 0.37933277232915913, 0.4862769741429151, 0.5857698118935893, 0.6787823448594263, 0.7661073668333105, 0.8484005355883074, 0.9262102847023259, 1.0, 1.070164743518739, 1.1370440585863015, 1.2009319088174417, 1.2620844879549964, 1.3207264254773805, 1.3770557678514865, 1.4312480143356066, 1.4834594148176297, 1.5338296859199447]}, {\"mode\": \"lines\", \"name\": \"-0.65\", \"type\": \"scatter\", \"x\": [0.05, 0.1, 0.15000000000000002, 0.2, 0.25, 0.3, 0.35, 0.39999999999999997, 0.44999999999999996, 0.49999999999999994, 0.5499999999999999, 0.6, 0.65, 0.7000000000000001, 0.7500000000000001, 0.8000000000000002, 0.8500000000000002, 0.9000000000000002, 0.9500000000000003], \"y\": [0.13477299220639738, 0.2586846373738948, 0.37335575467734733, 0.4800694112020247, 0.5798587002196463, 0.6735677351008339, 0.7618951047547544, 0.8454255146048862, 0.9246532696000802, 1.0000000000000002, 1.0718282448263732, 1.1404520029207996, 1.206145029355259, 1.2691474317288876, 1.3296709680110732, 1.387903341062582, 1.4440117095524339, 1.4981455808240207, 1.5504392118419015]}, {\"mode\": \"lines\", \"name\": \"-0.6\", \"type\": \"scatter\", \"x\": [0.05, 0.1, 0.15000000000000002, 0.2, 0.25, 0.3, 0.35, 0.39999999999999997, 0.44999999999999996, 0.49999999999999994, 0.5499999999999999, 0.6, 0.65, 0.7000000000000001, 0.7500000000000001, 0.8000000000000002, 0.8500000000000002, 0.9000000000000002, 0.9500000000000003], \"y\": [0.13167830640078806, 0.2537105635120017, 0.36741405807011196, 0.4738534006407831, 0.5739012832099003, 0.6682820058014826, 0.7576033227688513, 0.8423801792253021, 0.9230526962411559, 1.0, 1.0735509966421992, 1.1439928681584408, 1.2115778443498213, 1.2765286543060212, 1.3390429548198333, 1.399296957822086, 1.4574484246350339, 1.5136391552112258, 1.5679970712429332]}, {\"mode\": \"lines\", \"name\": \"-0.55\", \"type\": \"scatter\", \"x\": [0.05, 0.1, 0.15000000000000002, 0.2, 0.25, 0.3, 0.35, 0.39999999999999997, 0.44999999999999996, 0.49999999999999994, 0.5499999999999999, 0.6, 0.65, 0.7000000000000001, 0.7500000000000001, 0.8000000000000002, 0.8500000000000002, 0.9000000000000002, 0.9500000000000003], \"y\": [0.12865743282331862, 0.2488094074683208, 0.3615111069916334, 0.4676327724067861, 0.5679005470970772, 0.6629266331826852, 0.7532319497625496, 0.8392634246588302, 0.9214073761647924, 1.0000000000000002, 1.075335681867876, 1.147673655157689, 1.2172433840357009, 1.284248953986164, 1.3488726816250987, 1.4112781046762584, 1.4716124755982793, 1.53000885456921, 1.58658787667349]}, {\"mode\": \"lines\", \"name\": \"-0.5\", \"type\": \"scatter\", \"x\": [0.05, 0.1, 0.15000000000000002, 0.2, 0.25, 0.3, 0.35, 0.39999999999999997, 0.44999999999999996, 0.49999999999999994, 0.5499999999999999, 0.6, 0.65, 0.7000000000000001, 0.7500000000000001, 0.8000000000000002, 0.8500000000000002, 0.9000000000000002, 0.9500000000000003], \"y\": [0.1257094469474609, 0.24398256667854187, 0.3556502278752713, 0.4614113854711953, 0.5618596072403228, 0.6575032505388149, 0.7487810301717367, 0.8360741857213118, 0.9197161024991896, 1.0, 1.0771851357240745, 1.1515018556319863, 1.2231557393435961, 1.2923310280739242, 1.3591934792711626, 1.4238927592986212, 1.4865644610633622, 1.5473318149999526, 1.6063071476891624]}, {\"mode\": \"lines\", \"name\": \"-0.45\", \"type\": \"scatter\", \"x\": [0.05, 0.1, 0.15000000000000002, 0.2, 0.25, 0.3, 0.35, 0.39999999999999997, 0.44999999999999996, 0.49999999999999994, 0.5499999999999999, 0.6, 0.65, 0.7000000000000001, 0.7500000000000001, 0.8000000000000002, 0.8500000000000002, 0.9000000000000002, 0.9500000000000003], \"y\": [0.12283336540064799, 0.2392312818280988, 0.34983463939239695, 0.45519311517559935, 0.5557817009722436, 0.6520136491834534, 0.7442507297928708, 0.8328114419789701, 0.9179776510936309, 0.9999999999999999, 1.0791023567278168, 1.1554854973247857, 1.2293301764867208, 1.3007997041745012, 1.370042120626321, 1.437192042615381, 1.5023722388372132, 1.5656949807586609, 1.6272632062703787]}, {\"mode\": \"lines\", \"name\": \"-0.4\", \"type\": \"scatter\", \"x\": [0.05, 0.1, 0.15000000000000002, 0.2, 0.25, 0.3, 0.35, 0.39999999999999997, 0.44999999999999996, 0.49999999999999994, 0.5499999999999999, 0.6, 0.65, 0.7000000000000001, 0.7500000000000001, 0.8000000000000002, 0.8500000000000002, 0.9000000000000002, 0.9500000000000003], \"y\": [0.12002815169552584, 0.23455663844390998, 0.34406744346647056, 0.44898184040263894, 0.5496701796000181, 0.6464597786387359, 0.7396413413914346, 0.8294742231003763, 0.916190781803412, 1.0, 1.0810905186657274, 1.159633194450693, 1.2357832672501503, 1.3096822072845602, 1.3814592969237476, 1.4512329916932898, 1.519112096451234, 1.5851967860610243, 1.6495794945976412]}, {\"mode\": \"lines\", \"name\": \"-0.35\", \"type\": \"scatter\", \"x\": [0.05, 0.1, 0.15000000000000002, 0.2, 0.25, 0.3, 0.35, 0.39999999999999997, 0.44999999999999996, 0.49999999999999994, 0.5499999999999999, 0.6, 0.65, 0.7000000000000001, 0.7500000000000001, 0.8000000000000002, 0.8500000000000002, 0.9000000000000002, 0.9500000000000003], \"y\": [0.11729272179342294, 0.2299595691774662, 0.338351617067715, 0.44278143067130893, 0.5435284995966623, 0.6408437460255513, 0.7349532900532857, 0.8260616144027461, 0.9143542399369038, 1.0000000000000002, 1.0831529836735512, 1.1639542041515698, 1.2425330376136279, 1.319008469468048, 1.3934901781060591, 1.4660794809451316, 1.5368701632405481, 1.6059492066769718, 1.6733974319396476]}, {\"mode\": \"lines\", \"name\": \"-0.3\", \"type\": \"scatter\", \"x\": [0.05, 0.1, 0.15000000000000002, 0.2, 0.25, 0.3, 0.35, 0.39999999999999997, 0.44999999999999996, 0.49999999999999994, 0.5499999999999999, 0.6, 0.65, 0.7000000000000001, 0.7500000000000001, 0.8000000000000002, 0.8500000000000002, 0.9000000000000002, 0.9500000000000003], \"y\": [0.11462594948062037, 0.22544085672758113, 0.33269000483400224, 0.4365957332593192, 0.5373602130286061, 0.6351678146180375, 0.7301871382228617, 0.8225727625756175, 0.9124667578740937, 1.0000000000000002, 1.0852933165467766, 1.168458489842865, 1.2495991378634888, 1.3288114904472352, 1.4061850754028862, 1.481803326775024, 1.5557441256313365, 1.6280802821598812, 1.6988799665575591]}, {\"mode\": \"lines\", \"name\": \"-0.25\", \"type\": \"scatter\", \"x\": [0.05, 0.1, 0.15000000000000002, 0.2, 0.25, 0.3, 0.35, 0.39999999999999997, 0.44999999999999996, 0.49999999999999994, 0.5499999999999999, 0.6, 0.65, 0.7000000000000001, 0.7500000000000001, 0.8000000000000002, 0.8500000000000002, 0.9000000000000002, 0.9500000000000003], \"y\": [0.11202667154128051, 0.2210011373479814, 0.3270853125534799, 0.4304285604548898, 0.5311689572755929, 0.6294344015324782, 0.725343590370664, 0.8190068815616992, 0.9105270568658596, 1.0000000000000002, 1.0875153004238653, 1.17315679247674, 1.2570030379973187, 1.3391277593905175, 1.4196002291240204, 1.498485620811211, 1.575845326338897, 1.6517372429059627, 1.7262160333350602]}, {\"mode\": \"lines\", \"name\": \"-0.2\", \"type\": \"scatter\", \"x\": [0.05, 0.1, 0.15000000000000002, 0.2, 0.25, 0.3, 0.35, 0.39999999999999997, 0.44999999999999996, 0.49999999999999994, 0.5499999999999999, 0.6, 0.65, 0.7000000000000001, 0.7500000000000001, 0.8000000000000002, 0.8500000000000002, 0.9000000000000002, 0.9500000000000003], \"y\": [0.1094936927140039, 0.2166409048826954, 0.32154010153421714, 0.4242836770388403, 0.5249584441082327, 0.6236460745282117, 0.7204234972314502, 0.8153632585712202, 0.9085338490230802, 0.9999999999999999, 1.0898229540028823, 1.1780607109303436, 1.2647682530287483, 1.3499977506674248, 1.4337987508675798, 1.5162183502908837, 1.59730135420001, 1.677090422734444, 1.7556262056971628]}, {\"mode\": \"lines\", \"name\": \"-0.15\", \"type\": \"scatter\", \"x\": [0.05, 0.1, 0.15000000000000002, 0.2, 0.25, 0.3, 0.35, 0.39999999999999997, 0.44999999999999996, 0.49999999999999994, 0.5499999999999999, 0.6, 0.65, 0.7000000000000001, 0.7500000000000001, 0.8000000000000002, 0.8500000000000002, 0.9000000000000002, 0.9500000000000003], \"y\": [0.10702579042189454, 0.21236051527083835, 0.3160567838759391, 0.4181647880949125, 0.5187324481972454, 0.6178055479065016, 0.7154278595543357, 0.811641260202575, 0.9064858395044048, 1.0000000000000004, 1.0922205504745899, 1.1831827929469587, 1.272920603802875, 1.3614665095400755, 1.448851757548639, 1.5351063823121753, 1.620259267380797, 1.7043382034358596, 1.7873699427385399]}, {\"mode\": \"lines\", \"name\": \"-0.1\", \"type\": \"scatter\", \"x\": [0.05, 0.1, 0.15000000000000002, 0.2, 0.25, 0.3, 0.35, 0.39999999999999997, 0.44999999999999996, 0.49999999999999994, 0.5499999999999999, 0.6, 0.65, 0.7000000000000001, 0.7500000000000001, 0.8000000000000002, 0.8500000000000002, 0.9000000000000002, 0.9500000000000003], \"y\": [0.10462171926871862, 0.2081601914619122, 0.3106376186489104, 0.412075527241861, 0.5124947951362556, 0.6119156775022537, 0.7103578313064534, 0.8078403386384084, 0.9043817289111004, 1.0000000000000002, 1.0947126383809997, 1.1885366383236267, 1.2814885201921635, 1.373584347904059, 1.4648397455916748, 1.5552699135106836, 1.6448896432355418, 1.733713332180143, 1.8217549974791922]}, {\"mode\": \"lines\", \"name\": \"-0.05\", \"type\": \"scatter\", \"x\": [0.05, 0.1, 0.15000000000000002, 0.2, 0.25, 0.3, 0.35, 0.39999999999999997, 0.44999999999999996, 0.49999999999999994, 0.5499999999999999, 0.6, 0.65, 0.7000000000000001, 0.7500000000000001, 0.8000000000000002, 0.8500000000000002, 0.9000000000000002, 0.9500000000000003], \"y\": [0.1022802152962298, 0.20404002868297083, 0.30528470897539234, 0.4060194453752468, 0.5062493490668178, 0.6059794547730637, 0.7052147222731646, 0.8039600378826045, 0.9022202158968904, 0.9999999999999991, 1.0973040646385166, 1.1941370163625793, 1.2905033951344218, 1.3864076756056605, 1.4818542683639706, 1.5768475211502906, 1.6713917200471502, 1.7654910906390704, 1.8591497991458492]}, {\"mode\": \"lines\", \"name\": \"0.05\", \"type\": \"scatter\", \"x\": [0.05, 0.1, 0.15000000000000002, 0.2, 0.25, 0.3, 0.35, 0.39999999999999997, 0.44999999999999996, 0.49999999999999994, 0.5499999999999999, 0.6, 0.65, 0.7000000000000001, 0.7500000000000001, 0.8000000000000002, 0.8500000000000002, 0.9000000000000002, 0.9500000000000003], \"y\": [0.09777978410310892, 0.19603996211739547, 0.29478527772683244, 0.39402054522693314, 0.493750650933181, 0.5939805546247501, 0.694715291024608, 0.7959599713170262, 0.8977197847037705, 0.9999999999999993, 1.102805967271268, 1.206143119512751, 1.3100169743721128, 1.4144331359173354, 1.5193972964509532, 1.6249152383721264, 1.7309928360881004, 1.8376360579766455, 1.9448509684010762]}, {\"mode\": \"lines\", \"name\": \"0.1\", \"type\": \"scatter\", \"x\": [0.05, 0.1, 0.15000000000000002, 0.2, 0.25, 0.3, 0.35, 0.39999999999999997, 0.44999999999999996, 0.49999999999999994, 0.5499999999999999, 0.6, 0.65, 0.7000000000000001, 0.7500000000000001, 0.8000000000000002, 0.8500000000000002, 0.9000000000000002, 0.9500000000000003], \"y\": [0.09561827108889831, 0.1921596613615915, 0.2896421686935451, 0.3880843224977467, 0.48750520486374516, 0.5879244727581395, 0.6893623813510895, 0.7918398085380874, 0.8953782807312824, 0.9999999999999996, 1.1057278726461144, 1.2125855393062126, 1.3205974066795463, 1.4297886809882652, 1.5401854032847062, 1.6518144867294107, 1.7647037559734406, 1.8788819887890713, 1.9943789601047472]}, {\"mode\": \"lines\", \"name\": \"0.15\", \"type\": \"scatter\", \"x\": [0.05, 0.1, 0.15000000000000002, 0.2, 0.25, 0.3, 0.35, 0.39999999999999997, 0.44999999999999996, 0.49999999999999994, 0.5499999999999999, 0.6, 0.65, 0.7000000000000001, 0.7500000000000001, 0.8000000000000002, 0.8500000000000002, 0.9000000000000002, 0.9500000000000003], \"y\": [0.09351416049559547, 0.18835873979742593, 0.2845721404456645, 0.3821944520934991, 0.4812675518027545, 0.5818352119050878, 0.6839432161240612, 0.7876394847291602, 0.8929742095781061, 1.0, 1.1087720405807768, 1.2193482620355478, 1.3317895264923967, 1.446159828671281, 1.5625265146229026, 1.680960519899637, 1.8015366292675044, 1.9243337603402952, 2.0494352738296633]}, {\"mode\": \"lines\", \"name\": \"0.2\", \"type\": \"scatter\", \"x\": [0.05, 0.1, 0.15000000000000002, 0.2, 0.25, 0.3, 0.35, 0.39999999999999997, 0.44999999999999996, 0.49999999999999994, 0.5499999999999999, 0.6, 0.65, 0.7000000000000001, 0.7500000000000001, 0.8000000000000002, 0.8500000000000002, 0.9000000000000002, 0.9500000000000003], \"y\": [0.09146615097691906, 0.18463674142878045, 0.2795765027685498, 0.3763539254717874, 0.47504155589176694, 0.5757163229611594, 0.6784598984657826, 0.783359095117305, 0.8905063072859961, 1.0000000000000002, 1.1119452526964688, 1.2264543652499065, 1.3436475350380908, 1.4636536152782431, 1.5866109666280999, 1.712668416164099, 1.8419863404047627, 1.9747378921462517, 2.1111103946525693]}, {\"mode\": \"lines\", \"name\": \"0.25\", \"type\": \"scatter\", \"x\": [0.05, 0.1, 0.15000000000000002, 0.2, 0.25, 0.3, 0.35, 0.39999999999999997, 0.44999999999999996, 0.49999999999999994, 0.5499999999999999, 0.6, 0.65, 0.7000000000000001, 0.7500000000000001, 0.8000000000000002, 0.8500000000000002, 0.9000000000000002, 0.9500000000000003], \"y\": [0.08947294313413995, 0.18099311843830113, 0.274656409629336, 0.37056559846752224, 0.4688310427244069, 0.56957143954511, 0.6729146874465193, 0.7789988626520188, 0.8879733284587187, 0.9999999999999998, 1.1152547912785555, 1.233929276929231, 1.35623260812154, 1.4823937307173056, 1.6126639647738414, 1.7473200184158428, 1.8866675269174902, 2.031045230803721, 2.180829936632863]}, {\"mode\": \"lines\", \"name\": \"0.3\", \"type\": \"scatter\", \"x\": [0.05, 0.1, 0.15000000000000002, 0.2, 0.25, 0.3, 0.35, 0.39999999999999997, 0.44999999999999996, 0.49999999999999994, 0.5499999999999999, 0.6, 0.65, 0.7000000000000001, 0.7500000000000001, 0.8000000000000002, 0.8500000000000002, 0.9000000000000002, 0.9500000000000003], \"y\": [0.08753324212590659, 0.17742723742438216, 0.26981286177713826, 0.3648321853819619, 0.46263978697139374, 0.5634042667406809, 0.6673099951659979, 0.7745591432724188, 0.8853740505193795, 1.0000000000000002, 1.1187084880363791, 1.2418010977788712, 1.3696141158589201, 1.5025240699864684, 1.6409544171413373, 1.7853836817263427, 1.9363554380583168, 2.09449066268461, 2.260503165433819]}, {\"mode\": \"lines\", \"name\": \"0.35\", \"type\": \"scatter\", \"x\": [0.05, 0.1, 0.15000000000000002, 0.2, 0.25, 0.3, 0.35, 0.39999999999999997, 0.44999999999999996, 0.49999999999999994, 0.5499999999999999, 0.6, 0.65, 0.7000000000000001, 0.7500000000000001, 0.8000000000000002, 0.8500000000000002, 0.9000000000000002, 0.9500000000000003], \"y\": [0.08564576006309581, 0.1739383855972541, 0.26504670994671475, 0.359156253974449, 0.45647150040333784, 0.5572185693286916, 0.6616483829322853, 0.770040430822534, 0.882707278206577, 1.0000000000000002, 1.1223147789017447, 1.2501009800566911, 1.3838711174972673, 1.5242132704831124, 1.6718067099379608, 1.8274417854664209, 1.9920455477431778, 2.1667152133064054, 2.3527625411093394]}, {\"mode\": \"lines\", \"name\": \"0.4\", \"type\": \"scatter\", \"x\": [0.05, 0.1, 0.15000000000000002, 0.2, 0.25, 0.3, 0.35, 0.39999999999999997, 0.44999999999999996, 0.49999999999999994, 0.5499999999999999, 0.6, 0.65, 0.7000000000000001, 0.7500000000000001, 0.8000000000000002, 0.8500000000000002, 0.9000000000000002, 0.9500000000000003], \"y\": [0.08380921819658775, 0.17052577689962378, 0.2603586586085651, 0.353540221361264, 0.4503298203999819, 0.551018159597361, 0.6559325565335293, 0.7654433615560902, 0.8799718483044737, 1.0, 1.126082765780976, 1.2588635751632038, 1.3990942086101206, 1.5476605797094714, 1.7056166737049767, 1.8742299491538228, 2.055043187632084, 2.249960504475306, 2.461369813660571]}, {\"mode\": \"lines\", \"name\": \"0.45\", \"type\": \"scatter\", \"x\": [0.05, 0.1, 0.15000000000000002, 0.2, 0.25, 0.3, 0.35, 0.39999999999999997, 0.44999999999999996, 0.49999999999999994, 0.5499999999999999, 0.6, 0.65, 0.7000000000000001, 0.7500000000000001, 0.8000000000000002, 0.8500000000000002, 0.9000000000000002, 0.9500000000000003], \"y\": [0.082022348906369, 0.1671885580210298, 0.25574927020712923, 0.34798635081654683, 0.44421829902775645, 0.5448068848244002, 0.6501653606076023, 0.7607687181719007, 0.8771666345993521, 0.9999999999999999, 1.1300222863404448, 1.2681275654098803, 1.4153878243881752, 1.5731035462955532, 1.7428736498124517, 1.9266944226212543, 2.1271031859011997, 2.347393393862171, 2.5919485466863907]}, {\"mode\": \"lines\", \"name\": \"0.5\", \"type\": \"scatter\", \"x\": [0.05, 0.1, 0.15000000000000002, 0.2, 0.25, 0.3, 0.35, 0.39999999999999997, 0.44999999999999996, 0.49999999999999994, 0.5499999999999999, 0.6, 0.65, 0.7000000000000001, 0.7500000000000001, 0.8000000000000002, 0.8500000000000002, 0.9000000000000002, 0.9500000000000003], \"y\": [0.08028389750081044, 0.1639258142786882, 0.25121896982826303, 0.34249674946118536, 0.4381403927596771, 0.5385886145288045, 0.6443497721247285, 0.756017433321458, 0.8742905530525389, 1.0, 1.1341439931052442, 1.2779362995458294, 1.4328731399888452, 1.6008282530582754, 1.7841916590763625, 1.9860786912320079, 2.2106568539700455, 2.463680454797201, 2.7534148979054156]}, {\"mode\": \"lines\", \"name\": \"0.55\", \"type\": \"scatter\", \"x\": [0.05, 0.1, 0.15000000000000002, 0.2, 0.25, 0.3, 0.35, 0.39999999999999997, 0.44999999999999996, 0.49999999999999994, 0.5499999999999999, 0.6, 0.65, 0.7000000000000001, 0.7500000000000001, 0.8000000000000002, 0.8500000000000002, 0.9000000000000002, 0.9500000000000003], \"y\": [0.07859262383520779, 0.16073657534116984, 0.24676805023745044, 0.33707336681731453, 0.43209945290292295, 0.532367227593214, 0.6384888930083665, 0.7511905925316791, 0.8713425671766809, 1.0, 1.138459443393657, 1.2883385571208679, 1.4516917622032384, 1.6311831626055313, 1.8303545410164686, 2.054058993945991, 2.309200613408217, 2.6060826760786227, 2.9610856076459684]}, {\"mode\": \"lines\", \"name\": \"0.6\", \"type\": \"scatter\", \"x\": [0.05, 0.1, 0.15000000000000002, 0.2, 0.25, 0.3, 0.35, 0.39999999999999997, 0.44999999999999996, 0.49999999999999994, 0.5499999999999999, 0.6, 0.65, 0.7000000000000001, 0.7500000000000001, 0.8000000000000002, 0.8500000000000002, 0.9000000000000002, 0.9500000000000003], \"y\": [0.07694730375884373, 0.1576198207746979, 0.24239667723114863, 0.33171799419851733, 0.4260987167900993, 0.5261465993592168, 0.6325859419298877, 0.7462894364879982, 0.8683216935992117, 1.0, 1.1429812019070675, 1.299389474092001, 1.4720104842447115, 1.6645982085632385, 1.8823832494068542, 2.1329658134789873, 2.4280060074354424, 2.786755407083961, 3.2445261889743358]}, {\"mode\": \"lines\", \"name\": \"0.65\", \"type\": \"scatter\", \"x\": [0.05, 0.1, 0.15000000000000002, 0.2, 0.25, 0.3, 0.35, 0.39999999999999997, 0.44999999999999996, 0.49999999999999994, 0.5499999999999999, 0.6, 0.65, 0.7000000000000001, 0.7500000000000001, 0.8000000000000002, 0.8500000000000002, 0.9000000000000002, 0.9500000000000003], \"y\": [0.07534673039991982, 0.15457448539511373, 0.23810489524524572, 0.3264322648991664, 0.420141299780354, 0.5199305887979755, 0.6266442453226527, 0.7413153626261053, 0.8652270077936026, 1.0, 1.147722958159753, 1.3111516719545055, 1.4940274903877222, 1.7016116920248614, 1.9416396580932453, 2.2261656998416837, 2.5755303557979863, 3.0282831046311522, 3.672609200923722]}, {\"mode\": \"lines\", \"name\": \"0.7\", \"type\": \"scatter\", \"x\": [0.05, 0.1, 0.15000000000000002, 0.2, 0.25, 0.3, 0.35, 0.39999999999999997, 0.44999999999999996, 0.49999999999999994, 0.5499999999999999, 0.6, 0.65, 0.7000000000000001, 0.7500000000000001, 0.8000000000000002, 0.8500000000000002, 0.9000000000000002, 0.9500000000000003], \"y\": [0.07378971529767404, 0.15159946441169267, 0.23389263316668918, 0.32121765514057365, 0.41423018810641066, 0.5137230258570845, 0.620667227670841, 0.7362699259847636, 0.862057649955538, 0.9999999999999993, 1.1526996613835778, 1.3236966461351116, 1.5179805710027339, 1.742909120760004, 2.009993332289973, 2.338765063552385, 2.7665551639236554, 3.380028177400945, 4.478166775079047]}, {\"mode\": \"lines\", \"name\": \"0.75\", \"type\": \"scatter\", \"x\": [0.05, 0.1, 0.15000000000000002, 0.2, 0.25, 0.3, 0.35, 0.39999999999999997, 0.44999999999999996, 0.49999999999999994, 0.5499999999999999, 0.6, 0.65, 0.7000000000000001, 0.7500000000000001, 0.8000000000000002, 0.8500000000000002, 0.9000000000000002, 0.9500000000000003], \"y\": [0.07227508939093825, 0.14869361835188188, 0.22975971029687975, 0.31607548572679606, 0.4083682325933937, 0.5075276990816681, 0.614658401137576, 0.7311548392771354, 0.8588128309976251, 0.9999999999999992, 1.157927676102195, 1.3371064879505057, 1.544158177425726, 1.789380921604789, 2.0901030370026996, 2.479025198773094, 3.0304022121247356, 3.987399769309249]}, {\"mode\": \"lines\", \"name\": \"0.8\", \"type\": \"scatter\", \"x\": [0.05, 0.1, 0.15000000000000002, 0.2, 0.25, 0.3, 0.35, 0.39999999999999997, 0.44999999999999996, 0.49999999999999994, 0.5499999999999999, 0.6, 0.65, 0.7000000000000001, 0.7500000000000001, 0.8000000000000002, 0.8500000000000002, 0.9000000000000002, 0.9500000000000003], \"y\": [0.07080170387222967, 0.14585577775874622, 0.22570584241831576, 0.3110069243590419, 0.4025581432652093, 0.5013483436034197, 0.6086213546053407, 0.7259719721440144, 0.8554918386326252, 0.9999999999999994, 1.1634249622685602, 1.3514760403954034, 1.5729145727165887, 1.8422111261595666, 2.1859220576663927, 2.661563684205022, 3.43884251058826, 5.917372075480651]}, {\"mode\": \"lines\", \"name\": \"0.85\", \"type\": \"scatter\", \"x\": [0.05, 0.1, 0.15000000000000002, 0.2, 0.25, 0.3, 0.35, 0.39999999999999997, 0.44999999999999996, 0.49999999999999994, 0.5499999999999999, 0.6, 0.65, 0.7000000000000001, 0.7500000000000001, 0.8000000000000002, 0.8500000000000002, 0.9000000000000002, 0.9500000000000003], \"y\": [0.06936843091628442, 0.14308474765538592, 0.2217306479191478, 0.3060129885546787, 0.39680248484441116, 0.49518862958575505, 0.6025597422092417, 0.7207233495591967, 0.8520940435115575, 0.9999999999999996, 1.1692112847386178, 1.3669156248596877, 1.604691030750205, 1.9030192177563428, 2.303679640920747, 2.9159531037052733, 4.266637254002895]}, {\"mode\": \"lines\", \"name\": \"0.9\", \"type\": \"scatter\", \"x\": [0.05, 0.1, 0.15000000000000002, 0.2, 0.25, 0.3, 0.35, 0.39999999999999997, 0.44999999999999996, 0.49999999999999994, 0.5499999999999999, 0.6, 0.65, 0.7000000000000001, 0.7500000000000001, 0.8000000000000002, 0.8500000000000002, 0.9000000000000002, 0.9500000000000003], \"y\": [0.06797416429170382, 0.14037931177285956, 0.2178336539336766, 0.30109454911478034, 0.39110367314206385, 0.4890521512065422, 0.5964772714501649, 0.7154111493648623, 0.8486189053794108, 0.9999999999999996, 1.1753084579667255, 1.3835545289783362, 1.6400462101737492, 1.9740982973702241, 2.453998456233142, 3.3172834723992968]}, {\"mode\": \"lines\", \"name\": \"0.95\", \"type\": \"scatter\", \"x\": [0.05, 0.1, 0.15000000000000002, 0.2, 0.25, 0.3, 0.35, 0.39999999999999997, 0.44999999999999996, 0.49999999999999994, 0.5499999999999999, 0.6, 0.65, 0.7000000000000001, 0.7500000000000001, 0.8000000000000002, 0.8500000000000002, 0.9000000000000002, 0.9500000000000003], \"y\": [0.06661781986409915, 0.13773823654018388, 0.21401430246034692, 0.29625233408294127, 0.3854639723252561, 0.48294241625219464, 0.5903776909801596, 0.7100376989232202, 0.8450659792076795, 0.9999999999999996, 1.181740633226663, 1.4015455237271277, 1.679700883930922, 2.0588398215298462, 2.657195184754253, 4.183855434139432]}],                        {\"template\": {\"data\": {\"bar\": [{\"error_x\": {\"color\": \"#2a3f5f\"}, \"error_y\": {\"color\": \"#2a3f5f\"}, \"marker\": {\"line\": {\"color\": \"#E5ECF6\", \"width\": 0.5}}, \"type\": \"bar\"}], \"barpolar\": [{\"marker\": {\"line\": {\"color\": \"#E5ECF6\", \"width\": 0.5}}, \"type\": \"barpolar\"}], \"carpet\": [{\"aaxis\": {\"endlinecolor\": \"#2a3f5f\", \"gridcolor\": \"white\", \"linecolor\": \"white\", \"minorgridcolor\": \"white\", \"startlinecolor\": \"#2a3f5f\"}, \"baxis\": {\"endlinecolor\": \"#2a3f5f\", \"gridcolor\": \"white\", \"linecolor\": \"white\", \"minorgridcolor\": \"white\", \"startlinecolor\": \"#2a3f5f\"}, \"type\": \"carpet\"}], \"choropleth\": [{\"colorbar\": {\"outlinewidth\": 0, \"ticks\": \"\"}, \"type\": \"choropleth\"}], \"contour\": [{\"colorbar\": {\"outlinewidth\": 0, \"ticks\": \"\"}, \"colorscale\": [[0.0, \"#0d0887\"], [0.1111111111111111, \"#46039f\"], [0.2222222222222222, \"#7201a8\"], [0.3333333333333333, \"#9c179e\"], [0.4444444444444444, \"#bd3786\"], [0.5555555555555556, \"#d8576b\"], [0.6666666666666666, \"#ed7953\"], [0.7777777777777778, \"#fb9f3a\"], [0.8888888888888888, \"#fdca26\"], [1.0, \"#f0f921\"]], \"type\": \"contour\"}], \"contourcarpet\": [{\"colorbar\": {\"outlinewidth\": 0, \"ticks\": \"\"}, \"type\": \"contourcarpet\"}], \"heatmap\": [{\"colorbar\": {\"outlinewidth\": 0, \"ticks\": \"\"}, \"colorscale\": [[0.0, \"#0d0887\"], [0.1111111111111111, \"#46039f\"], [0.2222222222222222, \"#7201a8\"], [0.3333333333333333, \"#9c179e\"], [0.4444444444444444, \"#bd3786\"], [0.5555555555555556, \"#d8576b\"], [0.6666666666666666, \"#ed7953\"], [0.7777777777777778, \"#fb9f3a\"], [0.8888888888888888, \"#fdca26\"], [1.0, \"#f0f921\"]], \"type\": \"heatmap\"}], \"heatmapgl\": [{\"colorbar\": {\"outlinewidth\": 0, \"ticks\": \"\"}, \"colorscale\": [[0.0, \"#0d0887\"], [0.1111111111111111, \"#46039f\"], [0.2222222222222222, \"#7201a8\"], [0.3333333333333333, \"#9c179e\"], [0.4444444444444444, \"#bd3786\"], [0.5555555555555556, \"#d8576b\"], [0.6666666666666666, \"#ed7953\"], [0.7777777777777778, \"#fb9f3a\"], [0.8888888888888888, \"#fdca26\"], [1.0, \"#f0f921\"]], \"type\": \"heatmapgl\"}], \"histogram\": [{\"marker\": {\"colorbar\": {\"outlinewidth\": 0, \"ticks\": \"\"}}, \"type\": \"histogram\"}], \"histogram2d\": [{\"colorbar\": {\"outlinewidth\": 0, \"ticks\": \"\"}, \"colorscale\": [[0.0, \"#0d0887\"], [0.1111111111111111, \"#46039f\"], [0.2222222222222222, \"#7201a8\"], [0.3333333333333333, \"#9c179e\"], [0.4444444444444444, \"#bd3786\"], [0.5555555555555556, \"#d8576b\"], [0.6666666666666666, \"#ed7953\"], [0.7777777777777778, \"#fb9f3a\"], [0.8888888888888888, \"#fdca26\"], [1.0, \"#f0f921\"]], \"type\": \"histogram2d\"}], \"histogram2dcontour\": [{\"colorbar\": {\"outlinewidth\": 0, \"ticks\": \"\"}, \"colorscale\": [[0.0, \"#0d0887\"], [0.1111111111111111, \"#46039f\"], [0.2222222222222222, \"#7201a8\"], [0.3333333333333333, \"#9c179e\"], [0.4444444444444444, \"#bd3786\"], [0.5555555555555556, \"#d8576b\"], [0.6666666666666666, \"#ed7953\"], [0.7777777777777778, \"#fb9f3a\"], [0.8888888888888888, \"#fdca26\"], [1.0, \"#f0f921\"]], \"type\": \"histogram2dcontour\"}], \"mesh3d\": [{\"colorbar\": {\"outlinewidth\": 0, \"ticks\": \"\"}, \"type\": \"mesh3d\"}], \"parcoords\": [{\"line\": {\"colorbar\": {\"outlinewidth\": 0, \"ticks\": \"\"}}, \"type\": \"parcoords\"}], \"pie\": [{\"automargin\": true, \"type\": \"pie\"}], \"scatter\": [{\"marker\": {\"colorbar\": {\"outlinewidth\": 0, \"ticks\": \"\"}}, \"type\": \"scatter\"}], \"scatter3d\": [{\"line\": {\"colorbar\": {\"outlinewidth\": 0, \"ticks\": \"\"}}, \"marker\": {\"colorbar\": {\"outlinewidth\": 0, \"ticks\": \"\"}}, \"type\": \"scatter3d\"}], \"scattercarpet\": [{\"marker\": {\"colorbar\": {\"outlinewidth\": 0, \"ticks\": \"\"}}, \"type\": \"scattercarpet\"}], \"scattergeo\": [{\"marker\": {\"colorbar\": {\"outlinewidth\": 0, \"ticks\": \"\"}}, \"type\": \"scattergeo\"}], \"scattergl\": [{\"marker\": {\"colorbar\": {\"outlinewidth\": 0, \"ticks\": \"\"}}, \"type\": \"scattergl\"}], \"scattermapbox\": [{\"marker\": {\"colorbar\": {\"outlinewidth\": 0, \"ticks\": \"\"}}, \"type\": \"scattermapbox\"}], \"scatterpolar\": [{\"marker\": {\"colorbar\": {\"outlinewidth\": 0, \"ticks\": \"\"}}, \"type\": \"scatterpolar\"}], \"scatterpolargl\": [{\"marker\": {\"colorbar\": {\"outlinewidth\": 0, \"ticks\": \"\"}}, \"type\": \"scatterpolargl\"}], \"scatterternary\": [{\"marker\": {\"colorbar\": {\"outlinewidth\": 0, \"ticks\": \"\"}}, \"type\": \"scatterternary\"}], \"surface\": [{\"colorbar\": {\"outlinewidth\": 0, \"ticks\": \"\"}, \"colorscale\": [[0.0, \"#0d0887\"], [0.1111111111111111, \"#46039f\"], [0.2222222222222222, \"#7201a8\"], [0.3333333333333333, \"#9c179e\"], [0.4444444444444444, \"#bd3786\"], [0.5555555555555556, \"#d8576b\"], [0.6666666666666666, \"#ed7953\"], [0.7777777777777778, \"#fb9f3a\"], [0.8888888888888888, \"#fdca26\"], [1.0, \"#f0f921\"]], \"type\": \"surface\"}], \"table\": [{\"cells\": {\"fill\": {\"color\": \"#EBF0F8\"}, \"line\": {\"color\": \"white\"}}, \"header\": {\"fill\": {\"color\": \"#C8D4E3\"}, \"line\": {\"color\": \"white\"}}, \"type\": \"table\"}]}, \"layout\": {\"annotationdefaults\": {\"arrowcolor\": \"#2a3f5f\", \"arrowhead\": 0, \"arrowwidth\": 1}, \"autotypenumbers\": \"strict\", \"coloraxis\": {\"colorbar\": {\"outlinewidth\": 0, \"ticks\": \"\"}}, \"colorscale\": {\"diverging\": [[0, \"#8e0152\"], [0.1, \"#c51b7d\"], [0.2, \"#de77ae\"], [0.3, \"#f1b6da\"], [0.4, \"#fde0ef\"], [0.5, \"#f7f7f7\"], [0.6, \"#e6f5d0\"], [0.7, \"#b8e186\"], [0.8, \"#7fbc41\"], [0.9, \"#4d9221\"], [1, \"#276419\"]], \"sequential\": [[0.0, \"#0d0887\"], [0.1111111111111111, \"#46039f\"], [0.2222222222222222, \"#7201a8\"], [0.3333333333333333, \"#9c179e\"], [0.4444444444444444, \"#bd3786\"], [0.5555555555555556, \"#d8576b\"], [0.6666666666666666, \"#ed7953\"], [0.7777777777777778, \"#fb9f3a\"], [0.8888888888888888, \"#fdca26\"], [1.0, \"#f0f921\"]], \"sequentialminus\": [[0.0, \"#0d0887\"], [0.1111111111111111, \"#46039f\"], [0.2222222222222222, \"#7201a8\"], [0.3333333333333333, \"#9c179e\"], [0.4444444444444444, \"#bd3786\"], [0.5555555555555556, \"#d8576b\"], [0.6666666666666666, \"#ed7953\"], [0.7777777777777778, \"#fb9f3a\"], [0.8888888888888888, \"#fdca26\"], [1.0, \"#f0f921\"]]}, \"colorway\": [\"#636efa\", \"#EF553B\", \"#00cc96\", \"#ab63fa\", \"#FFA15A\", \"#19d3f3\", \"#FF6692\", \"#B6E880\", \"#FF97FF\", \"#FECB52\"], \"font\": {\"color\": \"#2a3f5f\"}, \"geo\": {\"bgcolor\": \"white\", \"lakecolor\": \"white\", \"landcolor\": \"#E5ECF6\", \"showlakes\": true, \"showland\": true, \"subunitcolor\": \"white\"}, \"hoverlabel\": {\"align\": \"left\"}, \"hovermode\": \"closest\", \"mapbox\": {\"style\": \"light\"}, \"paper_bgcolor\": \"white\", \"plot_bgcolor\": \"#E5ECF6\", \"polar\": {\"angularaxis\": {\"gridcolor\": \"white\", \"linecolor\": \"white\", \"ticks\": \"\"}, \"bgcolor\": \"#E5ECF6\", \"radialaxis\": {\"gridcolor\": \"white\", \"linecolor\": \"white\", \"ticks\": \"\"}}, \"scene\": {\"xaxis\": {\"backgroundcolor\": \"#E5ECF6\", \"gridcolor\": \"white\", \"gridwidth\": 2, \"linecolor\": \"white\", \"showbackground\": true, \"ticks\": \"\", \"zerolinecolor\": \"white\"}, \"yaxis\": {\"backgroundcolor\": \"#E5ECF6\", \"gridcolor\": \"white\", \"gridwidth\": 2, \"linecolor\": \"white\", \"showbackground\": true, \"ticks\": \"\", \"zerolinecolor\": \"white\"}, \"zaxis\": {\"backgroundcolor\": \"#E5ECF6\", \"gridcolor\": \"white\", \"gridwidth\": 2, \"linecolor\": \"white\", \"showbackground\": true, \"ticks\": \"\", \"zerolinecolor\": \"white\"}}, \"shapedefaults\": {\"line\": {\"color\": \"#2a3f5f\"}}, \"ternary\": {\"aaxis\": {\"gridcolor\": \"white\", \"linecolor\": \"white\", \"ticks\": \"\"}, \"baxis\": {\"gridcolor\": \"white\", \"linecolor\": \"white\", \"ticks\": \"\"}, \"bgcolor\": \"#E5ECF6\", \"caxis\": {\"gridcolor\": \"white\", \"linecolor\": \"white\", \"ticks\": \"\"}}, \"title\": {\"x\": 0.05}, \"xaxis\": {\"automargin\": true, \"gridcolor\": \"white\", \"linecolor\": \"white\", \"ticks\": \"\", \"title\": {\"standoff\": 15}, \"zerolinecolor\": \"white\", \"zerolinewidth\": 2}, \"yaxis\": {\"automargin\": true, \"gridcolor\": \"white\", \"linecolor\": \"white\", \"ticks\": \"\", \"title\": {\"standoff\": 15}, \"zerolinecolor\": \"white\", \"zerolinewidth\": 2}}}, \"title\": {\"text\": \"Valores de custo para cada mudan\\u00e7a na probabilidade de atingir a meta\"}, \"xaxis\": {\"title\": {\"text\": \"Probabilidade (p')\"}}, \"yaxis\": {\"title\": {\"text\": \"Custo (c')\"}}},                        {\"responsive\": true}                    ).then(function(){\n",
       "                            \n",
       "var gd = document.getElementById('973fbdbf-0db9-47cd-b8c1-df5f909461bc');\n",
       "var x = new MutationObserver(function (mutations, observer) {{\n",
       "        var display = window.getComputedStyle(gd).display;\n",
       "        if (!display || display === 'none') {{\n",
       "            console.log([gd, 'removed!']);\n",
       "            Plotly.purge(gd);\n",
       "            observer.disconnect();\n",
       "        }}\n",
       "}});\n",
       "\n",
       "// Listen for the removal of the full notebook cells\n",
       "var notebookContainer = gd.closest('#notebook-container');\n",
       "if (notebookContainer) {{\n",
       "    x.observe(notebookContainer, {childList: true});\n",
       "}}\n",
       "\n",
       "// Listen for the clearing of the current output cell\n",
       "var outputEl = gd.closest('.output');\n",
       "if (outputEl) {{\n",
       "    x.observe(outputEl, {childList: true});\n",
       "}}\n",
       "\n",
       "                        })                };                });            </script>        </div>"
      ]
     },
     "metadata": {},
     "output_type": "display_data"
    },
    {
     "data": {
      "application/vnd.plotly.v1+json": {
       "config": {
        "plotlyServerURL": "https://plot.ly"
       },
       "data": [
        {
         "line": {
          "color": "rgb(200.0, 200.0, 200.0)"
         },
         "mode": "lines",
         "name": "-0.95",
         "type": "scatter",
         "x": [
          0.05,
          0.1,
          0.15,
          0.2,
          0.25,
          0.3,
          0.35,
          0.4,
          0.45,
          0.5,
          0.55,
          0.6,
          0.65,
          0.7,
          0.75,
          0.8,
          0.85,
          0.9,
          0.95
         ],
         "y": [
          0.15493402079232038,
          0.2899623010767797,
          0.40962230901984037,
          0.5170575837478053,
          0.6145360276747438,
          0.7037476659170588,
          0.7859856975396531,
          0.8622617634598161,
          0.933382180135901,
          1,
          1.0626515508534018,
          1.1217826959637844,
          1.1777681009284298,
          1.230925629554433,
          1.281527275659983,
          1.3298075853076972,
          1.375970230560889,
          1.4201932011953577,
          1.4626329490105987
         ]
        },
        {
         "line": {
          "color": "rgb(201.44736842105263, 201.44736842105263, 201.44736842105263)"
         },
         "mode": "lines",
         "name": "-0.9",
         "type": "scatter",
         "x": [
          0.05,
          0.1,
          0.15,
          0.2,
          0.25,
          0.3,
          0.35,
          0.4,
          0.45,
          0.5,
          0.55,
          0.6,
          0.65,
          0.7,
          0.75,
          0.8,
          0.85,
          0.9,
          0.95
         ],
         "y": [
          0.15138109462058905,
          0.2845888506351376,
          0.4035227285498348,
          0.5109478487934579,
          0.608896326857936,
          0.6989054508852194,
          0.7821663460663233,
          0.8596206882271403,
          0.932025835708296,
          1,
          1.064054374178476,
          1.1246164923318065,
          1.1820475439714913,
          1.2366554286242013,
          1.2887047494803778,
          1.3384245689062604,
          1.3860145016131777,
          1.431649555540086,
          1.4754840171424064
         ]
        },
        {
         "line": {
          "color": "rgb(202.89473684210526, 202.89473684210526, 202.89473684210526)"
         },
         "mode": "lines",
         "name": "-0.85",
         "type": "scatter",
         "x": [
          0.05,
          0.1,
          0.15,
          0.2,
          0.25,
          0.3,
          0.35,
          0.4,
          0.45,
          0.5,
          0.55,
          0.6,
          0.65,
          0.7,
          0.75,
          0.8,
          0.85,
          0.9,
          0.95
         ],
         "y": [
          0.14790595648844249,
          0.27927665044080313,
          0.39744025779075814,
          0.5048113704142448,
          0.6031975151555888,
          0.6939870114453214,
          0.7782693520808521,
          0.8569152523446142,
          0.9306315690837155,
          0.9999999999999999,
          1.0655049923534405,
          1.1275542816660533,
          1.186494279209179,
          1.2426217848437984,
          1.2961930304245717,
          1.3474307521104834,
          1.3965297856605075,
          1.44366154008058,
          1.4889776090717617
         ]
        },
        {
         "line": {
          "color": "rgb(204.3421052631579, 204.3421052631579, 204.3421052631579)"
         },
         "mode": "lines",
         "name": "-0.8",
         "type": "scatter",
         "x": [
          0.05,
          0.1,
          0.15,
          0.2,
          0.25,
          0.3,
          0.35,
          0.4,
          0.45,
          0.5,
          0.55,
          0.6,
          0.65,
          0.7,
          0.75,
          0.8,
          0.85,
          0.9,
          0.95
         ],
         "y": [
          0.14450816136737457,
          0.274028027855985,
          0.391378645394659,
          0.49865165639658027,
          0.5974418567347904,
          0.688993075640958,
          0.774294157581684,
          0.8541442222412537,
          0.9291982961277704,
          0.9999999999999999,
          1.0670054627528056,
          1.1306011442272534,
          1.1911173387867726,
          1.2488385578887145,
          1.3040116191484152,
          1.3568520242211888,
          1.4075490423125858,
          1.4562698022859528,
          1.503162616699345
         ]
        },
        {
         "line": {
          "color": "rgb(205.78947368421052, 205.78947368421052, 205.78947368421052)"
         },
         "mode": "lines",
         "name": "-0.75",
         "type": "scatter",
         "x": [
          0.05,
          0.1,
          0.15,
          0.2,
          0.25,
          0.3,
          0.35,
          0.4,
          0.45,
          0.5,
          0.55,
          0.6,
          0.65,
          0.7,
          0.75,
          0.8,
          0.85,
          0.9,
          0.95
         ],
         "y": [
          0.1411871690023745,
          0.26884516072286396,
          0.3853415988624241,
          0.4924723009183318,
          0.5916317674066062,
          0.6839245142732038,
          0.7702402897031202,
          0.8513063816481182,
          0.9277249106090615,
          1,
          1.0685579520574748,
          1.1337624845997443,
          1.1959264121119426,
          1.2553207226233174,
          1.3121817174439998,
          1.3667166896167993,
          1.419108485911194,
          1.469519205835702,
          1.5180932264459674
         ]
        },
        {
         "line": {
          "color": "rgb(207.23684210526315, 207.23684210526315, 207.23684210526315)"
         },
         "mode": "lines",
         "name": "-0.7",
         "type": "scatter",
         "x": [
          0.05,
          0.1,
          0.15,
          0.2,
          0.25,
          0.3,
          0.35,
          0.4,
          0.45,
          0.5,
          0.55,
          0.6,
          0.65,
          0.7,
          0.75,
          0.8,
          0.85,
          0.9,
          0.95
         ],
         "y": [
          0.1379423500444618,
          0.26373007401523607,
          0.37933277232915913,
          0.4862769741429151,
          0.5857698118935893,
          0.6787823448594263,
          0.7661073668333105,
          0.8484005355883074,
          0.9262102847023259,
          1,
          1.070164743518739,
          1.1370440585863015,
          1.2009319088174417,
          1.2620844879549964,
          1.3207264254773805,
          1.3770557678514865,
          1.4312480143356066,
          1.4834594148176297,
          1.5338296859199447
         ]
        },
        {
         "line": {
          "color": "rgb(208.68421052631578, 208.68421052631578, 208.68421052631578)"
         },
         "mode": "lines",
         "name": "-0.65",
         "type": "scatter",
         "x": [
          0.05,
          0.1,
          0.15,
          0.2,
          0.25,
          0.3,
          0.35,
          0.4,
          0.45,
          0.5,
          0.55,
          0.6,
          0.65,
          0.7,
          0.75,
          0.8,
          0.85,
          0.9,
          0.95
         ],
         "y": [
          0.13477299220639738,
          0.2586846373738948,
          0.37335575467734733,
          0.4800694112020247,
          0.5798587002196463,
          0.6735677351008339,
          0.7618951047547544,
          0.8454255146048862,
          0.9246532696000802,
          1.0000000000000002,
          1.0718282448263732,
          1.1404520029207996,
          1.206145029355259,
          1.2691474317288876,
          1.3296709680110732,
          1.387903341062582,
          1.4440117095524339,
          1.4981455808240207,
          1.5504392118419015
         ]
        },
        {
         "line": {
          "color": "rgb(210.1315789473684, 210.1315789473684, 210.1315789473684)"
         },
         "mode": "lines",
         "name": "-0.6",
         "type": "scatter",
         "x": [
          0.05,
          0.1,
          0.15,
          0.2,
          0.25,
          0.3,
          0.35,
          0.4,
          0.45,
          0.5,
          0.55,
          0.6,
          0.65,
          0.7,
          0.75,
          0.8,
          0.85,
          0.9,
          0.95
         ],
         "y": [
          0.13167830640078806,
          0.2537105635120017,
          0.36741405807011196,
          0.4738534006407831,
          0.5739012832099003,
          0.6682820058014826,
          0.7576033227688513,
          0.8423801792253021,
          0.9230526962411559,
          1,
          1.0735509966421992,
          1.1439928681584408,
          1.2115778443498213,
          1.2765286543060212,
          1.3390429548198333,
          1.399296957822086,
          1.4574484246350339,
          1.5136391552112258,
          1.5679970712429332
         ]
        },
        {
         "line": {
          "color": "rgb(211.57894736842104, 211.57894736842104, 211.57894736842104)"
         },
         "mode": "lines",
         "name": "-0.55",
         "type": "scatter",
         "x": [
          0.05,
          0.1,
          0.15,
          0.2,
          0.25,
          0.3,
          0.35,
          0.4,
          0.45,
          0.5,
          0.55,
          0.6,
          0.65,
          0.7,
          0.75,
          0.8,
          0.85,
          0.9,
          0.95
         ],
         "y": [
          0.12865743282331862,
          0.2488094074683208,
          0.3615111069916334,
          0.4676327724067861,
          0.5679005470970772,
          0.6629266331826852,
          0.7532319497625496,
          0.8392634246588302,
          0.9214073761647924,
          1.0000000000000002,
          1.075335681867876,
          1.147673655157689,
          1.2172433840357009,
          1.284248953986164,
          1.3488726816250987,
          1.4112781046762584,
          1.4716124755982793,
          1.53000885456921,
          1.58658787667349
         ]
        },
        {
         "line": {
          "color": "rgb(213.0263157894737, 213.0263157894737, 213.0263157894737)"
         },
         "mode": "lines",
         "name": "-0.5",
         "type": "scatter",
         "x": [
          0.05,
          0.1,
          0.15,
          0.2,
          0.25,
          0.3,
          0.35,
          0.4,
          0.45,
          0.5,
          0.55,
          0.6,
          0.65,
          0.7,
          0.75,
          0.8,
          0.85,
          0.9,
          0.95
         ],
         "y": [
          0.1257094469474609,
          0.24398256667854187,
          0.3556502278752713,
          0.4614113854711953,
          0.5618596072403228,
          0.6575032505388149,
          0.7487810301717367,
          0.8360741857213118,
          0.9197161024991896,
          1,
          1.0771851357240745,
          1.1515018556319863,
          1.2231557393435961,
          1.2923310280739242,
          1.3591934792711626,
          1.4238927592986212,
          1.4865644610633622,
          1.5473318149999526,
          1.6063071476891624
         ]
        },
        {
         "line": {
          "color": "rgb(214.47368421052633, 214.47368421052633, 214.47368421052633)"
         },
         "mode": "lines",
         "name": "-0.45",
         "type": "scatter",
         "x": [
          0.05,
          0.1,
          0.15,
          0.2,
          0.25,
          0.3,
          0.35,
          0.4,
          0.45,
          0.5,
          0.55,
          0.6,
          0.65,
          0.7,
          0.75,
          0.8,
          0.85,
          0.9,
          0.95
         ],
         "y": [
          0.12283336540064799,
          0.2392312818280988,
          0.34983463939239695,
          0.45519311517559935,
          0.5557817009722436,
          0.6520136491834534,
          0.7442507297928708,
          0.8328114419789701,
          0.9179776510936309,
          0.9999999999999999,
          1.0791023567278168,
          1.1554854973247857,
          1.2293301764867208,
          1.3007997041745012,
          1.370042120626321,
          1.437192042615381,
          1.5023722388372132,
          1.5656949807586609,
          1.6272632062703787
         ]
        },
        {
         "line": {
          "color": "rgb(215.92105263157896, 215.92105263157896, 215.92105263157896)"
         },
         "mode": "lines",
         "name": "-0.4",
         "type": "scatter",
         "x": [
          0.05,
          0.1,
          0.15,
          0.2,
          0.25,
          0.3,
          0.35,
          0.4,
          0.45,
          0.5,
          0.55,
          0.6,
          0.65,
          0.7,
          0.75,
          0.8,
          0.85,
          0.9,
          0.95
         ],
         "y": [
          0.12002815169552584,
          0.23455663844390998,
          0.34406744346647056,
          0.44898184040263894,
          0.5496701796000181,
          0.6464597786387359,
          0.7396413413914346,
          0.8294742231003763,
          0.916190781803412,
          1,
          1.0810905186657274,
          1.159633194450693,
          1.2357832672501503,
          1.3096822072845602,
          1.3814592969237476,
          1.4512329916932898,
          1.519112096451234,
          1.5851967860610243,
          1.6495794945976412
         ]
        },
        {
         "line": {
          "color": "rgb(217.3684210526316, 217.3684210526316, 217.3684210526316)"
         },
         "mode": "lines",
         "name": "-0.35",
         "type": "scatter",
         "x": [
          0.05,
          0.1,
          0.15,
          0.2,
          0.25,
          0.3,
          0.35,
          0.4,
          0.45,
          0.5,
          0.55,
          0.6,
          0.65,
          0.7,
          0.75,
          0.8,
          0.85,
          0.9,
          0.95
         ],
         "y": [
          0.11729272179342294,
          0.2299595691774662,
          0.338351617067715,
          0.44278143067130893,
          0.5435284995966623,
          0.6408437460255513,
          0.7349532900532857,
          0.8260616144027461,
          0.9143542399369038,
          1.0000000000000002,
          1.0831529836735512,
          1.1639542041515698,
          1.2425330376136279,
          1.319008469468048,
          1.3934901781060591,
          1.4660794809451316,
          1.5368701632405481,
          1.6059492066769718,
          1.6733974319396476
         ]
        },
        {
         "line": {
          "color": "rgb(218.81578947368422, 218.81578947368422, 218.81578947368422)"
         },
         "mode": "lines",
         "name": "-0.3",
         "type": "scatter",
         "x": [
          0.05,
          0.1,
          0.15,
          0.2,
          0.25,
          0.3,
          0.35,
          0.4,
          0.45,
          0.5,
          0.55,
          0.6,
          0.65,
          0.7,
          0.75,
          0.8,
          0.85,
          0.9,
          0.95
         ],
         "y": [
          0.11462594948062037,
          0.22544085672758113,
          0.33269000483400224,
          0.4365957332593192,
          0.5373602130286061,
          0.6351678146180375,
          0.7301871382228617,
          0.8225727625756175,
          0.9124667578740937,
          1.0000000000000002,
          1.0852933165467766,
          1.168458489842865,
          1.2495991378634888,
          1.3288114904472352,
          1.4061850754028862,
          1.481803326775024,
          1.5557441256313365,
          1.6280802821598812,
          1.6988799665575591
         ]
        },
        {
         "line": {
          "color": "rgb(220.26315789473685, 220.26315789473685, 220.26315789473685)"
         },
         "mode": "lines",
         "name": "-0.25",
         "type": "scatter",
         "x": [
          0.05,
          0.1,
          0.15,
          0.2,
          0.25,
          0.3,
          0.35,
          0.4,
          0.45,
          0.5,
          0.55,
          0.6,
          0.65,
          0.7,
          0.75,
          0.8,
          0.85,
          0.9,
          0.95
         ],
         "y": [
          0.11202667154128051,
          0.2210011373479814,
          0.3270853125534799,
          0.4304285604548898,
          0.5311689572755929,
          0.6294344015324782,
          0.725343590370664,
          0.8190068815616992,
          0.9105270568658596,
          1.0000000000000002,
          1.0875153004238653,
          1.17315679247674,
          1.2570030379973187,
          1.3391277593905175,
          1.4196002291240204,
          1.498485620811211,
          1.575845326338897,
          1.6517372429059627,
          1.7262160333350602
         ]
        },
        {
         "line": {
          "color": "rgb(221.71052631578948, 221.71052631578948, 221.71052631578948)"
         },
         "mode": "lines",
         "name": "-0.2",
         "type": "scatter",
         "x": [
          0.05,
          0.1,
          0.15,
          0.2,
          0.25,
          0.3,
          0.35,
          0.4,
          0.45,
          0.5,
          0.55,
          0.6,
          0.65,
          0.7,
          0.75,
          0.8,
          0.85,
          0.9,
          0.95
         ],
         "y": [
          0.1094936927140039,
          0.2166409048826954,
          0.32154010153421714,
          0.4242836770388403,
          0.5249584441082327,
          0.6236460745282117,
          0.7204234972314502,
          0.8153632585712202,
          0.9085338490230802,
          0.9999999999999999,
          1.0898229540028823,
          1.1780607109303436,
          1.2647682530287483,
          1.3499977506674248,
          1.4337987508675798,
          1.5162183502908837,
          1.59730135420001,
          1.677090422734444,
          1.7556262056971628
         ]
        },
        {
         "line": {
          "color": "rgb(223.1578947368421, 223.1578947368421, 223.1578947368421)"
         },
         "mode": "lines",
         "name": "-0.15",
         "type": "scatter",
         "x": [
          0.05,
          0.1,
          0.15,
          0.2,
          0.25,
          0.3,
          0.35,
          0.4,
          0.45,
          0.5,
          0.55,
          0.6,
          0.65,
          0.7,
          0.75,
          0.8,
          0.85,
          0.9,
          0.95
         ],
         "y": [
          0.10702579042189454,
          0.21236051527083835,
          0.3160567838759391,
          0.4181647880949125,
          0.5187324481972454,
          0.6178055479065016,
          0.7154278595543357,
          0.811641260202575,
          0.9064858395044048,
          1.0000000000000004,
          1.0922205504745899,
          1.1831827929469587,
          1.272920603802875,
          1.3614665095400755,
          1.448851757548639,
          1.5351063823121753,
          1.620259267380797,
          1.7043382034358596,
          1.7873699427385399
         ]
        },
        {
         "line": {
          "color": "rgb(224.60526315789474, 224.60526315789474, 224.60526315789474)"
         },
         "mode": "lines",
         "name": "-0.1",
         "type": "scatter",
         "x": [
          0.05,
          0.1,
          0.15,
          0.2,
          0.25,
          0.3,
          0.35,
          0.4,
          0.45,
          0.5,
          0.55,
          0.6,
          0.65,
          0.7,
          0.75,
          0.8,
          0.85,
          0.9,
          0.95
         ],
         "y": [
          0.10462171926871862,
          0.2081601914619122,
          0.3106376186489104,
          0.412075527241861,
          0.5124947951362556,
          0.6119156775022537,
          0.7103578313064534,
          0.8078403386384084,
          0.9043817289111004,
          1.0000000000000002,
          1.0947126383809997,
          1.1885366383236267,
          1.2814885201921635,
          1.373584347904059,
          1.4648397455916748,
          1.5552699135106836,
          1.6448896432355418,
          1.733713332180143,
          1.8217549974791922
         ]
        },
        {
         "line": {
          "color": "rgb(226.05263157894737, 226.05263157894737, 226.05263157894737)"
         },
         "mode": "lines",
         "name": "-0.05",
         "type": "scatter",
         "x": [
          0.05,
          0.1,
          0.15,
          0.2,
          0.25,
          0.3,
          0.35,
          0.4,
          0.45,
          0.5,
          0.55,
          0.6,
          0.65,
          0.7,
          0.75,
          0.8,
          0.85,
          0.9,
          0.95
         ],
         "y": [
          0.1022802152962298,
          0.20404002868297083,
          0.30528470897539234,
          0.4060194453752468,
          0.5062493490668178,
          0.6059794547730637,
          0.7052147222731646,
          0.8039600378826045,
          0.9022202158968904,
          0.9999999999999991,
          1.0973040646385166,
          1.1941370163625793,
          1.2905033951344218,
          1.3864076756056605,
          1.4818542683639706,
          1.5768475211502906,
          1.6713917200471502,
          1.7654910906390704,
          1.8591497991458492
         ]
        },
        {
         "line": {
          "color": "rgb(227.5, 227.5, 227.5)"
         },
         "mode": "lines",
         "name": "0.05",
         "type": "scatter",
         "x": [
          0.05,
          0.1,
          0.15,
          0.2,
          0.25,
          0.3,
          0.35,
          0.4,
          0.45,
          0.5,
          0.55,
          0.6,
          0.65,
          0.7,
          0.75,
          0.8,
          0.85,
          0.9,
          0.95
         ],
         "y": [
          0.09777978410310892,
          0.19603996211739547,
          0.29478527772683244,
          0.39402054522693314,
          0.493750650933181,
          0.5939805546247501,
          0.694715291024608,
          0.7959599713170262,
          0.8977197847037705,
          0.9999999999999993,
          1.102805967271268,
          1.206143119512751,
          1.3100169743721128,
          1.4144331359173354,
          1.5193972964509532,
          1.6249152383721264,
          1.7309928360881004,
          1.8376360579766455,
          1.9448509684010762
         ]
        },
        {
         "line": {
          "color": "rgb(228.94736842105263, 228.94736842105263, 228.94736842105263)"
         },
         "mode": "lines",
         "name": "0.1",
         "type": "scatter",
         "x": [
          0.05,
          0.1,
          0.15,
          0.2,
          0.25,
          0.3,
          0.35,
          0.4,
          0.45,
          0.5,
          0.55,
          0.6,
          0.65,
          0.7,
          0.75,
          0.8,
          0.85,
          0.9,
          0.95
         ],
         "y": [
          0.09561827108889831,
          0.1921596613615915,
          0.2896421686935451,
          0.3880843224977467,
          0.48750520486374516,
          0.5879244727581395,
          0.6893623813510895,
          0.7918398085380874,
          0.8953782807312824,
          0.9999999999999996,
          1.1057278726461144,
          1.2125855393062126,
          1.3205974066795463,
          1.4297886809882652,
          1.5401854032847062,
          1.6518144867294107,
          1.7647037559734406,
          1.8788819887890713,
          1.9943789601047472
         ]
        },
        {
         "line": {
          "color": "rgb(230.39473684210526, 230.39473684210526, 230.39473684210526)"
         },
         "mode": "lines",
         "name": "0.15",
         "type": "scatter",
         "x": [
          0.05,
          0.1,
          0.15,
          0.2,
          0.25,
          0.3,
          0.35,
          0.4,
          0.45,
          0.5,
          0.55,
          0.6,
          0.65,
          0.7,
          0.75,
          0.8,
          0.85,
          0.9,
          0.95
         ],
         "y": [
          0.09351416049559547,
          0.18835873979742593,
          0.2845721404456645,
          0.3821944520934991,
          0.4812675518027545,
          0.5818352119050878,
          0.6839432161240612,
          0.7876394847291602,
          0.8929742095781061,
          1,
          1.1087720405807768,
          1.2193482620355478,
          1.3317895264923967,
          1.446159828671281,
          1.5625265146229026,
          1.680960519899637,
          1.8015366292675044,
          1.9243337603402952,
          2.0494352738296633
         ]
        },
        {
         "line": {
          "color": "rgb(231.8421052631579, 231.8421052631579, 231.8421052631579)"
         },
         "mode": "lines",
         "name": "0.2",
         "type": "scatter",
         "x": [
          0.05,
          0.1,
          0.15,
          0.2,
          0.25,
          0.3,
          0.35,
          0.4,
          0.45,
          0.5,
          0.55,
          0.6,
          0.65,
          0.7,
          0.75,
          0.8,
          0.85,
          0.9,
          0.95
         ],
         "y": [
          0.09146615097691906,
          0.18463674142878045,
          0.2795765027685498,
          0.3763539254717874,
          0.47504155589176694,
          0.5757163229611594,
          0.6784598984657826,
          0.783359095117305,
          0.8905063072859961,
          1.0000000000000002,
          1.1119452526964688,
          1.2264543652499065,
          1.3436475350380908,
          1.4636536152782431,
          1.5866109666280999,
          1.712668416164099,
          1.8419863404047627,
          1.9747378921462517,
          2.1111103946525693
         ]
        },
        {
         "line": {
          "color": "rgb(233.28947368421052, 233.28947368421052, 233.28947368421052)"
         },
         "mode": "lines",
         "name": "0.25",
         "type": "scatter",
         "x": [
          0.05,
          0.1,
          0.15,
          0.2,
          0.25,
          0.3,
          0.35,
          0.4,
          0.45,
          0.5,
          0.55,
          0.6,
          0.65,
          0.7,
          0.75,
          0.8,
          0.85,
          0.9,
          0.95
         ],
         "y": [
          0.08947294313413995,
          0.18099311843830113,
          0.274656409629336,
          0.37056559846752224,
          0.4688310427244069,
          0.56957143954511,
          0.6729146874465193,
          0.7789988626520188,
          0.8879733284587187,
          0.9999999999999998,
          1.1152547912785555,
          1.233929276929231,
          1.35623260812154,
          1.4823937307173056,
          1.6126639647738414,
          1.7473200184158428,
          1.8866675269174902,
          2.031045230803721,
          2.180829936632863
         ]
        },
        {
         "line": {
          "color": "rgb(234.73684210526315, 234.73684210526315, 234.73684210526315)"
         },
         "mode": "lines",
         "name": "0.3",
         "type": "scatter",
         "x": [
          0.05,
          0.1,
          0.15,
          0.2,
          0.25,
          0.3,
          0.35,
          0.4,
          0.45,
          0.5,
          0.55,
          0.6,
          0.65,
          0.7,
          0.75,
          0.8,
          0.85,
          0.9,
          0.95
         ],
         "y": [
          0.08753324212590659,
          0.17742723742438216,
          0.26981286177713826,
          0.3648321853819619,
          0.46263978697139374,
          0.5634042667406809,
          0.6673099951659979,
          0.7745591432724188,
          0.8853740505193795,
          1.0000000000000002,
          1.1187084880363791,
          1.2418010977788712,
          1.3696141158589201,
          1.5025240699864684,
          1.6409544171413373,
          1.7853836817263427,
          1.9363554380583168,
          2.09449066268461,
          2.260503165433819
         ]
        },
        {
         "line": {
          "color": "rgb(236.18421052631578, 236.18421052631578, 236.18421052631578)"
         },
         "mode": "lines",
         "name": "0.35",
         "type": "scatter",
         "x": [
          0.05,
          0.1,
          0.15,
          0.2,
          0.25,
          0.3,
          0.35,
          0.4,
          0.45,
          0.5,
          0.55,
          0.6,
          0.65,
          0.7,
          0.75,
          0.8,
          0.85,
          0.9,
          0.95
         ],
         "y": [
          0.08564576006309581,
          0.1739383855972541,
          0.26504670994671475,
          0.359156253974449,
          0.45647150040333784,
          0.5572185693286916,
          0.6616483829322853,
          0.770040430822534,
          0.882707278206577,
          1.0000000000000002,
          1.1223147789017447,
          1.2501009800566911,
          1.3838711174972673,
          1.5242132704831124,
          1.6718067099379608,
          1.8274417854664209,
          1.9920455477431778,
          2.1667152133064054,
          2.3527625411093394
         ]
        },
        {
         "line": {
          "color": "rgb(237.63157894736844, 237.63157894736844, 237.63157894736844)"
         },
         "mode": "lines",
         "name": "0.4",
         "type": "scatter",
         "x": [
          0.05,
          0.1,
          0.15,
          0.2,
          0.25,
          0.3,
          0.35,
          0.4,
          0.45,
          0.5,
          0.55,
          0.6,
          0.65,
          0.7,
          0.75,
          0.8,
          0.85,
          0.9,
          0.95
         ],
         "y": [
          0.08380921819658775,
          0.17052577689962378,
          0.2603586586085651,
          0.353540221361264,
          0.4503298203999819,
          0.551018159597361,
          0.6559325565335293,
          0.7654433615560902,
          0.8799718483044737,
          1,
          1.126082765780976,
          1.2588635751632038,
          1.3990942086101206,
          1.5476605797094714,
          1.7056166737049767,
          1.8742299491538228,
          2.055043187632084,
          2.249960504475306,
          2.461369813660571
         ]
        },
        {
         "line": {
          "color": "rgb(239.07894736842104, 239.07894736842104, 239.07894736842104)"
         },
         "mode": "lines",
         "name": "0.45",
         "type": "scatter",
         "x": [
          0.05,
          0.1,
          0.15,
          0.2,
          0.25,
          0.3,
          0.35,
          0.4,
          0.45,
          0.5,
          0.55,
          0.6,
          0.65,
          0.7,
          0.75,
          0.8,
          0.85,
          0.9,
          0.95
         ],
         "y": [
          0.082022348906369,
          0.1671885580210298,
          0.25574927020712923,
          0.34798635081654683,
          0.44421829902775645,
          0.5448068848244002,
          0.6501653606076023,
          0.7607687181719007,
          0.8771666345993521,
          0.9999999999999999,
          1.1300222863404448,
          1.2681275654098803,
          1.4153878243881752,
          1.5731035462955532,
          1.7428736498124517,
          1.9266944226212543,
          2.1271031859011997,
          2.347393393862171,
          2.5919485466863907
         ]
        },
        {
         "line": {
          "color": "rgb(240.5263157894737, 240.5263157894737, 240.5263157894737)"
         },
         "mode": "lines",
         "name": "0.5",
         "type": "scatter",
         "x": [
          0.05,
          0.1,
          0.15,
          0.2,
          0.25,
          0.3,
          0.35,
          0.4,
          0.45,
          0.5,
          0.55,
          0.6,
          0.65,
          0.7,
          0.75,
          0.8,
          0.85,
          0.9,
          0.95
         ],
         "y": [
          0.08028389750081044,
          0.1639258142786882,
          0.25121896982826303,
          0.34249674946118536,
          0.4381403927596771,
          0.5385886145288045,
          0.6443497721247285,
          0.756017433321458,
          0.8742905530525389,
          1,
          1.1341439931052442,
          1.2779362995458294,
          1.4328731399888452,
          1.6008282530582754,
          1.7841916590763625,
          1.9860786912320079,
          2.2106568539700455,
          2.463680454797201,
          2.7534148979054156
         ]
        },
        {
         "line": {
          "color": "rgb(241.9736842105263, 241.9736842105263, 241.9736842105263)"
         },
         "mode": "lines",
         "name": "0.55",
         "type": "scatter",
         "x": [
          0.05,
          0.1,
          0.15,
          0.2,
          0.25,
          0.3,
          0.35,
          0.4,
          0.45,
          0.5,
          0.55,
          0.6,
          0.65,
          0.7,
          0.75,
          0.8,
          0.85,
          0.9,
          0.95
         ],
         "y": [
          0.07859262383520779,
          0.16073657534116984,
          0.24676805023745044,
          0.33707336681731453,
          0.43209945290292295,
          0.532367227593214,
          0.6384888930083665,
          0.7511905925316791,
          0.8713425671766809,
          1,
          1.138459443393657,
          1.2883385571208679,
          1.4516917622032384,
          1.6311831626055313,
          1.8303545410164686,
          2.054058993945991,
          2.309200613408217,
          2.6060826760786227,
          2.9610856076459684
         ]
        },
        {
         "line": {
          "color": "rgb(243.42105263157896, 243.42105263157896, 243.42105263157896)"
         },
         "mode": "lines",
         "name": "0.6",
         "type": "scatter",
         "x": [
          0.05,
          0.1,
          0.15,
          0.2,
          0.25,
          0.3,
          0.35,
          0.4,
          0.45,
          0.5,
          0.55,
          0.6,
          0.65,
          0.7,
          0.75,
          0.8,
          0.85,
          0.9,
          0.95
         ],
         "y": [
          0.07694730375884373,
          0.1576198207746979,
          0.24239667723114863,
          0.33171799419851733,
          0.4260987167900993,
          0.5261465993592168,
          0.6325859419298877,
          0.7462894364879982,
          0.8683216935992117,
          1,
          1.1429812019070675,
          1.299389474092001,
          1.4720104842447115,
          1.6645982085632385,
          1.8823832494068542,
          2.1329658134789873,
          2.4280060074354424,
          2.786755407083961,
          3.2445261889743358
         ]
        },
        {
         "line": {
          "color": "rgb(244.8684210526316, 244.8684210526316, 244.8684210526316)"
         },
         "mode": "lines",
         "name": "0.65",
         "type": "scatter",
         "x": [
          0.05,
          0.1,
          0.15,
          0.2,
          0.25,
          0.3,
          0.35,
          0.4,
          0.45,
          0.5,
          0.55,
          0.6,
          0.65,
          0.7,
          0.75,
          0.8,
          0.85,
          0.9,
          0.95
         ],
         "y": [
          0.07534673039991982,
          0.15457448539511373,
          0.23810489524524572,
          0.3264322648991664,
          0.420141299780354,
          0.5199305887979755,
          0.6266442453226527,
          0.7413153626261053,
          0.8652270077936026,
          1,
          1.147722958159753,
          1.3111516719545055,
          1.4940274903877222,
          1.7016116920248614,
          1.9416396580932453,
          2.2261656998416837,
          2.5755303557979863,
          3.0282831046311522,
          3.672609200923722
         ]
        },
        {
         "line": {
          "color": "rgb(246.31578947368422, 246.31578947368422, 246.31578947368422)"
         },
         "mode": "lines",
         "name": "0.7",
         "type": "scatter",
         "x": [
          0.05,
          0.1,
          0.15,
          0.2,
          0.25,
          0.3,
          0.35,
          0.4,
          0.45,
          0.5,
          0.55,
          0.6,
          0.65,
          0.7,
          0.75,
          0.8,
          0.85,
          0.9,
          0.95
         ],
         "y": [
          0.07378971529767404,
          0.15159946441169267,
          0.23389263316668918,
          0.32121765514057365,
          0.41423018810641066,
          0.5137230258570845,
          0.620667227670841,
          0.7362699259847636,
          0.862057649955538,
          0.9999999999999993,
          1.1526996613835778,
          1.3236966461351116,
          1.5179805710027339,
          1.742909120760004,
          2.009993332289973,
          2.338765063552385,
          2.7665551639236554,
          3.380028177400945,
          4.478166775079047
         ]
        },
        {
         "line": {
          "color": "rgb(247.76315789473685, 247.76315789473685, 247.76315789473685)"
         },
         "mode": "lines",
         "name": "0.75",
         "type": "scatter",
         "x": [
          0.05,
          0.1,
          0.15,
          0.2,
          0.25,
          0.3,
          0.35,
          0.4,
          0.45,
          0.5,
          0.55,
          0.6,
          0.65,
          0.7,
          0.75,
          0.8,
          0.85,
          0.9,
          0.95
         ],
         "y": [
          0.07227508939093825,
          0.14869361835188188,
          0.22975971029687975,
          0.31607548572679606,
          0.4083682325933937,
          0.5075276990816681,
          0.614658401137576,
          0.7311548392771354,
          0.8588128309976251,
          0.9999999999999992,
          1.157927676102195,
          1.3371064879505057,
          1.544158177425726,
          1.789380921604789,
          2.0901030370026996,
          2.479025198773094,
          3.0304022121247356,
          3.987399769309249
         ]
        },
        {
         "line": {
          "color": "rgb(249.21052631578948, 249.21052631578948, 249.21052631578948)"
         },
         "mode": "lines",
         "name": "0.8",
         "type": "scatter",
         "x": [
          0.05,
          0.1,
          0.15,
          0.2,
          0.25,
          0.3,
          0.35,
          0.4,
          0.45,
          0.5,
          0.55,
          0.6,
          0.65,
          0.7,
          0.75,
          0.8,
          0.85,
          0.9,
          0.95
         ],
         "y": [
          0.07080170387222967,
          0.14585577775874622,
          0.22570584241831576,
          0.3110069243590419,
          0.4025581432652093,
          0.5013483436034197,
          0.6086213546053407,
          0.7259719721440144,
          0.8554918386326252,
          0.9999999999999994,
          1.1634249622685602,
          1.3514760403954034,
          1.5729145727165887,
          1.8422111261595666,
          2.1859220576663927,
          2.661563684205022,
          3.43884251058826,
          5.917372075480651
         ]
        },
        {
         "line": {
          "color": "rgb(250.6578947368421, 250.6578947368421, 250.6578947368421)"
         },
         "mode": "lines",
         "name": "0.85",
         "type": "scatter",
         "x": [
          0.05,
          0.1,
          0.15,
          0.2,
          0.25,
          0.3,
          0.35,
          0.4,
          0.45,
          0.5,
          0.55,
          0.6,
          0.65,
          0.7,
          0.75,
          0.8,
          0.85,
          0.9,
          0.95
         ],
         "y": [
          0.06936843091628442,
          0.14308474765538592,
          0.2217306479191478,
          0.3060129885546787,
          0.39680248484441116,
          0.49518862958575505,
          0.6025597422092417,
          0.7207233495591967,
          0.8520940435115575,
          0.9999999999999996,
          1.1692112847386178,
          1.3669156248596877,
          1.604691030750205,
          1.9030192177563428,
          2.303679640920747,
          2.9159531037052733,
          4.266637254002895
         ]
        },
        {
         "line": {
          "color": "rgb(252.10526315789474, 252.10526315789474, 252.10526315789474)"
         },
         "mode": "lines",
         "name": "0.9",
         "type": "scatter",
         "x": [
          0.05,
          0.1,
          0.15,
          0.2,
          0.25,
          0.3,
          0.35,
          0.4,
          0.45,
          0.5,
          0.55,
          0.6,
          0.65,
          0.7,
          0.75,
          0.8,
          0.85,
          0.9,
          0.95
         ],
         "y": [
          0.06797416429170382,
          0.14037931177285956,
          0.2178336539336766,
          0.30109454911478034,
          0.39110367314206385,
          0.4890521512065422,
          0.5964772714501649,
          0.7154111493648623,
          0.8486189053794108,
          0.9999999999999996,
          1.1753084579667255,
          1.3835545289783362,
          1.6400462101737492,
          1.9740982973702241,
          2.453998456233142,
          3.3172834723992968
         ]
        },
        {
         "line": {
          "color": "rgb(253.55263157894737, 253.55263157894737, 253.55263157894737)"
         },
         "mode": "lines",
         "name": "0.95",
         "type": "scatter",
         "x": [
          0.05,
          0.1,
          0.15,
          0.2,
          0.25,
          0.3,
          0.35,
          0.4,
          0.45,
          0.5,
          0.55,
          0.6,
          0.65,
          0.7,
          0.75,
          0.8,
          0.85,
          0.9,
          0.95
         ],
         "y": [
          0.06661781986409915,
          0.13773823654018388,
          0.21401430246034692,
          0.29625233408294127,
          0.3854639723252561,
          0.48294241625219464,
          0.5903776909801596,
          0.7100376989232202,
          0.8450659792076795,
          0.9999999999999996,
          1.181740633226663,
          1.4015455237271277,
          1.679700883930922,
          2.0588398215298462,
          2.657195184754253,
          4.183855434139432
         ]
        },
        {
         "line": {
          "color": "green"
         },
         "mode": "lines",
         "name": "MAX",
         "type": "scatter",
         "x": [
          0.05,
          0.1,
          0.15,
          0.2,
          0.25,
          0.3,
          0.35,
          0.4,
          0.45,
          0.5,
          0.55,
          0.6,
          0.65,
          0.7,
          0.75,
          0.8,
          0.85,
          0.9,
          0.95
         ],
         "y": [
          0.15493402079232038,
          0.2899623010767797,
          0.40962230901984037,
          0.5170575837478053,
          0.6145360276747438,
          0.7037476659170588,
          0.7859856975396531,
          0.8622617634598161,
          0.933382180135901,
          1.0000000000000004,
          1.181740633226663,
          1.4015455237271277,
          1.679700883930922,
          2.0588398215298462,
          2.657195184754253,
          4.183855434139432,
          4.266637254002895,
          5.917372075480651,
          4.478166775079047
         ]
        },
        {
         "line": {
          "color": "red"
         },
         "mode": "lines",
         "name": "MIN",
         "type": "scatter",
         "x": [
          0.05,
          0.1,
          0.15,
          0.2,
          0.25,
          0.3,
          0.35,
          0.4,
          0.45,
          0.5,
          0.55,
          0.6,
          0.65,
          0.7,
          0.75,
          0.8,
          0.85,
          0.9,
          0.95
         ],
         "y": [
          0.06661781986409915,
          0.13773823654018388,
          0.21401430246034692,
          0.29625233408294127,
          0.3854639723252561,
          0.48294241625219464,
          0.5903776909801596,
          0.7100376989232202,
          0.8450659792076795,
          0.9999999999999991,
          1.0626515508534018,
          1.1217826959637844,
          1.1777681009284298,
          1.230925629554433,
          1.281527275659983,
          1.3298075853076972,
          1.375970230560889,
          1.4201932011953577,
          1.4626329490105987
         ]
        }
       ],
       "layout": {
        "template": {
         "data": {
          "bar": [
           {
            "error_x": {
             "color": "#2a3f5f"
            },
            "error_y": {
             "color": "#2a3f5f"
            },
            "marker": {
             "line": {
              "color": "#E5ECF6",
              "width": 0.5
             }
            },
            "type": "bar"
           }
          ],
          "barpolar": [
           {
            "marker": {
             "line": {
              "color": "#E5ECF6",
              "width": 0.5
             }
            },
            "type": "barpolar"
           }
          ],
          "carpet": [
           {
            "aaxis": {
             "endlinecolor": "#2a3f5f",
             "gridcolor": "white",
             "linecolor": "white",
             "minorgridcolor": "white",
             "startlinecolor": "#2a3f5f"
            },
            "baxis": {
             "endlinecolor": "#2a3f5f",
             "gridcolor": "white",
             "linecolor": "white",
             "minorgridcolor": "white",
             "startlinecolor": "#2a3f5f"
            },
            "type": "carpet"
           }
          ],
          "choropleth": [
           {
            "colorbar": {
             "outlinewidth": 0,
             "ticks": ""
            },
            "type": "choropleth"
           }
          ],
          "contour": [
           {
            "colorbar": {
             "outlinewidth": 0,
             "ticks": ""
            },
            "colorscale": [
             [
              0,
              "#0d0887"
             ],
             [
              0.1111111111111111,
              "#46039f"
             ],
             [
              0.2222222222222222,
              "#7201a8"
             ],
             [
              0.3333333333333333,
              "#9c179e"
             ],
             [
              0.4444444444444444,
              "#bd3786"
             ],
             [
              0.5555555555555556,
              "#d8576b"
             ],
             [
              0.6666666666666666,
              "#ed7953"
             ],
             [
              0.7777777777777778,
              "#fb9f3a"
             ],
             [
              0.8888888888888888,
              "#fdca26"
             ],
             [
              1,
              "#f0f921"
             ]
            ],
            "type": "contour"
           }
          ],
          "contourcarpet": [
           {
            "colorbar": {
             "outlinewidth": 0,
             "ticks": ""
            },
            "type": "contourcarpet"
           }
          ],
          "heatmap": [
           {
            "colorbar": {
             "outlinewidth": 0,
             "ticks": ""
            },
            "colorscale": [
             [
              0,
              "#0d0887"
             ],
             [
              0.1111111111111111,
              "#46039f"
             ],
             [
              0.2222222222222222,
              "#7201a8"
             ],
             [
              0.3333333333333333,
              "#9c179e"
             ],
             [
              0.4444444444444444,
              "#bd3786"
             ],
             [
              0.5555555555555556,
              "#d8576b"
             ],
             [
              0.6666666666666666,
              "#ed7953"
             ],
             [
              0.7777777777777778,
              "#fb9f3a"
             ],
             [
              0.8888888888888888,
              "#fdca26"
             ],
             [
              1,
              "#f0f921"
             ]
            ],
            "type": "heatmap"
           }
          ],
          "heatmapgl": [
           {
            "colorbar": {
             "outlinewidth": 0,
             "ticks": ""
            },
            "colorscale": [
             [
              0,
              "#0d0887"
             ],
             [
              0.1111111111111111,
              "#46039f"
             ],
             [
              0.2222222222222222,
              "#7201a8"
             ],
             [
              0.3333333333333333,
              "#9c179e"
             ],
             [
              0.4444444444444444,
              "#bd3786"
             ],
             [
              0.5555555555555556,
              "#d8576b"
             ],
             [
              0.6666666666666666,
              "#ed7953"
             ],
             [
              0.7777777777777778,
              "#fb9f3a"
             ],
             [
              0.8888888888888888,
              "#fdca26"
             ],
             [
              1,
              "#f0f921"
             ]
            ],
            "type": "heatmapgl"
           }
          ],
          "histogram": [
           {
            "marker": {
             "colorbar": {
              "outlinewidth": 0,
              "ticks": ""
             }
            },
            "type": "histogram"
           }
          ],
          "histogram2d": [
           {
            "colorbar": {
             "outlinewidth": 0,
             "ticks": ""
            },
            "colorscale": [
             [
              0,
              "#0d0887"
             ],
             [
              0.1111111111111111,
              "#46039f"
             ],
             [
              0.2222222222222222,
              "#7201a8"
             ],
             [
              0.3333333333333333,
              "#9c179e"
             ],
             [
              0.4444444444444444,
              "#bd3786"
             ],
             [
              0.5555555555555556,
              "#d8576b"
             ],
             [
              0.6666666666666666,
              "#ed7953"
             ],
             [
              0.7777777777777778,
              "#fb9f3a"
             ],
             [
              0.8888888888888888,
              "#fdca26"
             ],
             [
              1,
              "#f0f921"
             ]
            ],
            "type": "histogram2d"
           }
          ],
          "histogram2dcontour": [
           {
            "colorbar": {
             "outlinewidth": 0,
             "ticks": ""
            },
            "colorscale": [
             [
              0,
              "#0d0887"
             ],
             [
              0.1111111111111111,
              "#46039f"
             ],
             [
              0.2222222222222222,
              "#7201a8"
             ],
             [
              0.3333333333333333,
              "#9c179e"
             ],
             [
              0.4444444444444444,
              "#bd3786"
             ],
             [
              0.5555555555555556,
              "#d8576b"
             ],
             [
              0.6666666666666666,
              "#ed7953"
             ],
             [
              0.7777777777777778,
              "#fb9f3a"
             ],
             [
              0.8888888888888888,
              "#fdca26"
             ],
             [
              1,
              "#f0f921"
             ]
            ],
            "type": "histogram2dcontour"
           }
          ],
          "mesh3d": [
           {
            "colorbar": {
             "outlinewidth": 0,
             "ticks": ""
            },
            "type": "mesh3d"
           }
          ],
          "parcoords": [
           {
            "line": {
             "colorbar": {
              "outlinewidth": 0,
              "ticks": ""
             }
            },
            "type": "parcoords"
           }
          ],
          "pie": [
           {
            "automargin": true,
            "type": "pie"
           }
          ],
          "scatter": [
           {
            "marker": {
             "colorbar": {
              "outlinewidth": 0,
              "ticks": ""
             }
            },
            "type": "scatter"
           }
          ],
          "scatter3d": [
           {
            "line": {
             "colorbar": {
              "outlinewidth": 0,
              "ticks": ""
             }
            },
            "marker": {
             "colorbar": {
              "outlinewidth": 0,
              "ticks": ""
             }
            },
            "type": "scatter3d"
           }
          ],
          "scattercarpet": [
           {
            "marker": {
             "colorbar": {
              "outlinewidth": 0,
              "ticks": ""
             }
            },
            "type": "scattercarpet"
           }
          ],
          "scattergeo": [
           {
            "marker": {
             "colorbar": {
              "outlinewidth": 0,
              "ticks": ""
             }
            },
            "type": "scattergeo"
           }
          ],
          "scattergl": [
           {
            "marker": {
             "colorbar": {
              "outlinewidth": 0,
              "ticks": ""
             }
            },
            "type": "scattergl"
           }
          ],
          "scattermapbox": [
           {
            "marker": {
             "colorbar": {
              "outlinewidth": 0,
              "ticks": ""
             }
            },
            "type": "scattermapbox"
           }
          ],
          "scatterpolar": [
           {
            "marker": {
             "colorbar": {
              "outlinewidth": 0,
              "ticks": ""
             }
            },
            "type": "scatterpolar"
           }
          ],
          "scatterpolargl": [
           {
            "marker": {
             "colorbar": {
              "outlinewidth": 0,
              "ticks": ""
             }
            },
            "type": "scatterpolargl"
           }
          ],
          "scatterternary": [
           {
            "marker": {
             "colorbar": {
              "outlinewidth": 0,
              "ticks": ""
             }
            },
            "type": "scatterternary"
           }
          ],
          "surface": [
           {
            "colorbar": {
             "outlinewidth": 0,
             "ticks": ""
            },
            "colorscale": [
             [
              0,
              "#0d0887"
             ],
             [
              0.1111111111111111,
              "#46039f"
             ],
             [
              0.2222222222222222,
              "#7201a8"
             ],
             [
              0.3333333333333333,
              "#9c179e"
             ],
             [
              0.4444444444444444,
              "#bd3786"
             ],
             [
              0.5555555555555556,
              "#d8576b"
             ],
             [
              0.6666666666666666,
              "#ed7953"
             ],
             [
              0.7777777777777778,
              "#fb9f3a"
             ],
             [
              0.8888888888888888,
              "#fdca26"
             ],
             [
              1,
              "#f0f921"
             ]
            ],
            "type": "surface"
           }
          ],
          "table": [
           {
            "cells": {
             "fill": {
              "color": "#EBF0F8"
             },
             "line": {
              "color": "white"
             }
            },
            "header": {
             "fill": {
              "color": "#C8D4E3"
             },
             "line": {
              "color": "white"
             }
            },
            "type": "table"
           }
          ]
         },
         "layout": {
          "annotationdefaults": {
           "arrowcolor": "#2a3f5f",
           "arrowhead": 0,
           "arrowwidth": 1
          },
          "autotypenumbers": "strict",
          "coloraxis": {
           "colorbar": {
            "outlinewidth": 0,
            "ticks": ""
           }
          },
          "colorscale": {
           "diverging": [
            [
             0,
             "#8e0152"
            ],
            [
             0.1,
             "#c51b7d"
            ],
            [
             0.2,
             "#de77ae"
            ],
            [
             0.3,
             "#f1b6da"
            ],
            [
             0.4,
             "#fde0ef"
            ],
            [
             0.5,
             "#f7f7f7"
            ],
            [
             0.6,
             "#e6f5d0"
            ],
            [
             0.7,
             "#b8e186"
            ],
            [
             0.8,
             "#7fbc41"
            ],
            [
             0.9,
             "#4d9221"
            ],
            [
             1,
             "#276419"
            ]
           ],
           "sequential": [
            [
             0,
             "#0d0887"
            ],
            [
             0.1111111111111111,
             "#46039f"
            ],
            [
             0.2222222222222222,
             "#7201a8"
            ],
            [
             0.3333333333333333,
             "#9c179e"
            ],
            [
             0.4444444444444444,
             "#bd3786"
            ],
            [
             0.5555555555555556,
             "#d8576b"
            ],
            [
             0.6666666666666666,
             "#ed7953"
            ],
            [
             0.7777777777777778,
             "#fb9f3a"
            ],
            [
             0.8888888888888888,
             "#fdca26"
            ],
            [
             1,
             "#f0f921"
            ]
           ],
           "sequentialminus": [
            [
             0,
             "#0d0887"
            ],
            [
             0.1111111111111111,
             "#46039f"
            ],
            [
             0.2222222222222222,
             "#7201a8"
            ],
            [
             0.3333333333333333,
             "#9c179e"
            ],
            [
             0.4444444444444444,
             "#bd3786"
            ],
            [
             0.5555555555555556,
             "#d8576b"
            ],
            [
             0.6666666666666666,
             "#ed7953"
            ],
            [
             0.7777777777777778,
             "#fb9f3a"
            ],
            [
             0.8888888888888888,
             "#fdca26"
            ],
            [
             1,
             "#f0f921"
            ]
           ]
          },
          "colorway": [
           "#636efa",
           "#EF553B",
           "#00cc96",
           "#ab63fa",
           "#FFA15A",
           "#19d3f3",
           "#FF6692",
           "#B6E880",
           "#FF97FF",
           "#FECB52"
          ],
          "font": {
           "color": "#2a3f5f"
          },
          "geo": {
           "bgcolor": "white",
           "lakecolor": "white",
           "landcolor": "#E5ECF6",
           "showlakes": true,
           "showland": true,
           "subunitcolor": "white"
          },
          "hoverlabel": {
           "align": "left"
          },
          "hovermode": "closest",
          "mapbox": {
           "style": "light"
          },
          "paper_bgcolor": "white",
          "plot_bgcolor": "#E5ECF6",
          "polar": {
           "angularaxis": {
            "gridcolor": "white",
            "linecolor": "white",
            "ticks": ""
           },
           "bgcolor": "#E5ECF6",
           "radialaxis": {
            "gridcolor": "white",
            "linecolor": "white",
            "ticks": ""
           }
          },
          "scene": {
           "xaxis": {
            "backgroundcolor": "#E5ECF6",
            "gridcolor": "white",
            "gridwidth": 2,
            "linecolor": "white",
            "showbackground": true,
            "ticks": "",
            "zerolinecolor": "white"
           },
           "yaxis": {
            "backgroundcolor": "#E5ECF6",
            "gridcolor": "white",
            "gridwidth": 2,
            "linecolor": "white",
            "showbackground": true,
            "ticks": "",
            "zerolinecolor": "white"
           },
           "zaxis": {
            "backgroundcolor": "#E5ECF6",
            "gridcolor": "white",
            "gridwidth": 2,
            "linecolor": "white",
            "showbackground": true,
            "ticks": "",
            "zerolinecolor": "white"
           }
          },
          "shapedefaults": {
           "line": {
            "color": "#2a3f5f"
           }
          },
          "ternary": {
           "aaxis": {
            "gridcolor": "white",
            "linecolor": "white",
            "ticks": ""
           },
           "baxis": {
            "gridcolor": "white",
            "linecolor": "white",
            "ticks": ""
           },
           "bgcolor": "#E5ECF6",
           "caxis": {
            "gridcolor": "white",
            "linecolor": "white",
            "ticks": ""
           }
          },
          "title": {
           "x": 0.05
          },
          "xaxis": {
           "automargin": true,
           "gridcolor": "white",
           "linecolor": "white",
           "ticks": "",
           "title": {
            "standoff": 15
           },
           "zerolinecolor": "white",
           "zerolinewidth": 2
          },
          "yaxis": {
           "automargin": true,
           "gridcolor": "white",
           "linecolor": "white",
           "ticks": "",
           "title": {
            "standoff": 15
           },
           "zerolinecolor": "white",
           "zerolinewidth": 2
          }
         }
        },
        "title": {
         "text": "Valores de custo para cada mudança na probabilidade de atingir a meta"
        },
        "xaxis": {
         "title": {
          "text": "Probabilidade (p')"
         }
        },
        "yaxis": {
         "title": {
          "text": "Custo (c')"
         }
        }
       }
      },
      "text/html": [
       "<div>                            <div id=\"917f8ca3-94e0-451a-96a3-de7364bf1257\" class=\"plotly-graph-div\" style=\"height:525px; width:100%;\"></div>            <script type=\"text/javascript\">                require([\"plotly\"], function(Plotly) {                    window.PLOTLYENV=window.PLOTLYENV || {};                                    if (document.getElementById(\"917f8ca3-94e0-451a-96a3-de7364bf1257\")) {                    Plotly.newPlot(                        \"917f8ca3-94e0-451a-96a3-de7364bf1257\",                        [{\"line\": {\"color\": \"rgb(200.0, 200.0, 200.0)\"}, \"mode\": \"lines\", \"name\": \"-0.95\", \"type\": \"scatter\", \"x\": [0.05, 0.1, 0.15, 0.2, 0.25, 0.3, 0.35, 0.4, 0.45, 0.5, 0.55, 0.6, 0.65, 0.7, 0.75, 0.8, 0.85, 0.9, 0.95], \"y\": [0.15493402079232038, 0.2899623010767797, 0.40962230901984037, 0.5170575837478053, 0.6145360276747438, 0.7037476659170588, 0.7859856975396531, 0.8622617634598161, 0.933382180135901, 1.0, 1.0626515508534018, 1.1217826959637844, 1.1777681009284298, 1.230925629554433, 1.281527275659983, 1.3298075853076972, 1.375970230560889, 1.4201932011953577, 1.4626329490105987]}, {\"line\": {\"color\": \"rgb(201.44736842105263, 201.44736842105263, 201.44736842105263)\"}, \"mode\": \"lines\", \"name\": \"-0.9\", \"type\": \"scatter\", \"x\": [0.05, 0.1, 0.15, 0.2, 0.25, 0.3, 0.35, 0.4, 0.45, 0.5, 0.55, 0.6, 0.65, 0.7, 0.75, 0.8, 0.85, 0.9, 0.95], \"y\": [0.15138109462058905, 0.2845888506351376, 0.4035227285498348, 0.5109478487934579, 0.608896326857936, 0.6989054508852194, 0.7821663460663233, 0.8596206882271403, 0.932025835708296, 1.0, 1.064054374178476, 1.1246164923318065, 1.1820475439714913, 1.2366554286242013, 1.2887047494803778, 1.3384245689062604, 1.3860145016131777, 1.431649555540086, 1.4754840171424064]}, {\"line\": {\"color\": \"rgb(202.89473684210526, 202.89473684210526, 202.89473684210526)\"}, \"mode\": \"lines\", \"name\": \"-0.85\", \"type\": \"scatter\", \"x\": [0.05, 0.1, 0.15, 0.2, 0.25, 0.3, 0.35, 0.4, 0.45, 0.5, 0.55, 0.6, 0.65, 0.7, 0.75, 0.8, 0.85, 0.9, 0.95], \"y\": [0.14790595648844249, 0.27927665044080313, 0.39744025779075814, 0.5048113704142448, 0.6031975151555888, 0.6939870114453214, 0.7782693520808521, 0.8569152523446142, 0.9306315690837155, 0.9999999999999999, 1.0655049923534405, 1.1275542816660533, 1.186494279209179, 1.2426217848437984, 1.2961930304245717, 1.3474307521104834, 1.3965297856605075, 1.44366154008058, 1.4889776090717617]}, {\"line\": {\"color\": \"rgb(204.3421052631579, 204.3421052631579, 204.3421052631579)\"}, \"mode\": \"lines\", \"name\": \"-0.8\", \"type\": \"scatter\", \"x\": [0.05, 0.1, 0.15, 0.2, 0.25, 0.3, 0.35, 0.4, 0.45, 0.5, 0.55, 0.6, 0.65, 0.7, 0.75, 0.8, 0.85, 0.9, 0.95], \"y\": [0.14450816136737457, 0.274028027855985, 0.391378645394659, 0.49865165639658027, 0.5974418567347904, 0.688993075640958, 0.774294157581684, 0.8541442222412537, 0.9291982961277704, 0.9999999999999999, 1.0670054627528056, 1.1306011442272534, 1.1911173387867726, 1.2488385578887145, 1.3040116191484152, 1.3568520242211888, 1.4075490423125858, 1.4562698022859528, 1.503162616699345]}, {\"line\": {\"color\": \"rgb(205.78947368421052, 205.78947368421052, 205.78947368421052)\"}, \"mode\": \"lines\", \"name\": \"-0.75\", \"type\": \"scatter\", \"x\": [0.05, 0.1, 0.15, 0.2, 0.25, 0.3, 0.35, 0.4, 0.45, 0.5, 0.55, 0.6, 0.65, 0.7, 0.75, 0.8, 0.85, 0.9, 0.95], \"y\": [0.1411871690023745, 0.26884516072286396, 0.3853415988624241, 0.4924723009183318, 0.5916317674066062, 0.6839245142732038, 0.7702402897031202, 0.8513063816481182, 0.9277249106090615, 1.0, 1.0685579520574748, 1.1337624845997443, 1.1959264121119426, 1.2553207226233174, 1.3121817174439998, 1.3667166896167993, 1.419108485911194, 1.469519205835702, 1.5180932264459674]}, {\"line\": {\"color\": \"rgb(207.23684210526315, 207.23684210526315, 207.23684210526315)\"}, \"mode\": \"lines\", \"name\": \"-0.7\", \"type\": \"scatter\", \"x\": [0.05, 0.1, 0.15, 0.2, 0.25, 0.3, 0.35, 0.4, 0.45, 0.5, 0.55, 0.6, 0.65, 0.7, 0.75, 0.8, 0.85, 0.9, 0.95], \"y\": [0.1379423500444618, 0.26373007401523607, 0.37933277232915913, 0.4862769741429151, 0.5857698118935893, 0.6787823448594263, 0.7661073668333105, 0.8484005355883074, 0.9262102847023259, 1.0, 1.070164743518739, 1.1370440585863015, 1.2009319088174417, 1.2620844879549964, 1.3207264254773805, 1.3770557678514865, 1.4312480143356066, 1.4834594148176297, 1.5338296859199447]}, {\"line\": {\"color\": \"rgb(208.68421052631578, 208.68421052631578, 208.68421052631578)\"}, \"mode\": \"lines\", \"name\": \"-0.65\", \"type\": \"scatter\", \"x\": [0.05, 0.1, 0.15, 0.2, 0.25, 0.3, 0.35, 0.4, 0.45, 0.5, 0.55, 0.6, 0.65, 0.7, 0.75, 0.8, 0.85, 0.9, 0.95], \"y\": [0.13477299220639738, 0.2586846373738948, 0.37335575467734733, 0.4800694112020247, 0.5798587002196463, 0.6735677351008339, 0.7618951047547544, 0.8454255146048862, 0.9246532696000802, 1.0000000000000002, 1.0718282448263732, 1.1404520029207996, 1.206145029355259, 1.2691474317288876, 1.3296709680110732, 1.387903341062582, 1.4440117095524339, 1.4981455808240207, 1.5504392118419015]}, {\"line\": {\"color\": \"rgb(210.1315789473684, 210.1315789473684, 210.1315789473684)\"}, \"mode\": \"lines\", \"name\": \"-0.6\", \"type\": \"scatter\", \"x\": [0.05, 0.1, 0.15, 0.2, 0.25, 0.3, 0.35, 0.4, 0.45, 0.5, 0.55, 0.6, 0.65, 0.7, 0.75, 0.8, 0.85, 0.9, 0.95], \"y\": [0.13167830640078806, 0.2537105635120017, 0.36741405807011196, 0.4738534006407831, 0.5739012832099003, 0.6682820058014826, 0.7576033227688513, 0.8423801792253021, 0.9230526962411559, 1.0, 1.0735509966421992, 1.1439928681584408, 1.2115778443498213, 1.2765286543060212, 1.3390429548198333, 1.399296957822086, 1.4574484246350339, 1.5136391552112258, 1.5679970712429332]}, {\"line\": {\"color\": \"rgb(211.57894736842104, 211.57894736842104, 211.57894736842104)\"}, \"mode\": \"lines\", \"name\": \"-0.55\", \"type\": \"scatter\", \"x\": [0.05, 0.1, 0.15, 0.2, 0.25, 0.3, 0.35, 0.4, 0.45, 0.5, 0.55, 0.6, 0.65, 0.7, 0.75, 0.8, 0.85, 0.9, 0.95], \"y\": [0.12865743282331862, 0.2488094074683208, 0.3615111069916334, 0.4676327724067861, 0.5679005470970772, 0.6629266331826852, 0.7532319497625496, 0.8392634246588302, 0.9214073761647924, 1.0000000000000002, 1.075335681867876, 1.147673655157689, 1.2172433840357009, 1.284248953986164, 1.3488726816250987, 1.4112781046762584, 1.4716124755982793, 1.53000885456921, 1.58658787667349]}, {\"line\": {\"color\": \"rgb(213.0263157894737, 213.0263157894737, 213.0263157894737)\"}, \"mode\": \"lines\", \"name\": \"-0.5\", \"type\": \"scatter\", \"x\": [0.05, 0.1, 0.15, 0.2, 0.25, 0.3, 0.35, 0.4, 0.45, 0.5, 0.55, 0.6, 0.65, 0.7, 0.75, 0.8, 0.85, 0.9, 0.95], \"y\": [0.1257094469474609, 0.24398256667854187, 0.3556502278752713, 0.4614113854711953, 0.5618596072403228, 0.6575032505388149, 0.7487810301717367, 0.8360741857213118, 0.9197161024991896, 1.0, 1.0771851357240745, 1.1515018556319863, 1.2231557393435961, 1.2923310280739242, 1.3591934792711626, 1.4238927592986212, 1.4865644610633622, 1.5473318149999526, 1.6063071476891624]}, {\"line\": {\"color\": \"rgb(214.47368421052633, 214.47368421052633, 214.47368421052633)\"}, \"mode\": \"lines\", \"name\": \"-0.45\", \"type\": \"scatter\", \"x\": [0.05, 0.1, 0.15, 0.2, 0.25, 0.3, 0.35, 0.4, 0.45, 0.5, 0.55, 0.6, 0.65, 0.7, 0.75, 0.8, 0.85, 0.9, 0.95], \"y\": [0.12283336540064799, 0.2392312818280988, 0.34983463939239695, 0.45519311517559935, 0.5557817009722436, 0.6520136491834534, 0.7442507297928708, 0.8328114419789701, 0.9179776510936309, 0.9999999999999999, 1.0791023567278168, 1.1554854973247857, 1.2293301764867208, 1.3007997041745012, 1.370042120626321, 1.437192042615381, 1.5023722388372132, 1.5656949807586609, 1.6272632062703787]}, {\"line\": {\"color\": \"rgb(215.92105263157896, 215.92105263157896, 215.92105263157896)\"}, \"mode\": \"lines\", \"name\": \"-0.4\", \"type\": \"scatter\", \"x\": [0.05, 0.1, 0.15, 0.2, 0.25, 0.3, 0.35, 0.4, 0.45, 0.5, 0.55, 0.6, 0.65, 0.7, 0.75, 0.8, 0.85, 0.9, 0.95], \"y\": [0.12002815169552584, 0.23455663844390998, 0.34406744346647056, 0.44898184040263894, 0.5496701796000181, 0.6464597786387359, 0.7396413413914346, 0.8294742231003763, 0.916190781803412, 1.0, 1.0810905186657274, 1.159633194450693, 1.2357832672501503, 1.3096822072845602, 1.3814592969237476, 1.4512329916932898, 1.519112096451234, 1.5851967860610243, 1.6495794945976412]}, {\"line\": {\"color\": \"rgb(217.3684210526316, 217.3684210526316, 217.3684210526316)\"}, \"mode\": \"lines\", \"name\": \"-0.35\", \"type\": \"scatter\", \"x\": [0.05, 0.1, 0.15, 0.2, 0.25, 0.3, 0.35, 0.4, 0.45, 0.5, 0.55, 0.6, 0.65, 0.7, 0.75, 0.8, 0.85, 0.9, 0.95], \"y\": [0.11729272179342294, 0.2299595691774662, 0.338351617067715, 0.44278143067130893, 0.5435284995966623, 0.6408437460255513, 0.7349532900532857, 0.8260616144027461, 0.9143542399369038, 1.0000000000000002, 1.0831529836735512, 1.1639542041515698, 1.2425330376136279, 1.319008469468048, 1.3934901781060591, 1.4660794809451316, 1.5368701632405481, 1.6059492066769718, 1.6733974319396476]}, {\"line\": {\"color\": \"rgb(218.81578947368422, 218.81578947368422, 218.81578947368422)\"}, \"mode\": \"lines\", \"name\": \"-0.3\", \"type\": \"scatter\", \"x\": [0.05, 0.1, 0.15, 0.2, 0.25, 0.3, 0.35, 0.4, 0.45, 0.5, 0.55, 0.6, 0.65, 0.7, 0.75, 0.8, 0.85, 0.9, 0.95], \"y\": [0.11462594948062037, 0.22544085672758113, 0.33269000483400224, 0.4365957332593192, 0.5373602130286061, 0.6351678146180375, 0.7301871382228617, 0.8225727625756175, 0.9124667578740937, 1.0000000000000002, 1.0852933165467766, 1.168458489842865, 1.2495991378634888, 1.3288114904472352, 1.4061850754028862, 1.481803326775024, 1.5557441256313365, 1.6280802821598812, 1.6988799665575591]}, {\"line\": {\"color\": \"rgb(220.26315789473685, 220.26315789473685, 220.26315789473685)\"}, \"mode\": \"lines\", \"name\": \"-0.25\", \"type\": \"scatter\", \"x\": [0.05, 0.1, 0.15, 0.2, 0.25, 0.3, 0.35, 0.4, 0.45, 0.5, 0.55, 0.6, 0.65, 0.7, 0.75, 0.8, 0.85, 0.9, 0.95], \"y\": [0.11202667154128051, 0.2210011373479814, 0.3270853125534799, 0.4304285604548898, 0.5311689572755929, 0.6294344015324782, 0.725343590370664, 0.8190068815616992, 0.9105270568658596, 1.0000000000000002, 1.0875153004238653, 1.17315679247674, 1.2570030379973187, 1.3391277593905175, 1.4196002291240204, 1.498485620811211, 1.575845326338897, 1.6517372429059627, 1.7262160333350602]}, {\"line\": {\"color\": \"rgb(221.71052631578948, 221.71052631578948, 221.71052631578948)\"}, \"mode\": \"lines\", \"name\": \"-0.2\", \"type\": \"scatter\", \"x\": [0.05, 0.1, 0.15, 0.2, 0.25, 0.3, 0.35, 0.4, 0.45, 0.5, 0.55, 0.6, 0.65, 0.7, 0.75, 0.8, 0.85, 0.9, 0.95], \"y\": [0.1094936927140039, 0.2166409048826954, 0.32154010153421714, 0.4242836770388403, 0.5249584441082327, 0.6236460745282117, 0.7204234972314502, 0.8153632585712202, 0.9085338490230802, 0.9999999999999999, 1.0898229540028823, 1.1780607109303436, 1.2647682530287483, 1.3499977506674248, 1.4337987508675798, 1.5162183502908837, 1.59730135420001, 1.677090422734444, 1.7556262056971628]}, {\"line\": {\"color\": \"rgb(223.1578947368421, 223.1578947368421, 223.1578947368421)\"}, \"mode\": \"lines\", \"name\": \"-0.15\", \"type\": \"scatter\", \"x\": [0.05, 0.1, 0.15, 0.2, 0.25, 0.3, 0.35, 0.4, 0.45, 0.5, 0.55, 0.6, 0.65, 0.7, 0.75, 0.8, 0.85, 0.9, 0.95], \"y\": [0.10702579042189454, 0.21236051527083835, 0.3160567838759391, 0.4181647880949125, 0.5187324481972454, 0.6178055479065016, 0.7154278595543357, 0.811641260202575, 0.9064858395044048, 1.0000000000000004, 1.0922205504745899, 1.1831827929469587, 1.272920603802875, 1.3614665095400755, 1.448851757548639, 1.5351063823121753, 1.620259267380797, 1.7043382034358596, 1.7873699427385399]}, {\"line\": {\"color\": \"rgb(224.60526315789474, 224.60526315789474, 224.60526315789474)\"}, \"mode\": \"lines\", \"name\": \"-0.1\", \"type\": \"scatter\", \"x\": [0.05, 0.1, 0.15, 0.2, 0.25, 0.3, 0.35, 0.4, 0.45, 0.5, 0.55, 0.6, 0.65, 0.7, 0.75, 0.8, 0.85, 0.9, 0.95], \"y\": [0.10462171926871862, 0.2081601914619122, 0.3106376186489104, 0.412075527241861, 0.5124947951362556, 0.6119156775022537, 0.7103578313064534, 0.8078403386384084, 0.9043817289111004, 1.0000000000000002, 1.0947126383809997, 1.1885366383236267, 1.2814885201921635, 1.373584347904059, 1.4648397455916748, 1.5552699135106836, 1.6448896432355418, 1.733713332180143, 1.8217549974791922]}, {\"line\": {\"color\": \"rgb(226.05263157894737, 226.05263157894737, 226.05263157894737)\"}, \"mode\": \"lines\", \"name\": \"-0.05\", \"type\": \"scatter\", \"x\": [0.05, 0.1, 0.15, 0.2, 0.25, 0.3, 0.35, 0.4, 0.45, 0.5, 0.55, 0.6, 0.65, 0.7, 0.75, 0.8, 0.85, 0.9, 0.95], \"y\": [0.1022802152962298, 0.20404002868297083, 0.30528470897539234, 0.4060194453752468, 0.5062493490668178, 0.6059794547730637, 0.7052147222731646, 0.8039600378826045, 0.9022202158968904, 0.9999999999999991, 1.0973040646385166, 1.1941370163625793, 1.2905033951344218, 1.3864076756056605, 1.4818542683639706, 1.5768475211502906, 1.6713917200471502, 1.7654910906390704, 1.8591497991458492]}, {\"line\": {\"color\": \"rgb(227.5, 227.5, 227.5)\"}, \"mode\": \"lines\", \"name\": \"0.05\", \"type\": \"scatter\", \"x\": [0.05, 0.1, 0.15, 0.2, 0.25, 0.3, 0.35, 0.4, 0.45, 0.5, 0.55, 0.6, 0.65, 0.7, 0.75, 0.8, 0.85, 0.9, 0.95], \"y\": [0.09777978410310892, 0.19603996211739547, 0.29478527772683244, 0.39402054522693314, 0.493750650933181, 0.5939805546247501, 0.694715291024608, 0.7959599713170262, 0.8977197847037705, 0.9999999999999993, 1.102805967271268, 1.206143119512751, 1.3100169743721128, 1.4144331359173354, 1.5193972964509532, 1.6249152383721264, 1.7309928360881004, 1.8376360579766455, 1.9448509684010762]}, {\"line\": {\"color\": \"rgb(228.94736842105263, 228.94736842105263, 228.94736842105263)\"}, \"mode\": \"lines\", \"name\": \"0.1\", \"type\": \"scatter\", \"x\": [0.05, 0.1, 0.15, 0.2, 0.25, 0.3, 0.35, 0.4, 0.45, 0.5, 0.55, 0.6, 0.65, 0.7, 0.75, 0.8, 0.85, 0.9, 0.95], \"y\": [0.09561827108889831, 0.1921596613615915, 0.2896421686935451, 0.3880843224977467, 0.48750520486374516, 0.5879244727581395, 0.6893623813510895, 0.7918398085380874, 0.8953782807312824, 0.9999999999999996, 1.1057278726461144, 1.2125855393062126, 1.3205974066795463, 1.4297886809882652, 1.5401854032847062, 1.6518144867294107, 1.7647037559734406, 1.8788819887890713, 1.9943789601047472]}, {\"line\": {\"color\": \"rgb(230.39473684210526, 230.39473684210526, 230.39473684210526)\"}, \"mode\": \"lines\", \"name\": \"0.15\", \"type\": \"scatter\", \"x\": [0.05, 0.1, 0.15, 0.2, 0.25, 0.3, 0.35, 0.4, 0.45, 0.5, 0.55, 0.6, 0.65, 0.7, 0.75, 0.8, 0.85, 0.9, 0.95], \"y\": [0.09351416049559547, 0.18835873979742593, 0.2845721404456645, 0.3821944520934991, 0.4812675518027545, 0.5818352119050878, 0.6839432161240612, 0.7876394847291602, 0.8929742095781061, 1.0, 1.1087720405807768, 1.2193482620355478, 1.3317895264923967, 1.446159828671281, 1.5625265146229026, 1.680960519899637, 1.8015366292675044, 1.9243337603402952, 2.0494352738296633]}, {\"line\": {\"color\": \"rgb(231.8421052631579, 231.8421052631579, 231.8421052631579)\"}, \"mode\": \"lines\", \"name\": \"0.2\", \"type\": \"scatter\", \"x\": [0.05, 0.1, 0.15, 0.2, 0.25, 0.3, 0.35, 0.4, 0.45, 0.5, 0.55, 0.6, 0.65, 0.7, 0.75, 0.8, 0.85, 0.9, 0.95], \"y\": [0.09146615097691906, 0.18463674142878045, 0.2795765027685498, 0.3763539254717874, 0.47504155589176694, 0.5757163229611594, 0.6784598984657826, 0.783359095117305, 0.8905063072859961, 1.0000000000000002, 1.1119452526964688, 1.2264543652499065, 1.3436475350380908, 1.4636536152782431, 1.5866109666280999, 1.712668416164099, 1.8419863404047627, 1.9747378921462517, 2.1111103946525693]}, {\"line\": {\"color\": \"rgb(233.28947368421052, 233.28947368421052, 233.28947368421052)\"}, \"mode\": \"lines\", \"name\": \"0.25\", \"type\": \"scatter\", \"x\": [0.05, 0.1, 0.15, 0.2, 0.25, 0.3, 0.35, 0.4, 0.45, 0.5, 0.55, 0.6, 0.65, 0.7, 0.75, 0.8, 0.85, 0.9, 0.95], \"y\": [0.08947294313413995, 0.18099311843830113, 0.274656409629336, 0.37056559846752224, 0.4688310427244069, 0.56957143954511, 0.6729146874465193, 0.7789988626520188, 0.8879733284587187, 0.9999999999999998, 1.1152547912785555, 1.233929276929231, 1.35623260812154, 1.4823937307173056, 1.6126639647738414, 1.7473200184158428, 1.8866675269174902, 2.031045230803721, 2.180829936632863]}, {\"line\": {\"color\": \"rgb(234.73684210526315, 234.73684210526315, 234.73684210526315)\"}, \"mode\": \"lines\", \"name\": \"0.3\", \"type\": \"scatter\", \"x\": [0.05, 0.1, 0.15, 0.2, 0.25, 0.3, 0.35, 0.4, 0.45, 0.5, 0.55, 0.6, 0.65, 0.7, 0.75, 0.8, 0.85, 0.9, 0.95], \"y\": [0.08753324212590659, 0.17742723742438216, 0.26981286177713826, 0.3648321853819619, 0.46263978697139374, 0.5634042667406809, 0.6673099951659979, 0.7745591432724188, 0.8853740505193795, 1.0000000000000002, 1.1187084880363791, 1.2418010977788712, 1.3696141158589201, 1.5025240699864684, 1.6409544171413373, 1.7853836817263427, 1.9363554380583168, 2.09449066268461, 2.260503165433819]}, {\"line\": {\"color\": \"rgb(236.18421052631578, 236.18421052631578, 236.18421052631578)\"}, \"mode\": \"lines\", \"name\": \"0.35\", \"type\": \"scatter\", \"x\": [0.05, 0.1, 0.15, 0.2, 0.25, 0.3, 0.35, 0.4, 0.45, 0.5, 0.55, 0.6, 0.65, 0.7, 0.75, 0.8, 0.85, 0.9, 0.95], \"y\": [0.08564576006309581, 0.1739383855972541, 0.26504670994671475, 0.359156253974449, 0.45647150040333784, 0.5572185693286916, 0.6616483829322853, 0.770040430822534, 0.882707278206577, 1.0000000000000002, 1.1223147789017447, 1.2501009800566911, 1.3838711174972673, 1.5242132704831124, 1.6718067099379608, 1.8274417854664209, 1.9920455477431778, 2.1667152133064054, 2.3527625411093394]}, {\"line\": {\"color\": \"rgb(237.63157894736844, 237.63157894736844, 237.63157894736844)\"}, \"mode\": \"lines\", \"name\": \"0.4\", \"type\": \"scatter\", \"x\": [0.05, 0.1, 0.15, 0.2, 0.25, 0.3, 0.35, 0.4, 0.45, 0.5, 0.55, 0.6, 0.65, 0.7, 0.75, 0.8, 0.85, 0.9, 0.95], \"y\": [0.08380921819658775, 0.17052577689962378, 0.2603586586085651, 0.353540221361264, 0.4503298203999819, 0.551018159597361, 0.6559325565335293, 0.7654433615560902, 0.8799718483044737, 1.0, 1.126082765780976, 1.2588635751632038, 1.3990942086101206, 1.5476605797094714, 1.7056166737049767, 1.8742299491538228, 2.055043187632084, 2.249960504475306, 2.461369813660571]}, {\"line\": {\"color\": \"rgb(239.07894736842104, 239.07894736842104, 239.07894736842104)\"}, \"mode\": \"lines\", \"name\": \"0.45\", \"type\": \"scatter\", \"x\": [0.05, 0.1, 0.15, 0.2, 0.25, 0.3, 0.35, 0.4, 0.45, 0.5, 0.55, 0.6, 0.65, 0.7, 0.75, 0.8, 0.85, 0.9, 0.95], \"y\": [0.082022348906369, 0.1671885580210298, 0.25574927020712923, 0.34798635081654683, 0.44421829902775645, 0.5448068848244002, 0.6501653606076023, 0.7607687181719007, 0.8771666345993521, 0.9999999999999999, 1.1300222863404448, 1.2681275654098803, 1.4153878243881752, 1.5731035462955532, 1.7428736498124517, 1.9266944226212543, 2.1271031859011997, 2.347393393862171, 2.5919485466863907]}, {\"line\": {\"color\": \"rgb(240.5263157894737, 240.5263157894737, 240.5263157894737)\"}, \"mode\": \"lines\", \"name\": \"0.5\", \"type\": \"scatter\", \"x\": [0.05, 0.1, 0.15, 0.2, 0.25, 0.3, 0.35, 0.4, 0.45, 0.5, 0.55, 0.6, 0.65, 0.7, 0.75, 0.8, 0.85, 0.9, 0.95], \"y\": [0.08028389750081044, 0.1639258142786882, 0.25121896982826303, 0.34249674946118536, 0.4381403927596771, 0.5385886145288045, 0.6443497721247285, 0.756017433321458, 0.8742905530525389, 1.0, 1.1341439931052442, 1.2779362995458294, 1.4328731399888452, 1.6008282530582754, 1.7841916590763625, 1.9860786912320079, 2.2106568539700455, 2.463680454797201, 2.7534148979054156]}, {\"line\": {\"color\": \"rgb(241.9736842105263, 241.9736842105263, 241.9736842105263)\"}, \"mode\": \"lines\", \"name\": \"0.55\", \"type\": \"scatter\", \"x\": [0.05, 0.1, 0.15, 0.2, 0.25, 0.3, 0.35, 0.4, 0.45, 0.5, 0.55, 0.6, 0.65, 0.7, 0.75, 0.8, 0.85, 0.9, 0.95], \"y\": [0.07859262383520779, 0.16073657534116984, 0.24676805023745044, 0.33707336681731453, 0.43209945290292295, 0.532367227593214, 0.6384888930083665, 0.7511905925316791, 0.8713425671766809, 1.0, 1.138459443393657, 1.2883385571208679, 1.4516917622032384, 1.6311831626055313, 1.8303545410164686, 2.054058993945991, 2.309200613408217, 2.6060826760786227, 2.9610856076459684]}, {\"line\": {\"color\": \"rgb(243.42105263157896, 243.42105263157896, 243.42105263157896)\"}, \"mode\": \"lines\", \"name\": \"0.6\", \"type\": \"scatter\", \"x\": [0.05, 0.1, 0.15, 0.2, 0.25, 0.3, 0.35, 0.4, 0.45, 0.5, 0.55, 0.6, 0.65, 0.7, 0.75, 0.8, 0.85, 0.9, 0.95], \"y\": [0.07694730375884373, 0.1576198207746979, 0.24239667723114863, 0.33171799419851733, 0.4260987167900993, 0.5261465993592168, 0.6325859419298877, 0.7462894364879982, 0.8683216935992117, 1.0, 1.1429812019070675, 1.299389474092001, 1.4720104842447115, 1.6645982085632385, 1.8823832494068542, 2.1329658134789873, 2.4280060074354424, 2.786755407083961, 3.2445261889743358]}, {\"line\": {\"color\": \"rgb(244.8684210526316, 244.8684210526316, 244.8684210526316)\"}, \"mode\": \"lines\", \"name\": \"0.65\", \"type\": \"scatter\", \"x\": [0.05, 0.1, 0.15, 0.2, 0.25, 0.3, 0.35, 0.4, 0.45, 0.5, 0.55, 0.6, 0.65, 0.7, 0.75, 0.8, 0.85, 0.9, 0.95], \"y\": [0.07534673039991982, 0.15457448539511373, 0.23810489524524572, 0.3264322648991664, 0.420141299780354, 0.5199305887979755, 0.6266442453226527, 0.7413153626261053, 0.8652270077936026, 1.0, 1.147722958159753, 1.3111516719545055, 1.4940274903877222, 1.7016116920248614, 1.9416396580932453, 2.2261656998416837, 2.5755303557979863, 3.0282831046311522, 3.672609200923722]}, {\"line\": {\"color\": \"rgb(246.31578947368422, 246.31578947368422, 246.31578947368422)\"}, \"mode\": \"lines\", \"name\": \"0.7\", \"type\": \"scatter\", \"x\": [0.05, 0.1, 0.15, 0.2, 0.25, 0.3, 0.35, 0.4, 0.45, 0.5, 0.55, 0.6, 0.65, 0.7, 0.75, 0.8, 0.85, 0.9, 0.95], \"y\": [0.07378971529767404, 0.15159946441169267, 0.23389263316668918, 0.32121765514057365, 0.41423018810641066, 0.5137230258570845, 0.620667227670841, 0.7362699259847636, 0.862057649955538, 0.9999999999999993, 1.1526996613835778, 1.3236966461351116, 1.5179805710027339, 1.742909120760004, 2.009993332289973, 2.338765063552385, 2.7665551639236554, 3.380028177400945, 4.478166775079047]}, {\"line\": {\"color\": \"rgb(247.76315789473685, 247.76315789473685, 247.76315789473685)\"}, \"mode\": \"lines\", \"name\": \"0.75\", \"type\": \"scatter\", \"x\": [0.05, 0.1, 0.15, 0.2, 0.25, 0.3, 0.35, 0.4, 0.45, 0.5, 0.55, 0.6, 0.65, 0.7, 0.75, 0.8, 0.85, 0.9, 0.95], \"y\": [0.07227508939093825, 0.14869361835188188, 0.22975971029687975, 0.31607548572679606, 0.4083682325933937, 0.5075276990816681, 0.614658401137576, 0.7311548392771354, 0.8588128309976251, 0.9999999999999992, 1.157927676102195, 1.3371064879505057, 1.544158177425726, 1.789380921604789, 2.0901030370026996, 2.479025198773094, 3.0304022121247356, 3.987399769309249]}, {\"line\": {\"color\": \"rgb(249.21052631578948, 249.21052631578948, 249.21052631578948)\"}, \"mode\": \"lines\", \"name\": \"0.8\", \"type\": \"scatter\", \"x\": [0.05, 0.1, 0.15, 0.2, 0.25, 0.3, 0.35, 0.4, 0.45, 0.5, 0.55, 0.6, 0.65, 0.7, 0.75, 0.8, 0.85, 0.9, 0.95], \"y\": [0.07080170387222967, 0.14585577775874622, 0.22570584241831576, 0.3110069243590419, 0.4025581432652093, 0.5013483436034197, 0.6086213546053407, 0.7259719721440144, 0.8554918386326252, 0.9999999999999994, 1.1634249622685602, 1.3514760403954034, 1.5729145727165887, 1.8422111261595666, 2.1859220576663927, 2.661563684205022, 3.43884251058826, 5.917372075480651]}, {\"line\": {\"color\": \"rgb(250.6578947368421, 250.6578947368421, 250.6578947368421)\"}, \"mode\": \"lines\", \"name\": \"0.85\", \"type\": \"scatter\", \"x\": [0.05, 0.1, 0.15, 0.2, 0.25, 0.3, 0.35, 0.4, 0.45, 0.5, 0.55, 0.6, 0.65, 0.7, 0.75, 0.8, 0.85, 0.9, 0.95], \"y\": [0.06936843091628442, 0.14308474765538592, 0.2217306479191478, 0.3060129885546787, 0.39680248484441116, 0.49518862958575505, 0.6025597422092417, 0.7207233495591967, 0.8520940435115575, 0.9999999999999996, 1.1692112847386178, 1.3669156248596877, 1.604691030750205, 1.9030192177563428, 2.303679640920747, 2.9159531037052733, 4.266637254002895]}, {\"line\": {\"color\": \"rgb(252.10526315789474, 252.10526315789474, 252.10526315789474)\"}, \"mode\": \"lines\", \"name\": \"0.9\", \"type\": \"scatter\", \"x\": [0.05, 0.1, 0.15, 0.2, 0.25, 0.3, 0.35, 0.4, 0.45, 0.5, 0.55, 0.6, 0.65, 0.7, 0.75, 0.8, 0.85, 0.9, 0.95], \"y\": [0.06797416429170382, 0.14037931177285956, 0.2178336539336766, 0.30109454911478034, 0.39110367314206385, 0.4890521512065422, 0.5964772714501649, 0.7154111493648623, 0.8486189053794108, 0.9999999999999996, 1.1753084579667255, 1.3835545289783362, 1.6400462101737492, 1.9740982973702241, 2.453998456233142, 3.3172834723992968]}, {\"line\": {\"color\": \"rgb(253.55263157894737, 253.55263157894737, 253.55263157894737)\"}, \"mode\": \"lines\", \"name\": \"0.95\", \"type\": \"scatter\", \"x\": [0.05, 0.1, 0.15, 0.2, 0.25, 0.3, 0.35, 0.4, 0.45, 0.5, 0.55, 0.6, 0.65, 0.7, 0.75, 0.8, 0.85, 0.9, 0.95], \"y\": [0.06661781986409915, 0.13773823654018388, 0.21401430246034692, 0.29625233408294127, 0.3854639723252561, 0.48294241625219464, 0.5903776909801596, 0.7100376989232202, 0.8450659792076795, 0.9999999999999996, 1.181740633226663, 1.4015455237271277, 1.679700883930922, 2.0588398215298462, 2.657195184754253, 4.183855434139432]}, {\"line\": {\"color\": \"green\"}, \"mode\": \"lines\", \"name\": \"MAX\", \"type\": \"scatter\", \"x\": [0.05, 0.1, 0.15, 0.2, 0.25, 0.3, 0.35, 0.4, 0.45, 0.5, 0.55, 0.6, 0.65, 0.7, 0.75, 0.8, 0.85, 0.9, 0.95], \"y\": [0.15493402079232038, 0.2899623010767797, 0.40962230901984037, 0.5170575837478053, 0.6145360276747438, 0.7037476659170588, 0.7859856975396531, 0.8622617634598161, 0.933382180135901, 1.0000000000000004, 1.181740633226663, 1.4015455237271277, 1.679700883930922, 2.0588398215298462, 2.657195184754253, 4.183855434139432, 4.266637254002895, 5.917372075480651, 4.478166775079047]}, {\"line\": {\"color\": \"red\"}, \"mode\": \"lines\", \"name\": \"MIN\", \"type\": \"scatter\", \"x\": [0.05, 0.1, 0.15, 0.2, 0.25, 0.3, 0.35, 0.4, 0.45, 0.5, 0.55, 0.6, 0.65, 0.7, 0.75, 0.8, 0.85, 0.9, 0.95], \"y\": [0.06661781986409915, 0.13773823654018388, 0.21401430246034692, 0.29625233408294127, 0.3854639723252561, 0.48294241625219464, 0.5903776909801596, 0.7100376989232202, 0.8450659792076795, 0.9999999999999991, 1.0626515508534018, 1.1217826959637844, 1.1777681009284298, 1.230925629554433, 1.281527275659983, 1.3298075853076972, 1.375970230560889, 1.4201932011953577, 1.4626329490105987]}],                        {\"template\": {\"data\": {\"bar\": [{\"error_x\": {\"color\": \"#2a3f5f\"}, \"error_y\": {\"color\": \"#2a3f5f\"}, \"marker\": {\"line\": {\"color\": \"#E5ECF6\", \"width\": 0.5}}, \"type\": \"bar\"}], \"barpolar\": [{\"marker\": {\"line\": {\"color\": \"#E5ECF6\", \"width\": 0.5}}, \"type\": \"barpolar\"}], \"carpet\": [{\"aaxis\": {\"endlinecolor\": \"#2a3f5f\", \"gridcolor\": \"white\", \"linecolor\": \"white\", \"minorgridcolor\": \"white\", \"startlinecolor\": \"#2a3f5f\"}, \"baxis\": {\"endlinecolor\": \"#2a3f5f\", \"gridcolor\": \"white\", \"linecolor\": \"white\", \"minorgridcolor\": \"white\", \"startlinecolor\": \"#2a3f5f\"}, \"type\": \"carpet\"}], \"choropleth\": [{\"colorbar\": {\"outlinewidth\": 0, \"ticks\": \"\"}, \"type\": \"choropleth\"}], \"contour\": [{\"colorbar\": {\"outlinewidth\": 0, \"ticks\": \"\"}, \"colorscale\": [[0.0, \"#0d0887\"], [0.1111111111111111, \"#46039f\"], [0.2222222222222222, \"#7201a8\"], [0.3333333333333333, \"#9c179e\"], [0.4444444444444444, \"#bd3786\"], [0.5555555555555556, \"#d8576b\"], [0.6666666666666666, \"#ed7953\"], [0.7777777777777778, \"#fb9f3a\"], [0.8888888888888888, \"#fdca26\"], [1.0, \"#f0f921\"]], \"type\": \"contour\"}], \"contourcarpet\": [{\"colorbar\": {\"outlinewidth\": 0, \"ticks\": \"\"}, \"type\": \"contourcarpet\"}], \"heatmap\": [{\"colorbar\": {\"outlinewidth\": 0, \"ticks\": \"\"}, \"colorscale\": [[0.0, \"#0d0887\"], [0.1111111111111111, \"#46039f\"], [0.2222222222222222, \"#7201a8\"], [0.3333333333333333, \"#9c179e\"], [0.4444444444444444, \"#bd3786\"], [0.5555555555555556, \"#d8576b\"], [0.6666666666666666, \"#ed7953\"], [0.7777777777777778, \"#fb9f3a\"], [0.8888888888888888, \"#fdca26\"], [1.0, \"#f0f921\"]], \"type\": \"heatmap\"}], \"heatmapgl\": [{\"colorbar\": {\"outlinewidth\": 0, \"ticks\": \"\"}, \"colorscale\": [[0.0, \"#0d0887\"], [0.1111111111111111, \"#46039f\"], [0.2222222222222222, \"#7201a8\"], [0.3333333333333333, \"#9c179e\"], [0.4444444444444444, \"#bd3786\"], [0.5555555555555556, \"#d8576b\"], [0.6666666666666666, \"#ed7953\"], [0.7777777777777778, \"#fb9f3a\"], [0.8888888888888888, \"#fdca26\"], [1.0, \"#f0f921\"]], \"type\": \"heatmapgl\"}], \"histogram\": [{\"marker\": {\"colorbar\": {\"outlinewidth\": 0, \"ticks\": \"\"}}, \"type\": \"histogram\"}], \"histogram2d\": [{\"colorbar\": {\"outlinewidth\": 0, \"ticks\": \"\"}, \"colorscale\": [[0.0, \"#0d0887\"], [0.1111111111111111, \"#46039f\"], [0.2222222222222222, \"#7201a8\"], [0.3333333333333333, \"#9c179e\"], [0.4444444444444444, \"#bd3786\"], [0.5555555555555556, \"#d8576b\"], [0.6666666666666666, \"#ed7953\"], [0.7777777777777778, \"#fb9f3a\"], [0.8888888888888888, \"#fdca26\"], [1.0, \"#f0f921\"]], \"type\": \"histogram2d\"}], \"histogram2dcontour\": [{\"colorbar\": {\"outlinewidth\": 0, \"ticks\": \"\"}, \"colorscale\": [[0.0, \"#0d0887\"], [0.1111111111111111, \"#46039f\"], [0.2222222222222222, \"#7201a8\"], [0.3333333333333333, \"#9c179e\"], [0.4444444444444444, \"#bd3786\"], [0.5555555555555556, \"#d8576b\"], [0.6666666666666666, \"#ed7953\"], [0.7777777777777778, \"#fb9f3a\"], [0.8888888888888888, \"#fdca26\"], [1.0, \"#f0f921\"]], \"type\": \"histogram2dcontour\"}], \"mesh3d\": [{\"colorbar\": {\"outlinewidth\": 0, \"ticks\": \"\"}, \"type\": \"mesh3d\"}], \"parcoords\": [{\"line\": {\"colorbar\": {\"outlinewidth\": 0, \"ticks\": \"\"}}, \"type\": \"parcoords\"}], \"pie\": [{\"automargin\": true, \"type\": \"pie\"}], \"scatter\": [{\"marker\": {\"colorbar\": {\"outlinewidth\": 0, \"ticks\": \"\"}}, \"type\": \"scatter\"}], \"scatter3d\": [{\"line\": {\"colorbar\": {\"outlinewidth\": 0, \"ticks\": \"\"}}, \"marker\": {\"colorbar\": {\"outlinewidth\": 0, \"ticks\": \"\"}}, \"type\": \"scatter3d\"}], \"scattercarpet\": [{\"marker\": {\"colorbar\": {\"outlinewidth\": 0, \"ticks\": \"\"}}, \"type\": \"scattercarpet\"}], \"scattergeo\": [{\"marker\": {\"colorbar\": {\"outlinewidth\": 0, \"ticks\": \"\"}}, \"type\": \"scattergeo\"}], \"scattergl\": [{\"marker\": {\"colorbar\": {\"outlinewidth\": 0, \"ticks\": \"\"}}, \"type\": \"scattergl\"}], \"scattermapbox\": [{\"marker\": {\"colorbar\": {\"outlinewidth\": 0, \"ticks\": \"\"}}, \"type\": \"scattermapbox\"}], \"scatterpolar\": [{\"marker\": {\"colorbar\": {\"outlinewidth\": 0, \"ticks\": \"\"}}, \"type\": \"scatterpolar\"}], \"scatterpolargl\": [{\"marker\": {\"colorbar\": {\"outlinewidth\": 0, \"ticks\": \"\"}}, \"type\": \"scatterpolargl\"}], \"scatterternary\": [{\"marker\": {\"colorbar\": {\"outlinewidth\": 0, \"ticks\": \"\"}}, \"type\": \"scatterternary\"}], \"surface\": [{\"colorbar\": {\"outlinewidth\": 0, \"ticks\": \"\"}, \"colorscale\": [[0.0, \"#0d0887\"], [0.1111111111111111, \"#46039f\"], [0.2222222222222222, \"#7201a8\"], [0.3333333333333333, \"#9c179e\"], [0.4444444444444444, \"#bd3786\"], [0.5555555555555556, \"#d8576b\"], [0.6666666666666666, \"#ed7953\"], [0.7777777777777778, \"#fb9f3a\"], [0.8888888888888888, \"#fdca26\"], [1.0, \"#f0f921\"]], \"type\": \"surface\"}], \"table\": [{\"cells\": {\"fill\": {\"color\": \"#EBF0F8\"}, \"line\": {\"color\": \"white\"}}, \"header\": {\"fill\": {\"color\": \"#C8D4E3\"}, \"line\": {\"color\": \"white\"}}, \"type\": \"table\"}]}, \"layout\": {\"annotationdefaults\": {\"arrowcolor\": \"#2a3f5f\", \"arrowhead\": 0, \"arrowwidth\": 1}, \"autotypenumbers\": \"strict\", \"coloraxis\": {\"colorbar\": {\"outlinewidth\": 0, \"ticks\": \"\"}}, \"colorscale\": {\"diverging\": [[0, \"#8e0152\"], [0.1, \"#c51b7d\"], [0.2, \"#de77ae\"], [0.3, \"#f1b6da\"], [0.4, \"#fde0ef\"], [0.5, \"#f7f7f7\"], [0.6, \"#e6f5d0\"], [0.7, \"#b8e186\"], [0.8, \"#7fbc41\"], [0.9, \"#4d9221\"], [1, \"#276419\"]], \"sequential\": [[0.0, \"#0d0887\"], [0.1111111111111111, \"#46039f\"], [0.2222222222222222, \"#7201a8\"], [0.3333333333333333, \"#9c179e\"], [0.4444444444444444, \"#bd3786\"], [0.5555555555555556, \"#d8576b\"], [0.6666666666666666, \"#ed7953\"], [0.7777777777777778, \"#fb9f3a\"], [0.8888888888888888, \"#fdca26\"], [1.0, \"#f0f921\"]], \"sequentialminus\": [[0.0, \"#0d0887\"], [0.1111111111111111, \"#46039f\"], [0.2222222222222222, \"#7201a8\"], [0.3333333333333333, \"#9c179e\"], [0.4444444444444444, \"#bd3786\"], [0.5555555555555556, \"#d8576b\"], [0.6666666666666666, \"#ed7953\"], [0.7777777777777778, \"#fb9f3a\"], [0.8888888888888888, \"#fdca26\"], [1.0, \"#f0f921\"]]}, \"colorway\": [\"#636efa\", \"#EF553B\", \"#00cc96\", \"#ab63fa\", \"#FFA15A\", \"#19d3f3\", \"#FF6692\", \"#B6E880\", \"#FF97FF\", \"#FECB52\"], \"font\": {\"color\": \"#2a3f5f\"}, \"geo\": {\"bgcolor\": \"white\", \"lakecolor\": \"white\", \"landcolor\": \"#E5ECF6\", \"showlakes\": true, \"showland\": true, \"subunitcolor\": \"white\"}, \"hoverlabel\": {\"align\": \"left\"}, \"hovermode\": \"closest\", \"mapbox\": {\"style\": \"light\"}, \"paper_bgcolor\": \"white\", \"plot_bgcolor\": \"#E5ECF6\", \"polar\": {\"angularaxis\": {\"gridcolor\": \"white\", \"linecolor\": \"white\", \"ticks\": \"\"}, \"bgcolor\": \"#E5ECF6\", \"radialaxis\": {\"gridcolor\": \"white\", \"linecolor\": \"white\", \"ticks\": \"\"}}, \"scene\": {\"xaxis\": {\"backgroundcolor\": \"#E5ECF6\", \"gridcolor\": \"white\", \"gridwidth\": 2, \"linecolor\": \"white\", \"showbackground\": true, \"ticks\": \"\", \"zerolinecolor\": \"white\"}, \"yaxis\": {\"backgroundcolor\": \"#E5ECF6\", \"gridcolor\": \"white\", \"gridwidth\": 2, \"linecolor\": \"white\", \"showbackground\": true, \"ticks\": \"\", \"zerolinecolor\": \"white\"}, \"zaxis\": {\"backgroundcolor\": \"#E5ECF6\", \"gridcolor\": \"white\", \"gridwidth\": 2, \"linecolor\": \"white\", \"showbackground\": true, \"ticks\": \"\", \"zerolinecolor\": \"white\"}}, \"shapedefaults\": {\"line\": {\"color\": \"#2a3f5f\"}}, \"ternary\": {\"aaxis\": {\"gridcolor\": \"white\", \"linecolor\": \"white\", \"ticks\": \"\"}, \"baxis\": {\"gridcolor\": \"white\", \"linecolor\": \"white\", \"ticks\": \"\"}, \"bgcolor\": \"#E5ECF6\", \"caxis\": {\"gridcolor\": \"white\", \"linecolor\": \"white\", \"ticks\": \"\"}}, \"title\": {\"x\": 0.05}, \"xaxis\": {\"automargin\": true, \"gridcolor\": \"white\", \"linecolor\": \"white\", \"ticks\": \"\", \"title\": {\"standoff\": 15}, \"zerolinecolor\": \"white\", \"zerolinewidth\": 2}, \"yaxis\": {\"automargin\": true, \"gridcolor\": \"white\", \"linecolor\": \"white\", \"ticks\": \"\", \"title\": {\"standoff\": 15}, \"zerolinecolor\": \"white\", \"zerolinewidth\": 2}}}, \"title\": {\"text\": \"Valores de custo para cada mudan\\u00e7a na probabilidade de atingir a meta\"}, \"xaxis\": {\"title\": {\"text\": \"Probabilidade (p')\"}}, \"yaxis\": {\"title\": {\"text\": \"Custo (c')\"}}},                        {\"responsive\": true}                    ).then(function(){\n",
       "                            \n",
       "var gd = document.getElementById('917f8ca3-94e0-451a-96a3-de7364bf1257');\n",
       "var x = new MutationObserver(function (mutations, observer) {{\n",
       "        var display = window.getComputedStyle(gd).display;\n",
       "        if (!display || display === 'none') {{\n",
       "            console.log([gd, 'removed!']);\n",
       "            Plotly.purge(gd);\n",
       "            observer.disconnect();\n",
       "        }}\n",
       "}});\n",
       "\n",
       "// Listen for the removal of the full notebook cells\n",
       "var notebookContainer = gd.closest('#notebook-container');\n",
       "if (notebookContainer) {{\n",
       "    x.observe(notebookContainer, {childList: true});\n",
       "}}\n",
       "\n",
       "// Listen for the clearing of the current output cell\n",
       "var outputEl = gd.closest('.output');\n",
       "if (outputEl) {{\n",
       "    x.observe(outputEl, {childList: true});\n",
       "}}\n",
       "\n",
       "                        })                };                });            </script>        </div>"
      ]
     },
     "metadata": {},
     "output_type": "display_data"
    },
    {
     "data": {
      "application/vnd.plotly.v1+json": {
       "config": {
        "plotlyServerURL": "https://plot.ly"
       },
       "data": [
        {
         "line": {
          "color": "red"
         },
         "mode": "lines",
         "name": "MIN",
         "type": "scatter",
         "x": [
          0.05,
          0.1,
          0.15,
          0.2,
          0.25,
          0.3,
          0.35,
          0.4,
          0.45,
          0.5,
          0.55,
          0.6,
          0.65,
          0.7,
          0.75,
          0.8,
          0.85,
          0.9,
          0.95
         ],
         "y": [
          0.06661781986409915,
          0.13773823654018388,
          0.21401430246034692,
          0.29625233408294127,
          0.3854639723252561,
          0.48294241625219464,
          0.5903776909801596,
          0.7100376989232202,
          0.8450659792076795,
          0.9999999999999991,
          1.0626515508534018,
          1.1217826959637844,
          1.1777681009284298,
          1.230925629554433,
          1.281527275659983,
          1.3298075853076972,
          1.375970230560889,
          1.4201932011953577,
          1.4626329490105987
         ]
        },
        {
         "fill": "tonexty",
         "line": {
          "color": "green"
         },
         "mode": "lines",
         "name": "MAX",
         "type": "scatter",
         "x": [
          0.05,
          0.1,
          0.15,
          0.2,
          0.25,
          0.3,
          0.35,
          0.4,
          0.45,
          0.5,
          0.55,
          0.6,
          0.65,
          0.7,
          0.75,
          0.8,
          0.85,
          0.9,
          0.95
         ],
         "y": [
          0.15493402079232038,
          0.2899623010767797,
          0.40962230901984037,
          0.5170575837478053,
          0.6145360276747438,
          0.7037476659170588,
          0.7859856975396531,
          0.8622617634598161,
          0.933382180135901,
          1.0000000000000004,
          1.181740633226663,
          1.4015455237271277,
          1.679700883930922,
          2.0588398215298462,
          2.657195184754253,
          4.183855434139432,
          4.266637254002895,
          5.917372075480651,
          4.478166775079047
         ]
        }
       ],
       "layout": {
        "template": {
         "data": {
          "bar": [
           {
            "error_x": {
             "color": "#2a3f5f"
            },
            "error_y": {
             "color": "#2a3f5f"
            },
            "marker": {
             "line": {
              "color": "#E5ECF6",
              "width": 0.5
             }
            },
            "type": "bar"
           }
          ],
          "barpolar": [
           {
            "marker": {
             "line": {
              "color": "#E5ECF6",
              "width": 0.5
             }
            },
            "type": "barpolar"
           }
          ],
          "carpet": [
           {
            "aaxis": {
             "endlinecolor": "#2a3f5f",
             "gridcolor": "white",
             "linecolor": "white",
             "minorgridcolor": "white",
             "startlinecolor": "#2a3f5f"
            },
            "baxis": {
             "endlinecolor": "#2a3f5f",
             "gridcolor": "white",
             "linecolor": "white",
             "minorgridcolor": "white",
             "startlinecolor": "#2a3f5f"
            },
            "type": "carpet"
           }
          ],
          "choropleth": [
           {
            "colorbar": {
             "outlinewidth": 0,
             "ticks": ""
            },
            "type": "choropleth"
           }
          ],
          "contour": [
           {
            "colorbar": {
             "outlinewidth": 0,
             "ticks": ""
            },
            "colorscale": [
             [
              0,
              "#0d0887"
             ],
             [
              0.1111111111111111,
              "#46039f"
             ],
             [
              0.2222222222222222,
              "#7201a8"
             ],
             [
              0.3333333333333333,
              "#9c179e"
             ],
             [
              0.4444444444444444,
              "#bd3786"
             ],
             [
              0.5555555555555556,
              "#d8576b"
             ],
             [
              0.6666666666666666,
              "#ed7953"
             ],
             [
              0.7777777777777778,
              "#fb9f3a"
             ],
             [
              0.8888888888888888,
              "#fdca26"
             ],
             [
              1,
              "#f0f921"
             ]
            ],
            "type": "contour"
           }
          ],
          "contourcarpet": [
           {
            "colorbar": {
             "outlinewidth": 0,
             "ticks": ""
            },
            "type": "contourcarpet"
           }
          ],
          "heatmap": [
           {
            "colorbar": {
             "outlinewidth": 0,
             "ticks": ""
            },
            "colorscale": [
             [
              0,
              "#0d0887"
             ],
             [
              0.1111111111111111,
              "#46039f"
             ],
             [
              0.2222222222222222,
              "#7201a8"
             ],
             [
              0.3333333333333333,
              "#9c179e"
             ],
             [
              0.4444444444444444,
              "#bd3786"
             ],
             [
              0.5555555555555556,
              "#d8576b"
             ],
             [
              0.6666666666666666,
              "#ed7953"
             ],
             [
              0.7777777777777778,
              "#fb9f3a"
             ],
             [
              0.8888888888888888,
              "#fdca26"
             ],
             [
              1,
              "#f0f921"
             ]
            ],
            "type": "heatmap"
           }
          ],
          "heatmapgl": [
           {
            "colorbar": {
             "outlinewidth": 0,
             "ticks": ""
            },
            "colorscale": [
             [
              0,
              "#0d0887"
             ],
             [
              0.1111111111111111,
              "#46039f"
             ],
             [
              0.2222222222222222,
              "#7201a8"
             ],
             [
              0.3333333333333333,
              "#9c179e"
             ],
             [
              0.4444444444444444,
              "#bd3786"
             ],
             [
              0.5555555555555556,
              "#d8576b"
             ],
             [
              0.6666666666666666,
              "#ed7953"
             ],
             [
              0.7777777777777778,
              "#fb9f3a"
             ],
             [
              0.8888888888888888,
              "#fdca26"
             ],
             [
              1,
              "#f0f921"
             ]
            ],
            "type": "heatmapgl"
           }
          ],
          "histogram": [
           {
            "marker": {
             "colorbar": {
              "outlinewidth": 0,
              "ticks": ""
             }
            },
            "type": "histogram"
           }
          ],
          "histogram2d": [
           {
            "colorbar": {
             "outlinewidth": 0,
             "ticks": ""
            },
            "colorscale": [
             [
              0,
              "#0d0887"
             ],
             [
              0.1111111111111111,
              "#46039f"
             ],
             [
              0.2222222222222222,
              "#7201a8"
             ],
             [
              0.3333333333333333,
              "#9c179e"
             ],
             [
              0.4444444444444444,
              "#bd3786"
             ],
             [
              0.5555555555555556,
              "#d8576b"
             ],
             [
              0.6666666666666666,
              "#ed7953"
             ],
             [
              0.7777777777777778,
              "#fb9f3a"
             ],
             [
              0.8888888888888888,
              "#fdca26"
             ],
             [
              1,
              "#f0f921"
             ]
            ],
            "type": "histogram2d"
           }
          ],
          "histogram2dcontour": [
           {
            "colorbar": {
             "outlinewidth": 0,
             "ticks": ""
            },
            "colorscale": [
             [
              0,
              "#0d0887"
             ],
             [
              0.1111111111111111,
              "#46039f"
             ],
             [
              0.2222222222222222,
              "#7201a8"
             ],
             [
              0.3333333333333333,
              "#9c179e"
             ],
             [
              0.4444444444444444,
              "#bd3786"
             ],
             [
              0.5555555555555556,
              "#d8576b"
             ],
             [
              0.6666666666666666,
              "#ed7953"
             ],
             [
              0.7777777777777778,
              "#fb9f3a"
             ],
             [
              0.8888888888888888,
              "#fdca26"
             ],
             [
              1,
              "#f0f921"
             ]
            ],
            "type": "histogram2dcontour"
           }
          ],
          "mesh3d": [
           {
            "colorbar": {
             "outlinewidth": 0,
             "ticks": ""
            },
            "type": "mesh3d"
           }
          ],
          "parcoords": [
           {
            "line": {
             "colorbar": {
              "outlinewidth": 0,
              "ticks": ""
             }
            },
            "type": "parcoords"
           }
          ],
          "pie": [
           {
            "automargin": true,
            "type": "pie"
           }
          ],
          "scatter": [
           {
            "marker": {
             "colorbar": {
              "outlinewidth": 0,
              "ticks": ""
             }
            },
            "type": "scatter"
           }
          ],
          "scatter3d": [
           {
            "line": {
             "colorbar": {
              "outlinewidth": 0,
              "ticks": ""
             }
            },
            "marker": {
             "colorbar": {
              "outlinewidth": 0,
              "ticks": ""
             }
            },
            "type": "scatter3d"
           }
          ],
          "scattercarpet": [
           {
            "marker": {
             "colorbar": {
              "outlinewidth": 0,
              "ticks": ""
             }
            },
            "type": "scattercarpet"
           }
          ],
          "scattergeo": [
           {
            "marker": {
             "colorbar": {
              "outlinewidth": 0,
              "ticks": ""
             }
            },
            "type": "scattergeo"
           }
          ],
          "scattergl": [
           {
            "marker": {
             "colorbar": {
              "outlinewidth": 0,
              "ticks": ""
             }
            },
            "type": "scattergl"
           }
          ],
          "scattermapbox": [
           {
            "marker": {
             "colorbar": {
              "outlinewidth": 0,
              "ticks": ""
             }
            },
            "type": "scattermapbox"
           }
          ],
          "scatterpolar": [
           {
            "marker": {
             "colorbar": {
              "outlinewidth": 0,
              "ticks": ""
             }
            },
            "type": "scatterpolar"
           }
          ],
          "scatterpolargl": [
           {
            "marker": {
             "colorbar": {
              "outlinewidth": 0,
              "ticks": ""
             }
            },
            "type": "scatterpolargl"
           }
          ],
          "scatterternary": [
           {
            "marker": {
             "colorbar": {
              "outlinewidth": 0,
              "ticks": ""
             }
            },
            "type": "scatterternary"
           }
          ],
          "surface": [
           {
            "colorbar": {
             "outlinewidth": 0,
             "ticks": ""
            },
            "colorscale": [
             [
              0,
              "#0d0887"
             ],
             [
              0.1111111111111111,
              "#46039f"
             ],
             [
              0.2222222222222222,
              "#7201a8"
             ],
             [
              0.3333333333333333,
              "#9c179e"
             ],
             [
              0.4444444444444444,
              "#bd3786"
             ],
             [
              0.5555555555555556,
              "#d8576b"
             ],
             [
              0.6666666666666666,
              "#ed7953"
             ],
             [
              0.7777777777777778,
              "#fb9f3a"
             ],
             [
              0.8888888888888888,
              "#fdca26"
             ],
             [
              1,
              "#f0f921"
             ]
            ],
            "type": "surface"
           }
          ],
          "table": [
           {
            "cells": {
             "fill": {
              "color": "#EBF0F8"
             },
             "line": {
              "color": "white"
             }
            },
            "header": {
             "fill": {
              "color": "#C8D4E3"
             },
             "line": {
              "color": "white"
             }
            },
            "type": "table"
           }
          ]
         },
         "layout": {
          "annotationdefaults": {
           "arrowcolor": "#2a3f5f",
           "arrowhead": 0,
           "arrowwidth": 1
          },
          "autotypenumbers": "strict",
          "coloraxis": {
           "colorbar": {
            "outlinewidth": 0,
            "ticks": ""
           }
          },
          "colorscale": {
           "diverging": [
            [
             0,
             "#8e0152"
            ],
            [
             0.1,
             "#c51b7d"
            ],
            [
             0.2,
             "#de77ae"
            ],
            [
             0.3,
             "#f1b6da"
            ],
            [
             0.4,
             "#fde0ef"
            ],
            [
             0.5,
             "#f7f7f7"
            ],
            [
             0.6,
             "#e6f5d0"
            ],
            [
             0.7,
             "#b8e186"
            ],
            [
             0.8,
             "#7fbc41"
            ],
            [
             0.9,
             "#4d9221"
            ],
            [
             1,
             "#276419"
            ]
           ],
           "sequential": [
            [
             0,
             "#0d0887"
            ],
            [
             0.1111111111111111,
             "#46039f"
            ],
            [
             0.2222222222222222,
             "#7201a8"
            ],
            [
             0.3333333333333333,
             "#9c179e"
            ],
            [
             0.4444444444444444,
             "#bd3786"
            ],
            [
             0.5555555555555556,
             "#d8576b"
            ],
            [
             0.6666666666666666,
             "#ed7953"
            ],
            [
             0.7777777777777778,
             "#fb9f3a"
            ],
            [
             0.8888888888888888,
             "#fdca26"
            ],
            [
             1,
             "#f0f921"
            ]
           ],
           "sequentialminus": [
            [
             0,
             "#0d0887"
            ],
            [
             0.1111111111111111,
             "#46039f"
            ],
            [
             0.2222222222222222,
             "#7201a8"
            ],
            [
             0.3333333333333333,
             "#9c179e"
            ],
            [
             0.4444444444444444,
             "#bd3786"
            ],
            [
             0.5555555555555556,
             "#d8576b"
            ],
            [
             0.6666666666666666,
             "#ed7953"
            ],
            [
             0.7777777777777778,
             "#fb9f3a"
            ],
            [
             0.8888888888888888,
             "#fdca26"
            ],
            [
             1,
             "#f0f921"
            ]
           ]
          },
          "colorway": [
           "#636efa",
           "#EF553B",
           "#00cc96",
           "#ab63fa",
           "#FFA15A",
           "#19d3f3",
           "#FF6692",
           "#B6E880",
           "#FF97FF",
           "#FECB52"
          ],
          "font": {
           "color": "#2a3f5f"
          },
          "geo": {
           "bgcolor": "white",
           "lakecolor": "white",
           "landcolor": "#E5ECF6",
           "showlakes": true,
           "showland": true,
           "subunitcolor": "white"
          },
          "hoverlabel": {
           "align": "left"
          },
          "hovermode": "closest",
          "mapbox": {
           "style": "light"
          },
          "paper_bgcolor": "white",
          "plot_bgcolor": "#E5ECF6",
          "polar": {
           "angularaxis": {
            "gridcolor": "white",
            "linecolor": "white",
            "ticks": ""
           },
           "bgcolor": "#E5ECF6",
           "radialaxis": {
            "gridcolor": "white",
            "linecolor": "white",
            "ticks": ""
           }
          },
          "scene": {
           "xaxis": {
            "backgroundcolor": "#E5ECF6",
            "gridcolor": "white",
            "gridwidth": 2,
            "linecolor": "white",
            "showbackground": true,
            "ticks": "",
            "zerolinecolor": "white"
           },
           "yaxis": {
            "backgroundcolor": "#E5ECF6",
            "gridcolor": "white",
            "gridwidth": 2,
            "linecolor": "white",
            "showbackground": true,
            "ticks": "",
            "zerolinecolor": "white"
           },
           "zaxis": {
            "backgroundcolor": "#E5ECF6",
            "gridcolor": "white",
            "gridwidth": 2,
            "linecolor": "white",
            "showbackground": true,
            "ticks": "",
            "zerolinecolor": "white"
           }
          },
          "shapedefaults": {
           "line": {
            "color": "#2a3f5f"
           }
          },
          "ternary": {
           "aaxis": {
            "gridcolor": "white",
            "linecolor": "white",
            "ticks": ""
           },
           "baxis": {
            "gridcolor": "white",
            "linecolor": "white",
            "ticks": ""
           },
           "bgcolor": "#E5ECF6",
           "caxis": {
            "gridcolor": "white",
            "linecolor": "white",
            "ticks": ""
           }
          },
          "title": {
           "x": 0.05
          },
          "xaxis": {
           "automargin": true,
           "gridcolor": "white",
           "linecolor": "white",
           "ticks": "",
           "title": {
            "standoff": 15
           },
           "zerolinecolor": "white",
           "zerolinewidth": 2
          },
          "yaxis": {
           "automargin": true,
           "gridcolor": "white",
           "linecolor": "white",
           "ticks": "",
           "title": {
            "standoff": 15
           },
           "zerolinecolor": "white",
           "zerolinewidth": 2
          }
         }
        },
        "title": {
         "text": "Valores de custo para cada mudança na probabilidade de atingir a meta"
        },
        "xaxis": {
         "title": {
          "text": "Probabilidade (p')"
         }
        },
        "yaxis": {
         "title": {
          "text": "Custo (c')"
         }
        }
       }
      },
      "text/html": [
       "<div>                            <div id=\"a64ccf40-9b18-4849-84df-154e18043f62\" class=\"plotly-graph-div\" style=\"height:525px; width:100%;\"></div>            <script type=\"text/javascript\">                require([\"plotly\"], function(Plotly) {                    window.PLOTLYENV=window.PLOTLYENV || {};                                    if (document.getElementById(\"a64ccf40-9b18-4849-84df-154e18043f62\")) {                    Plotly.newPlot(                        \"a64ccf40-9b18-4849-84df-154e18043f62\",                        [{\"line\": {\"color\": \"red\"}, \"mode\": \"lines\", \"name\": \"MIN\", \"type\": \"scatter\", \"x\": [0.05, 0.1, 0.15, 0.2, 0.25, 0.3, 0.35, 0.4, 0.45, 0.5, 0.55, 0.6, 0.65, 0.7, 0.75, 0.8, 0.85, 0.9, 0.95], \"y\": [0.06661781986409915, 0.13773823654018388, 0.21401430246034692, 0.29625233408294127, 0.3854639723252561, 0.48294241625219464, 0.5903776909801596, 0.7100376989232202, 0.8450659792076795, 0.9999999999999991, 1.0626515508534018, 1.1217826959637844, 1.1777681009284298, 1.230925629554433, 1.281527275659983, 1.3298075853076972, 1.375970230560889, 1.4201932011953577, 1.4626329490105987]}, {\"fill\": \"tonexty\", \"line\": {\"color\": \"green\"}, \"mode\": \"lines\", \"name\": \"MAX\", \"type\": \"scatter\", \"x\": [0.05, 0.1, 0.15, 0.2, 0.25, 0.3, 0.35, 0.4, 0.45, 0.5, 0.55, 0.6, 0.65, 0.7, 0.75, 0.8, 0.85, 0.9, 0.95], \"y\": [0.15493402079232038, 0.2899623010767797, 0.40962230901984037, 0.5170575837478053, 0.6145360276747438, 0.7037476659170588, 0.7859856975396531, 0.8622617634598161, 0.933382180135901, 1.0000000000000004, 1.181740633226663, 1.4015455237271277, 1.679700883930922, 2.0588398215298462, 2.657195184754253, 4.183855434139432, 4.266637254002895, 5.917372075480651, 4.478166775079047]}],                        {\"template\": {\"data\": {\"bar\": [{\"error_x\": {\"color\": \"#2a3f5f\"}, \"error_y\": {\"color\": \"#2a3f5f\"}, \"marker\": {\"line\": {\"color\": \"#E5ECF6\", \"width\": 0.5}}, \"type\": \"bar\"}], \"barpolar\": [{\"marker\": {\"line\": {\"color\": \"#E5ECF6\", \"width\": 0.5}}, \"type\": \"barpolar\"}], \"carpet\": [{\"aaxis\": {\"endlinecolor\": \"#2a3f5f\", \"gridcolor\": \"white\", \"linecolor\": \"white\", \"minorgridcolor\": \"white\", \"startlinecolor\": \"#2a3f5f\"}, \"baxis\": {\"endlinecolor\": \"#2a3f5f\", \"gridcolor\": \"white\", \"linecolor\": \"white\", \"minorgridcolor\": \"white\", \"startlinecolor\": \"#2a3f5f\"}, \"type\": \"carpet\"}], \"choropleth\": [{\"colorbar\": {\"outlinewidth\": 0, \"ticks\": \"\"}, \"type\": \"choropleth\"}], \"contour\": [{\"colorbar\": {\"outlinewidth\": 0, \"ticks\": \"\"}, \"colorscale\": [[0.0, \"#0d0887\"], [0.1111111111111111, \"#46039f\"], [0.2222222222222222, \"#7201a8\"], [0.3333333333333333, \"#9c179e\"], [0.4444444444444444, \"#bd3786\"], [0.5555555555555556, \"#d8576b\"], [0.6666666666666666, \"#ed7953\"], [0.7777777777777778, \"#fb9f3a\"], [0.8888888888888888, \"#fdca26\"], [1.0, \"#f0f921\"]], \"type\": \"contour\"}], \"contourcarpet\": [{\"colorbar\": {\"outlinewidth\": 0, \"ticks\": \"\"}, \"type\": \"contourcarpet\"}], \"heatmap\": [{\"colorbar\": {\"outlinewidth\": 0, \"ticks\": \"\"}, \"colorscale\": [[0.0, \"#0d0887\"], [0.1111111111111111, \"#46039f\"], [0.2222222222222222, \"#7201a8\"], [0.3333333333333333, \"#9c179e\"], [0.4444444444444444, \"#bd3786\"], [0.5555555555555556, \"#d8576b\"], [0.6666666666666666, \"#ed7953\"], [0.7777777777777778, \"#fb9f3a\"], [0.8888888888888888, \"#fdca26\"], [1.0, \"#f0f921\"]], \"type\": \"heatmap\"}], \"heatmapgl\": [{\"colorbar\": {\"outlinewidth\": 0, \"ticks\": \"\"}, \"colorscale\": [[0.0, \"#0d0887\"], [0.1111111111111111, \"#46039f\"], [0.2222222222222222, \"#7201a8\"], [0.3333333333333333, \"#9c179e\"], [0.4444444444444444, \"#bd3786\"], [0.5555555555555556, \"#d8576b\"], [0.6666666666666666, \"#ed7953\"], [0.7777777777777778, \"#fb9f3a\"], [0.8888888888888888, \"#fdca26\"], [1.0, \"#f0f921\"]], \"type\": \"heatmapgl\"}], \"histogram\": [{\"marker\": {\"colorbar\": {\"outlinewidth\": 0, \"ticks\": \"\"}}, \"type\": \"histogram\"}], \"histogram2d\": [{\"colorbar\": {\"outlinewidth\": 0, \"ticks\": \"\"}, \"colorscale\": [[0.0, \"#0d0887\"], [0.1111111111111111, \"#46039f\"], [0.2222222222222222, \"#7201a8\"], [0.3333333333333333, \"#9c179e\"], [0.4444444444444444, \"#bd3786\"], [0.5555555555555556, \"#d8576b\"], [0.6666666666666666, \"#ed7953\"], [0.7777777777777778, \"#fb9f3a\"], [0.8888888888888888, \"#fdca26\"], [1.0, \"#f0f921\"]], \"type\": \"histogram2d\"}], \"histogram2dcontour\": [{\"colorbar\": {\"outlinewidth\": 0, \"ticks\": \"\"}, \"colorscale\": [[0.0, \"#0d0887\"], [0.1111111111111111, \"#46039f\"], [0.2222222222222222, \"#7201a8\"], [0.3333333333333333, \"#9c179e\"], [0.4444444444444444, \"#bd3786\"], [0.5555555555555556, \"#d8576b\"], [0.6666666666666666, \"#ed7953\"], [0.7777777777777778, \"#fb9f3a\"], [0.8888888888888888, \"#fdca26\"], [1.0, \"#f0f921\"]], \"type\": \"histogram2dcontour\"}], \"mesh3d\": [{\"colorbar\": {\"outlinewidth\": 0, \"ticks\": \"\"}, \"type\": \"mesh3d\"}], \"parcoords\": [{\"line\": {\"colorbar\": {\"outlinewidth\": 0, \"ticks\": \"\"}}, \"type\": \"parcoords\"}], \"pie\": [{\"automargin\": true, \"type\": \"pie\"}], \"scatter\": [{\"marker\": {\"colorbar\": {\"outlinewidth\": 0, \"ticks\": \"\"}}, \"type\": \"scatter\"}], \"scatter3d\": [{\"line\": {\"colorbar\": {\"outlinewidth\": 0, \"ticks\": \"\"}}, \"marker\": {\"colorbar\": {\"outlinewidth\": 0, \"ticks\": \"\"}}, \"type\": \"scatter3d\"}], \"scattercarpet\": [{\"marker\": {\"colorbar\": {\"outlinewidth\": 0, \"ticks\": \"\"}}, \"type\": \"scattercarpet\"}], \"scattergeo\": [{\"marker\": {\"colorbar\": {\"outlinewidth\": 0, \"ticks\": \"\"}}, \"type\": \"scattergeo\"}], \"scattergl\": [{\"marker\": {\"colorbar\": {\"outlinewidth\": 0, \"ticks\": \"\"}}, \"type\": \"scattergl\"}], \"scattermapbox\": [{\"marker\": {\"colorbar\": {\"outlinewidth\": 0, \"ticks\": \"\"}}, \"type\": \"scattermapbox\"}], \"scatterpolar\": [{\"marker\": {\"colorbar\": {\"outlinewidth\": 0, \"ticks\": \"\"}}, \"type\": \"scatterpolar\"}], \"scatterpolargl\": [{\"marker\": {\"colorbar\": {\"outlinewidth\": 0, \"ticks\": \"\"}}, \"type\": \"scatterpolargl\"}], \"scatterternary\": [{\"marker\": {\"colorbar\": {\"outlinewidth\": 0, \"ticks\": \"\"}}, \"type\": \"scatterternary\"}], \"surface\": [{\"colorbar\": {\"outlinewidth\": 0, \"ticks\": \"\"}, \"colorscale\": [[0.0, \"#0d0887\"], [0.1111111111111111, \"#46039f\"], [0.2222222222222222, \"#7201a8\"], [0.3333333333333333, \"#9c179e\"], [0.4444444444444444, \"#bd3786\"], [0.5555555555555556, \"#d8576b\"], [0.6666666666666666, \"#ed7953\"], [0.7777777777777778, \"#fb9f3a\"], [0.8888888888888888, \"#fdca26\"], [1.0, \"#f0f921\"]], \"type\": \"surface\"}], \"table\": [{\"cells\": {\"fill\": {\"color\": \"#EBF0F8\"}, \"line\": {\"color\": \"white\"}}, \"header\": {\"fill\": {\"color\": \"#C8D4E3\"}, \"line\": {\"color\": \"white\"}}, \"type\": \"table\"}]}, \"layout\": {\"annotationdefaults\": {\"arrowcolor\": \"#2a3f5f\", \"arrowhead\": 0, \"arrowwidth\": 1}, \"autotypenumbers\": \"strict\", \"coloraxis\": {\"colorbar\": {\"outlinewidth\": 0, \"ticks\": \"\"}}, \"colorscale\": {\"diverging\": [[0, \"#8e0152\"], [0.1, \"#c51b7d\"], [0.2, \"#de77ae\"], [0.3, \"#f1b6da\"], [0.4, \"#fde0ef\"], [0.5, \"#f7f7f7\"], [0.6, \"#e6f5d0\"], [0.7, \"#b8e186\"], [0.8, \"#7fbc41\"], [0.9, \"#4d9221\"], [1, \"#276419\"]], \"sequential\": [[0.0, \"#0d0887\"], [0.1111111111111111, \"#46039f\"], [0.2222222222222222, \"#7201a8\"], [0.3333333333333333, \"#9c179e\"], [0.4444444444444444, \"#bd3786\"], [0.5555555555555556, \"#d8576b\"], [0.6666666666666666, \"#ed7953\"], [0.7777777777777778, \"#fb9f3a\"], [0.8888888888888888, \"#fdca26\"], [1.0, \"#f0f921\"]], \"sequentialminus\": [[0.0, \"#0d0887\"], [0.1111111111111111, \"#46039f\"], [0.2222222222222222, \"#7201a8\"], [0.3333333333333333, \"#9c179e\"], [0.4444444444444444, \"#bd3786\"], [0.5555555555555556, \"#d8576b\"], [0.6666666666666666, \"#ed7953\"], [0.7777777777777778, \"#fb9f3a\"], [0.8888888888888888, \"#fdca26\"], [1.0, \"#f0f921\"]]}, \"colorway\": [\"#636efa\", \"#EF553B\", \"#00cc96\", \"#ab63fa\", \"#FFA15A\", \"#19d3f3\", \"#FF6692\", \"#B6E880\", \"#FF97FF\", \"#FECB52\"], \"font\": {\"color\": \"#2a3f5f\"}, \"geo\": {\"bgcolor\": \"white\", \"lakecolor\": \"white\", \"landcolor\": \"#E5ECF6\", \"showlakes\": true, \"showland\": true, \"subunitcolor\": \"white\"}, \"hoverlabel\": {\"align\": \"left\"}, \"hovermode\": \"closest\", \"mapbox\": {\"style\": \"light\"}, \"paper_bgcolor\": \"white\", \"plot_bgcolor\": \"#E5ECF6\", \"polar\": {\"angularaxis\": {\"gridcolor\": \"white\", \"linecolor\": \"white\", \"ticks\": \"\"}, \"bgcolor\": \"#E5ECF6\", \"radialaxis\": {\"gridcolor\": \"white\", \"linecolor\": \"white\", \"ticks\": \"\"}}, \"scene\": {\"xaxis\": {\"backgroundcolor\": \"#E5ECF6\", \"gridcolor\": \"white\", \"gridwidth\": 2, \"linecolor\": \"white\", \"showbackground\": true, \"ticks\": \"\", \"zerolinecolor\": \"white\"}, \"yaxis\": {\"backgroundcolor\": \"#E5ECF6\", \"gridcolor\": \"white\", \"gridwidth\": 2, \"linecolor\": \"white\", \"showbackground\": true, \"ticks\": \"\", \"zerolinecolor\": \"white\"}, \"zaxis\": {\"backgroundcolor\": \"#E5ECF6\", \"gridcolor\": \"white\", \"gridwidth\": 2, \"linecolor\": \"white\", \"showbackground\": true, \"ticks\": \"\", \"zerolinecolor\": \"white\"}}, \"shapedefaults\": {\"line\": {\"color\": \"#2a3f5f\"}}, \"ternary\": {\"aaxis\": {\"gridcolor\": \"white\", \"linecolor\": \"white\", \"ticks\": \"\"}, \"baxis\": {\"gridcolor\": \"white\", \"linecolor\": \"white\", \"ticks\": \"\"}, \"bgcolor\": \"#E5ECF6\", \"caxis\": {\"gridcolor\": \"white\", \"linecolor\": \"white\", \"ticks\": \"\"}}, \"title\": {\"x\": 0.05}, \"xaxis\": {\"automargin\": true, \"gridcolor\": \"white\", \"linecolor\": \"white\", \"ticks\": \"\", \"title\": {\"standoff\": 15}, \"zerolinecolor\": \"white\", \"zerolinewidth\": 2}, \"yaxis\": {\"automargin\": true, \"gridcolor\": \"white\", \"linecolor\": \"white\", \"ticks\": \"\", \"title\": {\"standoff\": 15}, \"zerolinecolor\": \"white\", \"zerolinewidth\": 2}}}, \"title\": {\"text\": \"Valores de custo para cada mudan\\u00e7a na probabilidade de atingir a meta\"}, \"xaxis\": {\"title\": {\"text\": \"Probabilidade (p')\"}}, \"yaxis\": {\"title\": {\"text\": \"Custo (c')\"}}},                        {\"responsive\": true}                    ).then(function(){\n",
       "                            \n",
       "var gd = document.getElementById('a64ccf40-9b18-4849-84df-154e18043f62');\n",
       "var x = new MutationObserver(function (mutations, observer) {{\n",
       "        var display = window.getComputedStyle(gd).display;\n",
       "        if (!display || display === 'none') {{\n",
       "            console.log([gd, 'removed!']);\n",
       "            Plotly.purge(gd);\n",
       "            observer.disconnect();\n",
       "        }}\n",
       "}});\n",
       "\n",
       "// Listen for the removal of the full notebook cells\n",
       "var notebookContainer = gd.closest('#notebook-container');\n",
       "if (notebookContainer) {{\n",
       "    x.observe(notebookContainer, {childList: true});\n",
       "}}\n",
       "\n",
       "// Listen for the clearing of the current output cell\n",
       "var outputEl = gd.closest('.output');\n",
       "if (outputEl) {{\n",
       "    x.observe(outputEl, {childList: true});\n",
       "}}\n",
       "\n",
       "                        })                };                });            </script>        </div>"
      ]
     },
     "metadata": {},
     "output_type": "display_data"
    }
   ],
   "source": [
    "p, c, l, p_line = 0.5, 1, 0.1, 0.1\n",
    "\n",
    "c_line_exponential = get_values_c_line_exponential(p, c, l, p_line, rini_k=-0.95, rend_k=1, step_k=0.05, \n",
    "                                rini_p=0.05, rend_p=1, step_p=0.05)\n",
    "\n",
    "f1 = viz_hist_values(c_line_exponential, [v for v in drange(0.05, 1, 0.05)], False)\n",
    "\n",
    "c_exp_max, c_exp_min = get_min_max_c_lines(c_line_exponential)\n",
    "f2 = viz_expressividade(c_line_exponential, range_x, c_exp_max, c_exp_min, c1='green', c2='red')\n",
    "f3 = viz_expressividade_fill(range_x, c_exp_max, c_exp_min, c1='green', c2='red')"
   ]
  },
  {
   "cell_type": "markdown",
   "metadata": {},
   "source": [
    "##  Buscando c'\n",
    "\n",
    "Foi isolado o $c'$ a fim de obter a relação entre $p'$ e $k$ que satisfizesse a seguinte relação:\n",
    "\n",
    "$V(p, c, K, \\gamma)=V(p', c', K, \\gamma)$\n",
    "\n",
    "Então, considerando que:\n",
    "\n",
    "$$\n",
    "V(p, c, k, \\gamma) = \\frac{c \\times (2kp - k + 1)}{(\\gamma - 1) \\times (k + p - 1) + p - \\gamma kp}\n",
    "$$\n",
    "\n",
    "Teremos que:\n",
    "\n",
    "$$\n",
    "c' = \\frac{c (2kp - k + 1)}{(\\gamma - 1) \\times (k + p - 1) + p - \\gamma kp}\n",
    "\\times\n",
    "\\frac{(\\gamma - 1) \\times (k + p' - 1) + p' - \\gamma kp'}{2kp' - k + 1}\n",
    "$$\n",
    "\n",
    "Ao utilizar a função Piecewise-Linear, consideramos que $k < 0$ corresponde a uma atitude propensa ao risco, que um $k > 0$ corresponde a uma atitude aversa ao risco e $k \\rightarrow 0$ a uma atitude neutra ao risco."
   ]
  },
  {
   "cell_type": "code",
   "execution_count": 12,
   "metadata": {
    "ExecuteTime": {
     "end_time": "2023-08-24T16:01:14.157730Z",
     "start_time": "2023-08-24T16:01:14.004202Z"
    },
    "code_folding": [
     0,
     7
    ]
   },
   "outputs": [],
   "source": [
    "def c_line_k(p, c, k, p_line, gamma, alpha):\n",
    "    v1 = c * (2*k*p - k + 1) \n",
    "    v2 = (gamma - 1) * (k + p - 1) + p - gamma * k * p\n",
    "    v3 = (gamma - 1) * (k + p_line - 1) + p_line - gamma * k * p_line\n",
    "    v4 = 2 * k * p_line - k + 1\n",
    "    return v1 / v2 * v3 / v4\n",
    "\n",
    "def get_values_c_line_piecewise(p, c, l, p_line, gamma, rini_k=-0.95, rend_k=1, step_k=0.05, \n",
    "                                rini_p=0.05, rend_p=1, step_p=0.05):\n",
    "    new_c = {}\n",
    "\n",
    "    for k in [v for v in drange(rini_k, rend_k, step_k)]:\n",
    "        new_c[k] = []\n",
    "        alpha = np.round(1/(1+abs(k)), 2)\n",
    "        for p_line in [v for v in drange(rini_p, rend_p, step_p)]:\n",
    "            new_c[k].append(c_line_k(p, c, k, p_line, gamma, alpha))\n",
    "            \n",
    "    return new_c"
   ]
  },
  {
   "cell_type": "code",
   "execution_count": 13,
   "metadata": {
    "ExecuteTime": {
     "end_time": "2023-08-24T16:01:14.374766Z",
     "start_time": "2023-08-24T16:01:14.159229Z"
    },
    "scrolled": false
   },
   "outputs": [
    {
     "data": {
      "application/vnd.plotly.v1+json": {
       "config": {
        "plotlyServerURL": "https://plot.ly"
       },
       "data": [
        {
         "mode": "lines",
         "name": "-0.95",
         "type": "scatter",
         "x": [
          0.05,
          0.1,
          0.15,
          0.2,
          0.25,
          0.3,
          0.35,
          0.4,
          0.45,
          0.5,
          0.55,
          0.6,
          0.65,
          0.7,
          0.75,
          0.8,
          0.85,
          0.9,
          0.95
         ],
         "y": [
          0.05390835579514826,
          0.11363636363636366,
          0.18018018018018023,
          0.2547770700636943,
          0.3389830508474576,
          0.4347826086956523,
          0.5447470817120622,
          0.6722689075630253,
          0.8219178082191779,
          1,
          1.2154696132596683,
          1.4814814814814816,
          1.8181818181818183,
          2.2580645161290334,
          2.857142857142858,
          3.720930232558143,
          5.074626865671647,
          7.500000000000016,
          13.103448275862114
         ]
        },
        {
         "mode": "lines",
         "name": "-0.9",
         "type": "scatter",
         "x": [
          0.05,
          0.1,
          0.15,
          0.2,
          0.25,
          0.3,
          0.35,
          0.4,
          0.45,
          0.5,
          0.55,
          0.6,
          0.65,
          0.7,
          0.75,
          0.8,
          0.85,
          0.9,
          0.95
         ],
         "y": [
          0.05524861878453038,
          0.11627906976744186,
          0.18404907975460122,
          0.2597402597402597,
          0.3448275862068965,
          0.4411764705882352,
          0.5511811023622046,
          0.677966101694915,
          0.8256880733944951,
          0.9999999999999998,
          1.2087912087912085,
          1.463414634146341,
          1.780821917808219,
          2.1875,
          2.7272727272727284,
          3.4782608695652195,
          4.594594594594599,
          6.4285714285714395,
          10.000000000000028
         ]
        },
        {
         "mode": "lines",
         "name": "-0.85",
         "type": "scatter",
         "x": [
          0.05,
          0.1,
          0.15,
          0.2,
          0.25,
          0.3,
          0.35,
          0.4,
          0.45,
          0.5,
          0.55,
          0.6,
          0.65,
          0.7,
          0.75,
          0.8,
          0.85,
          0.9,
          0.95
         ],
         "y": [
          0.056657223796034,
          0.11904761904761905,
          0.1880877742946709,
          0.2649006622516557,
          0.3508771929824562,
          0.44776119402985076,
          0.5577689243027889,
          0.6837606837606838,
          0.8294930875576035,
          0.9999999999999999,
          1.2021857923497263,
          1.4457831325301203,
          1.7449664429530198,
          2.1212121212121215,
          2.6086956521739135,
          3.265306122448982,
          4.1975308641975335,
          5.625000000000009,
          8.085106382978736
         ]
        },
        {
         "mode": "lines",
         "name": "-0.8",
         "type": "scatter",
         "x": [
          0.05,
          0.1,
          0.15,
          0.2,
          0.25,
          0.3,
          0.35,
          0.4,
          0.45,
          0.5,
          0.55,
          0.6,
          0.65,
          0.7,
          0.75,
          0.8,
          0.85,
          0.9,
          0.95
         ],
         "y": [
          0.05813953488372094,
          0.12195121951219513,
          0.19230769230769235,
          0.2702702702702703,
          0.35714285714285715,
          0.4545454545454546,
          0.564516129032258,
          0.6896551724137929,
          0.8333333333333331,
          0.9999999999999998,
          1.1956521739130432,
          1.4285714285714284,
          1.7105263157894737,
          2.058823529411765,
          2.500000000000001,
          3.076923076923079,
          3.863636363636367,
          5.000000000000006,
          6.785714285714293
         ]
        },
        {
         "mode": "lines",
         "name": "-0.75",
         "type": "scatter",
         "x": [
          0.05,
          0.1,
          0.15,
          0.2,
          0.25,
          0.3,
          0.35,
          0.4,
          0.45,
          0.5,
          0.55,
          0.6,
          0.65,
          0.7,
          0.75,
          0.8,
          0.85,
          0.9,
          0.95
         ],
         "y": [
          0.059701492537313446,
          0.12500000000000003,
          0.1967213114754099,
          0.2758620689655173,
          0.36363636363636365,
          0.46153846153846156,
          0.5714285714285713,
          0.6956521739130435,
          0.8372093023255813,
          0.9999999999999999,
          1.1891891891891888,
          1.4117647058823528,
          1.6774193548387097,
          2.0000000000000004,
          2.4000000000000004,
          2.9090909090909105,
          3.578947368421055,
          4.500000000000003,
          5.846153846153853
         ]
        },
        {
         "mode": "lines",
         "name": "-0.7",
         "type": "scatter",
         "x": [
          0.05,
          0.1,
          0.15,
          0.2,
          0.25,
          0.3,
          0.35,
          0.4,
          0.45,
          0.5,
          0.55,
          0.6,
          0.65,
          0.7,
          0.75,
          0.8,
          0.85,
          0.9,
          0.95
         ],
         "y": [
          0.061349693251533756,
          0.12820512820512825,
          0.2013422818791947,
          0.2816901408450705,
          0.3703703703703704,
          0.46875000000000006,
          0.5785123966942148,
          0.7017543859649121,
          0.8411214953271027,
          0.9999999999999999,
          1.1827956989247308,
          1.3953488372093021,
          1.6455696202531649,
          1.944444444444445,
          2.3076923076923084,
          2.758620689655174,
          3.333333333333334,
          4.090909090909093,
          5.135135135135139
         ]
        },
        {
         "mode": "lines",
         "name": "-0.65",
         "type": "scatter",
         "x": [
          0.05,
          0.1,
          0.15,
          0.2,
          0.25,
          0.3,
          0.35,
          0.4,
          0.45,
          0.5,
          0.55,
          0.6,
          0.65,
          0.7,
          0.75,
          0.8,
          0.85,
          0.9,
          0.95
         ],
         "y": [
          0.06309148264984228,
          0.13157894736842107,
          0.20618556701030935,
          0.28776978417266197,
          0.3773584905660378,
          0.4761904761904763,
          0.5857740585774059,
          0.7079646017699115,
          0.8450704225352111,
          0.9999999999999999,
          1.1764705882352937,
          1.379310344827586,
          1.6149068322981366,
          1.891891891891892,
          2.222222222222222,
          2.6229508196721323,
          3.119266055045873,
          3.7500000000000013,
          4.578313253012052
         ]
        },
        {
         "mode": "lines",
         "name": "-0.6",
         "type": "scatter",
         "x": [
          0.05,
          0.1,
          0.15,
          0.2,
          0.25,
          0.3,
          0.35,
          0.4,
          0.45,
          0.5,
          0.55,
          0.6,
          0.65,
          0.7,
          0.75,
          0.8,
          0.85,
          0.9,
          0.95
         ],
         "y": [
          0.06493506493506496,
          0.13513513513513517,
          0.2112676056338029,
          0.2941176470588236,
          0.3846153846153847,
          0.48387096774193555,
          0.5932203389830508,
          0.7142857142857142,
          0.8490566037735847,
          0.9999999999999998,
          1.1702127659574464,
          1.3636363636363633,
          1.5853658536585364,
          1.842105263157895,
          2.142857142857143,
          2.5000000000000004,
          2.9310344827586206,
          3.461538461538462,
          4.130434782608697
         ]
        },
        {
         "mode": "lines",
         "name": "-0.55",
         "type": "scatter",
         "x": [
          0.05,
          0.1,
          0.15,
          0.2,
          0.25,
          0.3,
          0.35,
          0.4,
          0.45,
          0.5,
          0.55,
          0.6,
          0.65,
          0.7,
          0.75,
          0.8,
          0.85,
          0.9,
          0.95
         ],
         "y": [
          0.06688963210702344,
          0.13888888888888895,
          0.21660649819494596,
          0.30075187969924827,
          0.3921568627450981,
          0.4918032786885247,
          0.6008583690987124,
          0.7207207207207207,
          0.8530805687203792,
          0.9999999999999999,
          1.1640211640211637,
          1.3483146067415728,
          1.5568862275449105,
          1.7948717948717947,
          2.0689655172413794,
          2.388059701492538,
          2.764227642276423,
          3.214285714285715,
          3.762376237623763
         ]
        },
        {
         "mode": "lines",
         "name": "-0.5",
         "type": "scatter",
         "x": [
          0.05,
          0.1,
          0.15,
          0.2,
          0.25,
          0.3,
          0.35,
          0.4,
          0.45,
          0.5,
          0.55,
          0.6,
          0.65,
          0.7,
          0.75,
          0.8,
          0.85,
          0.9,
          0.95
         ],
         "y": [
          0.06896551724137932,
          0.1428571428571429,
          0.22222222222222232,
          0.30769230769230776,
          0.4000000000000001,
          0.5000000000000001,
          0.6086956521739131,
          0.7272727272727272,
          0.8571428571428571,
          1,
          1.1578947368421049,
          1.333333333333333,
          1.5294117647058822,
          1.75,
          2.0000000000000004,
          2.2857142857142856,
          2.6153846153846154,
          3.000000000000001,
          3.4545454545454555
         ]
        },
        {
         "mode": "lines",
         "name": "-0.45",
         "type": "scatter",
         "x": [
          0.05,
          0.1,
          0.15,
          0.2,
          0.25,
          0.3,
          0.35,
          0.4,
          0.45,
          0.5,
          0.55,
          0.6,
          0.65,
          0.7,
          0.75,
          0.8,
          0.85,
          0.9,
          0.95
         ],
         "y": [
          0.07117437722419931,
          0.1470588235294118,
          0.22813688212927766,
          0.3149606299212599,
          0.4081632653061225,
          0.5084745762711863,
          0.616740088105727,
          0.7339449541284404,
          0.8612440191387559,
          0.9999999999999999,
          1.1518324607329842,
          1.3186813186813182,
          1.5028901734104045,
          1.7073170731707317,
          1.935483870967742,
          2.1917808219178085,
          2.4817518248175188,
          2.8125,
          3.19327731092437
         ]
        },
        {
         "mode": "lines",
         "name": "-0.4",
         "type": "scatter",
         "x": [
          0.05,
          0.1,
          0.15,
          0.2,
          0.25,
          0.3,
          0.35,
          0.4,
          0.45,
          0.5,
          0.55,
          0.6,
          0.65,
          0.7,
          0.75,
          0.8,
          0.85,
          0.9,
          0.95
         ],
         "y": [
          0.0735294117647059,
          0.15151515151515152,
          0.23437500000000003,
          0.32258064516129037,
          0.41666666666666674,
          0.5172413793103449,
          0.625,
          0.7407407407407406,
          0.8653846153846152,
          0.9999999999999998,
          1.1458333333333328,
          1.3043478260869563,
          1.477272727272727,
          1.6666666666666663,
          1.875,
          2.1052631578947367,
          2.3611111111111107,
          2.6470588235294117,
          2.96875
         ]
        },
        {
         "mode": "lines",
         "name": "-0.35",
         "type": "scatter",
         "x": [
          0.05,
          0.1,
          0.15,
          0.2,
          0.25,
          0.3,
          0.35,
          0.4,
          0.45,
          0.5,
          0.55,
          0.6,
          0.65,
          0.7,
          0.75,
          0.8,
          0.85,
          0.9,
          0.95
         ],
         "y": [
          0.07604562737642588,
          0.15625000000000003,
          0.24096385542168686,
          0.3305785123966943,
          0.4255319148936171,
          0.5263157894736842,
          0.6334841628959276,
          0.7476635514018692,
          0.8695652173913043,
          0.9999999999999998,
          1.1398963730569946,
          1.290322580645161,
          1.452513966480447,
          1.627906976744186,
          1.8181818181818183,
          2.0253164556962022,
          2.2516556291390732,
          2.5000000000000004,
          2.773722627737226
         ]
        },
        {
         "mode": "lines",
         "name": "-0.3",
         "type": "scatter",
         "x": [
          0.05,
          0.1,
          0.15,
          0.2,
          0.25,
          0.3,
          0.35,
          0.4,
          0.45,
          0.5,
          0.55,
          0.6,
          0.65,
          0.7,
          0.75,
          0.8,
          0.85,
          0.9,
          0.95
         ],
         "y": [
          0.078740157480315,
          0.1612903225806452,
          0.24793388429752075,
          0.3389830508474578,
          0.4347826086956522,
          0.5357142857142858,
          0.6422018348623854,
          0.7547169811320754,
          0.8737864077669902,
          0.9999999999999999,
          1.134020618556701,
          1.2765957446808511,
          1.4285714285714284,
          1.5909090909090908,
          1.7647058823529413,
          1.9512195121951224,
          2.151898734177216,
          2.3684210526315788,
          2.6027397260273974
         ]
        },
        {
         "mode": "lines",
         "name": "-0.25",
         "type": "scatter",
         "x": [
          0.05,
          0.1,
          0.15,
          0.2,
          0.25,
          0.3,
          0.35,
          0.4,
          0.45,
          0.5,
          0.55,
          0.6,
          0.65,
          0.7,
          0.75,
          0.8,
          0.85,
          0.9,
          0.95
         ],
         "y": [
          0.08163265306122452,
          0.1666666666666667,
          0.2553191489361703,
          0.3478260869565218,
          0.44444444444444453,
          0.5454545454545455,
          0.6511627906976745,
          0.7619047619047619,
          0.8780487804878049,
          1,
          1.1282051282051282,
          1.263157894736842,
          1.4054054054054055,
          1.5555555555555558,
          1.7142857142857144,
          1.8823529411764708,
          2.060606060606061,
          2.2500000000000004,
          2.451612903225807
         ]
        },
        {
         "mode": "lines",
         "name": "-0.2",
         "type": "scatter",
         "x": [
          0.05,
          0.1,
          0.15,
          0.2,
          0.25,
          0.3,
          0.35,
          0.4,
          0.45,
          0.5,
          0.55,
          0.6,
          0.65,
          0.7,
          0.75,
          0.8,
          0.85,
          0.9,
          0.95
         ],
         "y": [
          0.08474576271186442,
          0.17241379310344832,
          0.2631578947368422,
          0.35714285714285715,
          0.4545454545454546,
          0.5555555555555555,
          0.6603773584905661,
          0.769230769230769,
          0.8823529411764703,
          0.9999999999999998,
          1.1224489795918362,
          1.2499999999999996,
          1.382978723404255,
          1.5217391304347823,
          1.6666666666666667,
          1.8181818181818183,
          1.9767441860465118,
          2.1428571428571432,
          2.3170731707317076
         ]
        },
        {
         "mode": "lines",
         "name": "-0.15",
         "type": "scatter",
         "x": [
          0.05,
          0.1,
          0.15,
          0.2,
          0.25,
          0.3,
          0.35,
          0.4,
          0.45,
          0.5,
          0.55,
          0.6,
          0.65,
          0.7,
          0.75,
          0.8,
          0.85,
          0.9,
          0.95
         ],
         "y": [
          0.08810572687224671,
          0.17857142857142863,
          0.27149321266968335,
          0.36697247706422026,
          0.46511627906976755,
          0.5660377358490567,
          0.6698564593301436,
          0.7766990291262135,
          0.8866995073891626,
          0.9999999999999998,
          1.1167512690355328,
          1.2371134020618555,
          1.3612565445026177,
          1.4893617021276593,
          1.6216216216216215,
          1.7582417582417582,
          1.8994413407821227,
          2.0454545454545454,
          2.1965317919075145
         ]
        },
        {
         "mode": "lines",
         "name": "-0.1",
         "type": "scatter",
         "x": [
          0.05,
          0.1,
          0.15,
          0.2,
          0.25,
          0.3,
          0.35,
          0.4,
          0.45,
          0.5,
          0.55,
          0.6,
          0.65,
          0.7,
          0.75,
          0.8,
          0.85,
          0.9,
          0.95
         ],
         "y": [
          0.09174311926605508,
          0.18518518518518523,
          0.280373831775701,
          0.3773584905660378,
          0.4761904761904763,
          0.576923076923077,
          0.6796116504854369,
          0.784313725490196,
          0.8910891089108911,
          1,
          1.111111111111111,
          1.2244897959183672,
          1.3402061855670104,
          1.4583333333333333,
          1.5789473684210527,
          1.702127659574468,
          1.827956989247312,
          1.956521739130435,
          2.087912087912088
         ]
        },
        {
         "mode": "lines",
         "name": "-0.05",
         "type": "scatter",
         "x": [
          0.05,
          0.1,
          0.15,
          0.2,
          0.25,
          0.3,
          0.35,
          0.4,
          0.45,
          0.5,
          0.55,
          0.6,
          0.65,
          0.7,
          0.75,
          0.8,
          0.85,
          0.9,
          0.95
         ],
         "y": [
          0.09569377990430625,
          0.19230769230769235,
          0.2898550724637683,
          0.3883495145631069,
          0.48780487804878053,
          0.5882352941176473,
          0.6896551724137933,
          0.792079207920792,
          0.8955223880597016,
          1,
          1.105527638190955,
          1.2121212121212122,
          1.3197969543147208,
          1.4285714285714288,
          1.5384615384615388,
          1.6494845360824741,
          1.7616580310880832,
          1.8750000000000004,
          1.9895287958115186
         ]
        },
        {
         "mode": "lines",
         "name": "0.0",
         "type": "scatter",
         "x": [
          0.05,
          0.1,
          0.15,
          0.2,
          0.25,
          0.3,
          0.35,
          0.4,
          0.45,
          0.5,
          0.55,
          0.6,
          0.65,
          0.7,
          0.75,
          0.8,
          0.85,
          0.9,
          0.95
         ],
         "y": [
          0.10000000000000005,
          0.2000000000000001,
          0.3000000000000001,
          0.4000000000000002,
          0.5000000000000001,
          0.6000000000000001,
          0.7000000000000002,
          0.8000000000000002,
          0.9,
          1,
          1.0999999999999999,
          1.2,
          1.3000000000000003,
          1.4000000000000001,
          1.5,
          1.6,
          1.7000000000000002,
          1.8000000000000003,
          1.9000000000000004
         ]
        },
        {
         "mode": "lines",
         "name": "0.05",
         "type": "scatter",
         "x": [
          0.05,
          0.1,
          0.15,
          0.2,
          0.25,
          0.3,
          0.35,
          0.4,
          0.45,
          0.5,
          0.55,
          0.6,
          0.65,
          0.7,
          0.75,
          0.8,
          0.85,
          0.9,
          0.95
         ],
         "y": [
          0.1047120418848168,
          0.2083333333333334,
          0.31088082901554415,
          0.4123711340206187,
          0.5128205128205129,
          0.6122448979591838,
          0.7106598984771574,
          0.8080808080808081,
          0.9045226130653266,
          1,
          1.0945273631840793,
          1.1881188118811883,
          1.2807881773399015,
          1.3725490196078431,
          1.4634146341463417,
          1.5533980582524272,
          1.6425120772946862,
          1.730769230769231,
          1.8181818181818181
         ]
        },
        {
         "mode": "lines",
         "name": "0.1",
         "type": "scatter",
         "x": [
          0.05,
          0.1,
          0.15,
          0.2,
          0.25,
          0.3,
          0.35,
          0.4,
          0.45,
          0.5,
          0.55,
          0.6,
          0.65,
          0.7,
          0.75,
          0.8,
          0.85,
          0.9,
          0.95
         ],
         "y": [
          0.10989010989010993,
          0.21739130434782616,
          0.32258064516129054,
          0.42553191489361714,
          0.5263157894736843,
          0.6250000000000002,
          0.7216494845360826,
          0.8163265306122448,
          0.9090909090909091,
          1,
          1.0891089108910892,
          1.1764705882352944,
          1.2621359223300974,
          1.3461538461538465,
          1.4285714285714284,
          1.5094339622641508,
          1.5887850467289721,
          1.666666666666667,
          1.743119266055046
         ]
        },
        {
         "mode": "lines",
         "name": "0.15",
         "type": "scatter",
         "x": [
          0.05,
          0.1,
          0.15,
          0.2,
          0.25,
          0.3,
          0.35,
          0.4,
          0.45,
          0.5,
          0.55,
          0.6,
          0.65,
          0.7,
          0.75,
          0.8,
          0.85,
          0.9,
          0.95
         ],
         "y": [
          0.11560693641618501,
          0.22727272727272735,
          0.33519553072625713,
          0.43956043956043966,
          0.5405405405405407,
          0.6382978723404256,
          0.7329842931937174,
          0.8247422680412372,
          0.9137055837563453,
          1,
          1.0837438423645318,
          1.1650485436893203,
          1.2440191387559807,
          1.3207547169811324,
          1.3953488372093024,
          1.4678899082568806,
          1.5384615384615385,
          1.6071428571428572,
          1.6740088105726871
         ]
        },
        {
         "mode": "lines",
         "name": "0.2",
         "type": "scatter",
         "x": [
          0.05,
          0.1,
          0.15,
          0.2,
          0.25,
          0.3,
          0.35,
          0.4,
          0.45,
          0.5,
          0.55,
          0.6,
          0.65,
          0.7,
          0.75,
          0.8,
          0.85,
          0.9,
          0.95
         ],
         "y": [
          0.12195121951219519,
          0.23809523809523822,
          0.3488372093023258,
          0.45454545454545475,
          0.5555555555555557,
          0.6521739130434784,
          0.7446808510638299,
          0.8333333333333334,
          0.9183673469387755,
          1,
          1.0784313725490196,
          1.1538461538461537,
          1.2264150943396228,
          1.2962962962962965,
          1.363636363636364,
          1.4285714285714286,
          1.4912280701754386,
          1.5517241379310347,
          1.6101694915254239
         ]
        },
        {
         "mode": "lines",
         "name": "0.25",
         "type": "scatter",
         "x": [
          0.05,
          0.1,
          0.15,
          0.2,
          0.25,
          0.3,
          0.35,
          0.4,
          0.45,
          0.5,
          0.55,
          0.6,
          0.65,
          0.7,
          0.75,
          0.8,
          0.85,
          0.9,
          0.95
         ],
         "y": [
          0.12903225806451618,
          0.2500000000000001,
          0.3636363636363638,
          0.47058823529411775,
          0.5714285714285716,
          0.6666666666666667,
          0.7567567567567567,
          0.8421052631578947,
          0.923076923076923,
          0.9999999999999999,
          1.0731707317073171,
          1.1428571428571428,
          1.2093023255813953,
          1.2727272727272727,
          1.333333333333333,
          1.3913043478260867,
          1.446808510638298,
          1.4999999999999998,
          1.551020408163265
         ]
        },
        {
         "mode": "lines",
         "name": "0.3",
         "type": "scatter",
         "x": [
          0.05,
          0.1,
          0.15,
          0.2,
          0.25,
          0.3,
          0.35,
          0.4,
          0.45,
          0.5,
          0.55,
          0.6,
          0.65,
          0.7,
          0.75,
          0.8,
          0.85,
          0.9,
          0.95
         ],
         "y": [
          0.13698630136986306,
          0.2631578947368422,
          0.37974683544303806,
          0.4878048780487806,
          0.5882352941176472,
          0.6818181818181819,
          0.7692307692307693,
          0.8510638297872339,
          0.9278350515463916,
          0.9999999999999998,
          1.0679611650485434,
          1.1320754716981132,
          1.1926605504587153,
          1.2499999999999998,
          1.304347826086956,
          1.3559322033898304,
          1.4049586776859502,
          1.451612903225806,
          1.4960629921259838
         ]
        },
        {
         "mode": "lines",
         "name": "0.35",
         "type": "scatter",
         "x": [
          0.05,
          0.1,
          0.15,
          0.2,
          0.25,
          0.3,
          0.35,
          0.4,
          0.45,
          0.5,
          0.55,
          0.6,
          0.65,
          0.7,
          0.75,
          0.8,
          0.85,
          0.9,
          0.95
         ],
         "y": [
          0.14598540145985409,
          0.2777777777777779,
          0.39735099337748364,
          0.5063291139240508,
          0.6060606060606062,
          0.6976744186046513,
          0.782122905027933,
          0.8602150537634409,
          0.9326424870466323,
          1,
          1.0628019323671498,
          1.1214953271028036,
          1.1764705882352942,
          1.2280701754385965,
          1.276595744680851,
          1.3223140495867765,
          1.3654618473895581,
          1.4062499999999998,
          1.4448669201520914
         ]
        },
        {
         "mode": "lines",
         "name": "0.4",
         "type": "scatter",
         "x": [
          0.05,
          0.1,
          0.15,
          0.2,
          0.25,
          0.3,
          0.35,
          0.4,
          0.45,
          0.5,
          0.55,
          0.6,
          0.65,
          0.7,
          0.75,
          0.8,
          0.85,
          0.9,
          0.95
         ],
         "y": [
          0.15625000000000008,
          0.29411764705882365,
          0.41666666666666685,
          0.5263157894736844,
          0.6250000000000001,
          0.7142857142857145,
          0.7954545454545455,
          0.8695652173913043,
          0.9375000000000001,
          1,
          1.0576923076923075,
          1.1111111111111112,
          1.1607142857142856,
          1.206896551724138,
          1.2500000000000002,
          1.2903225806451615,
          1.3281249999999996,
          1.3636363636363635,
          1.3970588235294117
         ]
        },
        {
         "mode": "lines",
         "name": "0.45",
         "type": "scatter",
         "x": [
          0.05,
          0.1,
          0.15,
          0.2,
          0.25,
          0.3,
          0.35,
          0.4,
          0.45,
          0.5,
          0.55,
          0.6,
          0.65,
          0.7,
          0.75,
          0.8,
          0.85,
          0.9,
          0.95
         ],
         "y": [
          0.16806722689075637,
          0.3125000000000001,
          0.43795620437956223,
          0.5479452054794521,
          0.6451612903225807,
          0.7317073170731708,
          0.809248554913295,
          0.8791208791208791,
          0.942408376963351,
          0.9999999999999999,
          1.0526315789473684,
          1.1009174311926604,
          1.1453744493392068,
          1.1864406779661016,
          1.2244897959183676,
          1.2598425196850391,
          1.2927756653992395,
          1.323529411764706,
          1.3523131672597868
         ]
        },
        {
         "mode": "lines",
         "name": "0.5",
         "type": "scatter",
         "x": [
          0.05,
          0.1,
          0.15,
          0.2,
          0.25,
          0.3,
          0.35,
          0.4,
          0.45,
          0.5,
          0.55,
          0.6,
          0.65,
          0.7,
          0.75,
          0.8,
          0.85,
          0.9,
          0.95
         ],
         "y": [
          0.18181818181818193,
          0.3333333333333335,
          0.46153846153846173,
          0.5714285714285716,
          0.6666666666666669,
          0.7500000000000001,
          0.823529411764706,
          0.888888888888889,
          0.9473684210526315,
          1.0000000000000002,
          1.0476190476190477,
          1.0909090909090908,
          1.1304347826086956,
          1.1666666666666665,
          1.1999999999999995,
          1.2307692307692308,
          1.259259259259259,
          1.2857142857142858,
          1.3103448275862066
         ]
        },
        {
         "mode": "lines",
         "name": "0.55",
         "type": "scatter",
         "x": [
          0.05,
          0.1,
          0.15,
          0.2,
          0.25,
          0.3,
          0.35,
          0.4,
          0.45,
          0.5,
          0.55,
          0.6,
          0.65,
          0.7,
          0.75,
          0.8,
          0.85,
          0.9,
          0.95
         ],
         "y": [
          0.19801980198019817,
          0.3571428571428573,
          0.48780487804878075,
          0.5970149253731345,
          0.6896551724137933,
          0.7692307692307694,
          0.8383233532934132,
          0.898876404494382,
          0.9523809523809524,
          1.0000000000000002,
          1.0426540284360188,
          1.081081081081081,
          1.1158798283261802,
          1.1475409836065573,
          1.176470588235294,
          1.2030075187969922,
          1.227436823104693,
          1.2499999999999998,
          1.2709030100334446
         ]
        },
        {
         "mode": "lines",
         "name": "0.6",
         "type": "scatter",
         "x": [
          0.05,
          0.1,
          0.15,
          0.2,
          0.25,
          0.3,
          0.35,
          0.4,
          0.45,
          0.5,
          0.55,
          0.6,
          0.65,
          0.7,
          0.75,
          0.8,
          0.85,
          0.9,
          0.95
         ],
         "y": [
          0.21739130434782628,
          0.38461538461538486,
          0.5172413793103451,
          0.6250000000000002,
          0.7142857142857145,
          0.7894736842105265,
          0.853658536585366,
          0.9090909090909092,
          0.9574468085106381,
          1.0000000000000002,
          1.0377358490566035,
          1.0714285714285714,
          1.1016949152542372,
          1.129032258064516,
          1.1538461538461537,
          1.1764705882352942,
          1.1971830985915495,
          1.2162162162162165,
          1.2337662337662332
         ]
        },
        {
         "mode": "lines",
         "name": "0.65",
         "type": "scatter",
         "x": [
          0.05,
          0.1,
          0.15,
          0.2,
          0.25,
          0.3,
          0.35,
          0.4,
          0.45,
          0.5,
          0.55,
          0.6,
          0.65,
          0.7,
          0.75,
          0.8,
          0.85,
          0.9,
          0.95
         ],
         "y": [
          0.24096385542168702,
          0.4166666666666671,
          0.5504587155963305,
          0.6557377049180333,
          0.7407407407407408,
          0.8108108108108109,
          0.8695652173913044,
          0.9195402298850573,
          0.9625668449197858,
          1,
          1.0328638497652582,
          1.061946902654867,
          1.0878661087866106,
          1.111111111111111,
          1.132075471698113,
          1.1510791366906472,
          1.1683848797250855,
          1.1842105263157887,
          1.1987381703470028
         ]
        },
        {
         "mode": "lines",
         "name": "0.7",
         "type": "scatter",
         "x": [
          0.05,
          0.1,
          0.15,
          0.2,
          0.25,
          0.3,
          0.35,
          0.4,
          0.45,
          0.5,
          0.55,
          0.6,
          0.65,
          0.7,
          0.75,
          0.8,
          0.85,
          0.9,
          0.95
         ],
         "y": [
          0.2702702702702707,
          0.45454545454545503,
          0.5882352941176475,
          0.6896551724137937,
          0.7692307692307695,
          0.8333333333333335,
          0.8860759493670888,
          0.9302325581395348,
          0.9677419354838707,
          1,
          1.0280373831775702,
          1.0526315789473681,
          1.0743801652892562,
          1.09375,
          1.1111111111111107,
          1.1267605633802815,
          1.1409395973154361,
          1.153846153846153,
          1.1656441717791408
         ]
        },
        {
         "mode": "lines",
         "name": "0.75",
         "type": "scatter",
         "x": [
          0.05,
          0.1,
          0.15,
          0.2,
          0.25,
          0.3,
          0.35,
          0.4,
          0.45,
          0.5,
          0.55,
          0.6,
          0.65,
          0.7,
          0.75,
          0.8,
          0.85,
          0.9,
          0.95
         ],
         "y": [
          0.3076923076923081,
          0.5000000000000004,
          0.6315789473684216,
          0.7272727272727275,
          0.8000000000000003,
          0.8571428571428577,
          0.9032258064516131,
          0.9411764705882353,
          0.9729729729729732,
          1.0000000000000002,
          1.0232558139534882,
          1.0434782608695654,
          1.0612244897959184,
          1.0769230769230766,
          1.0909090909090904,
          1.103448275862069,
          1.1147540983606554,
          1.1249999999999996,
          1.1343283582089545
         ]
        },
        {
         "mode": "lines",
         "name": "0.8",
         "type": "scatter",
         "x": [
          0.05,
          0.1,
          0.15,
          0.2,
          0.25,
          0.3,
          0.35,
          0.4,
          0.45,
          0.5,
          0.55,
          0.6,
          0.65,
          0.7,
          0.75,
          0.8,
          0.85,
          0.9,
          0.95
         ],
         "y": [
          0.35714285714285776,
          0.5555555555555561,
          0.6818181818181825,
          0.7692307692307695,
          0.8333333333333338,
          0.8823529411764711,
          0.9210526315789476,
          0.9523809523809523,
          0.9782608695652177,
          1.0000000000000002,
          1.0185185185185184,
          1.0344827586206897,
          1.048387096774193,
          1.0606060606060603,
          1.0714285714285714,
          1.0810810810810814,
          1.089743589743589,
          1.0975609756097555,
          1.1046511627906974
         ]
        },
        {
         "mode": "lines",
         "name": "0.85",
         "type": "scatter",
         "x": [
          0.05,
          0.1,
          0.15,
          0.2,
          0.25,
          0.3,
          0.35,
          0.4,
          0.45,
          0.5,
          0.55,
          0.6,
          0.65,
          0.7,
          0.75,
          0.8,
          0.85,
          0.9,
          0.95
         ],
         "y": [
          0.4255319148936179,
          0.6250000000000008,
          0.7407407407407417,
          0.8163265306122451,
          0.8695652173913048,
          0.9090909090909098,
          0.9395973154362418,
          0.9638554216867468,
          0.9836065573770496,
          1.0000000000000002,
          1.0138248847926266,
          1.025641025641026,
          1.035856573705179,
          1.0447761194029848,
          1.0526315789473675,
          1.0596026490066226,
          1.0658307210031348,
          1.071428571428571,
          1.0764872521246456
         ]
        },
        {
         "mode": "lines",
         "name": "0.9",
         "type": "scatter",
         "x": [
          0.05,
          0.1,
          0.15,
          0.2,
          0.25,
          0.3,
          0.35,
          0.4,
          0.45,
          0.5,
          0.55,
          0.6,
          0.65,
          0.7,
          0.75,
          0.8,
          0.85,
          0.9,
          0.95
         ],
         "y": [
          0.5263157894736856,
          0.7142857142857153,
          0.8108108108108121,
          0.8695652173913047,
          0.9090909090909097,
          0.9375000000000008,
          0.9589041095890414,
          0.9756097560975607,
          0.9890109890109896,
          1.0000000000000002,
          1.0091743119266052,
          1.016949152542373,
          1.0236220472440936,
          1.029411764705882,
          1.0344827586206897,
          1.0389610389610395,
          1.0429447852760731,
          1.0465116279069766,
          1.0497237569060776
         ]
        },
        {
         "mode": "lines",
         "name": "0.95",
         "type": "scatter",
         "x": [
          0.05,
          0.1,
          0.15,
          0.2,
          0.25,
          0.3,
          0.35,
          0.4,
          0.45,
          0.5,
          0.55,
          0.6,
          0.65,
          0.7,
          0.75,
          0.8,
          0.85,
          0.9,
          0.95
         ],
         "y": [
          0.6896551724137955,
          0.8333333333333344,
          0.8955223880597035,
          0.9302325581395348,
          0.952380952380953,
          0.9677419354838723,
          0.9790209790209792,
          0.9876543209876535,
          0.9944751381215481,
          1.0000000000000002,
          1.0045662100456638,
          1.0084033613445387,
          1.011673151750973,
          1.014492753623188,
          1.016949152542372,
          1.0191082802547755,
          1.0210210210210218,
          1.022727272727273,
          1.0242587601078164
         ]
        }
       ],
       "layout": {
        "template": {
         "data": {
          "bar": [
           {
            "error_x": {
             "color": "#2a3f5f"
            },
            "error_y": {
             "color": "#2a3f5f"
            },
            "marker": {
             "line": {
              "color": "#E5ECF6",
              "width": 0.5
             }
            },
            "type": "bar"
           }
          ],
          "barpolar": [
           {
            "marker": {
             "line": {
              "color": "#E5ECF6",
              "width": 0.5
             }
            },
            "type": "barpolar"
           }
          ],
          "carpet": [
           {
            "aaxis": {
             "endlinecolor": "#2a3f5f",
             "gridcolor": "white",
             "linecolor": "white",
             "minorgridcolor": "white",
             "startlinecolor": "#2a3f5f"
            },
            "baxis": {
             "endlinecolor": "#2a3f5f",
             "gridcolor": "white",
             "linecolor": "white",
             "minorgridcolor": "white",
             "startlinecolor": "#2a3f5f"
            },
            "type": "carpet"
           }
          ],
          "choropleth": [
           {
            "colorbar": {
             "outlinewidth": 0,
             "ticks": ""
            },
            "type": "choropleth"
           }
          ],
          "contour": [
           {
            "colorbar": {
             "outlinewidth": 0,
             "ticks": ""
            },
            "colorscale": [
             [
              0,
              "#0d0887"
             ],
             [
              0.1111111111111111,
              "#46039f"
             ],
             [
              0.2222222222222222,
              "#7201a8"
             ],
             [
              0.3333333333333333,
              "#9c179e"
             ],
             [
              0.4444444444444444,
              "#bd3786"
             ],
             [
              0.5555555555555556,
              "#d8576b"
             ],
             [
              0.6666666666666666,
              "#ed7953"
             ],
             [
              0.7777777777777778,
              "#fb9f3a"
             ],
             [
              0.8888888888888888,
              "#fdca26"
             ],
             [
              1,
              "#f0f921"
             ]
            ],
            "type": "contour"
           }
          ],
          "contourcarpet": [
           {
            "colorbar": {
             "outlinewidth": 0,
             "ticks": ""
            },
            "type": "contourcarpet"
           }
          ],
          "heatmap": [
           {
            "colorbar": {
             "outlinewidth": 0,
             "ticks": ""
            },
            "colorscale": [
             [
              0,
              "#0d0887"
             ],
             [
              0.1111111111111111,
              "#46039f"
             ],
             [
              0.2222222222222222,
              "#7201a8"
             ],
             [
              0.3333333333333333,
              "#9c179e"
             ],
             [
              0.4444444444444444,
              "#bd3786"
             ],
             [
              0.5555555555555556,
              "#d8576b"
             ],
             [
              0.6666666666666666,
              "#ed7953"
             ],
             [
              0.7777777777777778,
              "#fb9f3a"
             ],
             [
              0.8888888888888888,
              "#fdca26"
             ],
             [
              1,
              "#f0f921"
             ]
            ],
            "type": "heatmap"
           }
          ],
          "heatmapgl": [
           {
            "colorbar": {
             "outlinewidth": 0,
             "ticks": ""
            },
            "colorscale": [
             [
              0,
              "#0d0887"
             ],
             [
              0.1111111111111111,
              "#46039f"
             ],
             [
              0.2222222222222222,
              "#7201a8"
             ],
             [
              0.3333333333333333,
              "#9c179e"
             ],
             [
              0.4444444444444444,
              "#bd3786"
             ],
             [
              0.5555555555555556,
              "#d8576b"
             ],
             [
              0.6666666666666666,
              "#ed7953"
             ],
             [
              0.7777777777777778,
              "#fb9f3a"
             ],
             [
              0.8888888888888888,
              "#fdca26"
             ],
             [
              1,
              "#f0f921"
             ]
            ],
            "type": "heatmapgl"
           }
          ],
          "histogram": [
           {
            "marker": {
             "colorbar": {
              "outlinewidth": 0,
              "ticks": ""
             }
            },
            "type": "histogram"
           }
          ],
          "histogram2d": [
           {
            "colorbar": {
             "outlinewidth": 0,
             "ticks": ""
            },
            "colorscale": [
             [
              0,
              "#0d0887"
             ],
             [
              0.1111111111111111,
              "#46039f"
             ],
             [
              0.2222222222222222,
              "#7201a8"
             ],
             [
              0.3333333333333333,
              "#9c179e"
             ],
             [
              0.4444444444444444,
              "#bd3786"
             ],
             [
              0.5555555555555556,
              "#d8576b"
             ],
             [
              0.6666666666666666,
              "#ed7953"
             ],
             [
              0.7777777777777778,
              "#fb9f3a"
             ],
             [
              0.8888888888888888,
              "#fdca26"
             ],
             [
              1,
              "#f0f921"
             ]
            ],
            "type": "histogram2d"
           }
          ],
          "histogram2dcontour": [
           {
            "colorbar": {
             "outlinewidth": 0,
             "ticks": ""
            },
            "colorscale": [
             [
              0,
              "#0d0887"
             ],
             [
              0.1111111111111111,
              "#46039f"
             ],
             [
              0.2222222222222222,
              "#7201a8"
             ],
             [
              0.3333333333333333,
              "#9c179e"
             ],
             [
              0.4444444444444444,
              "#bd3786"
             ],
             [
              0.5555555555555556,
              "#d8576b"
             ],
             [
              0.6666666666666666,
              "#ed7953"
             ],
             [
              0.7777777777777778,
              "#fb9f3a"
             ],
             [
              0.8888888888888888,
              "#fdca26"
             ],
             [
              1,
              "#f0f921"
             ]
            ],
            "type": "histogram2dcontour"
           }
          ],
          "mesh3d": [
           {
            "colorbar": {
             "outlinewidth": 0,
             "ticks": ""
            },
            "type": "mesh3d"
           }
          ],
          "parcoords": [
           {
            "line": {
             "colorbar": {
              "outlinewidth": 0,
              "ticks": ""
             }
            },
            "type": "parcoords"
           }
          ],
          "pie": [
           {
            "automargin": true,
            "type": "pie"
           }
          ],
          "scatter": [
           {
            "marker": {
             "colorbar": {
              "outlinewidth": 0,
              "ticks": ""
             }
            },
            "type": "scatter"
           }
          ],
          "scatter3d": [
           {
            "line": {
             "colorbar": {
              "outlinewidth": 0,
              "ticks": ""
             }
            },
            "marker": {
             "colorbar": {
              "outlinewidth": 0,
              "ticks": ""
             }
            },
            "type": "scatter3d"
           }
          ],
          "scattercarpet": [
           {
            "marker": {
             "colorbar": {
              "outlinewidth": 0,
              "ticks": ""
             }
            },
            "type": "scattercarpet"
           }
          ],
          "scattergeo": [
           {
            "marker": {
             "colorbar": {
              "outlinewidth": 0,
              "ticks": ""
             }
            },
            "type": "scattergeo"
           }
          ],
          "scattergl": [
           {
            "marker": {
             "colorbar": {
              "outlinewidth": 0,
              "ticks": ""
             }
            },
            "type": "scattergl"
           }
          ],
          "scattermapbox": [
           {
            "marker": {
             "colorbar": {
              "outlinewidth": 0,
              "ticks": ""
             }
            },
            "type": "scattermapbox"
           }
          ],
          "scatterpolar": [
           {
            "marker": {
             "colorbar": {
              "outlinewidth": 0,
              "ticks": ""
             }
            },
            "type": "scatterpolar"
           }
          ],
          "scatterpolargl": [
           {
            "marker": {
             "colorbar": {
              "outlinewidth": 0,
              "ticks": ""
             }
            },
            "type": "scatterpolargl"
           }
          ],
          "scatterternary": [
           {
            "marker": {
             "colorbar": {
              "outlinewidth": 0,
              "ticks": ""
             }
            },
            "type": "scatterternary"
           }
          ],
          "surface": [
           {
            "colorbar": {
             "outlinewidth": 0,
             "ticks": ""
            },
            "colorscale": [
             [
              0,
              "#0d0887"
             ],
             [
              0.1111111111111111,
              "#46039f"
             ],
             [
              0.2222222222222222,
              "#7201a8"
             ],
             [
              0.3333333333333333,
              "#9c179e"
             ],
             [
              0.4444444444444444,
              "#bd3786"
             ],
             [
              0.5555555555555556,
              "#d8576b"
             ],
             [
              0.6666666666666666,
              "#ed7953"
             ],
             [
              0.7777777777777778,
              "#fb9f3a"
             ],
             [
              0.8888888888888888,
              "#fdca26"
             ],
             [
              1,
              "#f0f921"
             ]
            ],
            "type": "surface"
           }
          ],
          "table": [
           {
            "cells": {
             "fill": {
              "color": "#EBF0F8"
             },
             "line": {
              "color": "white"
             }
            },
            "header": {
             "fill": {
              "color": "#C8D4E3"
             },
             "line": {
              "color": "white"
             }
            },
            "type": "table"
           }
          ]
         },
         "layout": {
          "annotationdefaults": {
           "arrowcolor": "#2a3f5f",
           "arrowhead": 0,
           "arrowwidth": 1
          },
          "autotypenumbers": "strict",
          "coloraxis": {
           "colorbar": {
            "outlinewidth": 0,
            "ticks": ""
           }
          },
          "colorscale": {
           "diverging": [
            [
             0,
             "#8e0152"
            ],
            [
             0.1,
             "#c51b7d"
            ],
            [
             0.2,
             "#de77ae"
            ],
            [
             0.3,
             "#f1b6da"
            ],
            [
             0.4,
             "#fde0ef"
            ],
            [
             0.5,
             "#f7f7f7"
            ],
            [
             0.6,
             "#e6f5d0"
            ],
            [
             0.7,
             "#b8e186"
            ],
            [
             0.8,
             "#7fbc41"
            ],
            [
             0.9,
             "#4d9221"
            ],
            [
             1,
             "#276419"
            ]
           ],
           "sequential": [
            [
             0,
             "#0d0887"
            ],
            [
             0.1111111111111111,
             "#46039f"
            ],
            [
             0.2222222222222222,
             "#7201a8"
            ],
            [
             0.3333333333333333,
             "#9c179e"
            ],
            [
             0.4444444444444444,
             "#bd3786"
            ],
            [
             0.5555555555555556,
             "#d8576b"
            ],
            [
             0.6666666666666666,
             "#ed7953"
            ],
            [
             0.7777777777777778,
             "#fb9f3a"
            ],
            [
             0.8888888888888888,
             "#fdca26"
            ],
            [
             1,
             "#f0f921"
            ]
           ],
           "sequentialminus": [
            [
             0,
             "#0d0887"
            ],
            [
             0.1111111111111111,
             "#46039f"
            ],
            [
             0.2222222222222222,
             "#7201a8"
            ],
            [
             0.3333333333333333,
             "#9c179e"
            ],
            [
             0.4444444444444444,
             "#bd3786"
            ],
            [
             0.5555555555555556,
             "#d8576b"
            ],
            [
             0.6666666666666666,
             "#ed7953"
            ],
            [
             0.7777777777777778,
             "#fb9f3a"
            ],
            [
             0.8888888888888888,
             "#fdca26"
            ],
            [
             1,
             "#f0f921"
            ]
           ]
          },
          "colorway": [
           "#636efa",
           "#EF553B",
           "#00cc96",
           "#ab63fa",
           "#FFA15A",
           "#19d3f3",
           "#FF6692",
           "#B6E880",
           "#FF97FF",
           "#FECB52"
          ],
          "font": {
           "color": "#2a3f5f"
          },
          "geo": {
           "bgcolor": "white",
           "lakecolor": "white",
           "landcolor": "#E5ECF6",
           "showlakes": true,
           "showland": true,
           "subunitcolor": "white"
          },
          "hoverlabel": {
           "align": "left"
          },
          "hovermode": "closest",
          "mapbox": {
           "style": "light"
          },
          "paper_bgcolor": "white",
          "plot_bgcolor": "#E5ECF6",
          "polar": {
           "angularaxis": {
            "gridcolor": "white",
            "linecolor": "white",
            "ticks": ""
           },
           "bgcolor": "#E5ECF6",
           "radialaxis": {
            "gridcolor": "white",
            "linecolor": "white",
            "ticks": ""
           }
          },
          "scene": {
           "xaxis": {
            "backgroundcolor": "#E5ECF6",
            "gridcolor": "white",
            "gridwidth": 2,
            "linecolor": "white",
            "showbackground": true,
            "ticks": "",
            "zerolinecolor": "white"
           },
           "yaxis": {
            "backgroundcolor": "#E5ECF6",
            "gridcolor": "white",
            "gridwidth": 2,
            "linecolor": "white",
            "showbackground": true,
            "ticks": "",
            "zerolinecolor": "white"
           },
           "zaxis": {
            "backgroundcolor": "#E5ECF6",
            "gridcolor": "white",
            "gridwidth": 2,
            "linecolor": "white",
            "showbackground": true,
            "ticks": "",
            "zerolinecolor": "white"
           }
          },
          "shapedefaults": {
           "line": {
            "color": "#2a3f5f"
           }
          },
          "ternary": {
           "aaxis": {
            "gridcolor": "white",
            "linecolor": "white",
            "ticks": ""
           },
           "baxis": {
            "gridcolor": "white",
            "linecolor": "white",
            "ticks": ""
           },
           "bgcolor": "#E5ECF6",
           "caxis": {
            "gridcolor": "white",
            "linecolor": "white",
            "ticks": ""
           }
          },
          "title": {
           "x": 0.05
          },
          "xaxis": {
           "automargin": true,
           "gridcolor": "white",
           "linecolor": "white",
           "ticks": "",
           "title": {
            "standoff": 15
           },
           "zerolinecolor": "white",
           "zerolinewidth": 2
          },
          "yaxis": {
           "automargin": true,
           "gridcolor": "white",
           "linecolor": "white",
           "ticks": "",
           "title": {
            "standoff": 15
           },
           "zerolinecolor": "white",
           "zerolinewidth": 2
          }
         }
        },
        "title": {
         "text": "Valores de custo para cada mudança na probabilidade de atingir a meta"
        },
        "xaxis": {
         "title": {
          "text": "Probabilidade (p')"
         }
        },
        "yaxis": {
         "title": {
          "text": "Custo (c')"
         }
        }
       }
      },
      "text/html": [
       "<div>                            <div id=\"5759a7d4-70bf-46b7-bed2-f4edf45d0779\" class=\"plotly-graph-div\" style=\"height:525px; width:100%;\"></div>            <script type=\"text/javascript\">                require([\"plotly\"], function(Plotly) {                    window.PLOTLYENV=window.PLOTLYENV || {};                                    if (document.getElementById(\"5759a7d4-70bf-46b7-bed2-f4edf45d0779\")) {                    Plotly.newPlot(                        \"5759a7d4-70bf-46b7-bed2-f4edf45d0779\",                        [{\"mode\": \"lines\", \"name\": \"-0.95\", \"type\": \"scatter\", \"x\": [0.05, 0.1, 0.15, 0.2, 0.25, 0.3, 0.35, 0.4, 0.45, 0.5, 0.55, 0.6, 0.65, 0.7, 0.75, 0.8, 0.85, 0.9, 0.95], \"y\": [0.05390835579514826, 0.11363636363636366, 0.18018018018018023, 0.2547770700636943, 0.3389830508474576, 0.4347826086956523, 0.5447470817120622, 0.6722689075630253, 0.8219178082191779, 1.0, 1.2154696132596683, 1.4814814814814816, 1.8181818181818183, 2.2580645161290334, 2.857142857142858, 3.720930232558143, 5.074626865671647, 7.500000000000016, 13.103448275862114]}, {\"mode\": \"lines\", \"name\": \"-0.9\", \"type\": \"scatter\", \"x\": [0.05, 0.1, 0.15, 0.2, 0.25, 0.3, 0.35, 0.4, 0.45, 0.5, 0.55, 0.6, 0.65, 0.7, 0.75, 0.8, 0.85, 0.9, 0.95], \"y\": [0.05524861878453038, 0.11627906976744186, 0.18404907975460122, 0.2597402597402597, 0.3448275862068965, 0.4411764705882352, 0.5511811023622046, 0.677966101694915, 0.8256880733944951, 0.9999999999999998, 1.2087912087912085, 1.463414634146341, 1.780821917808219, 2.1875, 2.7272727272727284, 3.4782608695652195, 4.594594594594599, 6.4285714285714395, 10.000000000000028]}, {\"mode\": \"lines\", \"name\": \"-0.85\", \"type\": \"scatter\", \"x\": [0.05, 0.1, 0.15, 0.2, 0.25, 0.3, 0.35, 0.4, 0.45, 0.5, 0.55, 0.6, 0.65, 0.7, 0.75, 0.8, 0.85, 0.9, 0.95], \"y\": [0.056657223796034, 0.11904761904761905, 0.1880877742946709, 0.2649006622516557, 0.3508771929824562, 0.44776119402985076, 0.5577689243027889, 0.6837606837606838, 0.8294930875576035, 0.9999999999999999, 1.2021857923497263, 1.4457831325301203, 1.7449664429530198, 2.1212121212121215, 2.6086956521739135, 3.265306122448982, 4.1975308641975335, 5.625000000000009, 8.085106382978736]}, {\"mode\": \"lines\", \"name\": \"-0.8\", \"type\": \"scatter\", \"x\": [0.05, 0.1, 0.15, 0.2, 0.25, 0.3, 0.35, 0.4, 0.45, 0.5, 0.55, 0.6, 0.65, 0.7, 0.75, 0.8, 0.85, 0.9, 0.95], \"y\": [0.05813953488372094, 0.12195121951219513, 0.19230769230769235, 0.2702702702702703, 0.35714285714285715, 0.4545454545454546, 0.564516129032258, 0.6896551724137929, 0.8333333333333331, 0.9999999999999998, 1.1956521739130432, 1.4285714285714284, 1.7105263157894737, 2.058823529411765, 2.500000000000001, 3.076923076923079, 3.863636363636367, 5.000000000000006, 6.785714285714293]}, {\"mode\": \"lines\", \"name\": \"-0.75\", \"type\": \"scatter\", \"x\": [0.05, 0.1, 0.15, 0.2, 0.25, 0.3, 0.35, 0.4, 0.45, 0.5, 0.55, 0.6, 0.65, 0.7, 0.75, 0.8, 0.85, 0.9, 0.95], \"y\": [0.059701492537313446, 0.12500000000000003, 0.1967213114754099, 0.2758620689655173, 0.36363636363636365, 0.46153846153846156, 0.5714285714285713, 0.6956521739130435, 0.8372093023255813, 0.9999999999999999, 1.1891891891891888, 1.4117647058823528, 1.6774193548387097, 2.0000000000000004, 2.4000000000000004, 2.9090909090909105, 3.578947368421055, 4.500000000000003, 5.846153846153853]}, {\"mode\": \"lines\", \"name\": \"-0.7\", \"type\": \"scatter\", \"x\": [0.05, 0.1, 0.15, 0.2, 0.25, 0.3, 0.35, 0.4, 0.45, 0.5, 0.55, 0.6, 0.65, 0.7, 0.75, 0.8, 0.85, 0.9, 0.95], \"y\": [0.061349693251533756, 0.12820512820512825, 0.2013422818791947, 0.2816901408450705, 0.3703703703703704, 0.46875000000000006, 0.5785123966942148, 0.7017543859649121, 0.8411214953271027, 0.9999999999999999, 1.1827956989247308, 1.3953488372093021, 1.6455696202531649, 1.944444444444445, 2.3076923076923084, 2.758620689655174, 3.333333333333334, 4.090909090909093, 5.135135135135139]}, {\"mode\": \"lines\", \"name\": \"-0.65\", \"type\": \"scatter\", \"x\": [0.05, 0.1, 0.15, 0.2, 0.25, 0.3, 0.35, 0.4, 0.45, 0.5, 0.55, 0.6, 0.65, 0.7, 0.75, 0.8, 0.85, 0.9, 0.95], \"y\": [0.06309148264984228, 0.13157894736842107, 0.20618556701030935, 0.28776978417266197, 0.3773584905660378, 0.4761904761904763, 0.5857740585774059, 0.7079646017699115, 0.8450704225352111, 0.9999999999999999, 1.1764705882352937, 1.379310344827586, 1.6149068322981366, 1.891891891891892, 2.222222222222222, 2.6229508196721323, 3.119266055045873, 3.7500000000000013, 4.578313253012052]}, {\"mode\": \"lines\", \"name\": \"-0.6\", \"type\": \"scatter\", \"x\": [0.05, 0.1, 0.15, 0.2, 0.25, 0.3, 0.35, 0.4, 0.45, 0.5, 0.55, 0.6, 0.65, 0.7, 0.75, 0.8, 0.85, 0.9, 0.95], \"y\": [0.06493506493506496, 0.13513513513513517, 0.2112676056338029, 0.2941176470588236, 0.3846153846153847, 0.48387096774193555, 0.5932203389830508, 0.7142857142857142, 0.8490566037735847, 0.9999999999999998, 1.1702127659574464, 1.3636363636363633, 1.5853658536585364, 1.842105263157895, 2.142857142857143, 2.5000000000000004, 2.9310344827586206, 3.461538461538462, 4.130434782608697]}, {\"mode\": \"lines\", \"name\": \"-0.55\", \"type\": \"scatter\", \"x\": [0.05, 0.1, 0.15, 0.2, 0.25, 0.3, 0.35, 0.4, 0.45, 0.5, 0.55, 0.6, 0.65, 0.7, 0.75, 0.8, 0.85, 0.9, 0.95], \"y\": [0.06688963210702344, 0.13888888888888895, 0.21660649819494596, 0.30075187969924827, 0.3921568627450981, 0.4918032786885247, 0.6008583690987124, 0.7207207207207207, 0.8530805687203792, 0.9999999999999999, 1.1640211640211637, 1.3483146067415728, 1.5568862275449105, 1.7948717948717947, 2.0689655172413794, 2.388059701492538, 2.764227642276423, 3.214285714285715, 3.762376237623763]}, {\"mode\": \"lines\", \"name\": \"-0.5\", \"type\": \"scatter\", \"x\": [0.05, 0.1, 0.15, 0.2, 0.25, 0.3, 0.35, 0.4, 0.45, 0.5, 0.55, 0.6, 0.65, 0.7, 0.75, 0.8, 0.85, 0.9, 0.95], \"y\": [0.06896551724137932, 0.1428571428571429, 0.22222222222222232, 0.30769230769230776, 0.4000000000000001, 0.5000000000000001, 0.6086956521739131, 0.7272727272727272, 0.8571428571428571, 1.0, 1.1578947368421049, 1.333333333333333, 1.5294117647058822, 1.75, 2.0000000000000004, 2.2857142857142856, 2.6153846153846154, 3.000000000000001, 3.4545454545454555]}, {\"mode\": \"lines\", \"name\": \"-0.45\", \"type\": \"scatter\", \"x\": [0.05, 0.1, 0.15, 0.2, 0.25, 0.3, 0.35, 0.4, 0.45, 0.5, 0.55, 0.6, 0.65, 0.7, 0.75, 0.8, 0.85, 0.9, 0.95], \"y\": [0.07117437722419931, 0.1470588235294118, 0.22813688212927766, 0.3149606299212599, 0.4081632653061225, 0.5084745762711863, 0.616740088105727, 0.7339449541284404, 0.8612440191387559, 0.9999999999999999, 1.1518324607329842, 1.3186813186813182, 1.5028901734104045, 1.7073170731707317, 1.935483870967742, 2.1917808219178085, 2.4817518248175188, 2.8125, 3.19327731092437]}, {\"mode\": \"lines\", \"name\": \"-0.4\", \"type\": \"scatter\", \"x\": [0.05, 0.1, 0.15, 0.2, 0.25, 0.3, 0.35, 0.4, 0.45, 0.5, 0.55, 0.6, 0.65, 0.7, 0.75, 0.8, 0.85, 0.9, 0.95], \"y\": [0.0735294117647059, 0.15151515151515152, 0.23437500000000003, 0.32258064516129037, 0.41666666666666674, 0.5172413793103449, 0.625, 0.7407407407407406, 0.8653846153846152, 0.9999999999999998, 1.1458333333333328, 1.3043478260869563, 1.477272727272727, 1.6666666666666663, 1.875, 2.1052631578947367, 2.3611111111111107, 2.6470588235294117, 2.96875]}, {\"mode\": \"lines\", \"name\": \"-0.35\", \"type\": \"scatter\", \"x\": [0.05, 0.1, 0.15, 0.2, 0.25, 0.3, 0.35, 0.4, 0.45, 0.5, 0.55, 0.6, 0.65, 0.7, 0.75, 0.8, 0.85, 0.9, 0.95], \"y\": [0.07604562737642588, 0.15625000000000003, 0.24096385542168686, 0.3305785123966943, 0.4255319148936171, 0.5263157894736842, 0.6334841628959276, 0.7476635514018692, 0.8695652173913043, 0.9999999999999998, 1.1398963730569946, 1.290322580645161, 1.452513966480447, 1.627906976744186, 1.8181818181818183, 2.0253164556962022, 2.2516556291390732, 2.5000000000000004, 2.773722627737226]}, {\"mode\": \"lines\", \"name\": \"-0.3\", \"type\": \"scatter\", \"x\": [0.05, 0.1, 0.15, 0.2, 0.25, 0.3, 0.35, 0.4, 0.45, 0.5, 0.55, 0.6, 0.65, 0.7, 0.75, 0.8, 0.85, 0.9, 0.95], \"y\": [0.078740157480315, 0.1612903225806452, 0.24793388429752075, 0.3389830508474578, 0.4347826086956522, 0.5357142857142858, 0.6422018348623854, 0.7547169811320754, 0.8737864077669902, 0.9999999999999999, 1.134020618556701, 1.2765957446808511, 1.4285714285714284, 1.5909090909090908, 1.7647058823529413, 1.9512195121951224, 2.151898734177216, 2.3684210526315788, 2.6027397260273974]}, {\"mode\": \"lines\", \"name\": \"-0.25\", \"type\": \"scatter\", \"x\": [0.05, 0.1, 0.15, 0.2, 0.25, 0.3, 0.35, 0.4, 0.45, 0.5, 0.55, 0.6, 0.65, 0.7, 0.75, 0.8, 0.85, 0.9, 0.95], \"y\": [0.08163265306122452, 0.1666666666666667, 0.2553191489361703, 0.3478260869565218, 0.44444444444444453, 0.5454545454545455, 0.6511627906976745, 0.7619047619047619, 0.8780487804878049, 1.0, 1.1282051282051282, 1.263157894736842, 1.4054054054054055, 1.5555555555555558, 1.7142857142857144, 1.8823529411764708, 2.060606060606061, 2.2500000000000004, 2.451612903225807]}, {\"mode\": \"lines\", \"name\": \"-0.2\", \"type\": \"scatter\", \"x\": [0.05, 0.1, 0.15, 0.2, 0.25, 0.3, 0.35, 0.4, 0.45, 0.5, 0.55, 0.6, 0.65, 0.7, 0.75, 0.8, 0.85, 0.9, 0.95], \"y\": [0.08474576271186442, 0.17241379310344832, 0.2631578947368422, 0.35714285714285715, 0.4545454545454546, 0.5555555555555555, 0.6603773584905661, 0.769230769230769, 0.8823529411764703, 0.9999999999999998, 1.1224489795918362, 1.2499999999999996, 1.382978723404255, 1.5217391304347823, 1.6666666666666667, 1.8181818181818183, 1.9767441860465118, 2.1428571428571432, 2.3170731707317076]}, {\"mode\": \"lines\", \"name\": \"-0.15\", \"type\": \"scatter\", \"x\": [0.05, 0.1, 0.15, 0.2, 0.25, 0.3, 0.35, 0.4, 0.45, 0.5, 0.55, 0.6, 0.65, 0.7, 0.75, 0.8, 0.85, 0.9, 0.95], \"y\": [0.08810572687224671, 0.17857142857142863, 0.27149321266968335, 0.36697247706422026, 0.46511627906976755, 0.5660377358490567, 0.6698564593301436, 0.7766990291262135, 0.8866995073891626, 0.9999999999999998, 1.1167512690355328, 1.2371134020618555, 1.3612565445026177, 1.4893617021276593, 1.6216216216216215, 1.7582417582417582, 1.8994413407821227, 2.0454545454545454, 2.1965317919075145]}, {\"mode\": \"lines\", \"name\": \"-0.1\", \"type\": \"scatter\", \"x\": [0.05, 0.1, 0.15, 0.2, 0.25, 0.3, 0.35, 0.4, 0.45, 0.5, 0.55, 0.6, 0.65, 0.7, 0.75, 0.8, 0.85, 0.9, 0.95], \"y\": [0.09174311926605508, 0.18518518518518523, 0.280373831775701, 0.3773584905660378, 0.4761904761904763, 0.576923076923077, 0.6796116504854369, 0.784313725490196, 0.8910891089108911, 1.0, 1.111111111111111, 1.2244897959183672, 1.3402061855670104, 1.4583333333333333, 1.5789473684210527, 1.702127659574468, 1.827956989247312, 1.956521739130435, 2.087912087912088]}, {\"mode\": \"lines\", \"name\": \"-0.05\", \"type\": \"scatter\", \"x\": [0.05, 0.1, 0.15, 0.2, 0.25, 0.3, 0.35, 0.4, 0.45, 0.5, 0.55, 0.6, 0.65, 0.7, 0.75, 0.8, 0.85, 0.9, 0.95], \"y\": [0.09569377990430625, 0.19230769230769235, 0.2898550724637683, 0.3883495145631069, 0.48780487804878053, 0.5882352941176473, 0.6896551724137933, 0.792079207920792, 0.8955223880597016, 1.0, 1.105527638190955, 1.2121212121212122, 1.3197969543147208, 1.4285714285714288, 1.5384615384615388, 1.6494845360824741, 1.7616580310880832, 1.8750000000000004, 1.9895287958115186]}, {\"mode\": \"lines\", \"name\": \"0.0\", \"type\": \"scatter\", \"x\": [0.05, 0.1, 0.15, 0.2, 0.25, 0.3, 0.35, 0.4, 0.45, 0.5, 0.55, 0.6, 0.65, 0.7, 0.75, 0.8, 0.85, 0.9, 0.95], \"y\": [0.10000000000000005, 0.2000000000000001, 0.3000000000000001, 0.4000000000000002, 0.5000000000000001, 0.6000000000000001, 0.7000000000000002, 0.8000000000000002, 0.9, 1.0, 1.0999999999999999, 1.2, 1.3000000000000003, 1.4000000000000001, 1.5, 1.6, 1.7000000000000002, 1.8000000000000003, 1.9000000000000004]}, {\"mode\": \"lines\", \"name\": \"0.05\", \"type\": \"scatter\", \"x\": [0.05, 0.1, 0.15, 0.2, 0.25, 0.3, 0.35, 0.4, 0.45, 0.5, 0.55, 0.6, 0.65, 0.7, 0.75, 0.8, 0.85, 0.9, 0.95], \"y\": [0.1047120418848168, 0.2083333333333334, 0.31088082901554415, 0.4123711340206187, 0.5128205128205129, 0.6122448979591838, 0.7106598984771574, 0.8080808080808081, 0.9045226130653266, 1.0, 1.0945273631840793, 1.1881188118811883, 1.2807881773399015, 1.3725490196078431, 1.4634146341463417, 1.5533980582524272, 1.6425120772946862, 1.730769230769231, 1.8181818181818181]}, {\"mode\": \"lines\", \"name\": \"0.1\", \"type\": \"scatter\", \"x\": [0.05, 0.1, 0.15, 0.2, 0.25, 0.3, 0.35, 0.4, 0.45, 0.5, 0.55, 0.6, 0.65, 0.7, 0.75, 0.8, 0.85, 0.9, 0.95], \"y\": [0.10989010989010993, 0.21739130434782616, 0.32258064516129054, 0.42553191489361714, 0.5263157894736843, 0.6250000000000002, 0.7216494845360826, 0.8163265306122448, 0.9090909090909091, 1.0, 1.0891089108910892, 1.1764705882352944, 1.2621359223300974, 1.3461538461538465, 1.4285714285714284, 1.5094339622641508, 1.5887850467289721, 1.666666666666667, 1.743119266055046]}, {\"mode\": \"lines\", \"name\": \"0.15\", \"type\": \"scatter\", \"x\": [0.05, 0.1, 0.15, 0.2, 0.25, 0.3, 0.35, 0.4, 0.45, 0.5, 0.55, 0.6, 0.65, 0.7, 0.75, 0.8, 0.85, 0.9, 0.95], \"y\": [0.11560693641618501, 0.22727272727272735, 0.33519553072625713, 0.43956043956043966, 0.5405405405405407, 0.6382978723404256, 0.7329842931937174, 0.8247422680412372, 0.9137055837563453, 1.0, 1.0837438423645318, 1.1650485436893203, 1.2440191387559807, 1.3207547169811324, 1.3953488372093024, 1.4678899082568806, 1.5384615384615385, 1.6071428571428572, 1.6740088105726871]}, {\"mode\": \"lines\", \"name\": \"0.2\", \"type\": \"scatter\", \"x\": [0.05, 0.1, 0.15, 0.2, 0.25, 0.3, 0.35, 0.4, 0.45, 0.5, 0.55, 0.6, 0.65, 0.7, 0.75, 0.8, 0.85, 0.9, 0.95], \"y\": [0.12195121951219519, 0.23809523809523822, 0.3488372093023258, 0.45454545454545475, 0.5555555555555557, 0.6521739130434784, 0.7446808510638299, 0.8333333333333334, 0.9183673469387755, 1.0, 1.0784313725490196, 1.1538461538461537, 1.2264150943396228, 1.2962962962962965, 1.363636363636364, 1.4285714285714286, 1.4912280701754386, 1.5517241379310347, 1.6101694915254239]}, {\"mode\": \"lines\", \"name\": \"0.25\", \"type\": \"scatter\", \"x\": [0.05, 0.1, 0.15, 0.2, 0.25, 0.3, 0.35, 0.4, 0.45, 0.5, 0.55, 0.6, 0.65, 0.7, 0.75, 0.8, 0.85, 0.9, 0.95], \"y\": [0.12903225806451618, 0.2500000000000001, 0.3636363636363638, 0.47058823529411775, 0.5714285714285716, 0.6666666666666667, 0.7567567567567567, 0.8421052631578947, 0.923076923076923, 0.9999999999999999, 1.0731707317073171, 1.1428571428571428, 1.2093023255813953, 1.2727272727272727, 1.333333333333333, 1.3913043478260867, 1.446808510638298, 1.4999999999999998, 1.551020408163265]}, {\"mode\": \"lines\", \"name\": \"0.3\", \"type\": \"scatter\", \"x\": [0.05, 0.1, 0.15, 0.2, 0.25, 0.3, 0.35, 0.4, 0.45, 0.5, 0.55, 0.6, 0.65, 0.7, 0.75, 0.8, 0.85, 0.9, 0.95], \"y\": [0.13698630136986306, 0.2631578947368422, 0.37974683544303806, 0.4878048780487806, 0.5882352941176472, 0.6818181818181819, 0.7692307692307693, 0.8510638297872339, 0.9278350515463916, 0.9999999999999998, 1.0679611650485434, 1.1320754716981132, 1.1926605504587153, 1.2499999999999998, 1.304347826086956, 1.3559322033898304, 1.4049586776859502, 1.451612903225806, 1.4960629921259838]}, {\"mode\": \"lines\", \"name\": \"0.35\", \"type\": \"scatter\", \"x\": [0.05, 0.1, 0.15, 0.2, 0.25, 0.3, 0.35, 0.4, 0.45, 0.5, 0.55, 0.6, 0.65, 0.7, 0.75, 0.8, 0.85, 0.9, 0.95], \"y\": [0.14598540145985409, 0.2777777777777779, 0.39735099337748364, 0.5063291139240508, 0.6060606060606062, 0.6976744186046513, 0.782122905027933, 0.8602150537634409, 0.9326424870466323, 1.0, 1.0628019323671498, 1.1214953271028036, 1.1764705882352942, 1.2280701754385965, 1.276595744680851, 1.3223140495867765, 1.3654618473895581, 1.4062499999999998, 1.4448669201520914]}, {\"mode\": \"lines\", \"name\": \"0.4\", \"type\": \"scatter\", \"x\": [0.05, 0.1, 0.15, 0.2, 0.25, 0.3, 0.35, 0.4, 0.45, 0.5, 0.55, 0.6, 0.65, 0.7, 0.75, 0.8, 0.85, 0.9, 0.95], \"y\": [0.15625000000000008, 0.29411764705882365, 0.41666666666666685, 0.5263157894736844, 0.6250000000000001, 0.7142857142857145, 0.7954545454545455, 0.8695652173913043, 0.9375000000000001, 1.0, 1.0576923076923075, 1.1111111111111112, 1.1607142857142856, 1.206896551724138, 1.2500000000000002, 1.2903225806451615, 1.3281249999999996, 1.3636363636363635, 1.3970588235294117]}, {\"mode\": \"lines\", \"name\": \"0.45\", \"type\": \"scatter\", \"x\": [0.05, 0.1, 0.15, 0.2, 0.25, 0.3, 0.35, 0.4, 0.45, 0.5, 0.55, 0.6, 0.65, 0.7, 0.75, 0.8, 0.85, 0.9, 0.95], \"y\": [0.16806722689075637, 0.3125000000000001, 0.43795620437956223, 0.5479452054794521, 0.6451612903225807, 0.7317073170731708, 0.809248554913295, 0.8791208791208791, 0.942408376963351, 0.9999999999999999, 1.0526315789473684, 1.1009174311926604, 1.1453744493392068, 1.1864406779661016, 1.2244897959183676, 1.2598425196850391, 1.2927756653992395, 1.323529411764706, 1.3523131672597868]}, {\"mode\": \"lines\", \"name\": \"0.5\", \"type\": \"scatter\", \"x\": [0.05, 0.1, 0.15, 0.2, 0.25, 0.3, 0.35, 0.4, 0.45, 0.5, 0.55, 0.6, 0.65, 0.7, 0.75, 0.8, 0.85, 0.9, 0.95], \"y\": [0.18181818181818193, 0.3333333333333335, 0.46153846153846173, 0.5714285714285716, 0.6666666666666669, 0.7500000000000001, 0.823529411764706, 0.888888888888889, 0.9473684210526315, 1.0000000000000002, 1.0476190476190477, 1.0909090909090908, 1.1304347826086956, 1.1666666666666665, 1.1999999999999995, 1.2307692307692308, 1.259259259259259, 1.2857142857142858, 1.3103448275862066]}, {\"mode\": \"lines\", \"name\": \"0.55\", \"type\": \"scatter\", \"x\": [0.05, 0.1, 0.15, 0.2, 0.25, 0.3, 0.35, 0.4, 0.45, 0.5, 0.55, 0.6, 0.65, 0.7, 0.75, 0.8, 0.85, 0.9, 0.95], \"y\": [0.19801980198019817, 0.3571428571428573, 0.48780487804878075, 0.5970149253731345, 0.6896551724137933, 0.7692307692307694, 0.8383233532934132, 0.898876404494382, 0.9523809523809524, 1.0000000000000002, 1.0426540284360188, 1.081081081081081, 1.1158798283261802, 1.1475409836065573, 1.176470588235294, 1.2030075187969922, 1.227436823104693, 1.2499999999999998, 1.2709030100334446]}, {\"mode\": \"lines\", \"name\": \"0.6\", \"type\": \"scatter\", \"x\": [0.05, 0.1, 0.15, 0.2, 0.25, 0.3, 0.35, 0.4, 0.45, 0.5, 0.55, 0.6, 0.65, 0.7, 0.75, 0.8, 0.85, 0.9, 0.95], \"y\": [0.21739130434782628, 0.38461538461538486, 0.5172413793103451, 0.6250000000000002, 0.7142857142857145, 0.7894736842105265, 0.853658536585366, 0.9090909090909092, 0.9574468085106381, 1.0000000000000002, 1.0377358490566035, 1.0714285714285714, 1.1016949152542372, 1.129032258064516, 1.1538461538461537, 1.1764705882352942, 1.1971830985915495, 1.2162162162162165, 1.2337662337662332]}, {\"mode\": \"lines\", \"name\": \"0.65\", \"type\": \"scatter\", \"x\": [0.05, 0.1, 0.15, 0.2, 0.25, 0.3, 0.35, 0.4, 0.45, 0.5, 0.55, 0.6, 0.65, 0.7, 0.75, 0.8, 0.85, 0.9, 0.95], \"y\": [0.24096385542168702, 0.4166666666666671, 0.5504587155963305, 0.6557377049180333, 0.7407407407407408, 0.8108108108108109, 0.8695652173913044, 0.9195402298850573, 0.9625668449197858, 1.0, 1.0328638497652582, 1.061946902654867, 1.0878661087866106, 1.111111111111111, 1.132075471698113, 1.1510791366906472, 1.1683848797250855, 1.1842105263157887, 1.1987381703470028]}, {\"mode\": \"lines\", \"name\": \"0.7\", \"type\": \"scatter\", \"x\": [0.05, 0.1, 0.15, 0.2, 0.25, 0.3, 0.35, 0.4, 0.45, 0.5, 0.55, 0.6, 0.65, 0.7, 0.75, 0.8, 0.85, 0.9, 0.95], \"y\": [0.2702702702702707, 0.45454545454545503, 0.5882352941176475, 0.6896551724137937, 0.7692307692307695, 0.8333333333333335, 0.8860759493670888, 0.9302325581395348, 0.9677419354838707, 1.0, 1.0280373831775702, 1.0526315789473681, 1.0743801652892562, 1.09375, 1.1111111111111107, 1.1267605633802815, 1.1409395973154361, 1.153846153846153, 1.1656441717791408]}, {\"mode\": \"lines\", \"name\": \"0.75\", \"type\": \"scatter\", \"x\": [0.05, 0.1, 0.15, 0.2, 0.25, 0.3, 0.35, 0.4, 0.45, 0.5, 0.55, 0.6, 0.65, 0.7, 0.75, 0.8, 0.85, 0.9, 0.95], \"y\": [0.3076923076923081, 0.5000000000000004, 0.6315789473684216, 0.7272727272727275, 0.8000000000000003, 0.8571428571428577, 0.9032258064516131, 0.9411764705882353, 0.9729729729729732, 1.0000000000000002, 1.0232558139534882, 1.0434782608695654, 1.0612244897959184, 1.0769230769230766, 1.0909090909090904, 1.103448275862069, 1.1147540983606554, 1.1249999999999996, 1.1343283582089545]}, {\"mode\": \"lines\", \"name\": \"0.8\", \"type\": \"scatter\", \"x\": [0.05, 0.1, 0.15, 0.2, 0.25, 0.3, 0.35, 0.4, 0.45, 0.5, 0.55, 0.6, 0.65, 0.7, 0.75, 0.8, 0.85, 0.9, 0.95], \"y\": [0.35714285714285776, 0.5555555555555561, 0.6818181818181825, 0.7692307692307695, 0.8333333333333338, 0.8823529411764711, 0.9210526315789476, 0.9523809523809523, 0.9782608695652177, 1.0000000000000002, 1.0185185185185184, 1.0344827586206897, 1.048387096774193, 1.0606060606060603, 1.0714285714285714, 1.0810810810810814, 1.089743589743589, 1.0975609756097555, 1.1046511627906974]}, {\"mode\": \"lines\", \"name\": \"0.85\", \"type\": \"scatter\", \"x\": [0.05, 0.1, 0.15, 0.2, 0.25, 0.3, 0.35, 0.4, 0.45, 0.5, 0.55, 0.6, 0.65, 0.7, 0.75, 0.8, 0.85, 0.9, 0.95], \"y\": [0.4255319148936179, 0.6250000000000008, 0.7407407407407417, 0.8163265306122451, 0.8695652173913048, 0.9090909090909098, 0.9395973154362418, 0.9638554216867468, 0.9836065573770496, 1.0000000000000002, 1.0138248847926266, 1.025641025641026, 1.035856573705179, 1.0447761194029848, 1.0526315789473675, 1.0596026490066226, 1.0658307210031348, 1.071428571428571, 1.0764872521246456]}, {\"mode\": \"lines\", \"name\": \"0.9\", \"type\": \"scatter\", \"x\": [0.05, 0.1, 0.15, 0.2, 0.25, 0.3, 0.35, 0.4, 0.45, 0.5, 0.55, 0.6, 0.65, 0.7, 0.75, 0.8, 0.85, 0.9, 0.95], \"y\": [0.5263157894736856, 0.7142857142857153, 0.8108108108108121, 0.8695652173913047, 0.9090909090909097, 0.9375000000000008, 0.9589041095890414, 0.9756097560975607, 0.9890109890109896, 1.0000000000000002, 1.0091743119266052, 1.016949152542373, 1.0236220472440936, 1.029411764705882, 1.0344827586206897, 1.0389610389610395, 1.0429447852760731, 1.0465116279069766, 1.0497237569060776]}, {\"mode\": \"lines\", \"name\": \"0.95\", \"type\": \"scatter\", \"x\": [0.05, 0.1, 0.15, 0.2, 0.25, 0.3, 0.35, 0.4, 0.45, 0.5, 0.55, 0.6, 0.65, 0.7, 0.75, 0.8, 0.85, 0.9, 0.95], \"y\": [0.6896551724137955, 0.8333333333333344, 0.8955223880597035, 0.9302325581395348, 0.952380952380953, 0.9677419354838723, 0.9790209790209792, 0.9876543209876535, 0.9944751381215481, 1.0000000000000002, 1.0045662100456638, 1.0084033613445387, 1.011673151750973, 1.014492753623188, 1.016949152542372, 1.0191082802547755, 1.0210210210210218, 1.022727272727273, 1.0242587601078164]}],                        {\"template\": {\"data\": {\"bar\": [{\"error_x\": {\"color\": \"#2a3f5f\"}, \"error_y\": {\"color\": \"#2a3f5f\"}, \"marker\": {\"line\": {\"color\": \"#E5ECF6\", \"width\": 0.5}}, \"type\": \"bar\"}], \"barpolar\": [{\"marker\": {\"line\": {\"color\": \"#E5ECF6\", \"width\": 0.5}}, \"type\": \"barpolar\"}], \"carpet\": [{\"aaxis\": {\"endlinecolor\": \"#2a3f5f\", \"gridcolor\": \"white\", \"linecolor\": \"white\", \"minorgridcolor\": \"white\", \"startlinecolor\": \"#2a3f5f\"}, \"baxis\": {\"endlinecolor\": \"#2a3f5f\", \"gridcolor\": \"white\", \"linecolor\": \"white\", \"minorgridcolor\": \"white\", \"startlinecolor\": \"#2a3f5f\"}, \"type\": \"carpet\"}], \"choropleth\": [{\"colorbar\": {\"outlinewidth\": 0, \"ticks\": \"\"}, \"type\": \"choropleth\"}], \"contour\": [{\"colorbar\": {\"outlinewidth\": 0, \"ticks\": \"\"}, \"colorscale\": [[0.0, \"#0d0887\"], [0.1111111111111111, \"#46039f\"], [0.2222222222222222, \"#7201a8\"], [0.3333333333333333, \"#9c179e\"], [0.4444444444444444, \"#bd3786\"], [0.5555555555555556, \"#d8576b\"], [0.6666666666666666, \"#ed7953\"], [0.7777777777777778, \"#fb9f3a\"], [0.8888888888888888, \"#fdca26\"], [1.0, \"#f0f921\"]], \"type\": \"contour\"}], \"contourcarpet\": [{\"colorbar\": {\"outlinewidth\": 0, \"ticks\": \"\"}, \"type\": \"contourcarpet\"}], \"heatmap\": [{\"colorbar\": {\"outlinewidth\": 0, \"ticks\": \"\"}, \"colorscale\": [[0.0, \"#0d0887\"], [0.1111111111111111, \"#46039f\"], [0.2222222222222222, \"#7201a8\"], [0.3333333333333333, \"#9c179e\"], [0.4444444444444444, \"#bd3786\"], [0.5555555555555556, \"#d8576b\"], [0.6666666666666666, \"#ed7953\"], [0.7777777777777778, \"#fb9f3a\"], [0.8888888888888888, \"#fdca26\"], [1.0, \"#f0f921\"]], \"type\": \"heatmap\"}], \"heatmapgl\": [{\"colorbar\": {\"outlinewidth\": 0, \"ticks\": \"\"}, \"colorscale\": [[0.0, \"#0d0887\"], [0.1111111111111111, \"#46039f\"], [0.2222222222222222, \"#7201a8\"], [0.3333333333333333, \"#9c179e\"], [0.4444444444444444, \"#bd3786\"], [0.5555555555555556, \"#d8576b\"], [0.6666666666666666, \"#ed7953\"], [0.7777777777777778, \"#fb9f3a\"], [0.8888888888888888, \"#fdca26\"], [1.0, \"#f0f921\"]], \"type\": \"heatmapgl\"}], \"histogram\": [{\"marker\": {\"colorbar\": {\"outlinewidth\": 0, \"ticks\": \"\"}}, \"type\": \"histogram\"}], \"histogram2d\": [{\"colorbar\": {\"outlinewidth\": 0, \"ticks\": \"\"}, \"colorscale\": [[0.0, \"#0d0887\"], [0.1111111111111111, \"#46039f\"], [0.2222222222222222, \"#7201a8\"], [0.3333333333333333, \"#9c179e\"], [0.4444444444444444, \"#bd3786\"], [0.5555555555555556, \"#d8576b\"], [0.6666666666666666, \"#ed7953\"], [0.7777777777777778, \"#fb9f3a\"], [0.8888888888888888, \"#fdca26\"], [1.0, \"#f0f921\"]], \"type\": \"histogram2d\"}], \"histogram2dcontour\": [{\"colorbar\": {\"outlinewidth\": 0, \"ticks\": \"\"}, \"colorscale\": [[0.0, \"#0d0887\"], [0.1111111111111111, \"#46039f\"], [0.2222222222222222, \"#7201a8\"], [0.3333333333333333, \"#9c179e\"], [0.4444444444444444, \"#bd3786\"], [0.5555555555555556, \"#d8576b\"], [0.6666666666666666, \"#ed7953\"], [0.7777777777777778, \"#fb9f3a\"], [0.8888888888888888, \"#fdca26\"], [1.0, \"#f0f921\"]], \"type\": \"histogram2dcontour\"}], \"mesh3d\": [{\"colorbar\": {\"outlinewidth\": 0, \"ticks\": \"\"}, \"type\": \"mesh3d\"}], \"parcoords\": [{\"line\": {\"colorbar\": {\"outlinewidth\": 0, \"ticks\": \"\"}}, \"type\": \"parcoords\"}], \"pie\": [{\"automargin\": true, \"type\": \"pie\"}], \"scatter\": [{\"marker\": {\"colorbar\": {\"outlinewidth\": 0, \"ticks\": \"\"}}, \"type\": \"scatter\"}], \"scatter3d\": [{\"line\": {\"colorbar\": {\"outlinewidth\": 0, \"ticks\": \"\"}}, \"marker\": {\"colorbar\": {\"outlinewidth\": 0, \"ticks\": \"\"}}, \"type\": \"scatter3d\"}], \"scattercarpet\": [{\"marker\": {\"colorbar\": {\"outlinewidth\": 0, \"ticks\": \"\"}}, \"type\": \"scattercarpet\"}], \"scattergeo\": [{\"marker\": {\"colorbar\": {\"outlinewidth\": 0, \"ticks\": \"\"}}, \"type\": \"scattergeo\"}], \"scattergl\": [{\"marker\": {\"colorbar\": {\"outlinewidth\": 0, \"ticks\": \"\"}}, \"type\": \"scattergl\"}], \"scattermapbox\": [{\"marker\": {\"colorbar\": {\"outlinewidth\": 0, \"ticks\": \"\"}}, \"type\": \"scattermapbox\"}], \"scatterpolar\": [{\"marker\": {\"colorbar\": {\"outlinewidth\": 0, \"ticks\": \"\"}}, \"type\": \"scatterpolar\"}], \"scatterpolargl\": [{\"marker\": {\"colorbar\": {\"outlinewidth\": 0, \"ticks\": \"\"}}, \"type\": \"scatterpolargl\"}], \"scatterternary\": [{\"marker\": {\"colorbar\": {\"outlinewidth\": 0, \"ticks\": \"\"}}, \"type\": \"scatterternary\"}], \"surface\": [{\"colorbar\": {\"outlinewidth\": 0, \"ticks\": \"\"}, \"colorscale\": [[0.0, \"#0d0887\"], [0.1111111111111111, \"#46039f\"], [0.2222222222222222, \"#7201a8\"], [0.3333333333333333, \"#9c179e\"], [0.4444444444444444, \"#bd3786\"], [0.5555555555555556, \"#d8576b\"], [0.6666666666666666, \"#ed7953\"], [0.7777777777777778, \"#fb9f3a\"], [0.8888888888888888, \"#fdca26\"], [1.0, \"#f0f921\"]], \"type\": \"surface\"}], \"table\": [{\"cells\": {\"fill\": {\"color\": \"#EBF0F8\"}, \"line\": {\"color\": \"white\"}}, \"header\": {\"fill\": {\"color\": \"#C8D4E3\"}, \"line\": {\"color\": \"white\"}}, \"type\": \"table\"}]}, \"layout\": {\"annotationdefaults\": {\"arrowcolor\": \"#2a3f5f\", \"arrowhead\": 0, \"arrowwidth\": 1}, \"autotypenumbers\": \"strict\", \"coloraxis\": {\"colorbar\": {\"outlinewidth\": 0, \"ticks\": \"\"}}, \"colorscale\": {\"diverging\": [[0, \"#8e0152\"], [0.1, \"#c51b7d\"], [0.2, \"#de77ae\"], [0.3, \"#f1b6da\"], [0.4, \"#fde0ef\"], [0.5, \"#f7f7f7\"], [0.6, \"#e6f5d0\"], [0.7, \"#b8e186\"], [0.8, \"#7fbc41\"], [0.9, \"#4d9221\"], [1, \"#276419\"]], \"sequential\": [[0.0, \"#0d0887\"], [0.1111111111111111, \"#46039f\"], [0.2222222222222222, \"#7201a8\"], [0.3333333333333333, \"#9c179e\"], [0.4444444444444444, \"#bd3786\"], [0.5555555555555556, \"#d8576b\"], [0.6666666666666666, \"#ed7953\"], [0.7777777777777778, \"#fb9f3a\"], [0.8888888888888888, \"#fdca26\"], [1.0, \"#f0f921\"]], \"sequentialminus\": [[0.0, \"#0d0887\"], [0.1111111111111111, \"#46039f\"], [0.2222222222222222, \"#7201a8\"], [0.3333333333333333, \"#9c179e\"], [0.4444444444444444, \"#bd3786\"], [0.5555555555555556, \"#d8576b\"], [0.6666666666666666, \"#ed7953\"], [0.7777777777777778, \"#fb9f3a\"], [0.8888888888888888, \"#fdca26\"], [1.0, \"#f0f921\"]]}, \"colorway\": [\"#636efa\", \"#EF553B\", \"#00cc96\", \"#ab63fa\", \"#FFA15A\", \"#19d3f3\", \"#FF6692\", \"#B6E880\", \"#FF97FF\", \"#FECB52\"], \"font\": {\"color\": \"#2a3f5f\"}, \"geo\": {\"bgcolor\": \"white\", \"lakecolor\": \"white\", \"landcolor\": \"#E5ECF6\", \"showlakes\": true, \"showland\": true, \"subunitcolor\": \"white\"}, \"hoverlabel\": {\"align\": \"left\"}, \"hovermode\": \"closest\", \"mapbox\": {\"style\": \"light\"}, \"paper_bgcolor\": \"white\", \"plot_bgcolor\": \"#E5ECF6\", \"polar\": {\"angularaxis\": {\"gridcolor\": \"white\", \"linecolor\": \"white\", \"ticks\": \"\"}, \"bgcolor\": \"#E5ECF6\", \"radialaxis\": {\"gridcolor\": \"white\", \"linecolor\": \"white\", \"ticks\": \"\"}}, \"scene\": {\"xaxis\": {\"backgroundcolor\": \"#E5ECF6\", \"gridcolor\": \"white\", \"gridwidth\": 2, \"linecolor\": \"white\", \"showbackground\": true, \"ticks\": \"\", \"zerolinecolor\": \"white\"}, \"yaxis\": {\"backgroundcolor\": \"#E5ECF6\", \"gridcolor\": \"white\", \"gridwidth\": 2, \"linecolor\": \"white\", \"showbackground\": true, \"ticks\": \"\", \"zerolinecolor\": \"white\"}, \"zaxis\": {\"backgroundcolor\": \"#E5ECF6\", \"gridcolor\": \"white\", \"gridwidth\": 2, \"linecolor\": \"white\", \"showbackground\": true, \"ticks\": \"\", \"zerolinecolor\": \"white\"}}, \"shapedefaults\": {\"line\": {\"color\": \"#2a3f5f\"}}, \"ternary\": {\"aaxis\": {\"gridcolor\": \"white\", \"linecolor\": \"white\", \"ticks\": \"\"}, \"baxis\": {\"gridcolor\": \"white\", \"linecolor\": \"white\", \"ticks\": \"\"}, \"bgcolor\": \"#E5ECF6\", \"caxis\": {\"gridcolor\": \"white\", \"linecolor\": \"white\", \"ticks\": \"\"}}, \"title\": {\"x\": 0.05}, \"xaxis\": {\"automargin\": true, \"gridcolor\": \"white\", \"linecolor\": \"white\", \"ticks\": \"\", \"title\": {\"standoff\": 15}, \"zerolinecolor\": \"white\", \"zerolinewidth\": 2}, \"yaxis\": {\"automargin\": true, \"gridcolor\": \"white\", \"linecolor\": \"white\", \"ticks\": \"\", \"title\": {\"standoff\": 15}, \"zerolinecolor\": \"white\", \"zerolinewidth\": 2}}}, \"title\": {\"text\": \"Valores de custo para cada mudan\\u00e7a na probabilidade de atingir a meta\"}, \"xaxis\": {\"title\": {\"text\": \"Probabilidade (p')\"}}, \"yaxis\": {\"title\": {\"text\": \"Custo (c')\"}}},                        {\"responsive\": true}                    ).then(function(){\n",
       "                            \n",
       "var gd = document.getElementById('5759a7d4-70bf-46b7-bed2-f4edf45d0779');\n",
       "var x = new MutationObserver(function (mutations, observer) {{\n",
       "        var display = window.getComputedStyle(gd).display;\n",
       "        if (!display || display === 'none') {{\n",
       "            console.log([gd, 'removed!']);\n",
       "            Plotly.purge(gd);\n",
       "            observer.disconnect();\n",
       "        }}\n",
       "}});\n",
       "\n",
       "// Listen for the removal of the full notebook cells\n",
       "var notebookContainer = gd.closest('#notebook-container');\n",
       "if (notebookContainer) {{\n",
       "    x.observe(notebookContainer, {childList: true});\n",
       "}}\n",
       "\n",
       "// Listen for the clearing of the current output cell\n",
       "var outputEl = gd.closest('.output');\n",
       "if (outputEl) {{\n",
       "    x.observe(outputEl, {childList: true});\n",
       "}}\n",
       "\n",
       "                        })                };                });            </script>        </div>"
      ]
     },
     "metadata": {},
     "output_type": "display_data"
    },
    {
     "data": {
      "application/vnd.plotly.v1+json": {
       "config": {
        "plotlyServerURL": "https://plot.ly"
       },
       "data": [
        {
         "line": {
          "color": "rgb(200.0, 200.0, 200.0)"
         },
         "mode": "lines",
         "name": "-0.95",
         "type": "scatter",
         "x": [
          0.05,
          0.1,
          0.15,
          0.2,
          0.25,
          0.3,
          0.35,
          0.4,
          0.45,
          0.5,
          0.55,
          0.6,
          0.65,
          0.7,
          0.75,
          0.8,
          0.85,
          0.9,
          0.95
         ],
         "y": [
          0.05390835579514826,
          0.11363636363636366,
          0.18018018018018023,
          0.2547770700636943,
          0.3389830508474576,
          0.4347826086956523,
          0.5447470817120622,
          0.6722689075630253,
          0.8219178082191779,
          1,
          1.2154696132596683,
          1.4814814814814816,
          1.8181818181818183,
          2.2580645161290334,
          2.857142857142858,
          3.720930232558143,
          5.074626865671647,
          7.500000000000016,
          13.103448275862114
         ]
        },
        {
         "line": {
          "color": "rgb(201.4102564102564, 201.4102564102564, 201.4102564102564)"
         },
         "mode": "lines",
         "name": "-0.9",
         "type": "scatter",
         "x": [
          0.05,
          0.1,
          0.15,
          0.2,
          0.25,
          0.3,
          0.35,
          0.4,
          0.45,
          0.5,
          0.55,
          0.6,
          0.65,
          0.7,
          0.75,
          0.8,
          0.85,
          0.9,
          0.95
         ],
         "y": [
          0.05524861878453038,
          0.11627906976744186,
          0.18404907975460122,
          0.2597402597402597,
          0.3448275862068965,
          0.4411764705882352,
          0.5511811023622046,
          0.677966101694915,
          0.8256880733944951,
          0.9999999999999998,
          1.2087912087912085,
          1.463414634146341,
          1.780821917808219,
          2.1875,
          2.7272727272727284,
          3.4782608695652195,
          4.594594594594599,
          6.4285714285714395,
          10.000000000000028
         ]
        },
        {
         "line": {
          "color": "rgb(202.82051282051282, 202.82051282051282, 202.82051282051282)"
         },
         "mode": "lines",
         "name": "-0.85",
         "type": "scatter",
         "x": [
          0.05,
          0.1,
          0.15,
          0.2,
          0.25,
          0.3,
          0.35,
          0.4,
          0.45,
          0.5,
          0.55,
          0.6,
          0.65,
          0.7,
          0.75,
          0.8,
          0.85,
          0.9,
          0.95
         ],
         "y": [
          0.056657223796034,
          0.11904761904761905,
          0.1880877742946709,
          0.2649006622516557,
          0.3508771929824562,
          0.44776119402985076,
          0.5577689243027889,
          0.6837606837606838,
          0.8294930875576035,
          0.9999999999999999,
          1.2021857923497263,
          1.4457831325301203,
          1.7449664429530198,
          2.1212121212121215,
          2.6086956521739135,
          3.265306122448982,
          4.1975308641975335,
          5.625000000000009,
          8.085106382978736
         ]
        },
        {
         "line": {
          "color": "rgb(204.23076923076923, 204.23076923076923, 204.23076923076923)"
         },
         "mode": "lines",
         "name": "-0.8",
         "type": "scatter",
         "x": [
          0.05,
          0.1,
          0.15,
          0.2,
          0.25,
          0.3,
          0.35,
          0.4,
          0.45,
          0.5,
          0.55,
          0.6,
          0.65,
          0.7,
          0.75,
          0.8,
          0.85,
          0.9,
          0.95
         ],
         "y": [
          0.05813953488372094,
          0.12195121951219513,
          0.19230769230769235,
          0.2702702702702703,
          0.35714285714285715,
          0.4545454545454546,
          0.564516129032258,
          0.6896551724137929,
          0.8333333333333331,
          0.9999999999999998,
          1.1956521739130432,
          1.4285714285714284,
          1.7105263157894737,
          2.058823529411765,
          2.500000000000001,
          3.076923076923079,
          3.863636363636367,
          5.000000000000006,
          6.785714285714293
         ]
        },
        {
         "line": {
          "color": "rgb(205.64102564102564, 205.64102564102564, 205.64102564102564)"
         },
         "mode": "lines",
         "name": "-0.75",
         "type": "scatter",
         "x": [
          0.05,
          0.1,
          0.15,
          0.2,
          0.25,
          0.3,
          0.35,
          0.4,
          0.45,
          0.5,
          0.55,
          0.6,
          0.65,
          0.7,
          0.75,
          0.8,
          0.85,
          0.9,
          0.95
         ],
         "y": [
          0.059701492537313446,
          0.12500000000000003,
          0.1967213114754099,
          0.2758620689655173,
          0.36363636363636365,
          0.46153846153846156,
          0.5714285714285713,
          0.6956521739130435,
          0.8372093023255813,
          0.9999999999999999,
          1.1891891891891888,
          1.4117647058823528,
          1.6774193548387097,
          2.0000000000000004,
          2.4000000000000004,
          2.9090909090909105,
          3.578947368421055,
          4.500000000000003,
          5.846153846153853
         ]
        },
        {
         "line": {
          "color": "rgb(207.05128205128204, 207.05128205128204, 207.05128205128204)"
         },
         "mode": "lines",
         "name": "-0.7",
         "type": "scatter",
         "x": [
          0.05,
          0.1,
          0.15,
          0.2,
          0.25,
          0.3,
          0.35,
          0.4,
          0.45,
          0.5,
          0.55,
          0.6,
          0.65,
          0.7,
          0.75,
          0.8,
          0.85,
          0.9,
          0.95
         ],
         "y": [
          0.061349693251533756,
          0.12820512820512825,
          0.2013422818791947,
          0.2816901408450705,
          0.3703703703703704,
          0.46875000000000006,
          0.5785123966942148,
          0.7017543859649121,
          0.8411214953271027,
          0.9999999999999999,
          1.1827956989247308,
          1.3953488372093021,
          1.6455696202531649,
          1.944444444444445,
          2.3076923076923084,
          2.758620689655174,
          3.333333333333334,
          4.090909090909093,
          5.135135135135139
         ]
        },
        {
         "line": {
          "color": "rgb(208.46153846153845, 208.46153846153845, 208.46153846153845)"
         },
         "mode": "lines",
         "name": "-0.65",
         "type": "scatter",
         "x": [
          0.05,
          0.1,
          0.15,
          0.2,
          0.25,
          0.3,
          0.35,
          0.4,
          0.45,
          0.5,
          0.55,
          0.6,
          0.65,
          0.7,
          0.75,
          0.8,
          0.85,
          0.9,
          0.95
         ],
         "y": [
          0.06309148264984228,
          0.13157894736842107,
          0.20618556701030935,
          0.28776978417266197,
          0.3773584905660378,
          0.4761904761904763,
          0.5857740585774059,
          0.7079646017699115,
          0.8450704225352111,
          0.9999999999999999,
          1.1764705882352937,
          1.379310344827586,
          1.6149068322981366,
          1.891891891891892,
          2.222222222222222,
          2.6229508196721323,
          3.119266055045873,
          3.7500000000000013,
          4.578313253012052
         ]
        },
        {
         "line": {
          "color": "rgb(209.87179487179486, 209.87179487179486, 209.87179487179486)"
         },
         "mode": "lines",
         "name": "-0.6",
         "type": "scatter",
         "x": [
          0.05,
          0.1,
          0.15,
          0.2,
          0.25,
          0.3,
          0.35,
          0.4,
          0.45,
          0.5,
          0.55,
          0.6,
          0.65,
          0.7,
          0.75,
          0.8,
          0.85,
          0.9,
          0.95
         ],
         "y": [
          0.06493506493506496,
          0.13513513513513517,
          0.2112676056338029,
          0.2941176470588236,
          0.3846153846153847,
          0.48387096774193555,
          0.5932203389830508,
          0.7142857142857142,
          0.8490566037735847,
          0.9999999999999998,
          1.1702127659574464,
          1.3636363636363633,
          1.5853658536585364,
          1.842105263157895,
          2.142857142857143,
          2.5000000000000004,
          2.9310344827586206,
          3.461538461538462,
          4.130434782608697
         ]
        },
        {
         "line": {
          "color": "rgb(211.28205128205127, 211.28205128205127, 211.28205128205127)"
         },
         "mode": "lines",
         "name": "-0.55",
         "type": "scatter",
         "x": [
          0.05,
          0.1,
          0.15,
          0.2,
          0.25,
          0.3,
          0.35,
          0.4,
          0.45,
          0.5,
          0.55,
          0.6,
          0.65,
          0.7,
          0.75,
          0.8,
          0.85,
          0.9,
          0.95
         ],
         "y": [
          0.06688963210702344,
          0.13888888888888895,
          0.21660649819494596,
          0.30075187969924827,
          0.3921568627450981,
          0.4918032786885247,
          0.6008583690987124,
          0.7207207207207207,
          0.8530805687203792,
          0.9999999999999999,
          1.1640211640211637,
          1.3483146067415728,
          1.5568862275449105,
          1.7948717948717947,
          2.0689655172413794,
          2.388059701492538,
          2.764227642276423,
          3.214285714285715,
          3.762376237623763
         ]
        },
        {
         "line": {
          "color": "rgb(212.69230769230768, 212.69230769230768, 212.69230769230768)"
         },
         "mode": "lines",
         "name": "-0.5",
         "type": "scatter",
         "x": [
          0.05,
          0.1,
          0.15,
          0.2,
          0.25,
          0.3,
          0.35,
          0.4,
          0.45,
          0.5,
          0.55,
          0.6,
          0.65,
          0.7,
          0.75,
          0.8,
          0.85,
          0.9,
          0.95
         ],
         "y": [
          0.06896551724137932,
          0.1428571428571429,
          0.22222222222222232,
          0.30769230769230776,
          0.4000000000000001,
          0.5000000000000001,
          0.6086956521739131,
          0.7272727272727272,
          0.8571428571428571,
          1,
          1.1578947368421049,
          1.333333333333333,
          1.5294117647058822,
          1.75,
          2.0000000000000004,
          2.2857142857142856,
          2.6153846153846154,
          3.000000000000001,
          3.4545454545454555
         ]
        },
        {
         "line": {
          "color": "rgb(214.10256410256412, 214.10256410256412, 214.10256410256412)"
         },
         "mode": "lines",
         "name": "-0.45",
         "type": "scatter",
         "x": [
          0.05,
          0.1,
          0.15,
          0.2,
          0.25,
          0.3,
          0.35,
          0.4,
          0.45,
          0.5,
          0.55,
          0.6,
          0.65,
          0.7,
          0.75,
          0.8,
          0.85,
          0.9,
          0.95
         ],
         "y": [
          0.07117437722419931,
          0.1470588235294118,
          0.22813688212927766,
          0.3149606299212599,
          0.4081632653061225,
          0.5084745762711863,
          0.616740088105727,
          0.7339449541284404,
          0.8612440191387559,
          0.9999999999999999,
          1.1518324607329842,
          1.3186813186813182,
          1.5028901734104045,
          1.7073170731707317,
          1.935483870967742,
          2.1917808219178085,
          2.4817518248175188,
          2.8125,
          3.19327731092437
         ]
        },
        {
         "line": {
          "color": "rgb(215.51282051282053, 215.51282051282053, 215.51282051282053)"
         },
         "mode": "lines",
         "name": "-0.4",
         "type": "scatter",
         "x": [
          0.05,
          0.1,
          0.15,
          0.2,
          0.25,
          0.3,
          0.35,
          0.4,
          0.45,
          0.5,
          0.55,
          0.6,
          0.65,
          0.7,
          0.75,
          0.8,
          0.85,
          0.9,
          0.95
         ],
         "y": [
          0.0735294117647059,
          0.15151515151515152,
          0.23437500000000003,
          0.32258064516129037,
          0.41666666666666674,
          0.5172413793103449,
          0.625,
          0.7407407407407406,
          0.8653846153846152,
          0.9999999999999998,
          1.1458333333333328,
          1.3043478260869563,
          1.477272727272727,
          1.6666666666666663,
          1.875,
          2.1052631578947367,
          2.3611111111111107,
          2.6470588235294117,
          2.96875
         ]
        },
        {
         "line": {
          "color": "rgb(216.92307692307693, 216.92307692307693, 216.92307692307693)"
         },
         "mode": "lines",
         "name": "-0.35",
         "type": "scatter",
         "x": [
          0.05,
          0.1,
          0.15,
          0.2,
          0.25,
          0.3,
          0.35,
          0.4,
          0.45,
          0.5,
          0.55,
          0.6,
          0.65,
          0.7,
          0.75,
          0.8,
          0.85,
          0.9,
          0.95
         ],
         "y": [
          0.07604562737642588,
          0.15625000000000003,
          0.24096385542168686,
          0.3305785123966943,
          0.4255319148936171,
          0.5263157894736842,
          0.6334841628959276,
          0.7476635514018692,
          0.8695652173913043,
          0.9999999999999998,
          1.1398963730569946,
          1.290322580645161,
          1.452513966480447,
          1.627906976744186,
          1.8181818181818183,
          2.0253164556962022,
          2.2516556291390732,
          2.5000000000000004,
          2.773722627737226
         ]
        },
        {
         "line": {
          "color": "rgb(218.33333333333334, 218.33333333333334, 218.33333333333334)"
         },
         "mode": "lines",
         "name": "-0.3",
         "type": "scatter",
         "x": [
          0.05,
          0.1,
          0.15,
          0.2,
          0.25,
          0.3,
          0.35,
          0.4,
          0.45,
          0.5,
          0.55,
          0.6,
          0.65,
          0.7,
          0.75,
          0.8,
          0.85,
          0.9,
          0.95
         ],
         "y": [
          0.078740157480315,
          0.1612903225806452,
          0.24793388429752075,
          0.3389830508474578,
          0.4347826086956522,
          0.5357142857142858,
          0.6422018348623854,
          0.7547169811320754,
          0.8737864077669902,
          0.9999999999999999,
          1.134020618556701,
          1.2765957446808511,
          1.4285714285714284,
          1.5909090909090908,
          1.7647058823529413,
          1.9512195121951224,
          2.151898734177216,
          2.3684210526315788,
          2.6027397260273974
         ]
        },
        {
         "line": {
          "color": "rgb(219.74358974358975, 219.74358974358975, 219.74358974358975)"
         },
         "mode": "lines",
         "name": "-0.25",
         "type": "scatter",
         "x": [
          0.05,
          0.1,
          0.15,
          0.2,
          0.25,
          0.3,
          0.35,
          0.4,
          0.45,
          0.5,
          0.55,
          0.6,
          0.65,
          0.7,
          0.75,
          0.8,
          0.85,
          0.9,
          0.95
         ],
         "y": [
          0.08163265306122452,
          0.1666666666666667,
          0.2553191489361703,
          0.3478260869565218,
          0.44444444444444453,
          0.5454545454545455,
          0.6511627906976745,
          0.7619047619047619,
          0.8780487804878049,
          1,
          1.1282051282051282,
          1.263157894736842,
          1.4054054054054055,
          1.5555555555555558,
          1.7142857142857144,
          1.8823529411764708,
          2.060606060606061,
          2.2500000000000004,
          2.451612903225807
         ]
        },
        {
         "line": {
          "color": "rgb(221.15384615384616, 221.15384615384616, 221.15384615384616)"
         },
         "mode": "lines",
         "name": "-0.2",
         "type": "scatter",
         "x": [
          0.05,
          0.1,
          0.15,
          0.2,
          0.25,
          0.3,
          0.35,
          0.4,
          0.45,
          0.5,
          0.55,
          0.6,
          0.65,
          0.7,
          0.75,
          0.8,
          0.85,
          0.9,
          0.95
         ],
         "y": [
          0.08474576271186442,
          0.17241379310344832,
          0.2631578947368422,
          0.35714285714285715,
          0.4545454545454546,
          0.5555555555555555,
          0.6603773584905661,
          0.769230769230769,
          0.8823529411764703,
          0.9999999999999998,
          1.1224489795918362,
          1.2499999999999996,
          1.382978723404255,
          1.5217391304347823,
          1.6666666666666667,
          1.8181818181818183,
          1.9767441860465118,
          2.1428571428571432,
          2.3170731707317076
         ]
        },
        {
         "line": {
          "color": "rgb(222.56410256410257, 222.56410256410257, 222.56410256410257)"
         },
         "mode": "lines",
         "name": "-0.15",
         "type": "scatter",
         "x": [
          0.05,
          0.1,
          0.15,
          0.2,
          0.25,
          0.3,
          0.35,
          0.4,
          0.45,
          0.5,
          0.55,
          0.6,
          0.65,
          0.7,
          0.75,
          0.8,
          0.85,
          0.9,
          0.95
         ],
         "y": [
          0.08810572687224671,
          0.17857142857142863,
          0.27149321266968335,
          0.36697247706422026,
          0.46511627906976755,
          0.5660377358490567,
          0.6698564593301436,
          0.7766990291262135,
          0.8866995073891626,
          0.9999999999999998,
          1.1167512690355328,
          1.2371134020618555,
          1.3612565445026177,
          1.4893617021276593,
          1.6216216216216215,
          1.7582417582417582,
          1.8994413407821227,
          2.0454545454545454,
          2.1965317919075145
         ]
        },
        {
         "line": {
          "color": "rgb(223.97435897435898, 223.97435897435898, 223.97435897435898)"
         },
         "mode": "lines",
         "name": "-0.1",
         "type": "scatter",
         "x": [
          0.05,
          0.1,
          0.15,
          0.2,
          0.25,
          0.3,
          0.35,
          0.4,
          0.45,
          0.5,
          0.55,
          0.6,
          0.65,
          0.7,
          0.75,
          0.8,
          0.85,
          0.9,
          0.95
         ],
         "y": [
          0.09174311926605508,
          0.18518518518518523,
          0.280373831775701,
          0.3773584905660378,
          0.4761904761904763,
          0.576923076923077,
          0.6796116504854369,
          0.784313725490196,
          0.8910891089108911,
          1,
          1.111111111111111,
          1.2244897959183672,
          1.3402061855670104,
          1.4583333333333333,
          1.5789473684210527,
          1.702127659574468,
          1.827956989247312,
          1.956521739130435,
          2.087912087912088
         ]
        },
        {
         "line": {
          "color": "rgb(225.3846153846154, 225.3846153846154, 225.3846153846154)"
         },
         "mode": "lines",
         "name": "-0.05",
         "type": "scatter",
         "x": [
          0.05,
          0.1,
          0.15,
          0.2,
          0.25,
          0.3,
          0.35,
          0.4,
          0.45,
          0.5,
          0.55,
          0.6,
          0.65,
          0.7,
          0.75,
          0.8,
          0.85,
          0.9,
          0.95
         ],
         "y": [
          0.09569377990430625,
          0.19230769230769235,
          0.2898550724637683,
          0.3883495145631069,
          0.48780487804878053,
          0.5882352941176473,
          0.6896551724137933,
          0.792079207920792,
          0.8955223880597016,
          1,
          1.105527638190955,
          1.2121212121212122,
          1.3197969543147208,
          1.4285714285714288,
          1.5384615384615388,
          1.6494845360824741,
          1.7616580310880832,
          1.8750000000000004,
          1.9895287958115186
         ]
        },
        {
         "line": {
          "color": "rgb(226.7948717948718, 226.7948717948718, 226.7948717948718)"
         },
         "mode": "lines",
         "name": "0.0",
         "type": "scatter",
         "x": [
          0.05,
          0.1,
          0.15,
          0.2,
          0.25,
          0.3,
          0.35,
          0.4,
          0.45,
          0.5,
          0.55,
          0.6,
          0.65,
          0.7,
          0.75,
          0.8,
          0.85,
          0.9,
          0.95
         ],
         "y": [
          0.10000000000000005,
          0.2000000000000001,
          0.3000000000000001,
          0.4000000000000002,
          0.5000000000000001,
          0.6000000000000001,
          0.7000000000000002,
          0.8000000000000002,
          0.9,
          1,
          1.0999999999999999,
          1.2,
          1.3000000000000003,
          1.4000000000000001,
          1.5,
          1.6,
          1.7000000000000002,
          1.8000000000000003,
          1.9000000000000004
         ]
        },
        {
         "line": {
          "color": "rgb(228.2051282051282, 228.2051282051282, 228.2051282051282)"
         },
         "mode": "lines",
         "name": "0.05",
         "type": "scatter",
         "x": [
          0.05,
          0.1,
          0.15,
          0.2,
          0.25,
          0.3,
          0.35,
          0.4,
          0.45,
          0.5,
          0.55,
          0.6,
          0.65,
          0.7,
          0.75,
          0.8,
          0.85,
          0.9,
          0.95
         ],
         "y": [
          0.1047120418848168,
          0.2083333333333334,
          0.31088082901554415,
          0.4123711340206187,
          0.5128205128205129,
          0.6122448979591838,
          0.7106598984771574,
          0.8080808080808081,
          0.9045226130653266,
          1,
          1.0945273631840793,
          1.1881188118811883,
          1.2807881773399015,
          1.3725490196078431,
          1.4634146341463417,
          1.5533980582524272,
          1.6425120772946862,
          1.730769230769231,
          1.8181818181818181
         ]
        },
        {
         "line": {
          "color": "rgb(229.6153846153846, 229.6153846153846, 229.6153846153846)"
         },
         "mode": "lines",
         "name": "0.1",
         "type": "scatter",
         "x": [
          0.05,
          0.1,
          0.15,
          0.2,
          0.25,
          0.3,
          0.35,
          0.4,
          0.45,
          0.5,
          0.55,
          0.6,
          0.65,
          0.7,
          0.75,
          0.8,
          0.85,
          0.9,
          0.95
         ],
         "y": [
          0.10989010989010993,
          0.21739130434782616,
          0.32258064516129054,
          0.42553191489361714,
          0.5263157894736843,
          0.6250000000000002,
          0.7216494845360826,
          0.8163265306122448,
          0.9090909090909091,
          1,
          1.0891089108910892,
          1.1764705882352944,
          1.2621359223300974,
          1.3461538461538465,
          1.4285714285714284,
          1.5094339622641508,
          1.5887850467289721,
          1.666666666666667,
          1.743119266055046
         ]
        },
        {
         "line": {
          "color": "rgb(231.02564102564102, 231.02564102564102, 231.02564102564102)"
         },
         "mode": "lines",
         "name": "0.15",
         "type": "scatter",
         "x": [
          0.05,
          0.1,
          0.15,
          0.2,
          0.25,
          0.3,
          0.35,
          0.4,
          0.45,
          0.5,
          0.55,
          0.6,
          0.65,
          0.7,
          0.75,
          0.8,
          0.85,
          0.9,
          0.95
         ],
         "y": [
          0.11560693641618501,
          0.22727272727272735,
          0.33519553072625713,
          0.43956043956043966,
          0.5405405405405407,
          0.6382978723404256,
          0.7329842931937174,
          0.8247422680412372,
          0.9137055837563453,
          1,
          1.0837438423645318,
          1.1650485436893203,
          1.2440191387559807,
          1.3207547169811324,
          1.3953488372093024,
          1.4678899082568806,
          1.5384615384615385,
          1.6071428571428572,
          1.6740088105726871
         ]
        },
        {
         "line": {
          "color": "rgb(232.43589743589743, 232.43589743589743, 232.43589743589743)"
         },
         "mode": "lines",
         "name": "0.2",
         "type": "scatter",
         "x": [
          0.05,
          0.1,
          0.15,
          0.2,
          0.25,
          0.3,
          0.35,
          0.4,
          0.45,
          0.5,
          0.55,
          0.6,
          0.65,
          0.7,
          0.75,
          0.8,
          0.85,
          0.9,
          0.95
         ],
         "y": [
          0.12195121951219519,
          0.23809523809523822,
          0.3488372093023258,
          0.45454545454545475,
          0.5555555555555557,
          0.6521739130434784,
          0.7446808510638299,
          0.8333333333333334,
          0.9183673469387755,
          1,
          1.0784313725490196,
          1.1538461538461537,
          1.2264150943396228,
          1.2962962962962965,
          1.363636363636364,
          1.4285714285714286,
          1.4912280701754386,
          1.5517241379310347,
          1.6101694915254239
         ]
        },
        {
         "line": {
          "color": "rgb(233.84615384615384, 233.84615384615384, 233.84615384615384)"
         },
         "mode": "lines",
         "name": "0.25",
         "type": "scatter",
         "x": [
          0.05,
          0.1,
          0.15,
          0.2,
          0.25,
          0.3,
          0.35,
          0.4,
          0.45,
          0.5,
          0.55,
          0.6,
          0.65,
          0.7,
          0.75,
          0.8,
          0.85,
          0.9,
          0.95
         ],
         "y": [
          0.12903225806451618,
          0.2500000000000001,
          0.3636363636363638,
          0.47058823529411775,
          0.5714285714285716,
          0.6666666666666667,
          0.7567567567567567,
          0.8421052631578947,
          0.923076923076923,
          0.9999999999999999,
          1.0731707317073171,
          1.1428571428571428,
          1.2093023255813953,
          1.2727272727272727,
          1.333333333333333,
          1.3913043478260867,
          1.446808510638298,
          1.4999999999999998,
          1.551020408163265
         ]
        },
        {
         "line": {
          "color": "rgb(235.25641025641025, 235.25641025641025, 235.25641025641025)"
         },
         "mode": "lines",
         "name": "0.3",
         "type": "scatter",
         "x": [
          0.05,
          0.1,
          0.15,
          0.2,
          0.25,
          0.3,
          0.35,
          0.4,
          0.45,
          0.5,
          0.55,
          0.6,
          0.65,
          0.7,
          0.75,
          0.8,
          0.85,
          0.9,
          0.95
         ],
         "y": [
          0.13698630136986306,
          0.2631578947368422,
          0.37974683544303806,
          0.4878048780487806,
          0.5882352941176472,
          0.6818181818181819,
          0.7692307692307693,
          0.8510638297872339,
          0.9278350515463916,
          0.9999999999999998,
          1.0679611650485434,
          1.1320754716981132,
          1.1926605504587153,
          1.2499999999999998,
          1.304347826086956,
          1.3559322033898304,
          1.4049586776859502,
          1.451612903225806,
          1.4960629921259838
         ]
        },
        {
         "line": {
          "color": "rgb(236.66666666666669, 236.66666666666669, 236.66666666666669)"
         },
         "mode": "lines",
         "name": "0.35",
         "type": "scatter",
         "x": [
          0.05,
          0.1,
          0.15,
          0.2,
          0.25,
          0.3,
          0.35,
          0.4,
          0.45,
          0.5,
          0.55,
          0.6,
          0.65,
          0.7,
          0.75,
          0.8,
          0.85,
          0.9,
          0.95
         ],
         "y": [
          0.14598540145985409,
          0.2777777777777779,
          0.39735099337748364,
          0.5063291139240508,
          0.6060606060606062,
          0.6976744186046513,
          0.782122905027933,
          0.8602150537634409,
          0.9326424870466323,
          1,
          1.0628019323671498,
          1.1214953271028036,
          1.1764705882352942,
          1.2280701754385965,
          1.276595744680851,
          1.3223140495867765,
          1.3654618473895581,
          1.4062499999999998,
          1.4448669201520914
         ]
        },
        {
         "line": {
          "color": "rgb(238.0769230769231, 238.0769230769231, 238.0769230769231)"
         },
         "mode": "lines",
         "name": "0.4",
         "type": "scatter",
         "x": [
          0.05,
          0.1,
          0.15,
          0.2,
          0.25,
          0.3,
          0.35,
          0.4,
          0.45,
          0.5,
          0.55,
          0.6,
          0.65,
          0.7,
          0.75,
          0.8,
          0.85,
          0.9,
          0.95
         ],
         "y": [
          0.15625000000000008,
          0.29411764705882365,
          0.41666666666666685,
          0.5263157894736844,
          0.6250000000000001,
          0.7142857142857145,
          0.7954545454545455,
          0.8695652173913043,
          0.9375000000000001,
          1,
          1.0576923076923075,
          1.1111111111111112,
          1.1607142857142856,
          1.206896551724138,
          1.2500000000000002,
          1.2903225806451615,
          1.3281249999999996,
          1.3636363636363635,
          1.3970588235294117
         ]
        },
        {
         "line": {
          "color": "rgb(239.4871794871795, 239.4871794871795, 239.4871794871795)"
         },
         "mode": "lines",
         "name": "0.45",
         "type": "scatter",
         "x": [
          0.05,
          0.1,
          0.15,
          0.2,
          0.25,
          0.3,
          0.35,
          0.4,
          0.45,
          0.5,
          0.55,
          0.6,
          0.65,
          0.7,
          0.75,
          0.8,
          0.85,
          0.9,
          0.95
         ],
         "y": [
          0.16806722689075637,
          0.3125000000000001,
          0.43795620437956223,
          0.5479452054794521,
          0.6451612903225807,
          0.7317073170731708,
          0.809248554913295,
          0.8791208791208791,
          0.942408376963351,
          0.9999999999999999,
          1.0526315789473684,
          1.1009174311926604,
          1.1453744493392068,
          1.1864406779661016,
          1.2244897959183676,
          1.2598425196850391,
          1.2927756653992395,
          1.323529411764706,
          1.3523131672597868
         ]
        },
        {
         "line": {
          "color": "rgb(240.8974358974359, 240.8974358974359, 240.8974358974359)"
         },
         "mode": "lines",
         "name": "0.5",
         "type": "scatter",
         "x": [
          0.05,
          0.1,
          0.15,
          0.2,
          0.25,
          0.3,
          0.35,
          0.4,
          0.45,
          0.5,
          0.55,
          0.6,
          0.65,
          0.7,
          0.75,
          0.8,
          0.85,
          0.9,
          0.95
         ],
         "y": [
          0.18181818181818193,
          0.3333333333333335,
          0.46153846153846173,
          0.5714285714285716,
          0.6666666666666669,
          0.7500000000000001,
          0.823529411764706,
          0.888888888888889,
          0.9473684210526315,
          1.0000000000000002,
          1.0476190476190477,
          1.0909090909090908,
          1.1304347826086956,
          1.1666666666666665,
          1.1999999999999995,
          1.2307692307692308,
          1.259259259259259,
          1.2857142857142858,
          1.3103448275862066
         ]
        },
        {
         "line": {
          "color": "rgb(242.30769230769232, 242.30769230769232, 242.30769230769232)"
         },
         "mode": "lines",
         "name": "0.55",
         "type": "scatter",
         "x": [
          0.05,
          0.1,
          0.15,
          0.2,
          0.25,
          0.3,
          0.35,
          0.4,
          0.45,
          0.5,
          0.55,
          0.6,
          0.65,
          0.7,
          0.75,
          0.8,
          0.85,
          0.9,
          0.95
         ],
         "y": [
          0.19801980198019817,
          0.3571428571428573,
          0.48780487804878075,
          0.5970149253731345,
          0.6896551724137933,
          0.7692307692307694,
          0.8383233532934132,
          0.898876404494382,
          0.9523809523809524,
          1.0000000000000002,
          1.0426540284360188,
          1.081081081081081,
          1.1158798283261802,
          1.1475409836065573,
          1.176470588235294,
          1.2030075187969922,
          1.227436823104693,
          1.2499999999999998,
          1.2709030100334446
         ]
        },
        {
         "line": {
          "color": "rgb(243.71794871794873, 243.71794871794873, 243.71794871794873)"
         },
         "mode": "lines",
         "name": "0.6",
         "type": "scatter",
         "x": [
          0.05,
          0.1,
          0.15,
          0.2,
          0.25,
          0.3,
          0.35,
          0.4,
          0.45,
          0.5,
          0.55,
          0.6,
          0.65,
          0.7,
          0.75,
          0.8,
          0.85,
          0.9,
          0.95
         ],
         "y": [
          0.21739130434782628,
          0.38461538461538486,
          0.5172413793103451,
          0.6250000000000002,
          0.7142857142857145,
          0.7894736842105265,
          0.853658536585366,
          0.9090909090909092,
          0.9574468085106381,
          1.0000000000000002,
          1.0377358490566035,
          1.0714285714285714,
          1.1016949152542372,
          1.129032258064516,
          1.1538461538461537,
          1.1764705882352942,
          1.1971830985915495,
          1.2162162162162165,
          1.2337662337662332
         ]
        },
        {
         "line": {
          "color": "rgb(245.12820512820514, 245.12820512820514, 245.12820512820514)"
         },
         "mode": "lines",
         "name": "0.65",
         "type": "scatter",
         "x": [
          0.05,
          0.1,
          0.15,
          0.2,
          0.25,
          0.3,
          0.35,
          0.4,
          0.45,
          0.5,
          0.55,
          0.6,
          0.65,
          0.7,
          0.75,
          0.8,
          0.85,
          0.9,
          0.95
         ],
         "y": [
          0.24096385542168702,
          0.4166666666666671,
          0.5504587155963305,
          0.6557377049180333,
          0.7407407407407408,
          0.8108108108108109,
          0.8695652173913044,
          0.9195402298850573,
          0.9625668449197858,
          1,
          1.0328638497652582,
          1.061946902654867,
          1.0878661087866106,
          1.111111111111111,
          1.132075471698113,
          1.1510791366906472,
          1.1683848797250855,
          1.1842105263157887,
          1.1987381703470028
         ]
        },
        {
         "line": {
          "color": "rgb(246.53846153846155, 246.53846153846155, 246.53846153846155)"
         },
         "mode": "lines",
         "name": "0.7",
         "type": "scatter",
         "x": [
          0.05,
          0.1,
          0.15,
          0.2,
          0.25,
          0.3,
          0.35,
          0.4,
          0.45,
          0.5,
          0.55,
          0.6,
          0.65,
          0.7,
          0.75,
          0.8,
          0.85,
          0.9,
          0.95
         ],
         "y": [
          0.2702702702702707,
          0.45454545454545503,
          0.5882352941176475,
          0.6896551724137937,
          0.7692307692307695,
          0.8333333333333335,
          0.8860759493670888,
          0.9302325581395348,
          0.9677419354838707,
          1,
          1.0280373831775702,
          1.0526315789473681,
          1.0743801652892562,
          1.09375,
          1.1111111111111107,
          1.1267605633802815,
          1.1409395973154361,
          1.153846153846153,
          1.1656441717791408
         ]
        },
        {
         "line": {
          "color": "rgb(247.94871794871796, 247.94871794871796, 247.94871794871796)"
         },
         "mode": "lines",
         "name": "0.75",
         "type": "scatter",
         "x": [
          0.05,
          0.1,
          0.15,
          0.2,
          0.25,
          0.3,
          0.35,
          0.4,
          0.45,
          0.5,
          0.55,
          0.6,
          0.65,
          0.7,
          0.75,
          0.8,
          0.85,
          0.9,
          0.95
         ],
         "y": [
          0.3076923076923081,
          0.5000000000000004,
          0.6315789473684216,
          0.7272727272727275,
          0.8000000000000003,
          0.8571428571428577,
          0.9032258064516131,
          0.9411764705882353,
          0.9729729729729732,
          1.0000000000000002,
          1.0232558139534882,
          1.0434782608695654,
          1.0612244897959184,
          1.0769230769230766,
          1.0909090909090904,
          1.103448275862069,
          1.1147540983606554,
          1.1249999999999996,
          1.1343283582089545
         ]
        },
        {
         "line": {
          "color": "rgb(249.35897435897436, 249.35897435897436, 249.35897435897436)"
         },
         "mode": "lines",
         "name": "0.8",
         "type": "scatter",
         "x": [
          0.05,
          0.1,
          0.15,
          0.2,
          0.25,
          0.3,
          0.35,
          0.4,
          0.45,
          0.5,
          0.55,
          0.6,
          0.65,
          0.7,
          0.75,
          0.8,
          0.85,
          0.9,
          0.95
         ],
         "y": [
          0.35714285714285776,
          0.5555555555555561,
          0.6818181818181825,
          0.7692307692307695,
          0.8333333333333338,
          0.8823529411764711,
          0.9210526315789476,
          0.9523809523809523,
          0.9782608695652177,
          1.0000000000000002,
          1.0185185185185184,
          1.0344827586206897,
          1.048387096774193,
          1.0606060606060603,
          1.0714285714285714,
          1.0810810810810814,
          1.089743589743589,
          1.0975609756097555,
          1.1046511627906974
         ]
        },
        {
         "line": {
          "color": "rgb(250.76923076923077, 250.76923076923077, 250.76923076923077)"
         },
         "mode": "lines",
         "name": "0.85",
         "type": "scatter",
         "x": [
          0.05,
          0.1,
          0.15,
          0.2,
          0.25,
          0.3,
          0.35,
          0.4,
          0.45,
          0.5,
          0.55,
          0.6,
          0.65,
          0.7,
          0.75,
          0.8,
          0.85,
          0.9,
          0.95
         ],
         "y": [
          0.4255319148936179,
          0.6250000000000008,
          0.7407407407407417,
          0.8163265306122451,
          0.8695652173913048,
          0.9090909090909098,
          0.9395973154362418,
          0.9638554216867468,
          0.9836065573770496,
          1.0000000000000002,
          1.0138248847926266,
          1.025641025641026,
          1.035856573705179,
          1.0447761194029848,
          1.0526315789473675,
          1.0596026490066226,
          1.0658307210031348,
          1.071428571428571,
          1.0764872521246456
         ]
        },
        {
         "line": {
          "color": "rgb(252.17948717948718, 252.17948717948718, 252.17948717948718)"
         },
         "mode": "lines",
         "name": "0.9",
         "type": "scatter",
         "x": [
          0.05,
          0.1,
          0.15,
          0.2,
          0.25,
          0.3,
          0.35,
          0.4,
          0.45,
          0.5,
          0.55,
          0.6,
          0.65,
          0.7,
          0.75,
          0.8,
          0.85,
          0.9,
          0.95
         ],
         "y": [
          0.5263157894736856,
          0.7142857142857153,
          0.8108108108108121,
          0.8695652173913047,
          0.9090909090909097,
          0.9375000000000008,
          0.9589041095890414,
          0.9756097560975607,
          0.9890109890109896,
          1.0000000000000002,
          1.0091743119266052,
          1.016949152542373,
          1.0236220472440936,
          1.029411764705882,
          1.0344827586206897,
          1.0389610389610395,
          1.0429447852760731,
          1.0465116279069766,
          1.0497237569060776
         ]
        },
        {
         "line": {
          "color": "rgb(253.5897435897436, 253.5897435897436, 253.5897435897436)"
         },
         "mode": "lines",
         "name": "0.95",
         "type": "scatter",
         "x": [
          0.05,
          0.1,
          0.15,
          0.2,
          0.25,
          0.3,
          0.35,
          0.4,
          0.45,
          0.5,
          0.55,
          0.6,
          0.65,
          0.7,
          0.75,
          0.8,
          0.85,
          0.9,
          0.95
         ],
         "y": [
          0.6896551724137955,
          0.8333333333333344,
          0.8955223880597035,
          0.9302325581395348,
          0.952380952380953,
          0.9677419354838723,
          0.9790209790209792,
          0.9876543209876535,
          0.9944751381215481,
          1.0000000000000002,
          1.0045662100456638,
          1.0084033613445387,
          1.011673151750973,
          1.014492753623188,
          1.016949152542372,
          1.0191082802547755,
          1.0210210210210218,
          1.022727272727273,
          1.0242587601078164
         ]
        },
        {
         "line": {
          "color": "blue"
         },
         "mode": "lines",
         "name": "MAX",
         "type": "scatter",
         "x": [
          0.05,
          0.1,
          0.15,
          0.2,
          0.25,
          0.3,
          0.35,
          0.4,
          0.45,
          0.5,
          0.55,
          0.6,
          0.65,
          0.7,
          0.75,
          0.8,
          0.85,
          0.9,
          0.95
         ],
         "y": [
          0.6896551724137955,
          0.8333333333333344,
          0.8955223880597035,
          0.9302325581395348,
          0.952380952380953,
          0.9677419354838723,
          0.9790209790209792,
          0.9876543209876535,
          0.9944751381215481,
          1.0000000000000002,
          1.2154696132596683,
          1.4814814814814816,
          1.8181818181818183,
          2.2580645161290334,
          2.857142857142858,
          3.720930232558143,
          5.074626865671647,
          7.500000000000016,
          13.103448275862114
         ]
        },
        {
         "line": {
          "color": "orange"
         },
         "mode": "lines",
         "name": "MIN",
         "type": "scatter",
         "x": [
          0.05,
          0.1,
          0.15,
          0.2,
          0.25,
          0.3,
          0.35,
          0.4,
          0.45,
          0.5,
          0.55,
          0.6,
          0.65,
          0.7,
          0.75,
          0.8,
          0.85,
          0.9,
          0.95
         ],
         "y": [
          0.05390835579514826,
          0.11363636363636366,
          0.18018018018018023,
          0.2547770700636943,
          0.3389830508474576,
          0.4347826086956523,
          0.5447470817120622,
          0.6722689075630253,
          0.8219178082191779,
          0.9999999999999998,
          1.0045662100456638,
          1.0084033613445387,
          1.011673151750973,
          1.014492753623188,
          1.016949152542372,
          1.0191082802547755,
          1.0210210210210218,
          1.022727272727273,
          1.0242587601078164
         ]
        }
       ],
       "layout": {
        "template": {
         "data": {
          "bar": [
           {
            "error_x": {
             "color": "#2a3f5f"
            },
            "error_y": {
             "color": "#2a3f5f"
            },
            "marker": {
             "line": {
              "color": "#E5ECF6",
              "width": 0.5
             }
            },
            "type": "bar"
           }
          ],
          "barpolar": [
           {
            "marker": {
             "line": {
              "color": "#E5ECF6",
              "width": 0.5
             }
            },
            "type": "barpolar"
           }
          ],
          "carpet": [
           {
            "aaxis": {
             "endlinecolor": "#2a3f5f",
             "gridcolor": "white",
             "linecolor": "white",
             "minorgridcolor": "white",
             "startlinecolor": "#2a3f5f"
            },
            "baxis": {
             "endlinecolor": "#2a3f5f",
             "gridcolor": "white",
             "linecolor": "white",
             "minorgridcolor": "white",
             "startlinecolor": "#2a3f5f"
            },
            "type": "carpet"
           }
          ],
          "choropleth": [
           {
            "colorbar": {
             "outlinewidth": 0,
             "ticks": ""
            },
            "type": "choropleth"
           }
          ],
          "contour": [
           {
            "colorbar": {
             "outlinewidth": 0,
             "ticks": ""
            },
            "colorscale": [
             [
              0,
              "#0d0887"
             ],
             [
              0.1111111111111111,
              "#46039f"
             ],
             [
              0.2222222222222222,
              "#7201a8"
             ],
             [
              0.3333333333333333,
              "#9c179e"
             ],
             [
              0.4444444444444444,
              "#bd3786"
             ],
             [
              0.5555555555555556,
              "#d8576b"
             ],
             [
              0.6666666666666666,
              "#ed7953"
             ],
             [
              0.7777777777777778,
              "#fb9f3a"
             ],
             [
              0.8888888888888888,
              "#fdca26"
             ],
             [
              1,
              "#f0f921"
             ]
            ],
            "type": "contour"
           }
          ],
          "contourcarpet": [
           {
            "colorbar": {
             "outlinewidth": 0,
             "ticks": ""
            },
            "type": "contourcarpet"
           }
          ],
          "heatmap": [
           {
            "colorbar": {
             "outlinewidth": 0,
             "ticks": ""
            },
            "colorscale": [
             [
              0,
              "#0d0887"
             ],
             [
              0.1111111111111111,
              "#46039f"
             ],
             [
              0.2222222222222222,
              "#7201a8"
             ],
             [
              0.3333333333333333,
              "#9c179e"
             ],
             [
              0.4444444444444444,
              "#bd3786"
             ],
             [
              0.5555555555555556,
              "#d8576b"
             ],
             [
              0.6666666666666666,
              "#ed7953"
             ],
             [
              0.7777777777777778,
              "#fb9f3a"
             ],
             [
              0.8888888888888888,
              "#fdca26"
             ],
             [
              1,
              "#f0f921"
             ]
            ],
            "type": "heatmap"
           }
          ],
          "heatmapgl": [
           {
            "colorbar": {
             "outlinewidth": 0,
             "ticks": ""
            },
            "colorscale": [
             [
              0,
              "#0d0887"
             ],
             [
              0.1111111111111111,
              "#46039f"
             ],
             [
              0.2222222222222222,
              "#7201a8"
             ],
             [
              0.3333333333333333,
              "#9c179e"
             ],
             [
              0.4444444444444444,
              "#bd3786"
             ],
             [
              0.5555555555555556,
              "#d8576b"
             ],
             [
              0.6666666666666666,
              "#ed7953"
             ],
             [
              0.7777777777777778,
              "#fb9f3a"
             ],
             [
              0.8888888888888888,
              "#fdca26"
             ],
             [
              1,
              "#f0f921"
             ]
            ],
            "type": "heatmapgl"
           }
          ],
          "histogram": [
           {
            "marker": {
             "colorbar": {
              "outlinewidth": 0,
              "ticks": ""
             }
            },
            "type": "histogram"
           }
          ],
          "histogram2d": [
           {
            "colorbar": {
             "outlinewidth": 0,
             "ticks": ""
            },
            "colorscale": [
             [
              0,
              "#0d0887"
             ],
             [
              0.1111111111111111,
              "#46039f"
             ],
             [
              0.2222222222222222,
              "#7201a8"
             ],
             [
              0.3333333333333333,
              "#9c179e"
             ],
             [
              0.4444444444444444,
              "#bd3786"
             ],
             [
              0.5555555555555556,
              "#d8576b"
             ],
             [
              0.6666666666666666,
              "#ed7953"
             ],
             [
              0.7777777777777778,
              "#fb9f3a"
             ],
             [
              0.8888888888888888,
              "#fdca26"
             ],
             [
              1,
              "#f0f921"
             ]
            ],
            "type": "histogram2d"
           }
          ],
          "histogram2dcontour": [
           {
            "colorbar": {
             "outlinewidth": 0,
             "ticks": ""
            },
            "colorscale": [
             [
              0,
              "#0d0887"
             ],
             [
              0.1111111111111111,
              "#46039f"
             ],
             [
              0.2222222222222222,
              "#7201a8"
             ],
             [
              0.3333333333333333,
              "#9c179e"
             ],
             [
              0.4444444444444444,
              "#bd3786"
             ],
             [
              0.5555555555555556,
              "#d8576b"
             ],
             [
              0.6666666666666666,
              "#ed7953"
             ],
             [
              0.7777777777777778,
              "#fb9f3a"
             ],
             [
              0.8888888888888888,
              "#fdca26"
             ],
             [
              1,
              "#f0f921"
             ]
            ],
            "type": "histogram2dcontour"
           }
          ],
          "mesh3d": [
           {
            "colorbar": {
             "outlinewidth": 0,
             "ticks": ""
            },
            "type": "mesh3d"
           }
          ],
          "parcoords": [
           {
            "line": {
             "colorbar": {
              "outlinewidth": 0,
              "ticks": ""
             }
            },
            "type": "parcoords"
           }
          ],
          "pie": [
           {
            "automargin": true,
            "type": "pie"
           }
          ],
          "scatter": [
           {
            "marker": {
             "colorbar": {
              "outlinewidth": 0,
              "ticks": ""
             }
            },
            "type": "scatter"
           }
          ],
          "scatter3d": [
           {
            "line": {
             "colorbar": {
              "outlinewidth": 0,
              "ticks": ""
             }
            },
            "marker": {
             "colorbar": {
              "outlinewidth": 0,
              "ticks": ""
             }
            },
            "type": "scatter3d"
           }
          ],
          "scattercarpet": [
           {
            "marker": {
             "colorbar": {
              "outlinewidth": 0,
              "ticks": ""
             }
            },
            "type": "scattercarpet"
           }
          ],
          "scattergeo": [
           {
            "marker": {
             "colorbar": {
              "outlinewidth": 0,
              "ticks": ""
             }
            },
            "type": "scattergeo"
           }
          ],
          "scattergl": [
           {
            "marker": {
             "colorbar": {
              "outlinewidth": 0,
              "ticks": ""
             }
            },
            "type": "scattergl"
           }
          ],
          "scattermapbox": [
           {
            "marker": {
             "colorbar": {
              "outlinewidth": 0,
              "ticks": ""
             }
            },
            "type": "scattermapbox"
           }
          ],
          "scatterpolar": [
           {
            "marker": {
             "colorbar": {
              "outlinewidth": 0,
              "ticks": ""
             }
            },
            "type": "scatterpolar"
           }
          ],
          "scatterpolargl": [
           {
            "marker": {
             "colorbar": {
              "outlinewidth": 0,
              "ticks": ""
             }
            },
            "type": "scatterpolargl"
           }
          ],
          "scatterternary": [
           {
            "marker": {
             "colorbar": {
              "outlinewidth": 0,
              "ticks": ""
             }
            },
            "type": "scatterternary"
           }
          ],
          "surface": [
           {
            "colorbar": {
             "outlinewidth": 0,
             "ticks": ""
            },
            "colorscale": [
             [
              0,
              "#0d0887"
             ],
             [
              0.1111111111111111,
              "#46039f"
             ],
             [
              0.2222222222222222,
              "#7201a8"
             ],
             [
              0.3333333333333333,
              "#9c179e"
             ],
             [
              0.4444444444444444,
              "#bd3786"
             ],
             [
              0.5555555555555556,
              "#d8576b"
             ],
             [
              0.6666666666666666,
              "#ed7953"
             ],
             [
              0.7777777777777778,
              "#fb9f3a"
             ],
             [
              0.8888888888888888,
              "#fdca26"
             ],
             [
              1,
              "#f0f921"
             ]
            ],
            "type": "surface"
           }
          ],
          "table": [
           {
            "cells": {
             "fill": {
              "color": "#EBF0F8"
             },
             "line": {
              "color": "white"
             }
            },
            "header": {
             "fill": {
              "color": "#C8D4E3"
             },
             "line": {
              "color": "white"
             }
            },
            "type": "table"
           }
          ]
         },
         "layout": {
          "annotationdefaults": {
           "arrowcolor": "#2a3f5f",
           "arrowhead": 0,
           "arrowwidth": 1
          },
          "autotypenumbers": "strict",
          "coloraxis": {
           "colorbar": {
            "outlinewidth": 0,
            "ticks": ""
           }
          },
          "colorscale": {
           "diverging": [
            [
             0,
             "#8e0152"
            ],
            [
             0.1,
             "#c51b7d"
            ],
            [
             0.2,
             "#de77ae"
            ],
            [
             0.3,
             "#f1b6da"
            ],
            [
             0.4,
             "#fde0ef"
            ],
            [
             0.5,
             "#f7f7f7"
            ],
            [
             0.6,
             "#e6f5d0"
            ],
            [
             0.7,
             "#b8e186"
            ],
            [
             0.8,
             "#7fbc41"
            ],
            [
             0.9,
             "#4d9221"
            ],
            [
             1,
             "#276419"
            ]
           ],
           "sequential": [
            [
             0,
             "#0d0887"
            ],
            [
             0.1111111111111111,
             "#46039f"
            ],
            [
             0.2222222222222222,
             "#7201a8"
            ],
            [
             0.3333333333333333,
             "#9c179e"
            ],
            [
             0.4444444444444444,
             "#bd3786"
            ],
            [
             0.5555555555555556,
             "#d8576b"
            ],
            [
             0.6666666666666666,
             "#ed7953"
            ],
            [
             0.7777777777777778,
             "#fb9f3a"
            ],
            [
             0.8888888888888888,
             "#fdca26"
            ],
            [
             1,
             "#f0f921"
            ]
           ],
           "sequentialminus": [
            [
             0,
             "#0d0887"
            ],
            [
             0.1111111111111111,
             "#46039f"
            ],
            [
             0.2222222222222222,
             "#7201a8"
            ],
            [
             0.3333333333333333,
             "#9c179e"
            ],
            [
             0.4444444444444444,
             "#bd3786"
            ],
            [
             0.5555555555555556,
             "#d8576b"
            ],
            [
             0.6666666666666666,
             "#ed7953"
            ],
            [
             0.7777777777777778,
             "#fb9f3a"
            ],
            [
             0.8888888888888888,
             "#fdca26"
            ],
            [
             1,
             "#f0f921"
            ]
           ]
          },
          "colorway": [
           "#636efa",
           "#EF553B",
           "#00cc96",
           "#ab63fa",
           "#FFA15A",
           "#19d3f3",
           "#FF6692",
           "#B6E880",
           "#FF97FF",
           "#FECB52"
          ],
          "font": {
           "color": "#2a3f5f"
          },
          "geo": {
           "bgcolor": "white",
           "lakecolor": "white",
           "landcolor": "#E5ECF6",
           "showlakes": true,
           "showland": true,
           "subunitcolor": "white"
          },
          "hoverlabel": {
           "align": "left"
          },
          "hovermode": "closest",
          "mapbox": {
           "style": "light"
          },
          "paper_bgcolor": "white",
          "plot_bgcolor": "#E5ECF6",
          "polar": {
           "angularaxis": {
            "gridcolor": "white",
            "linecolor": "white",
            "ticks": ""
           },
           "bgcolor": "#E5ECF6",
           "radialaxis": {
            "gridcolor": "white",
            "linecolor": "white",
            "ticks": ""
           }
          },
          "scene": {
           "xaxis": {
            "backgroundcolor": "#E5ECF6",
            "gridcolor": "white",
            "gridwidth": 2,
            "linecolor": "white",
            "showbackground": true,
            "ticks": "",
            "zerolinecolor": "white"
           },
           "yaxis": {
            "backgroundcolor": "#E5ECF6",
            "gridcolor": "white",
            "gridwidth": 2,
            "linecolor": "white",
            "showbackground": true,
            "ticks": "",
            "zerolinecolor": "white"
           },
           "zaxis": {
            "backgroundcolor": "#E5ECF6",
            "gridcolor": "white",
            "gridwidth": 2,
            "linecolor": "white",
            "showbackground": true,
            "ticks": "",
            "zerolinecolor": "white"
           }
          },
          "shapedefaults": {
           "line": {
            "color": "#2a3f5f"
           }
          },
          "ternary": {
           "aaxis": {
            "gridcolor": "white",
            "linecolor": "white",
            "ticks": ""
           },
           "baxis": {
            "gridcolor": "white",
            "linecolor": "white",
            "ticks": ""
           },
           "bgcolor": "#E5ECF6",
           "caxis": {
            "gridcolor": "white",
            "linecolor": "white",
            "ticks": ""
           }
          },
          "title": {
           "x": 0.05
          },
          "xaxis": {
           "automargin": true,
           "gridcolor": "white",
           "linecolor": "white",
           "ticks": "",
           "title": {
            "standoff": 15
           },
           "zerolinecolor": "white",
           "zerolinewidth": 2
          },
          "yaxis": {
           "automargin": true,
           "gridcolor": "white",
           "linecolor": "white",
           "ticks": "",
           "title": {
            "standoff": 15
           },
           "zerolinecolor": "white",
           "zerolinewidth": 2
          }
         }
        },
        "title": {
         "text": "Valores de custo para cada mudança na probabilidade de atingir a meta"
        },
        "xaxis": {
         "title": {
          "text": "Probabilidade (p')"
         }
        },
        "yaxis": {
         "title": {
          "text": "Custo (c')"
         }
        }
       }
      },
      "text/html": [
       "<div>                            <div id=\"b98e4bee-ab92-4da7-a780-d8b8223429ed\" class=\"plotly-graph-div\" style=\"height:525px; width:100%;\"></div>            <script type=\"text/javascript\">                require([\"plotly\"], function(Plotly) {                    window.PLOTLYENV=window.PLOTLYENV || {};                                    if (document.getElementById(\"b98e4bee-ab92-4da7-a780-d8b8223429ed\")) {                    Plotly.newPlot(                        \"b98e4bee-ab92-4da7-a780-d8b8223429ed\",                        [{\"line\": {\"color\": \"rgb(200.0, 200.0, 200.0)\"}, \"mode\": \"lines\", \"name\": \"-0.95\", \"type\": \"scatter\", \"x\": [0.05, 0.1, 0.15, 0.2, 0.25, 0.3, 0.35, 0.4, 0.45, 0.5, 0.55, 0.6, 0.65, 0.7, 0.75, 0.8, 0.85, 0.9, 0.95], \"y\": [0.05390835579514826, 0.11363636363636366, 0.18018018018018023, 0.2547770700636943, 0.3389830508474576, 0.4347826086956523, 0.5447470817120622, 0.6722689075630253, 0.8219178082191779, 1.0, 1.2154696132596683, 1.4814814814814816, 1.8181818181818183, 2.2580645161290334, 2.857142857142858, 3.720930232558143, 5.074626865671647, 7.500000000000016, 13.103448275862114]}, {\"line\": {\"color\": \"rgb(201.4102564102564, 201.4102564102564, 201.4102564102564)\"}, \"mode\": \"lines\", \"name\": \"-0.9\", \"type\": \"scatter\", \"x\": [0.05, 0.1, 0.15, 0.2, 0.25, 0.3, 0.35, 0.4, 0.45, 0.5, 0.55, 0.6, 0.65, 0.7, 0.75, 0.8, 0.85, 0.9, 0.95], \"y\": [0.05524861878453038, 0.11627906976744186, 0.18404907975460122, 0.2597402597402597, 0.3448275862068965, 0.4411764705882352, 0.5511811023622046, 0.677966101694915, 0.8256880733944951, 0.9999999999999998, 1.2087912087912085, 1.463414634146341, 1.780821917808219, 2.1875, 2.7272727272727284, 3.4782608695652195, 4.594594594594599, 6.4285714285714395, 10.000000000000028]}, {\"line\": {\"color\": \"rgb(202.82051282051282, 202.82051282051282, 202.82051282051282)\"}, \"mode\": \"lines\", \"name\": \"-0.85\", \"type\": \"scatter\", \"x\": [0.05, 0.1, 0.15, 0.2, 0.25, 0.3, 0.35, 0.4, 0.45, 0.5, 0.55, 0.6, 0.65, 0.7, 0.75, 0.8, 0.85, 0.9, 0.95], \"y\": [0.056657223796034, 0.11904761904761905, 0.1880877742946709, 0.2649006622516557, 0.3508771929824562, 0.44776119402985076, 0.5577689243027889, 0.6837606837606838, 0.8294930875576035, 0.9999999999999999, 1.2021857923497263, 1.4457831325301203, 1.7449664429530198, 2.1212121212121215, 2.6086956521739135, 3.265306122448982, 4.1975308641975335, 5.625000000000009, 8.085106382978736]}, {\"line\": {\"color\": \"rgb(204.23076923076923, 204.23076923076923, 204.23076923076923)\"}, \"mode\": \"lines\", \"name\": \"-0.8\", \"type\": \"scatter\", \"x\": [0.05, 0.1, 0.15, 0.2, 0.25, 0.3, 0.35, 0.4, 0.45, 0.5, 0.55, 0.6, 0.65, 0.7, 0.75, 0.8, 0.85, 0.9, 0.95], \"y\": [0.05813953488372094, 0.12195121951219513, 0.19230769230769235, 0.2702702702702703, 0.35714285714285715, 0.4545454545454546, 0.564516129032258, 0.6896551724137929, 0.8333333333333331, 0.9999999999999998, 1.1956521739130432, 1.4285714285714284, 1.7105263157894737, 2.058823529411765, 2.500000000000001, 3.076923076923079, 3.863636363636367, 5.000000000000006, 6.785714285714293]}, {\"line\": {\"color\": \"rgb(205.64102564102564, 205.64102564102564, 205.64102564102564)\"}, \"mode\": \"lines\", \"name\": \"-0.75\", \"type\": \"scatter\", \"x\": [0.05, 0.1, 0.15, 0.2, 0.25, 0.3, 0.35, 0.4, 0.45, 0.5, 0.55, 0.6, 0.65, 0.7, 0.75, 0.8, 0.85, 0.9, 0.95], \"y\": [0.059701492537313446, 0.12500000000000003, 0.1967213114754099, 0.2758620689655173, 0.36363636363636365, 0.46153846153846156, 0.5714285714285713, 0.6956521739130435, 0.8372093023255813, 0.9999999999999999, 1.1891891891891888, 1.4117647058823528, 1.6774193548387097, 2.0000000000000004, 2.4000000000000004, 2.9090909090909105, 3.578947368421055, 4.500000000000003, 5.846153846153853]}, {\"line\": {\"color\": \"rgb(207.05128205128204, 207.05128205128204, 207.05128205128204)\"}, \"mode\": \"lines\", \"name\": \"-0.7\", \"type\": \"scatter\", \"x\": [0.05, 0.1, 0.15, 0.2, 0.25, 0.3, 0.35, 0.4, 0.45, 0.5, 0.55, 0.6, 0.65, 0.7, 0.75, 0.8, 0.85, 0.9, 0.95], \"y\": [0.061349693251533756, 0.12820512820512825, 0.2013422818791947, 0.2816901408450705, 0.3703703703703704, 0.46875000000000006, 0.5785123966942148, 0.7017543859649121, 0.8411214953271027, 0.9999999999999999, 1.1827956989247308, 1.3953488372093021, 1.6455696202531649, 1.944444444444445, 2.3076923076923084, 2.758620689655174, 3.333333333333334, 4.090909090909093, 5.135135135135139]}, {\"line\": {\"color\": \"rgb(208.46153846153845, 208.46153846153845, 208.46153846153845)\"}, \"mode\": \"lines\", \"name\": \"-0.65\", \"type\": \"scatter\", \"x\": [0.05, 0.1, 0.15, 0.2, 0.25, 0.3, 0.35, 0.4, 0.45, 0.5, 0.55, 0.6, 0.65, 0.7, 0.75, 0.8, 0.85, 0.9, 0.95], \"y\": [0.06309148264984228, 0.13157894736842107, 0.20618556701030935, 0.28776978417266197, 0.3773584905660378, 0.4761904761904763, 0.5857740585774059, 0.7079646017699115, 0.8450704225352111, 0.9999999999999999, 1.1764705882352937, 1.379310344827586, 1.6149068322981366, 1.891891891891892, 2.222222222222222, 2.6229508196721323, 3.119266055045873, 3.7500000000000013, 4.578313253012052]}, {\"line\": {\"color\": \"rgb(209.87179487179486, 209.87179487179486, 209.87179487179486)\"}, \"mode\": \"lines\", \"name\": \"-0.6\", \"type\": \"scatter\", \"x\": [0.05, 0.1, 0.15, 0.2, 0.25, 0.3, 0.35, 0.4, 0.45, 0.5, 0.55, 0.6, 0.65, 0.7, 0.75, 0.8, 0.85, 0.9, 0.95], \"y\": [0.06493506493506496, 0.13513513513513517, 0.2112676056338029, 0.2941176470588236, 0.3846153846153847, 0.48387096774193555, 0.5932203389830508, 0.7142857142857142, 0.8490566037735847, 0.9999999999999998, 1.1702127659574464, 1.3636363636363633, 1.5853658536585364, 1.842105263157895, 2.142857142857143, 2.5000000000000004, 2.9310344827586206, 3.461538461538462, 4.130434782608697]}, {\"line\": {\"color\": \"rgb(211.28205128205127, 211.28205128205127, 211.28205128205127)\"}, \"mode\": \"lines\", \"name\": \"-0.55\", \"type\": \"scatter\", \"x\": [0.05, 0.1, 0.15, 0.2, 0.25, 0.3, 0.35, 0.4, 0.45, 0.5, 0.55, 0.6, 0.65, 0.7, 0.75, 0.8, 0.85, 0.9, 0.95], \"y\": [0.06688963210702344, 0.13888888888888895, 0.21660649819494596, 0.30075187969924827, 0.3921568627450981, 0.4918032786885247, 0.6008583690987124, 0.7207207207207207, 0.8530805687203792, 0.9999999999999999, 1.1640211640211637, 1.3483146067415728, 1.5568862275449105, 1.7948717948717947, 2.0689655172413794, 2.388059701492538, 2.764227642276423, 3.214285714285715, 3.762376237623763]}, {\"line\": {\"color\": \"rgb(212.69230769230768, 212.69230769230768, 212.69230769230768)\"}, \"mode\": \"lines\", \"name\": \"-0.5\", \"type\": \"scatter\", \"x\": [0.05, 0.1, 0.15, 0.2, 0.25, 0.3, 0.35, 0.4, 0.45, 0.5, 0.55, 0.6, 0.65, 0.7, 0.75, 0.8, 0.85, 0.9, 0.95], \"y\": [0.06896551724137932, 0.1428571428571429, 0.22222222222222232, 0.30769230769230776, 0.4000000000000001, 0.5000000000000001, 0.6086956521739131, 0.7272727272727272, 0.8571428571428571, 1.0, 1.1578947368421049, 1.333333333333333, 1.5294117647058822, 1.75, 2.0000000000000004, 2.2857142857142856, 2.6153846153846154, 3.000000000000001, 3.4545454545454555]}, {\"line\": {\"color\": \"rgb(214.10256410256412, 214.10256410256412, 214.10256410256412)\"}, \"mode\": \"lines\", \"name\": \"-0.45\", \"type\": \"scatter\", \"x\": [0.05, 0.1, 0.15, 0.2, 0.25, 0.3, 0.35, 0.4, 0.45, 0.5, 0.55, 0.6, 0.65, 0.7, 0.75, 0.8, 0.85, 0.9, 0.95], \"y\": [0.07117437722419931, 0.1470588235294118, 0.22813688212927766, 0.3149606299212599, 0.4081632653061225, 0.5084745762711863, 0.616740088105727, 0.7339449541284404, 0.8612440191387559, 0.9999999999999999, 1.1518324607329842, 1.3186813186813182, 1.5028901734104045, 1.7073170731707317, 1.935483870967742, 2.1917808219178085, 2.4817518248175188, 2.8125, 3.19327731092437]}, {\"line\": {\"color\": \"rgb(215.51282051282053, 215.51282051282053, 215.51282051282053)\"}, \"mode\": \"lines\", \"name\": \"-0.4\", \"type\": \"scatter\", \"x\": [0.05, 0.1, 0.15, 0.2, 0.25, 0.3, 0.35, 0.4, 0.45, 0.5, 0.55, 0.6, 0.65, 0.7, 0.75, 0.8, 0.85, 0.9, 0.95], \"y\": [0.0735294117647059, 0.15151515151515152, 0.23437500000000003, 0.32258064516129037, 0.41666666666666674, 0.5172413793103449, 0.625, 0.7407407407407406, 0.8653846153846152, 0.9999999999999998, 1.1458333333333328, 1.3043478260869563, 1.477272727272727, 1.6666666666666663, 1.875, 2.1052631578947367, 2.3611111111111107, 2.6470588235294117, 2.96875]}, {\"line\": {\"color\": \"rgb(216.92307692307693, 216.92307692307693, 216.92307692307693)\"}, \"mode\": \"lines\", \"name\": \"-0.35\", \"type\": \"scatter\", \"x\": [0.05, 0.1, 0.15, 0.2, 0.25, 0.3, 0.35, 0.4, 0.45, 0.5, 0.55, 0.6, 0.65, 0.7, 0.75, 0.8, 0.85, 0.9, 0.95], \"y\": [0.07604562737642588, 0.15625000000000003, 0.24096385542168686, 0.3305785123966943, 0.4255319148936171, 0.5263157894736842, 0.6334841628959276, 0.7476635514018692, 0.8695652173913043, 0.9999999999999998, 1.1398963730569946, 1.290322580645161, 1.452513966480447, 1.627906976744186, 1.8181818181818183, 2.0253164556962022, 2.2516556291390732, 2.5000000000000004, 2.773722627737226]}, {\"line\": {\"color\": \"rgb(218.33333333333334, 218.33333333333334, 218.33333333333334)\"}, \"mode\": \"lines\", \"name\": \"-0.3\", \"type\": \"scatter\", \"x\": [0.05, 0.1, 0.15, 0.2, 0.25, 0.3, 0.35, 0.4, 0.45, 0.5, 0.55, 0.6, 0.65, 0.7, 0.75, 0.8, 0.85, 0.9, 0.95], \"y\": [0.078740157480315, 0.1612903225806452, 0.24793388429752075, 0.3389830508474578, 0.4347826086956522, 0.5357142857142858, 0.6422018348623854, 0.7547169811320754, 0.8737864077669902, 0.9999999999999999, 1.134020618556701, 1.2765957446808511, 1.4285714285714284, 1.5909090909090908, 1.7647058823529413, 1.9512195121951224, 2.151898734177216, 2.3684210526315788, 2.6027397260273974]}, {\"line\": {\"color\": \"rgb(219.74358974358975, 219.74358974358975, 219.74358974358975)\"}, \"mode\": \"lines\", \"name\": \"-0.25\", \"type\": \"scatter\", \"x\": [0.05, 0.1, 0.15, 0.2, 0.25, 0.3, 0.35, 0.4, 0.45, 0.5, 0.55, 0.6, 0.65, 0.7, 0.75, 0.8, 0.85, 0.9, 0.95], \"y\": [0.08163265306122452, 0.1666666666666667, 0.2553191489361703, 0.3478260869565218, 0.44444444444444453, 0.5454545454545455, 0.6511627906976745, 0.7619047619047619, 0.8780487804878049, 1.0, 1.1282051282051282, 1.263157894736842, 1.4054054054054055, 1.5555555555555558, 1.7142857142857144, 1.8823529411764708, 2.060606060606061, 2.2500000000000004, 2.451612903225807]}, {\"line\": {\"color\": \"rgb(221.15384615384616, 221.15384615384616, 221.15384615384616)\"}, \"mode\": \"lines\", \"name\": \"-0.2\", \"type\": \"scatter\", \"x\": [0.05, 0.1, 0.15, 0.2, 0.25, 0.3, 0.35, 0.4, 0.45, 0.5, 0.55, 0.6, 0.65, 0.7, 0.75, 0.8, 0.85, 0.9, 0.95], \"y\": [0.08474576271186442, 0.17241379310344832, 0.2631578947368422, 0.35714285714285715, 0.4545454545454546, 0.5555555555555555, 0.6603773584905661, 0.769230769230769, 0.8823529411764703, 0.9999999999999998, 1.1224489795918362, 1.2499999999999996, 1.382978723404255, 1.5217391304347823, 1.6666666666666667, 1.8181818181818183, 1.9767441860465118, 2.1428571428571432, 2.3170731707317076]}, {\"line\": {\"color\": \"rgb(222.56410256410257, 222.56410256410257, 222.56410256410257)\"}, \"mode\": \"lines\", \"name\": \"-0.15\", \"type\": \"scatter\", \"x\": [0.05, 0.1, 0.15, 0.2, 0.25, 0.3, 0.35, 0.4, 0.45, 0.5, 0.55, 0.6, 0.65, 0.7, 0.75, 0.8, 0.85, 0.9, 0.95], \"y\": [0.08810572687224671, 0.17857142857142863, 0.27149321266968335, 0.36697247706422026, 0.46511627906976755, 0.5660377358490567, 0.6698564593301436, 0.7766990291262135, 0.8866995073891626, 0.9999999999999998, 1.1167512690355328, 1.2371134020618555, 1.3612565445026177, 1.4893617021276593, 1.6216216216216215, 1.7582417582417582, 1.8994413407821227, 2.0454545454545454, 2.1965317919075145]}, {\"line\": {\"color\": \"rgb(223.97435897435898, 223.97435897435898, 223.97435897435898)\"}, \"mode\": \"lines\", \"name\": \"-0.1\", \"type\": \"scatter\", \"x\": [0.05, 0.1, 0.15, 0.2, 0.25, 0.3, 0.35, 0.4, 0.45, 0.5, 0.55, 0.6, 0.65, 0.7, 0.75, 0.8, 0.85, 0.9, 0.95], \"y\": [0.09174311926605508, 0.18518518518518523, 0.280373831775701, 0.3773584905660378, 0.4761904761904763, 0.576923076923077, 0.6796116504854369, 0.784313725490196, 0.8910891089108911, 1.0, 1.111111111111111, 1.2244897959183672, 1.3402061855670104, 1.4583333333333333, 1.5789473684210527, 1.702127659574468, 1.827956989247312, 1.956521739130435, 2.087912087912088]}, {\"line\": {\"color\": \"rgb(225.3846153846154, 225.3846153846154, 225.3846153846154)\"}, \"mode\": \"lines\", \"name\": \"-0.05\", \"type\": \"scatter\", \"x\": [0.05, 0.1, 0.15, 0.2, 0.25, 0.3, 0.35, 0.4, 0.45, 0.5, 0.55, 0.6, 0.65, 0.7, 0.75, 0.8, 0.85, 0.9, 0.95], \"y\": [0.09569377990430625, 0.19230769230769235, 0.2898550724637683, 0.3883495145631069, 0.48780487804878053, 0.5882352941176473, 0.6896551724137933, 0.792079207920792, 0.8955223880597016, 1.0, 1.105527638190955, 1.2121212121212122, 1.3197969543147208, 1.4285714285714288, 1.5384615384615388, 1.6494845360824741, 1.7616580310880832, 1.8750000000000004, 1.9895287958115186]}, {\"line\": {\"color\": \"rgb(226.7948717948718, 226.7948717948718, 226.7948717948718)\"}, \"mode\": \"lines\", \"name\": \"0.0\", \"type\": \"scatter\", \"x\": [0.05, 0.1, 0.15, 0.2, 0.25, 0.3, 0.35, 0.4, 0.45, 0.5, 0.55, 0.6, 0.65, 0.7, 0.75, 0.8, 0.85, 0.9, 0.95], \"y\": [0.10000000000000005, 0.2000000000000001, 0.3000000000000001, 0.4000000000000002, 0.5000000000000001, 0.6000000000000001, 0.7000000000000002, 0.8000000000000002, 0.9, 1.0, 1.0999999999999999, 1.2, 1.3000000000000003, 1.4000000000000001, 1.5, 1.6, 1.7000000000000002, 1.8000000000000003, 1.9000000000000004]}, {\"line\": {\"color\": \"rgb(228.2051282051282, 228.2051282051282, 228.2051282051282)\"}, \"mode\": \"lines\", \"name\": \"0.05\", \"type\": \"scatter\", \"x\": [0.05, 0.1, 0.15, 0.2, 0.25, 0.3, 0.35, 0.4, 0.45, 0.5, 0.55, 0.6, 0.65, 0.7, 0.75, 0.8, 0.85, 0.9, 0.95], \"y\": [0.1047120418848168, 0.2083333333333334, 0.31088082901554415, 0.4123711340206187, 0.5128205128205129, 0.6122448979591838, 0.7106598984771574, 0.8080808080808081, 0.9045226130653266, 1.0, 1.0945273631840793, 1.1881188118811883, 1.2807881773399015, 1.3725490196078431, 1.4634146341463417, 1.5533980582524272, 1.6425120772946862, 1.730769230769231, 1.8181818181818181]}, {\"line\": {\"color\": \"rgb(229.6153846153846, 229.6153846153846, 229.6153846153846)\"}, \"mode\": \"lines\", \"name\": \"0.1\", \"type\": \"scatter\", \"x\": [0.05, 0.1, 0.15, 0.2, 0.25, 0.3, 0.35, 0.4, 0.45, 0.5, 0.55, 0.6, 0.65, 0.7, 0.75, 0.8, 0.85, 0.9, 0.95], \"y\": [0.10989010989010993, 0.21739130434782616, 0.32258064516129054, 0.42553191489361714, 0.5263157894736843, 0.6250000000000002, 0.7216494845360826, 0.8163265306122448, 0.9090909090909091, 1.0, 1.0891089108910892, 1.1764705882352944, 1.2621359223300974, 1.3461538461538465, 1.4285714285714284, 1.5094339622641508, 1.5887850467289721, 1.666666666666667, 1.743119266055046]}, {\"line\": {\"color\": \"rgb(231.02564102564102, 231.02564102564102, 231.02564102564102)\"}, \"mode\": \"lines\", \"name\": \"0.15\", \"type\": \"scatter\", \"x\": [0.05, 0.1, 0.15, 0.2, 0.25, 0.3, 0.35, 0.4, 0.45, 0.5, 0.55, 0.6, 0.65, 0.7, 0.75, 0.8, 0.85, 0.9, 0.95], \"y\": [0.11560693641618501, 0.22727272727272735, 0.33519553072625713, 0.43956043956043966, 0.5405405405405407, 0.6382978723404256, 0.7329842931937174, 0.8247422680412372, 0.9137055837563453, 1.0, 1.0837438423645318, 1.1650485436893203, 1.2440191387559807, 1.3207547169811324, 1.3953488372093024, 1.4678899082568806, 1.5384615384615385, 1.6071428571428572, 1.6740088105726871]}, {\"line\": {\"color\": \"rgb(232.43589743589743, 232.43589743589743, 232.43589743589743)\"}, \"mode\": \"lines\", \"name\": \"0.2\", \"type\": \"scatter\", \"x\": [0.05, 0.1, 0.15, 0.2, 0.25, 0.3, 0.35, 0.4, 0.45, 0.5, 0.55, 0.6, 0.65, 0.7, 0.75, 0.8, 0.85, 0.9, 0.95], \"y\": [0.12195121951219519, 0.23809523809523822, 0.3488372093023258, 0.45454545454545475, 0.5555555555555557, 0.6521739130434784, 0.7446808510638299, 0.8333333333333334, 0.9183673469387755, 1.0, 1.0784313725490196, 1.1538461538461537, 1.2264150943396228, 1.2962962962962965, 1.363636363636364, 1.4285714285714286, 1.4912280701754386, 1.5517241379310347, 1.6101694915254239]}, {\"line\": {\"color\": \"rgb(233.84615384615384, 233.84615384615384, 233.84615384615384)\"}, \"mode\": \"lines\", \"name\": \"0.25\", \"type\": \"scatter\", \"x\": [0.05, 0.1, 0.15, 0.2, 0.25, 0.3, 0.35, 0.4, 0.45, 0.5, 0.55, 0.6, 0.65, 0.7, 0.75, 0.8, 0.85, 0.9, 0.95], \"y\": [0.12903225806451618, 0.2500000000000001, 0.3636363636363638, 0.47058823529411775, 0.5714285714285716, 0.6666666666666667, 0.7567567567567567, 0.8421052631578947, 0.923076923076923, 0.9999999999999999, 1.0731707317073171, 1.1428571428571428, 1.2093023255813953, 1.2727272727272727, 1.333333333333333, 1.3913043478260867, 1.446808510638298, 1.4999999999999998, 1.551020408163265]}, {\"line\": {\"color\": \"rgb(235.25641025641025, 235.25641025641025, 235.25641025641025)\"}, \"mode\": \"lines\", \"name\": \"0.3\", \"type\": \"scatter\", \"x\": [0.05, 0.1, 0.15, 0.2, 0.25, 0.3, 0.35, 0.4, 0.45, 0.5, 0.55, 0.6, 0.65, 0.7, 0.75, 0.8, 0.85, 0.9, 0.95], \"y\": [0.13698630136986306, 0.2631578947368422, 0.37974683544303806, 0.4878048780487806, 0.5882352941176472, 0.6818181818181819, 0.7692307692307693, 0.8510638297872339, 0.9278350515463916, 0.9999999999999998, 1.0679611650485434, 1.1320754716981132, 1.1926605504587153, 1.2499999999999998, 1.304347826086956, 1.3559322033898304, 1.4049586776859502, 1.451612903225806, 1.4960629921259838]}, {\"line\": {\"color\": \"rgb(236.66666666666669, 236.66666666666669, 236.66666666666669)\"}, \"mode\": \"lines\", \"name\": \"0.35\", \"type\": \"scatter\", \"x\": [0.05, 0.1, 0.15, 0.2, 0.25, 0.3, 0.35, 0.4, 0.45, 0.5, 0.55, 0.6, 0.65, 0.7, 0.75, 0.8, 0.85, 0.9, 0.95], \"y\": [0.14598540145985409, 0.2777777777777779, 0.39735099337748364, 0.5063291139240508, 0.6060606060606062, 0.6976744186046513, 0.782122905027933, 0.8602150537634409, 0.9326424870466323, 1.0, 1.0628019323671498, 1.1214953271028036, 1.1764705882352942, 1.2280701754385965, 1.276595744680851, 1.3223140495867765, 1.3654618473895581, 1.4062499999999998, 1.4448669201520914]}, {\"line\": {\"color\": \"rgb(238.0769230769231, 238.0769230769231, 238.0769230769231)\"}, \"mode\": \"lines\", \"name\": \"0.4\", \"type\": \"scatter\", \"x\": [0.05, 0.1, 0.15, 0.2, 0.25, 0.3, 0.35, 0.4, 0.45, 0.5, 0.55, 0.6, 0.65, 0.7, 0.75, 0.8, 0.85, 0.9, 0.95], \"y\": [0.15625000000000008, 0.29411764705882365, 0.41666666666666685, 0.5263157894736844, 0.6250000000000001, 0.7142857142857145, 0.7954545454545455, 0.8695652173913043, 0.9375000000000001, 1.0, 1.0576923076923075, 1.1111111111111112, 1.1607142857142856, 1.206896551724138, 1.2500000000000002, 1.2903225806451615, 1.3281249999999996, 1.3636363636363635, 1.3970588235294117]}, {\"line\": {\"color\": \"rgb(239.4871794871795, 239.4871794871795, 239.4871794871795)\"}, \"mode\": \"lines\", \"name\": \"0.45\", \"type\": \"scatter\", \"x\": [0.05, 0.1, 0.15, 0.2, 0.25, 0.3, 0.35, 0.4, 0.45, 0.5, 0.55, 0.6, 0.65, 0.7, 0.75, 0.8, 0.85, 0.9, 0.95], \"y\": [0.16806722689075637, 0.3125000000000001, 0.43795620437956223, 0.5479452054794521, 0.6451612903225807, 0.7317073170731708, 0.809248554913295, 0.8791208791208791, 0.942408376963351, 0.9999999999999999, 1.0526315789473684, 1.1009174311926604, 1.1453744493392068, 1.1864406779661016, 1.2244897959183676, 1.2598425196850391, 1.2927756653992395, 1.323529411764706, 1.3523131672597868]}, {\"line\": {\"color\": \"rgb(240.8974358974359, 240.8974358974359, 240.8974358974359)\"}, \"mode\": \"lines\", \"name\": \"0.5\", \"type\": \"scatter\", \"x\": [0.05, 0.1, 0.15, 0.2, 0.25, 0.3, 0.35, 0.4, 0.45, 0.5, 0.55, 0.6, 0.65, 0.7, 0.75, 0.8, 0.85, 0.9, 0.95], \"y\": [0.18181818181818193, 0.3333333333333335, 0.46153846153846173, 0.5714285714285716, 0.6666666666666669, 0.7500000000000001, 0.823529411764706, 0.888888888888889, 0.9473684210526315, 1.0000000000000002, 1.0476190476190477, 1.0909090909090908, 1.1304347826086956, 1.1666666666666665, 1.1999999999999995, 1.2307692307692308, 1.259259259259259, 1.2857142857142858, 1.3103448275862066]}, {\"line\": {\"color\": \"rgb(242.30769230769232, 242.30769230769232, 242.30769230769232)\"}, \"mode\": \"lines\", \"name\": \"0.55\", \"type\": \"scatter\", \"x\": [0.05, 0.1, 0.15, 0.2, 0.25, 0.3, 0.35, 0.4, 0.45, 0.5, 0.55, 0.6, 0.65, 0.7, 0.75, 0.8, 0.85, 0.9, 0.95], \"y\": [0.19801980198019817, 0.3571428571428573, 0.48780487804878075, 0.5970149253731345, 0.6896551724137933, 0.7692307692307694, 0.8383233532934132, 0.898876404494382, 0.9523809523809524, 1.0000000000000002, 1.0426540284360188, 1.081081081081081, 1.1158798283261802, 1.1475409836065573, 1.176470588235294, 1.2030075187969922, 1.227436823104693, 1.2499999999999998, 1.2709030100334446]}, {\"line\": {\"color\": \"rgb(243.71794871794873, 243.71794871794873, 243.71794871794873)\"}, \"mode\": \"lines\", \"name\": \"0.6\", \"type\": \"scatter\", \"x\": [0.05, 0.1, 0.15, 0.2, 0.25, 0.3, 0.35, 0.4, 0.45, 0.5, 0.55, 0.6, 0.65, 0.7, 0.75, 0.8, 0.85, 0.9, 0.95], \"y\": [0.21739130434782628, 0.38461538461538486, 0.5172413793103451, 0.6250000000000002, 0.7142857142857145, 0.7894736842105265, 0.853658536585366, 0.9090909090909092, 0.9574468085106381, 1.0000000000000002, 1.0377358490566035, 1.0714285714285714, 1.1016949152542372, 1.129032258064516, 1.1538461538461537, 1.1764705882352942, 1.1971830985915495, 1.2162162162162165, 1.2337662337662332]}, {\"line\": {\"color\": \"rgb(245.12820512820514, 245.12820512820514, 245.12820512820514)\"}, \"mode\": \"lines\", \"name\": \"0.65\", \"type\": \"scatter\", \"x\": [0.05, 0.1, 0.15, 0.2, 0.25, 0.3, 0.35, 0.4, 0.45, 0.5, 0.55, 0.6, 0.65, 0.7, 0.75, 0.8, 0.85, 0.9, 0.95], \"y\": [0.24096385542168702, 0.4166666666666671, 0.5504587155963305, 0.6557377049180333, 0.7407407407407408, 0.8108108108108109, 0.8695652173913044, 0.9195402298850573, 0.9625668449197858, 1.0, 1.0328638497652582, 1.061946902654867, 1.0878661087866106, 1.111111111111111, 1.132075471698113, 1.1510791366906472, 1.1683848797250855, 1.1842105263157887, 1.1987381703470028]}, {\"line\": {\"color\": \"rgb(246.53846153846155, 246.53846153846155, 246.53846153846155)\"}, \"mode\": \"lines\", \"name\": \"0.7\", \"type\": \"scatter\", \"x\": [0.05, 0.1, 0.15, 0.2, 0.25, 0.3, 0.35, 0.4, 0.45, 0.5, 0.55, 0.6, 0.65, 0.7, 0.75, 0.8, 0.85, 0.9, 0.95], \"y\": [0.2702702702702707, 0.45454545454545503, 0.5882352941176475, 0.6896551724137937, 0.7692307692307695, 0.8333333333333335, 0.8860759493670888, 0.9302325581395348, 0.9677419354838707, 1.0, 1.0280373831775702, 1.0526315789473681, 1.0743801652892562, 1.09375, 1.1111111111111107, 1.1267605633802815, 1.1409395973154361, 1.153846153846153, 1.1656441717791408]}, {\"line\": {\"color\": \"rgb(247.94871794871796, 247.94871794871796, 247.94871794871796)\"}, \"mode\": \"lines\", \"name\": \"0.75\", \"type\": \"scatter\", \"x\": [0.05, 0.1, 0.15, 0.2, 0.25, 0.3, 0.35, 0.4, 0.45, 0.5, 0.55, 0.6, 0.65, 0.7, 0.75, 0.8, 0.85, 0.9, 0.95], \"y\": [0.3076923076923081, 0.5000000000000004, 0.6315789473684216, 0.7272727272727275, 0.8000000000000003, 0.8571428571428577, 0.9032258064516131, 0.9411764705882353, 0.9729729729729732, 1.0000000000000002, 1.0232558139534882, 1.0434782608695654, 1.0612244897959184, 1.0769230769230766, 1.0909090909090904, 1.103448275862069, 1.1147540983606554, 1.1249999999999996, 1.1343283582089545]}, {\"line\": {\"color\": \"rgb(249.35897435897436, 249.35897435897436, 249.35897435897436)\"}, \"mode\": \"lines\", \"name\": \"0.8\", \"type\": \"scatter\", \"x\": [0.05, 0.1, 0.15, 0.2, 0.25, 0.3, 0.35, 0.4, 0.45, 0.5, 0.55, 0.6, 0.65, 0.7, 0.75, 0.8, 0.85, 0.9, 0.95], \"y\": [0.35714285714285776, 0.5555555555555561, 0.6818181818181825, 0.7692307692307695, 0.8333333333333338, 0.8823529411764711, 0.9210526315789476, 0.9523809523809523, 0.9782608695652177, 1.0000000000000002, 1.0185185185185184, 1.0344827586206897, 1.048387096774193, 1.0606060606060603, 1.0714285714285714, 1.0810810810810814, 1.089743589743589, 1.0975609756097555, 1.1046511627906974]}, {\"line\": {\"color\": \"rgb(250.76923076923077, 250.76923076923077, 250.76923076923077)\"}, \"mode\": \"lines\", \"name\": \"0.85\", \"type\": \"scatter\", \"x\": [0.05, 0.1, 0.15, 0.2, 0.25, 0.3, 0.35, 0.4, 0.45, 0.5, 0.55, 0.6, 0.65, 0.7, 0.75, 0.8, 0.85, 0.9, 0.95], \"y\": [0.4255319148936179, 0.6250000000000008, 0.7407407407407417, 0.8163265306122451, 0.8695652173913048, 0.9090909090909098, 0.9395973154362418, 0.9638554216867468, 0.9836065573770496, 1.0000000000000002, 1.0138248847926266, 1.025641025641026, 1.035856573705179, 1.0447761194029848, 1.0526315789473675, 1.0596026490066226, 1.0658307210031348, 1.071428571428571, 1.0764872521246456]}, {\"line\": {\"color\": \"rgb(252.17948717948718, 252.17948717948718, 252.17948717948718)\"}, \"mode\": \"lines\", \"name\": \"0.9\", \"type\": \"scatter\", \"x\": [0.05, 0.1, 0.15, 0.2, 0.25, 0.3, 0.35, 0.4, 0.45, 0.5, 0.55, 0.6, 0.65, 0.7, 0.75, 0.8, 0.85, 0.9, 0.95], \"y\": [0.5263157894736856, 0.7142857142857153, 0.8108108108108121, 0.8695652173913047, 0.9090909090909097, 0.9375000000000008, 0.9589041095890414, 0.9756097560975607, 0.9890109890109896, 1.0000000000000002, 1.0091743119266052, 1.016949152542373, 1.0236220472440936, 1.029411764705882, 1.0344827586206897, 1.0389610389610395, 1.0429447852760731, 1.0465116279069766, 1.0497237569060776]}, {\"line\": {\"color\": \"rgb(253.5897435897436, 253.5897435897436, 253.5897435897436)\"}, \"mode\": \"lines\", \"name\": \"0.95\", \"type\": \"scatter\", \"x\": [0.05, 0.1, 0.15, 0.2, 0.25, 0.3, 0.35, 0.4, 0.45, 0.5, 0.55, 0.6, 0.65, 0.7, 0.75, 0.8, 0.85, 0.9, 0.95], \"y\": [0.6896551724137955, 0.8333333333333344, 0.8955223880597035, 0.9302325581395348, 0.952380952380953, 0.9677419354838723, 0.9790209790209792, 0.9876543209876535, 0.9944751381215481, 1.0000000000000002, 1.0045662100456638, 1.0084033613445387, 1.011673151750973, 1.014492753623188, 1.016949152542372, 1.0191082802547755, 1.0210210210210218, 1.022727272727273, 1.0242587601078164]}, {\"line\": {\"color\": \"blue\"}, \"mode\": \"lines\", \"name\": \"MAX\", \"type\": \"scatter\", \"x\": [0.05, 0.1, 0.15, 0.2, 0.25, 0.3, 0.35, 0.4, 0.45, 0.5, 0.55, 0.6, 0.65, 0.7, 0.75, 0.8, 0.85, 0.9, 0.95], \"y\": [0.6896551724137955, 0.8333333333333344, 0.8955223880597035, 0.9302325581395348, 0.952380952380953, 0.9677419354838723, 0.9790209790209792, 0.9876543209876535, 0.9944751381215481, 1.0000000000000002, 1.2154696132596683, 1.4814814814814816, 1.8181818181818183, 2.2580645161290334, 2.857142857142858, 3.720930232558143, 5.074626865671647, 7.500000000000016, 13.103448275862114]}, {\"line\": {\"color\": \"orange\"}, \"mode\": \"lines\", \"name\": \"MIN\", \"type\": \"scatter\", \"x\": [0.05, 0.1, 0.15, 0.2, 0.25, 0.3, 0.35, 0.4, 0.45, 0.5, 0.55, 0.6, 0.65, 0.7, 0.75, 0.8, 0.85, 0.9, 0.95], \"y\": [0.05390835579514826, 0.11363636363636366, 0.18018018018018023, 0.2547770700636943, 0.3389830508474576, 0.4347826086956523, 0.5447470817120622, 0.6722689075630253, 0.8219178082191779, 0.9999999999999998, 1.0045662100456638, 1.0084033613445387, 1.011673151750973, 1.014492753623188, 1.016949152542372, 1.0191082802547755, 1.0210210210210218, 1.022727272727273, 1.0242587601078164]}],                        {\"template\": {\"data\": {\"bar\": [{\"error_x\": {\"color\": \"#2a3f5f\"}, \"error_y\": {\"color\": \"#2a3f5f\"}, \"marker\": {\"line\": {\"color\": \"#E5ECF6\", \"width\": 0.5}}, \"type\": \"bar\"}], \"barpolar\": [{\"marker\": {\"line\": {\"color\": \"#E5ECF6\", \"width\": 0.5}}, \"type\": \"barpolar\"}], \"carpet\": [{\"aaxis\": {\"endlinecolor\": \"#2a3f5f\", \"gridcolor\": \"white\", \"linecolor\": \"white\", \"minorgridcolor\": \"white\", \"startlinecolor\": \"#2a3f5f\"}, \"baxis\": {\"endlinecolor\": \"#2a3f5f\", \"gridcolor\": \"white\", \"linecolor\": \"white\", \"minorgridcolor\": \"white\", \"startlinecolor\": \"#2a3f5f\"}, \"type\": \"carpet\"}], \"choropleth\": [{\"colorbar\": {\"outlinewidth\": 0, \"ticks\": \"\"}, \"type\": \"choropleth\"}], \"contour\": [{\"colorbar\": {\"outlinewidth\": 0, \"ticks\": \"\"}, \"colorscale\": [[0.0, \"#0d0887\"], [0.1111111111111111, \"#46039f\"], [0.2222222222222222, \"#7201a8\"], [0.3333333333333333, \"#9c179e\"], [0.4444444444444444, \"#bd3786\"], [0.5555555555555556, \"#d8576b\"], [0.6666666666666666, \"#ed7953\"], [0.7777777777777778, \"#fb9f3a\"], [0.8888888888888888, \"#fdca26\"], [1.0, \"#f0f921\"]], \"type\": \"contour\"}], \"contourcarpet\": [{\"colorbar\": {\"outlinewidth\": 0, \"ticks\": \"\"}, \"type\": \"contourcarpet\"}], \"heatmap\": [{\"colorbar\": {\"outlinewidth\": 0, \"ticks\": \"\"}, \"colorscale\": [[0.0, \"#0d0887\"], [0.1111111111111111, \"#46039f\"], [0.2222222222222222, \"#7201a8\"], [0.3333333333333333, \"#9c179e\"], [0.4444444444444444, \"#bd3786\"], [0.5555555555555556, \"#d8576b\"], [0.6666666666666666, \"#ed7953\"], [0.7777777777777778, \"#fb9f3a\"], [0.8888888888888888, \"#fdca26\"], [1.0, \"#f0f921\"]], \"type\": \"heatmap\"}], \"heatmapgl\": [{\"colorbar\": {\"outlinewidth\": 0, \"ticks\": \"\"}, \"colorscale\": [[0.0, \"#0d0887\"], [0.1111111111111111, \"#46039f\"], [0.2222222222222222, \"#7201a8\"], [0.3333333333333333, \"#9c179e\"], [0.4444444444444444, \"#bd3786\"], [0.5555555555555556, \"#d8576b\"], [0.6666666666666666, \"#ed7953\"], [0.7777777777777778, \"#fb9f3a\"], [0.8888888888888888, \"#fdca26\"], [1.0, \"#f0f921\"]], \"type\": \"heatmapgl\"}], \"histogram\": [{\"marker\": {\"colorbar\": {\"outlinewidth\": 0, \"ticks\": \"\"}}, \"type\": \"histogram\"}], \"histogram2d\": [{\"colorbar\": {\"outlinewidth\": 0, \"ticks\": \"\"}, \"colorscale\": [[0.0, \"#0d0887\"], [0.1111111111111111, \"#46039f\"], [0.2222222222222222, \"#7201a8\"], [0.3333333333333333, \"#9c179e\"], [0.4444444444444444, \"#bd3786\"], [0.5555555555555556, \"#d8576b\"], [0.6666666666666666, \"#ed7953\"], [0.7777777777777778, \"#fb9f3a\"], [0.8888888888888888, \"#fdca26\"], [1.0, \"#f0f921\"]], \"type\": \"histogram2d\"}], \"histogram2dcontour\": [{\"colorbar\": {\"outlinewidth\": 0, \"ticks\": \"\"}, \"colorscale\": [[0.0, \"#0d0887\"], [0.1111111111111111, \"#46039f\"], [0.2222222222222222, \"#7201a8\"], [0.3333333333333333, \"#9c179e\"], [0.4444444444444444, \"#bd3786\"], [0.5555555555555556, \"#d8576b\"], [0.6666666666666666, \"#ed7953\"], [0.7777777777777778, \"#fb9f3a\"], [0.8888888888888888, \"#fdca26\"], [1.0, \"#f0f921\"]], \"type\": \"histogram2dcontour\"}], \"mesh3d\": [{\"colorbar\": {\"outlinewidth\": 0, \"ticks\": \"\"}, \"type\": \"mesh3d\"}], \"parcoords\": [{\"line\": {\"colorbar\": {\"outlinewidth\": 0, \"ticks\": \"\"}}, \"type\": \"parcoords\"}], \"pie\": [{\"automargin\": true, \"type\": \"pie\"}], \"scatter\": [{\"marker\": {\"colorbar\": {\"outlinewidth\": 0, \"ticks\": \"\"}}, \"type\": \"scatter\"}], \"scatter3d\": [{\"line\": {\"colorbar\": {\"outlinewidth\": 0, \"ticks\": \"\"}}, \"marker\": {\"colorbar\": {\"outlinewidth\": 0, \"ticks\": \"\"}}, \"type\": \"scatter3d\"}], \"scattercarpet\": [{\"marker\": {\"colorbar\": {\"outlinewidth\": 0, \"ticks\": \"\"}}, \"type\": \"scattercarpet\"}], \"scattergeo\": [{\"marker\": {\"colorbar\": {\"outlinewidth\": 0, \"ticks\": \"\"}}, \"type\": \"scattergeo\"}], \"scattergl\": [{\"marker\": {\"colorbar\": {\"outlinewidth\": 0, \"ticks\": \"\"}}, \"type\": \"scattergl\"}], \"scattermapbox\": [{\"marker\": {\"colorbar\": {\"outlinewidth\": 0, \"ticks\": \"\"}}, \"type\": \"scattermapbox\"}], \"scatterpolar\": [{\"marker\": {\"colorbar\": {\"outlinewidth\": 0, \"ticks\": \"\"}}, \"type\": \"scatterpolar\"}], \"scatterpolargl\": [{\"marker\": {\"colorbar\": {\"outlinewidth\": 0, \"ticks\": \"\"}}, \"type\": \"scatterpolargl\"}], \"scatterternary\": [{\"marker\": {\"colorbar\": {\"outlinewidth\": 0, \"ticks\": \"\"}}, \"type\": \"scatterternary\"}], \"surface\": [{\"colorbar\": {\"outlinewidth\": 0, \"ticks\": \"\"}, \"colorscale\": [[0.0, \"#0d0887\"], [0.1111111111111111, \"#46039f\"], [0.2222222222222222, \"#7201a8\"], [0.3333333333333333, \"#9c179e\"], [0.4444444444444444, \"#bd3786\"], [0.5555555555555556, \"#d8576b\"], [0.6666666666666666, \"#ed7953\"], [0.7777777777777778, \"#fb9f3a\"], [0.8888888888888888, \"#fdca26\"], [1.0, \"#f0f921\"]], \"type\": \"surface\"}], \"table\": [{\"cells\": {\"fill\": {\"color\": \"#EBF0F8\"}, \"line\": {\"color\": \"white\"}}, \"header\": {\"fill\": {\"color\": \"#C8D4E3\"}, \"line\": {\"color\": \"white\"}}, \"type\": \"table\"}]}, \"layout\": {\"annotationdefaults\": {\"arrowcolor\": \"#2a3f5f\", \"arrowhead\": 0, \"arrowwidth\": 1}, \"autotypenumbers\": \"strict\", \"coloraxis\": {\"colorbar\": {\"outlinewidth\": 0, \"ticks\": \"\"}}, \"colorscale\": {\"diverging\": [[0, \"#8e0152\"], [0.1, \"#c51b7d\"], [0.2, \"#de77ae\"], [0.3, \"#f1b6da\"], [0.4, \"#fde0ef\"], [0.5, \"#f7f7f7\"], [0.6, \"#e6f5d0\"], [0.7, \"#b8e186\"], [0.8, \"#7fbc41\"], [0.9, \"#4d9221\"], [1, \"#276419\"]], \"sequential\": [[0.0, \"#0d0887\"], [0.1111111111111111, \"#46039f\"], [0.2222222222222222, \"#7201a8\"], [0.3333333333333333, \"#9c179e\"], [0.4444444444444444, \"#bd3786\"], [0.5555555555555556, \"#d8576b\"], [0.6666666666666666, \"#ed7953\"], [0.7777777777777778, \"#fb9f3a\"], [0.8888888888888888, \"#fdca26\"], [1.0, \"#f0f921\"]], \"sequentialminus\": [[0.0, \"#0d0887\"], [0.1111111111111111, \"#46039f\"], [0.2222222222222222, \"#7201a8\"], [0.3333333333333333, \"#9c179e\"], [0.4444444444444444, \"#bd3786\"], [0.5555555555555556, \"#d8576b\"], [0.6666666666666666, \"#ed7953\"], [0.7777777777777778, \"#fb9f3a\"], [0.8888888888888888, \"#fdca26\"], [1.0, \"#f0f921\"]]}, \"colorway\": [\"#636efa\", \"#EF553B\", \"#00cc96\", \"#ab63fa\", \"#FFA15A\", \"#19d3f3\", \"#FF6692\", \"#B6E880\", \"#FF97FF\", \"#FECB52\"], \"font\": {\"color\": \"#2a3f5f\"}, \"geo\": {\"bgcolor\": \"white\", \"lakecolor\": \"white\", \"landcolor\": \"#E5ECF6\", \"showlakes\": true, \"showland\": true, \"subunitcolor\": \"white\"}, \"hoverlabel\": {\"align\": \"left\"}, \"hovermode\": \"closest\", \"mapbox\": {\"style\": \"light\"}, \"paper_bgcolor\": \"white\", \"plot_bgcolor\": \"#E5ECF6\", \"polar\": {\"angularaxis\": {\"gridcolor\": \"white\", \"linecolor\": \"white\", \"ticks\": \"\"}, \"bgcolor\": \"#E5ECF6\", \"radialaxis\": {\"gridcolor\": \"white\", \"linecolor\": \"white\", \"ticks\": \"\"}}, \"scene\": {\"xaxis\": {\"backgroundcolor\": \"#E5ECF6\", \"gridcolor\": \"white\", \"gridwidth\": 2, \"linecolor\": \"white\", \"showbackground\": true, \"ticks\": \"\", \"zerolinecolor\": \"white\"}, \"yaxis\": {\"backgroundcolor\": \"#E5ECF6\", \"gridcolor\": \"white\", \"gridwidth\": 2, \"linecolor\": \"white\", \"showbackground\": true, \"ticks\": \"\", \"zerolinecolor\": \"white\"}, \"zaxis\": {\"backgroundcolor\": \"#E5ECF6\", \"gridcolor\": \"white\", \"gridwidth\": 2, \"linecolor\": \"white\", \"showbackground\": true, \"ticks\": \"\", \"zerolinecolor\": \"white\"}}, \"shapedefaults\": {\"line\": {\"color\": \"#2a3f5f\"}}, \"ternary\": {\"aaxis\": {\"gridcolor\": \"white\", \"linecolor\": \"white\", \"ticks\": \"\"}, \"baxis\": {\"gridcolor\": \"white\", \"linecolor\": \"white\", \"ticks\": \"\"}, \"bgcolor\": \"#E5ECF6\", \"caxis\": {\"gridcolor\": \"white\", \"linecolor\": \"white\", \"ticks\": \"\"}}, \"title\": {\"x\": 0.05}, \"xaxis\": {\"automargin\": true, \"gridcolor\": \"white\", \"linecolor\": \"white\", \"ticks\": \"\", \"title\": {\"standoff\": 15}, \"zerolinecolor\": \"white\", \"zerolinewidth\": 2}, \"yaxis\": {\"automargin\": true, \"gridcolor\": \"white\", \"linecolor\": \"white\", \"ticks\": \"\", \"title\": {\"standoff\": 15}, \"zerolinecolor\": \"white\", \"zerolinewidth\": 2}}}, \"title\": {\"text\": \"Valores de custo para cada mudan\\u00e7a na probabilidade de atingir a meta\"}, \"xaxis\": {\"title\": {\"text\": \"Probabilidade (p')\"}}, \"yaxis\": {\"title\": {\"text\": \"Custo (c')\"}}},                        {\"responsive\": true}                    ).then(function(){\n",
       "                            \n",
       "var gd = document.getElementById('b98e4bee-ab92-4da7-a780-d8b8223429ed');\n",
       "var x = new MutationObserver(function (mutations, observer) {{\n",
       "        var display = window.getComputedStyle(gd).display;\n",
       "        if (!display || display === 'none') {{\n",
       "            console.log([gd, 'removed!']);\n",
       "            Plotly.purge(gd);\n",
       "            observer.disconnect();\n",
       "        }}\n",
       "}});\n",
       "\n",
       "// Listen for the removal of the full notebook cells\n",
       "var notebookContainer = gd.closest('#notebook-container');\n",
       "if (notebookContainer) {{\n",
       "    x.observe(notebookContainer, {childList: true});\n",
       "}}\n",
       "\n",
       "// Listen for the clearing of the current output cell\n",
       "var outputEl = gd.closest('.output');\n",
       "if (outputEl) {{\n",
       "    x.observe(outputEl, {childList: true});\n",
       "}}\n",
       "\n",
       "                        })                };                });            </script>        </div>"
      ]
     },
     "metadata": {},
     "output_type": "display_data"
    },
    {
     "data": {
      "application/vnd.plotly.v1+json": {
       "config": {
        "plotlyServerURL": "https://plot.ly"
       },
       "data": [
        {
         "line": {
          "color": "orange"
         },
         "mode": "lines",
         "name": "MIN",
         "type": "scatter",
         "x": [
          0.05,
          0.1,
          0.15,
          0.2,
          0.25,
          0.3,
          0.35,
          0.4,
          0.45,
          0.5,
          0.55,
          0.6,
          0.65,
          0.7,
          0.75,
          0.8,
          0.85,
          0.9,
          0.95
         ],
         "y": [
          0.05390835579514826,
          0.11363636363636366,
          0.18018018018018023,
          0.2547770700636943,
          0.3389830508474576,
          0.4347826086956523,
          0.5447470817120622,
          0.6722689075630253,
          0.8219178082191779,
          0.9999999999999998,
          1.0045662100456638,
          1.0084033613445387,
          1.011673151750973,
          1.014492753623188,
          1.016949152542372,
          1.0191082802547755,
          1.0210210210210218,
          1.022727272727273,
          1.0242587601078164
         ]
        },
        {
         "fill": "tonexty",
         "line": {
          "color": "blue"
         },
         "mode": "lines",
         "name": "MAX",
         "type": "scatter",
         "x": [
          0.05,
          0.1,
          0.15,
          0.2,
          0.25,
          0.3,
          0.35,
          0.4,
          0.45,
          0.5,
          0.55,
          0.6,
          0.65,
          0.7,
          0.75,
          0.8,
          0.85,
          0.9,
          0.95
         ],
         "y": [
          0.6896551724137955,
          0.8333333333333344,
          0.8955223880597035,
          0.9302325581395348,
          0.952380952380953,
          0.9677419354838723,
          0.9790209790209792,
          0.9876543209876535,
          0.9944751381215481,
          1.0000000000000002,
          1.2154696132596683,
          1.4814814814814816,
          1.8181818181818183,
          2.2580645161290334,
          2.857142857142858,
          3.720930232558143,
          5.074626865671647,
          7.500000000000016,
          13.103448275862114
         ]
        }
       ],
       "layout": {
        "template": {
         "data": {
          "bar": [
           {
            "error_x": {
             "color": "#2a3f5f"
            },
            "error_y": {
             "color": "#2a3f5f"
            },
            "marker": {
             "line": {
              "color": "#E5ECF6",
              "width": 0.5
             }
            },
            "type": "bar"
           }
          ],
          "barpolar": [
           {
            "marker": {
             "line": {
              "color": "#E5ECF6",
              "width": 0.5
             }
            },
            "type": "barpolar"
           }
          ],
          "carpet": [
           {
            "aaxis": {
             "endlinecolor": "#2a3f5f",
             "gridcolor": "white",
             "linecolor": "white",
             "minorgridcolor": "white",
             "startlinecolor": "#2a3f5f"
            },
            "baxis": {
             "endlinecolor": "#2a3f5f",
             "gridcolor": "white",
             "linecolor": "white",
             "minorgridcolor": "white",
             "startlinecolor": "#2a3f5f"
            },
            "type": "carpet"
           }
          ],
          "choropleth": [
           {
            "colorbar": {
             "outlinewidth": 0,
             "ticks": ""
            },
            "type": "choropleth"
           }
          ],
          "contour": [
           {
            "colorbar": {
             "outlinewidth": 0,
             "ticks": ""
            },
            "colorscale": [
             [
              0,
              "#0d0887"
             ],
             [
              0.1111111111111111,
              "#46039f"
             ],
             [
              0.2222222222222222,
              "#7201a8"
             ],
             [
              0.3333333333333333,
              "#9c179e"
             ],
             [
              0.4444444444444444,
              "#bd3786"
             ],
             [
              0.5555555555555556,
              "#d8576b"
             ],
             [
              0.6666666666666666,
              "#ed7953"
             ],
             [
              0.7777777777777778,
              "#fb9f3a"
             ],
             [
              0.8888888888888888,
              "#fdca26"
             ],
             [
              1,
              "#f0f921"
             ]
            ],
            "type": "contour"
           }
          ],
          "contourcarpet": [
           {
            "colorbar": {
             "outlinewidth": 0,
             "ticks": ""
            },
            "type": "contourcarpet"
           }
          ],
          "heatmap": [
           {
            "colorbar": {
             "outlinewidth": 0,
             "ticks": ""
            },
            "colorscale": [
             [
              0,
              "#0d0887"
             ],
             [
              0.1111111111111111,
              "#46039f"
             ],
             [
              0.2222222222222222,
              "#7201a8"
             ],
             [
              0.3333333333333333,
              "#9c179e"
             ],
             [
              0.4444444444444444,
              "#bd3786"
             ],
             [
              0.5555555555555556,
              "#d8576b"
             ],
             [
              0.6666666666666666,
              "#ed7953"
             ],
             [
              0.7777777777777778,
              "#fb9f3a"
             ],
             [
              0.8888888888888888,
              "#fdca26"
             ],
             [
              1,
              "#f0f921"
             ]
            ],
            "type": "heatmap"
           }
          ],
          "heatmapgl": [
           {
            "colorbar": {
             "outlinewidth": 0,
             "ticks": ""
            },
            "colorscale": [
             [
              0,
              "#0d0887"
             ],
             [
              0.1111111111111111,
              "#46039f"
             ],
             [
              0.2222222222222222,
              "#7201a8"
             ],
             [
              0.3333333333333333,
              "#9c179e"
             ],
             [
              0.4444444444444444,
              "#bd3786"
             ],
             [
              0.5555555555555556,
              "#d8576b"
             ],
             [
              0.6666666666666666,
              "#ed7953"
             ],
             [
              0.7777777777777778,
              "#fb9f3a"
             ],
             [
              0.8888888888888888,
              "#fdca26"
             ],
             [
              1,
              "#f0f921"
             ]
            ],
            "type": "heatmapgl"
           }
          ],
          "histogram": [
           {
            "marker": {
             "colorbar": {
              "outlinewidth": 0,
              "ticks": ""
             }
            },
            "type": "histogram"
           }
          ],
          "histogram2d": [
           {
            "colorbar": {
             "outlinewidth": 0,
             "ticks": ""
            },
            "colorscale": [
             [
              0,
              "#0d0887"
             ],
             [
              0.1111111111111111,
              "#46039f"
             ],
             [
              0.2222222222222222,
              "#7201a8"
             ],
             [
              0.3333333333333333,
              "#9c179e"
             ],
             [
              0.4444444444444444,
              "#bd3786"
             ],
             [
              0.5555555555555556,
              "#d8576b"
             ],
             [
              0.6666666666666666,
              "#ed7953"
             ],
             [
              0.7777777777777778,
              "#fb9f3a"
             ],
             [
              0.8888888888888888,
              "#fdca26"
             ],
             [
              1,
              "#f0f921"
             ]
            ],
            "type": "histogram2d"
           }
          ],
          "histogram2dcontour": [
           {
            "colorbar": {
             "outlinewidth": 0,
             "ticks": ""
            },
            "colorscale": [
             [
              0,
              "#0d0887"
             ],
             [
              0.1111111111111111,
              "#46039f"
             ],
             [
              0.2222222222222222,
              "#7201a8"
             ],
             [
              0.3333333333333333,
              "#9c179e"
             ],
             [
              0.4444444444444444,
              "#bd3786"
             ],
             [
              0.5555555555555556,
              "#d8576b"
             ],
             [
              0.6666666666666666,
              "#ed7953"
             ],
             [
              0.7777777777777778,
              "#fb9f3a"
             ],
             [
              0.8888888888888888,
              "#fdca26"
             ],
             [
              1,
              "#f0f921"
             ]
            ],
            "type": "histogram2dcontour"
           }
          ],
          "mesh3d": [
           {
            "colorbar": {
             "outlinewidth": 0,
             "ticks": ""
            },
            "type": "mesh3d"
           }
          ],
          "parcoords": [
           {
            "line": {
             "colorbar": {
              "outlinewidth": 0,
              "ticks": ""
             }
            },
            "type": "parcoords"
           }
          ],
          "pie": [
           {
            "automargin": true,
            "type": "pie"
           }
          ],
          "scatter": [
           {
            "marker": {
             "colorbar": {
              "outlinewidth": 0,
              "ticks": ""
             }
            },
            "type": "scatter"
           }
          ],
          "scatter3d": [
           {
            "line": {
             "colorbar": {
              "outlinewidth": 0,
              "ticks": ""
             }
            },
            "marker": {
             "colorbar": {
              "outlinewidth": 0,
              "ticks": ""
             }
            },
            "type": "scatter3d"
           }
          ],
          "scattercarpet": [
           {
            "marker": {
             "colorbar": {
              "outlinewidth": 0,
              "ticks": ""
             }
            },
            "type": "scattercarpet"
           }
          ],
          "scattergeo": [
           {
            "marker": {
             "colorbar": {
              "outlinewidth": 0,
              "ticks": ""
             }
            },
            "type": "scattergeo"
           }
          ],
          "scattergl": [
           {
            "marker": {
             "colorbar": {
              "outlinewidth": 0,
              "ticks": ""
             }
            },
            "type": "scattergl"
           }
          ],
          "scattermapbox": [
           {
            "marker": {
             "colorbar": {
              "outlinewidth": 0,
              "ticks": ""
             }
            },
            "type": "scattermapbox"
           }
          ],
          "scatterpolar": [
           {
            "marker": {
             "colorbar": {
              "outlinewidth": 0,
              "ticks": ""
             }
            },
            "type": "scatterpolar"
           }
          ],
          "scatterpolargl": [
           {
            "marker": {
             "colorbar": {
              "outlinewidth": 0,
              "ticks": ""
             }
            },
            "type": "scatterpolargl"
           }
          ],
          "scatterternary": [
           {
            "marker": {
             "colorbar": {
              "outlinewidth": 0,
              "ticks": ""
             }
            },
            "type": "scatterternary"
           }
          ],
          "surface": [
           {
            "colorbar": {
             "outlinewidth": 0,
             "ticks": ""
            },
            "colorscale": [
             [
              0,
              "#0d0887"
             ],
             [
              0.1111111111111111,
              "#46039f"
             ],
             [
              0.2222222222222222,
              "#7201a8"
             ],
             [
              0.3333333333333333,
              "#9c179e"
             ],
             [
              0.4444444444444444,
              "#bd3786"
             ],
             [
              0.5555555555555556,
              "#d8576b"
             ],
             [
              0.6666666666666666,
              "#ed7953"
             ],
             [
              0.7777777777777778,
              "#fb9f3a"
             ],
             [
              0.8888888888888888,
              "#fdca26"
             ],
             [
              1,
              "#f0f921"
             ]
            ],
            "type": "surface"
           }
          ],
          "table": [
           {
            "cells": {
             "fill": {
              "color": "#EBF0F8"
             },
             "line": {
              "color": "white"
             }
            },
            "header": {
             "fill": {
              "color": "#C8D4E3"
             },
             "line": {
              "color": "white"
             }
            },
            "type": "table"
           }
          ]
         },
         "layout": {
          "annotationdefaults": {
           "arrowcolor": "#2a3f5f",
           "arrowhead": 0,
           "arrowwidth": 1
          },
          "autotypenumbers": "strict",
          "coloraxis": {
           "colorbar": {
            "outlinewidth": 0,
            "ticks": ""
           }
          },
          "colorscale": {
           "diverging": [
            [
             0,
             "#8e0152"
            ],
            [
             0.1,
             "#c51b7d"
            ],
            [
             0.2,
             "#de77ae"
            ],
            [
             0.3,
             "#f1b6da"
            ],
            [
             0.4,
             "#fde0ef"
            ],
            [
             0.5,
             "#f7f7f7"
            ],
            [
             0.6,
             "#e6f5d0"
            ],
            [
             0.7,
             "#b8e186"
            ],
            [
             0.8,
             "#7fbc41"
            ],
            [
             0.9,
             "#4d9221"
            ],
            [
             1,
             "#276419"
            ]
           ],
           "sequential": [
            [
             0,
             "#0d0887"
            ],
            [
             0.1111111111111111,
             "#46039f"
            ],
            [
             0.2222222222222222,
             "#7201a8"
            ],
            [
             0.3333333333333333,
             "#9c179e"
            ],
            [
             0.4444444444444444,
             "#bd3786"
            ],
            [
             0.5555555555555556,
             "#d8576b"
            ],
            [
             0.6666666666666666,
             "#ed7953"
            ],
            [
             0.7777777777777778,
             "#fb9f3a"
            ],
            [
             0.8888888888888888,
             "#fdca26"
            ],
            [
             1,
             "#f0f921"
            ]
           ],
           "sequentialminus": [
            [
             0,
             "#0d0887"
            ],
            [
             0.1111111111111111,
             "#46039f"
            ],
            [
             0.2222222222222222,
             "#7201a8"
            ],
            [
             0.3333333333333333,
             "#9c179e"
            ],
            [
             0.4444444444444444,
             "#bd3786"
            ],
            [
             0.5555555555555556,
             "#d8576b"
            ],
            [
             0.6666666666666666,
             "#ed7953"
            ],
            [
             0.7777777777777778,
             "#fb9f3a"
            ],
            [
             0.8888888888888888,
             "#fdca26"
            ],
            [
             1,
             "#f0f921"
            ]
           ]
          },
          "colorway": [
           "#636efa",
           "#EF553B",
           "#00cc96",
           "#ab63fa",
           "#FFA15A",
           "#19d3f3",
           "#FF6692",
           "#B6E880",
           "#FF97FF",
           "#FECB52"
          ],
          "font": {
           "color": "#2a3f5f"
          },
          "geo": {
           "bgcolor": "white",
           "lakecolor": "white",
           "landcolor": "#E5ECF6",
           "showlakes": true,
           "showland": true,
           "subunitcolor": "white"
          },
          "hoverlabel": {
           "align": "left"
          },
          "hovermode": "closest",
          "mapbox": {
           "style": "light"
          },
          "paper_bgcolor": "white",
          "plot_bgcolor": "#E5ECF6",
          "polar": {
           "angularaxis": {
            "gridcolor": "white",
            "linecolor": "white",
            "ticks": ""
           },
           "bgcolor": "#E5ECF6",
           "radialaxis": {
            "gridcolor": "white",
            "linecolor": "white",
            "ticks": ""
           }
          },
          "scene": {
           "xaxis": {
            "backgroundcolor": "#E5ECF6",
            "gridcolor": "white",
            "gridwidth": 2,
            "linecolor": "white",
            "showbackground": true,
            "ticks": "",
            "zerolinecolor": "white"
           },
           "yaxis": {
            "backgroundcolor": "#E5ECF6",
            "gridcolor": "white",
            "gridwidth": 2,
            "linecolor": "white",
            "showbackground": true,
            "ticks": "",
            "zerolinecolor": "white"
           },
           "zaxis": {
            "backgroundcolor": "#E5ECF6",
            "gridcolor": "white",
            "gridwidth": 2,
            "linecolor": "white",
            "showbackground": true,
            "ticks": "",
            "zerolinecolor": "white"
           }
          },
          "shapedefaults": {
           "line": {
            "color": "#2a3f5f"
           }
          },
          "ternary": {
           "aaxis": {
            "gridcolor": "white",
            "linecolor": "white",
            "ticks": ""
           },
           "baxis": {
            "gridcolor": "white",
            "linecolor": "white",
            "ticks": ""
           },
           "bgcolor": "#E5ECF6",
           "caxis": {
            "gridcolor": "white",
            "linecolor": "white",
            "ticks": ""
           }
          },
          "title": {
           "x": 0.05
          },
          "xaxis": {
           "automargin": true,
           "gridcolor": "white",
           "linecolor": "white",
           "ticks": "",
           "title": {
            "standoff": 15
           },
           "zerolinecolor": "white",
           "zerolinewidth": 2
          },
          "yaxis": {
           "automargin": true,
           "gridcolor": "white",
           "linecolor": "white",
           "ticks": "",
           "title": {
            "standoff": 15
           },
           "zerolinecolor": "white",
           "zerolinewidth": 2
          }
         }
        },
        "title": {
         "text": "Valores de custo para cada mudança na probabilidade de atingir a meta"
        },
        "xaxis": {
         "title": {
          "text": "Probabilidade (p')"
         }
        },
        "yaxis": {
         "title": {
          "text": "Custo (c')"
         }
        }
       }
      },
      "text/html": [
       "<div>                            <div id=\"bf9cd7c7-ffed-4f53-ace7-b784da531c57\" class=\"plotly-graph-div\" style=\"height:525px; width:100%;\"></div>            <script type=\"text/javascript\">                require([\"plotly\"], function(Plotly) {                    window.PLOTLYENV=window.PLOTLYENV || {};                                    if (document.getElementById(\"bf9cd7c7-ffed-4f53-ace7-b784da531c57\")) {                    Plotly.newPlot(                        \"bf9cd7c7-ffed-4f53-ace7-b784da531c57\",                        [{\"line\": {\"color\": \"orange\"}, \"mode\": \"lines\", \"name\": \"MIN\", \"type\": \"scatter\", \"x\": [0.05, 0.1, 0.15, 0.2, 0.25, 0.3, 0.35, 0.4, 0.45, 0.5, 0.55, 0.6, 0.65, 0.7, 0.75, 0.8, 0.85, 0.9, 0.95], \"y\": [0.05390835579514826, 0.11363636363636366, 0.18018018018018023, 0.2547770700636943, 0.3389830508474576, 0.4347826086956523, 0.5447470817120622, 0.6722689075630253, 0.8219178082191779, 0.9999999999999998, 1.0045662100456638, 1.0084033613445387, 1.011673151750973, 1.014492753623188, 1.016949152542372, 1.0191082802547755, 1.0210210210210218, 1.022727272727273, 1.0242587601078164]}, {\"fill\": \"tonexty\", \"line\": {\"color\": \"blue\"}, \"mode\": \"lines\", \"name\": \"MAX\", \"type\": \"scatter\", \"x\": [0.05, 0.1, 0.15, 0.2, 0.25, 0.3, 0.35, 0.4, 0.45, 0.5, 0.55, 0.6, 0.65, 0.7, 0.75, 0.8, 0.85, 0.9, 0.95], \"y\": [0.6896551724137955, 0.8333333333333344, 0.8955223880597035, 0.9302325581395348, 0.952380952380953, 0.9677419354838723, 0.9790209790209792, 0.9876543209876535, 0.9944751381215481, 1.0000000000000002, 1.2154696132596683, 1.4814814814814816, 1.8181818181818183, 2.2580645161290334, 2.857142857142858, 3.720930232558143, 5.074626865671647, 7.500000000000016, 13.103448275862114]}],                        {\"template\": {\"data\": {\"bar\": [{\"error_x\": {\"color\": \"#2a3f5f\"}, \"error_y\": {\"color\": \"#2a3f5f\"}, \"marker\": {\"line\": {\"color\": \"#E5ECF6\", \"width\": 0.5}}, \"type\": \"bar\"}], \"barpolar\": [{\"marker\": {\"line\": {\"color\": \"#E5ECF6\", \"width\": 0.5}}, \"type\": \"barpolar\"}], \"carpet\": [{\"aaxis\": {\"endlinecolor\": \"#2a3f5f\", \"gridcolor\": \"white\", \"linecolor\": \"white\", \"minorgridcolor\": \"white\", \"startlinecolor\": \"#2a3f5f\"}, \"baxis\": {\"endlinecolor\": \"#2a3f5f\", \"gridcolor\": \"white\", \"linecolor\": \"white\", \"minorgridcolor\": \"white\", \"startlinecolor\": \"#2a3f5f\"}, \"type\": \"carpet\"}], \"choropleth\": [{\"colorbar\": {\"outlinewidth\": 0, \"ticks\": \"\"}, \"type\": \"choropleth\"}], \"contour\": [{\"colorbar\": {\"outlinewidth\": 0, \"ticks\": \"\"}, \"colorscale\": [[0.0, \"#0d0887\"], [0.1111111111111111, \"#46039f\"], [0.2222222222222222, \"#7201a8\"], [0.3333333333333333, \"#9c179e\"], [0.4444444444444444, \"#bd3786\"], [0.5555555555555556, \"#d8576b\"], [0.6666666666666666, \"#ed7953\"], [0.7777777777777778, \"#fb9f3a\"], [0.8888888888888888, \"#fdca26\"], [1.0, \"#f0f921\"]], \"type\": \"contour\"}], \"contourcarpet\": [{\"colorbar\": {\"outlinewidth\": 0, \"ticks\": \"\"}, \"type\": \"contourcarpet\"}], \"heatmap\": [{\"colorbar\": {\"outlinewidth\": 0, \"ticks\": \"\"}, \"colorscale\": [[0.0, \"#0d0887\"], [0.1111111111111111, \"#46039f\"], [0.2222222222222222, \"#7201a8\"], [0.3333333333333333, \"#9c179e\"], [0.4444444444444444, \"#bd3786\"], [0.5555555555555556, \"#d8576b\"], [0.6666666666666666, \"#ed7953\"], [0.7777777777777778, \"#fb9f3a\"], [0.8888888888888888, \"#fdca26\"], [1.0, \"#f0f921\"]], \"type\": \"heatmap\"}], \"heatmapgl\": [{\"colorbar\": {\"outlinewidth\": 0, \"ticks\": \"\"}, \"colorscale\": [[0.0, \"#0d0887\"], [0.1111111111111111, \"#46039f\"], [0.2222222222222222, \"#7201a8\"], [0.3333333333333333, \"#9c179e\"], [0.4444444444444444, \"#bd3786\"], [0.5555555555555556, \"#d8576b\"], [0.6666666666666666, \"#ed7953\"], [0.7777777777777778, \"#fb9f3a\"], [0.8888888888888888, \"#fdca26\"], [1.0, \"#f0f921\"]], \"type\": \"heatmapgl\"}], \"histogram\": [{\"marker\": {\"colorbar\": {\"outlinewidth\": 0, \"ticks\": \"\"}}, \"type\": \"histogram\"}], \"histogram2d\": [{\"colorbar\": {\"outlinewidth\": 0, \"ticks\": \"\"}, \"colorscale\": [[0.0, \"#0d0887\"], [0.1111111111111111, \"#46039f\"], [0.2222222222222222, \"#7201a8\"], [0.3333333333333333, \"#9c179e\"], [0.4444444444444444, \"#bd3786\"], [0.5555555555555556, \"#d8576b\"], [0.6666666666666666, \"#ed7953\"], [0.7777777777777778, \"#fb9f3a\"], [0.8888888888888888, \"#fdca26\"], [1.0, \"#f0f921\"]], \"type\": \"histogram2d\"}], \"histogram2dcontour\": [{\"colorbar\": {\"outlinewidth\": 0, \"ticks\": \"\"}, \"colorscale\": [[0.0, \"#0d0887\"], [0.1111111111111111, \"#46039f\"], [0.2222222222222222, \"#7201a8\"], [0.3333333333333333, \"#9c179e\"], [0.4444444444444444, \"#bd3786\"], [0.5555555555555556, \"#d8576b\"], [0.6666666666666666, \"#ed7953\"], [0.7777777777777778, \"#fb9f3a\"], [0.8888888888888888, \"#fdca26\"], [1.0, \"#f0f921\"]], \"type\": \"histogram2dcontour\"}], \"mesh3d\": [{\"colorbar\": {\"outlinewidth\": 0, \"ticks\": \"\"}, \"type\": \"mesh3d\"}], \"parcoords\": [{\"line\": {\"colorbar\": {\"outlinewidth\": 0, \"ticks\": \"\"}}, \"type\": \"parcoords\"}], \"pie\": [{\"automargin\": true, \"type\": \"pie\"}], \"scatter\": [{\"marker\": {\"colorbar\": {\"outlinewidth\": 0, \"ticks\": \"\"}}, \"type\": \"scatter\"}], \"scatter3d\": [{\"line\": {\"colorbar\": {\"outlinewidth\": 0, \"ticks\": \"\"}}, \"marker\": {\"colorbar\": {\"outlinewidth\": 0, \"ticks\": \"\"}}, \"type\": \"scatter3d\"}], \"scattercarpet\": [{\"marker\": {\"colorbar\": {\"outlinewidth\": 0, \"ticks\": \"\"}}, \"type\": \"scattercarpet\"}], \"scattergeo\": [{\"marker\": {\"colorbar\": {\"outlinewidth\": 0, \"ticks\": \"\"}}, \"type\": \"scattergeo\"}], \"scattergl\": [{\"marker\": {\"colorbar\": {\"outlinewidth\": 0, \"ticks\": \"\"}}, \"type\": \"scattergl\"}], \"scattermapbox\": [{\"marker\": {\"colorbar\": {\"outlinewidth\": 0, \"ticks\": \"\"}}, \"type\": \"scattermapbox\"}], \"scatterpolar\": [{\"marker\": {\"colorbar\": {\"outlinewidth\": 0, \"ticks\": \"\"}}, \"type\": \"scatterpolar\"}], \"scatterpolargl\": [{\"marker\": {\"colorbar\": {\"outlinewidth\": 0, \"ticks\": \"\"}}, \"type\": \"scatterpolargl\"}], \"scatterternary\": [{\"marker\": {\"colorbar\": {\"outlinewidth\": 0, \"ticks\": \"\"}}, \"type\": \"scatterternary\"}], \"surface\": [{\"colorbar\": {\"outlinewidth\": 0, \"ticks\": \"\"}, \"colorscale\": [[0.0, \"#0d0887\"], [0.1111111111111111, \"#46039f\"], [0.2222222222222222, \"#7201a8\"], [0.3333333333333333, \"#9c179e\"], [0.4444444444444444, \"#bd3786\"], [0.5555555555555556, \"#d8576b\"], [0.6666666666666666, \"#ed7953\"], [0.7777777777777778, \"#fb9f3a\"], [0.8888888888888888, \"#fdca26\"], [1.0, \"#f0f921\"]], \"type\": \"surface\"}], \"table\": [{\"cells\": {\"fill\": {\"color\": \"#EBF0F8\"}, \"line\": {\"color\": \"white\"}}, \"header\": {\"fill\": {\"color\": \"#C8D4E3\"}, \"line\": {\"color\": \"white\"}}, \"type\": \"table\"}]}, \"layout\": {\"annotationdefaults\": {\"arrowcolor\": \"#2a3f5f\", \"arrowhead\": 0, \"arrowwidth\": 1}, \"autotypenumbers\": \"strict\", \"coloraxis\": {\"colorbar\": {\"outlinewidth\": 0, \"ticks\": \"\"}}, \"colorscale\": {\"diverging\": [[0, \"#8e0152\"], [0.1, \"#c51b7d\"], [0.2, \"#de77ae\"], [0.3, \"#f1b6da\"], [0.4, \"#fde0ef\"], [0.5, \"#f7f7f7\"], [0.6, \"#e6f5d0\"], [0.7, \"#b8e186\"], [0.8, \"#7fbc41\"], [0.9, \"#4d9221\"], [1, \"#276419\"]], \"sequential\": [[0.0, \"#0d0887\"], [0.1111111111111111, \"#46039f\"], [0.2222222222222222, \"#7201a8\"], [0.3333333333333333, \"#9c179e\"], [0.4444444444444444, \"#bd3786\"], [0.5555555555555556, \"#d8576b\"], [0.6666666666666666, \"#ed7953\"], [0.7777777777777778, \"#fb9f3a\"], [0.8888888888888888, \"#fdca26\"], [1.0, \"#f0f921\"]], \"sequentialminus\": [[0.0, \"#0d0887\"], [0.1111111111111111, \"#46039f\"], [0.2222222222222222, \"#7201a8\"], [0.3333333333333333, \"#9c179e\"], [0.4444444444444444, \"#bd3786\"], [0.5555555555555556, \"#d8576b\"], [0.6666666666666666, \"#ed7953\"], [0.7777777777777778, \"#fb9f3a\"], [0.8888888888888888, \"#fdca26\"], [1.0, \"#f0f921\"]]}, \"colorway\": [\"#636efa\", \"#EF553B\", \"#00cc96\", \"#ab63fa\", \"#FFA15A\", \"#19d3f3\", \"#FF6692\", \"#B6E880\", \"#FF97FF\", \"#FECB52\"], \"font\": {\"color\": \"#2a3f5f\"}, \"geo\": {\"bgcolor\": \"white\", \"lakecolor\": \"white\", \"landcolor\": \"#E5ECF6\", \"showlakes\": true, \"showland\": true, \"subunitcolor\": \"white\"}, \"hoverlabel\": {\"align\": \"left\"}, \"hovermode\": \"closest\", \"mapbox\": {\"style\": \"light\"}, \"paper_bgcolor\": \"white\", \"plot_bgcolor\": \"#E5ECF6\", \"polar\": {\"angularaxis\": {\"gridcolor\": \"white\", \"linecolor\": \"white\", \"ticks\": \"\"}, \"bgcolor\": \"#E5ECF6\", \"radialaxis\": {\"gridcolor\": \"white\", \"linecolor\": \"white\", \"ticks\": \"\"}}, \"scene\": {\"xaxis\": {\"backgroundcolor\": \"#E5ECF6\", \"gridcolor\": \"white\", \"gridwidth\": 2, \"linecolor\": \"white\", \"showbackground\": true, \"ticks\": \"\", \"zerolinecolor\": \"white\"}, \"yaxis\": {\"backgroundcolor\": \"#E5ECF6\", \"gridcolor\": \"white\", \"gridwidth\": 2, \"linecolor\": \"white\", \"showbackground\": true, \"ticks\": \"\", \"zerolinecolor\": \"white\"}, \"zaxis\": {\"backgroundcolor\": \"#E5ECF6\", \"gridcolor\": \"white\", \"gridwidth\": 2, \"linecolor\": \"white\", \"showbackground\": true, \"ticks\": \"\", \"zerolinecolor\": \"white\"}}, \"shapedefaults\": {\"line\": {\"color\": \"#2a3f5f\"}}, \"ternary\": {\"aaxis\": {\"gridcolor\": \"white\", \"linecolor\": \"white\", \"ticks\": \"\"}, \"baxis\": {\"gridcolor\": \"white\", \"linecolor\": \"white\", \"ticks\": \"\"}, \"bgcolor\": \"#E5ECF6\", \"caxis\": {\"gridcolor\": \"white\", \"linecolor\": \"white\", \"ticks\": \"\"}}, \"title\": {\"x\": 0.05}, \"xaxis\": {\"automargin\": true, \"gridcolor\": \"white\", \"linecolor\": \"white\", \"ticks\": \"\", \"title\": {\"standoff\": 15}, \"zerolinecolor\": \"white\", \"zerolinewidth\": 2}, \"yaxis\": {\"automargin\": true, \"gridcolor\": \"white\", \"linecolor\": \"white\", \"ticks\": \"\", \"title\": {\"standoff\": 15}, \"zerolinecolor\": \"white\", \"zerolinewidth\": 2}}}, \"title\": {\"text\": \"Valores de custo para cada mudan\\u00e7a na probabilidade de atingir a meta\"}, \"xaxis\": {\"title\": {\"text\": \"Probabilidade (p')\"}}, \"yaxis\": {\"title\": {\"text\": \"Custo (c')\"}}},                        {\"responsive\": true}                    ).then(function(){\n",
       "                            \n",
       "var gd = document.getElementById('bf9cd7c7-ffed-4f53-ace7-b784da531c57');\n",
       "var x = new MutationObserver(function (mutations, observer) {{\n",
       "        var display = window.getComputedStyle(gd).display;\n",
       "        if (!display || display === 'none') {{\n",
       "            console.log([gd, 'removed!']);\n",
       "            Plotly.purge(gd);\n",
       "            observer.disconnect();\n",
       "        }}\n",
       "}});\n",
       "\n",
       "// Listen for the removal of the full notebook cells\n",
       "var notebookContainer = gd.closest('#notebook-container');\n",
       "if (notebookContainer) {{\n",
       "    x.observe(notebookContainer, {childList: true});\n",
       "}}\n",
       "\n",
       "// Listen for the clearing of the current output cell\n",
       "var outputEl = gd.closest('.output');\n",
       "if (outputEl) {{\n",
       "    x.observe(outputEl, {childList: true});\n",
       "}}\n",
       "\n",
       "                        })                };                });            </script>        </div>"
      ]
     },
     "metadata": {},
     "output_type": "display_data"
    }
   ],
   "source": [
    "p, c, l, p_line, gamma = 0.5, 1, 0.1, 0.5, 1\n",
    "\n",
    "c_line_piecewise = get_values_c_line_piecewise(p, c, l, p_line, gamma, rini_k=-0.95, rend_k=1, step_k=0.05, \n",
    "                                rini_p=0.05, rend_p=1, step_p=0.05)\n",
    "\n",
    "f4 = viz_hist_values(c_line_piecewise, range_x, False)\n",
    "\n",
    "c_pw_max, c_pw_min = get_min_max_c_lines(c_line_piecewise)\n",
    "f5 = viz_expressividade(c_line_piecewise, range_x, c_pw_max, c_pw_min, c1='blue', c2='orange')\n",
    "f6 = viz_expressividade_fill(range_x, c_pw_max, c_pw_min, c1='blue', c2='orange')"
   ]
  },
  {
   "cell_type": "markdown",
   "metadata": {},
   "source": [
    "## Exponential & Piecewise\n",
    "\n",
    "Em termos de atitude de risco do agente, avaliamos a priori que:\n",
    "\n",
    "|Fator de Risco ($\\lambda$)|Fator de Risco ($k$)|Atitude|\n",
    "|--|--|--|\n",
    "|$\\lambda > 0$|$k > 0$|Aversão|\n",
    "|$\\lambda \\rightarrow 0$|$k \\rightarrow 0$|Neutro|\n",
    "|$\\lambda < 0$|$k < 0$|Propensão|\n",
    "\n",
    "Desta forma, em termos de expressividade ($\\zeta$), podemos dizer que o método Piecewise-Linear é mais expressivo que a função de utilidade exponencial $\\zeta_{PWL}>\\zeta_{EXP}$. \n",
    "\n",
    "Podemos considerar considerando $u(p)$ a função de utilidade exponencial que corresponde aos custos relacionados a uma probabilidade $p$ a partir do método, sendo $u_{max}(p)$ a função com valores máximos de expressividade $\\zeta$ e $u_{min}(p)$ a função com valores mínimos de expressividade $\\zeta$. Neste mesmo sentido, considerando $l(p)$ a transformação piecewise-linear, enquanto $l_{max}(p)$ a função com valores máximos de expressividade $\\zeta$ e $l_{min}(p)$ a função com valores mínimos de expressividade $\\zeta$.\n",
    "\n",
    "Com isto, podemos formular que:\n",
    "\n",
    "$$\n",
    "\\zeta_{EXP} = \\int u_{max}(p) - u_{min}(p) du\n",
    "$$\n",
    "\n",
    "$$\n",
    "\\zeta_{PWL} = \\int l_{max}(p) - l_{min}(p) dl\n",
    "$$\n",
    "\n",
    "Visto que, para todo $0 < p \\leq 1$ temos que $u_{max}(p) \\geq u_{min}(p)$ e $l_{max}(p) \\geq l_{min}(p)$."
   ]
  },
  {
   "cell_type": "code",
   "execution_count": 14,
   "metadata": {
    "ExecuteTime": {
     "end_time": "2023-08-24T16:01:14.529793Z",
     "start_time": "2023-08-24T16:01:14.376267Z"
    }
   },
   "outputs": [
    {
     "data": {
      "application/vnd.plotly.v1+json": {
       "config": {
        "plotlyServerURL": "https://plot.ly"
       },
       "data": [
        {
         "line": {
          "color": "green"
         },
         "mode": "lines",
         "name": "MAX_EXP",
         "type": "scatter",
         "x": [
          0.05,
          0.1,
          0.15000000000000002,
          0.2,
          0.25,
          0.3,
          0.35,
          0.39999999999999997,
          0.44999999999999996,
          0.49999999999999994,
          0.5499999999999999,
          0.6,
          0.65,
          0.7000000000000001,
          0.7500000000000001,
          0.8000000000000002,
          0.8500000000000002,
          0.9000000000000002,
          0.9500000000000003
         ],
         "y": [
          0.15493402079232038,
          0.2899623010767797,
          0.40962230901984037,
          0.5170575837478053,
          0.6145360276747438,
          0.7037476659170588,
          0.7859856975396531,
          0.8622617634598161,
          0.933382180135901,
          1,
          1.0626515508534018,
          1.1217826959637844,
          1.1777681009284298,
          1.230925629554433,
          1.281527275659983,
          1.3298075853076972,
          1.375970230560889,
          1.4201932011953577,
          1.4626329490105987
         ]
        },
        {
         "line": {
          "color": "blue"
         },
         "mode": "lines",
         "name": "MAX_PWL",
         "type": "scatter",
         "x": [
          0.05,
          0.1,
          0.15000000000000002,
          0.2,
          0.25,
          0.3,
          0.35,
          0.39999999999999997,
          0.44999999999999996,
          0.49999999999999994,
          0.5499999999999999,
          0.6,
          0.65,
          0.7000000000000001,
          0.7500000000000001,
          0.8000000000000002,
          0.8500000000000002,
          0.9000000000000002,
          0.9500000000000003
         ],
         "y": [
          0.6896551724137955,
          0.8333333333333344,
          0.8955223880597035,
          0.9302325581395348,
          0.952380952380953,
          0.9677419354838723,
          0.9790209790209792,
          0.9876543209876535,
          0.9944751381215481,
          1.0000000000000002,
          1.2154696132596683,
          1.4814814814814816,
          1.8181818181818183,
          2.2580645161290334,
          2.857142857142858,
          3.720930232558143,
          5.074626865671647,
          7.500000000000016,
          13.103448275862114
         ]
        },
        {
         "line": {
          "color": "red"
         },
         "mode": "lines",
         "name": "MIN_EXP",
         "type": "scatter",
         "x": [
          0.05,
          0.1,
          0.15000000000000002,
          0.2,
          0.25,
          0.3,
          0.35,
          0.39999999999999997,
          0.44999999999999996,
          0.49999999999999994,
          0.5499999999999999,
          0.6,
          0.65,
          0.7000000000000001,
          0.7500000000000001,
          0.8000000000000002,
          0.8500000000000002,
          0.9000000000000002,
          0.9500000000000003
         ],
         "y": [
          0.15493402079232038,
          0.2899623010767797,
          0.40962230901984037,
          0.5170575837478053,
          0.6145360276747438,
          0.7037476659170588,
          0.7859856975396531,
          0.8622617634598161,
          0.933382180135901,
          1,
          1.0626515508534018,
          1.1217826959637844,
          1.1777681009284298,
          1.230925629554433,
          1.281527275659983,
          1.3298075853076972,
          1.375970230560889,
          1.4201932011953577,
          1.4626329490105987
         ]
        },
        {
         "line": {
          "color": "orange"
         },
         "mode": "lines",
         "name": "MIN_PWL",
         "type": "scatter",
         "x": [
          0.05,
          0.1,
          0.15000000000000002,
          0.2,
          0.25,
          0.3,
          0.35,
          0.39999999999999997,
          0.44999999999999996,
          0.49999999999999994,
          0.5499999999999999,
          0.6,
          0.65,
          0.7000000000000001,
          0.7500000000000001,
          0.8000000000000002,
          0.8500000000000002,
          0.9000000000000002,
          0.9500000000000003
         ],
         "y": [
          0.05390835579514826,
          0.11363636363636366,
          0.18018018018018023,
          0.2547770700636943,
          0.3389830508474576,
          0.4347826086956523,
          0.5447470817120622,
          0.6722689075630253,
          0.8219178082191779,
          0.9999999999999998,
          1.0045662100456638,
          1.0084033613445387,
          1.011673151750973,
          1.014492753623188,
          1.016949152542372,
          1.0191082802547755,
          1.0210210210210218,
          1.022727272727273,
          1.0242587601078164
         ]
        }
       ],
       "layout": {
        "template": {
         "data": {
          "bar": [
           {
            "error_x": {
             "color": "#2a3f5f"
            },
            "error_y": {
             "color": "#2a3f5f"
            },
            "marker": {
             "line": {
              "color": "#E5ECF6",
              "width": 0.5
             }
            },
            "type": "bar"
           }
          ],
          "barpolar": [
           {
            "marker": {
             "line": {
              "color": "#E5ECF6",
              "width": 0.5
             }
            },
            "type": "barpolar"
           }
          ],
          "carpet": [
           {
            "aaxis": {
             "endlinecolor": "#2a3f5f",
             "gridcolor": "white",
             "linecolor": "white",
             "minorgridcolor": "white",
             "startlinecolor": "#2a3f5f"
            },
            "baxis": {
             "endlinecolor": "#2a3f5f",
             "gridcolor": "white",
             "linecolor": "white",
             "minorgridcolor": "white",
             "startlinecolor": "#2a3f5f"
            },
            "type": "carpet"
           }
          ],
          "choropleth": [
           {
            "colorbar": {
             "outlinewidth": 0,
             "ticks": ""
            },
            "type": "choropleth"
           }
          ],
          "contour": [
           {
            "colorbar": {
             "outlinewidth": 0,
             "ticks": ""
            },
            "colorscale": [
             [
              0,
              "#0d0887"
             ],
             [
              0.1111111111111111,
              "#46039f"
             ],
             [
              0.2222222222222222,
              "#7201a8"
             ],
             [
              0.3333333333333333,
              "#9c179e"
             ],
             [
              0.4444444444444444,
              "#bd3786"
             ],
             [
              0.5555555555555556,
              "#d8576b"
             ],
             [
              0.6666666666666666,
              "#ed7953"
             ],
             [
              0.7777777777777778,
              "#fb9f3a"
             ],
             [
              0.8888888888888888,
              "#fdca26"
             ],
             [
              1,
              "#f0f921"
             ]
            ],
            "type": "contour"
           }
          ],
          "contourcarpet": [
           {
            "colorbar": {
             "outlinewidth": 0,
             "ticks": ""
            },
            "type": "contourcarpet"
           }
          ],
          "heatmap": [
           {
            "colorbar": {
             "outlinewidth": 0,
             "ticks": ""
            },
            "colorscale": [
             [
              0,
              "#0d0887"
             ],
             [
              0.1111111111111111,
              "#46039f"
             ],
             [
              0.2222222222222222,
              "#7201a8"
             ],
             [
              0.3333333333333333,
              "#9c179e"
             ],
             [
              0.4444444444444444,
              "#bd3786"
             ],
             [
              0.5555555555555556,
              "#d8576b"
             ],
             [
              0.6666666666666666,
              "#ed7953"
             ],
             [
              0.7777777777777778,
              "#fb9f3a"
             ],
             [
              0.8888888888888888,
              "#fdca26"
             ],
             [
              1,
              "#f0f921"
             ]
            ],
            "type": "heatmap"
           }
          ],
          "heatmapgl": [
           {
            "colorbar": {
             "outlinewidth": 0,
             "ticks": ""
            },
            "colorscale": [
             [
              0,
              "#0d0887"
             ],
             [
              0.1111111111111111,
              "#46039f"
             ],
             [
              0.2222222222222222,
              "#7201a8"
             ],
             [
              0.3333333333333333,
              "#9c179e"
             ],
             [
              0.4444444444444444,
              "#bd3786"
             ],
             [
              0.5555555555555556,
              "#d8576b"
             ],
             [
              0.6666666666666666,
              "#ed7953"
             ],
             [
              0.7777777777777778,
              "#fb9f3a"
             ],
             [
              0.8888888888888888,
              "#fdca26"
             ],
             [
              1,
              "#f0f921"
             ]
            ],
            "type": "heatmapgl"
           }
          ],
          "histogram": [
           {
            "marker": {
             "colorbar": {
              "outlinewidth": 0,
              "ticks": ""
             }
            },
            "type": "histogram"
           }
          ],
          "histogram2d": [
           {
            "colorbar": {
             "outlinewidth": 0,
             "ticks": ""
            },
            "colorscale": [
             [
              0,
              "#0d0887"
             ],
             [
              0.1111111111111111,
              "#46039f"
             ],
             [
              0.2222222222222222,
              "#7201a8"
             ],
             [
              0.3333333333333333,
              "#9c179e"
             ],
             [
              0.4444444444444444,
              "#bd3786"
             ],
             [
              0.5555555555555556,
              "#d8576b"
             ],
             [
              0.6666666666666666,
              "#ed7953"
             ],
             [
              0.7777777777777778,
              "#fb9f3a"
             ],
             [
              0.8888888888888888,
              "#fdca26"
             ],
             [
              1,
              "#f0f921"
             ]
            ],
            "type": "histogram2d"
           }
          ],
          "histogram2dcontour": [
           {
            "colorbar": {
             "outlinewidth": 0,
             "ticks": ""
            },
            "colorscale": [
             [
              0,
              "#0d0887"
             ],
             [
              0.1111111111111111,
              "#46039f"
             ],
             [
              0.2222222222222222,
              "#7201a8"
             ],
             [
              0.3333333333333333,
              "#9c179e"
             ],
             [
              0.4444444444444444,
              "#bd3786"
             ],
             [
              0.5555555555555556,
              "#d8576b"
             ],
             [
              0.6666666666666666,
              "#ed7953"
             ],
             [
              0.7777777777777778,
              "#fb9f3a"
             ],
             [
              0.8888888888888888,
              "#fdca26"
             ],
             [
              1,
              "#f0f921"
             ]
            ],
            "type": "histogram2dcontour"
           }
          ],
          "mesh3d": [
           {
            "colorbar": {
             "outlinewidth": 0,
             "ticks": ""
            },
            "type": "mesh3d"
           }
          ],
          "parcoords": [
           {
            "line": {
             "colorbar": {
              "outlinewidth": 0,
              "ticks": ""
             }
            },
            "type": "parcoords"
           }
          ],
          "pie": [
           {
            "automargin": true,
            "type": "pie"
           }
          ],
          "scatter": [
           {
            "marker": {
             "colorbar": {
              "outlinewidth": 0,
              "ticks": ""
             }
            },
            "type": "scatter"
           }
          ],
          "scatter3d": [
           {
            "line": {
             "colorbar": {
              "outlinewidth": 0,
              "ticks": ""
             }
            },
            "marker": {
             "colorbar": {
              "outlinewidth": 0,
              "ticks": ""
             }
            },
            "type": "scatter3d"
           }
          ],
          "scattercarpet": [
           {
            "marker": {
             "colorbar": {
              "outlinewidth": 0,
              "ticks": ""
             }
            },
            "type": "scattercarpet"
           }
          ],
          "scattergeo": [
           {
            "marker": {
             "colorbar": {
              "outlinewidth": 0,
              "ticks": ""
             }
            },
            "type": "scattergeo"
           }
          ],
          "scattergl": [
           {
            "marker": {
             "colorbar": {
              "outlinewidth": 0,
              "ticks": ""
             }
            },
            "type": "scattergl"
           }
          ],
          "scattermapbox": [
           {
            "marker": {
             "colorbar": {
              "outlinewidth": 0,
              "ticks": ""
             }
            },
            "type": "scattermapbox"
           }
          ],
          "scatterpolar": [
           {
            "marker": {
             "colorbar": {
              "outlinewidth": 0,
              "ticks": ""
             }
            },
            "type": "scatterpolar"
           }
          ],
          "scatterpolargl": [
           {
            "marker": {
             "colorbar": {
              "outlinewidth": 0,
              "ticks": ""
             }
            },
            "type": "scatterpolargl"
           }
          ],
          "scatterternary": [
           {
            "marker": {
             "colorbar": {
              "outlinewidth": 0,
              "ticks": ""
             }
            },
            "type": "scatterternary"
           }
          ],
          "surface": [
           {
            "colorbar": {
             "outlinewidth": 0,
             "ticks": ""
            },
            "colorscale": [
             [
              0,
              "#0d0887"
             ],
             [
              0.1111111111111111,
              "#46039f"
             ],
             [
              0.2222222222222222,
              "#7201a8"
             ],
             [
              0.3333333333333333,
              "#9c179e"
             ],
             [
              0.4444444444444444,
              "#bd3786"
             ],
             [
              0.5555555555555556,
              "#d8576b"
             ],
             [
              0.6666666666666666,
              "#ed7953"
             ],
             [
              0.7777777777777778,
              "#fb9f3a"
             ],
             [
              0.8888888888888888,
              "#fdca26"
             ],
             [
              1,
              "#f0f921"
             ]
            ],
            "type": "surface"
           }
          ],
          "table": [
           {
            "cells": {
             "fill": {
              "color": "#EBF0F8"
             },
             "line": {
              "color": "white"
             }
            },
            "header": {
             "fill": {
              "color": "#C8D4E3"
             },
             "line": {
              "color": "white"
             }
            },
            "type": "table"
           }
          ]
         },
         "layout": {
          "annotationdefaults": {
           "arrowcolor": "#2a3f5f",
           "arrowhead": 0,
           "arrowwidth": 1
          },
          "autotypenumbers": "strict",
          "coloraxis": {
           "colorbar": {
            "outlinewidth": 0,
            "ticks": ""
           }
          },
          "colorscale": {
           "diverging": [
            [
             0,
             "#8e0152"
            ],
            [
             0.1,
             "#c51b7d"
            ],
            [
             0.2,
             "#de77ae"
            ],
            [
             0.3,
             "#f1b6da"
            ],
            [
             0.4,
             "#fde0ef"
            ],
            [
             0.5,
             "#f7f7f7"
            ],
            [
             0.6,
             "#e6f5d0"
            ],
            [
             0.7,
             "#b8e186"
            ],
            [
             0.8,
             "#7fbc41"
            ],
            [
             0.9,
             "#4d9221"
            ],
            [
             1,
             "#276419"
            ]
           ],
           "sequential": [
            [
             0,
             "#0d0887"
            ],
            [
             0.1111111111111111,
             "#46039f"
            ],
            [
             0.2222222222222222,
             "#7201a8"
            ],
            [
             0.3333333333333333,
             "#9c179e"
            ],
            [
             0.4444444444444444,
             "#bd3786"
            ],
            [
             0.5555555555555556,
             "#d8576b"
            ],
            [
             0.6666666666666666,
             "#ed7953"
            ],
            [
             0.7777777777777778,
             "#fb9f3a"
            ],
            [
             0.8888888888888888,
             "#fdca26"
            ],
            [
             1,
             "#f0f921"
            ]
           ],
           "sequentialminus": [
            [
             0,
             "#0d0887"
            ],
            [
             0.1111111111111111,
             "#46039f"
            ],
            [
             0.2222222222222222,
             "#7201a8"
            ],
            [
             0.3333333333333333,
             "#9c179e"
            ],
            [
             0.4444444444444444,
             "#bd3786"
            ],
            [
             0.5555555555555556,
             "#d8576b"
            ],
            [
             0.6666666666666666,
             "#ed7953"
            ],
            [
             0.7777777777777778,
             "#fb9f3a"
            ],
            [
             0.8888888888888888,
             "#fdca26"
            ],
            [
             1,
             "#f0f921"
            ]
           ]
          },
          "colorway": [
           "#636efa",
           "#EF553B",
           "#00cc96",
           "#ab63fa",
           "#FFA15A",
           "#19d3f3",
           "#FF6692",
           "#B6E880",
           "#FF97FF",
           "#FECB52"
          ],
          "font": {
           "color": "#2a3f5f"
          },
          "geo": {
           "bgcolor": "white",
           "lakecolor": "white",
           "landcolor": "#E5ECF6",
           "showlakes": true,
           "showland": true,
           "subunitcolor": "white"
          },
          "hoverlabel": {
           "align": "left"
          },
          "hovermode": "closest",
          "mapbox": {
           "style": "light"
          },
          "paper_bgcolor": "white",
          "plot_bgcolor": "#E5ECF6",
          "polar": {
           "angularaxis": {
            "gridcolor": "white",
            "linecolor": "white",
            "ticks": ""
           },
           "bgcolor": "#E5ECF6",
           "radialaxis": {
            "gridcolor": "white",
            "linecolor": "white",
            "ticks": ""
           }
          },
          "scene": {
           "xaxis": {
            "backgroundcolor": "#E5ECF6",
            "gridcolor": "white",
            "gridwidth": 2,
            "linecolor": "white",
            "showbackground": true,
            "ticks": "",
            "zerolinecolor": "white"
           },
           "yaxis": {
            "backgroundcolor": "#E5ECF6",
            "gridcolor": "white",
            "gridwidth": 2,
            "linecolor": "white",
            "showbackground": true,
            "ticks": "",
            "zerolinecolor": "white"
           },
           "zaxis": {
            "backgroundcolor": "#E5ECF6",
            "gridcolor": "white",
            "gridwidth": 2,
            "linecolor": "white",
            "showbackground": true,
            "ticks": "",
            "zerolinecolor": "white"
           }
          },
          "shapedefaults": {
           "line": {
            "color": "#2a3f5f"
           }
          },
          "ternary": {
           "aaxis": {
            "gridcolor": "white",
            "linecolor": "white",
            "ticks": ""
           },
           "baxis": {
            "gridcolor": "white",
            "linecolor": "white",
            "ticks": ""
           },
           "bgcolor": "#E5ECF6",
           "caxis": {
            "gridcolor": "white",
            "linecolor": "white",
            "ticks": ""
           }
          },
          "title": {
           "x": 0.05
          },
          "xaxis": {
           "automargin": true,
           "gridcolor": "white",
           "linecolor": "white",
           "ticks": "",
           "title": {
            "standoff": 15
           },
           "zerolinecolor": "white",
           "zerolinewidth": 2
          },
          "yaxis": {
           "automargin": true,
           "gridcolor": "white",
           "linecolor": "white",
           "ticks": "",
           "title": {
            "standoff": 15
           },
           "zerolinecolor": "white",
           "zerolinewidth": 2
          }
         }
        },
        "title": {
         "text": "Valores de custo para cada mudança na probabilidade de atingir a meta"
        },
        "xaxis": {
         "title": {
          "text": "Probabilidade (p')"
         }
        },
        "yaxis": {
         "title": {
          "text": "Custo (c')"
         }
        }
       }
      },
      "text/html": [
       "<div>                            <div id=\"fd645062-4cf4-4edb-b636-6d2ae234b792\" class=\"plotly-graph-div\" style=\"height:525px; width:100%;\"></div>            <script type=\"text/javascript\">                require([\"plotly\"], function(Plotly) {                    window.PLOTLYENV=window.PLOTLYENV || {};                                    if (document.getElementById(\"fd645062-4cf4-4edb-b636-6d2ae234b792\")) {                    Plotly.newPlot(                        \"fd645062-4cf4-4edb-b636-6d2ae234b792\",                        [{\"line\": {\"color\": \"green\"}, \"mode\": \"lines\", \"name\": \"MAX_EXP\", \"type\": \"scatter\", \"x\": [0.05, 0.1, 0.15000000000000002, 0.2, 0.25, 0.3, 0.35, 0.39999999999999997, 0.44999999999999996, 0.49999999999999994, 0.5499999999999999, 0.6, 0.65, 0.7000000000000001, 0.7500000000000001, 0.8000000000000002, 0.8500000000000002, 0.9000000000000002, 0.9500000000000003], \"y\": [0.15493402079232038, 0.2899623010767797, 0.40962230901984037, 0.5170575837478053, 0.6145360276747438, 0.7037476659170588, 0.7859856975396531, 0.8622617634598161, 0.933382180135901, 1.0, 1.0626515508534018, 1.1217826959637844, 1.1777681009284298, 1.230925629554433, 1.281527275659983, 1.3298075853076972, 1.375970230560889, 1.4201932011953577, 1.4626329490105987]}, {\"line\": {\"color\": \"blue\"}, \"mode\": \"lines\", \"name\": \"MAX_PWL\", \"type\": \"scatter\", \"x\": [0.05, 0.1, 0.15000000000000002, 0.2, 0.25, 0.3, 0.35, 0.39999999999999997, 0.44999999999999996, 0.49999999999999994, 0.5499999999999999, 0.6, 0.65, 0.7000000000000001, 0.7500000000000001, 0.8000000000000002, 0.8500000000000002, 0.9000000000000002, 0.9500000000000003], \"y\": [0.6896551724137955, 0.8333333333333344, 0.8955223880597035, 0.9302325581395348, 0.952380952380953, 0.9677419354838723, 0.9790209790209792, 0.9876543209876535, 0.9944751381215481, 1.0000000000000002, 1.2154696132596683, 1.4814814814814816, 1.8181818181818183, 2.2580645161290334, 2.857142857142858, 3.720930232558143, 5.074626865671647, 7.500000000000016, 13.103448275862114]}, {\"line\": {\"color\": \"red\"}, \"mode\": \"lines\", \"name\": \"MIN_EXP\", \"type\": \"scatter\", \"x\": [0.05, 0.1, 0.15000000000000002, 0.2, 0.25, 0.3, 0.35, 0.39999999999999997, 0.44999999999999996, 0.49999999999999994, 0.5499999999999999, 0.6, 0.65, 0.7000000000000001, 0.7500000000000001, 0.8000000000000002, 0.8500000000000002, 0.9000000000000002, 0.9500000000000003], \"y\": [0.15493402079232038, 0.2899623010767797, 0.40962230901984037, 0.5170575837478053, 0.6145360276747438, 0.7037476659170588, 0.7859856975396531, 0.8622617634598161, 0.933382180135901, 1.0, 1.0626515508534018, 1.1217826959637844, 1.1777681009284298, 1.230925629554433, 1.281527275659983, 1.3298075853076972, 1.375970230560889, 1.4201932011953577, 1.4626329490105987]}, {\"line\": {\"color\": \"orange\"}, \"mode\": \"lines\", \"name\": \"MIN_PWL\", \"type\": \"scatter\", \"x\": [0.05, 0.1, 0.15000000000000002, 0.2, 0.25, 0.3, 0.35, 0.39999999999999997, 0.44999999999999996, 0.49999999999999994, 0.5499999999999999, 0.6, 0.65, 0.7000000000000001, 0.7500000000000001, 0.8000000000000002, 0.8500000000000002, 0.9000000000000002, 0.9500000000000003], \"y\": [0.05390835579514826, 0.11363636363636366, 0.18018018018018023, 0.2547770700636943, 0.3389830508474576, 0.4347826086956523, 0.5447470817120622, 0.6722689075630253, 0.8219178082191779, 0.9999999999999998, 1.0045662100456638, 1.0084033613445387, 1.011673151750973, 1.014492753623188, 1.016949152542372, 1.0191082802547755, 1.0210210210210218, 1.022727272727273, 1.0242587601078164]}],                        {\"template\": {\"data\": {\"bar\": [{\"error_x\": {\"color\": \"#2a3f5f\"}, \"error_y\": {\"color\": \"#2a3f5f\"}, \"marker\": {\"line\": {\"color\": \"#E5ECF6\", \"width\": 0.5}}, \"type\": \"bar\"}], \"barpolar\": [{\"marker\": {\"line\": {\"color\": \"#E5ECF6\", \"width\": 0.5}}, \"type\": \"barpolar\"}], \"carpet\": [{\"aaxis\": {\"endlinecolor\": \"#2a3f5f\", \"gridcolor\": \"white\", \"linecolor\": \"white\", \"minorgridcolor\": \"white\", \"startlinecolor\": \"#2a3f5f\"}, \"baxis\": {\"endlinecolor\": \"#2a3f5f\", \"gridcolor\": \"white\", \"linecolor\": \"white\", \"minorgridcolor\": \"white\", \"startlinecolor\": \"#2a3f5f\"}, \"type\": \"carpet\"}], \"choropleth\": [{\"colorbar\": {\"outlinewidth\": 0, \"ticks\": \"\"}, \"type\": \"choropleth\"}], \"contour\": [{\"colorbar\": {\"outlinewidth\": 0, \"ticks\": \"\"}, \"colorscale\": [[0.0, \"#0d0887\"], [0.1111111111111111, \"#46039f\"], [0.2222222222222222, \"#7201a8\"], [0.3333333333333333, \"#9c179e\"], [0.4444444444444444, \"#bd3786\"], [0.5555555555555556, \"#d8576b\"], [0.6666666666666666, \"#ed7953\"], [0.7777777777777778, \"#fb9f3a\"], [0.8888888888888888, \"#fdca26\"], [1.0, \"#f0f921\"]], \"type\": \"contour\"}], \"contourcarpet\": [{\"colorbar\": {\"outlinewidth\": 0, \"ticks\": \"\"}, \"type\": \"contourcarpet\"}], \"heatmap\": [{\"colorbar\": {\"outlinewidth\": 0, \"ticks\": \"\"}, \"colorscale\": [[0.0, \"#0d0887\"], [0.1111111111111111, \"#46039f\"], [0.2222222222222222, \"#7201a8\"], [0.3333333333333333, \"#9c179e\"], [0.4444444444444444, \"#bd3786\"], [0.5555555555555556, \"#d8576b\"], [0.6666666666666666, \"#ed7953\"], [0.7777777777777778, \"#fb9f3a\"], [0.8888888888888888, \"#fdca26\"], [1.0, \"#f0f921\"]], \"type\": \"heatmap\"}], \"heatmapgl\": [{\"colorbar\": {\"outlinewidth\": 0, \"ticks\": \"\"}, \"colorscale\": [[0.0, \"#0d0887\"], [0.1111111111111111, \"#46039f\"], [0.2222222222222222, \"#7201a8\"], [0.3333333333333333, \"#9c179e\"], [0.4444444444444444, \"#bd3786\"], [0.5555555555555556, \"#d8576b\"], [0.6666666666666666, \"#ed7953\"], [0.7777777777777778, \"#fb9f3a\"], [0.8888888888888888, \"#fdca26\"], [1.0, \"#f0f921\"]], \"type\": \"heatmapgl\"}], \"histogram\": [{\"marker\": {\"colorbar\": {\"outlinewidth\": 0, \"ticks\": \"\"}}, \"type\": \"histogram\"}], \"histogram2d\": [{\"colorbar\": {\"outlinewidth\": 0, \"ticks\": \"\"}, \"colorscale\": [[0.0, \"#0d0887\"], [0.1111111111111111, \"#46039f\"], [0.2222222222222222, \"#7201a8\"], [0.3333333333333333, \"#9c179e\"], [0.4444444444444444, \"#bd3786\"], [0.5555555555555556, \"#d8576b\"], [0.6666666666666666, \"#ed7953\"], [0.7777777777777778, \"#fb9f3a\"], [0.8888888888888888, \"#fdca26\"], [1.0, \"#f0f921\"]], \"type\": \"histogram2d\"}], \"histogram2dcontour\": [{\"colorbar\": {\"outlinewidth\": 0, \"ticks\": \"\"}, \"colorscale\": [[0.0, \"#0d0887\"], [0.1111111111111111, \"#46039f\"], [0.2222222222222222, \"#7201a8\"], [0.3333333333333333, \"#9c179e\"], [0.4444444444444444, \"#bd3786\"], [0.5555555555555556, \"#d8576b\"], [0.6666666666666666, \"#ed7953\"], [0.7777777777777778, \"#fb9f3a\"], [0.8888888888888888, \"#fdca26\"], [1.0, \"#f0f921\"]], \"type\": \"histogram2dcontour\"}], \"mesh3d\": [{\"colorbar\": {\"outlinewidth\": 0, \"ticks\": \"\"}, \"type\": \"mesh3d\"}], \"parcoords\": [{\"line\": {\"colorbar\": {\"outlinewidth\": 0, \"ticks\": \"\"}}, \"type\": \"parcoords\"}], \"pie\": [{\"automargin\": true, \"type\": \"pie\"}], \"scatter\": [{\"marker\": {\"colorbar\": {\"outlinewidth\": 0, \"ticks\": \"\"}}, \"type\": \"scatter\"}], \"scatter3d\": [{\"line\": {\"colorbar\": {\"outlinewidth\": 0, \"ticks\": \"\"}}, \"marker\": {\"colorbar\": {\"outlinewidth\": 0, \"ticks\": \"\"}}, \"type\": \"scatter3d\"}], \"scattercarpet\": [{\"marker\": {\"colorbar\": {\"outlinewidth\": 0, \"ticks\": \"\"}}, \"type\": \"scattercarpet\"}], \"scattergeo\": [{\"marker\": {\"colorbar\": {\"outlinewidth\": 0, \"ticks\": \"\"}}, \"type\": \"scattergeo\"}], \"scattergl\": [{\"marker\": {\"colorbar\": {\"outlinewidth\": 0, \"ticks\": \"\"}}, \"type\": \"scattergl\"}], \"scattermapbox\": [{\"marker\": {\"colorbar\": {\"outlinewidth\": 0, \"ticks\": \"\"}}, \"type\": \"scattermapbox\"}], \"scatterpolar\": [{\"marker\": {\"colorbar\": {\"outlinewidth\": 0, \"ticks\": \"\"}}, \"type\": \"scatterpolar\"}], \"scatterpolargl\": [{\"marker\": {\"colorbar\": {\"outlinewidth\": 0, \"ticks\": \"\"}}, \"type\": \"scatterpolargl\"}], \"scatterternary\": [{\"marker\": {\"colorbar\": {\"outlinewidth\": 0, \"ticks\": \"\"}}, \"type\": \"scatterternary\"}], \"surface\": [{\"colorbar\": {\"outlinewidth\": 0, \"ticks\": \"\"}, \"colorscale\": [[0.0, \"#0d0887\"], [0.1111111111111111, \"#46039f\"], [0.2222222222222222, \"#7201a8\"], [0.3333333333333333, \"#9c179e\"], [0.4444444444444444, \"#bd3786\"], [0.5555555555555556, \"#d8576b\"], [0.6666666666666666, \"#ed7953\"], [0.7777777777777778, \"#fb9f3a\"], [0.8888888888888888, \"#fdca26\"], [1.0, \"#f0f921\"]], \"type\": \"surface\"}], \"table\": [{\"cells\": {\"fill\": {\"color\": \"#EBF0F8\"}, \"line\": {\"color\": \"white\"}}, \"header\": {\"fill\": {\"color\": \"#C8D4E3\"}, \"line\": {\"color\": \"white\"}}, \"type\": \"table\"}]}, \"layout\": {\"annotationdefaults\": {\"arrowcolor\": \"#2a3f5f\", \"arrowhead\": 0, \"arrowwidth\": 1}, \"autotypenumbers\": \"strict\", \"coloraxis\": {\"colorbar\": {\"outlinewidth\": 0, \"ticks\": \"\"}}, \"colorscale\": {\"diverging\": [[0, \"#8e0152\"], [0.1, \"#c51b7d\"], [0.2, \"#de77ae\"], [0.3, \"#f1b6da\"], [0.4, \"#fde0ef\"], [0.5, \"#f7f7f7\"], [0.6, \"#e6f5d0\"], [0.7, \"#b8e186\"], [0.8, \"#7fbc41\"], [0.9, \"#4d9221\"], [1, \"#276419\"]], \"sequential\": [[0.0, \"#0d0887\"], [0.1111111111111111, \"#46039f\"], [0.2222222222222222, \"#7201a8\"], [0.3333333333333333, \"#9c179e\"], [0.4444444444444444, \"#bd3786\"], [0.5555555555555556, \"#d8576b\"], [0.6666666666666666, \"#ed7953\"], [0.7777777777777778, \"#fb9f3a\"], [0.8888888888888888, \"#fdca26\"], [1.0, \"#f0f921\"]], \"sequentialminus\": [[0.0, \"#0d0887\"], [0.1111111111111111, \"#46039f\"], [0.2222222222222222, \"#7201a8\"], [0.3333333333333333, \"#9c179e\"], [0.4444444444444444, \"#bd3786\"], [0.5555555555555556, \"#d8576b\"], [0.6666666666666666, \"#ed7953\"], [0.7777777777777778, \"#fb9f3a\"], [0.8888888888888888, \"#fdca26\"], [1.0, \"#f0f921\"]]}, \"colorway\": [\"#636efa\", \"#EF553B\", \"#00cc96\", \"#ab63fa\", \"#FFA15A\", \"#19d3f3\", \"#FF6692\", \"#B6E880\", \"#FF97FF\", \"#FECB52\"], \"font\": {\"color\": \"#2a3f5f\"}, \"geo\": {\"bgcolor\": \"white\", \"lakecolor\": \"white\", \"landcolor\": \"#E5ECF6\", \"showlakes\": true, \"showland\": true, \"subunitcolor\": \"white\"}, \"hoverlabel\": {\"align\": \"left\"}, \"hovermode\": \"closest\", \"mapbox\": {\"style\": \"light\"}, \"paper_bgcolor\": \"white\", \"plot_bgcolor\": \"#E5ECF6\", \"polar\": {\"angularaxis\": {\"gridcolor\": \"white\", \"linecolor\": \"white\", \"ticks\": \"\"}, \"bgcolor\": \"#E5ECF6\", \"radialaxis\": {\"gridcolor\": \"white\", \"linecolor\": \"white\", \"ticks\": \"\"}}, \"scene\": {\"xaxis\": {\"backgroundcolor\": \"#E5ECF6\", \"gridcolor\": \"white\", \"gridwidth\": 2, \"linecolor\": \"white\", \"showbackground\": true, \"ticks\": \"\", \"zerolinecolor\": \"white\"}, \"yaxis\": {\"backgroundcolor\": \"#E5ECF6\", \"gridcolor\": \"white\", \"gridwidth\": 2, \"linecolor\": \"white\", \"showbackground\": true, \"ticks\": \"\", \"zerolinecolor\": \"white\"}, \"zaxis\": {\"backgroundcolor\": \"#E5ECF6\", \"gridcolor\": \"white\", \"gridwidth\": 2, \"linecolor\": \"white\", \"showbackground\": true, \"ticks\": \"\", \"zerolinecolor\": \"white\"}}, \"shapedefaults\": {\"line\": {\"color\": \"#2a3f5f\"}}, \"ternary\": {\"aaxis\": {\"gridcolor\": \"white\", \"linecolor\": \"white\", \"ticks\": \"\"}, \"baxis\": {\"gridcolor\": \"white\", \"linecolor\": \"white\", \"ticks\": \"\"}, \"bgcolor\": \"#E5ECF6\", \"caxis\": {\"gridcolor\": \"white\", \"linecolor\": \"white\", \"ticks\": \"\"}}, \"title\": {\"x\": 0.05}, \"xaxis\": {\"automargin\": true, \"gridcolor\": \"white\", \"linecolor\": \"white\", \"ticks\": \"\", \"title\": {\"standoff\": 15}, \"zerolinecolor\": \"white\", \"zerolinewidth\": 2}, \"yaxis\": {\"automargin\": true, \"gridcolor\": \"white\", \"linecolor\": \"white\", \"ticks\": \"\", \"title\": {\"standoff\": 15}, \"zerolinecolor\": \"white\", \"zerolinewidth\": 2}}}, \"title\": {\"text\": \"Valores de custo para cada mudan\\u00e7a na probabilidade de atingir a meta\"}, \"xaxis\": {\"title\": {\"text\": \"Probabilidade (p')\"}}, \"yaxis\": {\"title\": {\"text\": \"Custo (c')\"}}},                        {\"responsive\": true}                    ).then(function(){\n",
       "                            \n",
       "var gd = document.getElementById('fd645062-4cf4-4edb-b636-6d2ae234b792');\n",
       "var x = new MutationObserver(function (mutations, observer) {{\n",
       "        var display = window.getComputedStyle(gd).display;\n",
       "        if (!display || display === 'none') {{\n",
       "            console.log([gd, 'removed!']);\n",
       "            Plotly.purge(gd);\n",
       "            observer.disconnect();\n",
       "        }}\n",
       "}});\n",
       "\n",
       "// Listen for the removal of the full notebook cells\n",
       "var notebookContainer = gd.closest('#notebook-container');\n",
       "if (notebookContainer) {{\n",
       "    x.observe(notebookContainer, {childList: true});\n",
       "}}\n",
       "\n",
       "// Listen for the clearing of the current output cell\n",
       "var outputEl = gd.closest('.output');\n",
       "if (outputEl) {{\n",
       "    x.observe(outputEl, {childList: true});\n",
       "}}\n",
       "\n",
       "                        })                };                });            </script>        </div>"
      ]
     },
     "metadata": {},
     "output_type": "display_data"
    }
   ],
   "source": [
    "f5 = viz_expressividade_compare(c_exp_max, c_pw_max, c_exp_min, c_pw_min, 'EXP', 'PWL', rini_p=0.05, rend_p=1, step_p=0.05)"
   ]
  },
  {
   "cell_type": "markdown",
   "metadata": {},
   "source": [
    "Em termos da área de expressividade $\\zeta$ para cada método, podemos dizer que há $ \\lambda^* = \\{ \\lambda \\in [-1, 1] | u_{max}(p) \\leq x \\leq u_{min}(p) \\}$ e que $\\lambda^*$ irá gerar uma política ótima $\\pi^*$ caso não haja nenhum outro $\\lambda' = \\lambda^*$ mas com $c' \\leq c^*$. A mesma propriedade pode ser observada para o método piecewise-linear.\n",
    "\n",
    "Com relação a pontos específicos de custo ($c'$) e probabilidade ($p'$), observamos que há sempre uma relação de maior expressividade do piecewise-linear com relação a utilidade exponencial para os valores mínimos $\\zeta_{PWL, min} \\geq \\zeta_{EXP, min}$.\n",
    "\n",
    "A mesma relação não é observada totalmente para os valores máximos, visto que há um intervalo de valores de $p'$ próximo de $p'=0.8$ em que $\\zeta_{EXP, max} \\geq \\zeta_{PWL, max}$. Porém, em todos os outros pontos podemos observar a mesma relação de expressividade que nos valores mínimos.\n",
    "\n",
    "Com isto, podemos concluir que há maior expressividade para $\\zeta_{PWL}$."
   ]
  },
  {
   "cell_type": "code",
   "execution_count": 15,
   "metadata": {
    "ExecuteTime": {
     "end_time": "2023-08-24T16:01:14.669317Z",
     "start_time": "2023-08-24T16:01:14.531794Z"
    }
   },
   "outputs": [
    {
     "data": {
      "text/plain": [
       "[(True, 0.05),\n",
       " (True, 0.1),\n",
       " (True, 0.15),\n",
       " (True, 0.2),\n",
       " (True, 0.25),\n",
       " (True, 0.3),\n",
       " (True, 0.35),\n",
       " (True, 0.4),\n",
       " (True, 0.45),\n",
       " (True, 0.5),\n",
       " (True, 0.55),\n",
       " (True, 0.6),\n",
       " (True, 0.65),\n",
       " (True, 0.7),\n",
       " (True, 0.75),\n",
       " (True, 0.8),\n",
       " (True, 0.85),\n",
       " (True, 0.9),\n",
       " (True, 0.95)]"
      ]
     },
     "execution_count": 15,
     "metadata": {},
     "output_type": "execute_result"
    }
   ],
   "source": [
    "[(np.round(c_exp_min[i], 4) >= np.round(c_pw_min[i], 4), range_x[i]) for i in range(len(c_exp_min))]"
   ]
  },
  {
   "cell_type": "code",
   "execution_count": 16,
   "metadata": {
    "ExecuteTime": {
     "end_time": "2023-08-24T16:01:14.793336Z",
     "start_time": "2023-08-24T16:01:14.670818Z"
    }
   },
   "outputs": [
    {
     "data": {
      "text/plain": [
       "[(True, 0.05),\n",
       " (True, 0.1),\n",
       " (True, 0.15),\n",
       " (True, 0.2),\n",
       " (True, 0.25),\n",
       " (True, 0.3),\n",
       " (True, 0.35),\n",
       " (True, 0.4),\n",
       " (True, 0.45),\n",
       " (True, 0.5),\n",
       " (True, 0.55),\n",
       " (True, 0.6),\n",
       " (True, 0.65),\n",
       " (True, 0.7),\n",
       " (True, 0.75),\n",
       " (True, 0.8),\n",
       " (True, 0.85),\n",
       " (True, 0.9),\n",
       " (True, 0.95)]"
      ]
     },
     "execution_count": 16,
     "metadata": {},
     "output_type": "execute_result"
    }
   ],
   "source": [
    "[(np.round(c_exp_max[i], 4) <= np.round(c_pw_max[i], 4), range_x[i]) for i in range(len(c_exp_max))]"
   ]
  },
  {
   "cell_type": "code",
   "execution_count": 17,
   "metadata": {
    "ExecuteTime": {
     "end_time": "2023-08-24T16:01:14.979373Z",
     "start_time": "2023-08-24T16:01:14.794337Z"
    },
    "code_folding": [
     2
    ]
   },
   "outputs": [],
   "source": [
    "from shapely.geometry import Polygon\n",
    "\n",
    "def calculate_integral_between_curves(c_max, c_min):\n",
    "    range_x = [v for v in drange(0.05, 1, 0.05)]\n",
    "    x_y_curve1 = [(range_x[i], c_max[i]) for i in range(len(c_max))]\n",
    "    x_y_curve2 = [(range_x[i], c_min[i]) for i in range(len(c_min))]\n",
    "\n",
    "    polygon_points = []\n",
    "\n",
    "    #append all xy points for curve 1\n",
    "    for xyvalue in x_y_curve1:\n",
    "        polygon_points.append([xyvalue[0],xyvalue[1]]) \n",
    "\n",
    "    #append all xy points for curve 2 in the reverse order (from last point to first point)\n",
    "    for xyvalue in x_y_curve2[::-1]:\n",
    "        polygon_points.append([xyvalue[0],xyvalue[1]]) \n",
    "\n",
    "    #append the first point in curve 1 again, to it \"closes\" the polygon\n",
    "    for xyvalue in x_y_curve1[0:1]:\n",
    "        polygon_points.append([xyvalue[0],xyvalue[1]]) \n",
    "\n",
    "    polygon = Polygon(polygon_points)\n",
    "    area = polygon.area\n",
    "    return area"
   ]
  },
  {
   "cell_type": "code",
   "execution_count": 18,
   "metadata": {
    "ExecuteTime": {
     "end_time": "2023-08-24T16:01:15.103401Z",
     "start_time": "2023-08-24T16:01:14.980374Z"
    }
   },
   "outputs": [
    {
     "name": "stdout",
     "output_type": "stream",
     "text": [
      "Área para EXP: 5.2909066017292616e-17\n",
      "Área para PWL: 1.4171746440955666\n"
     ]
    }
   ],
   "source": [
    "area_exp = calculate_integral_between_curves(c_exp_max, c_exp_min)\n",
    "area_pwl = calculate_integral_between_curves(c_pw_max, c_pw_min)\n",
    "\n",
    "print(f'Área para EXP: {area_exp}')\n",
    "print(f'Área para PWL: {area_pwl}')"
   ]
  },
  {
   "cell_type": "markdown",
   "metadata": {},
   "source": [
    "## Extrapolação - Exponential"
   ]
  },
  {
   "cell_type": "code",
   "execution_count": 22,
   "metadata": {
    "ExecuteTime": {
     "end_time": "2023-08-24T16:02:36.164974Z",
     "start_time": "2023-08-24T16:02:36.032951Z"
    }
   },
   "outputs": [
    {
     "data": {
      "text/plain": [
       "{-0.95: [0.15493402079232038,\n",
       "  0.2899623010767797,\n",
       "  0.40962230901984037,\n",
       "  0.5170575837478053,\n",
       "  0.6145360276747438,\n",
       "  0.7037476659170588,\n",
       "  0.7859856975396531,\n",
       "  0.8622617634598161,\n",
       "  0.933382180135901,\n",
       "  1.0,\n",
       "  1.0626515508534018,\n",
       "  1.1217826959637844,\n",
       "  1.1777681009284298,\n",
       "  1.230925629554433,\n",
       "  1.281527275659983,\n",
       "  1.3298075853076972,\n",
       "  1.375970230560889,\n",
       "  1.4201932011953577,\n",
       "  1.4626329490105987],\n",
       " -0.8999999999999999: [],\n",
       " -0.8499999999999999: [],\n",
       " -0.7999999999999998: [],\n",
       " -0.7499999999999998: [],\n",
       " -0.6999999999999997: [],\n",
       " -0.6499999999999997: [],\n",
       " -0.5999999999999996: [],\n",
       " -0.5499999999999996: [],\n",
       " -0.4999999999999996: [],\n",
       " -0.4499999999999996: [],\n",
       " -0.39999999999999963: [],\n",
       " -0.34999999999999964: [],\n",
       " -0.29999999999999966: [],\n",
       " -0.24999999999999967: [],\n",
       " -0.19999999999999968: [],\n",
       " -0.1499999999999997: [],\n",
       " -0.09999999999999969: [],\n",
       " -0.049999999999999684: [],\n",
       " 0.05000000000000032: [],\n",
       " 0.10000000000000032: [],\n",
       " 0.15000000000000033: [],\n",
       " 0.20000000000000034: [],\n",
       " 0.25000000000000033: [],\n",
       " 0.3000000000000003: [],\n",
       " 0.3500000000000003: [],\n",
       " 0.4000000000000003: [],\n",
       " 0.4500000000000003: [],\n",
       " 0.5000000000000003: [],\n",
       " 0.5500000000000004: [],\n",
       " 0.6000000000000004: [],\n",
       " 0.6500000000000005: [],\n",
       " 0.7000000000000005: [],\n",
       " 0.7500000000000006: [],\n",
       " 0.8000000000000006: [],\n",
       " 0.8500000000000006: [],\n",
       " 0.9000000000000007: [],\n",
       " 0.9500000000000007: []}"
      ]
     },
     "execution_count": 22,
     "metadata": {},
     "output_type": "execute_result"
    }
   ],
   "source": [
    "c_line_exponential"
   ]
  },
  {
   "cell_type": "code",
   "execution_count": 21,
   "metadata": {
    "ExecuteTime": {
     "end_time": "2023-08-24T16:02:24.769479Z",
     "start_time": "2023-08-24T16:02:24.578455Z"
    }
   },
   "outputs": [
    {
     "data": {
      "application/vnd.plotly.v1+json": {
       "config": {
        "plotlyServerURL": "https://plot.ly"
       },
       "data": [
        {
         "mode": "lines",
         "name": "-0.95",
         "type": "scatter",
         "x": [
          0.05,
          0.1,
          0.15000000000000002,
          0.2,
          0.25,
          0.3,
          0.35,
          0.39999999999999997,
          0.44999999999999996,
          0.49999999999999994,
          0.5499999999999999,
          0.6,
          0.65,
          0.7000000000000001,
          0.7500000000000001,
          0.8000000000000002,
          0.8500000000000002,
          0.9000000000000002,
          0.9500000000000003
         ],
         "y": [
          0.15493402079232038,
          0.2899623010767797,
          0.40962230901984037,
          0.5170575837478053,
          0.6145360276747438,
          0.7037476659170588,
          0.7859856975396531,
          0.8622617634598161,
          0.933382180135901,
          1,
          1.0626515508534018,
          1.1217826959637844,
          1.1777681009284298,
          1.230925629554433,
          1.281527275659983,
          1.3298075853076972,
          1.375970230560889,
          1.4201932011953577,
          1.4626329490105987
         ]
        },
        {
         "mode": "lines",
         "name": "-0.9",
         "type": "scatter",
         "x": [
          0.05,
          0.1,
          0.15000000000000002,
          0.2,
          0.25,
          0.3,
          0.35,
          0.39999999999999997,
          0.44999999999999996,
          0.49999999999999994,
          0.5499999999999999,
          0.6,
          0.65,
          0.7000000000000001,
          0.7500000000000001,
          0.8000000000000002,
          0.8500000000000002,
          0.9000000000000002,
          0.9500000000000003
         ],
         "y": []
        },
        {
         "mode": "lines",
         "name": "-0.85",
         "type": "scatter",
         "x": [
          0.05,
          0.1,
          0.15000000000000002,
          0.2,
          0.25,
          0.3,
          0.35,
          0.39999999999999997,
          0.44999999999999996,
          0.49999999999999994,
          0.5499999999999999,
          0.6,
          0.65,
          0.7000000000000001,
          0.7500000000000001,
          0.8000000000000002,
          0.8500000000000002,
          0.9000000000000002,
          0.9500000000000003
         ],
         "y": []
        },
        {
         "mode": "lines",
         "name": "-0.8",
         "type": "scatter",
         "x": [
          0.05,
          0.1,
          0.15000000000000002,
          0.2,
          0.25,
          0.3,
          0.35,
          0.39999999999999997,
          0.44999999999999996,
          0.49999999999999994,
          0.5499999999999999,
          0.6,
          0.65,
          0.7000000000000001,
          0.7500000000000001,
          0.8000000000000002,
          0.8500000000000002,
          0.9000000000000002,
          0.9500000000000003
         ],
         "y": []
        },
        {
         "mode": "lines",
         "name": "-0.75",
         "type": "scatter",
         "x": [
          0.05,
          0.1,
          0.15000000000000002,
          0.2,
          0.25,
          0.3,
          0.35,
          0.39999999999999997,
          0.44999999999999996,
          0.49999999999999994,
          0.5499999999999999,
          0.6,
          0.65,
          0.7000000000000001,
          0.7500000000000001,
          0.8000000000000002,
          0.8500000000000002,
          0.9000000000000002,
          0.9500000000000003
         ],
         "y": []
        },
        {
         "mode": "lines",
         "name": "-0.7",
         "type": "scatter",
         "x": [
          0.05,
          0.1,
          0.15000000000000002,
          0.2,
          0.25,
          0.3,
          0.35,
          0.39999999999999997,
          0.44999999999999996,
          0.49999999999999994,
          0.5499999999999999,
          0.6,
          0.65,
          0.7000000000000001,
          0.7500000000000001,
          0.8000000000000002,
          0.8500000000000002,
          0.9000000000000002,
          0.9500000000000003
         ],
         "y": []
        },
        {
         "mode": "lines",
         "name": "-0.65",
         "type": "scatter",
         "x": [
          0.05,
          0.1,
          0.15000000000000002,
          0.2,
          0.25,
          0.3,
          0.35,
          0.39999999999999997,
          0.44999999999999996,
          0.49999999999999994,
          0.5499999999999999,
          0.6,
          0.65,
          0.7000000000000001,
          0.7500000000000001,
          0.8000000000000002,
          0.8500000000000002,
          0.9000000000000002,
          0.9500000000000003
         ],
         "y": []
        },
        {
         "mode": "lines",
         "name": "-0.6",
         "type": "scatter",
         "x": [
          0.05,
          0.1,
          0.15000000000000002,
          0.2,
          0.25,
          0.3,
          0.35,
          0.39999999999999997,
          0.44999999999999996,
          0.49999999999999994,
          0.5499999999999999,
          0.6,
          0.65,
          0.7000000000000001,
          0.7500000000000001,
          0.8000000000000002,
          0.8500000000000002,
          0.9000000000000002,
          0.9500000000000003
         ],
         "y": []
        },
        {
         "mode": "lines",
         "name": "-0.55",
         "type": "scatter",
         "x": [
          0.05,
          0.1,
          0.15000000000000002,
          0.2,
          0.25,
          0.3,
          0.35,
          0.39999999999999997,
          0.44999999999999996,
          0.49999999999999994,
          0.5499999999999999,
          0.6,
          0.65,
          0.7000000000000001,
          0.7500000000000001,
          0.8000000000000002,
          0.8500000000000002,
          0.9000000000000002,
          0.9500000000000003
         ],
         "y": []
        },
        {
         "mode": "lines",
         "name": "-0.5",
         "type": "scatter",
         "x": [
          0.05,
          0.1,
          0.15000000000000002,
          0.2,
          0.25,
          0.3,
          0.35,
          0.39999999999999997,
          0.44999999999999996,
          0.49999999999999994,
          0.5499999999999999,
          0.6,
          0.65,
          0.7000000000000001,
          0.7500000000000001,
          0.8000000000000002,
          0.8500000000000002,
          0.9000000000000002,
          0.9500000000000003
         ],
         "y": []
        },
        {
         "mode": "lines",
         "name": "-0.45",
         "type": "scatter",
         "x": [
          0.05,
          0.1,
          0.15000000000000002,
          0.2,
          0.25,
          0.3,
          0.35,
          0.39999999999999997,
          0.44999999999999996,
          0.49999999999999994,
          0.5499999999999999,
          0.6,
          0.65,
          0.7000000000000001,
          0.7500000000000001,
          0.8000000000000002,
          0.8500000000000002,
          0.9000000000000002,
          0.9500000000000003
         ],
         "y": []
        },
        {
         "mode": "lines",
         "name": "-0.4",
         "type": "scatter",
         "x": [
          0.05,
          0.1,
          0.15000000000000002,
          0.2,
          0.25,
          0.3,
          0.35,
          0.39999999999999997,
          0.44999999999999996,
          0.49999999999999994,
          0.5499999999999999,
          0.6,
          0.65,
          0.7000000000000001,
          0.7500000000000001,
          0.8000000000000002,
          0.8500000000000002,
          0.9000000000000002,
          0.9500000000000003
         ],
         "y": []
        },
        {
         "mode": "lines",
         "name": "-0.35",
         "type": "scatter",
         "x": [
          0.05,
          0.1,
          0.15000000000000002,
          0.2,
          0.25,
          0.3,
          0.35,
          0.39999999999999997,
          0.44999999999999996,
          0.49999999999999994,
          0.5499999999999999,
          0.6,
          0.65,
          0.7000000000000001,
          0.7500000000000001,
          0.8000000000000002,
          0.8500000000000002,
          0.9000000000000002,
          0.9500000000000003
         ],
         "y": []
        },
        {
         "mode": "lines",
         "name": "-0.3",
         "type": "scatter",
         "x": [
          0.05,
          0.1,
          0.15000000000000002,
          0.2,
          0.25,
          0.3,
          0.35,
          0.39999999999999997,
          0.44999999999999996,
          0.49999999999999994,
          0.5499999999999999,
          0.6,
          0.65,
          0.7000000000000001,
          0.7500000000000001,
          0.8000000000000002,
          0.8500000000000002,
          0.9000000000000002,
          0.9500000000000003
         ],
         "y": []
        },
        {
         "mode": "lines",
         "name": "-0.25",
         "type": "scatter",
         "x": [
          0.05,
          0.1,
          0.15000000000000002,
          0.2,
          0.25,
          0.3,
          0.35,
          0.39999999999999997,
          0.44999999999999996,
          0.49999999999999994,
          0.5499999999999999,
          0.6,
          0.65,
          0.7000000000000001,
          0.7500000000000001,
          0.8000000000000002,
          0.8500000000000002,
          0.9000000000000002,
          0.9500000000000003
         ],
         "y": []
        },
        {
         "mode": "lines",
         "name": "-0.2",
         "type": "scatter",
         "x": [
          0.05,
          0.1,
          0.15000000000000002,
          0.2,
          0.25,
          0.3,
          0.35,
          0.39999999999999997,
          0.44999999999999996,
          0.49999999999999994,
          0.5499999999999999,
          0.6,
          0.65,
          0.7000000000000001,
          0.7500000000000001,
          0.8000000000000002,
          0.8500000000000002,
          0.9000000000000002,
          0.9500000000000003
         ],
         "y": []
        },
        {
         "mode": "lines",
         "name": "-0.15",
         "type": "scatter",
         "x": [
          0.05,
          0.1,
          0.15000000000000002,
          0.2,
          0.25,
          0.3,
          0.35,
          0.39999999999999997,
          0.44999999999999996,
          0.49999999999999994,
          0.5499999999999999,
          0.6,
          0.65,
          0.7000000000000001,
          0.7500000000000001,
          0.8000000000000002,
          0.8500000000000002,
          0.9000000000000002,
          0.9500000000000003
         ],
         "y": []
        },
        {
         "mode": "lines",
         "name": "-0.1",
         "type": "scatter",
         "x": [
          0.05,
          0.1,
          0.15000000000000002,
          0.2,
          0.25,
          0.3,
          0.35,
          0.39999999999999997,
          0.44999999999999996,
          0.49999999999999994,
          0.5499999999999999,
          0.6,
          0.65,
          0.7000000000000001,
          0.7500000000000001,
          0.8000000000000002,
          0.8500000000000002,
          0.9000000000000002,
          0.9500000000000003
         ],
         "y": []
        },
        {
         "mode": "lines",
         "name": "-0.05",
         "type": "scatter",
         "x": [
          0.05,
          0.1,
          0.15000000000000002,
          0.2,
          0.25,
          0.3,
          0.35,
          0.39999999999999997,
          0.44999999999999996,
          0.49999999999999994,
          0.5499999999999999,
          0.6,
          0.65,
          0.7000000000000001,
          0.7500000000000001,
          0.8000000000000002,
          0.8500000000000002,
          0.9000000000000002,
          0.9500000000000003
         ],
         "y": []
        },
        {
         "mode": "lines",
         "name": "0.05",
         "type": "scatter",
         "x": [
          0.05,
          0.1,
          0.15000000000000002,
          0.2,
          0.25,
          0.3,
          0.35,
          0.39999999999999997,
          0.44999999999999996,
          0.49999999999999994,
          0.5499999999999999,
          0.6,
          0.65,
          0.7000000000000001,
          0.7500000000000001,
          0.8000000000000002,
          0.8500000000000002,
          0.9000000000000002,
          0.9500000000000003
         ],
         "y": []
        },
        {
         "mode": "lines",
         "name": "0.1",
         "type": "scatter",
         "x": [
          0.05,
          0.1,
          0.15000000000000002,
          0.2,
          0.25,
          0.3,
          0.35,
          0.39999999999999997,
          0.44999999999999996,
          0.49999999999999994,
          0.5499999999999999,
          0.6,
          0.65,
          0.7000000000000001,
          0.7500000000000001,
          0.8000000000000002,
          0.8500000000000002,
          0.9000000000000002,
          0.9500000000000003
         ],
         "y": []
        },
        {
         "mode": "lines",
         "name": "0.15",
         "type": "scatter",
         "x": [
          0.05,
          0.1,
          0.15000000000000002,
          0.2,
          0.25,
          0.3,
          0.35,
          0.39999999999999997,
          0.44999999999999996,
          0.49999999999999994,
          0.5499999999999999,
          0.6,
          0.65,
          0.7000000000000001,
          0.7500000000000001,
          0.8000000000000002,
          0.8500000000000002,
          0.9000000000000002,
          0.9500000000000003
         ],
         "y": []
        },
        {
         "mode": "lines",
         "name": "0.2",
         "type": "scatter",
         "x": [
          0.05,
          0.1,
          0.15000000000000002,
          0.2,
          0.25,
          0.3,
          0.35,
          0.39999999999999997,
          0.44999999999999996,
          0.49999999999999994,
          0.5499999999999999,
          0.6,
          0.65,
          0.7000000000000001,
          0.7500000000000001,
          0.8000000000000002,
          0.8500000000000002,
          0.9000000000000002,
          0.9500000000000003
         ],
         "y": []
        },
        {
         "mode": "lines",
         "name": "0.25",
         "type": "scatter",
         "x": [
          0.05,
          0.1,
          0.15000000000000002,
          0.2,
          0.25,
          0.3,
          0.35,
          0.39999999999999997,
          0.44999999999999996,
          0.49999999999999994,
          0.5499999999999999,
          0.6,
          0.65,
          0.7000000000000001,
          0.7500000000000001,
          0.8000000000000002,
          0.8500000000000002,
          0.9000000000000002,
          0.9500000000000003
         ],
         "y": []
        },
        {
         "mode": "lines",
         "name": "0.3",
         "type": "scatter",
         "x": [
          0.05,
          0.1,
          0.15000000000000002,
          0.2,
          0.25,
          0.3,
          0.35,
          0.39999999999999997,
          0.44999999999999996,
          0.49999999999999994,
          0.5499999999999999,
          0.6,
          0.65,
          0.7000000000000001,
          0.7500000000000001,
          0.8000000000000002,
          0.8500000000000002,
          0.9000000000000002,
          0.9500000000000003
         ],
         "y": []
        },
        {
         "mode": "lines",
         "name": "0.35",
         "type": "scatter",
         "x": [
          0.05,
          0.1,
          0.15000000000000002,
          0.2,
          0.25,
          0.3,
          0.35,
          0.39999999999999997,
          0.44999999999999996,
          0.49999999999999994,
          0.5499999999999999,
          0.6,
          0.65,
          0.7000000000000001,
          0.7500000000000001,
          0.8000000000000002,
          0.8500000000000002,
          0.9000000000000002,
          0.9500000000000003
         ],
         "y": []
        },
        {
         "mode": "lines",
         "name": "0.4",
         "type": "scatter",
         "x": [
          0.05,
          0.1,
          0.15000000000000002,
          0.2,
          0.25,
          0.3,
          0.35,
          0.39999999999999997,
          0.44999999999999996,
          0.49999999999999994,
          0.5499999999999999,
          0.6,
          0.65,
          0.7000000000000001,
          0.7500000000000001,
          0.8000000000000002,
          0.8500000000000002,
          0.9000000000000002,
          0.9500000000000003
         ],
         "y": []
        },
        {
         "mode": "lines",
         "name": "0.45",
         "type": "scatter",
         "x": [
          0.05,
          0.1,
          0.15000000000000002,
          0.2,
          0.25,
          0.3,
          0.35,
          0.39999999999999997,
          0.44999999999999996,
          0.49999999999999994,
          0.5499999999999999,
          0.6,
          0.65,
          0.7000000000000001,
          0.7500000000000001,
          0.8000000000000002,
          0.8500000000000002,
          0.9000000000000002,
          0.9500000000000003
         ],
         "y": []
        },
        {
         "mode": "lines",
         "name": "0.5",
         "type": "scatter",
         "x": [
          0.05,
          0.1,
          0.15000000000000002,
          0.2,
          0.25,
          0.3,
          0.35,
          0.39999999999999997,
          0.44999999999999996,
          0.49999999999999994,
          0.5499999999999999,
          0.6,
          0.65,
          0.7000000000000001,
          0.7500000000000001,
          0.8000000000000002,
          0.8500000000000002,
          0.9000000000000002,
          0.9500000000000003
         ],
         "y": []
        },
        {
         "mode": "lines",
         "name": "0.55",
         "type": "scatter",
         "x": [
          0.05,
          0.1,
          0.15000000000000002,
          0.2,
          0.25,
          0.3,
          0.35,
          0.39999999999999997,
          0.44999999999999996,
          0.49999999999999994,
          0.5499999999999999,
          0.6,
          0.65,
          0.7000000000000001,
          0.7500000000000001,
          0.8000000000000002,
          0.8500000000000002,
          0.9000000000000002,
          0.9500000000000003
         ],
         "y": []
        },
        {
         "mode": "lines",
         "name": "0.6",
         "type": "scatter",
         "x": [
          0.05,
          0.1,
          0.15000000000000002,
          0.2,
          0.25,
          0.3,
          0.35,
          0.39999999999999997,
          0.44999999999999996,
          0.49999999999999994,
          0.5499999999999999,
          0.6,
          0.65,
          0.7000000000000001,
          0.7500000000000001,
          0.8000000000000002,
          0.8500000000000002,
          0.9000000000000002,
          0.9500000000000003
         ],
         "y": []
        },
        {
         "mode": "lines",
         "name": "0.65",
         "type": "scatter",
         "x": [
          0.05,
          0.1,
          0.15000000000000002,
          0.2,
          0.25,
          0.3,
          0.35,
          0.39999999999999997,
          0.44999999999999996,
          0.49999999999999994,
          0.5499999999999999,
          0.6,
          0.65,
          0.7000000000000001,
          0.7500000000000001,
          0.8000000000000002,
          0.8500000000000002,
          0.9000000000000002,
          0.9500000000000003
         ],
         "y": []
        },
        {
         "mode": "lines",
         "name": "0.7",
         "type": "scatter",
         "x": [
          0.05,
          0.1,
          0.15000000000000002,
          0.2,
          0.25,
          0.3,
          0.35,
          0.39999999999999997,
          0.44999999999999996,
          0.49999999999999994,
          0.5499999999999999,
          0.6,
          0.65,
          0.7000000000000001,
          0.7500000000000001,
          0.8000000000000002,
          0.8500000000000002,
          0.9000000000000002,
          0.9500000000000003
         ],
         "y": []
        },
        {
         "mode": "lines",
         "name": "0.75",
         "type": "scatter",
         "x": [
          0.05,
          0.1,
          0.15000000000000002,
          0.2,
          0.25,
          0.3,
          0.35,
          0.39999999999999997,
          0.44999999999999996,
          0.49999999999999994,
          0.5499999999999999,
          0.6,
          0.65,
          0.7000000000000001,
          0.7500000000000001,
          0.8000000000000002,
          0.8500000000000002,
          0.9000000000000002,
          0.9500000000000003
         ],
         "y": []
        },
        {
         "mode": "lines",
         "name": "0.8",
         "type": "scatter",
         "x": [
          0.05,
          0.1,
          0.15000000000000002,
          0.2,
          0.25,
          0.3,
          0.35,
          0.39999999999999997,
          0.44999999999999996,
          0.49999999999999994,
          0.5499999999999999,
          0.6,
          0.65,
          0.7000000000000001,
          0.7500000000000001,
          0.8000000000000002,
          0.8500000000000002,
          0.9000000000000002,
          0.9500000000000003
         ],
         "y": []
        },
        {
         "mode": "lines",
         "name": "0.85",
         "type": "scatter",
         "x": [
          0.05,
          0.1,
          0.15000000000000002,
          0.2,
          0.25,
          0.3,
          0.35,
          0.39999999999999997,
          0.44999999999999996,
          0.49999999999999994,
          0.5499999999999999,
          0.6,
          0.65,
          0.7000000000000001,
          0.7500000000000001,
          0.8000000000000002,
          0.8500000000000002,
          0.9000000000000002,
          0.9500000000000003
         ],
         "y": []
        },
        {
         "mode": "lines",
         "name": "0.9",
         "type": "scatter",
         "x": [
          0.05,
          0.1,
          0.15000000000000002,
          0.2,
          0.25,
          0.3,
          0.35,
          0.39999999999999997,
          0.44999999999999996,
          0.49999999999999994,
          0.5499999999999999,
          0.6,
          0.65,
          0.7000000000000001,
          0.7500000000000001,
          0.8000000000000002,
          0.8500000000000002,
          0.9000000000000002,
          0.9500000000000003
         ],
         "y": []
        },
        {
         "mode": "lines",
         "name": "0.95",
         "type": "scatter",
         "x": [
          0.05,
          0.1,
          0.15000000000000002,
          0.2,
          0.25,
          0.3,
          0.35,
          0.39999999999999997,
          0.44999999999999996,
          0.49999999999999994,
          0.5499999999999999,
          0.6,
          0.65,
          0.7000000000000001,
          0.7500000000000001,
          0.8000000000000002,
          0.8500000000000002,
          0.9000000000000002,
          0.9500000000000003
         ],
         "y": []
        }
       ],
       "layout": {
        "template": {
         "data": {
          "bar": [
           {
            "error_x": {
             "color": "#2a3f5f"
            },
            "error_y": {
             "color": "#2a3f5f"
            },
            "marker": {
             "line": {
              "color": "#E5ECF6",
              "width": 0.5
             }
            },
            "type": "bar"
           }
          ],
          "barpolar": [
           {
            "marker": {
             "line": {
              "color": "#E5ECF6",
              "width": 0.5
             }
            },
            "type": "barpolar"
           }
          ],
          "carpet": [
           {
            "aaxis": {
             "endlinecolor": "#2a3f5f",
             "gridcolor": "white",
             "linecolor": "white",
             "minorgridcolor": "white",
             "startlinecolor": "#2a3f5f"
            },
            "baxis": {
             "endlinecolor": "#2a3f5f",
             "gridcolor": "white",
             "linecolor": "white",
             "minorgridcolor": "white",
             "startlinecolor": "#2a3f5f"
            },
            "type": "carpet"
           }
          ],
          "choropleth": [
           {
            "colorbar": {
             "outlinewidth": 0,
             "ticks": ""
            },
            "type": "choropleth"
           }
          ],
          "contour": [
           {
            "colorbar": {
             "outlinewidth": 0,
             "ticks": ""
            },
            "colorscale": [
             [
              0,
              "#0d0887"
             ],
             [
              0.1111111111111111,
              "#46039f"
             ],
             [
              0.2222222222222222,
              "#7201a8"
             ],
             [
              0.3333333333333333,
              "#9c179e"
             ],
             [
              0.4444444444444444,
              "#bd3786"
             ],
             [
              0.5555555555555556,
              "#d8576b"
             ],
             [
              0.6666666666666666,
              "#ed7953"
             ],
             [
              0.7777777777777778,
              "#fb9f3a"
             ],
             [
              0.8888888888888888,
              "#fdca26"
             ],
             [
              1,
              "#f0f921"
             ]
            ],
            "type": "contour"
           }
          ],
          "contourcarpet": [
           {
            "colorbar": {
             "outlinewidth": 0,
             "ticks": ""
            },
            "type": "contourcarpet"
           }
          ],
          "heatmap": [
           {
            "colorbar": {
             "outlinewidth": 0,
             "ticks": ""
            },
            "colorscale": [
             [
              0,
              "#0d0887"
             ],
             [
              0.1111111111111111,
              "#46039f"
             ],
             [
              0.2222222222222222,
              "#7201a8"
             ],
             [
              0.3333333333333333,
              "#9c179e"
             ],
             [
              0.4444444444444444,
              "#bd3786"
             ],
             [
              0.5555555555555556,
              "#d8576b"
             ],
             [
              0.6666666666666666,
              "#ed7953"
             ],
             [
              0.7777777777777778,
              "#fb9f3a"
             ],
             [
              0.8888888888888888,
              "#fdca26"
             ],
             [
              1,
              "#f0f921"
             ]
            ],
            "type": "heatmap"
           }
          ],
          "heatmapgl": [
           {
            "colorbar": {
             "outlinewidth": 0,
             "ticks": ""
            },
            "colorscale": [
             [
              0,
              "#0d0887"
             ],
             [
              0.1111111111111111,
              "#46039f"
             ],
             [
              0.2222222222222222,
              "#7201a8"
             ],
             [
              0.3333333333333333,
              "#9c179e"
             ],
             [
              0.4444444444444444,
              "#bd3786"
             ],
             [
              0.5555555555555556,
              "#d8576b"
             ],
             [
              0.6666666666666666,
              "#ed7953"
             ],
             [
              0.7777777777777778,
              "#fb9f3a"
             ],
             [
              0.8888888888888888,
              "#fdca26"
             ],
             [
              1,
              "#f0f921"
             ]
            ],
            "type": "heatmapgl"
           }
          ],
          "histogram": [
           {
            "marker": {
             "colorbar": {
              "outlinewidth": 0,
              "ticks": ""
             }
            },
            "type": "histogram"
           }
          ],
          "histogram2d": [
           {
            "colorbar": {
             "outlinewidth": 0,
             "ticks": ""
            },
            "colorscale": [
             [
              0,
              "#0d0887"
             ],
             [
              0.1111111111111111,
              "#46039f"
             ],
             [
              0.2222222222222222,
              "#7201a8"
             ],
             [
              0.3333333333333333,
              "#9c179e"
             ],
             [
              0.4444444444444444,
              "#bd3786"
             ],
             [
              0.5555555555555556,
              "#d8576b"
             ],
             [
              0.6666666666666666,
              "#ed7953"
             ],
             [
              0.7777777777777778,
              "#fb9f3a"
             ],
             [
              0.8888888888888888,
              "#fdca26"
             ],
             [
              1,
              "#f0f921"
             ]
            ],
            "type": "histogram2d"
           }
          ],
          "histogram2dcontour": [
           {
            "colorbar": {
             "outlinewidth": 0,
             "ticks": ""
            },
            "colorscale": [
             [
              0,
              "#0d0887"
             ],
             [
              0.1111111111111111,
              "#46039f"
             ],
             [
              0.2222222222222222,
              "#7201a8"
             ],
             [
              0.3333333333333333,
              "#9c179e"
             ],
             [
              0.4444444444444444,
              "#bd3786"
             ],
             [
              0.5555555555555556,
              "#d8576b"
             ],
             [
              0.6666666666666666,
              "#ed7953"
             ],
             [
              0.7777777777777778,
              "#fb9f3a"
             ],
             [
              0.8888888888888888,
              "#fdca26"
             ],
             [
              1,
              "#f0f921"
             ]
            ],
            "type": "histogram2dcontour"
           }
          ],
          "mesh3d": [
           {
            "colorbar": {
             "outlinewidth": 0,
             "ticks": ""
            },
            "type": "mesh3d"
           }
          ],
          "parcoords": [
           {
            "line": {
             "colorbar": {
              "outlinewidth": 0,
              "ticks": ""
             }
            },
            "type": "parcoords"
           }
          ],
          "pie": [
           {
            "automargin": true,
            "type": "pie"
           }
          ],
          "scatter": [
           {
            "marker": {
             "colorbar": {
              "outlinewidth": 0,
              "ticks": ""
             }
            },
            "type": "scatter"
           }
          ],
          "scatter3d": [
           {
            "line": {
             "colorbar": {
              "outlinewidth": 0,
              "ticks": ""
             }
            },
            "marker": {
             "colorbar": {
              "outlinewidth": 0,
              "ticks": ""
             }
            },
            "type": "scatter3d"
           }
          ],
          "scattercarpet": [
           {
            "marker": {
             "colorbar": {
              "outlinewidth": 0,
              "ticks": ""
             }
            },
            "type": "scattercarpet"
           }
          ],
          "scattergeo": [
           {
            "marker": {
             "colorbar": {
              "outlinewidth": 0,
              "ticks": ""
             }
            },
            "type": "scattergeo"
           }
          ],
          "scattergl": [
           {
            "marker": {
             "colorbar": {
              "outlinewidth": 0,
              "ticks": ""
             }
            },
            "type": "scattergl"
           }
          ],
          "scattermapbox": [
           {
            "marker": {
             "colorbar": {
              "outlinewidth": 0,
              "ticks": ""
             }
            },
            "type": "scattermapbox"
           }
          ],
          "scatterpolar": [
           {
            "marker": {
             "colorbar": {
              "outlinewidth": 0,
              "ticks": ""
             }
            },
            "type": "scatterpolar"
           }
          ],
          "scatterpolargl": [
           {
            "marker": {
             "colorbar": {
              "outlinewidth": 0,
              "ticks": ""
             }
            },
            "type": "scatterpolargl"
           }
          ],
          "scatterternary": [
           {
            "marker": {
             "colorbar": {
              "outlinewidth": 0,
              "ticks": ""
             }
            },
            "type": "scatterternary"
           }
          ],
          "surface": [
           {
            "colorbar": {
             "outlinewidth": 0,
             "ticks": ""
            },
            "colorscale": [
             [
              0,
              "#0d0887"
             ],
             [
              0.1111111111111111,
              "#46039f"
             ],
             [
              0.2222222222222222,
              "#7201a8"
             ],
             [
              0.3333333333333333,
              "#9c179e"
             ],
             [
              0.4444444444444444,
              "#bd3786"
             ],
             [
              0.5555555555555556,
              "#d8576b"
             ],
             [
              0.6666666666666666,
              "#ed7953"
             ],
             [
              0.7777777777777778,
              "#fb9f3a"
             ],
             [
              0.8888888888888888,
              "#fdca26"
             ],
             [
              1,
              "#f0f921"
             ]
            ],
            "type": "surface"
           }
          ],
          "table": [
           {
            "cells": {
             "fill": {
              "color": "#EBF0F8"
             },
             "line": {
              "color": "white"
             }
            },
            "header": {
             "fill": {
              "color": "#C8D4E3"
             },
             "line": {
              "color": "white"
             }
            },
            "type": "table"
           }
          ]
         },
         "layout": {
          "annotationdefaults": {
           "arrowcolor": "#2a3f5f",
           "arrowhead": 0,
           "arrowwidth": 1
          },
          "autotypenumbers": "strict",
          "coloraxis": {
           "colorbar": {
            "outlinewidth": 0,
            "ticks": ""
           }
          },
          "colorscale": {
           "diverging": [
            [
             0,
             "#8e0152"
            ],
            [
             0.1,
             "#c51b7d"
            ],
            [
             0.2,
             "#de77ae"
            ],
            [
             0.3,
             "#f1b6da"
            ],
            [
             0.4,
             "#fde0ef"
            ],
            [
             0.5,
             "#f7f7f7"
            ],
            [
             0.6,
             "#e6f5d0"
            ],
            [
             0.7,
             "#b8e186"
            ],
            [
             0.8,
             "#7fbc41"
            ],
            [
             0.9,
             "#4d9221"
            ],
            [
             1,
             "#276419"
            ]
           ],
           "sequential": [
            [
             0,
             "#0d0887"
            ],
            [
             0.1111111111111111,
             "#46039f"
            ],
            [
             0.2222222222222222,
             "#7201a8"
            ],
            [
             0.3333333333333333,
             "#9c179e"
            ],
            [
             0.4444444444444444,
             "#bd3786"
            ],
            [
             0.5555555555555556,
             "#d8576b"
            ],
            [
             0.6666666666666666,
             "#ed7953"
            ],
            [
             0.7777777777777778,
             "#fb9f3a"
            ],
            [
             0.8888888888888888,
             "#fdca26"
            ],
            [
             1,
             "#f0f921"
            ]
           ],
           "sequentialminus": [
            [
             0,
             "#0d0887"
            ],
            [
             0.1111111111111111,
             "#46039f"
            ],
            [
             0.2222222222222222,
             "#7201a8"
            ],
            [
             0.3333333333333333,
             "#9c179e"
            ],
            [
             0.4444444444444444,
             "#bd3786"
            ],
            [
             0.5555555555555556,
             "#d8576b"
            ],
            [
             0.6666666666666666,
             "#ed7953"
            ],
            [
             0.7777777777777778,
             "#fb9f3a"
            ],
            [
             0.8888888888888888,
             "#fdca26"
            ],
            [
             1,
             "#f0f921"
            ]
           ]
          },
          "colorway": [
           "#636efa",
           "#EF553B",
           "#00cc96",
           "#ab63fa",
           "#FFA15A",
           "#19d3f3",
           "#FF6692",
           "#B6E880",
           "#FF97FF",
           "#FECB52"
          ],
          "font": {
           "color": "#2a3f5f"
          },
          "geo": {
           "bgcolor": "white",
           "lakecolor": "white",
           "landcolor": "#E5ECF6",
           "showlakes": true,
           "showland": true,
           "subunitcolor": "white"
          },
          "hoverlabel": {
           "align": "left"
          },
          "hovermode": "closest",
          "mapbox": {
           "style": "light"
          },
          "paper_bgcolor": "white",
          "plot_bgcolor": "#E5ECF6",
          "polar": {
           "angularaxis": {
            "gridcolor": "white",
            "linecolor": "white",
            "ticks": ""
           },
           "bgcolor": "#E5ECF6",
           "radialaxis": {
            "gridcolor": "white",
            "linecolor": "white",
            "ticks": ""
           }
          },
          "scene": {
           "xaxis": {
            "backgroundcolor": "#E5ECF6",
            "gridcolor": "white",
            "gridwidth": 2,
            "linecolor": "white",
            "showbackground": true,
            "ticks": "",
            "zerolinecolor": "white"
           },
           "yaxis": {
            "backgroundcolor": "#E5ECF6",
            "gridcolor": "white",
            "gridwidth": 2,
            "linecolor": "white",
            "showbackground": true,
            "ticks": "",
            "zerolinecolor": "white"
           },
           "zaxis": {
            "backgroundcolor": "#E5ECF6",
            "gridcolor": "white",
            "gridwidth": 2,
            "linecolor": "white",
            "showbackground": true,
            "ticks": "",
            "zerolinecolor": "white"
           }
          },
          "shapedefaults": {
           "line": {
            "color": "#2a3f5f"
           }
          },
          "ternary": {
           "aaxis": {
            "gridcolor": "white",
            "linecolor": "white",
            "ticks": ""
           },
           "baxis": {
            "gridcolor": "white",
            "linecolor": "white",
            "ticks": ""
           },
           "bgcolor": "#E5ECF6",
           "caxis": {
            "gridcolor": "white",
            "linecolor": "white",
            "ticks": ""
           }
          },
          "title": {
           "x": 0.05
          },
          "xaxis": {
           "automargin": true,
           "gridcolor": "white",
           "linecolor": "white",
           "ticks": "",
           "title": {
            "standoff": 15
           },
           "zerolinecolor": "white",
           "zerolinewidth": 2
          },
          "yaxis": {
           "automargin": true,
           "gridcolor": "white",
           "linecolor": "white",
           "ticks": "",
           "title": {
            "standoff": 15
           },
           "zerolinecolor": "white",
           "zerolinewidth": 2
          }
         }
        },
        "title": {
         "text": "Valores de custo para cada mudança na probabilidade de atingir a meta"
        },
        "xaxis": {
         "title": {
          "text": "Probabilidade (p')"
         }
        },
        "yaxis": {
         "title": {
          "text": "Custo (c')"
         }
        }
       }
      },
      "text/html": [
       "<div>                            <div id=\"1ed383a9-8a45-47e1-bbf1-1eae546c6958\" class=\"plotly-graph-div\" style=\"height:525px; width:100%;\"></div>            <script type=\"text/javascript\">                require([\"plotly\"], function(Plotly) {                    window.PLOTLYENV=window.PLOTLYENV || {};                                    if (document.getElementById(\"1ed383a9-8a45-47e1-bbf1-1eae546c6958\")) {                    Plotly.newPlot(                        \"1ed383a9-8a45-47e1-bbf1-1eae546c6958\",                        [{\"mode\": \"lines\", \"name\": \"-0.95\", \"type\": \"scatter\", \"x\": [0.05, 0.1, 0.15000000000000002, 0.2, 0.25, 0.3, 0.35, 0.39999999999999997, 0.44999999999999996, 0.49999999999999994, 0.5499999999999999, 0.6, 0.65, 0.7000000000000001, 0.7500000000000001, 0.8000000000000002, 0.8500000000000002, 0.9000000000000002, 0.9500000000000003], \"y\": [0.15493402079232038, 0.2899623010767797, 0.40962230901984037, 0.5170575837478053, 0.6145360276747438, 0.7037476659170588, 0.7859856975396531, 0.8622617634598161, 0.933382180135901, 1.0, 1.0626515508534018, 1.1217826959637844, 1.1777681009284298, 1.230925629554433, 1.281527275659983, 1.3298075853076972, 1.375970230560889, 1.4201932011953577, 1.4626329490105987]}, {\"mode\": \"lines\", \"name\": \"-0.9\", \"type\": \"scatter\", \"x\": [0.05, 0.1, 0.15000000000000002, 0.2, 0.25, 0.3, 0.35, 0.39999999999999997, 0.44999999999999996, 0.49999999999999994, 0.5499999999999999, 0.6, 0.65, 0.7000000000000001, 0.7500000000000001, 0.8000000000000002, 0.8500000000000002, 0.9000000000000002, 0.9500000000000003], \"y\": []}, {\"mode\": \"lines\", \"name\": \"-0.85\", \"type\": \"scatter\", \"x\": [0.05, 0.1, 0.15000000000000002, 0.2, 0.25, 0.3, 0.35, 0.39999999999999997, 0.44999999999999996, 0.49999999999999994, 0.5499999999999999, 0.6, 0.65, 0.7000000000000001, 0.7500000000000001, 0.8000000000000002, 0.8500000000000002, 0.9000000000000002, 0.9500000000000003], \"y\": []}, {\"mode\": \"lines\", \"name\": \"-0.8\", \"type\": \"scatter\", \"x\": [0.05, 0.1, 0.15000000000000002, 0.2, 0.25, 0.3, 0.35, 0.39999999999999997, 0.44999999999999996, 0.49999999999999994, 0.5499999999999999, 0.6, 0.65, 0.7000000000000001, 0.7500000000000001, 0.8000000000000002, 0.8500000000000002, 0.9000000000000002, 0.9500000000000003], \"y\": []}, {\"mode\": \"lines\", \"name\": \"-0.75\", \"type\": \"scatter\", \"x\": [0.05, 0.1, 0.15000000000000002, 0.2, 0.25, 0.3, 0.35, 0.39999999999999997, 0.44999999999999996, 0.49999999999999994, 0.5499999999999999, 0.6, 0.65, 0.7000000000000001, 0.7500000000000001, 0.8000000000000002, 0.8500000000000002, 0.9000000000000002, 0.9500000000000003], \"y\": []}, {\"mode\": \"lines\", \"name\": \"-0.7\", \"type\": \"scatter\", \"x\": [0.05, 0.1, 0.15000000000000002, 0.2, 0.25, 0.3, 0.35, 0.39999999999999997, 0.44999999999999996, 0.49999999999999994, 0.5499999999999999, 0.6, 0.65, 0.7000000000000001, 0.7500000000000001, 0.8000000000000002, 0.8500000000000002, 0.9000000000000002, 0.9500000000000003], \"y\": []}, {\"mode\": \"lines\", \"name\": \"-0.65\", \"type\": \"scatter\", \"x\": [0.05, 0.1, 0.15000000000000002, 0.2, 0.25, 0.3, 0.35, 0.39999999999999997, 0.44999999999999996, 0.49999999999999994, 0.5499999999999999, 0.6, 0.65, 0.7000000000000001, 0.7500000000000001, 0.8000000000000002, 0.8500000000000002, 0.9000000000000002, 0.9500000000000003], \"y\": []}, {\"mode\": \"lines\", \"name\": \"-0.6\", \"type\": \"scatter\", \"x\": [0.05, 0.1, 0.15000000000000002, 0.2, 0.25, 0.3, 0.35, 0.39999999999999997, 0.44999999999999996, 0.49999999999999994, 0.5499999999999999, 0.6, 0.65, 0.7000000000000001, 0.7500000000000001, 0.8000000000000002, 0.8500000000000002, 0.9000000000000002, 0.9500000000000003], \"y\": []}, {\"mode\": \"lines\", \"name\": \"-0.55\", \"type\": \"scatter\", \"x\": [0.05, 0.1, 0.15000000000000002, 0.2, 0.25, 0.3, 0.35, 0.39999999999999997, 0.44999999999999996, 0.49999999999999994, 0.5499999999999999, 0.6, 0.65, 0.7000000000000001, 0.7500000000000001, 0.8000000000000002, 0.8500000000000002, 0.9000000000000002, 0.9500000000000003], \"y\": []}, {\"mode\": \"lines\", \"name\": \"-0.5\", \"type\": \"scatter\", \"x\": [0.05, 0.1, 0.15000000000000002, 0.2, 0.25, 0.3, 0.35, 0.39999999999999997, 0.44999999999999996, 0.49999999999999994, 0.5499999999999999, 0.6, 0.65, 0.7000000000000001, 0.7500000000000001, 0.8000000000000002, 0.8500000000000002, 0.9000000000000002, 0.9500000000000003], \"y\": []}, {\"mode\": \"lines\", \"name\": \"-0.45\", \"type\": \"scatter\", \"x\": [0.05, 0.1, 0.15000000000000002, 0.2, 0.25, 0.3, 0.35, 0.39999999999999997, 0.44999999999999996, 0.49999999999999994, 0.5499999999999999, 0.6, 0.65, 0.7000000000000001, 0.7500000000000001, 0.8000000000000002, 0.8500000000000002, 0.9000000000000002, 0.9500000000000003], \"y\": []}, {\"mode\": \"lines\", \"name\": \"-0.4\", \"type\": \"scatter\", \"x\": [0.05, 0.1, 0.15000000000000002, 0.2, 0.25, 0.3, 0.35, 0.39999999999999997, 0.44999999999999996, 0.49999999999999994, 0.5499999999999999, 0.6, 0.65, 0.7000000000000001, 0.7500000000000001, 0.8000000000000002, 0.8500000000000002, 0.9000000000000002, 0.9500000000000003], \"y\": []}, {\"mode\": \"lines\", \"name\": \"-0.35\", \"type\": \"scatter\", \"x\": [0.05, 0.1, 0.15000000000000002, 0.2, 0.25, 0.3, 0.35, 0.39999999999999997, 0.44999999999999996, 0.49999999999999994, 0.5499999999999999, 0.6, 0.65, 0.7000000000000001, 0.7500000000000001, 0.8000000000000002, 0.8500000000000002, 0.9000000000000002, 0.9500000000000003], \"y\": []}, {\"mode\": \"lines\", \"name\": \"-0.3\", \"type\": \"scatter\", \"x\": [0.05, 0.1, 0.15000000000000002, 0.2, 0.25, 0.3, 0.35, 0.39999999999999997, 0.44999999999999996, 0.49999999999999994, 0.5499999999999999, 0.6, 0.65, 0.7000000000000001, 0.7500000000000001, 0.8000000000000002, 0.8500000000000002, 0.9000000000000002, 0.9500000000000003], \"y\": []}, {\"mode\": \"lines\", \"name\": \"-0.25\", \"type\": \"scatter\", \"x\": [0.05, 0.1, 0.15000000000000002, 0.2, 0.25, 0.3, 0.35, 0.39999999999999997, 0.44999999999999996, 0.49999999999999994, 0.5499999999999999, 0.6, 0.65, 0.7000000000000001, 0.7500000000000001, 0.8000000000000002, 0.8500000000000002, 0.9000000000000002, 0.9500000000000003], \"y\": []}, {\"mode\": \"lines\", \"name\": \"-0.2\", \"type\": \"scatter\", \"x\": [0.05, 0.1, 0.15000000000000002, 0.2, 0.25, 0.3, 0.35, 0.39999999999999997, 0.44999999999999996, 0.49999999999999994, 0.5499999999999999, 0.6, 0.65, 0.7000000000000001, 0.7500000000000001, 0.8000000000000002, 0.8500000000000002, 0.9000000000000002, 0.9500000000000003], \"y\": []}, {\"mode\": \"lines\", \"name\": \"-0.15\", \"type\": \"scatter\", \"x\": [0.05, 0.1, 0.15000000000000002, 0.2, 0.25, 0.3, 0.35, 0.39999999999999997, 0.44999999999999996, 0.49999999999999994, 0.5499999999999999, 0.6, 0.65, 0.7000000000000001, 0.7500000000000001, 0.8000000000000002, 0.8500000000000002, 0.9000000000000002, 0.9500000000000003], \"y\": []}, {\"mode\": \"lines\", \"name\": \"-0.1\", \"type\": \"scatter\", \"x\": [0.05, 0.1, 0.15000000000000002, 0.2, 0.25, 0.3, 0.35, 0.39999999999999997, 0.44999999999999996, 0.49999999999999994, 0.5499999999999999, 0.6, 0.65, 0.7000000000000001, 0.7500000000000001, 0.8000000000000002, 0.8500000000000002, 0.9000000000000002, 0.9500000000000003], \"y\": []}, {\"mode\": \"lines\", \"name\": \"-0.05\", \"type\": \"scatter\", \"x\": [0.05, 0.1, 0.15000000000000002, 0.2, 0.25, 0.3, 0.35, 0.39999999999999997, 0.44999999999999996, 0.49999999999999994, 0.5499999999999999, 0.6, 0.65, 0.7000000000000001, 0.7500000000000001, 0.8000000000000002, 0.8500000000000002, 0.9000000000000002, 0.9500000000000003], \"y\": []}, {\"mode\": \"lines\", \"name\": \"0.05\", \"type\": \"scatter\", \"x\": [0.05, 0.1, 0.15000000000000002, 0.2, 0.25, 0.3, 0.35, 0.39999999999999997, 0.44999999999999996, 0.49999999999999994, 0.5499999999999999, 0.6, 0.65, 0.7000000000000001, 0.7500000000000001, 0.8000000000000002, 0.8500000000000002, 0.9000000000000002, 0.9500000000000003], \"y\": []}, {\"mode\": \"lines\", \"name\": \"0.1\", \"type\": \"scatter\", \"x\": [0.05, 0.1, 0.15000000000000002, 0.2, 0.25, 0.3, 0.35, 0.39999999999999997, 0.44999999999999996, 0.49999999999999994, 0.5499999999999999, 0.6, 0.65, 0.7000000000000001, 0.7500000000000001, 0.8000000000000002, 0.8500000000000002, 0.9000000000000002, 0.9500000000000003], \"y\": []}, {\"mode\": \"lines\", \"name\": \"0.15\", \"type\": \"scatter\", \"x\": [0.05, 0.1, 0.15000000000000002, 0.2, 0.25, 0.3, 0.35, 0.39999999999999997, 0.44999999999999996, 0.49999999999999994, 0.5499999999999999, 0.6, 0.65, 0.7000000000000001, 0.7500000000000001, 0.8000000000000002, 0.8500000000000002, 0.9000000000000002, 0.9500000000000003], \"y\": []}, {\"mode\": \"lines\", \"name\": \"0.2\", \"type\": \"scatter\", \"x\": [0.05, 0.1, 0.15000000000000002, 0.2, 0.25, 0.3, 0.35, 0.39999999999999997, 0.44999999999999996, 0.49999999999999994, 0.5499999999999999, 0.6, 0.65, 0.7000000000000001, 0.7500000000000001, 0.8000000000000002, 0.8500000000000002, 0.9000000000000002, 0.9500000000000003], \"y\": []}, {\"mode\": \"lines\", \"name\": \"0.25\", \"type\": \"scatter\", \"x\": [0.05, 0.1, 0.15000000000000002, 0.2, 0.25, 0.3, 0.35, 0.39999999999999997, 0.44999999999999996, 0.49999999999999994, 0.5499999999999999, 0.6, 0.65, 0.7000000000000001, 0.7500000000000001, 0.8000000000000002, 0.8500000000000002, 0.9000000000000002, 0.9500000000000003], \"y\": []}, {\"mode\": \"lines\", \"name\": \"0.3\", \"type\": \"scatter\", \"x\": [0.05, 0.1, 0.15000000000000002, 0.2, 0.25, 0.3, 0.35, 0.39999999999999997, 0.44999999999999996, 0.49999999999999994, 0.5499999999999999, 0.6, 0.65, 0.7000000000000001, 0.7500000000000001, 0.8000000000000002, 0.8500000000000002, 0.9000000000000002, 0.9500000000000003], \"y\": []}, {\"mode\": \"lines\", \"name\": \"0.35\", \"type\": \"scatter\", \"x\": [0.05, 0.1, 0.15000000000000002, 0.2, 0.25, 0.3, 0.35, 0.39999999999999997, 0.44999999999999996, 0.49999999999999994, 0.5499999999999999, 0.6, 0.65, 0.7000000000000001, 0.7500000000000001, 0.8000000000000002, 0.8500000000000002, 0.9000000000000002, 0.9500000000000003], \"y\": []}, {\"mode\": \"lines\", \"name\": \"0.4\", \"type\": \"scatter\", \"x\": [0.05, 0.1, 0.15000000000000002, 0.2, 0.25, 0.3, 0.35, 0.39999999999999997, 0.44999999999999996, 0.49999999999999994, 0.5499999999999999, 0.6, 0.65, 0.7000000000000001, 0.7500000000000001, 0.8000000000000002, 0.8500000000000002, 0.9000000000000002, 0.9500000000000003], \"y\": []}, {\"mode\": \"lines\", \"name\": \"0.45\", \"type\": \"scatter\", \"x\": [0.05, 0.1, 0.15000000000000002, 0.2, 0.25, 0.3, 0.35, 0.39999999999999997, 0.44999999999999996, 0.49999999999999994, 0.5499999999999999, 0.6, 0.65, 0.7000000000000001, 0.7500000000000001, 0.8000000000000002, 0.8500000000000002, 0.9000000000000002, 0.9500000000000003], \"y\": []}, {\"mode\": \"lines\", \"name\": \"0.5\", \"type\": \"scatter\", \"x\": [0.05, 0.1, 0.15000000000000002, 0.2, 0.25, 0.3, 0.35, 0.39999999999999997, 0.44999999999999996, 0.49999999999999994, 0.5499999999999999, 0.6, 0.65, 0.7000000000000001, 0.7500000000000001, 0.8000000000000002, 0.8500000000000002, 0.9000000000000002, 0.9500000000000003], \"y\": []}, {\"mode\": \"lines\", \"name\": \"0.55\", \"type\": \"scatter\", \"x\": [0.05, 0.1, 0.15000000000000002, 0.2, 0.25, 0.3, 0.35, 0.39999999999999997, 0.44999999999999996, 0.49999999999999994, 0.5499999999999999, 0.6, 0.65, 0.7000000000000001, 0.7500000000000001, 0.8000000000000002, 0.8500000000000002, 0.9000000000000002, 0.9500000000000003], \"y\": []}, {\"mode\": \"lines\", \"name\": \"0.6\", \"type\": \"scatter\", \"x\": [0.05, 0.1, 0.15000000000000002, 0.2, 0.25, 0.3, 0.35, 0.39999999999999997, 0.44999999999999996, 0.49999999999999994, 0.5499999999999999, 0.6, 0.65, 0.7000000000000001, 0.7500000000000001, 0.8000000000000002, 0.8500000000000002, 0.9000000000000002, 0.9500000000000003], \"y\": []}, {\"mode\": \"lines\", \"name\": \"0.65\", \"type\": \"scatter\", \"x\": [0.05, 0.1, 0.15000000000000002, 0.2, 0.25, 0.3, 0.35, 0.39999999999999997, 0.44999999999999996, 0.49999999999999994, 0.5499999999999999, 0.6, 0.65, 0.7000000000000001, 0.7500000000000001, 0.8000000000000002, 0.8500000000000002, 0.9000000000000002, 0.9500000000000003], \"y\": []}, {\"mode\": \"lines\", \"name\": \"0.7\", \"type\": \"scatter\", \"x\": [0.05, 0.1, 0.15000000000000002, 0.2, 0.25, 0.3, 0.35, 0.39999999999999997, 0.44999999999999996, 0.49999999999999994, 0.5499999999999999, 0.6, 0.65, 0.7000000000000001, 0.7500000000000001, 0.8000000000000002, 0.8500000000000002, 0.9000000000000002, 0.9500000000000003], \"y\": []}, {\"mode\": \"lines\", \"name\": \"0.75\", \"type\": \"scatter\", \"x\": [0.05, 0.1, 0.15000000000000002, 0.2, 0.25, 0.3, 0.35, 0.39999999999999997, 0.44999999999999996, 0.49999999999999994, 0.5499999999999999, 0.6, 0.65, 0.7000000000000001, 0.7500000000000001, 0.8000000000000002, 0.8500000000000002, 0.9000000000000002, 0.9500000000000003], \"y\": []}, {\"mode\": \"lines\", \"name\": \"0.8\", \"type\": \"scatter\", \"x\": [0.05, 0.1, 0.15000000000000002, 0.2, 0.25, 0.3, 0.35, 0.39999999999999997, 0.44999999999999996, 0.49999999999999994, 0.5499999999999999, 0.6, 0.65, 0.7000000000000001, 0.7500000000000001, 0.8000000000000002, 0.8500000000000002, 0.9000000000000002, 0.9500000000000003], \"y\": []}, {\"mode\": \"lines\", \"name\": \"0.85\", \"type\": \"scatter\", \"x\": [0.05, 0.1, 0.15000000000000002, 0.2, 0.25, 0.3, 0.35, 0.39999999999999997, 0.44999999999999996, 0.49999999999999994, 0.5499999999999999, 0.6, 0.65, 0.7000000000000001, 0.7500000000000001, 0.8000000000000002, 0.8500000000000002, 0.9000000000000002, 0.9500000000000003], \"y\": []}, {\"mode\": \"lines\", \"name\": \"0.9\", \"type\": \"scatter\", \"x\": [0.05, 0.1, 0.15000000000000002, 0.2, 0.25, 0.3, 0.35, 0.39999999999999997, 0.44999999999999996, 0.49999999999999994, 0.5499999999999999, 0.6, 0.65, 0.7000000000000001, 0.7500000000000001, 0.8000000000000002, 0.8500000000000002, 0.9000000000000002, 0.9500000000000003], \"y\": []}, {\"mode\": \"lines\", \"name\": \"0.95\", \"type\": \"scatter\", \"x\": [0.05, 0.1, 0.15000000000000002, 0.2, 0.25, 0.3, 0.35, 0.39999999999999997, 0.44999999999999996, 0.49999999999999994, 0.5499999999999999, 0.6, 0.65, 0.7000000000000001, 0.7500000000000001, 0.8000000000000002, 0.8500000000000002, 0.9000000000000002, 0.9500000000000003], \"y\": []}],                        {\"template\": {\"data\": {\"bar\": [{\"error_x\": {\"color\": \"#2a3f5f\"}, \"error_y\": {\"color\": \"#2a3f5f\"}, \"marker\": {\"line\": {\"color\": \"#E5ECF6\", \"width\": 0.5}}, \"type\": \"bar\"}], \"barpolar\": [{\"marker\": {\"line\": {\"color\": \"#E5ECF6\", \"width\": 0.5}}, \"type\": \"barpolar\"}], \"carpet\": [{\"aaxis\": {\"endlinecolor\": \"#2a3f5f\", \"gridcolor\": \"white\", \"linecolor\": \"white\", \"minorgridcolor\": \"white\", \"startlinecolor\": \"#2a3f5f\"}, \"baxis\": {\"endlinecolor\": \"#2a3f5f\", \"gridcolor\": \"white\", \"linecolor\": \"white\", \"minorgridcolor\": \"white\", \"startlinecolor\": \"#2a3f5f\"}, \"type\": \"carpet\"}], \"choropleth\": [{\"colorbar\": {\"outlinewidth\": 0, \"ticks\": \"\"}, \"type\": \"choropleth\"}], \"contour\": [{\"colorbar\": {\"outlinewidth\": 0, \"ticks\": \"\"}, \"colorscale\": [[0.0, \"#0d0887\"], [0.1111111111111111, \"#46039f\"], [0.2222222222222222, \"#7201a8\"], [0.3333333333333333, \"#9c179e\"], [0.4444444444444444, \"#bd3786\"], [0.5555555555555556, \"#d8576b\"], [0.6666666666666666, \"#ed7953\"], [0.7777777777777778, \"#fb9f3a\"], [0.8888888888888888, \"#fdca26\"], [1.0, \"#f0f921\"]], \"type\": \"contour\"}], \"contourcarpet\": [{\"colorbar\": {\"outlinewidth\": 0, \"ticks\": \"\"}, \"type\": \"contourcarpet\"}], \"heatmap\": [{\"colorbar\": {\"outlinewidth\": 0, \"ticks\": \"\"}, \"colorscale\": [[0.0, \"#0d0887\"], [0.1111111111111111, \"#46039f\"], [0.2222222222222222, \"#7201a8\"], [0.3333333333333333, \"#9c179e\"], [0.4444444444444444, \"#bd3786\"], [0.5555555555555556, \"#d8576b\"], [0.6666666666666666, \"#ed7953\"], [0.7777777777777778, \"#fb9f3a\"], [0.8888888888888888, \"#fdca26\"], [1.0, \"#f0f921\"]], \"type\": \"heatmap\"}], \"heatmapgl\": [{\"colorbar\": {\"outlinewidth\": 0, \"ticks\": \"\"}, \"colorscale\": [[0.0, \"#0d0887\"], [0.1111111111111111, \"#46039f\"], [0.2222222222222222, \"#7201a8\"], [0.3333333333333333, \"#9c179e\"], [0.4444444444444444, \"#bd3786\"], [0.5555555555555556, \"#d8576b\"], [0.6666666666666666, \"#ed7953\"], [0.7777777777777778, \"#fb9f3a\"], [0.8888888888888888, \"#fdca26\"], [1.0, \"#f0f921\"]], \"type\": \"heatmapgl\"}], \"histogram\": [{\"marker\": {\"colorbar\": {\"outlinewidth\": 0, \"ticks\": \"\"}}, \"type\": \"histogram\"}], \"histogram2d\": [{\"colorbar\": {\"outlinewidth\": 0, \"ticks\": \"\"}, \"colorscale\": [[0.0, \"#0d0887\"], [0.1111111111111111, \"#46039f\"], [0.2222222222222222, \"#7201a8\"], [0.3333333333333333, \"#9c179e\"], [0.4444444444444444, \"#bd3786\"], [0.5555555555555556, \"#d8576b\"], [0.6666666666666666, \"#ed7953\"], [0.7777777777777778, \"#fb9f3a\"], [0.8888888888888888, \"#fdca26\"], [1.0, \"#f0f921\"]], \"type\": \"histogram2d\"}], \"histogram2dcontour\": [{\"colorbar\": {\"outlinewidth\": 0, \"ticks\": \"\"}, \"colorscale\": [[0.0, \"#0d0887\"], [0.1111111111111111, \"#46039f\"], [0.2222222222222222, \"#7201a8\"], [0.3333333333333333, \"#9c179e\"], [0.4444444444444444, \"#bd3786\"], [0.5555555555555556, \"#d8576b\"], [0.6666666666666666, \"#ed7953\"], [0.7777777777777778, \"#fb9f3a\"], [0.8888888888888888, \"#fdca26\"], [1.0, \"#f0f921\"]], \"type\": \"histogram2dcontour\"}], \"mesh3d\": [{\"colorbar\": {\"outlinewidth\": 0, \"ticks\": \"\"}, \"type\": \"mesh3d\"}], \"parcoords\": [{\"line\": {\"colorbar\": {\"outlinewidth\": 0, \"ticks\": \"\"}}, \"type\": \"parcoords\"}], \"pie\": [{\"automargin\": true, \"type\": \"pie\"}], \"scatter\": [{\"marker\": {\"colorbar\": {\"outlinewidth\": 0, \"ticks\": \"\"}}, \"type\": \"scatter\"}], \"scatter3d\": [{\"line\": {\"colorbar\": {\"outlinewidth\": 0, \"ticks\": \"\"}}, \"marker\": {\"colorbar\": {\"outlinewidth\": 0, \"ticks\": \"\"}}, \"type\": \"scatter3d\"}], \"scattercarpet\": [{\"marker\": {\"colorbar\": {\"outlinewidth\": 0, \"ticks\": \"\"}}, \"type\": \"scattercarpet\"}], \"scattergeo\": [{\"marker\": {\"colorbar\": {\"outlinewidth\": 0, \"ticks\": \"\"}}, \"type\": \"scattergeo\"}], \"scattergl\": [{\"marker\": {\"colorbar\": {\"outlinewidth\": 0, \"ticks\": \"\"}}, \"type\": \"scattergl\"}], \"scattermapbox\": [{\"marker\": {\"colorbar\": {\"outlinewidth\": 0, \"ticks\": \"\"}}, \"type\": \"scattermapbox\"}], \"scatterpolar\": [{\"marker\": {\"colorbar\": {\"outlinewidth\": 0, \"ticks\": \"\"}}, \"type\": \"scatterpolar\"}], \"scatterpolargl\": [{\"marker\": {\"colorbar\": {\"outlinewidth\": 0, \"ticks\": \"\"}}, \"type\": \"scatterpolargl\"}], \"scatterternary\": [{\"marker\": {\"colorbar\": {\"outlinewidth\": 0, \"ticks\": \"\"}}, \"type\": \"scatterternary\"}], \"surface\": [{\"colorbar\": {\"outlinewidth\": 0, \"ticks\": \"\"}, \"colorscale\": [[0.0, \"#0d0887\"], [0.1111111111111111, \"#46039f\"], [0.2222222222222222, \"#7201a8\"], [0.3333333333333333, \"#9c179e\"], [0.4444444444444444, \"#bd3786\"], [0.5555555555555556, \"#d8576b\"], [0.6666666666666666, \"#ed7953\"], [0.7777777777777778, \"#fb9f3a\"], [0.8888888888888888, \"#fdca26\"], [1.0, \"#f0f921\"]], \"type\": \"surface\"}], \"table\": [{\"cells\": {\"fill\": {\"color\": \"#EBF0F8\"}, \"line\": {\"color\": \"white\"}}, \"header\": {\"fill\": {\"color\": \"#C8D4E3\"}, \"line\": {\"color\": \"white\"}}, \"type\": \"table\"}]}, \"layout\": {\"annotationdefaults\": {\"arrowcolor\": \"#2a3f5f\", \"arrowhead\": 0, \"arrowwidth\": 1}, \"autotypenumbers\": \"strict\", \"coloraxis\": {\"colorbar\": {\"outlinewidth\": 0, \"ticks\": \"\"}}, \"colorscale\": {\"diverging\": [[0, \"#8e0152\"], [0.1, \"#c51b7d\"], [0.2, \"#de77ae\"], [0.3, \"#f1b6da\"], [0.4, \"#fde0ef\"], [0.5, \"#f7f7f7\"], [0.6, \"#e6f5d0\"], [0.7, \"#b8e186\"], [0.8, \"#7fbc41\"], [0.9, \"#4d9221\"], [1, \"#276419\"]], \"sequential\": [[0.0, \"#0d0887\"], [0.1111111111111111, \"#46039f\"], [0.2222222222222222, \"#7201a8\"], [0.3333333333333333, \"#9c179e\"], [0.4444444444444444, \"#bd3786\"], [0.5555555555555556, \"#d8576b\"], [0.6666666666666666, \"#ed7953\"], [0.7777777777777778, \"#fb9f3a\"], [0.8888888888888888, \"#fdca26\"], [1.0, \"#f0f921\"]], \"sequentialminus\": [[0.0, \"#0d0887\"], [0.1111111111111111, \"#46039f\"], [0.2222222222222222, \"#7201a8\"], [0.3333333333333333, \"#9c179e\"], [0.4444444444444444, \"#bd3786\"], [0.5555555555555556, \"#d8576b\"], [0.6666666666666666, \"#ed7953\"], [0.7777777777777778, \"#fb9f3a\"], [0.8888888888888888, \"#fdca26\"], [1.0, \"#f0f921\"]]}, \"colorway\": [\"#636efa\", \"#EF553B\", \"#00cc96\", \"#ab63fa\", \"#FFA15A\", \"#19d3f3\", \"#FF6692\", \"#B6E880\", \"#FF97FF\", \"#FECB52\"], \"font\": {\"color\": \"#2a3f5f\"}, \"geo\": {\"bgcolor\": \"white\", \"lakecolor\": \"white\", \"landcolor\": \"#E5ECF6\", \"showlakes\": true, \"showland\": true, \"subunitcolor\": \"white\"}, \"hoverlabel\": {\"align\": \"left\"}, \"hovermode\": \"closest\", \"mapbox\": {\"style\": \"light\"}, \"paper_bgcolor\": \"white\", \"plot_bgcolor\": \"#E5ECF6\", \"polar\": {\"angularaxis\": {\"gridcolor\": \"white\", \"linecolor\": \"white\", \"ticks\": \"\"}, \"bgcolor\": \"#E5ECF6\", \"radialaxis\": {\"gridcolor\": \"white\", \"linecolor\": \"white\", \"ticks\": \"\"}}, \"scene\": {\"xaxis\": {\"backgroundcolor\": \"#E5ECF6\", \"gridcolor\": \"white\", \"gridwidth\": 2, \"linecolor\": \"white\", \"showbackground\": true, \"ticks\": \"\", \"zerolinecolor\": \"white\"}, \"yaxis\": {\"backgroundcolor\": \"#E5ECF6\", \"gridcolor\": \"white\", \"gridwidth\": 2, \"linecolor\": \"white\", \"showbackground\": true, \"ticks\": \"\", \"zerolinecolor\": \"white\"}, \"zaxis\": {\"backgroundcolor\": \"#E5ECF6\", \"gridcolor\": \"white\", \"gridwidth\": 2, \"linecolor\": \"white\", \"showbackground\": true, \"ticks\": \"\", \"zerolinecolor\": \"white\"}}, \"shapedefaults\": {\"line\": {\"color\": \"#2a3f5f\"}}, \"ternary\": {\"aaxis\": {\"gridcolor\": \"white\", \"linecolor\": \"white\", \"ticks\": \"\"}, \"baxis\": {\"gridcolor\": \"white\", \"linecolor\": \"white\", \"ticks\": \"\"}, \"bgcolor\": \"#E5ECF6\", \"caxis\": {\"gridcolor\": \"white\", \"linecolor\": \"white\", \"ticks\": \"\"}}, \"title\": {\"x\": 0.05}, \"xaxis\": {\"automargin\": true, \"gridcolor\": \"white\", \"linecolor\": \"white\", \"ticks\": \"\", \"title\": {\"standoff\": 15}, \"zerolinecolor\": \"white\", \"zerolinewidth\": 2}, \"yaxis\": {\"automargin\": true, \"gridcolor\": \"white\", \"linecolor\": \"white\", \"ticks\": \"\", \"title\": {\"standoff\": 15}, \"zerolinecolor\": \"white\", \"zerolinewidth\": 2}}}, \"title\": {\"text\": \"Valores de custo para cada mudan\\u00e7a na probabilidade de atingir a meta\"}, \"xaxis\": {\"title\": {\"text\": \"Probabilidade (p')\"}}, \"yaxis\": {\"title\": {\"text\": \"Custo (c')\"}}},                        {\"responsive\": true}                    ).then(function(){\n",
       "                            \n",
       "var gd = document.getElementById('1ed383a9-8a45-47e1-bbf1-1eae546c6958');\n",
       "var x = new MutationObserver(function (mutations, observer) {{\n",
       "        var display = window.getComputedStyle(gd).display;\n",
       "        if (!display || display === 'none') {{\n",
       "            console.log([gd, 'removed!']);\n",
       "            Plotly.purge(gd);\n",
       "            observer.disconnect();\n",
       "        }}\n",
       "}});\n",
       "\n",
       "// Listen for the removal of the full notebook cells\n",
       "var notebookContainer = gd.closest('#notebook-container');\n",
       "if (notebookContainer) {{\n",
       "    x.observe(notebookContainer, {childList: true});\n",
       "}}\n",
       "\n",
       "// Listen for the clearing of the current output cell\n",
       "var outputEl = gd.closest('.output');\n",
       "if (outputEl) {{\n",
       "    x.observe(outputEl, {childList: true});\n",
       "}}\n",
       "\n",
       "                        })                };                });            </script>        </div>"
      ]
     },
     "metadata": {},
     "output_type": "display_data"
    },
    {
     "data": {
      "application/vnd.plotly.v1+json": {
       "config": {
        "plotlyServerURL": "https://plot.ly"
       },
       "data": [
        {
         "line": {
          "color": "rgb(200.0, 200.0, 200.0)"
         },
         "mode": "lines",
         "name": "-0.95",
         "type": "scatter",
         "x": [
          0.05,
          0.1,
          0.15,
          0.2,
          0.25,
          0.3,
          0.35,
          0.4,
          0.45,
          0.5,
          0.55,
          0.6,
          0.65,
          0.7,
          0.75,
          0.8,
          0.85,
          0.9,
          0.95
         ],
         "y": [
          0.15493402079232038,
          0.2899623010767797,
          0.40962230901984037,
          0.5170575837478053,
          0.6145360276747438,
          0.7037476659170588,
          0.7859856975396531,
          0.8622617634598161,
          0.933382180135901,
          1,
          1.0626515508534018,
          1.1217826959637844,
          1.1777681009284298,
          1.230925629554433,
          1.281527275659983,
          1.3298075853076972,
          1.375970230560889,
          1.4201932011953577,
          1.4626329490105987
         ]
        },
        {
         "line": {
          "color": "rgb(201.44736842105263, 201.44736842105263, 201.44736842105263)"
         },
         "mode": "lines",
         "name": "-0.9",
         "type": "scatter",
         "x": [
          0.05,
          0.1,
          0.15,
          0.2,
          0.25,
          0.3,
          0.35,
          0.4,
          0.45,
          0.5,
          0.55,
          0.6,
          0.65,
          0.7,
          0.75,
          0.8,
          0.85,
          0.9,
          0.95
         ],
         "y": []
        },
        {
         "line": {
          "color": "rgb(202.89473684210526, 202.89473684210526, 202.89473684210526)"
         },
         "mode": "lines",
         "name": "-0.85",
         "type": "scatter",
         "x": [
          0.05,
          0.1,
          0.15,
          0.2,
          0.25,
          0.3,
          0.35,
          0.4,
          0.45,
          0.5,
          0.55,
          0.6,
          0.65,
          0.7,
          0.75,
          0.8,
          0.85,
          0.9,
          0.95
         ],
         "y": []
        },
        {
         "line": {
          "color": "rgb(204.3421052631579, 204.3421052631579, 204.3421052631579)"
         },
         "mode": "lines",
         "name": "-0.8",
         "type": "scatter",
         "x": [
          0.05,
          0.1,
          0.15,
          0.2,
          0.25,
          0.3,
          0.35,
          0.4,
          0.45,
          0.5,
          0.55,
          0.6,
          0.65,
          0.7,
          0.75,
          0.8,
          0.85,
          0.9,
          0.95
         ],
         "y": []
        },
        {
         "line": {
          "color": "rgb(205.78947368421052, 205.78947368421052, 205.78947368421052)"
         },
         "mode": "lines",
         "name": "-0.75",
         "type": "scatter",
         "x": [
          0.05,
          0.1,
          0.15,
          0.2,
          0.25,
          0.3,
          0.35,
          0.4,
          0.45,
          0.5,
          0.55,
          0.6,
          0.65,
          0.7,
          0.75,
          0.8,
          0.85,
          0.9,
          0.95
         ],
         "y": []
        },
        {
         "line": {
          "color": "rgb(207.23684210526315, 207.23684210526315, 207.23684210526315)"
         },
         "mode": "lines",
         "name": "-0.7",
         "type": "scatter",
         "x": [
          0.05,
          0.1,
          0.15,
          0.2,
          0.25,
          0.3,
          0.35,
          0.4,
          0.45,
          0.5,
          0.55,
          0.6,
          0.65,
          0.7,
          0.75,
          0.8,
          0.85,
          0.9,
          0.95
         ],
         "y": []
        },
        {
         "line": {
          "color": "rgb(208.68421052631578, 208.68421052631578, 208.68421052631578)"
         },
         "mode": "lines",
         "name": "-0.65",
         "type": "scatter",
         "x": [
          0.05,
          0.1,
          0.15,
          0.2,
          0.25,
          0.3,
          0.35,
          0.4,
          0.45,
          0.5,
          0.55,
          0.6,
          0.65,
          0.7,
          0.75,
          0.8,
          0.85,
          0.9,
          0.95
         ],
         "y": []
        },
        {
         "line": {
          "color": "rgb(210.1315789473684, 210.1315789473684, 210.1315789473684)"
         },
         "mode": "lines",
         "name": "-0.6",
         "type": "scatter",
         "x": [
          0.05,
          0.1,
          0.15,
          0.2,
          0.25,
          0.3,
          0.35,
          0.4,
          0.45,
          0.5,
          0.55,
          0.6,
          0.65,
          0.7,
          0.75,
          0.8,
          0.85,
          0.9,
          0.95
         ],
         "y": []
        },
        {
         "line": {
          "color": "rgb(211.57894736842104, 211.57894736842104, 211.57894736842104)"
         },
         "mode": "lines",
         "name": "-0.55",
         "type": "scatter",
         "x": [
          0.05,
          0.1,
          0.15,
          0.2,
          0.25,
          0.3,
          0.35,
          0.4,
          0.45,
          0.5,
          0.55,
          0.6,
          0.65,
          0.7,
          0.75,
          0.8,
          0.85,
          0.9,
          0.95
         ],
         "y": []
        },
        {
         "line": {
          "color": "rgb(213.0263157894737, 213.0263157894737, 213.0263157894737)"
         },
         "mode": "lines",
         "name": "-0.5",
         "type": "scatter",
         "x": [
          0.05,
          0.1,
          0.15,
          0.2,
          0.25,
          0.3,
          0.35,
          0.4,
          0.45,
          0.5,
          0.55,
          0.6,
          0.65,
          0.7,
          0.75,
          0.8,
          0.85,
          0.9,
          0.95
         ],
         "y": []
        },
        {
         "line": {
          "color": "rgb(214.47368421052633, 214.47368421052633, 214.47368421052633)"
         },
         "mode": "lines",
         "name": "-0.45",
         "type": "scatter",
         "x": [
          0.05,
          0.1,
          0.15,
          0.2,
          0.25,
          0.3,
          0.35,
          0.4,
          0.45,
          0.5,
          0.55,
          0.6,
          0.65,
          0.7,
          0.75,
          0.8,
          0.85,
          0.9,
          0.95
         ],
         "y": []
        },
        {
         "line": {
          "color": "rgb(215.92105263157896, 215.92105263157896, 215.92105263157896)"
         },
         "mode": "lines",
         "name": "-0.4",
         "type": "scatter",
         "x": [
          0.05,
          0.1,
          0.15,
          0.2,
          0.25,
          0.3,
          0.35,
          0.4,
          0.45,
          0.5,
          0.55,
          0.6,
          0.65,
          0.7,
          0.75,
          0.8,
          0.85,
          0.9,
          0.95
         ],
         "y": []
        },
        {
         "line": {
          "color": "rgb(217.3684210526316, 217.3684210526316, 217.3684210526316)"
         },
         "mode": "lines",
         "name": "-0.35",
         "type": "scatter",
         "x": [
          0.05,
          0.1,
          0.15,
          0.2,
          0.25,
          0.3,
          0.35,
          0.4,
          0.45,
          0.5,
          0.55,
          0.6,
          0.65,
          0.7,
          0.75,
          0.8,
          0.85,
          0.9,
          0.95
         ],
         "y": []
        },
        {
         "line": {
          "color": "rgb(218.81578947368422, 218.81578947368422, 218.81578947368422)"
         },
         "mode": "lines",
         "name": "-0.3",
         "type": "scatter",
         "x": [
          0.05,
          0.1,
          0.15,
          0.2,
          0.25,
          0.3,
          0.35,
          0.4,
          0.45,
          0.5,
          0.55,
          0.6,
          0.65,
          0.7,
          0.75,
          0.8,
          0.85,
          0.9,
          0.95
         ],
         "y": []
        },
        {
         "line": {
          "color": "rgb(220.26315789473685, 220.26315789473685, 220.26315789473685)"
         },
         "mode": "lines",
         "name": "-0.25",
         "type": "scatter",
         "x": [
          0.05,
          0.1,
          0.15,
          0.2,
          0.25,
          0.3,
          0.35,
          0.4,
          0.45,
          0.5,
          0.55,
          0.6,
          0.65,
          0.7,
          0.75,
          0.8,
          0.85,
          0.9,
          0.95
         ],
         "y": []
        },
        {
         "line": {
          "color": "rgb(221.71052631578948, 221.71052631578948, 221.71052631578948)"
         },
         "mode": "lines",
         "name": "-0.2",
         "type": "scatter",
         "x": [
          0.05,
          0.1,
          0.15,
          0.2,
          0.25,
          0.3,
          0.35,
          0.4,
          0.45,
          0.5,
          0.55,
          0.6,
          0.65,
          0.7,
          0.75,
          0.8,
          0.85,
          0.9,
          0.95
         ],
         "y": []
        },
        {
         "line": {
          "color": "rgb(223.1578947368421, 223.1578947368421, 223.1578947368421)"
         },
         "mode": "lines",
         "name": "-0.15",
         "type": "scatter",
         "x": [
          0.05,
          0.1,
          0.15,
          0.2,
          0.25,
          0.3,
          0.35,
          0.4,
          0.45,
          0.5,
          0.55,
          0.6,
          0.65,
          0.7,
          0.75,
          0.8,
          0.85,
          0.9,
          0.95
         ],
         "y": []
        },
        {
         "line": {
          "color": "rgb(224.60526315789474, 224.60526315789474, 224.60526315789474)"
         },
         "mode": "lines",
         "name": "-0.1",
         "type": "scatter",
         "x": [
          0.05,
          0.1,
          0.15,
          0.2,
          0.25,
          0.3,
          0.35,
          0.4,
          0.45,
          0.5,
          0.55,
          0.6,
          0.65,
          0.7,
          0.75,
          0.8,
          0.85,
          0.9,
          0.95
         ],
         "y": []
        },
        {
         "line": {
          "color": "rgb(226.05263157894737, 226.05263157894737, 226.05263157894737)"
         },
         "mode": "lines",
         "name": "-0.05",
         "type": "scatter",
         "x": [
          0.05,
          0.1,
          0.15,
          0.2,
          0.25,
          0.3,
          0.35,
          0.4,
          0.45,
          0.5,
          0.55,
          0.6,
          0.65,
          0.7,
          0.75,
          0.8,
          0.85,
          0.9,
          0.95
         ],
         "y": []
        },
        {
         "line": {
          "color": "rgb(227.5, 227.5, 227.5)"
         },
         "mode": "lines",
         "name": "0.05",
         "type": "scatter",
         "x": [
          0.05,
          0.1,
          0.15,
          0.2,
          0.25,
          0.3,
          0.35,
          0.4,
          0.45,
          0.5,
          0.55,
          0.6,
          0.65,
          0.7,
          0.75,
          0.8,
          0.85,
          0.9,
          0.95
         ],
         "y": []
        },
        {
         "line": {
          "color": "rgb(228.94736842105263, 228.94736842105263, 228.94736842105263)"
         },
         "mode": "lines",
         "name": "0.1",
         "type": "scatter",
         "x": [
          0.05,
          0.1,
          0.15,
          0.2,
          0.25,
          0.3,
          0.35,
          0.4,
          0.45,
          0.5,
          0.55,
          0.6,
          0.65,
          0.7,
          0.75,
          0.8,
          0.85,
          0.9,
          0.95
         ],
         "y": []
        },
        {
         "line": {
          "color": "rgb(230.39473684210526, 230.39473684210526, 230.39473684210526)"
         },
         "mode": "lines",
         "name": "0.15",
         "type": "scatter",
         "x": [
          0.05,
          0.1,
          0.15,
          0.2,
          0.25,
          0.3,
          0.35,
          0.4,
          0.45,
          0.5,
          0.55,
          0.6,
          0.65,
          0.7,
          0.75,
          0.8,
          0.85,
          0.9,
          0.95
         ],
         "y": []
        },
        {
         "line": {
          "color": "rgb(231.8421052631579, 231.8421052631579, 231.8421052631579)"
         },
         "mode": "lines",
         "name": "0.2",
         "type": "scatter",
         "x": [
          0.05,
          0.1,
          0.15,
          0.2,
          0.25,
          0.3,
          0.35,
          0.4,
          0.45,
          0.5,
          0.55,
          0.6,
          0.65,
          0.7,
          0.75,
          0.8,
          0.85,
          0.9,
          0.95
         ],
         "y": []
        },
        {
         "line": {
          "color": "rgb(233.28947368421052, 233.28947368421052, 233.28947368421052)"
         },
         "mode": "lines",
         "name": "0.25",
         "type": "scatter",
         "x": [
          0.05,
          0.1,
          0.15,
          0.2,
          0.25,
          0.3,
          0.35,
          0.4,
          0.45,
          0.5,
          0.55,
          0.6,
          0.65,
          0.7,
          0.75,
          0.8,
          0.85,
          0.9,
          0.95
         ],
         "y": []
        },
        {
         "line": {
          "color": "rgb(234.73684210526315, 234.73684210526315, 234.73684210526315)"
         },
         "mode": "lines",
         "name": "0.3",
         "type": "scatter",
         "x": [
          0.05,
          0.1,
          0.15,
          0.2,
          0.25,
          0.3,
          0.35,
          0.4,
          0.45,
          0.5,
          0.55,
          0.6,
          0.65,
          0.7,
          0.75,
          0.8,
          0.85,
          0.9,
          0.95
         ],
         "y": []
        },
        {
         "line": {
          "color": "rgb(236.18421052631578, 236.18421052631578, 236.18421052631578)"
         },
         "mode": "lines",
         "name": "0.35",
         "type": "scatter",
         "x": [
          0.05,
          0.1,
          0.15,
          0.2,
          0.25,
          0.3,
          0.35,
          0.4,
          0.45,
          0.5,
          0.55,
          0.6,
          0.65,
          0.7,
          0.75,
          0.8,
          0.85,
          0.9,
          0.95
         ],
         "y": []
        },
        {
         "line": {
          "color": "rgb(237.63157894736844, 237.63157894736844, 237.63157894736844)"
         },
         "mode": "lines",
         "name": "0.4",
         "type": "scatter",
         "x": [
          0.05,
          0.1,
          0.15,
          0.2,
          0.25,
          0.3,
          0.35,
          0.4,
          0.45,
          0.5,
          0.55,
          0.6,
          0.65,
          0.7,
          0.75,
          0.8,
          0.85,
          0.9,
          0.95
         ],
         "y": []
        },
        {
         "line": {
          "color": "rgb(239.07894736842104, 239.07894736842104, 239.07894736842104)"
         },
         "mode": "lines",
         "name": "0.45",
         "type": "scatter",
         "x": [
          0.05,
          0.1,
          0.15,
          0.2,
          0.25,
          0.3,
          0.35,
          0.4,
          0.45,
          0.5,
          0.55,
          0.6,
          0.65,
          0.7,
          0.75,
          0.8,
          0.85,
          0.9,
          0.95
         ],
         "y": []
        },
        {
         "line": {
          "color": "rgb(240.5263157894737, 240.5263157894737, 240.5263157894737)"
         },
         "mode": "lines",
         "name": "0.5",
         "type": "scatter",
         "x": [
          0.05,
          0.1,
          0.15,
          0.2,
          0.25,
          0.3,
          0.35,
          0.4,
          0.45,
          0.5,
          0.55,
          0.6,
          0.65,
          0.7,
          0.75,
          0.8,
          0.85,
          0.9,
          0.95
         ],
         "y": []
        },
        {
         "line": {
          "color": "rgb(241.9736842105263, 241.9736842105263, 241.9736842105263)"
         },
         "mode": "lines",
         "name": "0.55",
         "type": "scatter",
         "x": [
          0.05,
          0.1,
          0.15,
          0.2,
          0.25,
          0.3,
          0.35,
          0.4,
          0.45,
          0.5,
          0.55,
          0.6,
          0.65,
          0.7,
          0.75,
          0.8,
          0.85,
          0.9,
          0.95
         ],
         "y": []
        },
        {
         "line": {
          "color": "rgb(243.42105263157896, 243.42105263157896, 243.42105263157896)"
         },
         "mode": "lines",
         "name": "0.6",
         "type": "scatter",
         "x": [
          0.05,
          0.1,
          0.15,
          0.2,
          0.25,
          0.3,
          0.35,
          0.4,
          0.45,
          0.5,
          0.55,
          0.6,
          0.65,
          0.7,
          0.75,
          0.8,
          0.85,
          0.9,
          0.95
         ],
         "y": []
        },
        {
         "line": {
          "color": "rgb(244.8684210526316, 244.8684210526316, 244.8684210526316)"
         },
         "mode": "lines",
         "name": "0.65",
         "type": "scatter",
         "x": [
          0.05,
          0.1,
          0.15,
          0.2,
          0.25,
          0.3,
          0.35,
          0.4,
          0.45,
          0.5,
          0.55,
          0.6,
          0.65,
          0.7,
          0.75,
          0.8,
          0.85,
          0.9,
          0.95
         ],
         "y": []
        },
        {
         "line": {
          "color": "rgb(246.31578947368422, 246.31578947368422, 246.31578947368422)"
         },
         "mode": "lines",
         "name": "0.7",
         "type": "scatter",
         "x": [
          0.05,
          0.1,
          0.15,
          0.2,
          0.25,
          0.3,
          0.35,
          0.4,
          0.45,
          0.5,
          0.55,
          0.6,
          0.65,
          0.7,
          0.75,
          0.8,
          0.85,
          0.9,
          0.95
         ],
         "y": []
        },
        {
         "line": {
          "color": "rgb(247.76315789473685, 247.76315789473685, 247.76315789473685)"
         },
         "mode": "lines",
         "name": "0.75",
         "type": "scatter",
         "x": [
          0.05,
          0.1,
          0.15,
          0.2,
          0.25,
          0.3,
          0.35,
          0.4,
          0.45,
          0.5,
          0.55,
          0.6,
          0.65,
          0.7,
          0.75,
          0.8,
          0.85,
          0.9,
          0.95
         ],
         "y": []
        },
        {
         "line": {
          "color": "rgb(249.21052631578948, 249.21052631578948, 249.21052631578948)"
         },
         "mode": "lines",
         "name": "0.8",
         "type": "scatter",
         "x": [
          0.05,
          0.1,
          0.15,
          0.2,
          0.25,
          0.3,
          0.35,
          0.4,
          0.45,
          0.5,
          0.55,
          0.6,
          0.65,
          0.7,
          0.75,
          0.8,
          0.85,
          0.9,
          0.95
         ],
         "y": []
        },
        {
         "line": {
          "color": "rgb(250.6578947368421, 250.6578947368421, 250.6578947368421)"
         },
         "mode": "lines",
         "name": "0.85",
         "type": "scatter",
         "x": [
          0.05,
          0.1,
          0.15,
          0.2,
          0.25,
          0.3,
          0.35,
          0.4,
          0.45,
          0.5,
          0.55,
          0.6,
          0.65,
          0.7,
          0.75,
          0.8,
          0.85,
          0.9,
          0.95
         ],
         "y": []
        },
        {
         "line": {
          "color": "rgb(252.10526315789474, 252.10526315789474, 252.10526315789474)"
         },
         "mode": "lines",
         "name": "0.9",
         "type": "scatter",
         "x": [
          0.05,
          0.1,
          0.15,
          0.2,
          0.25,
          0.3,
          0.35,
          0.4,
          0.45,
          0.5,
          0.55,
          0.6,
          0.65,
          0.7,
          0.75,
          0.8,
          0.85,
          0.9,
          0.95
         ],
         "y": []
        },
        {
         "line": {
          "color": "rgb(253.55263157894737, 253.55263157894737, 253.55263157894737)"
         },
         "mode": "lines",
         "name": "0.95",
         "type": "scatter",
         "x": [
          0.05,
          0.1,
          0.15,
          0.2,
          0.25,
          0.3,
          0.35,
          0.4,
          0.45,
          0.5,
          0.55,
          0.6,
          0.65,
          0.7,
          0.75,
          0.8,
          0.85,
          0.9,
          0.95
         ],
         "y": []
        },
        {
         "line": {
          "color": "green"
         },
         "mode": "lines",
         "name": "MAX",
         "type": "scatter",
         "x": [
          0.05,
          0.1,
          0.15,
          0.2,
          0.25,
          0.3,
          0.35,
          0.4,
          0.45,
          0.5,
          0.55,
          0.6,
          0.65,
          0.7,
          0.75,
          0.8,
          0.85,
          0.9,
          0.95
         ],
         "y": [
          0.15493402079232038,
          0.2899623010767797,
          0.40962230901984037,
          0.5170575837478053,
          0.6145360276747438,
          0.7037476659170588,
          0.7859856975396531,
          0.8622617634598161,
          0.933382180135901,
          1,
          1.0626515508534018,
          1.1217826959637844,
          1.1777681009284298,
          1.230925629554433,
          1.281527275659983,
          1.3298075853076972,
          1.375970230560889,
          1.4201932011953577,
          1.4626329490105987
         ]
        },
        {
         "line": {
          "color": "red"
         },
         "mode": "lines",
         "name": "MIN",
         "type": "scatter",
         "x": [
          0.05,
          0.1,
          0.15,
          0.2,
          0.25,
          0.3,
          0.35,
          0.4,
          0.45,
          0.5,
          0.55,
          0.6,
          0.65,
          0.7,
          0.75,
          0.8,
          0.85,
          0.9,
          0.95
         ],
         "y": [
          0.15493402079232038,
          0.2899623010767797,
          0.40962230901984037,
          0.5170575837478053,
          0.6145360276747438,
          0.7037476659170588,
          0.7859856975396531,
          0.8622617634598161,
          0.933382180135901,
          1,
          1.0626515508534018,
          1.1217826959637844,
          1.1777681009284298,
          1.230925629554433,
          1.281527275659983,
          1.3298075853076972,
          1.375970230560889,
          1.4201932011953577,
          1.4626329490105987
         ]
        }
       ],
       "layout": {
        "template": {
         "data": {
          "bar": [
           {
            "error_x": {
             "color": "#2a3f5f"
            },
            "error_y": {
             "color": "#2a3f5f"
            },
            "marker": {
             "line": {
              "color": "#E5ECF6",
              "width": 0.5
             }
            },
            "type": "bar"
           }
          ],
          "barpolar": [
           {
            "marker": {
             "line": {
              "color": "#E5ECF6",
              "width": 0.5
             }
            },
            "type": "barpolar"
           }
          ],
          "carpet": [
           {
            "aaxis": {
             "endlinecolor": "#2a3f5f",
             "gridcolor": "white",
             "linecolor": "white",
             "minorgridcolor": "white",
             "startlinecolor": "#2a3f5f"
            },
            "baxis": {
             "endlinecolor": "#2a3f5f",
             "gridcolor": "white",
             "linecolor": "white",
             "minorgridcolor": "white",
             "startlinecolor": "#2a3f5f"
            },
            "type": "carpet"
           }
          ],
          "choropleth": [
           {
            "colorbar": {
             "outlinewidth": 0,
             "ticks": ""
            },
            "type": "choropleth"
           }
          ],
          "contour": [
           {
            "colorbar": {
             "outlinewidth": 0,
             "ticks": ""
            },
            "colorscale": [
             [
              0,
              "#0d0887"
             ],
             [
              0.1111111111111111,
              "#46039f"
             ],
             [
              0.2222222222222222,
              "#7201a8"
             ],
             [
              0.3333333333333333,
              "#9c179e"
             ],
             [
              0.4444444444444444,
              "#bd3786"
             ],
             [
              0.5555555555555556,
              "#d8576b"
             ],
             [
              0.6666666666666666,
              "#ed7953"
             ],
             [
              0.7777777777777778,
              "#fb9f3a"
             ],
             [
              0.8888888888888888,
              "#fdca26"
             ],
             [
              1,
              "#f0f921"
             ]
            ],
            "type": "contour"
           }
          ],
          "contourcarpet": [
           {
            "colorbar": {
             "outlinewidth": 0,
             "ticks": ""
            },
            "type": "contourcarpet"
           }
          ],
          "heatmap": [
           {
            "colorbar": {
             "outlinewidth": 0,
             "ticks": ""
            },
            "colorscale": [
             [
              0,
              "#0d0887"
             ],
             [
              0.1111111111111111,
              "#46039f"
             ],
             [
              0.2222222222222222,
              "#7201a8"
             ],
             [
              0.3333333333333333,
              "#9c179e"
             ],
             [
              0.4444444444444444,
              "#bd3786"
             ],
             [
              0.5555555555555556,
              "#d8576b"
             ],
             [
              0.6666666666666666,
              "#ed7953"
             ],
             [
              0.7777777777777778,
              "#fb9f3a"
             ],
             [
              0.8888888888888888,
              "#fdca26"
             ],
             [
              1,
              "#f0f921"
             ]
            ],
            "type": "heatmap"
           }
          ],
          "heatmapgl": [
           {
            "colorbar": {
             "outlinewidth": 0,
             "ticks": ""
            },
            "colorscale": [
             [
              0,
              "#0d0887"
             ],
             [
              0.1111111111111111,
              "#46039f"
             ],
             [
              0.2222222222222222,
              "#7201a8"
             ],
             [
              0.3333333333333333,
              "#9c179e"
             ],
             [
              0.4444444444444444,
              "#bd3786"
             ],
             [
              0.5555555555555556,
              "#d8576b"
             ],
             [
              0.6666666666666666,
              "#ed7953"
             ],
             [
              0.7777777777777778,
              "#fb9f3a"
             ],
             [
              0.8888888888888888,
              "#fdca26"
             ],
             [
              1,
              "#f0f921"
             ]
            ],
            "type": "heatmapgl"
           }
          ],
          "histogram": [
           {
            "marker": {
             "colorbar": {
              "outlinewidth": 0,
              "ticks": ""
             }
            },
            "type": "histogram"
           }
          ],
          "histogram2d": [
           {
            "colorbar": {
             "outlinewidth": 0,
             "ticks": ""
            },
            "colorscale": [
             [
              0,
              "#0d0887"
             ],
             [
              0.1111111111111111,
              "#46039f"
             ],
             [
              0.2222222222222222,
              "#7201a8"
             ],
             [
              0.3333333333333333,
              "#9c179e"
             ],
             [
              0.4444444444444444,
              "#bd3786"
             ],
             [
              0.5555555555555556,
              "#d8576b"
             ],
             [
              0.6666666666666666,
              "#ed7953"
             ],
             [
              0.7777777777777778,
              "#fb9f3a"
             ],
             [
              0.8888888888888888,
              "#fdca26"
             ],
             [
              1,
              "#f0f921"
             ]
            ],
            "type": "histogram2d"
           }
          ],
          "histogram2dcontour": [
           {
            "colorbar": {
             "outlinewidth": 0,
             "ticks": ""
            },
            "colorscale": [
             [
              0,
              "#0d0887"
             ],
             [
              0.1111111111111111,
              "#46039f"
             ],
             [
              0.2222222222222222,
              "#7201a8"
             ],
             [
              0.3333333333333333,
              "#9c179e"
             ],
             [
              0.4444444444444444,
              "#bd3786"
             ],
             [
              0.5555555555555556,
              "#d8576b"
             ],
             [
              0.6666666666666666,
              "#ed7953"
             ],
             [
              0.7777777777777778,
              "#fb9f3a"
             ],
             [
              0.8888888888888888,
              "#fdca26"
             ],
             [
              1,
              "#f0f921"
             ]
            ],
            "type": "histogram2dcontour"
           }
          ],
          "mesh3d": [
           {
            "colorbar": {
             "outlinewidth": 0,
             "ticks": ""
            },
            "type": "mesh3d"
           }
          ],
          "parcoords": [
           {
            "line": {
             "colorbar": {
              "outlinewidth": 0,
              "ticks": ""
             }
            },
            "type": "parcoords"
           }
          ],
          "pie": [
           {
            "automargin": true,
            "type": "pie"
           }
          ],
          "scatter": [
           {
            "marker": {
             "colorbar": {
              "outlinewidth": 0,
              "ticks": ""
             }
            },
            "type": "scatter"
           }
          ],
          "scatter3d": [
           {
            "line": {
             "colorbar": {
              "outlinewidth": 0,
              "ticks": ""
             }
            },
            "marker": {
             "colorbar": {
              "outlinewidth": 0,
              "ticks": ""
             }
            },
            "type": "scatter3d"
           }
          ],
          "scattercarpet": [
           {
            "marker": {
             "colorbar": {
              "outlinewidth": 0,
              "ticks": ""
             }
            },
            "type": "scattercarpet"
           }
          ],
          "scattergeo": [
           {
            "marker": {
             "colorbar": {
              "outlinewidth": 0,
              "ticks": ""
             }
            },
            "type": "scattergeo"
           }
          ],
          "scattergl": [
           {
            "marker": {
             "colorbar": {
              "outlinewidth": 0,
              "ticks": ""
             }
            },
            "type": "scattergl"
           }
          ],
          "scattermapbox": [
           {
            "marker": {
             "colorbar": {
              "outlinewidth": 0,
              "ticks": ""
             }
            },
            "type": "scattermapbox"
           }
          ],
          "scatterpolar": [
           {
            "marker": {
             "colorbar": {
              "outlinewidth": 0,
              "ticks": ""
             }
            },
            "type": "scatterpolar"
           }
          ],
          "scatterpolargl": [
           {
            "marker": {
             "colorbar": {
              "outlinewidth": 0,
              "ticks": ""
             }
            },
            "type": "scatterpolargl"
           }
          ],
          "scatterternary": [
           {
            "marker": {
             "colorbar": {
              "outlinewidth": 0,
              "ticks": ""
             }
            },
            "type": "scatterternary"
           }
          ],
          "surface": [
           {
            "colorbar": {
             "outlinewidth": 0,
             "ticks": ""
            },
            "colorscale": [
             [
              0,
              "#0d0887"
             ],
             [
              0.1111111111111111,
              "#46039f"
             ],
             [
              0.2222222222222222,
              "#7201a8"
             ],
             [
              0.3333333333333333,
              "#9c179e"
             ],
             [
              0.4444444444444444,
              "#bd3786"
             ],
             [
              0.5555555555555556,
              "#d8576b"
             ],
             [
              0.6666666666666666,
              "#ed7953"
             ],
             [
              0.7777777777777778,
              "#fb9f3a"
             ],
             [
              0.8888888888888888,
              "#fdca26"
             ],
             [
              1,
              "#f0f921"
             ]
            ],
            "type": "surface"
           }
          ],
          "table": [
           {
            "cells": {
             "fill": {
              "color": "#EBF0F8"
             },
             "line": {
              "color": "white"
             }
            },
            "header": {
             "fill": {
              "color": "#C8D4E3"
             },
             "line": {
              "color": "white"
             }
            },
            "type": "table"
           }
          ]
         },
         "layout": {
          "annotationdefaults": {
           "arrowcolor": "#2a3f5f",
           "arrowhead": 0,
           "arrowwidth": 1
          },
          "autotypenumbers": "strict",
          "coloraxis": {
           "colorbar": {
            "outlinewidth": 0,
            "ticks": ""
           }
          },
          "colorscale": {
           "diverging": [
            [
             0,
             "#8e0152"
            ],
            [
             0.1,
             "#c51b7d"
            ],
            [
             0.2,
             "#de77ae"
            ],
            [
             0.3,
             "#f1b6da"
            ],
            [
             0.4,
             "#fde0ef"
            ],
            [
             0.5,
             "#f7f7f7"
            ],
            [
             0.6,
             "#e6f5d0"
            ],
            [
             0.7,
             "#b8e186"
            ],
            [
             0.8,
             "#7fbc41"
            ],
            [
             0.9,
             "#4d9221"
            ],
            [
             1,
             "#276419"
            ]
           ],
           "sequential": [
            [
             0,
             "#0d0887"
            ],
            [
             0.1111111111111111,
             "#46039f"
            ],
            [
             0.2222222222222222,
             "#7201a8"
            ],
            [
             0.3333333333333333,
             "#9c179e"
            ],
            [
             0.4444444444444444,
             "#bd3786"
            ],
            [
             0.5555555555555556,
             "#d8576b"
            ],
            [
             0.6666666666666666,
             "#ed7953"
            ],
            [
             0.7777777777777778,
             "#fb9f3a"
            ],
            [
             0.8888888888888888,
             "#fdca26"
            ],
            [
             1,
             "#f0f921"
            ]
           ],
           "sequentialminus": [
            [
             0,
             "#0d0887"
            ],
            [
             0.1111111111111111,
             "#46039f"
            ],
            [
             0.2222222222222222,
             "#7201a8"
            ],
            [
             0.3333333333333333,
             "#9c179e"
            ],
            [
             0.4444444444444444,
             "#bd3786"
            ],
            [
             0.5555555555555556,
             "#d8576b"
            ],
            [
             0.6666666666666666,
             "#ed7953"
            ],
            [
             0.7777777777777778,
             "#fb9f3a"
            ],
            [
             0.8888888888888888,
             "#fdca26"
            ],
            [
             1,
             "#f0f921"
            ]
           ]
          },
          "colorway": [
           "#636efa",
           "#EF553B",
           "#00cc96",
           "#ab63fa",
           "#FFA15A",
           "#19d3f3",
           "#FF6692",
           "#B6E880",
           "#FF97FF",
           "#FECB52"
          ],
          "font": {
           "color": "#2a3f5f"
          },
          "geo": {
           "bgcolor": "white",
           "lakecolor": "white",
           "landcolor": "#E5ECF6",
           "showlakes": true,
           "showland": true,
           "subunitcolor": "white"
          },
          "hoverlabel": {
           "align": "left"
          },
          "hovermode": "closest",
          "mapbox": {
           "style": "light"
          },
          "paper_bgcolor": "white",
          "plot_bgcolor": "#E5ECF6",
          "polar": {
           "angularaxis": {
            "gridcolor": "white",
            "linecolor": "white",
            "ticks": ""
           },
           "bgcolor": "#E5ECF6",
           "radialaxis": {
            "gridcolor": "white",
            "linecolor": "white",
            "ticks": ""
           }
          },
          "scene": {
           "xaxis": {
            "backgroundcolor": "#E5ECF6",
            "gridcolor": "white",
            "gridwidth": 2,
            "linecolor": "white",
            "showbackground": true,
            "ticks": "",
            "zerolinecolor": "white"
           },
           "yaxis": {
            "backgroundcolor": "#E5ECF6",
            "gridcolor": "white",
            "gridwidth": 2,
            "linecolor": "white",
            "showbackground": true,
            "ticks": "",
            "zerolinecolor": "white"
           },
           "zaxis": {
            "backgroundcolor": "#E5ECF6",
            "gridcolor": "white",
            "gridwidth": 2,
            "linecolor": "white",
            "showbackground": true,
            "ticks": "",
            "zerolinecolor": "white"
           }
          },
          "shapedefaults": {
           "line": {
            "color": "#2a3f5f"
           }
          },
          "ternary": {
           "aaxis": {
            "gridcolor": "white",
            "linecolor": "white",
            "ticks": ""
           },
           "baxis": {
            "gridcolor": "white",
            "linecolor": "white",
            "ticks": ""
           },
           "bgcolor": "#E5ECF6",
           "caxis": {
            "gridcolor": "white",
            "linecolor": "white",
            "ticks": ""
           }
          },
          "title": {
           "x": 0.05
          },
          "xaxis": {
           "automargin": true,
           "gridcolor": "white",
           "linecolor": "white",
           "ticks": "",
           "title": {
            "standoff": 15
           },
           "zerolinecolor": "white",
           "zerolinewidth": 2
          },
          "yaxis": {
           "automargin": true,
           "gridcolor": "white",
           "linecolor": "white",
           "ticks": "",
           "title": {
            "standoff": 15
           },
           "zerolinecolor": "white",
           "zerolinewidth": 2
          }
         }
        },
        "title": {
         "text": "Valores de custo para cada mudança na probabilidade de atingir a meta"
        },
        "xaxis": {
         "title": {
          "text": "Probabilidade (p')"
         }
        },
        "yaxis": {
         "title": {
          "text": "Custo (c')"
         }
        }
       }
      },
      "text/html": [
       "<div>                            <div id=\"db45a4e3-e306-48f0-9ceb-efb069a88f9c\" class=\"plotly-graph-div\" style=\"height:525px; width:100%;\"></div>            <script type=\"text/javascript\">                require([\"plotly\"], function(Plotly) {                    window.PLOTLYENV=window.PLOTLYENV || {};                                    if (document.getElementById(\"db45a4e3-e306-48f0-9ceb-efb069a88f9c\")) {                    Plotly.newPlot(                        \"db45a4e3-e306-48f0-9ceb-efb069a88f9c\",                        [{\"line\": {\"color\": \"rgb(200.0, 200.0, 200.0)\"}, \"mode\": \"lines\", \"name\": \"-0.95\", \"type\": \"scatter\", \"x\": [0.05, 0.1, 0.15, 0.2, 0.25, 0.3, 0.35, 0.4, 0.45, 0.5, 0.55, 0.6, 0.65, 0.7, 0.75, 0.8, 0.85, 0.9, 0.95], \"y\": [0.15493402079232038, 0.2899623010767797, 0.40962230901984037, 0.5170575837478053, 0.6145360276747438, 0.7037476659170588, 0.7859856975396531, 0.8622617634598161, 0.933382180135901, 1.0, 1.0626515508534018, 1.1217826959637844, 1.1777681009284298, 1.230925629554433, 1.281527275659983, 1.3298075853076972, 1.375970230560889, 1.4201932011953577, 1.4626329490105987]}, {\"line\": {\"color\": \"rgb(201.44736842105263, 201.44736842105263, 201.44736842105263)\"}, \"mode\": \"lines\", \"name\": \"-0.9\", \"type\": \"scatter\", \"x\": [0.05, 0.1, 0.15, 0.2, 0.25, 0.3, 0.35, 0.4, 0.45, 0.5, 0.55, 0.6, 0.65, 0.7, 0.75, 0.8, 0.85, 0.9, 0.95], \"y\": []}, {\"line\": {\"color\": \"rgb(202.89473684210526, 202.89473684210526, 202.89473684210526)\"}, \"mode\": \"lines\", \"name\": \"-0.85\", \"type\": \"scatter\", \"x\": [0.05, 0.1, 0.15, 0.2, 0.25, 0.3, 0.35, 0.4, 0.45, 0.5, 0.55, 0.6, 0.65, 0.7, 0.75, 0.8, 0.85, 0.9, 0.95], \"y\": []}, {\"line\": {\"color\": \"rgb(204.3421052631579, 204.3421052631579, 204.3421052631579)\"}, \"mode\": \"lines\", \"name\": \"-0.8\", \"type\": \"scatter\", \"x\": [0.05, 0.1, 0.15, 0.2, 0.25, 0.3, 0.35, 0.4, 0.45, 0.5, 0.55, 0.6, 0.65, 0.7, 0.75, 0.8, 0.85, 0.9, 0.95], \"y\": []}, {\"line\": {\"color\": \"rgb(205.78947368421052, 205.78947368421052, 205.78947368421052)\"}, \"mode\": \"lines\", \"name\": \"-0.75\", \"type\": \"scatter\", \"x\": [0.05, 0.1, 0.15, 0.2, 0.25, 0.3, 0.35, 0.4, 0.45, 0.5, 0.55, 0.6, 0.65, 0.7, 0.75, 0.8, 0.85, 0.9, 0.95], \"y\": []}, {\"line\": {\"color\": \"rgb(207.23684210526315, 207.23684210526315, 207.23684210526315)\"}, \"mode\": \"lines\", \"name\": \"-0.7\", \"type\": \"scatter\", \"x\": [0.05, 0.1, 0.15, 0.2, 0.25, 0.3, 0.35, 0.4, 0.45, 0.5, 0.55, 0.6, 0.65, 0.7, 0.75, 0.8, 0.85, 0.9, 0.95], \"y\": []}, {\"line\": {\"color\": \"rgb(208.68421052631578, 208.68421052631578, 208.68421052631578)\"}, \"mode\": \"lines\", \"name\": \"-0.65\", \"type\": \"scatter\", \"x\": [0.05, 0.1, 0.15, 0.2, 0.25, 0.3, 0.35, 0.4, 0.45, 0.5, 0.55, 0.6, 0.65, 0.7, 0.75, 0.8, 0.85, 0.9, 0.95], \"y\": []}, {\"line\": {\"color\": \"rgb(210.1315789473684, 210.1315789473684, 210.1315789473684)\"}, \"mode\": \"lines\", \"name\": \"-0.6\", \"type\": \"scatter\", \"x\": [0.05, 0.1, 0.15, 0.2, 0.25, 0.3, 0.35, 0.4, 0.45, 0.5, 0.55, 0.6, 0.65, 0.7, 0.75, 0.8, 0.85, 0.9, 0.95], \"y\": []}, {\"line\": {\"color\": \"rgb(211.57894736842104, 211.57894736842104, 211.57894736842104)\"}, \"mode\": \"lines\", \"name\": \"-0.55\", \"type\": \"scatter\", \"x\": [0.05, 0.1, 0.15, 0.2, 0.25, 0.3, 0.35, 0.4, 0.45, 0.5, 0.55, 0.6, 0.65, 0.7, 0.75, 0.8, 0.85, 0.9, 0.95], \"y\": []}, {\"line\": {\"color\": \"rgb(213.0263157894737, 213.0263157894737, 213.0263157894737)\"}, \"mode\": \"lines\", \"name\": \"-0.5\", \"type\": \"scatter\", \"x\": [0.05, 0.1, 0.15, 0.2, 0.25, 0.3, 0.35, 0.4, 0.45, 0.5, 0.55, 0.6, 0.65, 0.7, 0.75, 0.8, 0.85, 0.9, 0.95], \"y\": []}, {\"line\": {\"color\": \"rgb(214.47368421052633, 214.47368421052633, 214.47368421052633)\"}, \"mode\": \"lines\", \"name\": \"-0.45\", \"type\": \"scatter\", \"x\": [0.05, 0.1, 0.15, 0.2, 0.25, 0.3, 0.35, 0.4, 0.45, 0.5, 0.55, 0.6, 0.65, 0.7, 0.75, 0.8, 0.85, 0.9, 0.95], \"y\": []}, {\"line\": {\"color\": \"rgb(215.92105263157896, 215.92105263157896, 215.92105263157896)\"}, \"mode\": \"lines\", \"name\": \"-0.4\", \"type\": \"scatter\", \"x\": [0.05, 0.1, 0.15, 0.2, 0.25, 0.3, 0.35, 0.4, 0.45, 0.5, 0.55, 0.6, 0.65, 0.7, 0.75, 0.8, 0.85, 0.9, 0.95], \"y\": []}, {\"line\": {\"color\": \"rgb(217.3684210526316, 217.3684210526316, 217.3684210526316)\"}, \"mode\": \"lines\", \"name\": \"-0.35\", \"type\": \"scatter\", \"x\": [0.05, 0.1, 0.15, 0.2, 0.25, 0.3, 0.35, 0.4, 0.45, 0.5, 0.55, 0.6, 0.65, 0.7, 0.75, 0.8, 0.85, 0.9, 0.95], \"y\": []}, {\"line\": {\"color\": \"rgb(218.81578947368422, 218.81578947368422, 218.81578947368422)\"}, \"mode\": \"lines\", \"name\": \"-0.3\", \"type\": \"scatter\", \"x\": [0.05, 0.1, 0.15, 0.2, 0.25, 0.3, 0.35, 0.4, 0.45, 0.5, 0.55, 0.6, 0.65, 0.7, 0.75, 0.8, 0.85, 0.9, 0.95], \"y\": []}, {\"line\": {\"color\": \"rgb(220.26315789473685, 220.26315789473685, 220.26315789473685)\"}, \"mode\": \"lines\", \"name\": \"-0.25\", \"type\": \"scatter\", \"x\": [0.05, 0.1, 0.15, 0.2, 0.25, 0.3, 0.35, 0.4, 0.45, 0.5, 0.55, 0.6, 0.65, 0.7, 0.75, 0.8, 0.85, 0.9, 0.95], \"y\": []}, {\"line\": {\"color\": \"rgb(221.71052631578948, 221.71052631578948, 221.71052631578948)\"}, \"mode\": \"lines\", \"name\": \"-0.2\", \"type\": \"scatter\", \"x\": [0.05, 0.1, 0.15, 0.2, 0.25, 0.3, 0.35, 0.4, 0.45, 0.5, 0.55, 0.6, 0.65, 0.7, 0.75, 0.8, 0.85, 0.9, 0.95], \"y\": []}, {\"line\": {\"color\": \"rgb(223.1578947368421, 223.1578947368421, 223.1578947368421)\"}, \"mode\": \"lines\", \"name\": \"-0.15\", \"type\": \"scatter\", \"x\": [0.05, 0.1, 0.15, 0.2, 0.25, 0.3, 0.35, 0.4, 0.45, 0.5, 0.55, 0.6, 0.65, 0.7, 0.75, 0.8, 0.85, 0.9, 0.95], \"y\": []}, {\"line\": {\"color\": \"rgb(224.60526315789474, 224.60526315789474, 224.60526315789474)\"}, \"mode\": \"lines\", \"name\": \"-0.1\", \"type\": \"scatter\", \"x\": [0.05, 0.1, 0.15, 0.2, 0.25, 0.3, 0.35, 0.4, 0.45, 0.5, 0.55, 0.6, 0.65, 0.7, 0.75, 0.8, 0.85, 0.9, 0.95], \"y\": []}, {\"line\": {\"color\": \"rgb(226.05263157894737, 226.05263157894737, 226.05263157894737)\"}, \"mode\": \"lines\", \"name\": \"-0.05\", \"type\": \"scatter\", \"x\": [0.05, 0.1, 0.15, 0.2, 0.25, 0.3, 0.35, 0.4, 0.45, 0.5, 0.55, 0.6, 0.65, 0.7, 0.75, 0.8, 0.85, 0.9, 0.95], \"y\": []}, {\"line\": {\"color\": \"rgb(227.5, 227.5, 227.5)\"}, \"mode\": \"lines\", \"name\": \"0.05\", \"type\": \"scatter\", \"x\": [0.05, 0.1, 0.15, 0.2, 0.25, 0.3, 0.35, 0.4, 0.45, 0.5, 0.55, 0.6, 0.65, 0.7, 0.75, 0.8, 0.85, 0.9, 0.95], \"y\": []}, {\"line\": {\"color\": \"rgb(228.94736842105263, 228.94736842105263, 228.94736842105263)\"}, \"mode\": \"lines\", \"name\": \"0.1\", \"type\": \"scatter\", \"x\": [0.05, 0.1, 0.15, 0.2, 0.25, 0.3, 0.35, 0.4, 0.45, 0.5, 0.55, 0.6, 0.65, 0.7, 0.75, 0.8, 0.85, 0.9, 0.95], \"y\": []}, {\"line\": {\"color\": \"rgb(230.39473684210526, 230.39473684210526, 230.39473684210526)\"}, \"mode\": \"lines\", \"name\": \"0.15\", \"type\": \"scatter\", \"x\": [0.05, 0.1, 0.15, 0.2, 0.25, 0.3, 0.35, 0.4, 0.45, 0.5, 0.55, 0.6, 0.65, 0.7, 0.75, 0.8, 0.85, 0.9, 0.95], \"y\": []}, {\"line\": {\"color\": \"rgb(231.8421052631579, 231.8421052631579, 231.8421052631579)\"}, \"mode\": \"lines\", \"name\": \"0.2\", \"type\": \"scatter\", \"x\": [0.05, 0.1, 0.15, 0.2, 0.25, 0.3, 0.35, 0.4, 0.45, 0.5, 0.55, 0.6, 0.65, 0.7, 0.75, 0.8, 0.85, 0.9, 0.95], \"y\": []}, {\"line\": {\"color\": \"rgb(233.28947368421052, 233.28947368421052, 233.28947368421052)\"}, \"mode\": \"lines\", \"name\": \"0.25\", \"type\": \"scatter\", \"x\": [0.05, 0.1, 0.15, 0.2, 0.25, 0.3, 0.35, 0.4, 0.45, 0.5, 0.55, 0.6, 0.65, 0.7, 0.75, 0.8, 0.85, 0.9, 0.95], \"y\": []}, {\"line\": {\"color\": \"rgb(234.73684210526315, 234.73684210526315, 234.73684210526315)\"}, \"mode\": \"lines\", \"name\": \"0.3\", \"type\": \"scatter\", \"x\": [0.05, 0.1, 0.15, 0.2, 0.25, 0.3, 0.35, 0.4, 0.45, 0.5, 0.55, 0.6, 0.65, 0.7, 0.75, 0.8, 0.85, 0.9, 0.95], \"y\": []}, {\"line\": {\"color\": \"rgb(236.18421052631578, 236.18421052631578, 236.18421052631578)\"}, \"mode\": \"lines\", \"name\": \"0.35\", \"type\": \"scatter\", \"x\": [0.05, 0.1, 0.15, 0.2, 0.25, 0.3, 0.35, 0.4, 0.45, 0.5, 0.55, 0.6, 0.65, 0.7, 0.75, 0.8, 0.85, 0.9, 0.95], \"y\": []}, {\"line\": {\"color\": \"rgb(237.63157894736844, 237.63157894736844, 237.63157894736844)\"}, \"mode\": \"lines\", \"name\": \"0.4\", \"type\": \"scatter\", \"x\": [0.05, 0.1, 0.15, 0.2, 0.25, 0.3, 0.35, 0.4, 0.45, 0.5, 0.55, 0.6, 0.65, 0.7, 0.75, 0.8, 0.85, 0.9, 0.95], \"y\": []}, {\"line\": {\"color\": \"rgb(239.07894736842104, 239.07894736842104, 239.07894736842104)\"}, \"mode\": \"lines\", \"name\": \"0.45\", \"type\": \"scatter\", \"x\": [0.05, 0.1, 0.15, 0.2, 0.25, 0.3, 0.35, 0.4, 0.45, 0.5, 0.55, 0.6, 0.65, 0.7, 0.75, 0.8, 0.85, 0.9, 0.95], \"y\": []}, {\"line\": {\"color\": \"rgb(240.5263157894737, 240.5263157894737, 240.5263157894737)\"}, \"mode\": \"lines\", \"name\": \"0.5\", \"type\": \"scatter\", \"x\": [0.05, 0.1, 0.15, 0.2, 0.25, 0.3, 0.35, 0.4, 0.45, 0.5, 0.55, 0.6, 0.65, 0.7, 0.75, 0.8, 0.85, 0.9, 0.95], \"y\": []}, {\"line\": {\"color\": \"rgb(241.9736842105263, 241.9736842105263, 241.9736842105263)\"}, \"mode\": \"lines\", \"name\": \"0.55\", \"type\": \"scatter\", \"x\": [0.05, 0.1, 0.15, 0.2, 0.25, 0.3, 0.35, 0.4, 0.45, 0.5, 0.55, 0.6, 0.65, 0.7, 0.75, 0.8, 0.85, 0.9, 0.95], \"y\": []}, {\"line\": {\"color\": \"rgb(243.42105263157896, 243.42105263157896, 243.42105263157896)\"}, \"mode\": \"lines\", \"name\": \"0.6\", \"type\": \"scatter\", \"x\": [0.05, 0.1, 0.15, 0.2, 0.25, 0.3, 0.35, 0.4, 0.45, 0.5, 0.55, 0.6, 0.65, 0.7, 0.75, 0.8, 0.85, 0.9, 0.95], \"y\": []}, {\"line\": {\"color\": \"rgb(244.8684210526316, 244.8684210526316, 244.8684210526316)\"}, \"mode\": \"lines\", \"name\": \"0.65\", \"type\": \"scatter\", \"x\": [0.05, 0.1, 0.15, 0.2, 0.25, 0.3, 0.35, 0.4, 0.45, 0.5, 0.55, 0.6, 0.65, 0.7, 0.75, 0.8, 0.85, 0.9, 0.95], \"y\": []}, {\"line\": {\"color\": \"rgb(246.31578947368422, 246.31578947368422, 246.31578947368422)\"}, \"mode\": \"lines\", \"name\": \"0.7\", \"type\": \"scatter\", \"x\": [0.05, 0.1, 0.15, 0.2, 0.25, 0.3, 0.35, 0.4, 0.45, 0.5, 0.55, 0.6, 0.65, 0.7, 0.75, 0.8, 0.85, 0.9, 0.95], \"y\": []}, {\"line\": {\"color\": \"rgb(247.76315789473685, 247.76315789473685, 247.76315789473685)\"}, \"mode\": \"lines\", \"name\": \"0.75\", \"type\": \"scatter\", \"x\": [0.05, 0.1, 0.15, 0.2, 0.25, 0.3, 0.35, 0.4, 0.45, 0.5, 0.55, 0.6, 0.65, 0.7, 0.75, 0.8, 0.85, 0.9, 0.95], \"y\": []}, {\"line\": {\"color\": \"rgb(249.21052631578948, 249.21052631578948, 249.21052631578948)\"}, \"mode\": \"lines\", \"name\": \"0.8\", \"type\": \"scatter\", \"x\": [0.05, 0.1, 0.15, 0.2, 0.25, 0.3, 0.35, 0.4, 0.45, 0.5, 0.55, 0.6, 0.65, 0.7, 0.75, 0.8, 0.85, 0.9, 0.95], \"y\": []}, {\"line\": {\"color\": \"rgb(250.6578947368421, 250.6578947368421, 250.6578947368421)\"}, \"mode\": \"lines\", \"name\": \"0.85\", \"type\": \"scatter\", \"x\": [0.05, 0.1, 0.15, 0.2, 0.25, 0.3, 0.35, 0.4, 0.45, 0.5, 0.55, 0.6, 0.65, 0.7, 0.75, 0.8, 0.85, 0.9, 0.95], \"y\": []}, {\"line\": {\"color\": \"rgb(252.10526315789474, 252.10526315789474, 252.10526315789474)\"}, \"mode\": \"lines\", \"name\": \"0.9\", \"type\": \"scatter\", \"x\": [0.05, 0.1, 0.15, 0.2, 0.25, 0.3, 0.35, 0.4, 0.45, 0.5, 0.55, 0.6, 0.65, 0.7, 0.75, 0.8, 0.85, 0.9, 0.95], \"y\": []}, {\"line\": {\"color\": \"rgb(253.55263157894737, 253.55263157894737, 253.55263157894737)\"}, \"mode\": \"lines\", \"name\": \"0.95\", \"type\": \"scatter\", \"x\": [0.05, 0.1, 0.15, 0.2, 0.25, 0.3, 0.35, 0.4, 0.45, 0.5, 0.55, 0.6, 0.65, 0.7, 0.75, 0.8, 0.85, 0.9, 0.95], \"y\": []}, {\"line\": {\"color\": \"green\"}, \"mode\": \"lines\", \"name\": \"MAX\", \"type\": \"scatter\", \"x\": [0.05, 0.1, 0.15, 0.2, 0.25, 0.3, 0.35, 0.4, 0.45, 0.5, 0.55, 0.6, 0.65, 0.7, 0.75, 0.8, 0.85, 0.9, 0.95], \"y\": [0.15493402079232038, 0.2899623010767797, 0.40962230901984037, 0.5170575837478053, 0.6145360276747438, 0.7037476659170588, 0.7859856975396531, 0.8622617634598161, 0.933382180135901, 1.0, 1.0626515508534018, 1.1217826959637844, 1.1777681009284298, 1.230925629554433, 1.281527275659983, 1.3298075853076972, 1.375970230560889, 1.4201932011953577, 1.4626329490105987]}, {\"line\": {\"color\": \"red\"}, \"mode\": \"lines\", \"name\": \"MIN\", \"type\": \"scatter\", \"x\": [0.05, 0.1, 0.15, 0.2, 0.25, 0.3, 0.35, 0.4, 0.45, 0.5, 0.55, 0.6, 0.65, 0.7, 0.75, 0.8, 0.85, 0.9, 0.95], \"y\": [0.15493402079232038, 0.2899623010767797, 0.40962230901984037, 0.5170575837478053, 0.6145360276747438, 0.7037476659170588, 0.7859856975396531, 0.8622617634598161, 0.933382180135901, 1.0, 1.0626515508534018, 1.1217826959637844, 1.1777681009284298, 1.230925629554433, 1.281527275659983, 1.3298075853076972, 1.375970230560889, 1.4201932011953577, 1.4626329490105987]}],                        {\"template\": {\"data\": {\"bar\": [{\"error_x\": {\"color\": \"#2a3f5f\"}, \"error_y\": {\"color\": \"#2a3f5f\"}, \"marker\": {\"line\": {\"color\": \"#E5ECF6\", \"width\": 0.5}}, \"type\": \"bar\"}], \"barpolar\": [{\"marker\": {\"line\": {\"color\": \"#E5ECF6\", \"width\": 0.5}}, \"type\": \"barpolar\"}], \"carpet\": [{\"aaxis\": {\"endlinecolor\": \"#2a3f5f\", \"gridcolor\": \"white\", \"linecolor\": \"white\", \"minorgridcolor\": \"white\", \"startlinecolor\": \"#2a3f5f\"}, \"baxis\": {\"endlinecolor\": \"#2a3f5f\", \"gridcolor\": \"white\", \"linecolor\": \"white\", \"minorgridcolor\": \"white\", \"startlinecolor\": \"#2a3f5f\"}, \"type\": \"carpet\"}], \"choropleth\": [{\"colorbar\": {\"outlinewidth\": 0, \"ticks\": \"\"}, \"type\": \"choropleth\"}], \"contour\": [{\"colorbar\": {\"outlinewidth\": 0, \"ticks\": \"\"}, \"colorscale\": [[0.0, \"#0d0887\"], [0.1111111111111111, \"#46039f\"], [0.2222222222222222, \"#7201a8\"], [0.3333333333333333, \"#9c179e\"], [0.4444444444444444, \"#bd3786\"], [0.5555555555555556, \"#d8576b\"], [0.6666666666666666, \"#ed7953\"], [0.7777777777777778, \"#fb9f3a\"], [0.8888888888888888, \"#fdca26\"], [1.0, \"#f0f921\"]], \"type\": \"contour\"}], \"contourcarpet\": [{\"colorbar\": {\"outlinewidth\": 0, \"ticks\": \"\"}, \"type\": \"contourcarpet\"}], \"heatmap\": [{\"colorbar\": {\"outlinewidth\": 0, \"ticks\": \"\"}, \"colorscale\": [[0.0, \"#0d0887\"], [0.1111111111111111, \"#46039f\"], [0.2222222222222222, \"#7201a8\"], [0.3333333333333333, \"#9c179e\"], [0.4444444444444444, \"#bd3786\"], [0.5555555555555556, \"#d8576b\"], [0.6666666666666666, \"#ed7953\"], [0.7777777777777778, \"#fb9f3a\"], [0.8888888888888888, \"#fdca26\"], [1.0, \"#f0f921\"]], \"type\": \"heatmap\"}], \"heatmapgl\": [{\"colorbar\": {\"outlinewidth\": 0, \"ticks\": \"\"}, \"colorscale\": [[0.0, \"#0d0887\"], [0.1111111111111111, \"#46039f\"], [0.2222222222222222, \"#7201a8\"], [0.3333333333333333, \"#9c179e\"], [0.4444444444444444, \"#bd3786\"], [0.5555555555555556, \"#d8576b\"], [0.6666666666666666, \"#ed7953\"], [0.7777777777777778, \"#fb9f3a\"], [0.8888888888888888, \"#fdca26\"], [1.0, \"#f0f921\"]], \"type\": \"heatmapgl\"}], \"histogram\": [{\"marker\": {\"colorbar\": {\"outlinewidth\": 0, \"ticks\": \"\"}}, \"type\": \"histogram\"}], \"histogram2d\": [{\"colorbar\": {\"outlinewidth\": 0, \"ticks\": \"\"}, \"colorscale\": [[0.0, \"#0d0887\"], [0.1111111111111111, \"#46039f\"], [0.2222222222222222, \"#7201a8\"], [0.3333333333333333, \"#9c179e\"], [0.4444444444444444, \"#bd3786\"], [0.5555555555555556, \"#d8576b\"], [0.6666666666666666, \"#ed7953\"], [0.7777777777777778, \"#fb9f3a\"], [0.8888888888888888, \"#fdca26\"], [1.0, \"#f0f921\"]], \"type\": \"histogram2d\"}], \"histogram2dcontour\": [{\"colorbar\": {\"outlinewidth\": 0, \"ticks\": \"\"}, \"colorscale\": [[0.0, \"#0d0887\"], [0.1111111111111111, \"#46039f\"], [0.2222222222222222, \"#7201a8\"], [0.3333333333333333, \"#9c179e\"], [0.4444444444444444, \"#bd3786\"], [0.5555555555555556, \"#d8576b\"], [0.6666666666666666, \"#ed7953\"], [0.7777777777777778, \"#fb9f3a\"], [0.8888888888888888, \"#fdca26\"], [1.0, \"#f0f921\"]], \"type\": \"histogram2dcontour\"}], \"mesh3d\": [{\"colorbar\": {\"outlinewidth\": 0, \"ticks\": \"\"}, \"type\": \"mesh3d\"}], \"parcoords\": [{\"line\": {\"colorbar\": {\"outlinewidth\": 0, \"ticks\": \"\"}}, \"type\": \"parcoords\"}], \"pie\": [{\"automargin\": true, \"type\": \"pie\"}], \"scatter\": [{\"marker\": {\"colorbar\": {\"outlinewidth\": 0, \"ticks\": \"\"}}, \"type\": \"scatter\"}], \"scatter3d\": [{\"line\": {\"colorbar\": {\"outlinewidth\": 0, \"ticks\": \"\"}}, \"marker\": {\"colorbar\": {\"outlinewidth\": 0, \"ticks\": \"\"}}, \"type\": \"scatter3d\"}], \"scattercarpet\": [{\"marker\": {\"colorbar\": {\"outlinewidth\": 0, \"ticks\": \"\"}}, \"type\": \"scattercarpet\"}], \"scattergeo\": [{\"marker\": {\"colorbar\": {\"outlinewidth\": 0, \"ticks\": \"\"}}, \"type\": \"scattergeo\"}], \"scattergl\": [{\"marker\": {\"colorbar\": {\"outlinewidth\": 0, \"ticks\": \"\"}}, \"type\": \"scattergl\"}], \"scattermapbox\": [{\"marker\": {\"colorbar\": {\"outlinewidth\": 0, \"ticks\": \"\"}}, \"type\": \"scattermapbox\"}], \"scatterpolar\": [{\"marker\": {\"colorbar\": {\"outlinewidth\": 0, \"ticks\": \"\"}}, \"type\": \"scatterpolar\"}], \"scatterpolargl\": [{\"marker\": {\"colorbar\": {\"outlinewidth\": 0, \"ticks\": \"\"}}, \"type\": \"scatterpolargl\"}], \"scatterternary\": [{\"marker\": {\"colorbar\": {\"outlinewidth\": 0, \"ticks\": \"\"}}, \"type\": \"scatterternary\"}], \"surface\": [{\"colorbar\": {\"outlinewidth\": 0, \"ticks\": \"\"}, \"colorscale\": [[0.0, \"#0d0887\"], [0.1111111111111111, \"#46039f\"], [0.2222222222222222, \"#7201a8\"], [0.3333333333333333, \"#9c179e\"], [0.4444444444444444, \"#bd3786\"], [0.5555555555555556, \"#d8576b\"], [0.6666666666666666, \"#ed7953\"], [0.7777777777777778, \"#fb9f3a\"], [0.8888888888888888, \"#fdca26\"], [1.0, \"#f0f921\"]], \"type\": \"surface\"}], \"table\": [{\"cells\": {\"fill\": {\"color\": \"#EBF0F8\"}, \"line\": {\"color\": \"white\"}}, \"header\": {\"fill\": {\"color\": \"#C8D4E3\"}, \"line\": {\"color\": \"white\"}}, \"type\": \"table\"}]}, \"layout\": {\"annotationdefaults\": {\"arrowcolor\": \"#2a3f5f\", \"arrowhead\": 0, \"arrowwidth\": 1}, \"autotypenumbers\": \"strict\", \"coloraxis\": {\"colorbar\": {\"outlinewidth\": 0, \"ticks\": \"\"}}, \"colorscale\": {\"diverging\": [[0, \"#8e0152\"], [0.1, \"#c51b7d\"], [0.2, \"#de77ae\"], [0.3, \"#f1b6da\"], [0.4, \"#fde0ef\"], [0.5, \"#f7f7f7\"], [0.6, \"#e6f5d0\"], [0.7, \"#b8e186\"], [0.8, \"#7fbc41\"], [0.9, \"#4d9221\"], [1, \"#276419\"]], \"sequential\": [[0.0, \"#0d0887\"], [0.1111111111111111, \"#46039f\"], [0.2222222222222222, \"#7201a8\"], [0.3333333333333333, \"#9c179e\"], [0.4444444444444444, \"#bd3786\"], [0.5555555555555556, \"#d8576b\"], [0.6666666666666666, \"#ed7953\"], [0.7777777777777778, \"#fb9f3a\"], [0.8888888888888888, \"#fdca26\"], [1.0, \"#f0f921\"]], \"sequentialminus\": [[0.0, \"#0d0887\"], [0.1111111111111111, \"#46039f\"], [0.2222222222222222, \"#7201a8\"], [0.3333333333333333, \"#9c179e\"], [0.4444444444444444, \"#bd3786\"], [0.5555555555555556, \"#d8576b\"], [0.6666666666666666, \"#ed7953\"], [0.7777777777777778, \"#fb9f3a\"], [0.8888888888888888, \"#fdca26\"], [1.0, \"#f0f921\"]]}, \"colorway\": [\"#636efa\", \"#EF553B\", \"#00cc96\", \"#ab63fa\", \"#FFA15A\", \"#19d3f3\", \"#FF6692\", \"#B6E880\", \"#FF97FF\", \"#FECB52\"], \"font\": {\"color\": \"#2a3f5f\"}, \"geo\": {\"bgcolor\": \"white\", \"lakecolor\": \"white\", \"landcolor\": \"#E5ECF6\", \"showlakes\": true, \"showland\": true, \"subunitcolor\": \"white\"}, \"hoverlabel\": {\"align\": \"left\"}, \"hovermode\": \"closest\", \"mapbox\": {\"style\": \"light\"}, \"paper_bgcolor\": \"white\", \"plot_bgcolor\": \"#E5ECF6\", \"polar\": {\"angularaxis\": {\"gridcolor\": \"white\", \"linecolor\": \"white\", \"ticks\": \"\"}, \"bgcolor\": \"#E5ECF6\", \"radialaxis\": {\"gridcolor\": \"white\", \"linecolor\": \"white\", \"ticks\": \"\"}}, \"scene\": {\"xaxis\": {\"backgroundcolor\": \"#E5ECF6\", \"gridcolor\": \"white\", \"gridwidth\": 2, \"linecolor\": \"white\", \"showbackground\": true, \"ticks\": \"\", \"zerolinecolor\": \"white\"}, \"yaxis\": {\"backgroundcolor\": \"#E5ECF6\", \"gridcolor\": \"white\", \"gridwidth\": 2, \"linecolor\": \"white\", \"showbackground\": true, \"ticks\": \"\", \"zerolinecolor\": \"white\"}, \"zaxis\": {\"backgroundcolor\": \"#E5ECF6\", \"gridcolor\": \"white\", \"gridwidth\": 2, \"linecolor\": \"white\", \"showbackground\": true, \"ticks\": \"\", \"zerolinecolor\": \"white\"}}, \"shapedefaults\": {\"line\": {\"color\": \"#2a3f5f\"}}, \"ternary\": {\"aaxis\": {\"gridcolor\": \"white\", \"linecolor\": \"white\", \"ticks\": \"\"}, \"baxis\": {\"gridcolor\": \"white\", \"linecolor\": \"white\", \"ticks\": \"\"}, \"bgcolor\": \"#E5ECF6\", \"caxis\": {\"gridcolor\": \"white\", \"linecolor\": \"white\", \"ticks\": \"\"}}, \"title\": {\"x\": 0.05}, \"xaxis\": {\"automargin\": true, \"gridcolor\": \"white\", \"linecolor\": \"white\", \"ticks\": \"\", \"title\": {\"standoff\": 15}, \"zerolinecolor\": \"white\", \"zerolinewidth\": 2}, \"yaxis\": {\"automargin\": true, \"gridcolor\": \"white\", \"linecolor\": \"white\", \"ticks\": \"\", \"title\": {\"standoff\": 15}, \"zerolinecolor\": \"white\", \"zerolinewidth\": 2}}}, \"title\": {\"text\": \"Valores de custo para cada mudan\\u00e7a na probabilidade de atingir a meta\"}, \"xaxis\": {\"title\": {\"text\": \"Probabilidade (p')\"}}, \"yaxis\": {\"title\": {\"text\": \"Custo (c')\"}}},                        {\"responsive\": true}                    ).then(function(){\n",
       "                            \n",
       "var gd = document.getElementById('db45a4e3-e306-48f0-9ceb-efb069a88f9c');\n",
       "var x = new MutationObserver(function (mutations, observer) {{\n",
       "        var display = window.getComputedStyle(gd).display;\n",
       "        if (!display || display === 'none') {{\n",
       "            console.log([gd, 'removed!']);\n",
       "            Plotly.purge(gd);\n",
       "            observer.disconnect();\n",
       "        }}\n",
       "}});\n",
       "\n",
       "// Listen for the removal of the full notebook cells\n",
       "var notebookContainer = gd.closest('#notebook-container');\n",
       "if (notebookContainer) {{\n",
       "    x.observe(notebookContainer, {childList: true});\n",
       "}}\n",
       "\n",
       "// Listen for the clearing of the current output cell\n",
       "var outputEl = gd.closest('.output');\n",
       "if (outputEl) {{\n",
       "    x.observe(outputEl, {childList: true});\n",
       "}}\n",
       "\n",
       "                        })                };                });            </script>        </div>"
      ]
     },
     "metadata": {},
     "output_type": "display_data"
    },
    {
     "data": {
      "application/vnd.plotly.v1+json": {
       "config": {
        "plotlyServerURL": "https://plot.ly"
       },
       "data": [
        {
         "line": {
          "color": "red"
         },
         "mode": "lines",
         "name": "MIN",
         "type": "scatter",
         "x": [
          0.05,
          0.1,
          0.15,
          0.2,
          0.25,
          0.3,
          0.35,
          0.4,
          0.45,
          0.5,
          0.55,
          0.6,
          0.65,
          0.7,
          0.75,
          0.8,
          0.85,
          0.9,
          0.95
         ],
         "y": [
          0.15493402079232038,
          0.2899623010767797,
          0.40962230901984037,
          0.5170575837478053,
          0.6145360276747438,
          0.7037476659170588,
          0.7859856975396531,
          0.8622617634598161,
          0.933382180135901,
          1,
          1.0626515508534018,
          1.1217826959637844,
          1.1777681009284298,
          1.230925629554433,
          1.281527275659983,
          1.3298075853076972,
          1.375970230560889,
          1.4201932011953577,
          1.4626329490105987
         ]
        },
        {
         "fill": "tonexty",
         "line": {
          "color": "green"
         },
         "mode": "lines",
         "name": "MAX",
         "type": "scatter",
         "x": [
          0.05,
          0.1,
          0.15,
          0.2,
          0.25,
          0.3,
          0.35,
          0.4,
          0.45,
          0.5,
          0.55,
          0.6,
          0.65,
          0.7,
          0.75,
          0.8,
          0.85,
          0.9,
          0.95
         ],
         "y": [
          0.15493402079232038,
          0.2899623010767797,
          0.40962230901984037,
          0.5170575837478053,
          0.6145360276747438,
          0.7037476659170588,
          0.7859856975396531,
          0.8622617634598161,
          0.933382180135901,
          1,
          1.0626515508534018,
          1.1217826959637844,
          1.1777681009284298,
          1.230925629554433,
          1.281527275659983,
          1.3298075853076972,
          1.375970230560889,
          1.4201932011953577,
          1.4626329490105987
         ]
        }
       ],
       "layout": {
        "template": {
         "data": {
          "bar": [
           {
            "error_x": {
             "color": "#2a3f5f"
            },
            "error_y": {
             "color": "#2a3f5f"
            },
            "marker": {
             "line": {
              "color": "#E5ECF6",
              "width": 0.5
             }
            },
            "type": "bar"
           }
          ],
          "barpolar": [
           {
            "marker": {
             "line": {
              "color": "#E5ECF6",
              "width": 0.5
             }
            },
            "type": "barpolar"
           }
          ],
          "carpet": [
           {
            "aaxis": {
             "endlinecolor": "#2a3f5f",
             "gridcolor": "white",
             "linecolor": "white",
             "minorgridcolor": "white",
             "startlinecolor": "#2a3f5f"
            },
            "baxis": {
             "endlinecolor": "#2a3f5f",
             "gridcolor": "white",
             "linecolor": "white",
             "minorgridcolor": "white",
             "startlinecolor": "#2a3f5f"
            },
            "type": "carpet"
           }
          ],
          "choropleth": [
           {
            "colorbar": {
             "outlinewidth": 0,
             "ticks": ""
            },
            "type": "choropleth"
           }
          ],
          "contour": [
           {
            "colorbar": {
             "outlinewidth": 0,
             "ticks": ""
            },
            "colorscale": [
             [
              0,
              "#0d0887"
             ],
             [
              0.1111111111111111,
              "#46039f"
             ],
             [
              0.2222222222222222,
              "#7201a8"
             ],
             [
              0.3333333333333333,
              "#9c179e"
             ],
             [
              0.4444444444444444,
              "#bd3786"
             ],
             [
              0.5555555555555556,
              "#d8576b"
             ],
             [
              0.6666666666666666,
              "#ed7953"
             ],
             [
              0.7777777777777778,
              "#fb9f3a"
             ],
             [
              0.8888888888888888,
              "#fdca26"
             ],
             [
              1,
              "#f0f921"
             ]
            ],
            "type": "contour"
           }
          ],
          "contourcarpet": [
           {
            "colorbar": {
             "outlinewidth": 0,
             "ticks": ""
            },
            "type": "contourcarpet"
           }
          ],
          "heatmap": [
           {
            "colorbar": {
             "outlinewidth": 0,
             "ticks": ""
            },
            "colorscale": [
             [
              0,
              "#0d0887"
             ],
             [
              0.1111111111111111,
              "#46039f"
             ],
             [
              0.2222222222222222,
              "#7201a8"
             ],
             [
              0.3333333333333333,
              "#9c179e"
             ],
             [
              0.4444444444444444,
              "#bd3786"
             ],
             [
              0.5555555555555556,
              "#d8576b"
             ],
             [
              0.6666666666666666,
              "#ed7953"
             ],
             [
              0.7777777777777778,
              "#fb9f3a"
             ],
             [
              0.8888888888888888,
              "#fdca26"
             ],
             [
              1,
              "#f0f921"
             ]
            ],
            "type": "heatmap"
           }
          ],
          "heatmapgl": [
           {
            "colorbar": {
             "outlinewidth": 0,
             "ticks": ""
            },
            "colorscale": [
             [
              0,
              "#0d0887"
             ],
             [
              0.1111111111111111,
              "#46039f"
             ],
             [
              0.2222222222222222,
              "#7201a8"
             ],
             [
              0.3333333333333333,
              "#9c179e"
             ],
             [
              0.4444444444444444,
              "#bd3786"
             ],
             [
              0.5555555555555556,
              "#d8576b"
             ],
             [
              0.6666666666666666,
              "#ed7953"
             ],
             [
              0.7777777777777778,
              "#fb9f3a"
             ],
             [
              0.8888888888888888,
              "#fdca26"
             ],
             [
              1,
              "#f0f921"
             ]
            ],
            "type": "heatmapgl"
           }
          ],
          "histogram": [
           {
            "marker": {
             "colorbar": {
              "outlinewidth": 0,
              "ticks": ""
             }
            },
            "type": "histogram"
           }
          ],
          "histogram2d": [
           {
            "colorbar": {
             "outlinewidth": 0,
             "ticks": ""
            },
            "colorscale": [
             [
              0,
              "#0d0887"
             ],
             [
              0.1111111111111111,
              "#46039f"
             ],
             [
              0.2222222222222222,
              "#7201a8"
             ],
             [
              0.3333333333333333,
              "#9c179e"
             ],
             [
              0.4444444444444444,
              "#bd3786"
             ],
             [
              0.5555555555555556,
              "#d8576b"
             ],
             [
              0.6666666666666666,
              "#ed7953"
             ],
             [
              0.7777777777777778,
              "#fb9f3a"
             ],
             [
              0.8888888888888888,
              "#fdca26"
             ],
             [
              1,
              "#f0f921"
             ]
            ],
            "type": "histogram2d"
           }
          ],
          "histogram2dcontour": [
           {
            "colorbar": {
             "outlinewidth": 0,
             "ticks": ""
            },
            "colorscale": [
             [
              0,
              "#0d0887"
             ],
             [
              0.1111111111111111,
              "#46039f"
             ],
             [
              0.2222222222222222,
              "#7201a8"
             ],
             [
              0.3333333333333333,
              "#9c179e"
             ],
             [
              0.4444444444444444,
              "#bd3786"
             ],
             [
              0.5555555555555556,
              "#d8576b"
             ],
             [
              0.6666666666666666,
              "#ed7953"
             ],
             [
              0.7777777777777778,
              "#fb9f3a"
             ],
             [
              0.8888888888888888,
              "#fdca26"
             ],
             [
              1,
              "#f0f921"
             ]
            ],
            "type": "histogram2dcontour"
           }
          ],
          "mesh3d": [
           {
            "colorbar": {
             "outlinewidth": 0,
             "ticks": ""
            },
            "type": "mesh3d"
           }
          ],
          "parcoords": [
           {
            "line": {
             "colorbar": {
              "outlinewidth": 0,
              "ticks": ""
             }
            },
            "type": "parcoords"
           }
          ],
          "pie": [
           {
            "automargin": true,
            "type": "pie"
           }
          ],
          "scatter": [
           {
            "marker": {
             "colorbar": {
              "outlinewidth": 0,
              "ticks": ""
             }
            },
            "type": "scatter"
           }
          ],
          "scatter3d": [
           {
            "line": {
             "colorbar": {
              "outlinewidth": 0,
              "ticks": ""
             }
            },
            "marker": {
             "colorbar": {
              "outlinewidth": 0,
              "ticks": ""
             }
            },
            "type": "scatter3d"
           }
          ],
          "scattercarpet": [
           {
            "marker": {
             "colorbar": {
              "outlinewidth": 0,
              "ticks": ""
             }
            },
            "type": "scattercarpet"
           }
          ],
          "scattergeo": [
           {
            "marker": {
             "colorbar": {
              "outlinewidth": 0,
              "ticks": ""
             }
            },
            "type": "scattergeo"
           }
          ],
          "scattergl": [
           {
            "marker": {
             "colorbar": {
              "outlinewidth": 0,
              "ticks": ""
             }
            },
            "type": "scattergl"
           }
          ],
          "scattermapbox": [
           {
            "marker": {
             "colorbar": {
              "outlinewidth": 0,
              "ticks": ""
             }
            },
            "type": "scattermapbox"
           }
          ],
          "scatterpolar": [
           {
            "marker": {
             "colorbar": {
              "outlinewidth": 0,
              "ticks": ""
             }
            },
            "type": "scatterpolar"
           }
          ],
          "scatterpolargl": [
           {
            "marker": {
             "colorbar": {
              "outlinewidth": 0,
              "ticks": ""
             }
            },
            "type": "scatterpolargl"
           }
          ],
          "scatterternary": [
           {
            "marker": {
             "colorbar": {
              "outlinewidth": 0,
              "ticks": ""
             }
            },
            "type": "scatterternary"
           }
          ],
          "surface": [
           {
            "colorbar": {
             "outlinewidth": 0,
             "ticks": ""
            },
            "colorscale": [
             [
              0,
              "#0d0887"
             ],
             [
              0.1111111111111111,
              "#46039f"
             ],
             [
              0.2222222222222222,
              "#7201a8"
             ],
             [
              0.3333333333333333,
              "#9c179e"
             ],
             [
              0.4444444444444444,
              "#bd3786"
             ],
             [
              0.5555555555555556,
              "#d8576b"
             ],
             [
              0.6666666666666666,
              "#ed7953"
             ],
             [
              0.7777777777777778,
              "#fb9f3a"
             ],
             [
              0.8888888888888888,
              "#fdca26"
             ],
             [
              1,
              "#f0f921"
             ]
            ],
            "type": "surface"
           }
          ],
          "table": [
           {
            "cells": {
             "fill": {
              "color": "#EBF0F8"
             },
             "line": {
              "color": "white"
             }
            },
            "header": {
             "fill": {
              "color": "#C8D4E3"
             },
             "line": {
              "color": "white"
             }
            },
            "type": "table"
           }
          ]
         },
         "layout": {
          "annotationdefaults": {
           "arrowcolor": "#2a3f5f",
           "arrowhead": 0,
           "arrowwidth": 1
          },
          "autotypenumbers": "strict",
          "coloraxis": {
           "colorbar": {
            "outlinewidth": 0,
            "ticks": ""
           }
          },
          "colorscale": {
           "diverging": [
            [
             0,
             "#8e0152"
            ],
            [
             0.1,
             "#c51b7d"
            ],
            [
             0.2,
             "#de77ae"
            ],
            [
             0.3,
             "#f1b6da"
            ],
            [
             0.4,
             "#fde0ef"
            ],
            [
             0.5,
             "#f7f7f7"
            ],
            [
             0.6,
             "#e6f5d0"
            ],
            [
             0.7,
             "#b8e186"
            ],
            [
             0.8,
             "#7fbc41"
            ],
            [
             0.9,
             "#4d9221"
            ],
            [
             1,
             "#276419"
            ]
           ],
           "sequential": [
            [
             0,
             "#0d0887"
            ],
            [
             0.1111111111111111,
             "#46039f"
            ],
            [
             0.2222222222222222,
             "#7201a8"
            ],
            [
             0.3333333333333333,
             "#9c179e"
            ],
            [
             0.4444444444444444,
             "#bd3786"
            ],
            [
             0.5555555555555556,
             "#d8576b"
            ],
            [
             0.6666666666666666,
             "#ed7953"
            ],
            [
             0.7777777777777778,
             "#fb9f3a"
            ],
            [
             0.8888888888888888,
             "#fdca26"
            ],
            [
             1,
             "#f0f921"
            ]
           ],
           "sequentialminus": [
            [
             0,
             "#0d0887"
            ],
            [
             0.1111111111111111,
             "#46039f"
            ],
            [
             0.2222222222222222,
             "#7201a8"
            ],
            [
             0.3333333333333333,
             "#9c179e"
            ],
            [
             0.4444444444444444,
             "#bd3786"
            ],
            [
             0.5555555555555556,
             "#d8576b"
            ],
            [
             0.6666666666666666,
             "#ed7953"
            ],
            [
             0.7777777777777778,
             "#fb9f3a"
            ],
            [
             0.8888888888888888,
             "#fdca26"
            ],
            [
             1,
             "#f0f921"
            ]
           ]
          },
          "colorway": [
           "#636efa",
           "#EF553B",
           "#00cc96",
           "#ab63fa",
           "#FFA15A",
           "#19d3f3",
           "#FF6692",
           "#B6E880",
           "#FF97FF",
           "#FECB52"
          ],
          "font": {
           "color": "#2a3f5f"
          },
          "geo": {
           "bgcolor": "white",
           "lakecolor": "white",
           "landcolor": "#E5ECF6",
           "showlakes": true,
           "showland": true,
           "subunitcolor": "white"
          },
          "hoverlabel": {
           "align": "left"
          },
          "hovermode": "closest",
          "mapbox": {
           "style": "light"
          },
          "paper_bgcolor": "white",
          "plot_bgcolor": "#E5ECF6",
          "polar": {
           "angularaxis": {
            "gridcolor": "white",
            "linecolor": "white",
            "ticks": ""
           },
           "bgcolor": "#E5ECF6",
           "radialaxis": {
            "gridcolor": "white",
            "linecolor": "white",
            "ticks": ""
           }
          },
          "scene": {
           "xaxis": {
            "backgroundcolor": "#E5ECF6",
            "gridcolor": "white",
            "gridwidth": 2,
            "linecolor": "white",
            "showbackground": true,
            "ticks": "",
            "zerolinecolor": "white"
           },
           "yaxis": {
            "backgroundcolor": "#E5ECF6",
            "gridcolor": "white",
            "gridwidth": 2,
            "linecolor": "white",
            "showbackground": true,
            "ticks": "",
            "zerolinecolor": "white"
           },
           "zaxis": {
            "backgroundcolor": "#E5ECF6",
            "gridcolor": "white",
            "gridwidth": 2,
            "linecolor": "white",
            "showbackground": true,
            "ticks": "",
            "zerolinecolor": "white"
           }
          },
          "shapedefaults": {
           "line": {
            "color": "#2a3f5f"
           }
          },
          "ternary": {
           "aaxis": {
            "gridcolor": "white",
            "linecolor": "white",
            "ticks": ""
           },
           "baxis": {
            "gridcolor": "white",
            "linecolor": "white",
            "ticks": ""
           },
           "bgcolor": "#E5ECF6",
           "caxis": {
            "gridcolor": "white",
            "linecolor": "white",
            "ticks": ""
           }
          },
          "title": {
           "x": 0.05
          },
          "xaxis": {
           "automargin": true,
           "gridcolor": "white",
           "linecolor": "white",
           "ticks": "",
           "title": {
            "standoff": 15
           },
           "zerolinecolor": "white",
           "zerolinewidth": 2
          },
          "yaxis": {
           "automargin": true,
           "gridcolor": "white",
           "linecolor": "white",
           "ticks": "",
           "title": {
            "standoff": 15
           },
           "zerolinecolor": "white",
           "zerolinewidth": 2
          }
         }
        },
        "title": {
         "text": "Valores de custo para cada mudança na probabilidade de atingir a meta"
        },
        "xaxis": {
         "title": {
          "text": "Probabilidade (p')"
         }
        },
        "yaxis": {
         "title": {
          "text": "Custo (c')"
         }
        }
       }
      },
      "text/html": [
       "<div>                            <div id=\"93ac39f8-7b2a-41d4-a724-a4b454130e7b\" class=\"plotly-graph-div\" style=\"height:525px; width:100%;\"></div>            <script type=\"text/javascript\">                require([\"plotly\"], function(Plotly) {                    window.PLOTLYENV=window.PLOTLYENV || {};                                    if (document.getElementById(\"93ac39f8-7b2a-41d4-a724-a4b454130e7b\")) {                    Plotly.newPlot(                        \"93ac39f8-7b2a-41d4-a724-a4b454130e7b\",                        [{\"line\": {\"color\": \"red\"}, \"mode\": \"lines\", \"name\": \"MIN\", \"type\": \"scatter\", \"x\": [0.05, 0.1, 0.15, 0.2, 0.25, 0.3, 0.35, 0.4, 0.45, 0.5, 0.55, 0.6, 0.65, 0.7, 0.75, 0.8, 0.85, 0.9, 0.95], \"y\": [0.15493402079232038, 0.2899623010767797, 0.40962230901984037, 0.5170575837478053, 0.6145360276747438, 0.7037476659170588, 0.7859856975396531, 0.8622617634598161, 0.933382180135901, 1.0, 1.0626515508534018, 1.1217826959637844, 1.1777681009284298, 1.230925629554433, 1.281527275659983, 1.3298075853076972, 1.375970230560889, 1.4201932011953577, 1.4626329490105987]}, {\"fill\": \"tonexty\", \"line\": {\"color\": \"green\"}, \"mode\": \"lines\", \"name\": \"MAX\", \"type\": \"scatter\", \"x\": [0.05, 0.1, 0.15, 0.2, 0.25, 0.3, 0.35, 0.4, 0.45, 0.5, 0.55, 0.6, 0.65, 0.7, 0.75, 0.8, 0.85, 0.9, 0.95], \"y\": [0.15493402079232038, 0.2899623010767797, 0.40962230901984037, 0.5170575837478053, 0.6145360276747438, 0.7037476659170588, 0.7859856975396531, 0.8622617634598161, 0.933382180135901, 1.0, 1.0626515508534018, 1.1217826959637844, 1.1777681009284298, 1.230925629554433, 1.281527275659983, 1.3298075853076972, 1.375970230560889, 1.4201932011953577, 1.4626329490105987]}],                        {\"template\": {\"data\": {\"bar\": [{\"error_x\": {\"color\": \"#2a3f5f\"}, \"error_y\": {\"color\": \"#2a3f5f\"}, \"marker\": {\"line\": {\"color\": \"#E5ECF6\", \"width\": 0.5}}, \"type\": \"bar\"}], \"barpolar\": [{\"marker\": {\"line\": {\"color\": \"#E5ECF6\", \"width\": 0.5}}, \"type\": \"barpolar\"}], \"carpet\": [{\"aaxis\": {\"endlinecolor\": \"#2a3f5f\", \"gridcolor\": \"white\", \"linecolor\": \"white\", \"minorgridcolor\": \"white\", \"startlinecolor\": \"#2a3f5f\"}, \"baxis\": {\"endlinecolor\": \"#2a3f5f\", \"gridcolor\": \"white\", \"linecolor\": \"white\", \"minorgridcolor\": \"white\", \"startlinecolor\": \"#2a3f5f\"}, \"type\": \"carpet\"}], \"choropleth\": [{\"colorbar\": {\"outlinewidth\": 0, \"ticks\": \"\"}, \"type\": \"choropleth\"}], \"contour\": [{\"colorbar\": {\"outlinewidth\": 0, \"ticks\": \"\"}, \"colorscale\": [[0.0, \"#0d0887\"], [0.1111111111111111, \"#46039f\"], [0.2222222222222222, \"#7201a8\"], [0.3333333333333333, \"#9c179e\"], [0.4444444444444444, \"#bd3786\"], [0.5555555555555556, \"#d8576b\"], [0.6666666666666666, \"#ed7953\"], [0.7777777777777778, \"#fb9f3a\"], [0.8888888888888888, \"#fdca26\"], [1.0, \"#f0f921\"]], \"type\": \"contour\"}], \"contourcarpet\": [{\"colorbar\": {\"outlinewidth\": 0, \"ticks\": \"\"}, \"type\": \"contourcarpet\"}], \"heatmap\": [{\"colorbar\": {\"outlinewidth\": 0, \"ticks\": \"\"}, \"colorscale\": [[0.0, \"#0d0887\"], [0.1111111111111111, \"#46039f\"], [0.2222222222222222, \"#7201a8\"], [0.3333333333333333, \"#9c179e\"], [0.4444444444444444, \"#bd3786\"], [0.5555555555555556, \"#d8576b\"], [0.6666666666666666, \"#ed7953\"], [0.7777777777777778, \"#fb9f3a\"], [0.8888888888888888, \"#fdca26\"], [1.0, \"#f0f921\"]], \"type\": \"heatmap\"}], \"heatmapgl\": [{\"colorbar\": {\"outlinewidth\": 0, \"ticks\": \"\"}, \"colorscale\": [[0.0, \"#0d0887\"], [0.1111111111111111, \"#46039f\"], [0.2222222222222222, \"#7201a8\"], [0.3333333333333333, \"#9c179e\"], [0.4444444444444444, \"#bd3786\"], [0.5555555555555556, \"#d8576b\"], [0.6666666666666666, \"#ed7953\"], [0.7777777777777778, \"#fb9f3a\"], [0.8888888888888888, \"#fdca26\"], [1.0, \"#f0f921\"]], \"type\": \"heatmapgl\"}], \"histogram\": [{\"marker\": {\"colorbar\": {\"outlinewidth\": 0, \"ticks\": \"\"}}, \"type\": \"histogram\"}], \"histogram2d\": [{\"colorbar\": {\"outlinewidth\": 0, \"ticks\": \"\"}, \"colorscale\": [[0.0, \"#0d0887\"], [0.1111111111111111, \"#46039f\"], [0.2222222222222222, \"#7201a8\"], [0.3333333333333333, \"#9c179e\"], [0.4444444444444444, \"#bd3786\"], [0.5555555555555556, \"#d8576b\"], [0.6666666666666666, \"#ed7953\"], [0.7777777777777778, \"#fb9f3a\"], [0.8888888888888888, \"#fdca26\"], [1.0, \"#f0f921\"]], \"type\": \"histogram2d\"}], \"histogram2dcontour\": [{\"colorbar\": {\"outlinewidth\": 0, \"ticks\": \"\"}, \"colorscale\": [[0.0, \"#0d0887\"], [0.1111111111111111, \"#46039f\"], [0.2222222222222222, \"#7201a8\"], [0.3333333333333333, \"#9c179e\"], [0.4444444444444444, \"#bd3786\"], [0.5555555555555556, \"#d8576b\"], [0.6666666666666666, \"#ed7953\"], [0.7777777777777778, \"#fb9f3a\"], [0.8888888888888888, \"#fdca26\"], [1.0, \"#f0f921\"]], \"type\": \"histogram2dcontour\"}], \"mesh3d\": [{\"colorbar\": {\"outlinewidth\": 0, \"ticks\": \"\"}, \"type\": \"mesh3d\"}], \"parcoords\": [{\"line\": {\"colorbar\": {\"outlinewidth\": 0, \"ticks\": \"\"}}, \"type\": \"parcoords\"}], \"pie\": [{\"automargin\": true, \"type\": \"pie\"}], \"scatter\": [{\"marker\": {\"colorbar\": {\"outlinewidth\": 0, \"ticks\": \"\"}}, \"type\": \"scatter\"}], \"scatter3d\": [{\"line\": {\"colorbar\": {\"outlinewidth\": 0, \"ticks\": \"\"}}, \"marker\": {\"colorbar\": {\"outlinewidth\": 0, \"ticks\": \"\"}}, \"type\": \"scatter3d\"}], \"scattercarpet\": [{\"marker\": {\"colorbar\": {\"outlinewidth\": 0, \"ticks\": \"\"}}, \"type\": \"scattercarpet\"}], \"scattergeo\": [{\"marker\": {\"colorbar\": {\"outlinewidth\": 0, \"ticks\": \"\"}}, \"type\": \"scattergeo\"}], \"scattergl\": [{\"marker\": {\"colorbar\": {\"outlinewidth\": 0, \"ticks\": \"\"}}, \"type\": \"scattergl\"}], \"scattermapbox\": [{\"marker\": {\"colorbar\": {\"outlinewidth\": 0, \"ticks\": \"\"}}, \"type\": \"scattermapbox\"}], \"scatterpolar\": [{\"marker\": {\"colorbar\": {\"outlinewidth\": 0, \"ticks\": \"\"}}, \"type\": \"scatterpolar\"}], \"scatterpolargl\": [{\"marker\": {\"colorbar\": {\"outlinewidth\": 0, \"ticks\": \"\"}}, \"type\": \"scatterpolargl\"}], \"scatterternary\": [{\"marker\": {\"colorbar\": {\"outlinewidth\": 0, \"ticks\": \"\"}}, \"type\": \"scatterternary\"}], \"surface\": [{\"colorbar\": {\"outlinewidth\": 0, \"ticks\": \"\"}, \"colorscale\": [[0.0, \"#0d0887\"], [0.1111111111111111, \"#46039f\"], [0.2222222222222222, \"#7201a8\"], [0.3333333333333333, \"#9c179e\"], [0.4444444444444444, \"#bd3786\"], [0.5555555555555556, \"#d8576b\"], [0.6666666666666666, \"#ed7953\"], [0.7777777777777778, \"#fb9f3a\"], [0.8888888888888888, \"#fdca26\"], [1.0, \"#f0f921\"]], \"type\": \"surface\"}], \"table\": [{\"cells\": {\"fill\": {\"color\": \"#EBF0F8\"}, \"line\": {\"color\": \"white\"}}, \"header\": {\"fill\": {\"color\": \"#C8D4E3\"}, \"line\": {\"color\": \"white\"}}, \"type\": \"table\"}]}, \"layout\": {\"annotationdefaults\": {\"arrowcolor\": \"#2a3f5f\", \"arrowhead\": 0, \"arrowwidth\": 1}, \"autotypenumbers\": \"strict\", \"coloraxis\": {\"colorbar\": {\"outlinewidth\": 0, \"ticks\": \"\"}}, \"colorscale\": {\"diverging\": [[0, \"#8e0152\"], [0.1, \"#c51b7d\"], [0.2, \"#de77ae\"], [0.3, \"#f1b6da\"], [0.4, \"#fde0ef\"], [0.5, \"#f7f7f7\"], [0.6, \"#e6f5d0\"], [0.7, \"#b8e186\"], [0.8, \"#7fbc41\"], [0.9, \"#4d9221\"], [1, \"#276419\"]], \"sequential\": [[0.0, \"#0d0887\"], [0.1111111111111111, \"#46039f\"], [0.2222222222222222, \"#7201a8\"], [0.3333333333333333, \"#9c179e\"], [0.4444444444444444, \"#bd3786\"], [0.5555555555555556, \"#d8576b\"], [0.6666666666666666, \"#ed7953\"], [0.7777777777777778, \"#fb9f3a\"], [0.8888888888888888, \"#fdca26\"], [1.0, \"#f0f921\"]], \"sequentialminus\": [[0.0, \"#0d0887\"], [0.1111111111111111, \"#46039f\"], [0.2222222222222222, \"#7201a8\"], [0.3333333333333333, \"#9c179e\"], [0.4444444444444444, \"#bd3786\"], [0.5555555555555556, \"#d8576b\"], [0.6666666666666666, \"#ed7953\"], [0.7777777777777778, \"#fb9f3a\"], [0.8888888888888888, \"#fdca26\"], [1.0, \"#f0f921\"]]}, \"colorway\": [\"#636efa\", \"#EF553B\", \"#00cc96\", \"#ab63fa\", \"#FFA15A\", \"#19d3f3\", \"#FF6692\", \"#B6E880\", \"#FF97FF\", \"#FECB52\"], \"font\": {\"color\": \"#2a3f5f\"}, \"geo\": {\"bgcolor\": \"white\", \"lakecolor\": \"white\", \"landcolor\": \"#E5ECF6\", \"showlakes\": true, \"showland\": true, \"subunitcolor\": \"white\"}, \"hoverlabel\": {\"align\": \"left\"}, \"hovermode\": \"closest\", \"mapbox\": {\"style\": \"light\"}, \"paper_bgcolor\": \"white\", \"plot_bgcolor\": \"#E5ECF6\", \"polar\": {\"angularaxis\": {\"gridcolor\": \"white\", \"linecolor\": \"white\", \"ticks\": \"\"}, \"bgcolor\": \"#E5ECF6\", \"radialaxis\": {\"gridcolor\": \"white\", \"linecolor\": \"white\", \"ticks\": \"\"}}, \"scene\": {\"xaxis\": {\"backgroundcolor\": \"#E5ECF6\", \"gridcolor\": \"white\", \"gridwidth\": 2, \"linecolor\": \"white\", \"showbackground\": true, \"ticks\": \"\", \"zerolinecolor\": \"white\"}, \"yaxis\": {\"backgroundcolor\": \"#E5ECF6\", \"gridcolor\": \"white\", \"gridwidth\": 2, \"linecolor\": \"white\", \"showbackground\": true, \"ticks\": \"\", \"zerolinecolor\": \"white\"}, \"zaxis\": {\"backgroundcolor\": \"#E5ECF6\", \"gridcolor\": \"white\", \"gridwidth\": 2, \"linecolor\": \"white\", \"showbackground\": true, \"ticks\": \"\", \"zerolinecolor\": \"white\"}}, \"shapedefaults\": {\"line\": {\"color\": \"#2a3f5f\"}}, \"ternary\": {\"aaxis\": {\"gridcolor\": \"white\", \"linecolor\": \"white\", \"ticks\": \"\"}, \"baxis\": {\"gridcolor\": \"white\", \"linecolor\": \"white\", \"ticks\": \"\"}, \"bgcolor\": \"#E5ECF6\", \"caxis\": {\"gridcolor\": \"white\", \"linecolor\": \"white\", \"ticks\": \"\"}}, \"title\": {\"x\": 0.05}, \"xaxis\": {\"automargin\": true, \"gridcolor\": \"white\", \"linecolor\": \"white\", \"ticks\": \"\", \"title\": {\"standoff\": 15}, \"zerolinecolor\": \"white\", \"zerolinewidth\": 2}, \"yaxis\": {\"automargin\": true, \"gridcolor\": \"white\", \"linecolor\": \"white\", \"ticks\": \"\", \"title\": {\"standoff\": 15}, \"zerolinecolor\": \"white\", \"zerolinewidth\": 2}}}, \"title\": {\"text\": \"Valores de custo para cada mudan\\u00e7a na probabilidade de atingir a meta\"}, \"xaxis\": {\"title\": {\"text\": \"Probabilidade (p')\"}}, \"yaxis\": {\"title\": {\"text\": \"Custo (c')\"}}},                        {\"responsive\": true}                    ).then(function(){\n",
       "                            \n",
       "var gd = document.getElementById('93ac39f8-7b2a-41d4-a724-a4b454130e7b');\n",
       "var x = new MutationObserver(function (mutations, observer) {{\n",
       "        var display = window.getComputedStyle(gd).display;\n",
       "        if (!display || display === 'none') {{\n",
       "            console.log([gd, 'removed!']);\n",
       "            Plotly.purge(gd);\n",
       "            observer.disconnect();\n",
       "        }}\n",
       "}});\n",
       "\n",
       "// Listen for the removal of the full notebook cells\n",
       "var notebookContainer = gd.closest('#notebook-container');\n",
       "if (notebookContainer) {{\n",
       "    x.observe(notebookContainer, {childList: true});\n",
       "}}\n",
       "\n",
       "// Listen for the clearing of the current output cell\n",
       "var outputEl = gd.closest('.output');\n",
       "if (outputEl) {{\n",
       "    x.observe(outputEl, {childList: true});\n",
       "}}\n",
       "\n",
       "                        })                };                });            </script>        </div>"
      ]
     },
     "metadata": {},
     "output_type": "display_data"
    }
   ],
   "source": [
    "p, c, l, p_line = 0.5, 1, 0.1, 0.1\n",
    "\n",
    "c_line_exponential = get_values_c_line_exponential(p, c, l, p_line, rini_k=-0.95, rend_k=1, step_k=0.05, \n",
    "                                rini_p=0.05, rend_p=1, step_p=0.05, extrapolate=True)\n",
    "\n",
    "f1 = viz_hist_values(c_line_exponential, [v for v in drange(0.05, 1, 0.05)], False)\n",
    "\n",
    "c_exp_max, c_exp_min = get_min_max_c_lines(c_line_exponential)\n",
    "f2 = viz_expressividade(c_line_exponential, range_x, c_exp_max, c_exp_min, c1='green', c2='red')\n",
    "f3 = viz_expressividade_fill(range_x, c_exp_max, c_exp_min, c1='green', c2='red')"
   ]
  },
  {
   "cell_type": "markdown",
   "metadata": {},
   "source": [
    "# Certainty Equivalent"
   ]
  },
  {
   "cell_type": "markdown",
   "metadata": {},
   "source": [
    "## Exponential"
   ]
  },
  {
   "cell_type": "code",
   "execution_count": null,
   "metadata": {
    "ExecuteTime": {
     "end_time": "2023-08-24T16:01:15.724904Z",
     "start_time": "2023-08-24T16:01:07.814Z"
    }
   },
   "outputs": [],
   "source": [
    "def certainty_equivalent_exp(p, c, l):\n",
    "    return np.log(-p / (1 - 1/np.exp(l * c) - p)) * 1/l"
   ]
  },
  {
   "cell_type": "code",
   "execution_count": null,
   "metadata": {
    "ExecuteTime": {
     "end_time": "2023-08-24T16:01:15.725404Z",
     "start_time": "2023-08-24T16:01:07.815Z"
    }
   },
   "outputs": [],
   "source": [
    "p, c, l = 0.5, 1, 0.1\n",
    "\n",
    "print('Certaint Equivalent:', certainty_equivalent_exp(p, c, l))\n",
    "print('p\\' = 1: ', c_line_exp(p, c, l, 1))"
   ]
  },
  {
   "cell_type": "markdown",
   "metadata": {},
   "source": [
    "## Piecewise-Linear"
   ]
  },
  {
   "cell_type": "code",
   "execution_count": null,
   "metadata": {
    "ExecuteTime": {
     "end_time": "2023-08-24T16:01:15.726405Z",
     "start_time": "2023-08-24T16:01:07.816Z"
    }
   },
   "outputs": [],
   "source": [
    "def certainty_equivalent_pwl(p, c, k, gamma):\n",
    "    return ((c * (2 * k * p - k + 1)) / ((gamma - 1) * (k + p - 1) + p - gamma * k * p)) * ((-k + 1) / (k + 1))"
   ]
  },
  {
   "cell_type": "code",
   "execution_count": null,
   "metadata": {
    "ExecuteTime": {
     "end_time": "2023-08-24T16:01:15.726905Z",
     "start_time": "2023-08-24T16:01:07.817Z"
    }
   },
   "outputs": [],
   "source": [
    "p, c, k, gamma = 0.5, 1, 0.1, 1\n",
    "\n",
    "print('Certaint Equivalent:', certainty_equivalent_pwl(p, c, k, gamma))\n",
    "print('p\\' = 1: ', c_line_k(p, c, k, 1, gamma, alpha))"
   ]
  }
 ],
 "metadata": {
  "hide_input": false,
  "kernelspec": {
   "display_name": "Python 3",
   "language": "python",
   "name": "python3"
  },
  "language_info": {
   "codemirror_mode": {
    "name": "ipython",
    "version": 3
   },
   "file_extension": ".py",
   "mimetype": "text/x-python",
   "name": "python",
   "nbconvert_exporter": "python",
   "pygments_lexer": "ipython3",
   "version": "3.8.5"
  },
  "toc": {
   "base_numbering": 1,
   "nav_menu": {},
   "number_sections": true,
   "sideBar": true,
   "skip_h1_title": false,
   "title_cell": "Table of Contents",
   "title_sidebar": "Contents",
   "toc_cell": false,
   "toc_position": {},
   "toc_section_display": true,
   "toc_window_display": false
  }
 },
 "nbformat": 4,
 "nbformat_minor": 4
}
