{
 "cells": [
  {
   "cell_type": "code",
   "execution_count": 7,
   "metadata": {
    "ExecuteTime": {
     "end_time": "2023-03-19T17:00:22.285910Z",
     "start_time": "2023-03-19T17:00:22.276412Z"
    }
   },
   "outputs": [],
   "source": [
    "def make_positive(values):\n",
    "    is_all_positive = True\n",
    "    values_1 = values[:-1]\n",
    "    values_2 = values[1:]\n",
    "    \n",
    "    while \n",
    "    comb = list(zip(values_1, values_2))\n",
    "    for c in comb:\n",
    "        if sum(c) <= 0:\n",
    "            is_all_positive = False\n",
    "            \n",
    "    return is_all_positive"
   ]
  },
  {
   "cell_type": "code",
   "execution_count": 2,
   "metadata": {
    "ExecuteTime": {
     "end_time": "2023-03-19T16:58:53.242063Z",
     "start_time": "2023-03-19T16:58:53.225564Z"
    }
   },
   "outputs": [],
   "source": [
    "x = 5\n",
    "values = [-1, -1, -1, -1, -1]"
   ]
  },
  {
   "cell_type": "code",
   "execution_count": 8,
   "metadata": {
    "ExecuteTime": {
     "end_time": "2023-03-19T17:00:27.341330Z",
     "start_time": "2023-03-19T17:00:27.324492Z"
    }
   },
   "outputs": [
    {
     "data": {
      "text/plain": [
       "False"
      ]
     },
     "execution_count": 8,
     "metadata": {},
     "output_type": "execute_result"
    }
   ],
   "source": [
    "make_positive(values)"
   ]
  },
  {
   "cell_type": "code",
   "execution_count": null,
   "metadata": {},
   "outputs": [],
   "source": []
  }
 ],
 "metadata": {
  "hide_input": false,
  "kernelspec": {
   "display_name": "Python 3",
   "language": "python",
   "name": "python3"
  },
  "language_info": {
   "codemirror_mode": {
    "name": "ipython",
    "version": 3
   },
   "file_extension": ".py",
   "mimetype": "text/x-python",
   "name": "python",
   "nbconvert_exporter": "python",
   "pygments_lexer": "ipython3",
   "version": "3.8.5"
  },
  "toc": {
   "base_numbering": 1,
   "nav_menu": {},
   "number_sections": true,
   "sideBar": true,
   "skip_h1_title": false,
   "title_cell": "Table of Contents",
   "title_sidebar": "Contents",
   "toc_cell": false,
   "toc_position": {},
   "toc_section_display": true,
   "toc_window_display": false
  }
 },
 "nbformat": 4,
 "nbformat_minor": 4
}
