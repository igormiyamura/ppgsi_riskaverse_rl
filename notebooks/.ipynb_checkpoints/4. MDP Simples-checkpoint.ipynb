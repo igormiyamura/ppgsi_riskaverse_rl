{
 "cells": [
  {
   "cell_type": "code",
   "execution_count": 1,
   "metadata": {
    "ExecuteTime": {
     "end_time": "2023-09-17T19:44:01.317543Z",
     "start_time": "2023-09-17T19:43:38.976540Z"
    },
    "code_folding": []
   },
   "outputs": [],
   "source": [
    "# Bibliotecas\n",
    "import sys, os, pandas as pd, numpy as np\n",
    "from os.path import exists\n",
    "import plotly.graph_objects as go\n",
    "sys.path.append('../')\n",
    "import plotly.express as px\n",
    "from plotly.colors import n_colors\n",
    "from scipy.interpolate import CubicSpline\n",
    "\n",
    "# Ambiente\n",
    "from env.SimpleMDP import SimpleMDP\n",
    "\n",
    "# Modelos\n",
    "from models.Neutral_VI import Neutral_VI\n",
    "from models.Neutral_PI import Neutral_PI\n",
    "\n",
    "from models.ExponentialUtility_RSPI import ExponentialUtility_RSPI\n",
    "from models.ExponentialUtility_RSVI import ExponentialUtility_RSVI\n",
    "\n",
    "from models.PieceLinear_RSPI import PieceLinear_RSPI\n",
    "from models.PieceLinear_RSVI import PieceLinear_RSVI\n",
    "\n",
    "# Utils\n",
    "import rl_utils.NBPlotting as nbp\n",
    "import rl_utils.NBManipulation as nbm\n",
    "import rl_utils.NBEvaluations as nbe\n",
    "\n",
    "import matplotlib.pyplot as plt\n",
    "\n",
    "%load_ext autoreload\n",
    "%autoreload 2"
   ]
  },
  {
   "cell_type": "markdown",
   "metadata": {},
   "source": [
    "# MDP Simples\n",
    "\n",
    "Apenas um estado $S$ com uma ação com uma probabilidade de chegar na meta $S_G$ ou voltar para a ação atual $S$."
   ]
  },
  {
   "cell_type": "code",
   "execution_count": 2,
   "metadata": {
    "ExecuteTime": {
     "end_time": "2023-09-17T19:44:01.441249Z",
     "start_time": "2023-09-17T19:44:01.318544Z"
    },
    "code_folding": [
     0,
     3
    ]
   },
   "outputs": [],
   "source": [
    "def NormalizeData(data):\n",
    "    return (data - np.min(data)) / (np.max(data) - np.min(data))\n",
    "\n",
    "def drange(start, stop, step):\n",
    "    r = start\n",
    "    while r < stop:\n",
    "        yield r\n",
    "        r += step"
   ]
  },
  {
   "cell_type": "markdown",
   "metadata": {},
   "source": [
    "# Teste de Sanidade"
   ]
  },
  {
   "cell_type": "code",
   "execution_count": 3,
   "metadata": {
    "ExecuteTime": {
     "end_time": "2023-09-17T19:44:01.565012Z",
     "start_time": "2023-09-17T19:44:01.442750Z"
    },
    "code_folding": []
   },
   "outputs": [],
   "source": [
    "# Configurações do ambiente\n",
    "states, actions = 1, 1\n",
    "epsilon = 0.000001\n",
    "\n",
    "s_mdp = SimpleMDP(num_states = states, \n",
    "                  num_actions = actions, \n",
    "                  _fixed_probability = 0.5, \n",
    "                  _float_probability = 0.1)\n",
    "\n",
    "T = s_mdp.build_transition_probabilities()\n",
    "C = {}\n",
    "for a in range(0, actions):\n",
    "    C[a] = a + 1\n",
    "    \n",
    "config_reduzida = False\n",
    "\n",
    "# Configurações de processamento\n",
    "run_neutral_vi = True\n",
    "run_neutral_pi = True\n",
    "run_EUF_RSVI = True\n",
    "run_EUF_RSPI = True\n",
    "run_PWL_RSVI = True\n",
    "\n",
    "# Configurações dos modelos\n",
    "discount_factor = 0.999\n",
    "\n",
    "rini_p = 0.05\n",
    "rend_p = 1\n",
    "step_p = 0.05\n",
    "range_x = [np.round(v, 2) for v in drange(rini_p, rend_p, step_p)]"
   ]
  },
  {
   "cell_type": "markdown",
   "metadata": {},
   "source": [
    "## Exponential\n",
    "\n",
    "$$\n",
    "V(s) = \\frac{-e^{\\lambda c} \\times p}{(1 - e^{\\lambda c} \\times (1-p))}\n",
    "$$"
   ]
  },
  {
   "cell_type": "code",
   "execution_count": 4,
   "metadata": {
    "ExecuteTime": {
     "end_time": "2023-09-17T19:44:01.796682Z",
     "start_time": "2023-09-17T19:44:01.566512Z"
    }
   },
   "outputs": [
    {
     "name": "stdout",
     "output_type": "stream",
     "text": [
      "Processando: Lambda [0.1]\r",
      "Número de Iterações: 21......\n"
     ]
    },
    {
     "data": {
      "text/plain": [
       "dict_keys([0.1])"
      ]
     },
     "metadata": {},
     "output_type": "display_data"
    },
    {
     "data": {
      "text/html": [
       "<div>\n",
       "<style scoped>\n",
       "    .dataframe tbody tr th:only-of-type {\n",
       "        vertical-align: middle;\n",
       "    }\n",
       "\n",
       "    .dataframe tbody tr th {\n",
       "        vertical-align: top;\n",
       "    }\n",
       "\n",
       "    .dataframe thead th {\n",
       "        text-align: right;\n",
       "    }\n",
       "</style>\n",
       "<table border=\"1\" class=\"dataframe\">\n",
       "  <thead>\n",
       "    <tr style=\"text-align: right;\">\n",
       "      <th></th>\n",
       "      <th>0</th>\n",
       "      <th>sG</th>\n",
       "    </tr>\n",
       "  </thead>\n",
       "  <tbody>\n",
       "    <tr>\n",
       "      <th>Policy 0.1</th>\n",
       "      <td>0</td>\n",
       "      <td>0</td>\n",
       "    </tr>\n",
       "  </tbody>\n",
       "</table>\n",
       "</div>"
      ],
      "text/plain": [
       "            0  sG\n",
       "Policy 0.1  0   0"
      ]
     },
     "metadata": {},
     "output_type": "display_data"
    }
   ],
   "source": [
    "EUF_RSVI = {}\n",
    "    \n",
    "# range_lambda = [np.round(-0.5 + 0.5*i/10, 2) for i in range(0, 20)] \n",
    "range_lambda = [0.1]\n",
    "\n",
    "for vl_lambda in range_lambda:\n",
    "    print(f'Processando: Lambda [{vl_lambda}]', end='\\r')\n",
    "    EUF_RSVI[vl_lambda] = \\\n",
    "        nbe.run_driving_license(s_mdp, T, C, actions, model=ExponentialUtility_RSVI, model_name='EUF_RSVI',\n",
    "        vl_lambda=vl_lambda, epsilon=epsilon, _log=True)\n",
    "\n",
    "display(EUF_RSVI.keys())\n",
    "\n",
    "df_EUF_RSVI = nbm.build_dataframe_driver_license(EUF_RSVI)\n",
    "display(df_EUF_RSVI)"
   ]
  },
  {
   "cell_type": "code",
   "execution_count": 5,
   "metadata": {
    "ExecuteTime": {
     "end_time": "2023-09-17T19:44:01.920384Z",
     "start_time": "2023-09-17T19:44:01.798183Z"
    }
   },
   "outputs": [
    {
     "data": {
      "text/plain": [
       "[1.1051709180756477,\n",
       " 1.163286838117909,\n",
       " 1.1954008504718672,\n",
       " 1.2131465867300257,\n",
       " 1.2229526225462042,\n",
       " 1.2283712953490287,\n",
       " 1.2313655751471533,\n",
       " 1.2330201706238875,\n",
       " 1.2339344760249205,\n",
       " 1.2344397078946512,\n",
       " 1.234718891679307,\n",
       " 1.234873164579107,\n",
       " 1.23495841354026,\n",
       " 1.235005520876591,\n",
       " 1.2350315517056616,\n",
       " 1.2350459359632928,\n",
       " 1.235053884494899,\n",
       " 1.2350582767378853,\n",
       " 1.235060703827492,\n",
       " 1.2350620450019163,\n",
       " 1.235062786115401]"
      ]
     },
     "execution_count": 5,
     "metadata": {},
     "output_type": "execute_result"
    }
   ],
   "source": [
    "EUF_RSVI[0.1]._policy_value[0][0]"
   ]
  },
  {
   "cell_type": "markdown",
   "metadata": {
    "heading_collapsed": true
   },
   "source": [
    "## Piecewise Linear\n",
    "\n",
    "$$\n",
    "V(s) = \\frac{c \\times (2kp - k + 1)}{(\\gamma - 1) \\times (k + p - 1) + p - \\gamma kp}\n",
    "$$"
   ]
  },
  {
   "cell_type": "code",
   "execution_count": 6,
   "metadata": {
    "ExecuteTime": {
     "end_time": "2023-09-17T19:44:02.044119Z",
     "start_time": "2023-09-17T19:44:01.921885Z"
    },
    "hidden": true
   },
   "outputs": [
    {
     "name": "stdout",
     "output_type": "stream",
     "text": [
      "Processando: K [-0.1] Alpha [0.91]\r"
     ]
    },
    {
     "data": {
      "text/plain": [
       "dict_keys([(-0.1, 1, 0.91)])"
      ]
     },
     "metadata": {},
     "output_type": "display_data"
    },
    {
     "data": {
      "text/html": [
       "<div>\n",
       "<style scoped>\n",
       "    .dataframe tbody tr th:only-of-type {\n",
       "        vertical-align: middle;\n",
       "    }\n",
       "\n",
       "    .dataframe tbody tr th {\n",
       "        vertical-align: top;\n",
       "    }\n",
       "\n",
       "    .dataframe thead th {\n",
       "        text-align: right;\n",
       "    }\n",
       "</style>\n",
       "<table border=\"1\" class=\"dataframe\">\n",
       "  <thead>\n",
       "    <tr style=\"text-align: right;\">\n",
       "      <th></th>\n",
       "      <th>0</th>\n",
       "      <th>sG</th>\n",
       "    </tr>\n",
       "  </thead>\n",
       "  <tbody>\n",
       "    <tr>\n",
       "      <th>Policy (-0.1, 1, 0.91)</th>\n",
       "      <td>0</td>\n",
       "      <td>0</td>\n",
       "    </tr>\n",
       "  </tbody>\n",
       "</table>\n",
       "</div>"
      ],
      "text/plain": [
       "                        0  sG\n",
       "Policy (-0.1, 1, 0.91)  0   0"
      ]
     },
     "metadata": {},
     "output_type": "display_data"
    }
   ],
   "source": [
    "PWL_RSVI = {}\n",
    "df_PWL_RSVI = pd.DataFrame()\n",
    "\n",
    "# range_k     = [np.round(-0.95 + i/10, 2) for i in range(0, 20)]\n",
    "range_k = [-0.1]\n",
    "gamma       = 1\n",
    "# range_alpha = [np.round(1/(1+abs(k)), 2) for k in range_k]\n",
    "range_alpha = [np.round(1/(1+abs(k)), 2) for k in range_k]\n",
    "\n",
    "for i in range(0, len(range_k)):\n",
    "    print(f'Processando: K [{range_k[i]}] Alpha [{range_alpha[i]}]', end='\\r')\n",
    "    PWL_RSVI[(range_k[i], gamma, range_alpha[i])] = \\\n",
    "        nbe.run_driving_license(s_mdp, T, C, actions, model=PieceLinear_RSVI, model_name='PL_RSVI',\n",
    "        gamma=gamma, k=range_k[i], alpha=range_alpha[i], epsilon=epsilon, _log=False)\n",
    "\n",
    "display(PWL_RSVI.keys())\n",
    "\n",
    "df_PWL_RSVI = nbm.build_dataframe_driver_license(PWL_RSVI)\n",
    "display(df_PWL_RSVI)"
   ]
  },
  {
   "cell_type": "code",
   "execution_count": 7,
   "metadata": {
    "ExecuteTime": {
     "end_time": "2023-09-17T19:44:02.152639Z",
     "start_time": "2023-09-17T19:44:02.045621Z"
    },
    "hidden": true
   },
   "outputs": [
    {
     "data": {
      "text/plain": [
       "{0: {0: [0.8190000000000001,\n",
       "   1.3026195,\n",
       "   1.5606584402500001,\n",
       "   1.689548890904875,\n",
       "   1.7539296710069852,\n",
       "   1.7860878706679892,\n",
       "   1.8021508913986608,\n",
       "   1.810174370253631,\n",
       "   1.8141820979416887,\n",
       "   1.8161839579218735,\n",
       "   1.8171838869819759,\n",
       "   1.8176833515474968,\n",
       "   1.8179328340979746,\n",
       "   1.8180574506319382,\n",
       "   1.8181196965906532,\n",
       "   1.8181507884470312,\n",
       "   1.8181663188292922,\n",
       "   1.8181740762552316,\n",
       "   1.818177951089488,\n",
       "   1.8181798865691992,\n",
       "   1.8181808533413149]},\n",
       " 'sG': {0: [0.0,\n",
       "   0.0,\n",
       "   0.0,\n",
       "   0.0,\n",
       "   0.0,\n",
       "   0.0,\n",
       "   0.0,\n",
       "   0.0,\n",
       "   0.0,\n",
       "   0.0,\n",
       "   0.0,\n",
       "   0.0,\n",
       "   0.0,\n",
       "   0.0,\n",
       "   0.0,\n",
       "   0.0,\n",
       "   0.0,\n",
       "   0.0,\n",
       "   0.0,\n",
       "   0.0,\n",
       "   0.0]}}"
      ]
     },
     "execution_count": 7,
     "metadata": {},
     "output_type": "execute_result"
    }
   ],
   "source": [
    "PWL_RSVI[(-0.1, 1, 0.91)]._policy_value"
   ]
  },
  {
   "cell_type": "code",
   "execution_count": 8,
   "metadata": {
    "ExecuteTime": {
     "end_time": "2023-09-17T19:44:02.261158Z",
     "start_time": "2023-09-17T19:44:02.154640Z"
    },
    "hidden": true
   },
   "outputs": [],
   "source": [
    "k = range_k[0]\n",
    "p = 0.5\n",
    "c = 1"
   ]
  },
  {
   "cell_type": "code",
   "execution_count": 9,
   "metadata": {
    "ExecuteTime": {
     "end_time": "2023-09-17T19:44:02.385131Z",
     "start_time": "2023-09-17T19:44:02.262658Z"
    },
    "hidden": true
   },
   "outputs": [
    {
     "data": {
      "text/plain": [
       "-0.45454545454545453"
      ]
     },
     "execution_count": 9,
     "metadata": {},
     "output_type": "execute_result"
    }
   ],
   "source": [
    "((1 - (2 * p - 1) * k) * c) / (k - 1) * p"
   ]
  },
  {
   "cell_type": "markdown",
   "metadata": {},
   "source": [
    "# Região de Otimilidade\n",
    "\n",
    "Foi avaliado a região ótima obtida através de um determinado valor de $p'$ e $\\lambda$ com relação ao seu custo $c'$. "
   ]
  },
  {
   "cell_type": "code",
   "execution_count": 10,
   "metadata": {
    "ExecuteTime": {
     "end_time": "2023-09-17T19:44:02.524656Z",
     "start_time": "2023-09-17T19:44:02.386631Z"
    },
    "code_folding": [
     0,
     16,
     59,
     87,
     128,
     133,
     144,
     166,
     190,
     197
    ]
   },
   "outputs": [],
   "source": [
    "def viz_hist_values(d, range_x, norm=False):\n",
    "    fig1 = go.Figure()\n",
    "    for l in d.keys():\n",
    "        arr_values = d[l]\n",
    "        fig1.add_trace(go.Scatter(x=range_x, \n",
    "                                 y=NormalizeData(arr_values) if norm else arr_values,\n",
    "                                 mode='lines',\n",
    "                                 name=f'{np.round(l, 2)}'))\n",
    "\n",
    "    fig1.update_layout(\n",
    "        title=f'Valores de custo para cada mudança na probabilidade de atingir a meta',\n",
    "        xaxis_title='Probabilidade (p\\')',\n",
    "        yaxis_title=f'Custo (c\\')')\n",
    "    fig1.show()\n",
    "    return fig1\n",
    "\n",
    "def viz_expressividade(d, range_x, c_max, c_min, c1, c2, norm=False):\n",
    "    fig1 = go.Figure()\n",
    "    greys_light = \\\n",
    "        n_colors('rgb(200, 200, 200)', \n",
    "                 'rgb(255, 255, 255)', \n",
    "                 len(d.keys())+1, \n",
    "                 colortype='rgb')\n",
    "        \n",
    "    count = 0\n",
    "    for l in d.keys():\n",
    "        arr_values = d[l]\n",
    "        fig1.add_trace(go.Scatter(x=range_x, \n",
    "                                 y=NormalizeData(arr_values) if norm else arr_values,\n",
    "                                 mode='lines',\n",
    "                                 name=f'{np.round(l, 2)}',\n",
    "                                 line_color = greys_light[count]))\n",
    "        count += 1\n",
    "        \n",
    "    \n",
    "    # Adicionando MAX\n",
    "    fig1.add_trace(go.Scatter(x=range_x, \n",
    "                             y=NormalizeData(c_max) if norm else c_max,\n",
    "                             mode='lines',\n",
    "                             name=f'MAX',\n",
    "                             line_color = c1))\n",
    "\n",
    "    # Adicionando MIN\n",
    "    fig1.add_trace(go.Scatter(x=range_x, \n",
    "                             y=NormalizeData(c_min) if norm else c_min,\n",
    "                             mode='lines',\n",
    "                             name=f'MIN',\n",
    "                             line_color = c2))\n",
    "    \n",
    "    # Atualizando Layout\n",
    "    fig1.update_layout(\n",
    "        title=f'Valores de custo para cada mudança na probabilidade de atingir a meta',\n",
    "        xaxis_title='Probabilidade (p\\')',\n",
    "        yaxis_title=f'Custo (c\\')'\n",
    "        )\n",
    "    \n",
    "    fig1.show()\n",
    "    return fig1\n",
    "\n",
    "def viz_expressividade_fill(range_x, c_max, c_min, c1, c2, norm=False):\n",
    "    fig1 = go.Figure()\n",
    "\n",
    "    # Adicionando MIN\n",
    "    fig1.add_trace(go.Scatter(x=range_x, \n",
    "                             y=NormalizeData(c_min) if norm else c_min,\n",
    "                             mode='lines',\n",
    "                             name=f'MIN',\n",
    "                             line_color = c2))\n",
    "    \n",
    "    # Adicionando MAX\n",
    "    fig1.add_trace(go.Scatter(x=range_x, \n",
    "                             y=NormalizeData(c_max) if norm else c_max,\n",
    "                             mode='lines',\n",
    "                             name=f'MAX',\n",
    "                             line_color = c1,\n",
    "                             fill='tonexty'))\n",
    "    \n",
    "    # Atualizando Layout\n",
    "    fig1.update_layout(\n",
    "        title=f'Valores de custo para cada mudança na probabilidade de atingir a meta',\n",
    "        xaxis_title='Probabilidade (p\\')',\n",
    "        yaxis_title=f'Custo (c\\')'\n",
    "        )\n",
    "    \n",
    "    fig1.show()\n",
    "    return fig1\n",
    "\n",
    "def viz_expressividade_compare(c_max_1, c_max_2, c_min_1, c_min_2, m1, m2, rini_p=0.05, rend_p=1, step_p=0.05,\n",
    "                              c1='green', c2='blue', c3='red', c4='orange'):\n",
    "    fig = go.Figure()\n",
    "    range_x = [v for v in drange(rini_p, rend_p, step_p)]\n",
    "    \n",
    "    # Adicionando MAX\n",
    "    fig.add_trace(go.Scatter(x=range_x, \n",
    "                             y=c_max_1,\n",
    "                             mode='lines',\n",
    "                             name=f'MAX_{m1}',\n",
    "                             line_color = 'green'))\n",
    "    \n",
    "    fig.add_trace(go.Scatter(x=range_x, \n",
    "                             y=c_max_2,\n",
    "                             mode='lines',\n",
    "                             name=f'MAX_{m2}',\n",
    "                             line_color = 'blue'))\n",
    "    \n",
    "    # Adicionando MAX\n",
    "    fig.add_trace(go.Scatter(x=range_x, \n",
    "                             y=c_min_1,\n",
    "                             mode='lines',\n",
    "                             name=f'MIN_{m1}',\n",
    "                             line_color = 'red'))\n",
    "    \n",
    "    fig.add_trace(go.Scatter(x=range_x, \n",
    "                             y=c_min_2,\n",
    "                             mode='lines',\n",
    "                             name=f'MIN_{m2}',\n",
    "                             line_color = 'orange'))\n",
    "    \n",
    "    # Atualizando Layout\n",
    "    fig.update_layout(\n",
    "        title=f'Valores de custo para cada mudança na probabilidade de atingir a meta',\n",
    "        xaxis_title='Probabilidade (p\\')',\n",
    "        yaxis_title=f'Custo (c\\')'\n",
    "        )\n",
    "    \n",
    "    fig.show()\n",
    "    return fig\n",
    "    \n",
    "def c_line_exp(p, c, l, p_line):\n",
    "    v1 = -np.exp(l*c)*p\n",
    "    v2 = (np.exp(l*c)*p_line - p_line - np.exp(l*c)*p)\n",
    "    return np.log(v1/v2) * 1/l\n",
    "\n",
    "def build_dataframe_c_line(new_c, metrica='lambda'):\n",
    "    res = pd.DataFrame()\n",
    "    for k in new_c.keys():\n",
    "        d = pd.DataFrame(new_c[k], columns=['C_line'])\n",
    "        d[metrica] = np.round(k, 2)\n",
    "        d['P_line'] = [v for v in drange(0.05, 1, 0.05)]\n",
    "        res = res.append(d)\n",
    "\n",
    "    res['C_line_norm'] = NormalizeData(res['C_line'])\n",
    "    return res\n",
    "\n",
    "def get_values_c_line_exponential(p, c, l, p_line, rini_k=-0.95, rend_k=1, step_k=0.05, \n",
    "                                rini_p=0.05, rend_p=1, step_p=0.05, extrapolate=False):\n",
    "    new_c = {}\n",
    "    \n",
    "    range_l = [np.round(v, 2) for v in drange(rini_k, rend_k, step_k)]\n",
    "    range_p = [np.round(v, 2) for v in drange(rini_p, rend_p, step_p)]\n",
    "    \n",
    "    for l in range_l:\n",
    "        count = 0\n",
    "        if l > -0.04 and l < 0.04: continue\n",
    "        new_c[l] = []\n",
    "        for p_line in range_p:\n",
    "            c_line = c_line_exp(p, c, l, p_line)\n",
    "            if not np.isnan(c_line):\n",
    "                new_c[l].append(c_line)\n",
    "            else:\n",
    "                if extrapolate:\n",
    "                    natural = CubicSpline(range_p[0:len(new_c[l])], new_c[l], bc_type='natural')\n",
    "                    new_c[l].append(natural(p_line, nu=i))\n",
    "        count += 1\n",
    "    return new_c\n",
    "\n",
    "def get_min_max_c_lines(d, rini_p=0.05, rend_p=1, step_p=0.05):\n",
    "    range_p = [v for v in drange(rini_p, rend_p, step_p)]\n",
    "    dp = {}\n",
    "    \n",
    "    for key, arr in d.items():\n",
    "        i = 0\n",
    "        for p in range_p:\n",
    "            if p not in dp.keys():\n",
    "                dp[p] = []\n",
    "            \n",
    "            if i >= len(arr):\n",
    "                continue\n",
    "            \n",
    "            dp[p].append(arr[i])\n",
    "            i += 1\n",
    "        \n",
    "    res_max = []\n",
    "    res_min = []\n",
    "    for key, arr_p in dp.items():\n",
    "        res_max.append(max(arr_p))\n",
    "        res_min.append(min(arr_p))\n",
    "    \n",
    "    return res_max, res_min\n",
    "\n",
    "def c_line_k(p, c, k, p_line, gamma, alpha):\n",
    "    v1 = c * (2*k*p - k + 1) \n",
    "    v2 = (gamma - 1) * (k + p - 1) + p - gamma * k * p\n",
    "    v3 = (gamma - 1) * (k + p_line - 1) + p_line - gamma * k * p_line\n",
    "    v4 = 2 * k * p_line - k + 1\n",
    "    return v1 / v2 * v3 / v4\n",
    "\n",
    "def get_values_c_line_piecewise(p, c, l, p_line, gamma, rini_k=-0.95, rend_k=1, step_k=0.05, \n",
    "                                rini_p=0.05, rend_p=1, step_p=0.05):\n",
    "    new_c = {}\n",
    "\n",
    "    for k in [np.round(v, 2) for v in drange(rini_k, rend_k, step_k)]:\n",
    "        new_c[k] = []\n",
    "        alpha = np.round(1/(1+abs(k)), 2)\n",
    "        for p_line in [v for v in drange(rini_p, rend_p, step_p)]:\n",
    "            new_c[k].append(c_line_k(p, c, k, p_line, gamma, alpha))\n",
    "            \n",
    "    return new_c"
   ]
  },
  {
   "cell_type": "markdown",
   "metadata": {},
   "source": [
    "## Limites para $\\lambda$ e $k$"
   ]
  },
  {
   "cell_type": "code",
   "execution_count": 11,
   "metadata": {
    "ExecuteTime": {
     "end_time": "2023-09-17T19:44:02.648748Z",
     "start_time": "2023-09-17T19:44:02.525656Z"
    }
   },
   "outputs": [
    {
     "name": "stdout",
     "output_type": "stream",
     "text": [
      "Lambda Extremo: 0.6931471805599453\n"
     ]
    }
   ],
   "source": [
    "p, c, p_line = 0.5, 1, 0.8\n",
    "print(f'Lambda Extremo: {-np.log((1-p)) / c}')\n",
    "l_zero = -np.log((1-p)) / c"
   ]
  },
  {
   "cell_type": "markdown",
   "metadata": {},
   "source": [
    "Dado um p' "
   ]
  },
  {
   "cell_type": "markdown",
   "metadata": {},
   "source": [
    "Qualquer ponto no quadrante inferior direito é melhor que minha referencia\n",
    "\n",
    "Existe um lambda suficientemente propenso ao risco em que minha referencia é melhor que determinado ponto acima do quadrante inferior direito\n",
    "\n",
    "Qualquer ponto no quadrante superior direito minha referencia é melhor\n",
    "\n",
    "Laranja -> lambda < 0 propenso\n",
    "Azul -> lambda extremo ponto ref, lambda > 0 averso"
   ]
  },
  {
   "cell_type": "code",
   "execution_count": 12,
   "metadata": {
    "ExecuteTime": {
     "end_time": "2023-09-17T19:44:02.772504Z",
     "start_time": "2023-09-17T19:44:02.649749Z"
    }
   },
   "outputs": [],
   "source": [
    "# WIP\n",
    "def captura_limite_empirico_exp(ini, end, step, p, c, p_line, tipo_limite, _plot=True):\n",
    "    res = {}\n",
    "    for l in [v for v in drange(ini, end, step)]:\n",
    "        res[l] = c_line_exp(p, c, l, p_line)\n",
    "\n",
    "    if _plot: plt.plot(res.keys(), [v[1] for v in res.items()])\n",
    "    \n",
    "    aproximacao_limite = res[next(iter(res))] if tipo_limite == 'Inferior' else res[next(reversed(res))]\n",
    "    return res, aproximacao_limite"
   ]
  },
  {
   "cell_type": "code",
   "execution_count": 24,
   "metadata": {
    "ExecuteTime": {
     "end_time": "2023-09-17T21:44:42.826238Z",
     "start_time": "2023-09-17T21:44:42.500681Z"
    }
   },
   "outputs": [
    {
     "name": "stdout",
     "output_type": "stream",
     "text": [
      "Limite [Inferior] para p=[0.05] tende a: 0.98\n",
      "Limite [Inferior] para p=[0.1] tende a: 0.98\n",
      "Limite [Inferior] para p=[0.15] tende a: 0.99\n",
      "Limite [Inferior] para p=[0.2] tende a: 0.99\n",
      "Limite [Inferior] para p=[0.25] tende a: 0.99\n",
      "Limite [Inferior] para p=[0.3] tende a: 0.99\n",
      "Limite [Inferior] para p=[0.35] tende a: 1.0\n",
      "Limite [Inferior] para p=[0.4] tende a: 1.0\n",
      "Limite [Inferior] para p=[0.45] tende a: 1.0\n",
      "Limite [Inferior] para p=[0.5] tende a: 1.0\n",
      "Limite [Inferior] para p=[0.55] tende a: 1.0\n",
      "Limite [Inferior] para p=[0.6] tende a: 1.0\n",
      "Limite [Inferior] para p=[0.65] tende a: 1.0\n",
      "Limite [Inferior] para p=[0.7] tende a: 1.0\n",
      "Limite [Inferior] para p=[0.75] tende a: 1.0\n",
      "Limite [Inferior] para p=[0.8] tende a: 1.0\n",
      "Limite [Inferior] para p=[0.85] tende a: 1.01\n",
      "Limite [Inferior] para p=[0.9] tende a: 1.01\n",
      "Limite [Inferior] para p=[0.95] tende a: 1.01\n"
     ]
    },
    {
     "data": {
      "image/png": "[encoded data removed]",
      "text/plain": [
       "<Figure size 432x288 with 1 Axes>"
      ]
     },
     "metadata": {
      "needs_background": "light"
     },
     "output_type": "display_data"
    }
   ],
   "source": [
    "rini_lambda, rend_lambda, step_lambda = -100, -0.1, 0.1\n",
    "p, c = 0.5, 1\n",
    "\n",
    "limite_inferior_vetor_exp = {}\n",
    "limite_inferior_exp = {}\n",
    "\n",
    "for p_line in range_x:\n",
    "    limite_inferior_vetor_exp[p_line], limite_inferior_exp[p_line] = \\\n",
    "        captura_limite_empirico_exp(rini_lambda, rend_lambda, step_lambda, p, c, p_line, tipo_limite='Inferior')\n",
    "    \n",
    "    print(f'Limite [Inferior] para p=[{p_line}] tende a: {np.round(limite_inferior_exp[p_line], 2)}')"
   ]
  },
  {
   "cell_type": "code",
   "execution_count": 25,
   "metadata": {
    "ExecuteTime": {
     "end_time": "2023-09-17T21:44:43.105202Z",
     "start_time": "2023-09-17T21:44:42.827738Z"
    }
   },
   "outputs": [
    {
     "name": "stdout",
     "output_type": "stream",
     "text": [
      "Limite [Inferior] para p=[0.05] tende a: 0.07\n",
      "Limite [Inferior] para p=[0.1] tende a: 0.15\n",
      "Limite [Inferior] para p=[0.15] tende a: 0.23\n",
      "Limite [Inferior] para p=[0.2] tende a: 0.32\n",
      "Limite [Inferior] para p=[0.25] tende a: 0.42\n",
      "Limite [Inferior] para p=[0.3] tende a: 0.51\n",
      "Limite [Inferior] para p=[0.35] tende a: 0.62\n",
      "Limite [Inferior] para p=[0.4] tende a: 0.74\n",
      "Limite [Inferior] para p=[0.45] tende a: 0.86\n",
      "Limite [Inferior] para p=[0.5] tende a: 1.0\n",
      "Limite [Inferior] para p=[0.55] tende a: 1.15\n",
      "Limite [Inferior] para p=[0.6] tende a: 1.32\n",
      "Limite [Inferior] para p=[0.65] tende a: 1.51\n",
      "Limite [Inferior] para p=[0.7] tende a: 1.74\n",
      "Limite [Inferior] para p=[0.75] tende a: 2.0\n",
      "Limite [Inferior] para p=[0.8] tende a: 2.32\n",
      "Limite [Inferior] para p=[0.85] tende a: 2.74\n",
      "Limite [Inferior] para p=[0.9] tende a: 3.32\n",
      "Limite [Inferior] para p=[0.95] tende a: 4.32\n"
     ]
    },
    {
     "data": {
      "image/png": "[encoded data removed]",
      "text/plain": [
       "<Figure size 432x288 with 1 Axes>"
      ]
     },
     "metadata": {
      "needs_background": "light"
     },
     "output_type": "display_data"
    }
   ],
   "source": [
    "p, c = 0.5, 1\n",
    "lambda_extreme = -np.log((1-p)) / c\n",
    "rini_lambda, rend_lambda, step_lambda = 0.1, lambda_extreme, 0.001\n",
    "\n",
    "limite_superior_vetor_exp = {}\n",
    "limite_superior_exp = {}\n",
    "\n",
    "for p_line in range_x:\n",
    "    limite_superior_vetor_exp[p_line], limite_superior_exp[p_line] = \\\n",
    "        captura_limite_empirico_exp(rini_lambda, rend_lambda, step_lambda, p, c, p_line, tipo_limite='Superior')\n",
    "    \n",
    "    print(f'Limite [Superior] para p=[{p_line}] tende a: {np.round(limite_superior_exp[p_line], 2)}')"
   ]
  },
  {
   "cell_type": "code",
   "execution_count": 26,
   "metadata": {
    "ExecuteTime": {
     "end_time": "2023-09-17T21:44:44.075085Z",
     "start_time": "2023-09-17T21:44:43.880052Z"
    }
   },
   "outputs": [
    {
     "data": {
      "text/plain": [
       "[<matplotlib.lines.Line2D at 0x1cde3231d60>]"
      ]
     },
     "execution_count": 26,
     "metadata": {},
     "output_type": "execute_result"
    },
    {
     "data": {
      "image/png": "[encoded data removed]",
      "text/plain": [
       "<Figure size 432x288 with 1 Axes>"
      ]
     },
     "metadata": {
      "needs_background": "light"
     },
     "output_type": "display_data"
    }
   ],
   "source": [
    "plt.plot(range_x, limite_superior_exp.values())\n",
    "plt.plot(range_x, limite_inferior_exp.values()) \n",
    "plt.plot([0.5 for v in limite_superior_exp.items()], limite_superior_exp.values())"
   ]
  },
  {
   "cell_type": "markdown",
   "metadata": {},
   "source": [
    "#### Multiplas Probabilidades"
   ]
  },
  {
   "cell_type": "code",
   "execution_count": 16,
   "metadata": {
    "ExecuteTime": {
     "end_time": "2023-09-17T19:44:05.758952Z",
     "start_time": "2023-09-17T19:44:04.210180Z"
    }
   },
   "outputs": [
    {
     "name": "stdout",
     "output_type": "stream",
     "text": [
      "Processando p: [0.9]...00000000001]....\r"
     ]
    }
   ],
   "source": [
    "limite_inferior_vetor_exp = {}\n",
    "limite_inferior_exp = {}\n",
    "limite_superior_vetor_exp = {}\n",
    "limite_superior_exp = {}\n",
    "    \n",
    "for p in np.arange(0.1, 1, 0.1):\n",
    "    print(f'Processando p: [{p}]...', end='\\r')\n",
    "    lambda_extreme = -np.log((1-p)) / c\n",
    "    \n",
    "    limite_inferior_vetor_exp[p] = {}\n",
    "    limite_inferior_exp[p] = {}\n",
    "    limite_superior_vetor_exp[p] = {}\n",
    "    limite_superior_exp[p] = {}\n",
    "    \n",
    "    c = 1\n",
    "    rini_lambda_inf, rend_lambda_inf, step_lambda_inf = -100, -0.1, 0.1\n",
    "    rini_lambda_sup, rend_lambda_sup, step_lambda_sup = 0.1, lambda_extreme, 0.001\n",
    "    \n",
    "    for p_line in range_x:\n",
    "        limite_inferior_vetor_exp[p][p_line], limite_inferior_exp[p][p_line] = \\\n",
    "            captura_limite_empirico_exp(rini_lambda_inf, rend_lambda_inf, step_lambda_inf, \n",
    "                                        p, c, p_line, tipo_limite='Inferior', _plot=False)\n",
    "        \n",
    "        limite_superior_vetor_exp[p][p_line], limite_superior_exp[p][p_line] = \\\n",
    "            captura_limite_empirico_exp(rini_lambda_sup, rend_lambda_sup, step_lambda_sup, \n",
    "                                        p, c, p_line, tipo_limite='Superior', _plot=False)"
   ]
  },
  {
   "cell_type": "code",
   "execution_count": 17,
   "metadata": {
    "ExecuteTime": {
     "end_time": "2023-09-17T19:44:06.595234Z",
     "start_time": "2023-09-17T19:44:05.760452Z"
    },
    "scrolled": false
   },
   "outputs": [
    {
     "data": {
      "image/png": "[encoded data removed]",
      "text/plain": [
       "<Figure size 1152x864 with 9 Axes>"
      ]
     },
     "metadata": {
      "needs_background": "light"
     },
     "output_type": "display_data"
    }
   ],
   "source": [
    "fig, axs = plt.subplots(3, 3, figsize=(16,12))\n",
    "count1, count2 = 0, 0\n",
    "\n",
    "for p in limite_inferior_exp.keys():\n",
    "    fig = axs[count1, count2].plot(range_x, limite_superior_exp[p].values())\n",
    "    fig = axs[count1, count2].plot(range_x, limite_inferior_exp[p].values()) \n",
    "    fig = axs[count1, count2].plot([p for v in limite_superior_exp[p].items()], limite_superior_exp[p].values())\n",
    "    fig = axs[count1, count2].set_title(f'Região ótima - Probabilidade [{np.round(p, 1)}]')\n",
    "    \n",
    "    count2 += 1\n",
    "    if count2 == 3:\n",
    "        count2 = 0\n",
    "        count1 += 1"
   ]
  },
  {
   "cell_type": "code",
   "execution_count": 18,
   "metadata": {
    "ExecuteTime": {
     "end_time": "2023-09-17T19:44:06.781267Z",
     "start_time": "2023-09-17T19:44:06.596236Z"
    }
   },
   "outputs": [
    {
     "data": {
      "text/plain": [
       "[<matplotlib.lines.Line2D at 0x1cde570aca0>]"
      ]
     },
     "execution_count": 18,
     "metadata": {},
     "output_type": "execute_result"
    },
    {
     "data": {
      "image/png": "[encoded data removed]",
      "text/plain": [
       "<Figure size 432x288 with 1 Axes>"
      ]
     },
     "metadata": {
      "needs_background": "light"
     },
     "output_type": "display_data"
    }
   ],
   "source": [
    "rini_p=0.05\n",
    "rend_p=1\n",
    "step_p=0.05\n",
    "\n",
    "res = {}\n",
    "res_pwl = {}\n",
    "# arange\n",
    "for p_line in [v for v in drange(rini_p, rend_p, step_p)]:\n",
    "    res[p_line] = -np.log((1-p_line)) / l_zero\n",
    "#     res_pwl[p_line] = p*c/p_line\n",
    "    \n",
    "plt.plot(res.keys(), [v[1] for v in res.items()])\n",
    "# plt.plot(res_pwl.keys(), [v[1] for v in res_pwl.items()])\n",
    "plt.plot(res.keys(), [1 for v in res.items()])\n",
    "plt.plot([0.5 for v in res.items()], [v[1] for v in res.items()])"
   ]
  },
  {
   "cell_type": "markdown",
   "metadata": {},
   "source": [
    "## Limite Empírico - PiecewiseLinear"
   ]
  },
  {
   "cell_type": "code",
   "execution_count": 19,
   "metadata": {
    "ExecuteTime": {
     "end_time": "2023-09-17T19:44:06.889787Z",
     "start_time": "2023-09-17T19:44:06.782267Z"
    },
    "code_folding": []
   },
   "outputs": [],
   "source": [
    "def captura_limite_empirico_pwl(ini, end, step, p, c, p_line, gamma, tipo_limite):\n",
    "    res = {}\n",
    "    for k in [v for v in drange(ini, end, step)]:\n",
    "        alpha = np.round(1/(1+abs(k)), 2)\n",
    "        res[k] = c_line_k(p, c, k, p_line, gamma, alpha)\n",
    "\n",
    "    plt.plot(res.keys(), [v[1] for v in res.items()])\n",
    "    \n",
    "    aproximacao_limite = res[next(iter(res))] if tipo_limite == 'Inferior' else res[next(reversed(res))]\n",
    "    return res, aproximacao_limite"
   ]
  },
  {
   "cell_type": "code",
   "execution_count": 20,
   "metadata": {
    "ExecuteTime": {
     "end_time": "2023-09-17T19:44:09.013657Z",
     "start_time": "2023-09-17T19:44:06.891286Z"
    }
   },
   "outputs": [
    {
     "name": "stdout",
     "output_type": "stream",
     "text": [
      "Limite [Inferior] para p=[0.05] tende a: 1.0\n",
      "Limite [Inferior] para p=[0.1] tende a: 1.0\n",
      "Limite [Inferior] para p=[0.15] tende a: 1.0\n",
      "Limite [Inferior] para p=[0.2] tende a: 1.0\n",
      "Limite [Inferior] para p=[0.25] tende a: 1.0\n",
      "Limite [Inferior] para p=[0.3] tende a: 1.0\n",
      "Limite [Inferior] para p=[0.35] tende a: 1.0\n",
      "Limite [Inferior] para p=[0.4] tende a: 1.0\n",
      "Limite [Inferior] para p=[0.45] tende a: 1.0\n",
      "Limite [Inferior] para p=[0.5] tende a: 1.0\n",
      "Limite [Inferior] para p=[0.55] tende a: 1.0\n",
      "Limite [Inferior] para p=[0.6] tende a: 1.0\n",
      "Limite [Inferior] para p=[0.65] tende a: 1.0\n",
      "Limite [Inferior] para p=[0.7] tende a: 1.0\n",
      "Limite [Inferior] para p=[0.75] tende a: 1.0\n",
      "Limite [Inferior] para p=[0.8] tende a: 1.0\n",
      "Limite [Inferior] para p=[0.85] tende a: 1.0\n",
      "Limite [Inferior] para p=[0.9] tende a: 1.0\n",
      "Limite [Inferior] para p=[0.95] tende a: 1.0\n"
     ]
    },
    {
     "data": {
      "image/png": "[encoded data removed]",
      "text/plain": [
       "<Figure size 432x288 with 1 Axes>"
      ]
     },
     "metadata": {
      "needs_background": "light"
     },
     "output_type": "display_data"
    }
   ],
   "source": [
    "rini_k, rend_k, step_k = 0.9, 1, 0.00001\n",
    "gamma = 1\n",
    "p, c = 0.5, 1\n",
    "\n",
    "limite_superior_vetor_pwl = {}\n",
    "limite_superior_pwl = {}\n",
    "\n",
    "for p_line in range_x:\n",
    "    limite_superior_vetor_pwl[p_line], limite_superior_pwl[p_line] = \\\n",
    "        captura_limite_empirico_pwl(rini_k, rend_k, step_k, p, c, p_line, gamma, 'Superior')\n",
    "\n",
    "    print(f'Limite [Superior] para p=[{p_line}] tende a: {np.round(limite_superior_pwl[p_line], 2)}')"
   ]
  },
  {
   "cell_type": "code",
   "execution_count": 21,
   "metadata": {
    "ExecuteTime": {
     "end_time": "2023-09-17T19:44:11.090993Z",
     "start_time": "2023-09-17T19:44:09.015157Z"
    }
   },
   "outputs": [
    {
     "name": "stdout",
     "output_type": "stream",
     "text": [
      "Limite [Inferior] para p=[0.05] tende a: 0.05\n",
      "Limite [Inferior] para p=[0.1] tende a: 0.11\n",
      "Limite [Inferior] para p=[0.15] tende a: 0.18\n",
      "Limite [Inferior] para p=[0.2] tende a: 0.25\n",
      "Limite [Inferior] para p=[0.25] tende a: 0.33\n",
      "Limite [Inferior] para p=[0.3] tende a: 0.43\n",
      "Limite [Inferior] para p=[0.35] tende a: 0.54\n",
      "Limite [Inferior] para p=[0.4] tende a: 0.67\n",
      "Limite [Inferior] para p=[0.45] tende a: 0.82\n",
      "Limite [Inferior] para p=[0.5] tende a: 1.0\n",
      "Limite [Inferior] para p=[0.55] tende a: 1.22\n",
      "Limite [Inferior] para p=[0.6] tende a: 1.5\n",
      "Limite [Inferior] para p=[0.65] tende a: 1.86\n",
      "Limite [Inferior] para p=[0.7] tende a: 2.33\n",
      "Limite [Inferior] para p=[0.75] tende a: 3.0\n",
      "Limite [Inferior] para p=[0.8] tende a: 4.0\n",
      "Limite [Inferior] para p=[0.85] tende a: 5.67\n",
      "Limite [Inferior] para p=[0.9] tende a: 9.0\n",
      "Limite [Inferior] para p=[0.95] tende a: 19.0\n"
     ]
    },
    {
     "data": {
      "image/png": "[encoded data removed]",
      "text/plain": [
       "<Figure size 432x288 with 1 Axes>"
      ]
     },
     "metadata": {
      "needs_background": "light"
     },
     "output_type": "display_data"
    }
   ],
   "source": [
    "rini_k, rend_k, step_k = -1, -0.9, 0.00001\n",
    "gamma = 1\n",
    "p, c = 0.5, 1\n",
    "\n",
    "limite_inferior_vetor_pwl = {}\n",
    "limite_inferior_pwl = {}\n",
    "\n",
    "for p_line in range_x:\n",
    "    limite_inferior_vetor_pwl[p_line], limite_inferior_pwl[p_line] = \\\n",
    "        captura_limite_empirico_pwl(rini_k, rend_k, step_k, p, c, p_line, gamma, 'Inferior')\n",
    "\n",
    "    print(f'Limite [Inferior] para p=[{p_line}] tende a: {np.round(limite_inferior_pwl[p_line], 2)}')"
   ]
  },
  {
   "cell_type": "code",
   "execution_count": 22,
   "metadata": {
    "ExecuteTime": {
     "end_time": "2023-09-17T19:44:11.339038Z",
     "start_time": "2023-09-17T19:44:11.092493Z"
    }
   },
   "outputs": [
    {
     "data": {
      "text/plain": [
       "[<matplotlib.lines.Line2D at 0x1cde2fcc670>]"
      ]
     },
     "execution_count": 22,
     "metadata": {},
     "output_type": "execute_result"
    },
    {
     "data": {
      "image/png": "[encoded data removed]",
      "text/plain": [
       "<Figure size 432x288 with 1 Axes>"
      ]
     },
     "metadata": {
      "needs_background": "light"
     },
     "output_type": "display_data"
    }
   ],
   "source": [
    "plt.plot(range_x, limite_superior_pwl.values())\n",
    "plt.plot(range_x, limite_inferior_pwl.values()) \n",
    "plt.plot([0.5 for v in limite_superior_pwl.items()], limite_superior_pwl.values())"
   ]
  },
  {
   "cell_type": "markdown",
   "metadata": {},
   "source": [
    "## Comparando Limites"
   ]
  },
  {
   "cell_type": "code",
   "execution_count": 30,
   "metadata": {
    "ExecuteTime": {
     "end_time": "2023-09-17T21:48:12.865758Z",
     "start_time": "2023-09-17T21:48:12.430182Z"
    }
   },
   "outputs": [
    {
     "data": {
      "text/plain": [
       "<matplotlib.legend.Legend at 0x1cde3386cd0>"
      ]
     },
     "execution_count": 30,
     "metadata": {},
     "output_type": "execute_result"
    },
    {
     "data": {
      "image/png": "[encoded data removed]",
      "text/plain": [
       "<Figure size 1152x288 with 3 Axes>"
      ]
     },
     "metadata": {
      "needs_background": "light"
     },
     "output_type": "display_data"
    }
   ],
   "source": [
    "fig, axs = plt.subplots(1, 3, figsize=(16,4))\n",
    "\n",
    "axs[0].plot(range_x, limite_superior_exp.values(), label='fa (EXP)')\n",
    "axs[0].plot(range_x, limite_inferior_pwl.values(), label='fa (PWL)')\n",
    "axs[0].plot([0.5 for v in limite_inferior_pwl.items()], limite_superior_pwl.values())\n",
    "\n",
    "axs[1].plot(range_x, limite_inferior_exp.values(), label='fp (EXP)')\n",
    "axs[1].plot(range_x, limite_superior_pwl.values(), label='fp (PWL)')\n",
    "axs[1].plot([0.5 for v in limite_superior_pwl.items()], limite_inferior_exp.values())\n",
    "\n",
    "axs[2].plot(range_x, limite_superior_exp.values(), label='fa (EXP)')\n",
    "axs[2].plot(range_x, limite_superior_pwl.values(), label='fp (PWL)')\n",
    "axs[2].plot(range_x, limite_inferior_exp.values(), label='fp (EXP)')\n",
    "axs[2].plot(range_x, limite_inferior_pwl.values(), label='fa (PWL)')\n",
    "axs[2].plot([0.5 for v in limite_superior_pwl.items()], limite_superior_pwl.values())\n",
    "\n",
    "axs[0].legend()\n",
    "axs[1].legend()\n",
    "axs[2].legend()"
   ]
  },
  {
   "cell_type": "markdown",
   "metadata": {},
   "source": [
    "## Função Polinomial"
   ]
  },
  {
   "cell_type": "code",
   "execution_count": null,
   "metadata": {},
   "outputs": [],
   "source": []
  },
  {
   "cell_type": "markdown",
   "metadata": {},
   "source": [
    "##  Buscando c'\n",
    "\n",
    "Foi isolado o $c'$ a fim de obter a relação entre $p'$ e $\\lambda$ que satisfizesse a seguinte relação:\n",
    "\n",
    "$$\n",
    "V(p, c, \\lambda)=V(p', c', \\lambda)\n",
    "$$\n",
    "\n",
    "Então, considerando que:\n",
    "\n",
    "$$\n",
    "V(p, c, \\lambda) = \\frac{-e^{\\lambda c} \\times p}{(1 - e^{\\lambda c} \\times (1-p))}\n",
    "$$\n",
    "\n",
    "Teremos que:\n",
    "\n",
    "$$\n",
    "c' = ln \\left[ \n",
    "\\frac{-e^{\\lambda c} p}{(e^{\\lambda c} p' - p' - e^{\\lambda c}p)}\n",
    "\\right] \\times \\frac{1}{\\lambda}\n",
    "$$\n",
    "\n",
    "Ao utilizar a função de utilidade exponencial para obtenção da política ótima, levamos em consideração que, caso $\\lambda < 0$ o agente está considerando uma atitude propensa ao risco, caso $\\lambda > 0$ o agente está considerando uma atitude aversa ao risco e caso $\\lambda \\rightarrow 0$ o agente é considerando neutro ao risco."
   ]
  },
  {
   "cell_type": "code",
   "execution_count": null,
   "metadata": {
    "ExecuteTime": {
     "end_time": "2023-09-17T19:44:12.177074Z",
     "start_time": "2023-09-17T19:43:39.009Z"
    }
   },
   "outputs": [],
   "source": [
    "p, c, l, p_line = 0.5, 1, 0.1, 0.1\n",
    "\n",
    "c_line_exponential = get_values_c_line_exponential(p, c, l, p_line, rini_k=-0.95, rend_k=1, step_k=0.05, \n",
    "                                rini_p=0.05, rend_p=1, step_p=0.05)\n",
    "\n",
    "f1 = viz_hist_values(c_line_exponential, [v for v in drange(0.05, 1, 0.05)], False)\n",
    "\n",
    "c_exp_max, c_exp_min = get_min_max_c_lines(c_line_exponential)\n",
    "f2 = viz_expressividade(c_line_exponential, range_x, c_exp_max, c_exp_min, c1='green', c2='red')\n",
    "f3 = viz_expressividade_fill(range_x, c_exp_max, c_exp_min, c1='green', c2='red')"
   ]
  },
  {
   "cell_type": "markdown",
   "metadata": {},
   "source": [
    "##  Buscando c'\n",
    "\n",
    "Foi isolado o $c'$ a fim de obter a relação entre $p'$ e $k$ que satisfizesse a seguinte relação:\n",
    "\n",
    "$V(p, c, K, \\gamma)=V(p', c', K, \\gamma)$\n",
    "\n",
    "Então, considerando que:\n",
    "\n",
    "$$\n",
    "V(p, c, k, \\gamma) = \\frac{c \\times (2kp - k + 1)}{(\\gamma - 1) \\times (k + p - 1) + p - \\gamma kp}\n",
    "$$\n",
    "\n",
    "Teremos que:\n",
    "\n",
    "$$\n",
    "c' = \\frac{c (2kp - k + 1)}{(\\gamma - 1) \\times (k + p - 1) + p - \\gamma kp}\n",
    "\\times\n",
    "\\frac{(\\gamma - 1) \\times (k + p' - 1) + p' - \\gamma kp'}{2kp' - k + 1}\n",
    "$$\n",
    "\n",
    "Ao utilizar a função Piecewise-Linear, consideramos que $k < 0$ corresponde a uma atitude propensa ao risco, que um $k > 0$ corresponde a uma atitude aversa ao risco e $k \\rightarrow 0$ a uma atitude neutra ao risco."
   ]
  },
  {
   "cell_type": "code",
   "execution_count": null,
   "metadata": {
    "ExecuteTime": {
     "end_time": "2023-09-17T19:44:12.177574Z",
     "start_time": "2023-09-17T19:43:39.014Z"
    }
   },
   "outputs": [],
   "source": [
    "p, c, l, p_line, gamma = 0.5, 1, 0.1, 0.5, 1\n",
    "\n",
    "c_line_piecewise = get_values_c_line_piecewise(p, c, l, p_line, gamma, rini_k=-1, rend_k=1.05, step_k=0.05, \n",
    "                                rini_p=0.05, rend_p=1, step_p=0.05)\n",
    "\n",
    "f4 = viz_hist_values(c_line_piecewise, range_x, False)\n",
    "\n",
    "c_pw_max, c_pw_min = get_min_max_c_lines(c_line_piecewise)\n",
    "f5 = viz_expressividade(c_line_piecewise, range_x, c_pw_max, c_pw_min, c1='blue', c2='orange')\n",
    "f6 = viz_expressividade_fill(range_x, c_pw_max, c_pw_min, c1='blue', c2='orange')"
   ]
  },
  {
   "cell_type": "markdown",
   "metadata": {},
   "source": [
    "## Exponential & Piecewise\n",
    "\n",
    "Em termos de atitude de risco do agente, avaliamos a priori que:\n",
    "\n",
    "|Fator de Risco ($\\lambda$)|Fator de Risco ($k$)|Atitude|\n",
    "|--|--|--|\n",
    "|$\\lambda > 0$|$k > 0$|Aversão|\n",
    "|$\\lambda \\rightarrow 0$|$k \\rightarrow 0$|Neutro|\n",
    "|$\\lambda < 0$|$k < 0$|Propensão|\n",
    "\n",
    "Desta forma, em termos de expressividade ($\\zeta$), podemos dizer que o método Piecewise-Linear é mais expressivo que a função de utilidade exponencial $\\zeta_{PWL}>\\zeta_{EXP}$. \n",
    "\n",
    "Podemos considerar considerando $u(p)$ a função de utilidade exponencial que corresponde aos custos relacionados a uma probabilidade $p$ a partir do método, sendo $u_{max}(p)$ a função com valores máximos de expressividade $\\zeta$ e $u_{min}(p)$ a função com valores mínimos de expressividade $\\zeta$. Neste mesmo sentido, considerando $l(p)$ a transformação piecewise-linear, enquanto $l_{max}(p)$ a função com valores máximos de expressividade $\\zeta$ e $l_{min}(p)$ a função com valores mínimos de expressividade $\\zeta$.\n",
    "\n",
    "Com isto, podemos formular que:\n",
    "\n",
    "$$\n",
    "\\zeta_{EXP} = \\int u_{max}(p) - u_{min}(p) du\n",
    "$$\n",
    "\n",
    "$$\n",
    "\\zeta_{PWL} = \\int l_{max}(p) - l_{min}(p) dl\n",
    "$$\n",
    "\n",
    "Visto que, para todo $0 < p \\leq 1$ temos que $u_{max}(p) \\geq u_{min}(p)$ e $l_{max}(p) \\geq l_{min}(p)$."
   ]
  },
  {
   "cell_type": "code",
   "execution_count": null,
   "metadata": {
    "ExecuteTime": {
     "end_time": "2023-09-17T19:44:12.178073Z",
     "start_time": "2023-09-17T19:43:39.016Z"
    }
   },
   "outputs": [],
   "source": [
    "f5 = viz_expressividade_compare(c_exp_max, c_pw_max, c_exp_min, c_pw_min, 'EXP', 'PWL', rini_p=0.05, rend_p=1, step_p=0.05)"
   ]
  },
  {
   "cell_type": "markdown",
   "metadata": {},
   "source": [
    "_Em termos da área de expressividade $\\zeta$ para cada método, podemos dizer que há $ \\lambda^* = \\{ \\lambda \\in [-1, 1] | u_{max}(p) \\leq x \\leq u_{min}(p) \\}$ e que $\\lambda^*$ irá gerar uma política ótima $\\pi^*$ caso não haja nenhum outro $\\lambda' = \\lambda^*$ mas com $c' \\leq c^*$. A mesma propriedade pode ser observada para o método piecewise-linear._\n",
    "\n",
    "Com relação a pontos específicos de custo ($c'$) e probabilidade ($p'$), observamos que há sempre uma relação de maior expressividade do piecewise-linear com relação a utilidade exponencial para os valores mínimos $\\zeta_{PWL, min} \\geq \\zeta_{EXP, min}$.\n",
    "\n",
    "A mesma relação não é observada totalmente para os valores máximos, visto que há um intervalo de valores de $p'$ próximo de $p'=0.8$ em que $\\zeta_{EXP, max} \\geq \\zeta_{PWL, max}$. Porém, em todos os outros pontos podemos observar a mesma relação de expressividade que nos valores mínimos.\n",
    "\n",
    "Com isto, podemos concluir que há maior expressividade para $\\zeta_{PWL}$."
   ]
  },
  {
   "cell_type": "code",
   "execution_count": null,
   "metadata": {
    "ExecuteTime": {
     "end_time": "2023-09-17T19:44:12.179074Z",
     "start_time": "2023-09-17T19:43:39.018Z"
    }
   },
   "outputs": [],
   "source": [
    "[(np.round(c_exp_min[i], 4) >= np.round(c_pw_min[i], 4), range_x[i]) for i in range(len(c_exp_min))]"
   ]
  },
  {
   "cell_type": "code",
   "execution_count": null,
   "metadata": {
    "ExecuteTime": {
     "end_time": "2023-09-17T19:44:12.179574Z",
     "start_time": "2023-09-17T19:43:39.019Z"
    }
   },
   "outputs": [],
   "source": [
    "[(np.round(c_exp_max[i], 4) <= np.round(c_pw_max[i], 4), range_x[i]) for i in range(len(c_exp_max))]"
   ]
  },
  {
   "cell_type": "code",
   "execution_count": null,
   "metadata": {
    "ExecuteTime": {
     "end_time": "2023-09-17T19:44:12.180574Z",
     "start_time": "2023-09-17T19:43:39.020Z"
    },
    "code_folding": [
     2
    ]
   },
   "outputs": [],
   "source": [
    "from shapely.geometry import Polygon\n",
    "\n",
    "def calculate_integral_between_curves(c_max, c_min):\n",
    "    range_x = [v for v in drange(0.05, 1, 0.05)]\n",
    "    x_y_curve1 = [(range_x[i], c_max[i]) for i in range(len(c_max))]\n",
    "    x_y_curve2 = [(range_x[i], c_min[i]) for i in range(len(c_min))]\n",
    "\n",
    "    polygon_points = []\n",
    "\n",
    "    #append all xy points for curve 1\n",
    "    for xyvalue in x_y_curve1:\n",
    "        polygon_points.append([xyvalue[0],xyvalue[1]]) \n",
    "\n",
    "    #append all xy points for curve 2 in the reverse order (from last point to first point)\n",
    "    for xyvalue in x_y_curve2[::-1]:\n",
    "        polygon_points.append([xyvalue[0],xyvalue[1]]) \n",
    "\n",
    "    #append the first point in curve 1 again, to it \"closes\" the polygon\n",
    "    for xyvalue in x_y_curve1[0:1]:\n",
    "        polygon_points.append([xyvalue[0],xyvalue[1]]) \n",
    "\n",
    "    polygon = Polygon(polygon_points)\n",
    "    area = polygon.area\n",
    "    return area"
   ]
  },
  {
   "cell_type": "code",
   "execution_count": null,
   "metadata": {
    "ExecuteTime": {
     "end_time": "2023-09-17T19:44:12.181074Z",
     "start_time": "2023-09-17T19:43:39.021Z"
    }
   },
   "outputs": [],
   "source": [
    "area_exp = calculate_integral_between_curves(c_exp_max, c_exp_min)\n",
    "area_pwl = calculate_integral_between_curves(c_pw_max, c_pw_min)\n",
    "\n",
    "print(f'Área para EXP: {area_exp}')\n",
    "print(f'Área para PWL: {area_pwl}')"
   ]
  },
  {
   "cell_type": "markdown",
   "metadata": {},
   "source": [
    "## Extrapolação - Exponential"
   ]
  },
  {
   "cell_type": "code",
   "execution_count": null,
   "metadata": {
    "ExecuteTime": {
     "end_time": "2023-09-17T19:44:12.181574Z",
     "start_time": "2023-09-17T19:43:39.025Z"
    }
   },
   "outputs": [],
   "source": [
    "p, c, l, p_line = 0.5, 1, 0.1, 0.1\n",
    "\n",
    "c_line_exponential = get_values_c_line_exponential(p, c, l, p_line, rini_k=-0.95, rend_k=1, step_k=0.05, \n",
    "                                rini_p=0.05, rend_p=1, step_p=0.05, extrapolate=True)\n",
    "\n",
    "f6 = viz_hist_values(c_line_exponential, [v for v in drange(0.05, 1, 0.05)], False)\n",
    "\n",
    "c_exp_max, c_exp_min = get_min_max_c_lines(c_line_exponential)\n",
    "f7 = viz_expressividade(c_line_exponential, range_x, c_exp_max, c_exp_min, c1='green', c2='red')\n",
    "f8 = viz_expressividade_fill(range_x, c_exp_max, c_exp_min, c1='green', c2='red')"
   ]
  },
  {
   "cell_type": "code",
   "execution_count": null,
   "metadata": {
    "ExecuteTime": {
     "end_time": "2023-09-17T19:44:12.182575Z",
     "start_time": "2023-09-17T19:43:39.026Z"
    }
   },
   "outputs": [],
   "source": [
    "f9 = viz_expressividade_compare(c_exp_max, c_pw_max, c_exp_min, c_pw_min, 'EXP', 'PWL', rini_p=0.05, rend_p=1, step_p=0.05)"
   ]
  },
  {
   "cell_type": "code",
   "execution_count": null,
   "metadata": {},
   "outputs": [],
   "source": []
  },
  {
   "cell_type": "markdown",
   "metadata": {},
   "source": [
    "# Certainty Equivalent"
   ]
  },
  {
   "cell_type": "markdown",
   "metadata": {},
   "source": [
    "## Exponential"
   ]
  },
  {
   "cell_type": "code",
   "execution_count": null,
   "metadata": {
    "ExecuteTime": {
     "end_time": "2023-09-17T19:44:12.183075Z",
     "start_time": "2023-09-17T19:43:39.028Z"
    }
   },
   "outputs": [],
   "source": [
    "def certainty_equivalent_exp(p, c, l):\n",
    "    return np.log(-p / (1 - 1/np.exp(l * c) - p)) * 1/l"
   ]
  },
  {
   "cell_type": "code",
   "execution_count": null,
   "metadata": {
    "ExecuteTime": {
     "end_time": "2023-09-17T19:44:12.183576Z",
     "start_time": "2023-09-17T19:43:39.029Z"
    }
   },
   "outputs": [],
   "source": [
    "p, c, l = 0.5, 1, 0.1\n",
    "\n",
    "print('Certaint Equivalent:', certainty_equivalent_exp(p, c, l))\n",
    "print('p\\' = 1: ', c_line_exp(p, c, l, 1))"
   ]
  },
  {
   "cell_type": "markdown",
   "metadata": {},
   "source": [
    "## Piecewise-Linear"
   ]
  },
  {
   "cell_type": "code",
   "execution_count": null,
   "metadata": {
    "ExecuteTime": {
     "end_time": "2023-09-17T19:44:12.184576Z",
     "start_time": "2023-09-17T19:43:39.030Z"
    }
   },
   "outputs": [],
   "source": [
    "def certainty_equivalent_pwl(p, c, k, gamma):\n",
    "    return ((c * (2 * k * p - k + 1)) / ((gamma - 1) * (k + p - 1) + p - gamma * k * p)) * ((-k + 1) / (k + 1))"
   ]
  },
  {
   "cell_type": "code",
   "execution_count": null,
   "metadata": {
    "ExecuteTime": {
     "end_time": "2023-09-17T19:44:12.185076Z",
     "start_time": "2023-09-17T19:43:39.031Z"
    }
   },
   "outputs": [],
   "source": [
    "p, c, k, gamma = 0.5, 1, 0.1, 1\n",
    "\n",
    "print('Certaint Equivalent:', certainty_equivalent_pwl(p, c, k, gamma))\n",
    "print('p\\' = 1: ', c_line_k(p, c, k, 1, gamma, alpha))"
   ]
  }
 ],
 "metadata": {
  "hide_input": false,
  "kernelspec": {
   "display_name": "Python 3",
   "language": "python",
   "name": "python3"
  },
  "language_info": {
   "codemirror_mode": {
    "name": "ipython",
    "version": 3
   },
   "file_extension": ".py",
   "mimetype": "text/x-python",
   "name": "python",
   "nbconvert_exporter": "python",
   "pygments_lexer": "ipython3",
   "version": "3.8.5"
  },
  "toc": {
   "base_numbering": 1,
   "nav_menu": {},
   "number_sections": true,
   "sideBar": true,
   "skip_h1_title": false,
   "title_cell": "Table of Contents",
   "title_sidebar": "Contents",
   "toc_cell": false,
   "toc_position": {},
   "toc_section_display": true,
   "toc_window_display": false
  }
 },
 "nbformat": 4,
 "nbformat_minor": 4
}
