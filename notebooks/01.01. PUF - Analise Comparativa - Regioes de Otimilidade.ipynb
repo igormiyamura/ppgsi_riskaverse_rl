{
 "cells": [
  {
   "cell_type": "code",
   "execution_count": 9,
   "metadata": {
    "ExecuteTime": {
     "end_time": "2023-10-27T11:36:59.095888Z",
     "start_time": "2023-10-27T11:36:58.975368Z"
    },
    "code_folding": []
   },
   "outputs": [
    {
     "name": "stdout",
     "output_type": "stream",
     "text": [
      "The autoreload extension is already loaded. To reload it, use:\n",
      "  %reload_ext autoreload\n"
     ]
    }
   ],
   "source": [
    "# -- Bibliotecas\n",
    "# --------------\n",
    "import sys, numpy as np\n",
    "import matplotlib.pyplot as plt\n",
    "import plotly.graph_objects as go\n",
    "import mpmath\n",
    "sys.path.append('../')\n",
    "\n",
    "# Ambiente\n",
    "from env.SimpleMDP import SimpleMDP\n",
    "\n",
    "from models.LinearUtility_RSVI import LinearUtility_RSVI\n",
    "from models.QuadraticUtility_RSVI import QuadraticUtility_RSVI\n",
    "\n",
    "# Utils\n",
    "import rl_utils.NBPlotting as nbp\n",
    "import rl_utils.NBManipulation as nbm\n",
    "import rl_utils.NBEvaluations as nbe\n",
    "\n",
    "%load_ext autoreload\n",
    "%autoreload 2"
   ]
  },
  {
   "cell_type": "markdown",
   "metadata": {},
   "source": [
    "# Problema Simples - MDP"
   ]
  },
  {
   "cell_type": "code",
   "execution_count": 2,
   "metadata": {
    "ExecuteTime": {
     "end_time": "2023-10-27T11:28:16.293220Z",
     "start_time": "2023-10-27T11:28:16.179551Z"
    },
    "code_folding": []
   },
   "outputs": [],
   "source": [
    "# Configurações do ambiente\n",
    "states, actions = 1, 1\n",
    "epsilon = 0.000001\n",
    "\n",
    "s_mdp = SimpleMDP(num_states = states, \n",
    "                  num_actions = actions, \n",
    "                  _fixed_probability = 0.5, \n",
    "                  _float_probability = 0.1)\n",
    "\n",
    "T = s_mdp.build_transition_probabilities()\n",
    "C = {}\n",
    "for a in range(0, actions):\n",
    "    C[a] = a + 1\n",
    "    \n",
    "config_reduzida = False\n",
    "\n",
    "# Configurações de processamento\n",
    "run_neutral_vi = True\n",
    "run_neutral_pi = True\n",
    "run_EUF_RSVI = True\n",
    "run_EUF_RSPI = True\n",
    "run_PWL_RSVI = True\n",
    "\n",
    "# Configurações dos modelos\n",
    "discount_factor = 0.999\n",
    "\n",
    "rini_p = 0.05\n",
    "rend_p = 1\n",
    "step_p = 0.05\n",
    "range_x = np.arange(rini_p, rend_p, step_p)"
   ]
  },
  {
   "cell_type": "markdown",
   "metadata": {
    "heading_collapsed": true,
    "jp-MarkdownHeadingCollapsed": true
   },
   "source": [
    "## Linear - Polynomial Utility Function"
   ]
  },
  {
   "cell_type": "code",
   "execution_count": 3,
   "metadata": {
    "ExecuteTime": {
     "end_time": "2023-10-22T22:48:56.815822Z",
     "start_time": "2023-10-22T22:48:56.616866Z"
    },
    "hidden": true
   },
   "outputs": [
    {
     "name": "stdout",
     "output_type": "stream",
     "text": [
      "Processando: Slope [0.5]\r"
     ]
    },
    {
     "name": "stderr",
     "output_type": "stream",
     "text": [
      "..\\services\\ErrorMetrics.py:18: RuntimeWarning: invalid value encountered in double_scalars\n",
      "  residual.append(abs((V1[i] - V2[i])/V2[i]))\n"
     ]
    },
    {
     "data": {
      "text/plain": [
       "dict_keys([0.5])"
      ]
     },
     "metadata": {},
     "output_type": "display_data"
    },
    {
     "data": {
      "text/html": [
       "<div>\n",
       "<style scoped>\n",
       "    .dataframe tbody tr th:only-of-type {\n",
       "        vertical-align: middle;\n",
       "    }\n",
       "\n",
       "    .dataframe tbody tr th {\n",
       "        vertical-align: top;\n",
       "    }\n",
       "\n",
       "    .dataframe thead th {\n",
       "        text-align: right;\n",
       "    }\n",
       "</style>\n",
       "<table border=\"1\" class=\"dataframe\">\n",
       "  <thead>\n",
       "    <tr style=\"text-align: right;\">\n",
       "      <th></th>\n",
       "      <th>0</th>\n",
       "      <th>sG</th>\n",
       "    </tr>\n",
       "  </thead>\n",
       "  <tbody>\n",
       "    <tr>\n",
       "      <th>Policy 0.5</th>\n",
       "      <td>0</td>\n",
       "      <td>0</td>\n",
       "    </tr>\n",
       "  </tbody>\n",
       "</table>\n",
       "</div>"
      ],
      "text/plain": [
       "            0  sG\n",
       "Policy 0.5  0   0"
      ]
     },
     "metadata": {},
     "output_type": "display_data"
    }
   ],
   "source": [
    "LinearUF_RSVI = {}\n",
    "    \n",
    "# range_lambda = [np.round(-0.5 + 0.5*i/10, 2) for i in range(0, 20)] \n",
    "range_slope = [0.5]\n",
    "\n",
    "for vl_slope in range_slope:\n",
    "    print(f'Processando: Slope [{vl_slope}]', end='\\r')\n",
    "    LinearUF_RSVI[vl_slope] = \\\n",
    "        nbe.run_driving_license(s_mdp, T, C, actions, model=LinearUtility_RSVI, model_name='LinearUF_RSVI',\n",
    "        vl_slope=vl_slope, epsilon=epsilon, _log=False)\n",
    "\n",
    "display(LinearUF_RSVI.keys())\n",
    "\n",
    "df_LinearUF_RSVI = nbm.build_dataframe_driver_license(LinearUF_RSVI)\n",
    "display(df_LinearUF_RSVI)"
   ]
  },
  {
   "cell_type": "code",
   "execution_count": 4,
   "metadata": {
    "ExecuteTime": {
     "end_time": "2023-10-22T22:48:56.924341Z",
     "start_time": "2023-10-22T22:48:56.817324Z"
    },
    "hidden": true
   },
   "outputs": [
    {
     "data": {
      "text/plain": [
       "[0.5,\n",
       " 0.75,\n",
       " 0.875,\n",
       " 0.9375,\n",
       " 0.96875,\n",
       " 0.984375,\n",
       " 0.9921875,\n",
       " 0.99609375,\n",
       " 0.998046875,\n",
       " 0.9990234375,\n",
       " 0.99951171875,\n",
       " 0.999755859375,\n",
       " 0.9998779296875,\n",
       " 0.99993896484375,\n",
       " 0.999969482421875,\n",
       " 0.9999847412109375,\n",
       " 0.9999923706054688,\n",
       " 0.9999961853027344,\n",
       " 0.9999980926513672,\n",
       " 0.9999990463256836]"
      ]
     },
     "execution_count": 4,
     "metadata": {},
     "output_type": "execute_result"
    }
   ],
   "source": [
    "LinearUF_RSVI[0.5]._policy_value[0][0]"
   ]
  },
  {
   "cell_type": "markdown",
   "metadata": {
    "heading_collapsed": true,
    "jp-MarkdownHeadingCollapsed": true
   },
   "source": [
    "## Quadratic - Polynomial Utility Function"
   ]
  },
  {
   "cell_type": "code",
   "execution_count": 5,
   "metadata": {
    "ExecuteTime": {
     "end_time": "2023-10-22T22:48:57.032861Z",
     "start_time": "2023-10-22T22:48:56.925341Z"
    },
    "hidden": true
   },
   "outputs": [
    {
     "name": "stdout",
     "output_type": "stream",
     "text": [
      "Processando: Slope1 [0.5] | Slope2 [0.5]\r"
     ]
    },
    {
     "name": "stderr",
     "output_type": "stream",
     "text": [
      "..\\services\\ErrorMetrics.py:18: RuntimeWarning: invalid value encountered in double_scalars\n",
      "  residual.append(abs((V1[i] - V2[i])/V2[i]))\n"
     ]
    },
    {
     "data": {
      "text/plain": [
       "dict_keys([(0.5, 0.5)])"
      ]
     },
     "metadata": {},
     "output_type": "display_data"
    },
    {
     "data": {
      "text/html": [
       "<div>\n",
       "<style scoped>\n",
       "    .dataframe tbody tr th:only-of-type {\n",
       "        vertical-align: middle;\n",
       "    }\n",
       "\n",
       "    .dataframe tbody tr th {\n",
       "        vertical-align: top;\n",
       "    }\n",
       "\n",
       "    .dataframe thead th {\n",
       "        text-align: right;\n",
       "    }\n",
       "</style>\n",
       "<table border=\"1\" class=\"dataframe\">\n",
       "  <thead>\n",
       "    <tr style=\"text-align: right;\">\n",
       "      <th></th>\n",
       "      <th>0</th>\n",
       "      <th>sG</th>\n",
       "    </tr>\n",
       "  </thead>\n",
       "  <tbody>\n",
       "    <tr>\n",
       "      <th>Policy (0.5, 0.5)</th>\n",
       "      <td>0</td>\n",
       "      <td>0</td>\n",
       "    </tr>\n",
       "  </tbody>\n",
       "</table>\n",
       "</div>"
      ],
      "text/plain": [
       "                   0  sG\n",
       "Policy (0.5, 0.5)  0   0"
      ]
     },
     "metadata": {},
     "output_type": "display_data"
    }
   ],
   "source": [
    "QuadraticUF_RSVI = {}\n",
    "    \n",
    "# range_lambda = [np.round(-0.5 + 0.5*i/10, 2) for i in range(0, 20)] \n",
    "range_slope1 = [0.5]\n",
    "range_slope2 = [0.5]\n",
    "\n",
    "for vl_slope1 in range_slope1:\n",
    "    for vl_slope2 in range_slope2:\n",
    "        print(f'Processando: Slope1 [{vl_slope1}] | Slope2 [{vl_slope2}]', end='\\r')\n",
    "        QuadraticUF_RSVI[(vl_slope1, vl_slope2)] = \\\n",
    "            nbe.run_driving_license(s_mdp, T, C, actions, model=QuadraticUtility_RSVI, model_name='QuadraticUF_RSVI',\n",
    "            vl_slope1=vl_slope1, vl_slope2=vl_slope2, epsilon=epsilon, _log=False)\n",
    "\n",
    "display(QuadraticUF_RSVI.keys())\n",
    "\n",
    "df_QuadraticUF_RSVI = nbm.build_dataframe_driver_license(QuadraticUF_RSVI)\n",
    "display(df_QuadraticUF_RSVI)"
   ]
  },
  {
   "cell_type": "code",
   "execution_count": 6,
   "metadata": {
    "ExecuteTime": {
     "end_time": "2023-10-22T22:48:57.156518Z",
     "start_time": "2023-10-22T22:48:57.034362Z"
    },
    "hidden": true
   },
   "outputs": [
    {
     "data": {
      "text/plain": [
       "[1.0,\n",
       " 1.5,\n",
       " 1.75,\n",
       " 1.875,\n",
       " 1.9375,\n",
       " 1.96875,\n",
       " 1.984375,\n",
       " 1.9921875,\n",
       " 1.99609375,\n",
       " 1.998046875,\n",
       " 1.9990234375,\n",
       " 1.99951171875,\n",
       " 1.999755859375,\n",
       " 1.9998779296875,\n",
       " 1.99993896484375,\n",
       " 1.999969482421875,\n",
       " 1.9999847412109375,\n",
       " 1.9999923706054688,\n",
       " 1.9999961853027344,\n",
       " 1.9999980926513672]"
      ]
     },
     "execution_count": 6,
     "metadata": {},
     "output_type": "execute_result"
    }
   ],
   "source": [
    "QuadraticUF_RSVI[(0.5, 0.5)]._policy_value[0][0]"
   ]
  },
  {
   "cell_type": "markdown",
   "metadata": {},
   "source": [
    "# Quadratic Utility Function"
   ]
  },
  {
   "cell_type": "code",
   "execution_count": 15,
   "metadata": {
    "ExecuteTime": {
     "end_time": "2023-10-27T11:38:27.463087Z",
     "start_time": "2023-10-27T11:38:27.334562Z"
    },
    "code_folding": [
     0,
     14,
     19,
     37,
     47,
     51,
     59,
     81
    ]
   },
   "outputs": [],
   "source": [
    "def _polynomial_sum_prob_converge(p, beta, th):\n",
    "    error, sum_prob = np.inf, 0\n",
    "    t = 1\n",
    "    while (error > th) or (t < 1000):\n",
    "        sum_prob_ant = sum_prob\n",
    "        sum_prob += t**beta * (1 - p)**(t-1)\n",
    "        \n",
    "        error = sum_prob - sum_prob_ant\n",
    "        t += 1\n",
    "        \n",
    "        #print(f'[{t}] Error: [{error}]', end='\\r')\n",
    "        \n",
    "    return sum_prob\n",
    "\n",
    "def polynomial_function(c, p, beta, th=0.1, _log=False):\n",
    "    sum_prob = _polynomial_sum_prob_converge(p, beta, th)\n",
    "        \n",
    "    return c**beta * p * sum_prob\n",
    "\n",
    "def _cost_polynomial_function(c, p, p_line, beta, th=0.1, _log=False):\n",
    "    sum_prob_p = _polynomial_sum_prob_converge(p, beta, th)\n",
    "    sum_prob_pline = _polynomial_sum_prob_converge(p_line, beta, th)\n",
    "    \n",
    "    value = (c**beta * p * sum_prob_p) / (p_line * sum_prob_pline)\n",
    "    \n",
    "    if _log: \n",
    "        print(f\"\"\"\n",
    "          Cost PF - p: {p} | \n",
    "          c: {c} | \n",
    "          p\\': {p_line} | \n",
    "          Numerador: {round((c**beta * p * sum_prob_p), 2)} | \n",
    "          Denominador: {round((p_line * sum_prob_pline), 2)} | \n",
    "          Value: {round(value, 2)} | \n",
    "          C\\': {round(np.power(value, 1/beta), 2)}\"\"\")\n",
    "    \n",
    "    return np.round(np.power(value, 1/beta), 4)\n",
    "\n",
    "def value_function_quf(p, c, beta=2):\n",
    "    if beta == 1:\n",
    "        return 1\n",
    "    elif beta == 1:\n",
    "        return (c/p)\n",
    "    elif beta == 2:\n",
    "        return (c**beta * (2 - p)) / (p**beta)\n",
    "    elif beta == 3:\n",
    "        return (c**beta * (p**2 - 6*p + 6)) / (p**beta)\n",
    "\n",
    "def _func_beta_10(p):\n",
    "    return -p**9 + 1022*p**8 - 55980*p**7 + 818520*p**6 - 5103000*p**5 + 16435440*p**4 - \\\n",
    "        29635200*p**3 + 30240000*p**2 - 16329600*p + 3628800\n",
    "\n",
    "def _func_beta_20(p):\n",
    "    return (-p**19 + 1048574*p**18 - 3483638676*p**17 + 1085570781624*p**16 - 89904730860000*p**15 + \\\n",
    "                   3100376804676480*p**14 - 56163512390086080*p**13 + 611692004959217280*p**12 - 4358654246117808000*p**11 + \\\n",
    "                   21473732319740064000*p**10 - 75875547089306764800*p**9 + 196877625020902425600*p**8 - \\\n",
    "                   380275818414395904000*p**7 + 549443323130397696000*p**6 - 591499300737945600000*p**5 + \\\n",
    "                   467644314338353152000*p**4 - 263665755136143360000*p**3 + 100357207837286400000*p**2 - \\\n",
    "                   23112569077678080000*p + 2432902008176640000)\n",
    "    \n",
    "def quf(p, c, p_line, beta=2):\n",
    "    if beta == 0:\n",
    "        return 1\n",
    "    elif beta == 0.1:\n",
    "        v = (np.power(c, beta) * p * mpmath.polylog((1-p), -beta) * (1 - p_line)) / ((1 - p) * p_line * mpmath.polylog((1-p_line), -beta))\n",
    "        return np.power(v, 1/beta)\n",
    "    elif beta == 1:\n",
    "        return c * p_line / p #(c * (1 - p) * p_line) / (p * (1 - p_line))\n",
    "    elif beta == 2:\n",
    "        return np.sqrt((c**2 * p_line**2 * (2 - p)) / (p**2 * (2 - p_line)))\n",
    "    elif beta == 3:\n",
    "        eq_p = (p**2 - 6*p + 6)\n",
    "        eq_p_line = (p_line**2 - 6*p_line + 6)\n",
    "        v = (c**3 * eq_p * p_line**3) / (p**3 * eq_p_line)\n",
    "        return np.power(v, 1/beta)\n",
    "    elif beta == 10:\n",
    "        v = (c**beta * p_line**beta * _func_beta_10(p)) / (p**beta * _func_beta_10(p_line))\n",
    "        return np.power(v, 1/beta)\n",
    "    elif beta == 20:\n",
    "        v = (c**beta * p_line**beta * _func_beta_20(p)) / (p**beta * _func_beta_20(p_line))\n",
    "        return np.power(v, 1/beta)\n",
    "\n",
    "def captura_limite_empirico_quf(range_beta, p, c, p_line, tipo_limite, _plot=False):\n",
    "    res = {}\n",
    "    \n",
    "    for beta in range_beta:\n",
    "        res[round(beta, 2)] = quf(p, c, p_line, beta)\n",
    "        \n",
    "    if _plot: plt.plot(res.keys(), [v[1] for v in res.items()])\n",
    "        \n",
    "    aproximacao_limite = res[next(iter(res))] if tipo_limite == 'Inferior' else res[next(reversed(res))]\n",
    "    return res, aproximacao_limite\n",
    "\n",
    "def get_cost_limit_polynomial_utility_function(c, p, beta, _log=False):\n",
    "\n",
    "    res_vetor_puf = {}\n",
    "    res_quf = {}\n",
    "\n",
    "    _sanidade_puf = {}\n",
    "\n",
    "    for p_line in range_x:\n",
    "        _sanidade_puf[round(p_line, 2)] = _cost_polynomial_function(c, p, p_line, beta, th=0.0001, _log=False)\n",
    "\n",
    "        p_line = round(p_line, 2)\n",
    "        res_vetor_puf[p_line], res_quf[p_line] = \\\n",
    "            captura_limite_empirico_quf([beta], p, c, p_line, tipo_limite='Inferior')\n",
    "\n",
    "        if _log: print(f'Limite [Inferior] para p=[{p_line}] tende a: {np.round(res_quf[p_line], 2)}')\n",
    "\n",
    "    if _log: print()\n",
    "    if _log: print(_sanidade_puf)\n",
    "    \n",
    "    return _sanidade_puf, res_vetor_puf, res_quf"
   ]
  },
  {
   "cell_type": "code",
   "execution_count": 20,
   "metadata": {
    "ExecuteTime": {
     "end_time": "2023-10-27T11:39:01.587614Z",
     "start_time": "2023-10-27T11:39:01.153539Z"
    }
   },
   "outputs": [],
   "source": [
    "p, c = 0.5, 1\n",
    "_sanidade_quf_01, limite_inferior_vetor_quf_01, limite_inferior_quf_01 = \\\n",
    "    get_cost_limit_polynomial_utility_function(c, p, 0.1)\n",
    "\n",
    "_sanidade_quf_1, limite_inferior_vetor_quf_1, limite_inferior_quf_1 = \\\n",
    "    get_cost_limit_polynomial_utility_function(c, p, 1)\n",
    "\n",
    "_sanidade_quf_2, limite_inferior_vetor_quf_2, limite_inferior_quf_2 = \\\n",
    "    get_cost_limit_polynomial_utility_function(c, p, 2)\n",
    "\n",
    "_sanidade_quf_3, limite_superior_vetor_quf_3, limite_superior_quf_3 = \\\n",
    "    get_cost_limit_polynomial_utility_function(c, p, 3)\n",
    "\n",
    "_sanidade_quf_10, limite_superior_vetor_quf_10, limite_superior_quf_10 = \\\n",
    "    get_cost_limit_polynomial_utility_function(c, p, 10)\n",
    "\n",
    "_sanidade_quf_20, limite_superior_vetor_quf_20, limite_superior_quf_20 = \\\n",
    "    get_cost_limit_polynomial_utility_function(c, p, 20)"
   ]
  },
  {
   "cell_type": "markdown",
   "metadata": {},
   "source": [
    "## Matplotlib"
   ]
  },
  {
   "cell_type": "code",
   "execution_count": 23,
   "metadata": {
    "ExecuteTime": {
     "end_time": "2023-10-27T11:39:27.025070Z",
     "start_time": "2023-10-27T11:39:26.718517Z"
    }
   },
   "outputs": [
    {
     "data": {
      "text/plain": [
       "<matplotlib.legend.Legend at 0x1eb582816d0>"
      ]
     },
     "execution_count": 23,
     "metadata": {},
     "output_type": "execute_result"
    },
    {
     "data": {
      "image/png": "[encoded data removed]",
      "text/plain": [
       "<Figure size 432x288 with 1 Axes>"
      ]
     },
     "metadata": {
      "needs_background": "light"
     },
     "output_type": "display_data"
    }
   ],
   "source": [
    "# plt.plot(range_x, limite_inferior_quf_0.values(), label=\"beta=0\")\n",
    "plt.plot(range_x[:10], [v for v in _sanidade_quf_01.values() if v <= 1], label=\"beta=0.1\") \n",
    "plt.plot(range_x[:10], [v for v in limite_inferior_quf_1.values() if v <= 1], label=\"beta=1\") \n",
    "plt.plot(range_x[:10], [v for v in limite_inferior_quf_2.values() if v <= 1], label=\"beta=2\") \n",
    "plt.plot(range_x[:10], [v for v in limite_superior_quf_3.values() if v <= 1], label=\"beta=3\") \n",
    "plt.plot(range_x[:10], [v for v in limite_superior_quf_10.values() if v <= 1], label=\"beta=10\")\n",
    "plt.plot(range_x[:10], [v for v in limite_superior_quf_20.values() if v <= 1], label=\"beta=20\") \n",
    "\n",
    "plt.legend(loc=\"upper left\")"
   ]
  },
  {
   "cell_type": "code",
   "execution_count": 24,
   "metadata": {
    "ExecuteTime": {
     "end_time": "2023-10-27T11:39:31.964065Z",
     "start_time": "2023-10-27T11:39:31.671014Z"
    }
   },
   "outputs": [
    {
     "data": {
      "text/plain": [
       "<matplotlib.legend.Legend at 0x1eb5dd75d90>"
      ]
     },
     "execution_count": 24,
     "metadata": {},
     "output_type": "execute_result"
    },
    {
     "data": {
      "image/png": "[encoded data removed]",
      "text/plain": [
       "<Figure size 432x288 with 1 Axes>"
      ]
     },
     "metadata": {
      "needs_background": "light"
     },
     "output_type": "display_data"
    }
   ],
   "source": [
    "# plt.plot(range_x, limite_inferior_quf_0.values(), label=\"beta=0\")\n",
    "plt.plot(range_x[10:], [v for v in _sanidade_quf_01.values() if v > 1], label=\"beta=0.1\") \n",
    "plt.plot(range_x[10:], [v for v in limite_inferior_quf_1.values() if v > 1], label=\"beta=1\") \n",
    "plt.plot(range_x[10:], [v for v in limite_inferior_quf_2.values() if v > 1], label=\"beta=2\") \n",
    "plt.plot(range_x[10:], [v for v in limite_superior_quf_3.values() if v > 1], label=\"beta=3\") \n",
    "plt.plot(range_x[10:], [v for v in limite_superior_quf_10.values() if v > 1], label=\"beta=10\") \n",
    "plt.plot(range_x[10:], [v for v in limite_superior_quf_20.values() if v > 1], label=\"beta=20\")\n",
    "\n",
    "plt.legend(loc=\"upper left\")"
   ]
  },
  {
   "cell_type": "markdown",
   "metadata": {},
   "source": [
    "## Plotly"
   ]
  },
  {
   "cell_type": "code",
   "execution_count": 25,
   "metadata": {
    "ExecuteTime": {
     "end_time": "2023-10-27T11:39:37.810035Z",
     "start_time": "2023-10-27T11:39:37.676512Z"
    }
   },
   "outputs": [
    {
     "data": {
      "application/vnd.plotly.v1+json": {
       "config": {
        "plotlyServerURL": "https://plot.ly"
       },
       "data": [
        {
         "mode": "lines",
         "name": "beta=0.01",
         "type": "scatter",
         "x": [
          0.05,
          0.1,
          0.15000000000000002,
          0.2,
          0.25,
          0.3,
          0.35000000000000003,
          0.4,
          0.45,
          0.5,
          0.55,
          0.6000000000000001,
          0.6500000000000001,
          0.7000000000000001,
          0.7500000000000001,
          0.8,
          0.8500000000000001,
          0.9000000000000001,
          0.9500000000000001
         ],
         "y": [
          0.1304,
          0.2493,
          0.3601,
          0.4646,
          0.5637,
          0.6582,
          0.7486,
          0.8355,
          0.9192,
          1,
          1.0781,
          1.1538,
          1.2273,
          1.2986,
          1.368,
          1.4356,
          1.5015,
          1.5657,
          1.6285
         ]
        },
        {
         "mode": "lines",
         "name": "beta=1",
         "type": "scatter",
         "x": [
          0.05,
          0.1,
          0.15000000000000002,
          0.2,
          0.25,
          0.3,
          0.35000000000000003,
          0.4,
          0.45,
          0.5,
          0.55,
          0.6000000000000001,
          0.6500000000000001,
          0.7000000000000001,
          0.7500000000000001,
          0.8,
          0.8500000000000001,
          0.9000000000000001,
          0.9500000000000001
         ],
         "y": [
          0.1,
          0.2,
          0.3,
          0.4,
          0.5,
          0.6,
          0.7,
          0.8,
          0.9,
          1,
          1.1,
          1.2,
          1.3,
          1.4,
          1.5,
          1.6,
          1.7,
          1.8,
          1.9
         ]
        },
        {
         "mode": "lines",
         "name": "beta=2",
         "type": "scatter",
         "x": [
          0.05,
          0.1,
          0.15000000000000002,
          0.2,
          0.25,
          0.3,
          0.35000000000000003,
          0.4,
          0.45,
          0.5,
          0.55,
          0.6000000000000001,
          0.6500000000000001,
          0.7000000000000001,
          0.7500000000000001,
          0.8,
          0.8500000000000001,
          0.9000000000000001,
          0.9500000000000001
         ],
         "y": [
          0.08770580193070293,
          0.17770466332772772,
          0.2701351013344489,
          0.36514837167011077,
          0.4629100498862757,
          0.5636018619766345,
          0.6674238124719145,
          0.7745966692414834,
          0.8853648783083365,
          1,
          1.1188047809743373,
          1.2421180068162376,
          1.3703203194062976,
          1.5038412354828088,
          1.6431676725154984,
          1.788854381999832,
          1.9415368184485464,
          2.101947149236112,
          2.2709343577353476
         ]
        },
        {
         "mode": "lines",
         "name": "beta=3",
         "type": "scatter",
         "x": [
          0.05,
          0.1,
          0.15000000000000002,
          0.2,
          0.25,
          0.3,
          0.35000000000000003,
          0.4,
          0.45,
          0.5,
          0.55,
          0.6000000000000001,
          0.6500000000000001,
          0.7000000000000001,
          0.7500000000000001,
          0.8,
          0.8500000000000001,
          0.9000000000000001,
          0.9500000000000001
         ],
         "y": [
          0.08290982955780818,
          0.1687557946296438,
          0.2577834624597195,
          0.3502724589001353,
          0.4465432190870175,
          0.5469655075928689,
          0.6519692949585251,
          0.7620588172103292,
          0.8778310030750414,
          1,
          1.129430383532314,
          1.2671830030591746,
          1.4145796768892098,
          1.5732968092702901,
          1.7455048517697882,
          1.9340832420311196,
          2.1429653054378215,
          2.37771932683991,
          2.6465881254299193
         ]
        },
        {
         "mode": "lines",
         "name": "beta=10",
         "type": "scatter",
         "x": [
          0.05,
          0.1,
          0.15000000000000002,
          0.2,
          0.25,
          0.3,
          0.35000000000000003,
          0.4,
          0.45,
          0.5,
          0.55,
          0.6000000000000001,
          0.6500000000000001,
          0.7000000000000001,
          0.7500000000000001,
          0.8,
          0.8500000000000001,
          0.9000000000000001,
          0.9500000000000001
         ],
         "y": [
          0.07656565557683012,
          0.15684183690242592,
          0.2412232185579277,
          0.33017240000211956,
          0.4242366619132689,
          0.5240702819474781,
          0.6304647984371603,
          0.7443909082206801,
          0.8670578608221226,
          1,
          1.1452069955207536,
          1.3053275076004722,
          1.4840029183753163,
          1.6864468552671952,
          1.920529013781016,
          2.199012262232521,
          2.5448576625374764,
          3.006799990859741,
          3.727021702344829
         ]
        },
        {
         "mode": "lines",
         "name": "beta=20",
         "type": "scatter",
         "x": [
          0.05,
          0.1,
          0.15000000000000002,
          0.2,
          0.25,
          0.3,
          0.35000000000000003,
          0.4,
          0.45,
          0.5,
          0.55,
          0.6000000000000001,
          0.6500000000000001,
          0.7000000000000001,
          0.7500000000000001,
          0.8,
          0.8500000000000001,
          0.9000000000000001,
          0.9500000000000001
         ],
         "y": [
          0.07527219294891623,
          0.15440351158861904,
          0.23782023278648495,
          0.326024188853563,
          0.4196118721673683,
          0.5193000171085135,
          0.6259604972986758,
          0.7406689462719108,
          0.8647741610774343,
          1,
          1.1486000180431035,
          1.3136015777766408,
          1.4992101278715733,
          1.7115198387948432,
          1.9598617304947221,
          2.2596345425246933,
          2.6391642581795,
          3.1604404047968533,
          4.013481734911854
         ]
        }
       ],
       "layout": {
        "showlegend": true,
        "template": {
         "data": {
          "bar": [
           {
            "error_x": {
             "color": "#2a3f5f"
            },
            "error_y": {
             "color": "#2a3f5f"
            },
            "marker": {
             "line": {
              "color": "#E5ECF6",
              "width": 0.5
             }
            },
            "type": "bar"
           }
          ],
          "barpolar": [
           {
            "marker": {
             "line": {
              "color": "#E5ECF6",
              "width": 0.5
             }
            },
            "type": "barpolar"
           }
          ],
          "carpet": [
           {
            "aaxis": {
             "endlinecolor": "#2a3f5f",
             "gridcolor": "white",
             "linecolor": "white",
             "minorgridcolor": "white",
             "startlinecolor": "#2a3f5f"
            },
            "baxis": {
             "endlinecolor": "#2a3f5f",
             "gridcolor": "white",
             "linecolor": "white",
             "minorgridcolor": "white",
             "startlinecolor": "#2a3f5f"
            },
            "type": "carpet"
           }
          ],
          "choropleth": [
           {
            "colorbar": {
             "outlinewidth": 0,
             "ticks": ""
            },
            "type": "choropleth"
           }
          ],
          "contour": [
           {
            "colorbar": {
             "outlinewidth": 0,
             "ticks": ""
            },
            "colorscale": [
             [
              0,
              "#0d0887"
             ],
             [
              0.1111111111111111,
              "#46039f"
             ],
             [
              0.2222222222222222,
              "#7201a8"
             ],
             [
              0.3333333333333333,
              "#9c179e"
             ],
             [
              0.4444444444444444,
              "#bd3786"
             ],
             [
              0.5555555555555556,
              "#d8576b"
             ],
             [
              0.6666666666666666,
              "#ed7953"
             ],
             [
              0.7777777777777778,
              "#fb9f3a"
             ],
             [
              0.8888888888888888,
              "#fdca26"
             ],
             [
              1,
              "#f0f921"
             ]
            ],
            "type": "contour"
           }
          ],
          "contourcarpet": [
           {
            "colorbar": {
             "outlinewidth": 0,
             "ticks": ""
            },
            "type": "contourcarpet"
           }
          ],
          "heatmap": [
           {
            "colorbar": {
             "outlinewidth": 0,
             "ticks": ""
            },
            "colorscale": [
             [
              0,
              "#0d0887"
             ],
             [
              0.1111111111111111,
              "#46039f"
             ],
             [
              0.2222222222222222,
              "#7201a8"
             ],
             [
              0.3333333333333333,
              "#9c179e"
             ],
             [
              0.4444444444444444,
              "#bd3786"
             ],
             [
              0.5555555555555556,
              "#d8576b"
             ],
             [
              0.6666666666666666,
              "#ed7953"
             ],
             [
              0.7777777777777778,
              "#fb9f3a"
             ],
             [
              0.8888888888888888,
              "#fdca26"
             ],
             [
              1,
              "#f0f921"
             ]
            ],
            "type": "heatmap"
           }
          ],
          "heatmapgl": [
           {
            "colorbar": {
             "outlinewidth": 0,
             "ticks": ""
            },
            "colorscale": [
             [
              0,
              "#0d0887"
             ],
             [
              0.1111111111111111,
              "#46039f"
             ],
             [
              0.2222222222222222,
              "#7201a8"
             ],
             [
              0.3333333333333333,
              "#9c179e"
             ],
             [
              0.4444444444444444,
              "#bd3786"
             ],
             [
              0.5555555555555556,
              "#d8576b"
             ],
             [
              0.6666666666666666,
              "#ed7953"
             ],
             [
              0.7777777777777778,
              "#fb9f3a"
             ],
             [
              0.8888888888888888,
              "#fdca26"
             ],
             [
              1,
              "#f0f921"
             ]
            ],
            "type": "heatmapgl"
           }
          ],
          "histogram": [
           {
            "marker": {
             "colorbar": {
              "outlinewidth": 0,
              "ticks": ""
             }
            },
            "type": "histogram"
           }
          ],
          "histogram2d": [
           {
            "colorbar": {
             "outlinewidth": 0,
             "ticks": ""
            },
            "colorscale": [
             [
              0,
              "#0d0887"
             ],
             [
              0.1111111111111111,
              "#46039f"
             ],
             [
              0.2222222222222222,
              "#7201a8"
             ],
             [
              0.3333333333333333,
              "#9c179e"
             ],
             [
              0.4444444444444444,
              "#bd3786"
             ],
             [
              0.5555555555555556,
              "#d8576b"
             ],
             [
              0.6666666666666666,
              "#ed7953"
             ],
             [
              0.7777777777777778,
              "#fb9f3a"
             ],
             [
              0.8888888888888888,
              "#fdca26"
             ],
             [
              1,
              "#f0f921"
             ]
            ],
            "type": "histogram2d"
           }
          ],
          "histogram2dcontour": [
           {
            "colorbar": {
             "outlinewidth": 0,
             "ticks": ""
            },
            "colorscale": [
             [
              0,
              "#0d0887"
             ],
             [
              0.1111111111111111,
              "#46039f"
             ],
             [
              0.2222222222222222,
              "#7201a8"
             ],
             [
              0.3333333333333333,
              "#9c179e"
             ],
             [
              0.4444444444444444,
              "#bd3786"
             ],
             [
              0.5555555555555556,
              "#d8576b"
             ],
             [
              0.6666666666666666,
              "#ed7953"
             ],
             [
              0.7777777777777778,
              "#fb9f3a"
             ],
             [
              0.8888888888888888,
              "#fdca26"
             ],
             [
              1,
              "#f0f921"
             ]
            ],
            "type": "histogram2dcontour"
           }
          ],
          "mesh3d": [
           {
            "colorbar": {
             "outlinewidth": 0,
             "ticks": ""
            },
            "type": "mesh3d"
           }
          ],
          "parcoords": [
           {
            "line": {
             "colorbar": {
              "outlinewidth": 0,
              "ticks": ""
             }
            },
            "type": "parcoords"
           }
          ],
          "pie": [
           {
            "automargin": true,
            "type": "pie"
           }
          ],
          "scatter": [
           {
            "marker": {
             "colorbar": {
              "outlinewidth": 0,
              "ticks": ""
             }
            },
            "type": "scatter"
           }
          ],
          "scatter3d": [
           {
            "line": {
             "colorbar": {
              "outlinewidth": 0,
              "ticks": ""
             }
            },
            "marker": {
             "colorbar": {
              "outlinewidth": 0,
              "ticks": ""
             }
            },
            "type": "scatter3d"
           }
          ],
          "scattercarpet": [
           {
            "marker": {
             "colorbar": {
              "outlinewidth": 0,
              "ticks": ""
             }
            },
            "type": "scattercarpet"
           }
          ],
          "scattergeo": [
           {
            "marker": {
             "colorbar": {
              "outlinewidth": 0,
              "ticks": ""
             }
            },
            "type": "scattergeo"
           }
          ],
          "scattergl": [
           {
            "marker": {
             "colorbar": {
              "outlinewidth": 0,
              "ticks": ""
             }
            },
            "type": "scattergl"
           }
          ],
          "scattermapbox": [
           {
            "marker": {
             "colorbar": {
              "outlinewidth": 0,
              "ticks": ""
             }
            },
            "type": "scattermapbox"
           }
          ],
          "scatterpolar": [
           {
            "marker": {
             "colorbar": {
              "outlinewidth": 0,
              "ticks": ""
             }
            },
            "type": "scatterpolar"
           }
          ],
          "scatterpolargl": [
           {
            "marker": {
             "colorbar": {
              "outlinewidth": 0,
              "ticks": ""
             }
            },
            "type": "scatterpolargl"
           }
          ],
          "scatterternary": [
           {
            "marker": {
             "colorbar": {
              "outlinewidth": 0,
              "ticks": ""
             }
            },
            "type": "scatterternary"
           }
          ],
          "surface": [
           {
            "colorbar": {
             "outlinewidth": 0,
             "ticks": ""
            },
            "colorscale": [
             [
              0,
              "#0d0887"
             ],
             [
              0.1111111111111111,
              "#46039f"
             ],
             [
              0.2222222222222222,
              "#7201a8"
             ],
             [
              0.3333333333333333,
              "#9c179e"
             ],
             [
              0.4444444444444444,
              "#bd3786"
             ],
             [
              0.5555555555555556,
              "#d8576b"
             ],
             [
              0.6666666666666666,
              "#ed7953"
             ],
             [
              0.7777777777777778,
              "#fb9f3a"
             ],
             [
              0.8888888888888888,
              "#fdca26"
             ],
             [
              1,
              "#f0f921"
             ]
            ],
            "type": "surface"
           }
          ],
          "table": [
           {
            "cells": {
             "fill": {
              "color": "#EBF0F8"
             },
             "line": {
              "color": "white"
             }
            },
            "header": {
             "fill": {
              "color": "#C8D4E3"
             },
             "line": {
              "color": "white"
             }
            },
            "type": "table"
           }
          ]
         },
         "layout": {
          "annotationdefaults": {
           "arrowcolor": "#2a3f5f",
           "arrowhead": 0,
           "arrowwidth": 1
          },
          "autotypenumbers": "strict",
          "coloraxis": {
           "colorbar": {
            "outlinewidth": 0,
            "ticks": ""
           }
          },
          "colorscale": {
           "diverging": [
            [
             0,
             "#8e0152"
            ],
            [
             0.1,
             "#c51b7d"
            ],
            [
             0.2,
             "#de77ae"
            ],
            [
             0.3,
             "#f1b6da"
            ],
            [
             0.4,
             "#fde0ef"
            ],
            [
             0.5,
             "#f7f7f7"
            ],
            [
             0.6,
             "#e6f5d0"
            ],
            [
             0.7,
             "#b8e186"
            ],
            [
             0.8,
             "#7fbc41"
            ],
            [
             0.9,
             "#4d9221"
            ],
            [
             1,
             "#276419"
            ]
           ],
           "sequential": [
            [
             0,
             "#0d0887"
            ],
            [
             0.1111111111111111,
             "#46039f"
            ],
            [
             0.2222222222222222,
             "#7201a8"
            ],
            [
             0.3333333333333333,
             "#9c179e"
            ],
            [
             0.4444444444444444,
             "#bd3786"
            ],
            [
             0.5555555555555556,
             "#d8576b"
            ],
            [
             0.6666666666666666,
             "#ed7953"
            ],
            [
             0.7777777777777778,
             "#fb9f3a"
            ],
            [
             0.8888888888888888,
             "#fdca26"
            ],
            [
             1,
             "#f0f921"
            ]
           ],
           "sequentialminus": [
            [
             0,
             "#0d0887"
            ],
            [
             0.1111111111111111,
             "#46039f"
            ],
            [
             0.2222222222222222,
             "#7201a8"
            ],
            [
             0.3333333333333333,
             "#9c179e"
            ],
            [
             0.4444444444444444,
             "#bd3786"
            ],
            [
             0.5555555555555556,
             "#d8576b"
            ],
            [
             0.6666666666666666,
             "#ed7953"
            ],
            [
             0.7777777777777778,
             "#fb9f3a"
            ],
            [
             0.8888888888888888,
             "#fdca26"
            ],
            [
             1,
             "#f0f921"
            ]
           ]
          },
          "colorway": [
           "#636efa",
           "#EF553B",
           "#00cc96",
           "#ab63fa",
           "#FFA15A",
           "#19d3f3",
           "#FF6692",
           "#B6E880",
           "#FF97FF",
           "#FECB52"
          ],
          "font": {
           "color": "#2a3f5f"
          },
          "geo": {
           "bgcolor": "white",
           "lakecolor": "white",
           "landcolor": "#E5ECF6",
           "showlakes": true,
           "showland": true,
           "subunitcolor": "white"
          },
          "hoverlabel": {
           "align": "left"
          },
          "hovermode": "closest",
          "mapbox": {
           "style": "light"
          },
          "paper_bgcolor": "white",
          "plot_bgcolor": "#E5ECF6",
          "polar": {
           "angularaxis": {
            "gridcolor": "white",
            "linecolor": "white",
            "ticks": ""
           },
           "bgcolor": "#E5ECF6",
           "radialaxis": {
            "gridcolor": "white",
            "linecolor": "white",
            "ticks": ""
           }
          },
          "scene": {
           "xaxis": {
            "backgroundcolor": "#E5ECF6",
            "gridcolor": "white",
            "gridwidth": 2,
            "linecolor": "white",
            "showbackground": true,
            "ticks": "",
            "zerolinecolor": "white"
           },
           "yaxis": {
            "backgroundcolor": "#E5ECF6",
            "gridcolor": "white",
            "gridwidth": 2,
            "linecolor": "white",
            "showbackground": true,
            "ticks": "",
            "zerolinecolor": "white"
           },
           "zaxis": {
            "backgroundcolor": "#E5ECF6",
            "gridcolor": "white",
            "gridwidth": 2,
            "linecolor": "white",
            "showbackground": true,
            "ticks": "",
            "zerolinecolor": "white"
           }
          },
          "shapedefaults": {
           "line": {
            "color": "#2a3f5f"
           }
          },
          "ternary": {
           "aaxis": {
            "gridcolor": "white",
            "linecolor": "white",
            "ticks": ""
           },
           "baxis": {
            "gridcolor": "white",
            "linecolor": "white",
            "ticks": ""
           },
           "bgcolor": "#E5ECF6",
           "caxis": {
            "gridcolor": "white",
            "linecolor": "white",
            "ticks": ""
           }
          },
          "title": {
           "x": 0.05
          },
          "xaxis": {
           "automargin": true,
           "gridcolor": "white",
           "linecolor": "white",
           "ticks": "",
           "title": {
            "standoff": 15
           },
           "zerolinecolor": "white",
           "zerolinewidth": 2
          },
          "yaxis": {
           "automargin": true,
           "gridcolor": "white",
           "linecolor": "white",
           "ticks": "",
           "title": {
            "standoff": 15
           },
           "zerolinecolor": "white",
           "zerolinewidth": 2
          }
         }
        },
        "title": {
         "text": "Polynomial Utility Function - V(c, p, beta) = V(c', p', beta)"
        },
        "xaxis": {
         "title": {
          "text": "p'"
         }
        },
        "yaxis": {
         "title": {
          "text": "c'"
         }
        }
       }
      },
      "text/html": [
       "<div>                            <div id=\"86273a0e-a9ff-4b08-bf83-47a4d629d9d9\" class=\"plotly-graph-div\" style=\"height:525px; width:100%;\"></div>            <script type=\"text/javascript\">                require([\"plotly\"], function(Plotly) {                    window.PLOTLYENV=window.PLOTLYENV || {};                                    if (document.getElementById(\"86273a0e-a9ff-4b08-bf83-47a4d629d9d9\")) {                    Plotly.newPlot(                        \"86273a0e-a9ff-4b08-bf83-47a4d629d9d9\",                        [{\"mode\": \"lines\", \"name\": \"beta=0.01\", \"type\": \"scatter\", \"x\": [0.05, 0.1, 0.15000000000000002, 0.2, 0.25, 0.3, 0.35000000000000003, 0.4, 0.45, 0.5, 0.55, 0.6000000000000001, 0.6500000000000001, 0.7000000000000001, 0.7500000000000001, 0.8, 0.8500000000000001, 0.9000000000000001, 0.9500000000000001], \"y\": [0.1304, 0.2493, 0.3601, 0.4646, 0.5637, 0.6582, 0.7486, 0.8355, 0.9192, 1.0, 1.0781, 1.1538, 1.2273, 1.2986, 1.368, 1.4356, 1.5015, 1.5657, 1.6285]}, {\"mode\": \"lines\", \"name\": \"beta=1\", \"type\": \"scatter\", \"x\": [0.05, 0.1, 0.15000000000000002, 0.2, 0.25, 0.3, 0.35000000000000003, 0.4, 0.45, 0.5, 0.55, 0.6000000000000001, 0.6500000000000001, 0.7000000000000001, 0.7500000000000001, 0.8, 0.8500000000000001, 0.9000000000000001, 0.9500000000000001], \"y\": [0.1, 0.2, 0.3, 0.4, 0.5, 0.6, 0.7, 0.8, 0.9, 1.0, 1.1, 1.2, 1.3, 1.4, 1.5, 1.6, 1.7, 1.8, 1.9]}, {\"mode\": \"lines\", \"name\": \"beta=2\", \"type\": \"scatter\", \"x\": [0.05, 0.1, 0.15000000000000002, 0.2, 0.25, 0.3, 0.35000000000000003, 0.4, 0.45, 0.5, 0.55, 0.6000000000000001, 0.6500000000000001, 0.7000000000000001, 0.7500000000000001, 0.8, 0.8500000000000001, 0.9000000000000001, 0.9500000000000001], \"y\": [0.08770580193070293, 0.17770466332772772, 0.2701351013344489, 0.36514837167011077, 0.4629100498862757, 0.5636018619766345, 0.6674238124719145, 0.7745966692414834, 0.8853648783083365, 1.0, 1.1188047809743373, 1.2421180068162376, 1.3703203194062976, 1.5038412354828088, 1.6431676725154984, 1.788854381999832, 1.9415368184485464, 2.101947149236112, 2.2709343577353476]}, {\"mode\": \"lines\", \"name\": \"beta=3\", \"type\": \"scatter\", \"x\": [0.05, 0.1, 0.15000000000000002, 0.2, 0.25, 0.3, 0.35000000000000003, 0.4, 0.45, 0.5, 0.55, 0.6000000000000001, 0.6500000000000001, 0.7000000000000001, 0.7500000000000001, 0.8, 0.8500000000000001, 0.9000000000000001, 0.9500000000000001], \"y\": [0.08290982955780818, 0.1687557946296438, 0.2577834624597195, 0.3502724589001353, 0.4465432190870175, 0.5469655075928689, 0.6519692949585251, 0.7620588172103292, 0.8778310030750414, 1.0, 1.129430383532314, 1.2671830030591746, 1.4145796768892098, 1.5732968092702901, 1.7455048517697882, 1.9340832420311196, 2.1429653054378215, 2.37771932683991, 2.6465881254299193]}, {\"mode\": \"lines\", \"name\": \"beta=10\", \"type\": \"scatter\", \"x\": [0.05, 0.1, 0.15000000000000002, 0.2, 0.25, 0.3, 0.35000000000000003, 0.4, 0.45, 0.5, 0.55, 0.6000000000000001, 0.6500000000000001, 0.7000000000000001, 0.7500000000000001, 0.8, 0.8500000000000001, 0.9000000000000001, 0.9500000000000001], \"y\": [0.07656565557683012, 0.15684183690242592, 0.2412232185579277, 0.33017240000211956, 0.4242366619132689, 0.5240702819474781, 0.6304647984371603, 0.7443909082206801, 0.8670578608221226, 1.0, 1.1452069955207536, 1.3053275076004722, 1.4840029183753163, 1.6864468552671952, 1.920529013781016, 2.199012262232521, 2.5448576625374764, 3.006799990859741, 3.727021702344829]}, {\"mode\": \"lines\", \"name\": \"beta=20\", \"type\": \"scatter\", \"x\": [0.05, 0.1, 0.15000000000000002, 0.2, 0.25, 0.3, 0.35000000000000003, 0.4, 0.45, 0.5, 0.55, 0.6000000000000001, 0.6500000000000001, 0.7000000000000001, 0.7500000000000001, 0.8, 0.8500000000000001, 0.9000000000000001, 0.9500000000000001], \"y\": [0.07527219294891623, 0.15440351158861904, 0.23782023278648495, 0.326024188853563, 0.4196118721673683, 0.5193000171085135, 0.6259604972986758, 0.7406689462719108, 0.8647741610774343, 1.0, 1.1486000180431035, 1.3136015777766408, 1.4992101278715733, 1.7115198387948432, 1.9598617304947221, 2.2596345425246933, 2.6391642581795, 3.1604404047968533, 4.013481734911854]}],                        {\"showlegend\": true, \"template\": {\"data\": {\"bar\": [{\"error_x\": {\"color\": \"#2a3f5f\"}, \"error_y\": {\"color\": \"#2a3f5f\"}, \"marker\": {\"line\": {\"color\": \"#E5ECF6\", \"width\": 0.5}}, \"type\": \"bar\"}], \"barpolar\": [{\"marker\": {\"line\": {\"color\": \"#E5ECF6\", \"width\": 0.5}}, \"type\": \"barpolar\"}], \"carpet\": [{\"aaxis\": {\"endlinecolor\": \"#2a3f5f\", \"gridcolor\": \"white\", \"linecolor\": \"white\", \"minorgridcolor\": \"white\", \"startlinecolor\": \"#2a3f5f\"}, \"baxis\": {\"endlinecolor\": \"#2a3f5f\", \"gridcolor\": \"white\", \"linecolor\": \"white\", \"minorgridcolor\": \"white\", \"startlinecolor\": \"#2a3f5f\"}, \"type\": \"carpet\"}], \"choropleth\": [{\"colorbar\": {\"outlinewidth\": 0, \"ticks\": \"\"}, \"type\": \"choropleth\"}], \"contour\": [{\"colorbar\": {\"outlinewidth\": 0, \"ticks\": \"\"}, \"colorscale\": [[0.0, \"#0d0887\"], [0.1111111111111111, \"#46039f\"], [0.2222222222222222, \"#7201a8\"], [0.3333333333333333, \"#9c179e\"], [0.4444444444444444, \"#bd3786\"], [0.5555555555555556, \"#d8576b\"], [0.6666666666666666, \"#ed7953\"], [0.7777777777777778, \"#fb9f3a\"], [0.8888888888888888, \"#fdca26\"], [1.0, \"#f0f921\"]], \"type\": \"contour\"}], \"contourcarpet\": [{\"colorbar\": {\"outlinewidth\": 0, \"ticks\": \"\"}, \"type\": \"contourcarpet\"}], \"heatmap\": [{\"colorbar\": {\"outlinewidth\": 0, \"ticks\": \"\"}, \"colorscale\": [[0.0, \"#0d0887\"], [0.1111111111111111, \"#46039f\"], [0.2222222222222222, \"#7201a8\"], [0.3333333333333333, \"#9c179e\"], [0.4444444444444444, \"#bd3786\"], [0.5555555555555556, \"#d8576b\"], [0.6666666666666666, \"#ed7953\"], [0.7777777777777778, \"#fb9f3a\"], [0.8888888888888888, \"#fdca26\"], [1.0, \"#f0f921\"]], \"type\": \"heatmap\"}], \"heatmapgl\": [{\"colorbar\": {\"outlinewidth\": 0, \"ticks\": \"\"}, \"colorscale\": [[0.0, \"#0d0887\"], [0.1111111111111111, \"#46039f\"], [0.2222222222222222, \"#7201a8\"], [0.3333333333333333, \"#9c179e\"], [0.4444444444444444, \"#bd3786\"], [0.5555555555555556, \"#d8576b\"], [0.6666666666666666, \"#ed7953\"], [0.7777777777777778, \"#fb9f3a\"], [0.8888888888888888, \"#fdca26\"], [1.0, \"#f0f921\"]], \"type\": \"heatmapgl\"}], \"histogram\": [{\"marker\": {\"colorbar\": {\"outlinewidth\": 0, \"ticks\": \"\"}}, \"type\": \"histogram\"}], \"histogram2d\": [{\"colorbar\": {\"outlinewidth\": 0, \"ticks\": \"\"}, \"colorscale\": [[0.0, \"#0d0887\"], [0.1111111111111111, \"#46039f\"], [0.2222222222222222, \"#7201a8\"], [0.3333333333333333, \"#9c179e\"], [0.4444444444444444, \"#bd3786\"], [0.5555555555555556, \"#d8576b\"], [0.6666666666666666, \"#ed7953\"], [0.7777777777777778, \"#fb9f3a\"], [0.8888888888888888, \"#fdca26\"], [1.0, \"#f0f921\"]], \"type\": \"histogram2d\"}], \"histogram2dcontour\": [{\"colorbar\": {\"outlinewidth\": 0, \"ticks\": \"\"}, \"colorscale\": [[0.0, \"#0d0887\"], [0.1111111111111111, \"#46039f\"], [0.2222222222222222, \"#7201a8\"], [0.3333333333333333, \"#9c179e\"], [0.4444444444444444, \"#bd3786\"], [0.5555555555555556, \"#d8576b\"], [0.6666666666666666, \"#ed7953\"], [0.7777777777777778, \"#fb9f3a\"], [0.8888888888888888, \"#fdca26\"], [1.0, \"#f0f921\"]], \"type\": \"histogram2dcontour\"}], \"mesh3d\": [{\"colorbar\": {\"outlinewidth\": 0, \"ticks\": \"\"}, \"type\": \"mesh3d\"}], \"parcoords\": [{\"line\": {\"colorbar\": {\"outlinewidth\": 0, \"ticks\": \"\"}}, \"type\": \"parcoords\"}], \"pie\": [{\"automargin\": true, \"type\": \"pie\"}], \"scatter\": [{\"marker\": {\"colorbar\": {\"outlinewidth\": 0, \"ticks\": \"\"}}, \"type\": \"scatter\"}], \"scatter3d\": [{\"line\": {\"colorbar\": {\"outlinewidth\": 0, \"ticks\": \"\"}}, \"marker\": {\"colorbar\": {\"outlinewidth\": 0, \"ticks\": \"\"}}, \"type\": \"scatter3d\"}], \"scattercarpet\": [{\"marker\": {\"colorbar\": {\"outlinewidth\": 0, \"ticks\": \"\"}}, \"type\": \"scattercarpet\"}], \"scattergeo\": [{\"marker\": {\"colorbar\": {\"outlinewidth\": 0, \"ticks\": \"\"}}, \"type\": \"scattergeo\"}], \"scattergl\": [{\"marker\": {\"colorbar\": {\"outlinewidth\": 0, \"ticks\": \"\"}}, \"type\": \"scattergl\"}], \"scattermapbox\": [{\"marker\": {\"colorbar\": {\"outlinewidth\": 0, \"ticks\": \"\"}}, \"type\": \"scattermapbox\"}], \"scatterpolar\": [{\"marker\": {\"colorbar\": {\"outlinewidth\": 0, \"ticks\": \"\"}}, \"type\": \"scatterpolar\"}], \"scatterpolargl\": [{\"marker\": {\"colorbar\": {\"outlinewidth\": 0, \"ticks\": \"\"}}, \"type\": \"scatterpolargl\"}], \"scatterternary\": [{\"marker\": {\"colorbar\": {\"outlinewidth\": 0, \"ticks\": \"\"}}, \"type\": \"scatterternary\"}], \"surface\": [{\"colorbar\": {\"outlinewidth\": 0, \"ticks\": \"\"}, \"colorscale\": [[0.0, \"#0d0887\"], [0.1111111111111111, \"#46039f\"], [0.2222222222222222, \"#7201a8\"], [0.3333333333333333, \"#9c179e\"], [0.4444444444444444, \"#bd3786\"], [0.5555555555555556, \"#d8576b\"], [0.6666666666666666, \"#ed7953\"], [0.7777777777777778, \"#fb9f3a\"], [0.8888888888888888, \"#fdca26\"], [1.0, \"#f0f921\"]], \"type\": \"surface\"}], \"table\": [{\"cells\": {\"fill\": {\"color\": \"#EBF0F8\"}, \"line\": {\"color\": \"white\"}}, \"header\": {\"fill\": {\"color\": \"#C8D4E3\"}, \"line\": {\"color\": \"white\"}}, \"type\": \"table\"}]}, \"layout\": {\"annotationdefaults\": {\"arrowcolor\": \"#2a3f5f\", \"arrowhead\": 0, \"arrowwidth\": 1}, \"autotypenumbers\": \"strict\", \"coloraxis\": {\"colorbar\": {\"outlinewidth\": 0, \"ticks\": \"\"}}, \"colorscale\": {\"diverging\": [[0, \"#8e0152\"], [0.1, \"#c51b7d\"], [0.2, \"#de77ae\"], [0.3, \"#f1b6da\"], [0.4, \"#fde0ef\"], [0.5, \"#f7f7f7\"], [0.6, \"#e6f5d0\"], [0.7, \"#b8e186\"], [0.8, \"#7fbc41\"], [0.9, \"#4d9221\"], [1, \"#276419\"]], \"sequential\": [[0.0, \"#0d0887\"], [0.1111111111111111, \"#46039f\"], [0.2222222222222222, \"#7201a8\"], [0.3333333333333333, \"#9c179e\"], [0.4444444444444444, \"#bd3786\"], [0.5555555555555556, \"#d8576b\"], [0.6666666666666666, \"#ed7953\"], [0.7777777777777778, \"#fb9f3a\"], [0.8888888888888888, \"#fdca26\"], [1.0, \"#f0f921\"]], \"sequentialminus\": [[0.0, \"#0d0887\"], [0.1111111111111111, \"#46039f\"], [0.2222222222222222, \"#7201a8\"], [0.3333333333333333, \"#9c179e\"], [0.4444444444444444, \"#bd3786\"], [0.5555555555555556, \"#d8576b\"], [0.6666666666666666, \"#ed7953\"], [0.7777777777777778, \"#fb9f3a\"], [0.8888888888888888, \"#fdca26\"], [1.0, \"#f0f921\"]]}, \"colorway\": [\"#636efa\", \"#EF553B\", \"#00cc96\", \"#ab63fa\", \"#FFA15A\", \"#19d3f3\", \"#FF6692\", \"#B6E880\", \"#FF97FF\", \"#FECB52\"], \"font\": {\"color\": \"#2a3f5f\"}, \"geo\": {\"bgcolor\": \"white\", \"lakecolor\": \"white\", \"landcolor\": \"#E5ECF6\", \"showlakes\": true, \"showland\": true, \"subunitcolor\": \"white\"}, \"hoverlabel\": {\"align\": \"left\"}, \"hovermode\": \"closest\", \"mapbox\": {\"style\": \"light\"}, \"paper_bgcolor\": \"white\", \"plot_bgcolor\": \"#E5ECF6\", \"polar\": {\"angularaxis\": {\"gridcolor\": \"white\", \"linecolor\": \"white\", \"ticks\": \"\"}, \"bgcolor\": \"#E5ECF6\", \"radialaxis\": {\"gridcolor\": \"white\", \"linecolor\": \"white\", \"ticks\": \"\"}}, \"scene\": {\"xaxis\": {\"backgroundcolor\": \"#E5ECF6\", \"gridcolor\": \"white\", \"gridwidth\": 2, \"linecolor\": \"white\", \"showbackground\": true, \"ticks\": \"\", \"zerolinecolor\": \"white\"}, \"yaxis\": {\"backgroundcolor\": \"#E5ECF6\", \"gridcolor\": \"white\", \"gridwidth\": 2, \"linecolor\": \"white\", \"showbackground\": true, \"ticks\": \"\", \"zerolinecolor\": \"white\"}, \"zaxis\": {\"backgroundcolor\": \"#E5ECF6\", \"gridcolor\": \"white\", \"gridwidth\": 2, \"linecolor\": \"white\", \"showbackground\": true, \"ticks\": \"\", \"zerolinecolor\": \"white\"}}, \"shapedefaults\": {\"line\": {\"color\": \"#2a3f5f\"}}, \"ternary\": {\"aaxis\": {\"gridcolor\": \"white\", \"linecolor\": \"white\", \"ticks\": \"\"}, \"baxis\": {\"gridcolor\": \"white\", \"linecolor\": \"white\", \"ticks\": \"\"}, \"bgcolor\": \"#E5ECF6\", \"caxis\": {\"gridcolor\": \"white\", \"linecolor\": \"white\", \"ticks\": \"\"}}, \"title\": {\"x\": 0.05}, \"xaxis\": {\"automargin\": true, \"gridcolor\": \"white\", \"linecolor\": \"white\", \"ticks\": \"\", \"title\": {\"standoff\": 15}, \"zerolinecolor\": \"white\", \"zerolinewidth\": 2}, \"yaxis\": {\"automargin\": true, \"gridcolor\": \"white\", \"linecolor\": \"white\", \"ticks\": \"\", \"title\": {\"standoff\": 15}, \"zerolinecolor\": \"white\", \"zerolinewidth\": 2}}}, \"title\": {\"text\": \"Polynomial Utility Function - V(c, p, beta) = V(c', p', beta)\"}, \"xaxis\": {\"title\": {\"text\": \"p'\"}}, \"yaxis\": {\"title\": {\"text\": \"c'\"}}},                        {\"responsive\": true}                    ).then(function(){\n",
       "                            \n",
       "var gd = document.getElementById('86273a0e-a9ff-4b08-bf83-47a4d629d9d9');\n",
       "var x = new MutationObserver(function (mutations, observer) {{\n",
       "        var display = window.getComputedStyle(gd).display;\n",
       "        if (!display || display === 'none') {{\n",
       "            console.log([gd, 'removed!']);\n",
       "            Plotly.purge(gd);\n",
       "            observer.disconnect();\n",
       "        }}\n",
       "}});\n",
       "\n",
       "// Listen for the removal of the full notebook cells\n",
       "var notebookContainer = gd.closest('#notebook-container');\n",
       "if (notebookContainer) {{\n",
       "    x.observe(notebookContainer, {childList: true});\n",
       "}}\n",
       "\n",
       "// Listen for the clearing of the current output cell\n",
       "var outputEl = gd.closest('.output');\n",
       "if (outputEl) {{\n",
       "    x.observe(outputEl, {childList: true});\n",
       "}}\n",
       "\n",
       "                        })                };                });            </script>        </div>"
      ]
     },
     "metadata": {},
     "output_type": "display_data"
    }
   ],
   "source": [
    "# Create traces\n",
    "fig = go.Figure()\n",
    "fig.add_trace(go.Scatter(x=range_x, y=list(_sanidade_quf_01.values()), mode='lines', name='beta=0.01'))\n",
    "fig.add_trace(go.Scatter(x=range_x, y=list(limite_inferior_quf_1.values()), mode='lines', name='beta=1'))\n",
    "fig.add_trace(go.Scatter(x=range_x, y=list(limite_inferior_quf_2.values()), mode='lines', name='beta=2'))\n",
    "fig.add_trace(go.Scatter(x=range_x, y=list(limite_superior_quf_3.values()), mode='lines', name='beta=3'))\n",
    "fig.add_trace(go.Scatter(x=range_x, y=list(limite_superior_quf_10.values()), mode='lines', name='beta=10'))\n",
    "fig.add_trace(go.Scatter(x=range_x, y=list(limite_superior_quf_20.values()), mode='lines', name='beta=20'))\n",
    "\n",
    "fig.update_layout(title=\"Polynomial Utility Function - V(c, p, beta) = V(c\\', p\\', beta)\",\n",
    "                   xaxis_title=\"p\\'\",\n",
    "                   yaxis_title=\"c\\'\")\n",
    "fig.update_layout(showlegend=True)\n",
    "fig.show()"
   ]
  },
  {
   "cell_type": "markdown",
   "metadata": {},
   "source": [
    "## Multiplos p\\'"
   ]
  },
  {
   "cell_type": "code",
   "execution_count": 43,
   "metadata": {
    "ExecuteTime": {
     "end_time": "2023-10-27T11:44:50.369986Z",
     "start_time": "2023-10-27T11:44:48.328122Z"
    }
   },
   "outputs": [
    {
     "name": "stdout",
     "output_type": "stream",
     "text": [
      "Processando p: [0.9]...00000000001]....\r"
     ]
    }
   ],
   "source": [
    "multi_sanidade_puf_01, multi_sanidade_puf_20 = {}, {}\n",
    "multi_limite_vetor_puf_01, multi_limite_vetor_puf_20 = {}, {}\n",
    "multi_limite_puf_01, multi_limite_puf_20 = {}, {}\n",
    "c = 1\n",
    "\n",
    "for p in np.arange(0.1, 1, 0.1):\n",
    "    print(f'Processando p: [{p}]...', end='\\r')\n",
    "    multi_limite_vetor_puf_01[p], multi_limite_vetor_puf_20[p] = {}, {}\n",
    "    multi_limite_puf_01[p], multi_limite_puf_20[p] = {}, {}\n",
    "    multi_sanidade_puf_01[p], multi_sanidade_puf_20[p] = {}, {}\n",
    "    \n",
    "    multi_sanidade_puf_01[p], multi_limite_vetor_puf_01[p], multi_limite_vetor_puf_01[p] = \\\n",
    "        get_cost_limit_polynomial_utility_function(c, p, 0.1)\n",
    "    multi_sanidade_puf_20[p], multi_limite_vetor_puf_20[p], multi_limite_vetor_puf_20[p] = \\\n",
    "        get_cost_limit_polynomial_utility_function(c, p, 20)"
   ]
  },
  {
   "cell_type": "code",
   "execution_count": 44,
   "metadata": {
    "ExecuteTime": {
     "end_time": "2023-10-27T11:44:51.114044Z",
     "start_time": "2023-10-27T11:44:50.371489Z"
    }
   },
   "outputs": [
    {
     "data": {
      "image/png": "[encoded data removed]",
      "text/plain": [
       "<Figure size 1152x864 with 9 Axes>"
      ]
     },
     "metadata": {
      "needs_background": "light"
     },
     "output_type": "display_data"
    }
   ],
   "source": [
    "fig, axs = plt.subplots(3, 3, figsize=(16,12))\n",
    "count1, count2 = 0, 0\n",
    "\n",
    "for p in multi_limite_vetor_puf_1.keys():\n",
    "    fig = axs[count1, count2].plot(range_x, multi_limite_vetor_puf_20[p].values())\n",
    "    fig = axs[count1, count2].plot(range_x, multi_sanidade_puf_1[p].values()) \n",
    "    fig = axs[count1, count2].plot([p for v in multi_limite_vetor_puf_20[p].items()], multi_limite_vetor_puf_20[p].values())\n",
    "    fig = axs[count1, count2].set_title(f'Região ótima - Probabilidade [{np.round(p, 1)}]')\n",
    "    \n",
    "    count2 += 1\n",
    "    if count2 == 3:\n",
    "        count2 = 0\n",
    "        count1 += 1"
   ]
  }
 ],
 "metadata": {
  "hide_input": false,
  "kernelspec": {
   "display_name": "Python 3 (ipykernel)",
   "language": "python",
   "name": "python3"
  },
  "language_info": {
   "codemirror_mode": {
    "name": "ipython",
    "version": 3
   },
   "file_extension": ".py",
   "mimetype": "text/x-python",
   "name": "python",
   "nbconvert_exporter": "python",
   "pygments_lexer": "ipython3",
   "version": "3.11.1"
  },
  "toc": {
   "base_numbering": 1,
   "nav_menu": {},
   "number_sections": true,
   "sideBar": true,
   "skip_h1_title": false,
   "title_cell": "Table of Contents",
   "title_sidebar": "Contents",
   "toc_cell": false,
   "toc_position": {},
   "toc_section_display": true,
   "toc_window_display": false
  }
 },
 "nbformat": 4,
 "nbformat_minor": 4
}
