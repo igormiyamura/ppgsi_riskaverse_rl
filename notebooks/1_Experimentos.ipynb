{
 "cells": [
  {
   "cell_type": "code",
   "execution_count": 1,
   "metadata": {
    "ExecuteTime": {
     "end_time": "2023-04-03T23:27:32.668106Z",
     "start_time": "2023-04-03T23:27:09.421958Z"
    },
    "code_folding": []
   },
   "outputs": [],
   "source": [
    "# Bibliotecas\n",
    "import sys, pandas as pd, numpy as np\n",
    "import plotly.express as px\n",
    "import seaborn as sns, numpy as np, os\n",
    "from os.path import exists\n",
    "sys.path.append('../')\n",
    "\n",
    "from env.RiverProblem import RiverProblem\n",
    "from rl_utils.VizTools import VizTools\n",
    "\n",
    "# Modelos\n",
    "from models.ValueIteration import ValueIteration\n",
    "from models.PolicyIteration import PolicyIteration\n",
    "from models.RS_PolicyIteration import RS_PolicyIteration\n",
    "from models.PieceLinear_RSPI import PieceLinear_RSPI\n",
    "from models.PieceLinear_RSVI import PieceLinear_RSVI\n",
    "\n",
    "from evaluation.AverageCosts import AverageCosts\n",
    "\n",
    "%load_ext autoreload\n",
    "%autoreload 2"
   ]
  },
  {
   "cell_type": "markdown",
   "metadata": {},
   "source": [
    "# Experimentos - 1S2023\n",
    "\n",
    "|Data|Descritivo|\n",
    "|--|--|\n",
    "|03-2023|Primeiros experimentos com confecção de artigo|\n",
    "\n",
    "---\n",
    "\n",
    "## Referências\n",
    "\n",
    "**Exponential**\n",
    "\n",
    "2013 MICAI: Shortest Stochastic Path with Risk Sensitive Evaluation \\\n",
    "ou 2016 BRACIS: Extreme Risk Averse Policy for Goal-Directed Risk-Sensitive MDP\n",
    "\n",
    "**Piecewise Linear**\n",
    "\n",
    "2020 MICAI: Risk-Sensitive Piecewise-Linear Policy Iteration for SSP-MDP"
   ]
  },
  {
   "cell_type": "code",
   "execution_count": 112,
   "metadata": {
    "ExecuteTime": {
     "end_time": "2023-04-04T02:12:05.276142Z",
     "start_time": "2023-04-04T02:12:05.171642Z"
    }
   },
   "outputs": [],
   "source": [
    "# ----------------------------------------------\n",
    "# -- Configurações Iniciais --------------------\n",
    "# ----------------------------------------------\n",
    "\n",
    "run_value_iteration = False\n",
    "run_policy_iteration = False\n",
    "run_EUF_RSPI = True\n",
    "run_PWL_RSPI = False\n",
    "run_PWL_RSVI = True\n",
    "\n",
    "# -- Configurações Rio\n",
    "\n",
    "grid_size = (5, 20)\n",
    "goal_state = (4, 0)\n",
    "\n",
    "rp = RiverProblem(grid_size, goal_state, dead_end=False)\n",
    "block_type = rp.build_block_type()"
   ]
  },
  {
   "cell_type": "code",
   "execution_count": 3,
   "metadata": {
    "ExecuteTime": {
     "end_time": "2023-04-03T23:27:32.885109Z",
     "start_time": "2023-04-03T23:27:32.778110Z"
    },
    "code_folding": []
   },
   "outputs": [],
   "source": [
    "def run_river_problem(river_flow, model_obj, epsilon=None, vl_lambda=None, discount_factor=None, \n",
    "                                     k=None, gamma=None, alpha=None, _log=False):\n",
    "    transition_probabilities = rp.build_transition_probabilities(block_type, river_flow=river_flow)\n",
    "\n",
    "    is_ok, dict_verification = rp._verify_sum_probabilities(transition_probabilities, block_type)\n",
    "    if not is_ok: print(f'Soma das Probabilidades está válida? {is_ok}')\n",
    "    \n",
    "    if epsilon != None and discount_factor != None:\n",
    "        rnp = model_obj(grid_size, goal_state, transition_probabilities, costs, \n",
    "                         num_actions=4, discount_factor=discount_factor, epsilon=epsilon, river_flow=river_flow)\n",
    "    elif epsilon != None and vl_lambda != None:\n",
    "        rnp = model_obj(grid_size, goal_state, transition_probabilities, costs, vl_lambda,\n",
    "                         num_actions=4, epsilon=epsilon, river_flow=river_flow)\n",
    "    elif epsilon != None and k != None and gamma != None and alpha != None:\n",
    "        rnp = model_obj(grid_size, goal_state, transition_probabilities, costs, k, alpha, gamma,\n",
    "                         num_actions=4, epsilon=epsilon, river_flow=river_flow)\n",
    "    \n",
    "    num_iterations, time = rnp.run_converge()\n",
    "    if _log: print(f'Número de Iterações: {num_iterations}')\n",
    "    if _log: print(f'Tempo de Execução: {time}s')\n",
    "    \n",
    "    return rnp"
   ]
  },
  {
   "cell_type": "markdown",
   "metadata": {},
   "source": [
    "# Value Iteration"
   ]
  },
  {
   "cell_type": "code",
   "execution_count": 4,
   "metadata": {
    "ExecuteTime": {
     "end_time": "2023-04-03T23:27:32.993608Z",
     "start_time": "2023-04-03T23:27:32.886608Z"
    },
    "code_folding": [
     0
    ]
   },
   "outputs": [],
   "source": [
    "# Value Iteration - Configs\n",
    "if run_value_iteration:\n",
    "    discount_factor = 0.95\n",
    "    epsilon = 0.001\n",
    "\n",
    "    costs = {0: 1, 1: 1, 2: 1, 3: 1}\n",
    "    block_type = rp.build_block_type()"
   ]
  },
  {
   "cell_type": "code",
   "execution_count": 5,
   "metadata": {
    "ExecuteTime": {
     "end_time": "2023-04-03T23:27:33.102109Z",
     "start_time": "2023-04-03T23:27:32.995609Z"
    },
    "code_folding": [
     0
    ]
   },
   "outputs": [],
   "source": [
    "# Value Iteration - Run\n",
    "if run_value_iteration:\n",
    "    value_iteration_01 = \\\n",
    "    run_river_problem(river_flow=0.1, model_obj=ValueIteration, epsilon=epsilon, discount_factor=discount_factor)\n",
    "    value_iteration_05 = \\\n",
    "    run_river_problem(river_flow=0.75, model_obj=ValueIteration, epsilon=epsilon, discount_factor=discount_factor)\n",
    "    value_iteration_09 = \\\n",
    "    run_river_problem(river_flow=0.9, model_obj=ValueIteration, epsilon=epsilon, discount_factor=discount_factor)"
   ]
  },
  {
   "cell_type": "code",
   "execution_count": 6,
   "metadata": {
    "ExecuteTime": {
     "end_time": "2023-04-03T23:27:33.210609Z",
     "start_time": "2023-04-03T23:27:33.104111Z"
    },
    "code_folding": [
     0
    ],
    "hide_input": false,
    "scrolled": true
   },
   "outputs": [],
   "source": [
    "# Value Iteration - Displays\n",
    "if run_value_iteration:\n",
    "    display(value_iteration_01)\n",
    "    display(value_iteration_05)\n",
    "    display(value_iteration_09)"
   ]
  },
  {
   "cell_type": "markdown",
   "metadata": {},
   "source": [
    "# Policy Iteration\n",
    "\n",
    "Definimos o algoritmo de Policy Iteration da seguinte forma:\n",
    "\n",
    "1. Escolhe uma política $\\pi_0$ arbitrária;\n",
    "2. Define $i=0$ como a quantidade de iterações;\n",
    "3. Para cada iteração, enquanto ($i=0$ ou $\\pi_i \\neq \\pi_{i-1}$) faça: \\\n",
    "    3.1. Policy Evaluation: obtém o valor da política atual $\\pi_i$ para cada $s \\in S$ resolvendo o seguinte sistema de equações: \\\n",
    "    $$V^{(\\pi_i)}(s)=r(s,\\pi_i(s))+\\sum_{s'\\in S} T(s, \\pi_i(s), s') V^{\\pi_i}(s') \\forall s \\in S$$\n",
    "    3.2. Policy Improvement: melhora a política atual realizando uma atualização para todo $s \\in S$: \\\n",
    "    $$\\pi_{i+1}(s)=\\text{argmax}_{a \\in A_s}[r(s,a)+\\sum_{s'\\in S} T(s, a, s') V^{\\pi_i}(s')]$$"
   ]
  },
  {
   "cell_type": "code",
   "execution_count": 113,
   "metadata": {
    "ExecuteTime": {
     "end_time": "2023-04-04T02:12:07.810349Z",
     "start_time": "2023-04-04T02:12:07.717850Z"
    },
    "code_folding": [
     0
    ]
   },
   "outputs": [],
   "source": [
    "# Policy Iteration - Configs\n",
    "if run_policy_iteration:\n",
    "    discount_factor = 0.99\n",
    "    epsilon = 0.001\n",
    "    costs = {0: 1, 1: 1, 2: 1, 3: 1}"
   ]
  },
  {
   "cell_type": "code",
   "execution_count": 114,
   "metadata": {
    "ExecuteTime": {
     "end_time": "2023-04-04T02:12:07.980799Z",
     "start_time": "2023-04-04T02:12:07.887797Z"
    },
    "code_folding": [
     0
    ],
    "scrolled": true
   },
   "outputs": [],
   "source": [
    "# Policy Iteration - Run\n",
    "if run_policy_iteration:\n",
    "    policy_iteration_01 = \\\n",
    "    run_river_problem(river_flow=0.1, model_obj=PolicyIteration, epsilon=epsilon, discount_factor=discount_factor)\n",
    "    policy_iteration_05 = \\\n",
    "    run_river_problem(river_flow=0.5, model_obj=PolicyIteration, epsilon=epsilon, discount_factor=discount_factor)\n",
    "    policy_iteration_09 = \\\n",
    "    run_river_problem(river_flow=0.9, model_obj=PolicyIteration, epsilon=epsilon, discount_factor=discount_factor)"
   ]
  },
  {
   "cell_type": "code",
   "execution_count": 115,
   "metadata": {
    "ExecuteTime": {
     "end_time": "2023-04-04T02:12:08.135797Z",
     "start_time": "2023-04-04T02:12:08.032301Z"
    },
    "code_folding": [
     0
    ]
   },
   "outputs": [],
   "source": [
    "# Policy Iteration - Displays\n",
    "if run_policy_iteration:\n",
    "    display(policy_iteration_01)\n",
    "    display(policy_iteration_05)\n",
    "    display(policy_iteration_09)"
   ]
  },
  {
   "cell_type": "markdown",
   "metadata": {},
   "source": [
    "# Value Iteration - Exponential Utility Function for RS-MDP\n",
    "\n",
    "Definimos o algoritmo de Risk Sensitive MDP da seguinte forma:\n",
    "\n",
    "1. Escolhe uma política $\\pi_0$ arbitrária;\n",
    "2. Define $i=0$ como a quantidade de iterações;\n",
    "3. Para cada iteração, enquanto ($i=0$ ou $\\pi_i \\neq \\pi_{i-1}$) faça: \\\n",
    "    3.1. Policy Evaluation: obtém o valor da política atual $\\pi_i$ para cada $s \\in S$ resolvendo o seguinte sistema de equações: \\\n",
    "    $$V^{\\pi_i}(s_G)=-\\text{sign}(\\lambda)$$\n",
    "    $$V^{(\\pi_i)}(s)=\\text{exp}(-\\lambda r(s,\\pi_i(s)))\\sum_{s'\\in S} T(s, \\pi_i(s), s') V^{\\pi_i}(s') \\forall s \\neq s_G \\in S$$\n",
    "    3.2. Policy Improvement: melhora a política atual realizando uma atualização para todo $s \\in S$: \\\n",
    "    $$\\pi_{i+1}(s)=\\text{argmax}_{a \\in A_s}[\\text{exp}(-\\lambda r(s,a))\\sum_{s'\\in S} T(s, a, s') V^{\\pi_i}(s')]$$\n",
    "    \n",
    "    \n",
    "When λ < 0 (risk prone) and the policy π is proper, then π is also λ-feasible. However, this is not guaranteed for all policies when λ > 0 (risk averse). Given a GD-RSMDP, no result exists on how to determine the set of λ > 0 such that exists a λ-feasible policy.\n"
   ]
  },
  {
   "cell_type": "code",
   "execution_count": null,
   "metadata": {},
   "outputs": [],
   "source": []
  },
  {
   "cell_type": "markdown",
   "metadata": {},
   "source": [
    "# Exponential Utility Function for RS-MDP\n",
    "\n",
    "Definimos o algoritmo de Risk Sensitive MDP da seguinte forma:\n",
    "\n",
    "1. Escolhe uma política $\\pi_0$ arbitrária;\n",
    "2. Define $i=0$ como a quantidade de iterações;\n",
    "3. Para cada iteração, enquanto ($i=0$ ou $\\pi_i \\neq \\pi_{i-1}$) faça: \\\n",
    "    3.1. Policy Evaluation: obtém o valor da política atual $\\pi_i$ para cada $s \\in S$ resolvendo o seguinte sistema de equações: \\\n",
    "    $$V^{\\pi_i}(s_G)=-\\text{sign}(\\lambda)$$\n",
    "    $$V^{(\\pi_i)}(s)=\\text{exp}(-\\lambda r(s,\\pi_i(s)))\\sum_{s'\\in S} T(s, \\pi_i(s), s') V^{\\pi_i}(s') \\forall s \\neq s_G \\in S$$\n",
    "    3.2. Policy Improvement: melhora a política atual realizando uma atualização para todo $s \\in S$: \\\n",
    "    $$\\pi_{i+1}(s)=\\text{argmax}_{a \\in A_s}[\\text{exp}(-\\lambda r(s,a))\\sum_{s'\\in S} T(s, a, s') V^{\\pi_i}(s')]$$\n",
    "    \n",
    "    \n",
    "When λ < 0 (risk prone) and the policy π is proper, then π is also λ-feasible. However, this is not guaranteed for all policies when λ > 0 (risk averse). Given a GD-RSMDP, no result exists on how to determine the set of λ > 0 such that exists a λ-feasible policy.\n"
   ]
  },
  {
   "cell_type": "code",
   "execution_count": 175,
   "metadata": {
    "ExecuteTime": {
     "end_time": "2023-04-04T02:25:08.452864Z",
     "start_time": "2023-04-04T02:25:08.356365Z"
    }
   },
   "outputs": [],
   "source": [
    "# Exponential Utility Function for RSPI - Configs\n",
    "if run_EUF_RSPI:\n",
    "    EUF_RSPI = {}\n",
    "\n",
    "    range_river_flow = [0.5]\n",
    "    range_lambda     = [0] # [np.round(0.5 - 0.025*i, 2) for i in range(1, 20)]\n",
    "    epsilon = 0.001\n",
    "    \n",
    "    costs = {0: -1, 1: -1, 2: -1, 3: -1}"
   ]
  },
  {
   "cell_type": "code",
   "execution_count": 176,
   "metadata": {
    "ExecuteTime": {
     "end_time": "2023-04-04T02:25:08.669864Z",
     "start_time": "2023-04-04T02:25:08.516864Z"
    },
    "scrolled": true
   },
   "outputs": [
    {
     "name": "stdout",
     "output_type": "stream",
     "text": [
      "Iteração: 0\r",
      "Iteração: 1\r"
     ]
    }
   ],
   "source": [
    "# Exponential Utility Function for RS-MDP - Run\n",
    "if run_EUF_RSPI:\n",
    "    for river_flow in range_river_flow:\n",
    "        for vl_lambda in range_lambda:\n",
    "            EUF_RSPI[(river_flow, vl_lambda)] = \\\n",
    "                run_river_problem(river_flow=river_flow, model_obj=RS_PolicyIteration, \n",
    "                vl_lambda=vl_lambda, epsilon=epsilon)"
   ]
  },
  {
   "cell_type": "code",
   "execution_count": 177,
   "metadata": {
    "ExecuteTime": {
     "end_time": "2023-04-04T02:25:08.809365Z",
     "start_time": "2023-04-04T02:25:08.699864Z"
    }
   },
   "outputs": [
    {
     "data": {
      "text/plain": [
       "dict_keys([(0.5, 0)])"
      ]
     },
     "metadata": {},
     "output_type": "display_data"
    }
   ],
   "source": [
    "# Exponential Utility Function for RS-MDP - Keys\n",
    "if run_EUF_RSPI:\n",
    "    display(EUF_RSPI.keys())"
   ]
  },
  {
   "cell_type": "code",
   "execution_count": 178,
   "metadata": {
    "ExecuteTime": {
     "end_time": "2023-04-04T02:25:09.289796Z",
     "start_time": "2023-04-04T02:25:08.881798Z"
    },
    "scrolled": false
   },
   "outputs": [
    {
     "data": {
      "image/png": "[encoded data removed]",
      "text/plain": [
       "<Figure size 1296x432 with 2 Axes>"
      ]
     },
     "metadata": {
      "needs_background": "light"
     },
     "output_type": "display_data"
    },
    {
     "data": {
      "text/plain": [
       "{(0.5,\n",
       "  0): RiverProblem - \n",
       " Lambda: 0 \n",
       " Epsilon: 0.001 }"
      ]
     },
     "metadata": {},
     "output_type": "display_data"
    }
   ],
   "source": [
    "# Exponential Utility Function for RS-MDP - Display\n",
    "if run_EUF_RSPI: \n",
    "    display(EUF_RSPI)\n",
    "#     display(EUF_RSMDP[(0.2, 0)])"
   ]
  },
  {
   "cell_type": "markdown",
   "metadata": {},
   "source": [
    "# PieceLinear - RSVI (Risk Sensitive Value Iteration)\n",
    "\n",
    "Define-se uma transformação por partes linear $X^{(k)}$ que depende de um parâmetro $x$ (diferença temporal) seja positiva ou não e um fator de risco $k$:\n",
    "\n",
    "$$X^{(k)}(x)= \\left\\{ \\begin{array} & (1-k)x & \\text{, if x < 0,} \\\\ (1+k)x & \\text{, otherwise.} \\end{array} \\right. $$\n",
    "\n",
    "---"
   ]
  },
  {
   "cell_type": "code",
   "execution_count": 14,
   "metadata": {
    "ExecuteTime": {
     "end_time": "2023-04-03T23:28:47.250359Z",
     "start_time": "2023-04-03T23:28:47.158359Z"
    }
   },
   "outputs": [],
   "source": [
    "# Piecewise-Linear RSPI - Configs\n",
    "if run_PWL_RSVI:\n",
    "    PWL_RSVI = {}\n",
    "    \n",
    "    range_river_flow = [0.2] #[rf/10 for rf in range(1, 10)]\n",
    "    range_k     = [v/10 for v in range(-9, 10)]\n",
    "    gamma       = 1\n",
    "    range_alpha = [np.round(1/(1+abs(k)), 2) for k in range_k]\n",
    "    epsilon = 0.005\n",
    "    \n",
    "    costs = {0: 1, 1: 1, 2: 1, 3: 1}"
   ]
  },
  {
   "cell_type": "code",
   "execution_count": 15,
   "metadata": {
    "ExecuteTime": {
     "end_time": "2023-04-03T23:31:09.988644Z",
     "start_time": "2023-04-03T23:28:47.251860Z"
    },
    "scrolled": false
   },
   "outputs": [
    {
     "name": "stdout",
     "output_type": "stream",
     "text": [
      "Processando: RF [0.2] K [-0.9] Alpha [0.53]\n",
      "Processando: RF [0.2] K [-0.8] Alpha [0.56]\n",
      "Processando: RF [0.2] K [-0.7] Alpha [0.59]\n",
      "Processando: RF [0.2] K [-0.6] Alpha [0.62]\n",
      "Processando: RF [0.2] K [-0.5] Alpha [0.67]\n",
      "Processando: RF [0.2] K [-0.4] Alpha [0.71]\n",
      "Processando: RF [0.2] K [-0.3] Alpha [0.77]\n",
      "Processando: RF [0.2] K [-0.2] Alpha [0.83]\n",
      "Processando: RF [0.2] K [-0.1] Alpha [0.91]\n",
      "Processando: RF [0.2] K [0.0] Alpha [1.0]\n",
      "Processando: RF [0.2] K [0.1] Alpha [0.91]\n",
      "Processando: RF [0.2] K [0.2] Alpha [0.83]\n",
      "Processando: RF [0.2] K [0.3] Alpha [0.77]\n",
      "Processando: RF [0.2] K [0.4] Alpha [0.71]\n",
      "Processando: RF [0.2] K [0.5] Alpha [0.67]\n",
      "Processando: RF [0.2] K [0.6] Alpha [0.62]\n",
      "Processando: RF [0.2] K [0.7] Alpha [0.59]\n",
      "Processando: RF [0.2] K [0.8] Alpha [0.56]\n",
      "Processando: RF [0.2] K [0.9] Alpha [0.53]\n"
     ]
    }
   ],
   "source": [
    "# Piecewise-Linear RSPI - Run\n",
    "if run_PWL_RSVI:\n",
    "    for river_flow in range_river_flow:\n",
    "        for i in range(0, len(range_k)):\n",
    "            print(f'Processando: RF [{river_flow}] K [{range_k[i]}] Alpha [{range_alpha[i]}]')\n",
    "            PWL_RSVI[(river_flow, range_k[i], gamma, range_alpha[i])] = \\\n",
    "                run_river_problem(river_flow=river_flow, model_obj=PieceLinear_RSVI,\n",
    "                gamma=gamma, k=range_k[i], alpha=range_alpha[i], epsilon=epsilon)"
   ]
  },
  {
   "cell_type": "code",
   "execution_count": 16,
   "metadata": {
    "ExecuteTime": {
     "end_time": "2023-04-03T23:31:10.112644Z",
     "start_time": "2023-04-03T23:31:09.990144Z"
    }
   },
   "outputs": [],
   "source": [
    "if run_PWL_RSVI:\n",
    "    PWL_RSVI.keys()"
   ]
  },
  {
   "cell_type": "code",
   "execution_count": 17,
   "metadata": {
    "ExecuteTime": {
     "end_time": "2023-04-03T23:31:10.205644Z",
     "start_time": "2023-04-03T23:31:10.113644Z"
    },
    "scrolled": true
   },
   "outputs": [],
   "source": [
    "if run_PWL_RSVI:\n",
    "    PWL_RSVI"
   ]
  },
  {
   "cell_type": "markdown",
   "metadata": {},
   "source": [
    "# PieceLinear - RSPI (Risk Sensitive Policy Iteration)\n",
    "\n",
    "Define-se uma transformação por partes linear $X^{(k)}$ que depende de um parâmetro $x$ (diferença temporal) seja positiva ou não e um fator de risco $k$:\n",
    "\n",
    "$$X^{(k)}(x)= \\left\\{ \\begin{array} & (1-k)x & \\text{, if x < 0,} \\\\ (1+k)x & \\text{, otherwise.} \\end{array} \\right. $$\n",
    "\n",
    "1. Escolhe uma política $\\pi_0$ arbitrária;\n",
    "2. Define $i=0$ como a quantidade de iterações;\n",
    "3. Para cada iteração, enquanto ($i=0$ ou $\\pi_i \\neq \\pi_{i-1}$) faça: \\\n",
    "    3.1. Policy Evaluation: obtém o valor da política atual $\\pi_i$ para cada $s \\in S$ resolvendo o seguinte sistema de equações: \\\n",
    "    $$\n",
    "    O^{\\pi}_{\\alpha k}[V](s) = V(s) + \\alpha \\sum_{s'\\in S} P(s'|s, \\pi(s)) X^{(k)}(C(s,\\pi(s),s')+\\gamma V(s') - V(s))    \n",
    "    $$\n",
    "    3.2. Policy Improvement: melhora a política atual realizando uma atualização para todo $s \\in S$: \\\n",
    "    $$\n",
    "    \\pi'(s)=\\text{argmin}_{a\\in A}\\sum_{s'\\in S} P(s'|s, a) X^{(k)}(C(s,a,s')+\\gamma V(s') - V^\\pi_k(s))\n",
    "    $$"
   ]
  },
  {
   "cell_type": "code",
   "execution_count": 18,
   "metadata": {
    "ExecuteTime": {
     "end_time": "2023-04-03T23:31:10.298647Z",
     "start_time": "2023-04-03T23:31:10.206646Z"
    }
   },
   "outputs": [],
   "source": [
    "# Piecewise-Linear RSPI - Configs\n",
    "if run_PWL_RSPI:\n",
    "    PWL_RSPI = {}\n",
    "    \n",
    "    range_river_flow = [0.75] #[rf/10 for rf in range(1, 10)]\n",
    "    range_k     = [v/10 for v in range(-9, 10)]\n",
    "    gamma       = 1\n",
    "    range_alpha = [np.round(1/(1+abs(k)), 2) for k in range_k]\n",
    "    epsilon = 0.005\n",
    "    \n",
    "    costs = {0: 1, 1: 1, 2: 1, 3: 1}"
   ]
  },
  {
   "cell_type": "code",
   "execution_count": 19,
   "metadata": {
    "ExecuteTime": {
     "end_time": "2023-04-03T23:31:13.863652Z",
     "start_time": "2023-04-03T23:31:10.300146Z"
    },
    "scrolled": false
   },
   "outputs": [
    {
     "name": "stdout",
     "output_type": "stream",
     "text": [
      "Processando: RF [0.2] K [-0.9] Alpha [0.53]\n",
      "Iteração: 10\r"
     ]
    },
    {
     "ename": "NameError",
     "evalue": "name 'PWL_RSPI' is not defined",
     "output_type": "error",
     "traceback": [
      "\u001b[1;31m---------------------------------------------------------------------------\u001b[0m",
      "\u001b[1;31mNameError\u001b[0m                                 Traceback (most recent call last)",
      "\u001b[1;32m<ipython-input-19-88a8f21c2b00>\u001b[0m in \u001b[0;36m<module>\u001b[1;34m\u001b[0m\n\u001b[0;32m      3\u001b[0m     \u001b[1;32mfor\u001b[0m \u001b[0mi\u001b[0m \u001b[1;32min\u001b[0m \u001b[0mrange\u001b[0m\u001b[1;33m(\u001b[0m\u001b[1;36m0\u001b[0m\u001b[1;33m,\u001b[0m \u001b[0mlen\u001b[0m\u001b[1;33m(\u001b[0m\u001b[0mrange_k\u001b[0m\u001b[1;33m)\u001b[0m\u001b[1;33m)\u001b[0m\u001b[1;33m:\u001b[0m\u001b[1;33m\u001b[0m\u001b[1;33m\u001b[0m\u001b[0m\n\u001b[0;32m      4\u001b[0m         \u001b[0mprint\u001b[0m\u001b[1;33m(\u001b[0m\u001b[1;34mf'Processando: RF [{river_flow}] K [{range_k[i]}] Alpha [{range_alpha[i]}]'\u001b[0m\u001b[1;33m)\u001b[0m\u001b[1;33m\u001b[0m\u001b[1;33m\u001b[0m\u001b[0m\n\u001b[1;32m----> 5\u001b[1;33m         \u001b[0mPWL_RSPI\u001b[0m\u001b[1;33m[\u001b[0m\u001b[1;33m(\u001b[0m\u001b[0mriver_flow\u001b[0m\u001b[1;33m,\u001b[0m \u001b[0mrange_k\u001b[0m\u001b[1;33m[\u001b[0m\u001b[0mi\u001b[0m\u001b[1;33m]\u001b[0m\u001b[1;33m,\u001b[0m \u001b[0mgamma\u001b[0m\u001b[1;33m,\u001b[0m \u001b[0mrange_alpha\u001b[0m\u001b[1;33m[\u001b[0m\u001b[0mi\u001b[0m\u001b[1;33m]\u001b[0m\u001b[1;33m)\u001b[0m\u001b[1;33m]\u001b[0m \u001b[1;33m=\u001b[0m\u001b[0;31m \u001b[0m\u001b[0;31m\\\u001b[0m\u001b[1;33m\u001b[0m\u001b[1;33m\u001b[0m\u001b[0m\n\u001b[0m\u001b[0;32m      6\u001b[0m             run_river_problem(river_flow=river_flow, model_obj=PieceLinear_RSPI,\n\u001b[0;32m      7\u001b[0m             gamma=gamma, k=range_k[i], alpha=range_alpha[i], epsilon=epsilon)\n",
      "\u001b[1;31mNameError\u001b[0m: name 'PWL_RSPI' is not defined"
     ]
    }
   ],
   "source": [
    "# Piecewise-Linear RSPI - Run\n",
    "for river_flow in range_river_flow:\n",
    "    for i in range(0, len(range_k)):\n",
    "        print(f'Processando: RF [{river_flow}] K [{range_k[i]}] Alpha [{range_alpha[i]}]')\n",
    "        PWL_RSPI[(river_flow, range_k[i], gamma, range_alpha[i])] = \\\n",
    "            run_river_problem(river_flow=river_flow, model_obj=PieceLinear_RSPI,\n",
    "            gamma=gamma, k=range_k[i], alpha=range_alpha[i], epsilon=epsilon)"
   ]
  },
  {
   "cell_type": "code",
   "execution_count": null,
   "metadata": {
    "ExecuteTime": {
     "end_time": "2023-04-03T23:31:13.864654Z",
     "start_time": "2023-04-03T23:27:13.709Z"
    }
   },
   "outputs": [],
   "source": [
    "PWL_RSPI.keys()"
   ]
  },
  {
   "cell_type": "code",
   "execution_count": null,
   "metadata": {
    "ExecuteTime": {
     "end_time": "2023-04-03T23:31:13.865151Z",
     "start_time": "2023-04-03T23:27:13.710Z"
    },
    "scrolled": false
   },
   "outputs": [],
   "source": [
    "# PWL_RSPI[(0.2, -0.8, 1, 0.56)]\n",
    "PWL_RSPI"
   ]
  },
  {
   "cell_type": "markdown",
   "metadata": {},
   "source": [
    "# Comparando Políticas Geradas\n",
    "\n",
    "* Fixar em um ambiente (0.2 por exemplo) que o neutro atravessa no meio do rio para observar mais facil os comportamentos;\n",
    "* E para um só tamanho para validar o processo;\n",
    "* Residual\n",
    "\n",
    "Policy Evaluation Exponencial\n",
    "\n",
    "1 - \n",
    "PEXP(env, lambda, pi) -> R, avaliação da política para este mundo com lambda/pi;\n",
    "\n",
    "Gráfico: PEXP(env, lambda, pi_lambda) por lambda\n",
    "         PEXP(env, lambda, pi_linear) por lambda\n",
    "\n",
    "pi_linear = argmax_{pi_k} PEXP(env, lambda, pi_k)\n",
    "\n",
    "2 - Contrário da (1)\n",
    "P(env, K, pi) -> R, avaliação da política para este mundo com K/pi;\n",
    "\n",
    "3 -\n",
    "Lambda, K\n",
    "\n",
    "k_max = argmax_{k} PEXP(env, lambda, pi_k)\n",
    "\n",
    "4 - Contrário da (3)\n",
    "\n",
    "lambda_max = argmax_{lambda} PLINEAR(env, k, pi_lambda)\n",
    "\n",
    "---\n",
    "\n",
    "_* Calcular a variancia de uma política através de programação dinâmica sem usar simulações_"
   ]
  },
  {
   "cell_type": "code",
   "execution_count": null,
   "metadata": {},
   "outputs": [],
   "source": []
  },
  {
   "cell_type": "code",
   "execution_count": null,
   "metadata": {},
   "outputs": [],
   "source": []
  },
  {
   "cell_type": "code",
   "execution_count": null,
   "metadata": {},
   "outputs": [],
   "source": []
  },
  {
   "cell_type": "code",
   "execution_count": null,
   "metadata": {},
   "outputs": [],
   "source": []
  }
 ],
 "metadata": {
  "hide_input": false,
  "kernelspec": {
   "display_name": "Python 3",
   "language": "python",
   "name": "python3"
  },
  "language_info": {
   "codemirror_mode": {
    "name": "ipython",
    "version": 3
   },
   "file_extension": ".py",
   "mimetype": "text/x-python",
   "name": "python",
   "nbconvert_exporter": "python",
   "pygments_lexer": "ipython3",
   "version": "3.8.5"
  },
  "toc": {
   "base_numbering": 1,
   "nav_menu": {},
   "number_sections": true,
   "sideBar": true,
   "skip_h1_title": false,
   "title_cell": "Table of Contents",
   "title_sidebar": "Contents",
   "toc_cell": false,
   "toc_position": {},
   "toc_section_display": true,
   "toc_window_display": false
  }
 },
 "nbformat": 4,
 "nbformat_minor": 4
}
