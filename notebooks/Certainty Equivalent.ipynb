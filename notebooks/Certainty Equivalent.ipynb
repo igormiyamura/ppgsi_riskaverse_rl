{
 "cells": [
  {
   "cell_type": "code",
   "execution_count": 109,
   "metadata": {
    "ExecuteTime": {
     "end_time": "2023-05-23T14:33:17.898817Z",
     "start_time": "2023-05-23T14:33:17.882108Z"
    }
   },
   "outputs": [],
   "source": [
    "import numpy as np, math"
   ]
  },
  {
   "cell_type": "code",
   "execution_count": 110,
   "metadata": {
    "ExecuteTime": {
     "end_time": "2023-05-23T14:33:17.914333Z",
     "start_time": "2023-05-23T14:33:17.900320Z"
    }
   },
   "outputs": [],
   "source": [
    "def utility(x, y, vl_lambda):\n",
    "    return np.exp(np.sign(vl_lambda) * x) * y"
   ]
  },
  {
   "cell_type": "code",
   "execution_count": 111,
   "metadata": {
    "ExecuteTime": {
     "end_time": "2023-05-23T14:33:17.929842Z",
     "start_time": "2023-05-23T14:33:17.916332Z"
    }
   },
   "outputs": [
    {
     "name": "stdout",
     "output_type": "stream",
     "text": [
      "Custo: 10 | Lambda: -1 | TV: 1.0\n"
     ]
    }
   ],
   "source": [
    "cost = 10\n",
    "vl_lambda = -1\n",
    "T = [0, 0.5, 0.5, 0]\n",
    "V = [1, 1, 1, 1]\n",
    "\n",
    "TV = sum(np.multiply(T, V))\n",
    "\n",
    "print(f'Custo: {cost} | Lambda: {vl_lambda} | TV: {TV}')"
   ]
  },
  {
   "cell_type": "code",
   "execution_count": 112,
   "metadata": {
    "ExecuteTime": {
     "end_time": "2023-05-23T14:33:17.945348Z",
     "start_time": "2023-05-23T14:33:17.931343Z"
    }
   },
   "outputs": [
    {
     "data": {
      "text/plain": [
       "4.5399929762484854e-05"
      ]
     },
     "execution_count": 112,
     "metadata": {},
     "output_type": "execute_result"
    }
   ],
   "source": [
    "u = utility(cost, TV, vl_lambda)\n",
    "u"
   ]
  },
  {
   "cell_type": "code",
   "execution_count": 115,
   "metadata": {
    "ExecuteTime": {
     "end_time": "2023-05-23T14:36:24.831388Z",
     "start_time": "2023-05-23T14:36:24.811877Z"
    }
   },
   "outputs": [
    {
     "ename": "ValueError",
     "evalue": "math domain error",
     "output_type": "error",
     "traceback": [
      "\u001b[1;31m---------------------------------------------------------------------------\u001b[0m",
      "\u001b[1;31mValueError\u001b[0m                                Traceback (most recent call last)",
      "\u001b[1;32m<ipython-input-115-8f964a7914e2>\u001b[0m in \u001b[0;36m<module>\u001b[1;34m\u001b[0m\n\u001b[1;32m----> 1\u001b[1;33m \u001b[0mmath\u001b[0m\u001b[1;33m.\u001b[0m\u001b[0mlog\u001b[0m\u001b[1;33m(\u001b[0m\u001b[1;33m-\u001b[0m\u001b[1;36m1\u001b[0m\u001b[1;33m)\u001b[0m\u001b[1;33m\u001b[0m\u001b[1;33m\u001b[0m\u001b[0m\n\u001b[0m",
      "\u001b[1;31mValueError\u001b[0m: math domain error"
     ]
    }
   ],
   "source": [
    "math.log(-1)"
   ]
  },
  {
   "cell_type": "code",
   "execution_count": 113,
   "metadata": {
    "ExecuteTime": {
     "end_time": "2023-05-23T14:33:17.960850Z",
     "start_time": "2023-05-23T14:33:17.947349Z"
    }
   },
   "outputs": [],
   "source": [
    "def reverse_utility(x, vl_lambda):\n",
    "    return math.log(x) / vl_lambda"
   ]
  },
  {
   "cell_type": "code",
   "execution_count": 114,
   "metadata": {
    "ExecuteTime": {
     "end_time": "2023-05-23T14:33:17.976451Z",
     "start_time": "2023-05-23T14:33:17.962349Z"
    }
   },
   "outputs": [
    {
     "data": {
      "text/plain": [
       "10.0"
      ]
     },
     "execution_count": 114,
     "metadata": {},
     "output_type": "execute_result"
    }
   ],
   "source": [
    "reverse_utility(u, vl_lambda)"
   ]
  }
 ],
 "metadata": {
  "hide_input": false,
  "kernelspec": {
   "display_name": "Python 3",
   "language": "python",
   "name": "python3"
  },
  "language_info": {
   "codemirror_mode": {
    "name": "ipython",
    "version": 3
   },
   "file_extension": ".py",
   "mimetype": "text/x-python",
   "name": "python",
   "nbconvert_exporter": "python",
   "pygments_lexer": "ipython3",
   "version": "3.8.5"
  },
  "toc": {
   "base_numbering": 1,
   "nav_menu": {},
   "number_sections": true,
   "sideBar": true,
   "skip_h1_title": false,
   "title_cell": "Table of Contents",
   "title_sidebar": "Contents",
   "toc_cell": false,
   "toc_position": {},
   "toc_section_display": true,
   "toc_window_display": false
  }
 },
 "nbformat": 4,
 "nbformat_minor": 4
}
