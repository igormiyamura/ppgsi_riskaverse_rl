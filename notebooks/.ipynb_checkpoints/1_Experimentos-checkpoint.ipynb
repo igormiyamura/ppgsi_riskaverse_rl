{
 "cells": [
  {
   "cell_type": "code",
   "execution_count": 1,
   "metadata": {
    "ExecuteTime": {
     "end_time": "2023-03-23T00:44:35.228868Z",
     "start_time": "2023-03-23T00:44:20.242092Z"
    },
    "code_folding": []
   },
   "outputs": [],
   "source": [
    "# Bibliotecas\n",
    "import sys, pandas as pd, numpy as np\n",
    "import plotly.express as px\n",
    "import seaborn as sns, numpy as np, os\n",
    "from os.path import exists\n",
    "sys.path.append('../')\n",
    "\n",
    "from env.RiverProblem import RiverProblem\n",
    "from rl_utils.VizTools import VizTools\n",
    "\n",
    "# Modelos\n",
    "from models.ValueIteration import ValueIteration\n",
    "from models.PolicyIteration import PolicyIteration\n",
    "from models.RS_PolicyIteration import RS_PolicyIteration\n",
    "from models.PieceLinear_RSPI import PieceLinear_RSPI\n",
    "\n",
    "from evaluation.AverageCosts import AverageCosts\n",
    "\n",
    "%load_ext autoreload\n",
    "%autoreload 2"
   ]
  },
  {
   "cell_type": "markdown",
   "metadata": {},
   "source": [
    "# Experimentos - 1S2023\n",
    "\n",
    "|Data|Descritivo|\n",
    "|--|--|\n",
    "|03-2023|Primeiros experimentos com confecção de artigo|\n",
    "\n",
    "---\n",
    "\n",
    "## Referências\n",
    "\n",
    "**Exponential**\n",
    "\n",
    "2013 MICAI: Shortest Stochastic Path with Risk Sensitive Evaluation \\\n",
    "ou 2016 BRACIS: Extreme Risk Averse Policy for Goal-Directed Risk-Sensitive MDP\n",
    "\n",
    "**Piecewise Linear**\n",
    "\n",
    "2020 MICAI: Risk-Sensitive Piecewise-Linear Policy Iteration for SSP-MDP"
   ]
  },
  {
   "cell_type": "code",
   "execution_count": 28,
   "metadata": {
    "ExecuteTime": {
     "end_time": "2023-03-23T00:52:42.955073Z",
     "start_time": "2023-03-23T00:52:42.862574Z"
    }
   },
   "outputs": [],
   "source": [
    "# ----------------------------------------------\n",
    "# -- Configurações Iniciais --------------------\n",
    "# ----------------------------------------------\n",
    "\n",
    "run_value_iteration = False\n",
    "run_policy_iteration = False\n",
    "run_EUF_RSMDP = True\n",
    "\n",
    "# -- Configurações Rio\n",
    "\n",
    "grid_size = (5, 20)\n",
    "goal_state = (4, 0)\n",
    "\n",
    "rp = RiverProblem(grid_size, goal_state, dead_end=False)\n",
    "block_type = rp.build_block_type()"
   ]
  },
  {
   "cell_type": "code",
   "execution_count": 29,
   "metadata": {
    "ExecuteTime": {
     "end_time": "2023-03-23T00:55:54.864164Z",
     "start_time": "2023-03-23T00:55:54.746164Z"
    },
    "code_folding": []
   },
   "outputs": [],
   "source": [
    "def run_river_problem(river_flow, model_obj, epsilon=None, vl_lambda=None, discount_factor=None, \n",
    "                                     k=None, gamma=None, alpha=None, _log=False):\n",
    "    transition_probabilities = rp.build_transition_probabilities(block_type, river_flow=river_flow)\n",
    "\n",
    "    is_ok, dict_verification = rp._verify_sum_probabilities(transition_probabilities, block_type)\n",
    "    if not is_ok: print(f'Soma das Probabilidades está válida? {is_ok}')\n",
    "    \n",
    "    if epsilon != None and discount_factor != None:\n",
    "        rnp = model_obj(grid_size, goal_state, transition_probabilities, costs, \n",
    "                         num_actions=4, discount_factor=discount_factor, epsilon=epsilon)\n",
    "    elif epsilon != None and vl_lambda != None:\n",
    "        rnp = model_obj(grid_size, goal_state, transition_probabilities, costs, vl_lambda,\n",
    "                         num_actions=4, discount_factor=discount_factor, epsilon=epsilon)\n",
    "    elif epsilon != None and k != None and gamma != None and alpha != None:\n",
    "        rnp = model_obj(grid_size, goal_state, transition_probabilities, costs, k, alpha, gamma,\n",
    "                         num_actions=4, epsilon=epsilon)\n",
    "    \n",
    "    num_iterations, time = rnp.run_converge()\n",
    "    if _log: print(f'Número de Iterações: {num_iterations}')\n",
    "    if _log: print(f'Tempo de Execução: {time}s')\n",
    "    \n",
    "    return rnp"
   ]
  },
  {
   "cell_type": "markdown",
   "metadata": {},
   "source": [
    "# Value Iteration"
   ]
  },
  {
   "cell_type": "code",
   "execution_count": 22,
   "metadata": {
    "ExecuteTime": {
     "end_time": "2023-03-23T00:50:40.314931Z",
     "start_time": "2023-03-23T00:50:40.196434Z"
    },
    "code_folding": [
     0
    ]
   },
   "outputs": [],
   "source": [
    "# Value Iteration - Configs\n",
    "if run_value_iteration:\n",
    "    discount_factor = 0.95\n",
    "    epsilon = 0.001\n",
    "\n",
    "    costs = {0: 1, 1: 1, 2: 1, 3: 1}\n",
    "    block_type = rp.build_block_type()"
   ]
  },
  {
   "cell_type": "code",
   "execution_count": 23,
   "metadata": {
    "ExecuteTime": {
     "end_time": "2023-03-23T00:50:40.485433Z",
     "start_time": "2023-03-23T00:50:40.378933Z"
    },
    "code_folding": [
     0
    ]
   },
   "outputs": [],
   "source": [
    "# Value Iteration - Run\n",
    "if run_value_iteration:\n",
    "    value_iteration_01 = \\\n",
    "    run_river_problem(river_flow=0.1, model_obj=ValueIteration, epsilon=epsilon, discount_factor=discount_factor)\n",
    "    value_iteration_05 = \\\n",
    "    run_river_problem(river_flow=0.75, model_obj=ValueIteration, epsilon=epsilon, discount_factor=discount_factor)\n",
    "    value_iteration_09 = \\\n",
    "    run_river_problem(river_flow=0.9, model_obj=ValueIteration, epsilon=epsilon, discount_factor=discount_factor)"
   ]
  },
  {
   "cell_type": "code",
   "execution_count": 24,
   "metadata": {
    "ExecuteTime": {
     "end_time": "2023-03-23T00:50:40.640192Z",
     "start_time": "2023-03-23T00:50:40.536696Z"
    },
    "code_folding": [
     0
    ],
    "hide_input": false,
    "scrolled": true
   },
   "outputs": [],
   "source": [
    "# Value Iteration - Displays\n",
    "if run_value_iteration:\n",
    "    display(value_iteration_01)\n",
    "    display(value_iteration_05)\n",
    "    display(value_iteration_09)"
   ]
  },
  {
   "cell_type": "markdown",
   "metadata": {},
   "source": [
    "# Policy Iteration\n",
    "\n",
    "Definimos o algoritmo de Policy Iteration da seguinte forma:\n",
    "\n",
    "1. Escolhe uma política $\\pi_0$ arbitrária;\n",
    "2. Define $i=0$ como a quantidade de iterações;\n",
    "3. Para cada iteração, enquanto ($i=0$ ou $\\pi_i \\neq \\pi_{i-1}$) faça: \\\n",
    "    3.1. Policy Evaluation: obtém o valor da política atual $\\pi_i$ para cada $s \\in S$ resolvendo o seguinte sistema de equações: \\\n",
    "    $$V^{(\\pi_i)}(s)=r(s,\\pi_i(s))+\\sum_{s'\\in S} T(s, \\pi_i(s), s') V^{\\pi_i}(s') \\forall s \\in S$$\n",
    "    3.2. Policy Improvement: melhora a política atual realizando uma atualização para todo $s \\in S$: \\\n",
    "    $$\\pi_{i+1}(s)=\\text{argmax}_{a \\in A_s}[r(s,a)+\\sum_{s'\\in S} T(s, a, s') V^{\\pi_i}(s')]$$"
   ]
  },
  {
   "cell_type": "code",
   "execution_count": 25,
   "metadata": {
    "ExecuteTime": {
     "end_time": "2023-03-23T00:52:13.917161Z",
     "start_time": "2023-03-23T00:52:13.818662Z"
    },
    "code_folding": [
     0
    ]
   },
   "outputs": [],
   "source": [
    "# Policy Iteration - Configs\n",
    "if run_policy_iteration:\n",
    "    discount_factor = 0.99\n",
    "    epsilon = 0.001\n",
    "    costs = {0: 1, 1: 1, 2: 1, 3: 1}"
   ]
  },
  {
   "cell_type": "code",
   "execution_count": 26,
   "metadata": {
    "ExecuteTime": {
     "end_time": "2023-03-23T00:52:14.072003Z",
     "start_time": "2023-03-23T00:52:13.976500Z"
    },
    "code_folding": [
     0
    ],
    "scrolled": true
   },
   "outputs": [],
   "source": [
    "# Policy Iteration - Run\n",
    "if run_policy_iteration:\n",
    "    policy_iteration_01 = \\\n",
    "    run_river_problem(river_flow=0.1, model_obj=PolicyIteration, epsilon=epsilon, discount_factor=discount_factor)\n",
    "    policy_iteration_05 = \\\n",
    "    run_river_problem(river_flow=0.5, model_obj=PolicyIteration, epsilon=epsilon, discount_factor=discount_factor)\n",
    "    policy_iteration_09 = \\\n",
    "    run_river_problem(river_flow=0.9, model_obj=PolicyIteration, epsilon=epsilon, discount_factor=discount_factor)"
   ]
  },
  {
   "cell_type": "code",
   "execution_count": 27,
   "metadata": {
    "ExecuteTime": {
     "end_time": "2023-03-23T00:52:14.242026Z",
     "start_time": "2023-03-23T00:52:14.138525Z"
    },
    "code_folding": [
     0
    ],
    "scrolled": true
   },
   "outputs": [],
   "source": [
    "# Policy Iteration - Displays\n",
    "if run_policy_iteration:\n",
    "    display(policy_iteration_01)\n",
    "    display(policy_iteration_05)\n",
    "    display(policy_iteration_09)"
   ]
  },
  {
   "cell_type": "markdown",
   "metadata": {},
   "source": [
    "# Exponential Utility Function for RS-MDP\n",
    "\n",
    "Definimos o algoritmo de Risk Sensitive MDP da seguinte forma:\n",
    "\n",
    "1. Escolhe uma política $\\pi_0$ arbitrária;\n",
    "2. Define $i=0$ como a quantidade de iterações;\n",
    "3. Para cada iteração, enquanto ($i=0$ ou $\\pi_i \\neq \\pi_{i-1}$) faça: \\\n",
    "    3.1. Policy Evaluation: obtém o valor da política atual $\\pi_i$ para cada $s \\in S$ resolvendo o seguinte sistema de equações: \\\n",
    "    $$V^{\\pi_i}(s_G)=-\\text{sign}(\\lambda)$$\n",
    "    $$V^{(\\pi_i)}(s)=\\text{exp}(-\\lambda r(s,\\pi_i(s)))\\sum_{s'\\in S} T(s, \\pi_i(s), s') V^{\\pi_i}(s') \\forall s \\neq s_G \\in S$$\n",
    "    3.2. Policy Improvement: melhora a política atual realizando uma atualização para todo $s \\in S$: \\\n",
    "    $$\\pi_{i+1}(s)=\\text{argmax}_{a \\in A_s}[\\text{exp}(-\\lambda r(s,a))\\sum_{s'\\in S} T(s, a, s') V^{\\pi_i}(s')]$$\n",
    "    \n",
    "    \n",
    "When λ < 0 (risk prone) and the policy π is proper, then π is also λ-feasible. However, this is not guaranteed for all policies when λ > 0 (risk averse). Given a GD-RSMDP, no result exists on how to determine the set of λ > 0 such that exists a λ-feasible policy.\n"
   ]
  },
  {
   "cell_type": "code",
   "execution_count": 30,
   "metadata": {
    "ExecuteTime": {
     "end_time": "2023-03-23T00:55:56.962861Z",
     "start_time": "2023-03-23T00:55:56.863862Z"
    }
   },
   "outputs": [],
   "source": [
    "# Exponential Utility Function for RS-MDP - Configs\n",
    "if run_EUF_RSMDP:\n",
    "    RSMDP = {}\n",
    "\n",
    "    range_river_flow = [0.2]\n",
    "    range_lambda     = [-1] \n",
    "    epsilon = 0.001\n",
    "    \n",
    "    costs = {0: 1, 1: 1, 2: 1, 3: 1}"
   ]
  },
  {
   "cell_type": "code",
   "execution_count": 31,
   "metadata": {
    "ExecuteTime": {
     "end_time": "2023-03-23T00:55:58.199425Z",
     "start_time": "2023-03-23T00:55:57.469879Z"
    },
    "scrolled": true
   },
   "outputs": [
    {
     "ename": "TypeError",
     "evalue": "__init__() missing 1 required positional argument: 'vl_lambda'",
     "output_type": "error",
     "traceback": [
      "\u001b[1;31m---------------------------------------------------------------------------\u001b[0m",
      "\u001b[1;31mTypeError\u001b[0m                                 Traceback (most recent call last)",
      "\u001b[1;32m<ipython-input-31-ab752c06c699>\u001b[0m in \u001b[0;36m<module>\u001b[1;34m\u001b[0m\n\u001b[0;32m      4\u001b[0m         \u001b[1;32mfor\u001b[0m \u001b[0mvl_lambda\u001b[0m \u001b[1;32min\u001b[0m \u001b[0mrange_lambda\u001b[0m\u001b[1;33m:\u001b[0m\u001b[1;33m\u001b[0m\u001b[1;33m\u001b[0m\u001b[0m\n\u001b[0;32m      5\u001b[0m             \u001b[0mEUF_RSMDP\u001b[0m\u001b[1;33m[\u001b[0m\u001b[1;33m(\u001b[0m\u001b[0mriver_flow\u001b[0m\u001b[1;33m,\u001b[0m \u001b[0mvl_lambda\u001b[0m\u001b[1;33m,\u001b[0m \u001b[0mdiscount_factor\u001b[0m\u001b[1;33m)\u001b[0m\u001b[1;33m]\u001b[0m \u001b[1;33m=\u001b[0m\u001b[0;31m \u001b[0m\u001b[0;31m\\\u001b[0m\u001b[1;33m\u001b[0m\u001b[1;33m\u001b[0m\u001b[0m\n\u001b[1;32m----> 6\u001b[1;33m                                             run_river_problem(river_flow=river_flow, model_obj=RS_PolicyIteration, \n\u001b[0m\u001b[0;32m      7\u001b[0m                                             discount_factor=discount_factor, vl_lambda=vl_lambda, epsilon=epsilon)\n",
      "\u001b[1;32m<ipython-input-29-eca759677c9e>\u001b[0m in \u001b[0;36mrun_river_problem\u001b[1;34m(river_flow, model_obj, epsilon, vl_lambda, discount_factor, k, gamma, alpha, _log)\u001b[0m\n\u001b[0;32m      7\u001b[0m \u001b[1;33m\u001b[0m\u001b[0m\n\u001b[0;32m      8\u001b[0m     \u001b[1;32mif\u001b[0m \u001b[0mepsilon\u001b[0m \u001b[1;33m!=\u001b[0m \u001b[1;32mNone\u001b[0m \u001b[1;32mand\u001b[0m \u001b[0mdiscount_factor\u001b[0m \u001b[1;33m!=\u001b[0m \u001b[1;32mNone\u001b[0m\u001b[1;33m:\u001b[0m\u001b[1;33m\u001b[0m\u001b[1;33m\u001b[0m\u001b[0m\n\u001b[1;32m----> 9\u001b[1;33m         rnp = model_obj(grid_size, goal_state, transition_probabilities, costs, \n\u001b[0m\u001b[0;32m     10\u001b[0m                          num_actions=4, discount_factor=discount_factor, epsilon=epsilon)\n\u001b[0;32m     11\u001b[0m     \u001b[1;32melif\u001b[0m \u001b[0mepsilon\u001b[0m \u001b[1;33m!=\u001b[0m \u001b[1;32mNone\u001b[0m \u001b[1;32mand\u001b[0m \u001b[0mvl_lambda\u001b[0m \u001b[1;33m!=\u001b[0m \u001b[1;32mNone\u001b[0m \u001b[1;32mand\u001b[0m \u001b[0mdiscount_factor\u001b[0m \u001b[1;33m!=\u001b[0m \u001b[1;32mNone\u001b[0m\u001b[1;33m:\u001b[0m\u001b[1;33m\u001b[0m\u001b[1;33m\u001b[0m\u001b[0m\n",
      "\u001b[1;31mTypeError\u001b[0m: __init__() missing 1 required positional argument: 'vl_lambda'"
     ]
    }
   ],
   "source": [
    "# Exponential Utility Function for RS-MDP - Run\n",
    "if run_EUF_RSMDP:\n",
    "    for river_flow in range_river_flow:\n",
    "        for vl_lambda in range_lambda:\n",
    "            EUF_RSMDP[(river_flow, vl_lambda, discount_factor)] = \\\n",
    "                                            run_river_problem(river_flow=river_flow, model_obj=RS_PolicyIteration, \n",
    "                                            vl_lambda=vl_lambda, epsilon=epsilon)"
   ]
  },
  {
   "cell_type": "code",
   "execution_count": null,
   "metadata": {
    "ExecuteTime": {
     "end_time": "2023-03-22T18:18:22.187326Z",
     "start_time": "2023-03-22T18:18:22.033825Z"
    }
   },
   "outputs": [],
   "source": [
    "# Exponential Utility Function for RS-MDP - Keys\n",
    "if run_EUF_RSMDP:\n",
    "    display(RSMDP.keys())"
   ]
  },
  {
   "cell_type": "code",
   "execution_count": null,
   "metadata": {
    "ExecuteTime": {
     "end_time": "2023-03-22T18:18:25.442690Z",
     "start_time": "2023-03-22T18:18:24.982170Z"
    }
   },
   "outputs": [],
   "source": [
    "# Exponential Utility Function for RS-MDP - Display\n",
    "if run_EUF_RSMDP: \n",
    "    display(RSMDP[(0.2, -5, 0.95)])"
   ]
  },
  {
   "cell_type": "markdown",
   "metadata": {},
   "source": [
    "# PieceLinear - RSPI (Risk Sensitive Policy Iteration)\n",
    "\n",
    "Define-se uma transformação por partes linear $X^{(k)}$ que depende de um parâmetro $x$ (diferença temporal) seja positiva ou não e um fator de risco $k$:\n",
    "\n",
    "$$X^{(k)}(x)= \\left\\{ \\begin{array} & (1-k)x & \\text{, if x < 0,} \\\\ (1+k)x & \\text{, otherwise.} \\end{array} \\right. $$\n",
    "\n",
    "1. Escolhe uma política $\\pi_0$ arbitrária;\n",
    "2. Define $i=0$ como a quantidade de iterações;\n",
    "3. Para cada iteração, enquanto ($i=0$ ou $\\pi_i \\neq \\pi_{i-1}$) faça: \\\n",
    "    3.1. Policy Evaluation: obtém o valor da política atual $\\pi_i$ para cada $s \\in S$ resolvendo o seguinte sistema de equações: \\\n",
    "    $$\n",
    "    O^{\\pi}_{\\alpha k}[V](s) = V(s) + \\alpha \\sum_{s'\\in S} P(s'|s, \\pi(s)) X^{(k)}(C(s,\\pi(s),s')+\\gamma V(s') - V(s))    \n",
    "    $$\n",
    "    3.2. Policy Improvement: melhora a política atual realizando uma atualização para todo $s \\in S$: \\\n",
    "    $$\n",
    "    \\pi'(s)=\\text{argmin}_{a\\in A}\\sum_{s'\\in S} P(s'|s, a) X^{(k)}(C(s,a,s')+\\gamma V(s') - V^\\pi_k(s))\n",
    "    $$"
   ]
  },
  {
   "cell_type": "code",
   "execution_count": null,
   "metadata": {
    "ExecuteTime": {
     "end_time": "2023-03-22T18:29:16.994418Z",
     "start_time": "2023-03-22T18:29:16.841918Z"
    }
   },
   "outputs": [],
   "source": [
    "RSPI = {}\n",
    "viz_tools = VizTools()\n",
    "\n",
    "grid_size = (5, 20)\n",
    "goal_state = (4, 0)\n",
    "rp = RiverProblem(grid_size, goal_state, dead_end=False)\n",
    "\n",
    "costs = {0: 1, 1: 1, 2: 1, 3: 1}\n",
    "block_type = rp.build_block_type()\n",
    "\n",
    "range_river_flow = [0.2] # [rf/10 for rf in range(1, 10)]\n",
    "range_k    = [0.9999999] # [v/10 for v in range(-9, 10)]\n",
    "gamma      = 1\n",
    "alpha      = 0.95 # Verificar qual valor devo colocar para alpha para convergir"
   ]
  },
  {
   "cell_type": "code",
   "execution_count": null,
   "metadata": {
    "ExecuteTime": {
     "end_time": "2023-03-22T18:29:19.883308Z",
     "start_time": "2023-03-22T18:29:18.552307Z"
    }
   },
   "outputs": [],
   "source": [
    "for river_flow in range_river_flow:\n",
    "    for k in range_k:\n",
    "        RSPI[(river_flow, k, gamma, alpha)] = run_river_problem(river_flow=river_flow, model_obj=PieceLinear_RSPI,\n",
    "                                            gamma=gamma, k=k, alpha=alpha)"
   ]
  },
  {
   "cell_type": "code",
   "execution_count": null,
   "metadata": {
    "ExecuteTime": {
     "end_time": "2023-03-22T18:29:20.038308Z",
     "start_time": "2023-03-22T18:29:19.884811Z"
    }
   },
   "outputs": [],
   "source": [
    "RSPI.keys()"
   ]
  },
  {
   "cell_type": "code",
   "execution_count": null,
   "metadata": {
    "ExecuteTime": {
     "end_time": "2023-03-22T18:29:20.657562Z",
     "start_time": "2023-03-22T18:29:20.181063Z"
    },
    "scrolled": false
   },
   "outputs": [],
   "source": [
    "#RSPI[(0.5, -0.9, 1, 0.95)]\n",
    "RSPI[(0.2, 0.9999999, 1, 0.95)]"
   ]
  },
  {
   "cell_type": "markdown",
   "metadata": {},
   "source": [
    "# Comparando Políticas Geradas\n",
    "\n",
    "* Fixar em um ambiente (0.2 por exemplo) que o neutro atravessa no meio do rio para observar mais facil os comportamentos;\n",
    "* E para um só tamanho para validar o processo;\n",
    "* Residual\n",
    "\n",
    "Policy Evaluation Exponencial\n",
    "\n",
    "1 - \n",
    "PEXP(env, lambda, pi) -> R, avaliação da política para este mundo com lambda/pi;\n",
    "\n",
    "Gráfico: PEXP(env, lambda, pi_lambda) por lambda\n",
    "         PEXP(env, lambda, pi_linear) por lambda\n",
    "\n",
    "pi_linear = argmax_{pi_k} PEXP(env, lambda, pi_k)\n",
    "\n",
    "2 - Contrário da (1)\n",
    "P(env, K, pi) -> R, avaliação da política para este mundo com K/pi;\n",
    "\n",
    "3 -\n",
    "Lambda, K\n",
    "\n",
    "k_max = argmax_{k} PEXP(env, lambda, pi_k)\n",
    "\n",
    "4 - Contrário da (3)\n",
    "\n",
    "lambda_max = argmax_{lambda} PLINEAR(env, k, pi_lambda)\n",
    "\n",
    "---\n",
    "\n",
    "_* Calcular a variancia de uma política através de programação dinâmica sem usar simulações_"
   ]
  },
  {
   "cell_type": "code",
   "execution_count": null,
   "metadata": {},
   "outputs": [],
   "source": []
  },
  {
   "cell_type": "code",
   "execution_count": null,
   "metadata": {},
   "outputs": [],
   "source": []
  },
  {
   "cell_type": "code",
   "execution_count": null,
   "metadata": {},
   "outputs": [],
   "source": []
  },
  {
   "cell_type": "code",
   "execution_count": null,
   "metadata": {},
   "outputs": [],
   "source": []
  },
  {
   "cell_type": "markdown",
   "metadata": {},
   "source": [
    "### RS-MDP with Exponential Utility Function"
   ]
  },
  {
   "cell_type": "code",
   "execution_count": null,
   "metadata": {
    "ExecuteTime": {
     "end_time": "2023-03-22T16:29:17.465361Z",
     "start_time": "2023-03-22T16:29:17.358864Z"
    },
    "code_folding": []
   },
   "outputs": [],
   "source": [
    "def build_res_dataframe_RSMDP(d, c, path, model):\n",
    "    res = pd.DataFrame(d.items(), columns=c)\n",
    "    res.insert(0, 'Model', model)\n",
    "    res.insert(2, 'RiverFlow', [v[0] for v in res['Keys']])\n",
    "    res.insert(3, 'Lambda', [v[1] for v in res['Keys']])\n",
    "    res.insert(4, 'DiscountFactor', [v[2] for v in res['Keys']])\n",
    "    \n",
    "    res.to_excel(path)\n",
    "    \n",
    "    return res"
   ]
  },
  {
   "cell_type": "code",
   "execution_count": null,
   "metadata": {
    "ExecuteTime": {
     "end_time": "2023-03-22T16:29:19.675058Z",
     "start_time": "2023-03-22T16:29:17.466361Z"
    }
   },
   "outputs": [],
   "source": [
    "# --------------------------------------------------------------------\n",
    "# Gerando simulações para RS-MDP with Exponential Utility Function ---\n",
    "# --------------------------------------------------------------------\n",
    "\n",
    "nm_model = 'EXP-UTILITY_RSMDP-v4'\n",
    "total_simulations = 10000\n",
    "average_costs, std_costs, dict_costs = {}, {}, {}\n",
    "\n",
    "nm_RSMDP_path_std = os.path.join('saidas', f'SAIDA_STD_{nm_model}.xlsx')\n",
    "nm_RSMDP_path_avg = os.path.join('saidas', f'SAIDA_MEAN_{nm_model}.xlsx')\n",
    "\n",
    "if exists(nm_RSMDP_path_std) and exists(nm_RSMDP_path_avg):\n",
    "    RSMDP_std_costs = pd.read_excel(nm_RSMDP_path_std)\n",
    "    RSMDP_average_costs = pd.read_excel(nm_RSMDP_path_avg)\n",
    "else:\n",
    "    for key in RSMDP.keys():\n",
    "        print(f'Processando [{key}]', end='\\r')\n",
    "        ac = AverageCosts(RSMDP[key], costs, give_up=1000)\n",
    "        res_costs, res_it = ac.run_simulations(total_simulations)\n",
    "        lst_costs = [c[1] for c in res_costs.items()]\n",
    "\n",
    "        dict_costs[key] = lst_costs\n",
    "        average_costs[key] = np.mean(lst_costs)\n",
    "        std_costs[key] = np.std(lst_costs)\n",
    "\n",
    "    RSMDP_std_costs = build_res_dataframe_RSMDP(std_costs, ['Keys', 'Std'], \n",
    "                                          path=nm_RSMDP_path_std, model=nm_model)\\\n",
    "                                          .sort_values(by=['RiverFlow', 'Lambda'])\n",
    "    RSMDP_average_costs = build_res_dataframe_RSMDP(average_costs, ['Keys', 'Mean'], \n",
    "                                          path=nm_RSMDP_path_avg, model=nm_model)\\\n",
    "                                          .sort_values(by=['RiverFlow', 'Lambda'])"
   ]
  },
  {
   "cell_type": "code",
   "execution_count": null,
   "metadata": {
    "ExecuteTime": {
     "end_time": "2023-03-22T16:29:19.830075Z",
     "start_time": "2023-03-22T16:29:19.676064Z"
    }
   },
   "outputs": [],
   "source": [
    "RSMDP_std_costs['Lambda_STR'] = [str(l) for l in RSMDP_std_costs['Lambda']]\n",
    "RSMDP_average_costs['Lambda_STR'] = [str(l) for l in RSMDP_average_costs['Lambda']]"
   ]
  },
  {
   "cell_type": "code",
   "execution_count": null,
   "metadata": {
    "ExecuteTime": {
     "end_time": "2023-03-22T16:29:19.954079Z",
     "start_time": "2023-03-22T16:29:19.831581Z"
    }
   },
   "outputs": [],
   "source": [
    "RSMDP_std_costs = RSMDP_std_costs.sort_values(by=['Lambda_STR', 'RiverFlow'], ascending=False)\n",
    "RSMDP_average_costs = RSMDP_average_costs.sort_values(by=['Lambda_STR', 'RiverFlow'], ascending=False)"
   ]
  },
  {
   "cell_type": "markdown",
   "metadata": {},
   "source": [
    "### PieceLinear - RSPI (Risk Sensitive Policy Iteration)"
   ]
  },
  {
   "cell_type": "code",
   "execution_count": null,
   "metadata": {
    "ExecuteTime": {
     "end_time": "2023-03-22T16:29:20.062579Z",
     "start_time": "2023-03-22T16:29:19.955083Z"
    },
    "code_folding": []
   },
   "outputs": [],
   "source": [
    "def build_res_dataframe_RSPI(d, c, path, model):\n",
    "    res = pd.DataFrame(d.items(), columns=c)\n",
    "    res.insert(0, 'Model', model)\n",
    "    res.insert(2, 'RiverFlow', [v[0] for v in res['Keys']])\n",
    "    res.insert(3, 'K', [v[1] for v in res['Keys']])\n",
    "    res.insert(4, 'Alpha', [v[2] for v in res['Keys']])\n",
    "    res.insert(5, 'Gamma', [v[3] for v in res['Keys']])\n",
    "    \n",
    "    res.to_excel(path)\n",
    "    \n",
    "    return res"
   ]
  },
  {
   "cell_type": "code",
   "execution_count": null,
   "metadata": {
    "ExecuteTime": {
     "end_time": "2023-03-22T18:04:42.912027Z",
     "start_time": "2023-03-22T17:34:38.788009Z"
    }
   },
   "outputs": [],
   "source": [
    "# --------------------------------------------------------------------------------\n",
    "# Gerando simulações para PieceLinear - RSPI (Risk Sensitive Policy Iteration) ---\n",
    "# --------------------------------------------------------------------------------\n",
    "\n",
    "nm_model = 'LINEAR_RSPI'\n",
    "total_simulations = 10000\n",
    "average_costs, std_costs, dict_costs = {}, {}, {}\n",
    "\n",
    "nm_LRSPI_path_std = os.path.join('saidas', f'SAIDA_STD_{nm_model}.xlsx')\n",
    "nm_LRSPI_path_avg = os.path.join('saidas', f'SAIDA_MEAN_{nm_model}.xlsx')\n",
    "\n",
    "if exists(nm_LRSPI_path_std) and exists(nm_LRSPI_path_avg):\n",
    "    RSPI_std_costs = pd.read_excel(nm_LRSPI_path_std)\n",
    "    RSPI_average_costs = pd.read_excel(nm_LRSPI_path_avg)\n",
    "else:\n",
    "    for key in RSPI.keys():\n",
    "        print(f'Processando [{key}]', end='\\r')\n",
    "        ac = AverageCosts(RSPI[key], costs, give_up=1000)\n",
    "        res_costs, res_it = ac.run_simulations(total_simulations)\n",
    "        lst_costs = [c[1] for c in res_costs.items()]\n",
    "\n",
    "        dict_costs[key] = lst_costs\n",
    "        average_costs[key] = np.mean(lst_costs)\n",
    "        std_costs[key] = np.std(lst_costs)\n",
    "    \n",
    "    RSPI_std_costs = build_res_dataframe_RSPI(std_costs, ['Keys', 'Std'], \n",
    "                                         path=nm_LRSPI_path_std, model=nm_model)\n",
    "    RSPI_average_costs = build_res_dataframe_RSPI(average_costs, ['Keys', 'Mean'], \n",
    "                                             path=nm_LRSPI_path_avg, model=nm_model)"
   ]
  },
  {
   "cell_type": "code",
   "execution_count": null,
   "metadata": {
    "ExecuteTime": {
     "end_time": "2023-03-22T18:04:43.082528Z",
     "start_time": "2023-03-22T18:04:42.913028Z"
    }
   },
   "outputs": [],
   "source": [
    "RSPI_std_costs = RSPI_std_costs.sort_values(by=['K', 'RiverFlow'], ascending=False)\n",
    "RSPI_std_costs = RSPI_std_costs[RSPI_std_costs['K'] != -1]\n",
    "\n",
    "RSPI_average_costs = RSPI_average_costs.sort_values(by=['K', 'RiverFlow'], ascending=False)\n",
    "RSPI_average_costs = RSPI_average_costs[RSPI_average_costs['K'] != -1]"
   ]
  },
  {
   "cell_type": "markdown",
   "metadata": {},
   "source": [
    "# Análises"
   ]
  },
  {
   "cell_type": "code",
   "execution_count": null,
   "metadata": {
    "ExecuteTime": {
     "end_time": "2023-03-22T16:29:28.542230Z",
     "start_time": "2023-03-22T16:29:20.760762Z"
    }
   },
   "outputs": [],
   "source": [
    "fig = px.line(RSMDP_std_costs, x='Lambda_STR', y='Std', color='RiverFlow', title='Standard Deviation for each' + \\\n",
    "                                                                     'value of Lambda in different River Flows')\n",
    "fig.show()\n",
    "\n",
    "fig = px.line(RSPI_std_costs, x='K', y='Std', color='RiverFlow', title='Standard Deviation for each' + \\\n",
    "                                                                     'value of K in different River Flows')\n",
    "fig.show()"
   ]
  },
  {
   "cell_type": "code",
   "execution_count": null,
   "metadata": {
    "ExecuteTime": {
     "end_time": "2023-03-22T16:29:28.543731Z",
     "start_time": "2023-03-22T16:24:39.658Z"
    }
   },
   "outputs": [],
   "source": [
    "fig = px.line(RSMDP_average_costs, x='Lambda_STR', y='Mean', color='RiverFlow', title='Mean for each' + \\\n",
    "                                                                     'value of Lambda in different River Flows')\n",
    "fig.show()\n",
    "\n",
    "fig = px.line(RSPI_average_costs, x='K', y='Mean', color='RiverFlow', title='Mean for each' + \\\n",
    "                                                                     'value of K in different River Flows')\n",
    "fig.show()"
   ]
  },
  {
   "cell_type": "markdown",
   "metadata": {},
   "source": [
    "# Outras Análises"
   ]
  },
  {
   "cell_type": "code",
   "execution_count": null,
   "metadata": {
    "ExecuteTime": {
     "end_time": "2023-03-22T16:29:28.544733Z",
     "start_time": "2023-03-22T16:24:39.659Z"
    }
   },
   "outputs": [],
   "source": [
    "fig = px.scatter(RSPI_std_costs, x='RiverFlow', y='Std', color='K')\n",
    "fig.show()"
   ]
  },
  {
   "cell_type": "code",
   "execution_count": null,
   "metadata": {
    "ExecuteTime": {
     "end_time": "2023-03-22T16:29:28.545231Z",
     "start_time": "2023-03-22T16:24:39.660Z"
    }
   },
   "outputs": [],
   "source": [
    "print(list(dict_costs.keys())[-6])\n",
    "p = sns.histplot(dict_costs[(0.9, 0.5, 1, 0.95)])"
   ]
  },
  {
   "cell_type": "code",
   "execution_count": null,
   "metadata": {},
   "outputs": [],
   "source": []
  }
 ],
 "metadata": {
  "hide_input": false,
  "kernelspec": {
   "display_name": "Python 3",
   "language": "python",
   "name": "python3"
  },
  "language_info": {
   "codemirror_mode": {
    "name": "ipython",
    "version": 3
   },
   "file_extension": ".py",
   "mimetype": "text/x-python",
   "name": "python",
   "nbconvert_exporter": "python",
   "pygments_lexer": "ipython3",
   "version": "3.8.5"
  },
  "toc": {
   "base_numbering": 1,
   "nav_menu": {},
   "number_sections": true,
   "sideBar": true,
   "skip_h1_title": false,
   "title_cell": "Table of Contents",
   "title_sidebar": "Contents",
   "toc_cell": false,
   "toc_position": {},
   "toc_section_display": true,
   "toc_window_display": false
  }
 },
 "nbformat": 4,
 "nbformat_minor": 4
}
