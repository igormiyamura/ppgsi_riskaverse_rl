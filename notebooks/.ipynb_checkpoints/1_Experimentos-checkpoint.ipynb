{
 "cells": [
  {
   "cell_type": "code",
   "execution_count": 1,
   "metadata": {
    "ExecuteTime": {
     "end_time": "2023-05-11T10:50:42.588965Z",
     "start_time": "2023-05-11T10:50:41.394968Z"
    },
    "code_folding": []
   },
   "outputs": [],
   "source": [
    "# Bibliotecas\n",
    "import sys, pandas as pd, numpy as np\n",
    "import plotly.express as px\n",
    "import matplotlib.pyplot as plt\n",
    "from matplotlib.pyplot import figure\n",
    "import seaborn as sns, numpy as np, os\n",
    "from os.path import exists\n",
    "sys.path.append('../')\n",
    "\n",
    "from env.RiverProblem import RiverProblem\n",
    "from rl_utils.VizTools import VizTools\n",
    "\n",
    "# Modelos\n",
    "from models.ValueIteration import ValueIteration\n",
    "from models.PolicyIteration import PolicyIteration\n",
    "\n",
    "from models.RS_PolicyIteration import RS_PolicyIteration\n",
    "from models.RS_ValueIteration import RS_ValueIteration\n",
    "\n",
    "from models.PieceLinear_RSPI import PieceLinear_RSPI\n",
    "from models.PieceLinear_RSVI import PieceLinear_RSVI\n",
    "\n",
    "from evaluation.AverageCosts import AverageCosts\n",
    "\n",
    "%load_ext autoreload\n",
    "%autoreload 2"
   ]
  },
  {
   "cell_type": "markdown",
   "metadata": {},
   "source": [
    "# Experimentos - 1S2023\n",
    "\n",
    "|Data|Descritivo|\n",
    "|--|--|\n",
    "|03-2023|Primeiros experimentos com confecção de artigo|\n",
    "\n",
    "---\n",
    "\n",
    "## Referências\n",
    "\n",
    "**Exponential**\n",
    "\n",
    "2013 MICAI: Shortest Stochastic Path with Risk Sensitive Evaluation \\\n",
    "ou 2016 BRACIS: Extreme Risk Averse Policy for Goal-Directed Risk-Sensitive MDP\n",
    "\n",
    "**Piecewise Linear**\n",
    "\n",
    "2020 MICAI: Risk-Sensitive Piecewise-Linear Policy Iteration for SSP-MDP"
   ]
  },
  {
   "cell_type": "code",
   "execution_count": 2,
   "metadata": {
    "ExecuteTime": {
     "end_time": "2023-05-11T10:50:42.697466Z",
     "start_time": "2023-05-11T10:50:42.590468Z"
    },
    "code_folding": []
   },
   "outputs": [],
   "source": [
    "# ----------------------------------------------\n",
    "# -- Configurações Iniciais --------------------\n",
    "# ----------------------------------------------\n",
    "\n",
    "run_value_iteration = False\n",
    "run_policy_iteration = False\n",
    "\n",
    "run_EUF_RSPI = False\n",
    "run_EUF_RSVI = True\n",
    "\n",
    "run_PWL_RSPI = False\n",
    "run_PWL_RSVI = True\n",
    "\n",
    "# -- Configurações Rio\n",
    "\n",
    "grid_size = (5, 20)\n",
    "goal_state = (4, 0)\n",
    "\n",
    "rp = RiverProblem(grid_size, goal_state, dead_end=False)\n",
    "block_type = rp.build_block_type()\n",
    "\n",
    "# -- Configurações River Flow\n",
    "\n",
    "range_river_flow = [0.2]\n",
    "epsilon = 0.001\n",
    "\n",
    "# -- Configuração Exportação\n",
    "river_flow = range_river_flow[0]\n",
    "sufixo = 'T07'\n",
    "path_export = os.path.join('saidas', f'results_{river_flow}_p-lin_{sufixo}.xlsx')\n",
    "path_export_RS_ValueIteration = os.path.join('saidas', f'results_{river_flow}_RS-ValueIteration_{sufixo}.xlsx')"
   ]
  },
  {
   "cell_type": "code",
   "execution_count": 3,
   "metadata": {
    "ExecuteTime": {
     "end_time": "2023-05-11T10:50:42.805966Z",
     "start_time": "2023-05-11T10:50:42.699465Z"
    },
    "code_folding": [
     0
    ]
   },
   "outputs": [],
   "source": [
    "def run_river_problem(river_flow, model_obj, epsilon=None, vl_lambda=None, discount_factor=None, \n",
    "                                     k=None, gamma=None, alpha=None, _log=False):\n",
    "    transition_probabilities = rp.build_transition_probabilities(block_type, river_flow=river_flow)\n",
    "\n",
    "    is_ok, dict_verification = rp._verify_sum_probabilities(transition_probabilities, block_type)\n",
    "    if not is_ok: print(f'Soma das Probabilidades está válida? {is_ok}')\n",
    "    \n",
    "    if epsilon != None and discount_factor != None:\n",
    "        rnp = model_obj(grid_size, goal_state, transition_probabilities, costs, \n",
    "                         num_actions=4, discount_factor=discount_factor, epsilon=epsilon, river_flow=river_flow)\n",
    "    elif epsilon != None and vl_lambda != None:\n",
    "        rnp = model_obj(grid_size, goal_state, transition_probabilities, costs, vl_lambda,\n",
    "                         num_actions=4, epsilon=epsilon, river_flow=river_flow)\n",
    "    elif epsilon != None and k != None and gamma != None and alpha != None:\n",
    "        rnp = model_obj(grid_size, goal_state, transition_probabilities, costs, k, alpha, gamma,\n",
    "                         num_actions=4, epsilon=epsilon, river_flow=river_flow)\n",
    "    \n",
    "    num_iterations, time = rnp.run_converge()\n",
    "    if _log: print(f'Número de Iterações: {num_iterations}')\n",
    "    if _log: print(f'Tempo de Execução: {time}s')\n",
    "    \n",
    "    return rnp"
   ]
  },
  {
   "cell_type": "markdown",
   "metadata": {},
   "source": [
    "# Value Iteration"
   ]
  },
  {
   "cell_type": "code",
   "execution_count": 4,
   "metadata": {
    "ExecuteTime": {
     "end_time": "2023-05-11T10:50:42.914466Z",
     "start_time": "2023-05-11T10:50:42.807467Z"
    },
    "code_folding": [
     0
    ]
   },
   "outputs": [],
   "source": [
    "# Value Iteration - Configs\n",
    "if run_value_iteration:\n",
    "    discount_factor = 0.99\n",
    "    epsilon = 0.0001\n",
    "\n",
    "    costs = {0: 1, 1: 1, 2: 1, 3: 1}\n",
    "    block_type = rp.build_block_type()"
   ]
  },
  {
   "cell_type": "code",
   "execution_count": 5,
   "metadata": {
    "ExecuteTime": {
     "end_time": "2023-05-11T10:50:43.007467Z",
     "start_time": "2023-05-11T10:50:42.915464Z"
    },
    "code_folding": [
     0
    ]
   },
   "outputs": [],
   "source": [
    "# Value Iteration - Run\n",
    "if run_value_iteration:\n",
    "    value_iteration_01 = \\\n",
    "    run_river_problem(river_flow=0.1, model_obj=ValueIteration, epsilon=epsilon, discount_factor=discount_factor)\n",
    "    value_iteration_05 = \\\n",
    "    run_river_problem(river_flow=0.75, model_obj=ValueIteration, epsilon=epsilon, discount_factor=discount_factor)\n",
    "    value_iteration_09 = \\\n",
    "    run_river_problem(river_flow=0.9, model_obj=ValueIteration, epsilon=epsilon, discount_factor=discount_factor)"
   ]
  },
  {
   "cell_type": "code",
   "execution_count": 6,
   "metadata": {
    "ExecuteTime": {
     "end_time": "2023-05-11T10:50:43.100466Z",
     "start_time": "2023-05-11T10:50:43.008966Z"
    },
    "code_folding": [
     0
    ],
    "hide_input": false,
    "scrolled": false
   },
   "outputs": [],
   "source": [
    "# Value Iteration - Displays\n",
    "if run_value_iteration:\n",
    "    display(value_iteration_01)\n",
    "    display(value_iteration_05)\n",
    "    display(value_iteration_09)"
   ]
  },
  {
   "cell_type": "markdown",
   "metadata": {},
   "source": [
    "# Policy Iteration\n",
    "\n",
    "Definimos o algoritmo de Policy Iteration da seguinte forma:\n",
    "\n",
    "1. Escolhe uma política $\\pi_0$ arbitrária;\n",
    "2. Define $i=0$ como a quantidade de iterações;\n",
    "3. Para cada iteração, enquanto ($i=0$ ou $\\pi_i \\neq \\pi_{i-1}$) faça: \\\n",
    "    3.1. Policy Evaluation: obtém o valor da política atual $\\pi_i$ para cada $s \\in S$ resolvendo o seguinte sistema de equações: \\\n",
    "    $$V^{(\\pi_i)}(s)=r(s,\\pi_i(s))+\\sum_{s'\\in S} T(s, \\pi_i(s), s') V^{\\pi_i}(s') \\forall s \\in S$$\n",
    "    3.2. Policy Improvement: melhora a política atual realizando uma atualização para todo $s \\in S$: \\\n",
    "    $$\\pi_{i+1}(s)=\\text{argmax}_{a \\in A_s}[r(s,a)+\\sum_{s'\\in S} T(s, a, s') V^{\\pi_i}(s')]$$"
   ]
  },
  {
   "cell_type": "code",
   "execution_count": 7,
   "metadata": {
    "ExecuteTime": {
     "end_time": "2023-05-11T10:50:43.193467Z",
     "start_time": "2023-05-11T10:50:43.101467Z"
    },
    "code_folding": [
     0
    ]
   },
   "outputs": [],
   "source": [
    "# Policy Iteration - Configs\n",
    "if run_policy_iteration:\n",
    "    discount_factor = 0.99\n",
    "    epsilon = 0.001\n",
    "    costs = {0: 1, 1: 1, 2: 1, 3: 1}"
   ]
  },
  {
   "cell_type": "code",
   "execution_count": 8,
   "metadata": {
    "ExecuteTime": {
     "end_time": "2023-05-11T10:50:43.286465Z",
     "start_time": "2023-05-11T10:50:43.194965Z"
    },
    "code_folding": [
     0
    ],
    "scrolled": true
   },
   "outputs": [],
   "source": [
    "# Policy Iteration - Run\n",
    "if run_policy_iteration:\n",
    "    policy_iteration_01 = \\\n",
    "    run_river_problem(river_flow=0.1, model_obj=PolicyIteration, epsilon=epsilon, discount_factor=discount_factor)\n",
    "    policy_iteration_05 = \\\n",
    "    run_river_problem(river_flow=0.5, model_obj=PolicyIteration, epsilon=epsilon, discount_factor=discount_factor)\n",
    "    policy_iteration_09 = \\\n",
    "    run_river_problem(river_flow=0.9, model_obj=PolicyIteration, epsilon=epsilon, discount_factor=discount_factor)"
   ]
  },
  {
   "cell_type": "code",
   "execution_count": 9,
   "metadata": {
    "ExecuteTime": {
     "end_time": "2023-05-11T10:50:43.394968Z",
     "start_time": "2023-05-11T10:50:43.287968Z"
    },
    "code_folding": [
     0
    ],
    "scrolled": true
   },
   "outputs": [],
   "source": [
    "# Policy Iteration - Displays\n",
    "if run_policy_iteration:\n",
    "    display(policy_iteration_01)\n",
    "    display(policy_iteration_05)\n",
    "    display(policy_iteration_09)"
   ]
  },
  {
   "cell_type": "markdown",
   "metadata": {},
   "source": [
    "# Value Iteration - Exponential Utility Function for RS-MDP\n",
    "\n",
    "Definimos o algoritmo de Risk Sensitive MDP da seguinte forma:\n",
    "\n",
    "1. Escolhe uma política $\\pi_0$ arbitrária;\n",
    "2. Define $i=0$ como a quantidade de iterações;\n",
    "3. Para cada iteração, enquanto ($i=0$ ou $\\pi_i \\neq \\pi_{i-1}$) faça: \\\n",
    "    3.1. Policy Evaluation: obtém o valor da política atual $\\pi_i$ para cada $s \\in S$ resolvendo o seguinte sistema de equações: \\\n",
    "    $$V^{\\pi_i}(s_G)=-\\text{sign}(\\lambda)$$\n",
    "    $$V^{(\\pi_i)}(s)=\\text{exp}(-\\lambda r(s,\\pi_i(s)))\\sum_{s'\\in S} T(s, \\pi_i(s), s') V^{\\pi_i}(s') \\forall s \\neq s_G \\in S$$\n",
    "    3.2. Policy Improvement: melhora a política atual realizando uma atualização para todo $s \\in S$: \\\n",
    "    $$\\pi_{i+1}(s)=\\text{argmax}_{a \\in A_s}[\\text{exp}(-\\lambda r(s,a))\\sum_{s'\\in S} T(s, a, s') V^{\\pi_i}(s')]$$\n",
    "    \n",
    "    \n",
    "When λ < 0 (risk prone) and the policy π is proper, then π is also λ-feasible. However, this is not guaranteed for all policies when λ > 0 (risk averse). Given a GD-RSMDP, no result exists on how to determine the set of λ > 0 such that exists a λ-feasible policy.\n"
   ]
  },
  {
   "cell_type": "code",
   "execution_count": 23,
   "metadata": {
    "ExecuteTime": {
     "end_time": "2023-05-11T11:01:21.581901Z",
     "start_time": "2023-05-11T11:01:21.366904Z"
    },
    "code_folding": []
   },
   "outputs": [
    {
     "data": {
      "text/plain": [
       "[<matplotlib.lines.Line2D at 0x23350bd6580>]"
      ]
     },
     "execution_count": 23,
     "metadata": {},
     "output_type": "execute_result"
    },
    {
     "data": {
      "image/png": "[encoded data removed]",
      "text/plain": [
       "<Figure size 432x288 with 1 Axes>"
      ]
     },
     "metadata": {
      "needs_background": "light"
     },
     "output_type": "display_data"
    }
   ],
   "source": [
    "# Exponential Lambda\n",
    "plt.plot([np.exp(v/10) for v in np.arange(-9, 10, 1)], np.arange(-9, 10, 1))"
   ]
  },
  {
   "cell_type": "code",
   "execution_count": 44,
   "metadata": {
    "ExecuteTime": {
     "end_time": "2023-05-11T11:07:50.644689Z",
     "start_time": "2023-05-11T11:07:50.510193Z"
    },
    "code_folding": []
   },
   "outputs": [],
   "source": [
    "# Exponential Utility Function for RS-MDP-VI - Configs\n",
    "if run_EUF_RSVI:\n",
    "    EUF_RSVI = {}\n",
    "    \n",
    "#     range_lambda = [-0.2, -0.15, -0.1, -0.05, 0.05, 0.1, 0.15, 0.2, 0.25, 0.3, 0.35, 0.4, 0.45, 0.5, 0.55, \n",
    "#                     0.6, 0.7, 0.8, 0.9, 1]\n",
    "#     range_lambda = [-0.2, -0.1, -0.1, 0.5, 1]\n",
    "    range_lambda = [-0.2, 0.5]\n",
    "    \n",
    "    costs = {0: 1, 1: 1, 2: 1, 3: 1}"
   ]
  },
  {
   "cell_type": "code",
   "execution_count": null,
   "metadata": {
    "ExecuteTime": {
     "start_time": "2023-05-11T11:08:48.274Z"
    },
    "code_folding": [],
    "scrolled": true
   },
   "outputs": [
    {
     "name": "stdout",
     "output_type": "stream",
     "text": [
      "Processando: RF [0.2] Lambda [-0.2]\n"
     ]
    },
    {
     "name": "stderr",
     "output_type": "stream",
     "text": [
      "..\\models\\RS_ValueIteration.py:164: RuntimeWarning: overflow encountered in double_scalars\n",
      "  b.append(-np.exp(self._lambda * C) * sum(q))\n",
      "..\\models\\RS_ValueIteration.py:189: RuntimeWarning: overflow encountered in double_scalars\n",
      "  self.Qi[S][a] = np.exp(self._lambda * C) * sum(q)\n"
     ]
    },
    {
     "name": "stdout",
     "output_type": "stream",
     "text": [
      "Processando: RF [0.2] Lambda [0.5]\n"
     ]
    }
   ],
   "source": [
    "# Exponential Utility Function for RS-MDP-VI - Run\n",
    "if run_EUF_RSVI:\n",
    "    for river_flow in range_river_flow:\n",
    "        for vl_lambda in range_lambda:\n",
    "            print(f'Processando: RF [{river_flow}] Lambda [{vl_lambda}]')\n",
    "            EUF_RSVI[(river_flow, vl_lambda)] = \\\n",
    "                run_river_problem(river_flow=river_flow, model_obj=RS_ValueIteration, \n",
    "                vl_lambda=vl_lambda, epsilon=epsilon)"
   ]
  },
  {
   "cell_type": "code",
   "execution_count": null,
   "metadata": {
    "ExecuteTime": {
     "start_time": "2023-05-11T11:08:48.424Z"
    },
    "code_folding": []
   },
   "outputs": [],
   "source": [
    "# Exponential Utility Function for RS-MDP-VI - Keys\n",
    "if run_EUF_RSVI:\n",
    "    display(EUF_RSVI.keys())"
   ]
  },
  {
   "cell_type": "code",
   "execution_count": null,
   "metadata": {
    "ExecuteTime": {
     "start_time": "2023-05-11T11:08:48.579Z"
    },
    "code_folding": [],
    "scrolled": false
   },
   "outputs": [],
   "source": [
    "# Exponential Utility Function for RS-MDP-VI - Display\n",
    "if run_EUF_RSVI: \n",
    "    display(EUF_RSVI)"
   ]
  },
  {
   "cell_type": "markdown",
   "metadata": {},
   "source": [
    "# Exponential Utility Function for RS-MDP\n",
    "\n",
    "Definimos o algoritmo de Risk Sensitive MDP da seguinte forma:\n",
    "\n",
    "1. Escolhe uma política $\\pi_0$ arbitrária;\n",
    "2. Define $i=0$ como a quantidade de iterações;\n",
    "3. Para cada iteração, enquanto ($i=0$ ou $\\pi_i \\neq \\pi_{i-1}$) faça: \\\n",
    "    3.1. Policy Evaluation: obtém o valor da política atual $\\pi_i$ para cada $s \\in S$ resolvendo o seguinte sistema de equações: \\\n",
    "    $$V^{\\pi_i}(s_G)=-\\text{sign}(\\lambda)$$\n",
    "    $$V^{(\\pi_i)}(s)=\\text{exp}(\\lambda r(s,\\pi_i(s)))\\sum_{s'\\in S} T(s, \\pi_i(s), s') V^{\\pi_i}(s') \\forall s \\neq s_G \\in S$$\n",
    "    3.2. Policy Improvement: melhora a política atual realizando uma atualização para todo $s \\in S$: \\\n",
    "    $$\\pi_{i+1}(s)=\\text{argmax}_{a \\in A_s}[\\text{exp}(\\lambda r(s,a))\\sum_{s'\\in S} T(s, a, s') V^{\\pi_i}(s')]$$\n",
    "    \n",
    "    \n",
    "When λ < 0 (risk prone) and the policy π is proper, then π is also λ-feasible. However, this is not guaranteed for all policies when λ > 0 (risk averse). Given a GD-RSMDP, no result exists on how to determine the set of λ > 0 such that exists a λ-feasible policy.\n"
   ]
  },
  {
   "cell_type": "code",
   "execution_count": null,
   "metadata": {
    "ExecuteTime": {
     "end_time": "2023-05-11T10:02:19.396949Z",
     "start_time": "2023-05-11T10:02:19.289949Z"
    },
    "code_folding": [
     0
    ]
   },
   "outputs": [],
   "source": [
    "# Exponential Utility Function for RSPI - Configs\n",
    "if run_EUF_RSPI:\n",
    "    EUF_RSPI = {}\n",
    "\n",
    "    range_river_flow = [0.2]\n",
    "    range_lambda     = [-0.2] # [np.round(0.5 - 0.025*i, 2) for i in range(1, 20)]\n",
    "    epsilon = 0.001\n",
    "    \n",
    "    costs = {0: 1, 1: 1, 2: 1, 3: 1}"
   ]
  },
  {
   "cell_type": "code",
   "execution_count": null,
   "metadata": {
    "ExecuteTime": {
     "end_time": "2023-05-11T10:02:19.505446Z",
     "start_time": "2023-05-11T10:02:19.398451Z"
    },
    "code_folding": [
     0
    ],
    "scrolled": true
   },
   "outputs": [],
   "source": [
    "# Exponential Utility Function for RS-MDP - Run\n",
    "if run_EUF_RSPI:\n",
    "    for river_flow in range_river_flow:\n",
    "        for vl_lambda in range_lambda:\n",
    "            EUF_RSPI[(river_flow, vl_lambda)] = \\\n",
    "                run_river_problem(river_flow=river_flow, model_obj=RS_PolicyIteration, \n",
    "                vl_lambda=vl_lambda, epsilon=epsilon)"
   ]
  },
  {
   "cell_type": "code",
   "execution_count": null,
   "metadata": {
    "ExecuteTime": {
     "end_time": "2023-05-11T10:02:19.613947Z",
     "start_time": "2023-05-11T10:02:19.507448Z"
    },
    "code_folding": [
     0
    ]
   },
   "outputs": [],
   "source": [
    "# Exponential Utility Function for RS-MDP - Keys\n",
    "if run_EUF_RSPI:\n",
    "    display(EUF_RSPI.keys())"
   ]
  },
  {
   "cell_type": "code",
   "execution_count": null,
   "metadata": {
    "ExecuteTime": {
     "end_time": "2023-05-11T10:02:19.722448Z",
     "start_time": "2023-05-11T10:02:19.615447Z"
    },
    "code_folding": [
     0
    ],
    "scrolled": false
   },
   "outputs": [],
   "source": [
    "# Exponential Utility Function for RS-MDP - Display\n",
    "if run_EUF_RSPI: \n",
    "    display(EUF_RSPI)\n",
    "#     display(EUF_RSMDP[(0.2, 0)])"
   ]
  },
  {
   "cell_type": "markdown",
   "metadata": {},
   "source": [
    "# PieceLinear - RSVI (Risk Sensitive Value Iteration)\n",
    "\n",
    "Define-se uma transformação por partes linear $X^{(k)}$ que depende de um parâmetro $x$ (diferença temporal) seja positiva ou não e um fator de risco $k$:\n",
    "\n",
    "$$X^{(k)}(x)= \\left\\{ \\begin{array} & (1-k)x & \\text{, if x < 0,} \\\\ (1+k)x & \\text{, otherwise.} \\end{array} \\right. $$\n",
    "\n",
    "---"
   ]
  },
  {
   "cell_type": "code",
   "execution_count": null,
   "metadata": {
    "ExecuteTime": {
     "end_time": "2023-05-11T10:02:19.923948Z",
     "start_time": "2023-05-11T10:02:19.723949Z"
    },
    "code_folding": [
     0
    ]
   },
   "outputs": [],
   "source": [
    "# Piecewise Linear\n",
    "if run_PWL_RSVI:\n",
    "    p = plt.plot([(1 - v/10) if 1 < 0 else (1 + v/10) for v in np.arange(-9, 10, 1)])\n",
    "    p = plt.plot([(1 - v/10) if -1 < 0 else (1 + v/10) for v in np.arange(-9, 10, 1)])"
   ]
  },
  {
   "cell_type": "code",
   "execution_count": null,
   "metadata": {
    "ExecuteTime": {
     "end_time": "2023-05-11T10:02:20.032452Z",
     "start_time": "2023-05-11T10:02:19.925950Z"
    },
    "code_folding": []
   },
   "outputs": [],
   "source": [
    "# Piecewise-Linear RSVI - Configs\n",
    "if run_PWL_RSVI:\n",
    "    PWL_RSVI = {}\n",
    "    \n",
    "    range_k     = [v/10 for v in np.arange(-9, 10, 1)]\n",
    "    gamma       = 1\n",
    "    range_alpha = [np.round(1/(1+abs(k)), 2) for k in range_k]\n",
    "    \n",
    "    costs = {0: 1, 1: 1, 2: 1, 3: 1}"
   ]
  },
  {
   "cell_type": "code",
   "execution_count": null,
   "metadata": {
    "ExecuteTime": {
     "end_time": "2023-05-11T10:06:02.332947Z",
     "start_time": "2023-05-11T10:02:20.035948Z"
    },
    "code_folding": [],
    "scrolled": true
   },
   "outputs": [],
   "source": [
    "# Piecewise-Linear RSVI - Run\n",
    "if run_PWL_RSVI:\n",
    "    for river_flow in range_river_flow:\n",
    "        for i in range(0, len(range_k)):\n",
    "            print(f'Processando: RF [{river_flow}] K [{range_k[i]}] Alpha [{range_alpha[i]}]')\n",
    "            PWL_RSVI[(river_flow, range_k[i], gamma, range_alpha[i])] = \\\n",
    "                run_river_problem(river_flow=river_flow, model_obj=PieceLinear_RSVI,\n",
    "                gamma=gamma, k=range_k[i], alpha=range_alpha[i], epsilon=epsilon)"
   ]
  },
  {
   "cell_type": "code",
   "execution_count": null,
   "metadata": {
    "ExecuteTime": {
     "end_time": "2023-05-11T10:06:02.425947Z",
     "start_time": "2023-05-11T10:06:02.334448Z"
    },
    "code_folding": [
     0
    ]
   },
   "outputs": [],
   "source": [
    "# Piecewise-Linear RSVI - Run\n",
    "if run_PWL_RSVI:\n",
    "    PWL_RSVI.keys()"
   ]
  },
  {
   "cell_type": "code",
   "execution_count": null,
   "metadata": {
    "ExecuteTime": {
     "end_time": "2023-05-11T10:06:08.222947Z",
     "start_time": "2023-05-11T10:06:02.427447Z"
    },
    "code_folding": [
     0
    ],
    "scrolled": true
   },
   "outputs": [],
   "source": [
    "# Piecewise-Linear RSVI - View\n",
    "if run_PWL_RSVI:\n",
    "    display(PWL_RSVI)"
   ]
  },
  {
   "cell_type": "code",
   "execution_count": null,
   "metadata": {
    "ExecuteTime": {
     "end_time": "2023-05-11T10:06:08.331447Z",
     "start_time": "2023-05-11T10:06:08.224447Z"
    }
   },
   "outputs": [],
   "source": [
    "# vt = VizTools()\n",
    "# vt.visualize_PI(PieceLinear_RSVI, PWL_RSVI[(0.2,\n",
    "#   0.9,\n",
    "#   1,\n",
    "#   0.53)].PI, \n",
    "#                 grid_size, 4, goal_state, num_iterations=1, str_title='', annot=True)"
   ]
  },
  {
   "cell_type": "markdown",
   "metadata": {},
   "source": [
    "# PieceLinear - RSPI (Risk Sensitive Policy Iteration)\n",
    "\n",
    "Define-se uma transformação por partes linear $X^{(k)}$ que depende de um parâmetro $x$ (diferença temporal) seja positiva ou não e um fator de risco $k$:\n",
    "\n",
    "$$X^{(k)}(x)= \\left\\{ \\begin{array} & (1-k)x & \\text{, if x < 0,} \\\\ (1+k)x & \\text{, otherwise.} \\end{array} \\right. $$\n",
    "\n",
    "1. Escolhe uma política $\\pi_0$ arbitrária;\n",
    "2. Define $i=0$ como a quantidade de iterações;\n",
    "3. Para cada iteração, enquanto ($i=0$ ou $\\pi_i \\neq \\pi_{i-1}$) faça: \\\n",
    "    3.1. Policy Evaluation: obtém o valor da política atual $\\pi_i$ para cada $s \\in S$ resolvendo o seguinte sistema de equações: \\\n",
    "    $$\n",
    "    O^{\\pi}_{\\alpha k}[V](s) = V(s) + \\alpha \\sum_{s'\\in S} P(s'|s, \\pi(s)) X^{(k)}(C(s,\\pi(s),s')+\\gamma V(s') - V(s))    \n",
    "    $$\n",
    "    3.2. Policy Improvement: melhora a política atual realizando uma atualização para todo $s \\in S$: \\\n",
    "    $$\n",
    "    \\pi'(s)=\\text{argmin}_{a\\in A}\\sum_{s'\\in S} P(s'|s, a) X^{(k)}(C(s,a,s')+\\gamma V(s') - V^\\pi_k(s))\n",
    "    $$"
   ]
  },
  {
   "cell_type": "code",
   "execution_count": null,
   "metadata": {
    "ExecuteTime": {
     "end_time": "2023-05-11T10:06:08.439946Z",
     "start_time": "2023-05-11T10:06:08.333451Z"
    },
    "code_folding": [
     0
    ]
   },
   "outputs": [],
   "source": [
    "# Piecewise-Linear RSPI - Configs\n",
    "if run_PWL_RSPI:\n",
    "    PWL_RSPI = {}\n",
    "    \n",
    "    range_river_flow = [0.2] #[rf/10 for rf in range(1, 10)]\n",
    "    range_k     = [v/10 for v in range(-9, 10)]\n",
    "    gamma       = 1\n",
    "    range_alpha = [np.round(1/(1+abs(k)), 2) for k in range_k]\n",
    "    \n",
    "    costs = {0: 1, 1: 1, 2: 1, 3: 1}"
   ]
  },
  {
   "cell_type": "code",
   "execution_count": null,
   "metadata": {
    "ExecuteTime": {
     "end_time": "2023-05-11T10:06:08.548471Z",
     "start_time": "2023-05-11T10:06:08.441448Z"
    },
    "code_folding": [
     0
    ],
    "scrolled": false
   },
   "outputs": [],
   "source": [
    "# Piecewise-Linear RSPI - Run\n",
    "if run_PWL_RSPI:\n",
    "    for river_flow in range_river_flow:\n",
    "        for i in range(0, len(range_k)):\n",
    "            print(f'Processando: RF [{river_flow}] K [{range_k[i]}] Alpha [{range_alpha[i]}]')\n",
    "            PWL_RSPI[(river_flow, range_k[i], gamma, range_alpha[i])] = \\\n",
    "                run_river_problem(river_flow=river_flow, model_obj=PieceLinear_RSPI,\n",
    "                gamma=gamma, k=range_k[i], alpha=range_alpha[i], epsilon=epsilon)"
   ]
  },
  {
   "cell_type": "code",
   "execution_count": null,
   "metadata": {
    "ExecuteTime": {
     "end_time": "2023-05-11T10:06:08.641476Z",
     "start_time": "2023-05-11T10:06:08.549978Z"
    },
    "code_folding": [
     0
    ]
   },
   "outputs": [],
   "source": [
    "# Piecewise-Linear RSPI - Keys\n",
    "if run_PWL_RSPI:\n",
    "    print(PWL_RSPI.keys())"
   ]
  },
  {
   "cell_type": "code",
   "execution_count": null,
   "metadata": {
    "ExecuteTime": {
     "end_time": "2023-05-11T10:06:08.734477Z",
     "start_time": "2023-05-11T10:06:08.642977Z"
    },
    "code_folding": [
     0
    ],
    "scrolled": false
   },
   "outputs": [],
   "source": [
    "# Piecewise-Linear RSPI - View\n",
    "# PWL_RSPI[(0.2, -0.8, 1, 0.56)]\n",
    "if run_PWL_RSPI:\n",
    "    display(PWL_RSPI)"
   ]
  },
  {
   "cell_type": "markdown",
   "metadata": {},
   "source": [
    "# Comparando Políticas Geradas\n",
    "\n",
    "* Fixar em um ambiente (0.2 por exemplo) que o neutro atravessa no meio do rio para observar mais facil os comportamentos;\n",
    "* E para um só tamanho para validar o processo;\n",
    "* Residual\n",
    "\n",
    "Policy Evaluation Exponencial\n",
    "\n",
    "1 - \n",
    "PEXP(env, lambda, pi) -> R, avaliação da política para este mundo com lambda/pi;\n",
    "\n",
    "Gráfico: PEXP(env, lambda, pi_lambda) por lambda\n",
    "         PEXP(env, lambda, pi_linear) por lambda\n",
    "\n",
    "pi_linear = argmax_{pi_k} PEXP(env, lambda, pi_k)\n",
    "\n",
    "2 - Contrário da (1)\n",
    "P(env, K, pi) -> R, avaliação da política para este mundo com K/pi;\n",
    "\n",
    "3 -\n",
    "Lambda, K\n",
    "\n",
    "k_max = argmax_{k} PEXP(env, lambda, pi_k)\n",
    "\n",
    "4 - Contrário da (3)\n",
    "\n",
    "lambda_max = argmax_{lambda} PLINEAR(env, k, pi_lambda)\n",
    "\n",
    "---\n",
    "\n",
    "_* Calcular a variancia de uma política através de programação dinâmica sem usar simulações_"
   ]
  },
  {
   "cell_type": "markdown",
   "metadata": {},
   "source": [
    "## Define funções"
   ]
  },
  {
   "cell_type": "code",
   "execution_count": null,
   "metadata": {
    "ExecuteTime": {
     "end_time": "2023-05-11T10:06:08.827479Z",
     "start_time": "2023-05-11T10:06:08.735477Z"
    },
    "code_folding": [
     0
    ]
   },
   "outputs": [],
   "source": [
    "def get_PLIN(model, river_flow, vl_k, vl_gamma, vl_alpha, PI):\n",
    "    \n",
    "    transition_probabilities = rp.build_transition_probabilities(block_type, river_flow=river_flow)\n",
    "    m = PieceLinear_RSVI(grid_size, goal_state, transition_probabilities, costs, vl_k, vl_alpha, vl_gamma,\n",
    "                         num_actions=4, epsilon=epsilon, river_flow=river_flow)\n",
    "    return m.calculate_value_for_policy(PI, vl_k)"
   ]
  },
  {
   "cell_type": "markdown",
   "metadata": {},
   "source": [
    "## PLIN(env, K, pi) -> R"
   ]
  },
  {
   "cell_type": "code",
   "execution_count": null,
   "metadata": {
    "ExecuteTime": {
     "end_time": "2023-05-11T10:06:26.636977Z",
     "start_time": "2023-05-11T10:06:08.828977Z"
    },
    "code_folding": [],
    "scrolled": true
   },
   "outputs": [],
   "source": [
    "if not os.path.isfile(path_export):\n",
    "    # Captura valores gerados pelas políticas do algoritmo Linear\n",
    "    # e aplica na função valor linear\n",
    "    P_VALUE_LIN = {}\n",
    "\n",
    "    for k in PWL_RSVI.keys():\n",
    "        river_flow = k[0]\n",
    "        vl_k = k[1]\n",
    "        vl_gamma = k[2]\n",
    "        vl_alpha = k[3]\n",
    "\n",
    "        print(f'Getting Expected Value for [{river_flow}/{vl_k}].', end='\\r')\n",
    "\n",
    "        if not str(river_flow) in P_VALUE_LIN.keys():\n",
    "            P_VALUE_LIN[str(river_flow)] = {}\n",
    "\n",
    "        P_VALUE_LIN[str(river_flow)][str(vl_k)] = \\\n",
    "            get_PLIN(PieceLinear_RSVI, river_flow, vl_k, vl_gamma, vl_alpha, PWL_RSVI[k].PI)\n",
    "\n",
    "    display(P_VALUE_LIN)"
   ]
  },
  {
   "cell_type": "code",
   "execution_count": null,
   "metadata": {
    "ExecuteTime": {
     "end_time": "2023-05-11T10:14:36.512977Z",
     "start_time": "2023-05-11T10:06:26.637977Z"
    },
    "scrolled": true
   },
   "outputs": [],
   "source": [
    "if not os.path.isfile(path_export):\n",
    "    # Captura valores gerados pelas políticas do algoritmo exponencial\n",
    "    # e aplica na função valor linear\n",
    "    _debug = False\n",
    "    P_VALUE_LIN_EXP = {}\n",
    "    P_VALUE_LIN_EXP_MAX = {}\n",
    "    LAMBDA_MAX = {}\n",
    "\n",
    "    for k in PWL_RSVI.keys():\n",
    "        river_flow = k[0]\n",
    "        vl_k = k[1]\n",
    "        vl_gamma = k[2]\n",
    "        vl_alpha = k[3]\n",
    "\n",
    "        print(f'>> Getting Expected Value for [{river_flow}/{vl_k}].')\n",
    "\n",
    "        if not str(river_flow) in P_VALUE_LIN_EXP.keys():\n",
    "            P_VALUE_LIN_EXP[str(river_flow)] = {}\n",
    "            P_VALUE_LIN_EXP_MAX[str(river_flow)] = {}\n",
    "            LAMBDA_MAX[str(river_flow)] = {}\n",
    "\n",
    "        max_lambda, last_dif = np.inf, np.inf\n",
    "        for k_exp in EUF_RSVI.keys():\n",
    "            if not str(vl_k) in P_VALUE_LIN_EXP[str(river_flow)].keys():\n",
    "                P_VALUE_LIN_EXP[str(river_flow)][str(vl_k)] = {}\n",
    "\n",
    "            vl_lambda = k_exp[1]\n",
    "            print(f'> Getting Expected Value for [{river_flow}/{vl_k}/{vl_lambda}].')\n",
    "\n",
    "            P_VALUE_LIN_EXP[str(river_flow)][str(vl_k)][str(vl_lambda)] = \\\n",
    "                get_PLIN(PieceLinear_RSVI, river_flow, vl_k, vl_gamma, vl_alpha, EUF_RSVI[k_exp].PI)\n",
    "\n",
    "            VALUE_LIN_EXP = P_VALUE_LIN_EXP[str(river_flow)][str(vl_k)][str(vl_lambda)]\n",
    "            VALUE_LIN = P_VALUE_LIN[str(river_flow)][str(vl_k)]\n",
    "            dif = abs(VALUE_LIN_EXP - VALUE_LIN)\n",
    "            if _debug: print(f'~ DEBUG - LIN_EXP: {VALUE_LIN_EXP} / LIN: {VALUE_LIN}')\n",
    "\n",
    "            if dif < last_dif:\n",
    "                max_lambda = vl_lambda\n",
    "                last_dif = dif\n",
    "\n",
    "            if _debug: print(f'~ DEBUG - Dif: {dif} / Last Dif: {last_dif} / Lambda Max: {max_lambda}')\n",
    "\n",
    "        P_VALUE_LIN_EXP_MAX[str(river_flow)][str(vl_k)] = P_VALUE_LIN_EXP[str(river_flow)][str(vl_k)][str(max_lambda)]\n",
    "        LAMBDA_MAX[str(river_flow)][str(vl_k)] = max_lambda\n",
    "\n",
    "    display(P_VALUE_LIN_EXP_MAX)"
   ]
  },
  {
   "cell_type": "markdown",
   "metadata": {},
   "source": [
    "### Curva dos Resultados"
   ]
  },
  {
   "cell_type": "code",
   "execution_count": null,
   "metadata": {
    "ExecuteTime": {
     "end_time": "2023-05-11T10:14:36.605978Z",
     "start_time": "2023-05-11T10:14:36.513980Z"
    },
    "code_folding": [
     0
    ]
   },
   "outputs": [],
   "source": [
    "def build_dataframe_p_value(dict_v, nm_model, col='K'):\n",
    "    df = pd.DataFrame(dict_v).reset_index().rename(columns={'index': col})\n",
    "    df[col] = pd.to_numeric(df[col])\n",
    "    df = df.sort_values(col)\n",
    "    \n",
    "    cols = []\n",
    "    for c in df.columns:\n",
    "        if c != col:\n",
    "            cols.append(f'{nm_model}_{c}')\n",
    "        else:\n",
    "            cols.append(c)\n",
    "        \n",
    "    df.columns = cols\n",
    "    return df"
   ]
  },
  {
   "cell_type": "code",
   "execution_count": null,
   "metadata": {
    "ExecuteTime": {
     "end_time": "2023-05-11T10:14:37.499141Z",
     "start_time": "2023-05-11T10:14:36.606979Z"
    }
   },
   "outputs": [],
   "source": [
    "print(f'Verificando caminho {path_export}')\n",
    "if os.path.isfile(path_export):\n",
    "    df_LIN_EXP = pd.read_excel(path_export).drop('Unnamed: 0', axis=1)\n",
    "else:\n",
    "    df_LIN_EXP = None\n",
    "    \n",
    "if df_LIN_EXP is None:\n",
    "    df_VALUE_LIN = build_dataframe_p_value(P_VALUE_LIN, 'LIN')\n",
    "    df_VALUE_LIN_EXP = build_dataframe_p_value(P_VALUE_LIN_EXP_MAX, 'EXP')\n",
    "    df_LAMBDA_MAX = build_dataframe_p_value(LAMBDA_MAX, 'LAMBDA_MAX')\n",
    "\n",
    "    df_LIN_EXP = df_VALUE_LIN.merge(df_VALUE_LIN_EXP, on='K')\n",
    "    df_LIN_EXP = df_LIN_EXP.merge(df_LAMBDA_MAX, on='K')\n",
    "    df_LIN_EXP.to_excel(path_export)\n",
    "\n",
    "df_LIN_EXP[f'DIF_EXP_{str(river_flow)}'] = 1 + (df_LIN_EXP[f'LIN_{str(river_flow)}'] - \\\n",
    "              df_LIN_EXP[f'EXP_{str(river_flow)}'])/df_LIN_EXP[f'LIN_{str(river_flow)}']\n",
    "df_LIN_EXP"
   ]
  },
  {
   "cell_type": "code",
   "execution_count": null,
   "metadata": {
    "ExecuteTime": {
     "end_time": "2023-05-11T10:14:37.607640Z",
     "start_time": "2023-05-11T10:14:37.500142Z"
    },
    "code_folding": [
     0,
     15,
     30
    ]
   },
   "outputs": [],
   "source": [
    "def g_comparing_values(df, river_flow, nm_metrica, valor1, valor2):\n",
    "    figure(figsize=(12, 7), dpi=80)\n",
    "    df_plt = df[[nm_metrica, f'{valor1}_{str(river_flow)}', f'{valor2}_{str(river_flow)}']].copy()\n",
    "    df_plt = df_plt.dropna()\n",
    "    \n",
    "    p = plt.plot(df_plt[nm_metrica], df_plt[f'{valor1}_{str(river_flow)}'], color='g')\n",
    "    p = plt.plot(df_plt[nm_metrica], df_plt[f'{valor2}_{str(river_flow)}'], color='r')\n",
    "\n",
    "    plt.xlabel(nm_metrica)\n",
    "    plt.ylabel(\"Policy Value\")\n",
    "    plt.title(f'Computing for {nm_metrica} values with Policies generated by {valor1} and {valor2} algorithms')\n",
    "    plt.show()\n",
    "    \n",
    "    return plt\n",
    "\n",
    "def g_comparing_dif_values(df, river_flow, nm_metrica, valor1, valor2):\n",
    "    df_plt = df[[nm_metrica, f'DIF_{valor2}_{str(river_flow)}']].copy()\n",
    "    df_plt = df_plt.dropna()\n",
    "    \n",
    "    figure(figsize=(12, 7), dpi=80)\n",
    "    p = plt.plot(df_plt[nm_metrica], [1 for i in range(len(df))], color='g')\n",
    "    p = plt.plot(df_plt[nm_metrica], df_plt[f'DIF_{valor2}_{str(river_flow)}'], color='r')\n",
    "\n",
    "    plt.xlabel(nm_metrica)\n",
    "    plt.ylabel(\"Policy Value\")\n",
    "    plt.title(f'Differences for {nm_metrica} values with Policies generated by {valor1} and {valor2} algorithms')\n",
    "    plt.show()\n",
    "    \n",
    "    return plt\n",
    "\n",
    "def g_comparing_max_metric(df, river_flow, nm_metrica, valor1):\n",
    "    df_plt = df[[nm_metrica, f'{valor1}_{river_flow}']].copy()\n",
    "    df_plt = df_plt.dropna()\n",
    "    \n",
    "    figure(figsize=(12, 7), dpi=80)\n",
    "    p = plt.plot(df_plt[nm_metrica], df_plt[f'{valor1}_{river_flow}'], color='g')\n",
    "\n",
    "    plt.xlabel(nm_metrica)\n",
    "    plt.ylabel(valor1)\n",
    "    plt.title(f'Comparing values of {nm_metrica} with the respective of {valor1}')\n",
    "    plt.show()\n",
    "    \n",
    "    return plt"
   ]
  },
  {
   "cell_type": "code",
   "execution_count": null,
   "metadata": {
    "ExecuteTime": {
     "end_time": "2023-05-11T10:14:38.072662Z",
     "start_time": "2023-05-11T10:14:37.608643Z"
    }
   },
   "outputs": [],
   "source": [
    "river_flow = 0.2\n",
    "plt1 = g_comparing_values(df_LIN_EXP, river_flow, 'K', 'LIN', 'EXP')\n",
    "plt2 = g_comparing_dif_values(df_LIN_EXP, river_flow, 'K', 'LIN', 'EXP')\n",
    "plt3 = g_comparing_max_metric(df_LIN_EXP, river_flow, 'K', 'LAMBDA_MAX')"
   ]
  },
  {
   "cell_type": "markdown",
   "metadata": {},
   "source": [
    "**Pergunta**\n",
    "\n",
    "**TODO**\n",
    "1. Como obter todas as politicas não dominadas. \n",
    "É possível obter todas? Como fazer isto?\n",
    "São finitos? Ambiente contínuo / Enumerar algumas?\n",
    "Algoritmo para gerar todas - caso seja possivel enumerar?\n",
    "Regra para enumerar menos e ter cobertura?\n",
    "\n",
    "Específica - para o modelo piecewise, exponencial\n",
    "Ampla - independente do modelo\n",
    "\n",
    "Solução/heuristicas\n",
    "\n",
    "(Lambda extremo)"
   ]
  },
  {
   "cell_type": "markdown",
   "metadata": {},
   "source": [
    "## PEXP(env, lambda, pi) -> R\n",
    "\n",
    "**TODO:**\n",
    "\n",
    "Verificar se a política recebida é Lambda feasible. \\\n",
    "Certainty Equivalent - alteração da escala para escala de custo (capítulo 2 - tese)"
   ]
  },
  {
   "cell_type": "code",
   "execution_count": null,
   "metadata": {
    "ExecuteTime": {
     "end_time": "2023-05-11T10:14:38.181161Z",
     "start_time": "2023-05-11T10:14:38.073663Z"
    },
    "code_folding": []
   },
   "outputs": [],
   "source": [
    "def get_PEXP(model, river_flow, vl_lambda, PI):\n",
    "\n",
    "    transition_probabilities = rp.build_transition_probabilities(block_type, river_flow=river_flow)\n",
    "    m = model(grid_size, goal_state, transition_probabilities, costs, vl_lambda,\n",
    "                             num_actions=4, epsilon=epsilon, river_flow=river_flow)\n",
    "    return m.calculate_value_for_policy(PI, vl_lambda)"
   ]
  },
  {
   "cell_type": "code",
   "execution_count": null,
   "metadata": {
    "ExecuteTime": {
     "end_time": "2023-05-11T10:37:51.478979Z",
     "start_time": "2023-05-11T10:37:51.346983Z"
    },
    "code_folding": [],
    "scrolled": false
   },
   "outputs": [],
   "source": [
    "if not os.path.isfile(path_export_RS_ValueIteration):\n",
    "    # Captura valores gerados pelas políticas do algoritmo Linear\n",
    "    # e aplica na função valor linear\n",
    "    P_VALUE_EXP = {}\n",
    "\n",
    "    for k in EUF_RSVI.keys():\n",
    "        river_flow = k[0]\n",
    "        vl_lambda = k[1]\n",
    "\n",
    "        print(f'Getting Expected Value for [{river_flow}/{vl_lambda}].')\n",
    "\n",
    "        if not str(river_flow) in P_VALUE_EXP.keys():\n",
    "            P_VALUE_EXP[str(river_flow)] = {}\n",
    "\n",
    "        P_VALUE_EXP[str(river_flow)][str(vl_lambda)] = \\\n",
    "            get_PEXP(RS_ValueIteration, river_flow, vl_lambda, EUF_RSVI[k].PI)\n",
    "\n",
    "    display(P_VALUE_EXP)"
   ]
  },
  {
   "cell_type": "code",
   "execution_count": null,
   "metadata": {
    "ExecuteTime": {
     "end_time": "2023-05-11T10:48:39.101284Z",
     "start_time": "2023-05-11T10:45:22.545788Z"
    },
    "code_folding": [],
    "scrolled": true
   },
   "outputs": [],
   "source": [
    "if not os.path.isfile(path_export_RS_ValueIteration):\n",
    "    # Captura valores gerados pelas políticas do algoritmo exponencial\n",
    "    # e aplica na função valor linear\n",
    "    _debug = False\n",
    "    P_VALUE_EXP_LIN = {}\n",
    "    P_VALUE_EXP_LIN_MAX = {}\n",
    "    K_MAX = {}\n",
    "\n",
    "    for k_exp in EUF_RSVI.keys():\n",
    "        vl_lambda = k_exp[1]\n",
    "        print(f'>> Getting Expected Value for [{river_flow}/{vl_lambda}].')\n",
    "\n",
    "        if not str(river_flow) in P_VALUE_EXP_LIN.keys():\n",
    "            P_VALUE_EXP_LIN[str(river_flow)] = {}\n",
    "            P_VALUE_EXP_LIN_MAX[str(river_flow)] = {}\n",
    "            K_MAX[str(river_flow)] = {}\n",
    "\n",
    "        for k in PWL_RSVI.keys():\n",
    "            river_flow = k[0]\n",
    "            vl_k = k[1]\n",
    "            vl_gamma = k[2]\n",
    "            vl_alpha = k[3]\n",
    "\n",
    "            print(f'> Getting Expected Value for [{river_flow}/{vl_lambda}/{vl_k}].')\n",
    "\n",
    "            max_k, last_dif = np.inf, np.inf\n",
    "            if not str(vl_lambda) in P_VALUE_EXP_LIN[str(river_flow)].keys():\n",
    "                P_VALUE_EXP_LIN[str(river_flow)][str(vl_lambda)] = {}\n",
    "\n",
    "            P_VALUE_EXP_LIN[str(river_flow)][str(vl_lambda)][str(vl_k)] = \\\n",
    "                get_PEXP(RS_ValueIteration, river_flow, vl_lambda, PWL_RSVI[k].PI)\n",
    "\n",
    "            VALUE_EXP_LIN = P_VALUE_EXP_LIN[str(river_flow)][str(vl_lambda)][str(vl_k)]\n",
    "            VALUE_EXP = P_VALUE_EXP[str(river_flow)][str(vl_lambda)]\n",
    "            dif = abs(VALUE_EXP_LIN - VALUE_EXP)\n",
    "\n",
    "            if _debug: print(f'~ DEBUG - LIN_EXP: {VALUE_LIN_EXP} / LIN: {VALUE_LIN}')\n",
    "\n",
    "            if dif < last_dif:\n",
    "                max_k = vl_k\n",
    "                last_dif = dif\n",
    "\n",
    "            if _debug: print(f'~ DEBUG - Dif: {dif} / Last Dif: {last_dif} / K Max: {max_k}')\n",
    "\n",
    "        try:\n",
    "            P_VALUE_EXP_LIN_MAX[str(river_flow)][str(vl_lambda)] = P_VALUE_EXP_LIN[str(river_flow)][str(vl_lambda)][str(max_k)]\n",
    "            K_MAX[str(river_flow)][str(vl_lambda)] = max_k\n",
    "        except:\n",
    "            P_VALUE_EXP_LIN_MAX[str(river_flow)][str(vl_lambda)] = np.inf\n",
    "            K_MAX[str(river_flow)][str(vl_lambda)] = None\n",
    "        \n",
    "        break\n",
    "    P_VALUE_EXP_LIN_MAX"
   ]
  },
  {
   "cell_type": "code",
   "execution_count": null,
   "metadata": {
    "ExecuteTime": {
     "end_time": "2023-05-11T10:45:01.483438Z",
     "start_time": "2023-05-11T10:45:01.389438Z"
    }
   },
   "outputs": [],
   "source": [
    "P_VALUE_EXP"
   ]
  },
  {
   "cell_type": "code",
   "execution_count": null,
   "metadata": {
    "ExecuteTime": {
     "end_time": "2023-05-11T10:48:39.209784Z",
     "start_time": "2023-05-11T10:48:39.102785Z"
    }
   },
   "outputs": [],
   "source": [
    "P_VALUE_EXP_LIN"
   ]
  },
  {
   "cell_type": "code",
   "execution_count": null,
   "metadata": {
    "ExecuteTime": {
     "end_time": "2023-05-11T10:38:18.604594Z",
     "start_time": "2023-05-11T10:38:18.463096Z"
    }
   },
   "outputs": [],
   "source": [
    "print(f'Verificando caminho {path_export_RS_ValueIteration}')\n",
    "if os.path.isfile(path_export_RS_ValueIteration):\n",
    "    df_EXP_LIN = pd.read_excel(path_export_RS_ValueIteration).drop('Unnamed: 0', axis=1)\n",
    "else:\n",
    "    df_EXP_LIN = None\n",
    "    \n",
    "if df_EXP_LIN is None:\n",
    "    df_VALUE_EXP = build_dataframe_p_value(P_VALUE_EXP, 'EXP', 'Lambda')\n",
    "    df_VALUE_EXP_LIN = build_dataframe_p_value(P_VALUE_EXP_LIN_MAX, 'LIN', 'Lambda')\n",
    "    df_K_MAX = build_dataframe_p_value(K_MAX, 'K_MAX', 'Lambda')\n",
    "\n",
    "    df_EXP_LIN = df_VALUE_EXP.merge(df_VALUE_EXP_LIN, on='Lambda')\n",
    "    df_EXP_LIN = df_EXP_LIN.merge(df_K_MAX, on='Lambda')\n",
    "    df_EXP_LIN.to_excel(path_export_RS_ValueIteration)\n",
    "\n",
    "try:\n",
    "    df_EXP_LIN[f'DIF_LIN_{str(river_flow)}'] = 1 + (df_EXP_LIN[f'EXP_{str(river_flow)}'] - \\\n",
    "              df_EXP_LIN[f'LIN_{str(river_flow)}'])/df_EXP_LIN[f'EXP_{str(river_flow)}']\n",
    "except:\n",
    "    print('Não foi possível capturar a diferença.')\n",
    "    \n",
    "df_EXP_LIN"
   ]
  },
  {
   "cell_type": "code",
   "execution_count": null,
   "metadata": {
    "ExecuteTime": {
     "end_time": "2023-05-11T10:33:22.971267Z",
     "start_time": "2023-05-11T10:33:22.476495Z"
    }
   },
   "outputs": [],
   "source": [
    "river_flow = 0.2\n",
    "plt1 = g_comparing_values(df_EXP_LIN, river_flow, 'Lambda', 'EXP', 'LIN')\n",
    "plt2 = g_comparing_dif_values(df_EXP_LIN, river_flow, 'Lambda', 'EXP', 'LIN')\n",
    "plt3 = g_comparing_max_metric(df_EXP_LIN, river_flow, 'Lambda', 'K_MAX')"
   ]
  }
 ],
 "metadata": {
  "hide_input": false,
  "kernelspec": {
   "display_name": "Python 3",
   "language": "python",
   "name": "python3"
  },
  "language_info": {
   "codemirror_mode": {
    "name": "ipython",
    "version": 3
   },
   "file_extension": ".py",
   "mimetype": "text/x-python",
   "name": "python",
   "nbconvert_exporter": "python",
   "pygments_lexer": "ipython3",
   "version": "3.8.5"
  },
  "toc": {
   "base_numbering": 1,
   "nav_menu": {},
   "number_sections": true,
   "sideBar": true,
   "skip_h1_title": false,
   "title_cell": "Table of Contents",
   "title_sidebar": "Contents",
   "toc_cell": false,
   "toc_position": {},
   "toc_section_display": true,
   "toc_window_display": false
  }
 },
 "nbformat": 4,
 "nbformat_minor": 4
}
