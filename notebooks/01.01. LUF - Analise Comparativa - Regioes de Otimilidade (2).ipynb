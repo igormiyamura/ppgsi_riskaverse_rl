{
 "cells": [
  {
   "cell_type": "code",
   "execution_count": 1,
   "metadata": {
    "ExecuteTime": {
     "end_time": "2023-10-02T23:49:13.963974Z",
     "start_time": "2023-10-02T23:48:52.063439Z"
    },
    "code_folding": []
   },
   "outputs": [],
   "source": [
    "# -- Bibliotecas\n",
    "# --------------\n",
    "import sys, numpy as np\n",
    "import matplotlib.pyplot as plt\n",
    "sys.path.append('../')\n",
    "\n",
    "# Ambiente\n",
    "from env.SimpleMDP import SimpleMDP\n",
    "\n",
    "from models.LinearUtility_RSVI import LinearUtility_RSVI\n",
    "from models.QuadraticUtility_RSVI import QuadraticUtility_RSVI\n",
    "\n",
    "# Utils\n",
    "import rl_utils.NBPlotting as nbp\n",
    "import rl_utils.NBManipulation as nbm\n",
    "import rl_utils.NBEvaluations as nbe\n",
    "\n",
    "%load_ext autoreload\n",
    "%autoreload 2"
   ]
  },
  {
   "cell_type": "markdown",
   "metadata": {},
   "source": [
    "# Problema Simples - MDP"
   ]
  },
  {
   "cell_type": "code",
   "execution_count": 2,
   "metadata": {
    "ExecuteTime": {
     "end_time": "2023-10-02T23:49:14.072405Z",
     "start_time": "2023-10-02T23:49:13.964975Z"
    },
    "code_folding": []
   },
   "outputs": [],
   "source": [
    "# Configurações do ambiente\n",
    "states, actions = 1, 1\n",
    "epsilon = 0.000001\n",
    "\n",
    "s_mdp = SimpleMDP(num_states = states, \n",
    "                  num_actions = actions, \n",
    "                  _fixed_probability = 0.5, \n",
    "                  _float_probability = 0.1)\n",
    "\n",
    "T = s_mdp.build_transition_probabilities()\n",
    "C = {}\n",
    "for a in range(0, actions):\n",
    "    C[a] = a + 1\n",
    "    \n",
    "config_reduzida = False\n",
    "\n",
    "# Configurações de processamento\n",
    "run_neutral_vi = True\n",
    "run_neutral_pi = True\n",
    "run_EUF_RSVI = True\n",
    "run_EUF_RSPI = True\n",
    "run_PWL_RSVI = True\n",
    "\n",
    "# Configurações dos modelos\n",
    "discount_factor = 0.999\n",
    "\n",
    "rini_p = 0.05\n",
    "rend_p = 1\n",
    "step_p = 0.05\n",
    "range_x = np.arange(rini_p, rend_p, step_p)"
   ]
  },
  {
   "cell_type": "markdown",
   "metadata": {},
   "source": [
    "## Linear - Polynomial Utility Function"
   ]
  },
  {
   "cell_type": "code",
   "execution_count": 3,
   "metadata": {
    "ExecuteTime": {
     "end_time": "2023-10-02T23:49:14.288153Z",
     "start_time": "2023-10-02T23:49:14.073405Z"
    }
   },
   "outputs": [
    {
     "name": "stdout",
     "output_type": "stream",
     "text": [
      "Processando: Slope [0.5]\r"
     ]
    },
    {
     "name": "stderr",
     "output_type": "stream",
     "text": [
      "..\\services\\ErrorMetrics.py:18: RuntimeWarning: invalid value encountered in double_scalars\n",
      "  residual.append(abs((V1[i] - V2[i])/V2[i]))\n"
     ]
    },
    {
     "data": {
      "text/plain": [
       "dict_keys([0.5])"
      ]
     },
     "metadata": {},
     "output_type": "display_data"
    },
    {
     "data": {
      "text/html": [
       "<div>\n",
       "<style scoped>\n",
       "    .dataframe tbody tr th:only-of-type {\n",
       "        vertical-align: middle;\n",
       "    }\n",
       "\n",
       "    .dataframe tbody tr th {\n",
       "        vertical-align: top;\n",
       "    }\n",
       "\n",
       "    .dataframe thead th {\n",
       "        text-align: right;\n",
       "    }\n",
       "</style>\n",
       "<table border=\"1\" class=\"dataframe\">\n",
       "  <thead>\n",
       "    <tr style=\"text-align: right;\">\n",
       "      <th></th>\n",
       "      <th>0</th>\n",
       "      <th>sG</th>\n",
       "    </tr>\n",
       "  </thead>\n",
       "  <tbody>\n",
       "    <tr>\n",
       "      <th>Policy 0.5</th>\n",
       "      <td>0</td>\n",
       "      <td>0</td>\n",
       "    </tr>\n",
       "  </tbody>\n",
       "</table>\n",
       "</div>"
      ],
      "text/plain": [
       "            0  sG\n",
       "Policy 0.5  0   0"
      ]
     },
     "metadata": {},
     "output_type": "display_data"
    }
   ],
   "source": [
    "LinearUF_RSVI = {}\n",
    "    \n",
    "# range_lambda = [np.round(-0.5 + 0.5*i/10, 2) for i in range(0, 20)] \n",
    "range_slope = [0.5]\n",
    "\n",
    "for vl_slope in range_slope:\n",
    "    print(f'Processando: Slope [{vl_slope}]', end='\\r')\n",
    "    LinearUF_RSVI[vl_slope] = \\\n",
    "        nbe.run_driving_license(s_mdp, T, C, actions, model=LinearUtility_RSVI, model_name='LinearUF_RSVI',\n",
    "        vl_slope=vl_slope, epsilon=epsilon, _log=False)\n",
    "\n",
    "display(LinearUF_RSVI.keys())\n",
    "\n",
    "df_LinearUF_RSVI = nbm.build_dataframe_driver_license(LinearUF_RSVI)\n",
    "display(df_LinearUF_RSVI)"
   ]
  },
  {
   "cell_type": "code",
   "execution_count": 5,
   "metadata": {
    "ExecuteTime": {
     "end_time": "2023-10-02T23:49:46.102706Z",
     "start_time": "2023-10-02T23:49:45.988695Z"
    }
   },
   "outputs": [
    {
     "data": {
      "text/plain": [
       "[0.5,\n",
       " 0.75,\n",
       " 0.875,\n",
       " 0.9375,\n",
       " 0.96875,\n",
       " 0.984375,\n",
       " 0.9921875,\n",
       " 0.99609375,\n",
       " 0.998046875,\n",
       " 0.9990234375,\n",
       " 0.99951171875,\n",
       " 0.999755859375,\n",
       " 0.9998779296875,\n",
       " 0.99993896484375,\n",
       " 0.999969482421875,\n",
       " 0.9999847412109375,\n",
       " 0.9999923706054688,\n",
       " 0.9999961853027344,\n",
       " 0.9999980926513672,\n",
       " 0.9999990463256836]"
      ]
     },
     "execution_count": 5,
     "metadata": {},
     "output_type": "execute_result"
    }
   ],
   "source": [
    "LinearUF_RSVI[0.5]._policy_value[0][0]"
   ]
  },
  {
   "cell_type": "markdown",
   "metadata": {},
   "source": [
    "## Quadratic - Polynomial Utility Function"
   ]
  },
  {
   "cell_type": "code",
   "execution_count": 6,
   "metadata": {
    "ExecuteTime": {
     "end_time": "2023-10-02T23:49:49.151948Z",
     "start_time": "2023-10-02T23:49:49.031288Z"
    }
   },
   "outputs": [
    {
     "name": "stdout",
     "output_type": "stream",
     "text": [
      "Processando: Slope1 [0.5] | Slope2 [0.5]\r"
     ]
    },
    {
     "name": "stderr",
     "output_type": "stream",
     "text": [
      "..\\services\\ErrorMetrics.py:18: RuntimeWarning: invalid value encountered in double_scalars\n",
      "  residual.append(abs((V1[i] - V2[i])/V2[i]))\n"
     ]
    },
    {
     "data": {
      "text/plain": [
       "dict_keys([(0.5, 0.5)])"
      ]
     },
     "metadata": {},
     "output_type": "display_data"
    },
    {
     "data": {
      "text/html": [
       "<div>\n",
       "<style scoped>\n",
       "    .dataframe tbody tr th:only-of-type {\n",
       "        vertical-align: middle;\n",
       "    }\n",
       "\n",
       "    .dataframe tbody tr th {\n",
       "        vertical-align: top;\n",
       "    }\n",
       "\n",
       "    .dataframe thead th {\n",
       "        text-align: right;\n",
       "    }\n",
       "</style>\n",
       "<table border=\"1\" class=\"dataframe\">\n",
       "  <thead>\n",
       "    <tr style=\"text-align: right;\">\n",
       "      <th></th>\n",
       "      <th>0</th>\n",
       "      <th>sG</th>\n",
       "    </tr>\n",
       "  </thead>\n",
       "  <tbody>\n",
       "    <tr>\n",
       "      <th>Policy (0.5, 0.5)</th>\n",
       "      <td>0</td>\n",
       "      <td>0</td>\n",
       "    </tr>\n",
       "  </tbody>\n",
       "</table>\n",
       "</div>"
      ],
      "text/plain": [
       "                   0  sG\n",
       "Policy (0.5, 0.5)  0   0"
      ]
     },
     "metadata": {},
     "output_type": "display_data"
    }
   ],
   "source": [
    "QuadraticUF_RSVI = {}\n",
    "    \n",
    "# range_lambda = [np.round(-0.5 + 0.5*i/10, 2) for i in range(0, 20)] \n",
    "range_slope1 = [0.5]\n",
    "range_slope2 = [0.5]\n",
    "\n",
    "for vl_slope1 in range_slope1:\n",
    "    for vl_slope2 in range_slope2:\n",
    "        print(f'Processando: Slope1 [{vl_slope1}] | Slope2 [{vl_slope2}]', end='\\r')\n",
    "        QuadraticUF_RSVI[(vl_slope1, vl_slope2)] = \\\n",
    "            nbe.run_driving_license(s_mdp, T, C, actions, model=QuadraticUtility_RSVI, model_name='QuadraticUF_RSVI',\n",
    "            vl_slope1=vl_slope1, vl_slope2=vl_slope2, epsilon=epsilon, _log=False)\n",
    "\n",
    "display(QuadraticUF_RSVI.keys())\n",
    "\n",
    "df_QuadraticUF_RSVI = nbm.build_dataframe_driver_license(QuadraticUF_RSVI)\n",
    "display(df_QuadraticUF_RSVI)"
   ]
  },
  {
   "cell_type": "code",
   "execution_count": 7,
   "metadata": {
    "ExecuteTime": {
     "end_time": "2023-10-02T23:49:49.260471Z",
     "start_time": "2023-10-02T23:49:49.153448Z"
    }
   },
   "outputs": [
    {
     "data": {
      "text/plain": [
       "[1.0,\n",
       " 1.5,\n",
       " 1.75,\n",
       " 1.875,\n",
       " 1.9375,\n",
       " 1.96875,\n",
       " 1.984375,\n",
       " 1.9921875,\n",
       " 1.99609375,\n",
       " 1.998046875,\n",
       " 1.9990234375,\n",
       " 1.99951171875,\n",
       " 1.999755859375,\n",
       " 1.9998779296875,\n",
       " 1.99993896484375,\n",
       " 1.999969482421875,\n",
       " 1.9999847412109375,\n",
       " 1.9999923706054688,\n",
       " 1.9999961853027344,\n",
       " 1.9999980926513672]"
      ]
     },
     "execution_count": 7,
     "metadata": {},
     "output_type": "execute_result"
    }
   ],
   "source": [
    "QuadraticUF_RSVI[(0.5, 0.5)]._policy_value[0][0]"
   ]
  },
  {
   "cell_type": "markdown",
   "metadata": {},
   "source": [
    "# Linear Utility Function"
   ]
  },
  {
   "cell_type": "code",
   "execution_count": 8,
   "metadata": {
    "ExecuteTime": {
     "end_time": "2023-10-02T23:49:49.369046Z",
     "start_time": "2023-10-02T23:49:49.261971Z"
    }
   },
   "outputs": [],
   "source": [
    "def lup(p, c, beta, const, p_line):\n",
    "    return ((beta * c * p_line) + (p + p_line) * const) / (beta * p)\n",
    "\n",
    "def captura_limite_empirico_lup(range_beta, p, c, const, p_line, tipo_limite, _plot=True):\n",
    "    res = {}\n",
    "    \n",
    "    for beta in range_beta:\n",
    "        res[round(beta, 2)] = lup(p, c, round(beta, 2), const, p_line)\n",
    "        \n",
    "    if _plot: plt.plot(res.keys(), [v[1] for v in res.items()])\n",
    "        \n",
    "    aproximacao_limite = res[next(iter(res))] if tipo_limite == 'Inferior' else res[next(reversed(res))]\n",
    "    return res, aproximacao_limite"
   ]
  },
  {
   "cell_type": "code",
   "execution_count": 36,
   "metadata": {
    "ExecuteTime": {
     "end_time": "2023-10-03T00:06:42.273160Z",
     "start_time": "2023-10-03T00:06:25.127264Z"
    }
   },
   "outputs": [
    {
     "name": "stdout",
     "output_type": "stream",
     "text": [
      "Limite [Inferior] para p=[0.05] tende a: -0.99\n",
      "Limite [Inferior] para p=[0.1] tende a: -0.99\n",
      "Limite [Inferior] para p=[0.15] tende a: -0.99\n",
      "Limite [Inferior] para p=[0.2] tende a: -0.99\n",
      "Limite [Inferior] para p=[0.25] tende a: -0.99\n",
      "Limite [Inferior] para p=[0.3] tende a: -0.98\n",
      "Limite [Inferior] para p=[0.35] tende a: -0.98\n",
      "Limite [Inferior] para p=[0.4] tende a: -0.98\n",
      "Limite [Inferior] para p=[0.45] tende a: -0.98\n",
      "Limite [Inferior] para p=[0.5] tende a: -0.98\n",
      "Limite [Inferior] para p=[0.55] tende a: -0.98\n",
      "Limite [Inferior] para p=[0.6] tende a: -0.98\n",
      "Limite [Inferior] para p=[0.65] tende a: -0.98\n",
      "Limite [Inferior] para p=[0.7] tende a: -0.98\n",
      "Limite [Inferior] para p=[0.75] tende a: -0.98\n",
      "Limite [Inferior] para p=[0.8] tende a: -0.97\n",
      "Limite [Inferior] para p=[0.85] tende a: -0.97\n",
      "Limite [Inferior] para p=[0.9] tende a: -0.97\n",
      "Limite [Inferior] para p=[0.95] tende a: -0.97\n"
     ]
    },
    {
     "data": {
      "image/png": "[encoded data removed]",
      "text/plain": [
       "<Figure size 432x288 with 1 Axes>"
      ]
     },
     "metadata": {
      "needs_background": "light"
     },
     "output_type": "display_data"
    }
   ],
   "source": [
    "rini_beta, rend_beta, step_beta = -1000, -1, 0.01\n",
    "range_beta = np.arange(rini_beta, rend_beta, step_beta)\n",
    "p, c = 0.5, 1\n",
    "const = 1\n",
    "\n",
    "limite_inferior_vetor_luf = {}\n",
    "limite_inferior_luf = {}\n",
    "\n",
    "for p_line in range_x:\n",
    "    p_line = round(p_line, 2)\n",
    "    limite_inferior_vetor_luf[p_line], limite_inferior_luf[p_line] = \\\n",
    "        captura_limite_empirico_lup(range_beta, p, c, const, p_line, tipo_limite='Superior')\n",
    "    \n",
    "    print(f'Limite [Inferior] para p=[{p_line}] tende a: {np.round(limite_inferior_luf[p_line], 2)}')"
   ]
  },
  {
   "cell_type": "code",
   "execution_count": 33,
   "metadata": {
    "ExecuteTime": {
     "end_time": "2023-10-03T00:05:49.941127Z",
     "start_time": "2023-10-03T00:05:49.614079Z"
    }
   },
   "outputs": [
    {
     "name": "stdout",
     "output_type": "stream",
     "text": [
      "Limite [Superior] para p=[0.05] tende a: 0.1\n",
      "Limite [Superior] para p=[0.1] tende a: 0.2\n",
      "Limite [Superior] para p=[0.15] tende a: 0.3\n",
      "Limite [Superior] para p=[0.2] tende a: 0.4\n",
      "Limite [Superior] para p=[0.25] tende a: 0.5\n",
      "Limite [Superior] para p=[0.3] tende a: 0.6\n",
      "Limite [Superior] para p=[0.35] tende a: 0.7\n",
      "Limite [Superior] para p=[0.4] tende a: 0.8\n",
      "Limite [Superior] para p=[0.45] tende a: 0.9\n",
      "Limite [Superior] para p=[0.5] tende a: 1.0\n",
      "Limite [Superior] para p=[0.55] tende a: 1.1\n",
      "Limite [Superior] para p=[0.6] tende a: 1.2\n",
      "Limite [Superior] para p=[0.65] tende a: 1.3\n",
      "Limite [Superior] para p=[0.7] tende a: 1.4\n",
      "Limite [Superior] para p=[0.75] tende a: 1.5\n",
      "Limite [Superior] para p=[0.8] tende a: 1.6\n",
      "Limite [Superior] para p=[0.85] tende a: 1.7\n",
      "Limite [Superior] para p=[0.9] tende a: 1.8\n",
      "Limite [Superior] para p=[0.95] tende a: 1.9\n"
     ]
    },
    {
     "data": {
      "image/png": "[encoded data removed]",
      "text/plain": [
       "<Figure size 432x288 with 1 Axes>"
      ]
     },
     "metadata": {
      "needs_background": "light"
     },
     "output_type": "display_data"
    }
   ],
   "source": [
    "rini_beta, rend_beta, step_beta = 1, 1000, 1\n",
    "range_beta = np.arange(rini_beta, rend_beta, step_beta)\n",
    "p, c = 0.5, 1\n",
    "const = 1\n",
    "\n",
    "limite_superior_vetor_luf = {}\n",
    "limite_superior_luf = {}\n",
    "\n",
    "for p_line in range_x:\n",
    "    p_line = round(p_line, 2)\n",
    "    limite_superior_vetor_luf[p_line], limite_superior_luf[p_line] = \\\n",
    "        captura_limite_empirico_lup(range_beta, p, c, const, p_line, tipo_limite='Superior')\n",
    "    \n",
    "    print(f'Limite [Superior] para p=[{p_line}] tende a: {np.round(limite_superior_luf[p_line], 2)}')"
   ]
  },
  {
   "cell_type": "code",
   "execution_count": 34,
   "metadata": {
    "ExecuteTime": {
     "end_time": "2023-10-03T00:05:50.649468Z",
     "start_time": "2023-10-03T00:05:50.450234Z"
    }
   },
   "outputs": [
    {
     "data": {
      "text/plain": [
       "<matplotlib.lines.Line2D at 0x158abc6f9d0>"
      ]
     },
     "execution_count": 34,
     "metadata": {},
     "output_type": "execute_result"
    },
    {
     "data": {
      "image/png": "[encoded data removed]",
      "text/plain": [
       "<Figure size 432x288 with 1 Axes>"
      ]
     },
     "metadata": {
      "needs_background": "light"
     },
     "output_type": "display_data"
    }
   ],
   "source": [
    "plt.plot(range_x, limite_superior_luf.values())\n",
    "plt.plot(range_x, limite_inferior_luf.values()) \n",
    "plt.axvline(x=0.5, color='g')"
   ]
  }
 ],
 "metadata": {
  "hide_input": false,
  "kernelspec": {
   "display_name": "Python 3",
   "language": "python",
   "name": "python3"
  },
  "language_info": {
   "codemirror_mode": {
    "name": "ipython",
    "version": 3
   },
   "file_extension": ".py",
   "mimetype": "text/x-python",
   "name": "python",
   "nbconvert_exporter": "python",
   "pygments_lexer": "ipython3",
   "version": "3.8.5"
  },
  "toc": {
   "base_numbering": 1,
   "nav_menu": {},
   "number_sections": true,
   "sideBar": true,
   "skip_h1_title": false,
   "title_cell": "Table of Contents",
   "title_sidebar": "Contents",
   "toc_cell": false,
   "toc_position": {},
   "toc_section_display": true,
   "toc_window_display": false
  }
 },
 "nbformat": 4,
 "nbformat_minor": 4
}
